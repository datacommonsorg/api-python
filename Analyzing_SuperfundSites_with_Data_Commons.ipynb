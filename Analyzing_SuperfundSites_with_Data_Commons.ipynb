{
  "cells": [
    {
      "cell_type": "markdown",
      "metadata": {
        "id": "view-in-github",
        "colab_type": "text"
      },
      "source": [
        "<a href=\"https://colab.research.google.com/github/pradh/api-python/blob/superfund1/Analyzing_SuperfundSites_with_Data_Commons.ipynb\" target=\"_parent\"><img src=\"https://colab.research.google.com/assets/colab-badge.svg\" alt=\"Open In Colab\"/></a>"
      ]
    },
    {
      "cell_type": "markdown",
      "metadata": {
        "id": "OJ_kWT4iDMaM"
      },
      "source": [
        "Copyright 2022 Google LLC.\n",
        "SPDX-License-Identifier: Apache-2.0\n",
        "\n",
        "**Notebook Version** - 1.0.0"
      ]
    },
    {
      "cell_type": "markdown",
      "metadata": {
        "id": "QJoxQoY48gHc"
      },
      "source": [
        "## Analyzing SuperfundSites with Data Commons\n",
        "\n",
        "This information, stored in Data Commons, is available to everyone for data science projects, education, and exploration. \n",
        "\n",
        "This tutorial introduces the Data Commons graph and two of its tools: (1) the [browser](https://browser.datacommons.org/) and (2) the [Pandas API](https://github.com/datacommonsorg/api-pandas).\n",
        "\n",
        "### Data Commons Browser\n",
        "\n",
        "The [Data Commons browser](https://browser.datacommons.org/) provides a way to explore the data in a human-readable format. It is the best way to explore what is in Data Commons. \n",
        "\n",
        "An important property for all entities is the **`dcid`**. The `dcid` (Data Commons identifier) is a unique identifier assigned to each entity in the knowledge graph. With this identifier, one will be able to search for and query information on the given entity in ways that we will discuss later. The `dcid` is listed at the top of the page next to \"About: \" and also in the list of properties.\n",
        "\n",
        "### Accessing statistics through APIs\n",
        "Currently there are three ways in which statistics from then Data Commons graph can be obtained, namely:\n",
        "\n",
        "1. [Python API](https://docs.datacommons.org/api/python/) - a lightweight python wrapper \n",
        "2. The [Pandas API](https://github.com/datacommonsorg/api-pandas) provides functions for users to extract structured information from Data Commons programmatically and view them in different formats such as Python dicts and [pandas](https://pandas.pydata.org/) DataFrames. DataFrames allow access to all the data processing, analytical and visualization tools provided by packages such as pandas, NumPy, SciPy, and Matplotlib.\n",
        "3. [REST API endpoints](https://docs.datacommons.org/api/rest/) - a common, language agnostic means to access stats\n",
        "\n",
        "### About this notebook\n",
        "This notebook presents how different Data Commons APIs work with example snippets to extract statistics from the knowledge graph. The notebook will provide code snippets that can better showcase how data can be used for visualization and analysis. Specifically, the notebook uses statistics available on Superfund Sites and Demographics as examples, but the snippets can be used for statistics in other verticals like Climate, Economics, Health, etc.\n",
        "\n"
      ]
    },
    {
      "cell_type": "code",
      "execution_count": null,
      "metadata": {
        "id": "vD2mErj68Q1F"
      },
      "outputs": [],
      "source": [
        "# Refer: https://docs.datacommons.org/api/pandas/\n",
        "!pip install datacommons_pandas datacommons geopandas plotly descartes --upgrade --quiet\n",
        "\n",
        "# Import Data Commons\n",
        "import datacommons as dc\n",
        "import datacommons_pandas as dpd\n",
        "\n",
        "# Import other required libraries\n",
        "import matplotlib.pyplot as plt\n",
        "import matplotlib.patches as mpatches\n",
        "import pandas as pd\n",
        "import geopandas as gpd\n",
        "from shapely.geometry import Point\n",
        "import plotly.express as px\n",
        "from descartes import PolygonPatch\n",
        "\n",
        "import ipywidgets as widgets\n",
        "import pprint\n",
        "import requests\n",
        "import json\n",
        "\n",
        "# setting place scope to US\n",
        "_USA = 'country/USA'"
      ]
    },
    {
      "cell_type": "markdown",
      "metadata": {
        "id": "ocd8TI35EA06"
      },
      "source": [
        "### Querying Statistics from Data Commons\n",
        "\n",
        "Data Commons has a large corpus of statistical data, which can be queried and joined with other statistics. For example, we can query the  median income of women living in Berkeley, California or the number of individuals who are insured in Maryland. \n",
        "\n",
        "Before we explore how to do this, we need to understand how Data Commons stores statistical data. In particular, there are two types of entities: [StatisticalVariable](https://browser.datacommons.org/kg?dcid=StatisticalVariable) and [StatVarObservation](https://browser.datacommons.org/kg?dcid=StatVarObservation).\n",
        "\n",
        "A StatisticalVariable represents any type of statistical metric that can be measured at a place and time. Some examples include: median income, median income of females, number of high school graduates, unemployment rate, prevalence of diabetes, essentially anything one might call a metric, statistic, or measure. A StatVarObservation represents an actual measurement of a StatisticalVariable in a given place and time.\n",
        "\n",
        "One example of a StatisticalVariable is the median age of people in San Antonio, Texas in 2014. The statistical metric, time, and place here are median age, 2014, and San Antonio respectively. A list of StatisticalVariables can be found [here](http://docs.datacommons.org/statistical_variables.html). To read more about StatisticalVariable and StatVarObservation, please see [representing_statistics.md](https://github.com/datacommonsorg/data/blob/master/docs/representing_statistics.md).\n",
        "\n",
        "Data Commons defines APIs allowing us to fetch data over these two types. To begin with, we can use the [**`build_multivariate_dataframe`**](https://docs.datacommons.org/api/pandas/multivariate_dataframe.html) function to build a dataframe with the latest StatVarObservations of multiple StatisticalVariables for multiple places.\n",
        "\n",
        "Now, we start of with some code snippets where we use the Data Commons API to pull out statistics from the Data Commons graph."
      ]
    },
    {
      "cell_type": "markdown",
      "metadata": {
        "id": "SbnQVUDN-CzH"
      },
      "source": [
        "## Demo 1 - List of all superfund sites\n",
        "\n",
        "In this first demo, we will be starting off by getting all the [superfund sites](https://en.wikipedia.org/wiki/List_of_Superfund_sites) that are located across the United States. Since, we will be fetching statistics from the United States, we have pre-defined the base place in variable `usa` with the value `country/USA`. \n",
        "\n",
        "Note: `country/USA` is a unique identifier to a node on the Data Commons Graph which defines [United States](https://datacommons.org/browser/country/USA)"
      ]
    },
    {
      "cell_type": "code",
      "execution_count": null,
      "metadata": {
        "id": "VqybWC6XKr6j",
        "cellView": "form"
      },
      "outputs": [],
      "source": [
        "#@title Select place types\n",
        "\n",
        "#@markdown *Select `Runtime > Run all` from the menu above after filling up the values.*\n",
        "\n",
        "#@markdown Select a geo-level for querying statistics. Select 'State' for a quick demo\n",
        "US_GEO_LEVEL = 'State' #@param [\"State\", \"Country\", \"County\"] {allow-input: true}"
      ]
    },
    {
      "cell_type": "markdown",
      "metadata": {
        "id": "t0VGnxiSR6aD"
      },
      "source": [
        "Now, that a GEO_LEVEL is selected for viewing different statistics, we shall fetch all the places within the GEO_LEVEL that are present in the Data Commons Graph.\n",
        "\n",
        "### Get places contained in the selected place type\n",
        "\n",
        "So, if \"State\" is selected as the GEO_LEVEL, we will get a list of Data Common Graph ids for all the States in the US. Where each place id refers to a unique node on the graph which describes the place with different constraint properties, like the `typeOf` place which quantifies if the place is a State, or other administrative division applicable. \n",
        "\n",
        "This is done using the [`get_places_in`](https://docs.datacommons.org/api/python/place_in.html) API method."
      ]
    },
    {
      "cell_type": "code",
      "execution_count": null,
      "metadata": {
        "id": "i8dsWq92MpzA",
        "colab": {
          "base_uri": "https://localhost:8080/"
        },
        "outputId": "14ad9b3b-0253-4b3c-ca63-ba79b785999d"
      },
      "outputs": [
        {
          "output_type": "stream",
          "name": "stdout",
          "text": [
            "['geoId/01', 'geoId/02', 'geoId/04', 'geoId/05', 'geoId/06']\n"
          ]
        }
      ],
      "source": [
        "# get the dcids for all the places in the selected place type across US\n",
        "if US_GEO_LEVEL == 'Country':\n",
        "  # if geo-level is a country, then we look at the US\n",
        "  _PLACE_DCID = _USA\n",
        "else:\n",
        "  # else, we extract the place ids for the selected geo-level\n",
        "  _PLACE_DCID = dc.get_places_in([_USA], US_GEO_LEVEL)[_USA]\n",
        "\n",
        "# printing the first 5 places that we fetch from Data Commons\n",
        "if type(_PLACE_DCID) is list:\n",
        "    print(_PLACE_DCID[:5])\n",
        "else:\n",
        "    print(_PLACE_DCID)"
      ]
    },
    {
      "cell_type": "markdown",
      "metadata": {
        "id": "s71ffKOHdEsn"
      },
      "source": [
        "### Select a place by name\n",
        "\n",
        "While querying the Data Commons Graph for statistics about a place we will use a place's id like [`geoId/01`](https://datacommons.org/browser/geoId/01) is for the state of Alabama, US.\n",
        "\n",
        ">TIP: While looking to browse the statistics available for a particular place, one can use the URL constructed as `https://datacommons.org/browser/<place_dcid>`. Here `<place_dcid>` refers to the unique id for a node in the above example, it will be `geoId/01`.\n",
        "\n",
        "To make the queried place ids human-readable, we can extract the `name` property of the place node which can be searched on the [graph browser](https://datacommons.org/browser/geoId/01), using the [`get_property_values`](https://docs.datacommons.org/api/python/property_value.html) API method."
      ]
    },
    {
      "cell_type": "code",
      "execution_count": null,
      "metadata": {
        "id": "VcEKb7spT5rU",
        "colab": {
          "base_uri": "https://localhost:8080/",
          "height": 101,
          "referenced_widgets": [
            "e86121a3dee84467911d601c450f076f",
            "2f1164c04f504f80beb625de92bbfa17",
            "2e5a9eb31a424a8db158822f155d85db"
          ]
        },
        "outputId": "97fa64cf-d554-4199-f0fb-1a448b24baf6"
      },
      "outputs": [
        {
          "output_type": "stream",
          "name": "stdout",
          "text": [
            "Fetching the place will take time based on the summary level and number of place nodes.....Done.\n",
            "\n",
            "Select a place from the list to use for the remainder of the notebook.\n"
          ]
        },
        {
          "output_type": "display_data",
          "data": {
            "application/vnd.jupyter.widget-view+json": {
              "model_id": "e86121a3dee84467911d601c450f076f",
              "version_minor": 0,
              "version_major": 2
            },
            "text/plain": [
              "Dropdown(options=('Alabama', 'Alaska', 'Arizona', 'Arkansas', 'California', 'Colorado', 'Connecticut', 'Delawa…"
            ]
          },
          "metadata": {}
        }
      ],
      "source": [
        "# populate a list of options based on name for non-country GEO-LEVELS\n",
        "\n",
        "def get_names_for_place_ids(place_id_list):\n",
        "  \"\"\"\n",
        "  This function takes as input a list of place ids and returns the corresponding place names from the Data Commons Graph\n",
        "  \"\"\"\n",
        "  print(\"Fetching the place will take time based on the summary level and number of place nodes\", end=\".....\", flush=True)\n",
        "  try:\n",
        "    # get the place names for non-country GEO-LEVELS\n",
        "    place_name_list = [dc.get_property_values([place_id], 'name')[place_id][0] for place_id in place_id_list]\n",
        "  except:\n",
        "    place_name_list = dc.get_property_values([_USA], 'name')[_USA]\n",
        "\n",
        "  print('Done.\\n', flush=True)\n",
        "  return place_name_list\n",
        "\n",
        "_PLACE_NAMES = get_names_for_place_ids(_PLACE_DCID)\n",
        "\n",
        "print(\"Select a place from the list to use for the remainder of the notebook.\")\n",
        "selected_place = widgets.Dropdown(options=_PLACE_NAMES, value=_PLACE_NAMES[0])\n",
        "display(selected_place)"
      ]
    },
    {
      "cell_type": "code",
      "execution_count": null,
      "metadata": {
        "id": "kexiYzYvT5-l"
      },
      "outputs": [],
      "source": [
        "# get the value of the selected place from the drop-down\n",
        "selected_place_choice = selected_place.value\n",
        "\n",
        "# get the place's id on the Data Commons Graph by name\n",
        "if type(_PLACE_DCID) == list:\n",
        "  place_dcid = _PLACE_DCID[_PLACE_NAMES.index(selected_place_choice)]\n",
        "else:\n",
        "  place_dcid = _PLACE_DCID"
      ]
    },
    {
      "cell_type": "code",
      "execution_count": null,
      "metadata": {
        "id": "b9tRRw_JT6G5",
        "colab": {
          "base_uri": "https://localhost:8080/",
          "height": 35
        },
        "outputId": "bb208982-dba0-4845-f395-dd117d77d0b2"
      },
      "outputs": [
        {
          "output_type": "execute_result",
          "data": {
            "application/vnd.google.colaboratory.intrinsic+json": {
              "type": "string"
            },
            "text/plain": [
              "'geoId/01'"
            ]
          },
          "metadata": {},
          "execution_count": 6
        }
      ],
      "source": [
        "place_dcid"
      ]
    },
    {
      "cell_type": "markdown",
      "metadata": {
        "id": "Xx9lfzi8hJLP"
      },
      "source": [
        "### Get all superfund sites (by id) in the selected place\n",
        "\n",
        "Now, let us get a list of all the superfund sites that are found in the selected place.\n",
        "\n",
        "For this we use the [`get_places_in`](https://docs.datacommons.org/api/python/place_in.html) API method but set the placeType or the second argument to the function call to be [`SuperfundSite`](https://datacommons.org/browser/SuperfundSite)\n",
        "\n",
        "---\n",
        "\n"
      ]
    },
    {
      "cell_type": "code",
      "execution_count": null,
      "metadata": {
        "id": "8ceIHqoy9wa3",
        "colab": {
          "base_uri": "https://localhost:8080/"
        },
        "outputId": "04274c8d-a742-4a4d-b1e8-9337583dd8a3"
      },
      "outputs": [
        {
          "output_type": "execute_result",
          "data": {
            "text/plain": [
              "['epaSuperfundSiteId/AL3210020027',\n",
              " 'epaSuperfundSiteId/AL6210020008',\n",
              " 'epaSuperfundSiteId/AL7210020742',\n",
              " 'epaSuperfundSiteId/ALD001221902',\n",
              " 'epaSuperfundSiteId/ALD004022448']"
            ]
          },
          "metadata": {},
          "execution_count": 17
        }
      ],
      "source": [
        "superfund_sites = dc.get_places_in([place_dcid], 'SuperfundSite')[place_dcid]\n",
        "\n",
        "# printing the first 5 superfund sites that we fetch from Data Commons\n",
        "superfund_sites[:5]"
      ]
    },
    {
      "cell_type": "markdown",
      "metadata": {
        "id": "o2AOdt78qUg_"
      },
      "source": [
        "### Get all superfund sites (by name) in the selected place\n",
        "\n",
        "Similar to how the place names were looked up for place dcids associated with a geo-level, the same to fetch names of superfund sites, as shown in this snippet of code."
      ]
    },
    {
      "cell_type": "code",
      "execution_count": null,
      "metadata": {
        "id": "CsCeNsjFRhzp",
        "colab": {
          "base_uri": "https://localhost:8080/"
        },
        "outputId": "3f28301f-dbc5-49ba-bc1c-cd0618d9f94d"
      },
      "outputs": [
        {
          "output_type": "stream",
          "name": "stdout",
          "text": [
            "Fetching the place will take time based on the summary level and number of place nodes.....Done.\n",
            "\n"
          ]
        },
        {
          "output_type": "execute_result",
          "data": {
            "text/plain": [
              "['Anniston Army Depot (Southeast Industrial Area)',\n",
              " 'Alabama Army Ammunition Plant',\n",
              " 'Redstone Arsenal (USARMY/NASA)',\n",
              " 'Ciba-Geigy Corp. (McIntosh Plant)',\n",
              " 'Alabama Plating Company Inc.']"
            ]
          },
          "metadata": {},
          "execution_count": 18
        }
      ],
      "source": [
        "# get names for superfund sites in the selected place\n",
        "site_names = get_names_for_place_ids(superfund_sites)\n",
        "\n",
        "# printing the names of first 5 superfund sites that we fetch from Data Commons\n",
        "site_names[:5]"
      ]
    },
    {
      "cell_type": "markdown",
      "metadata": {
        "id": "zxRBNf5s-JzS"
      },
      "source": [
        "## Demo 2 - Pick a property for all superfund sites\n",
        "\n",
        "In this demo example, we continue exploring a superfund site node.\n",
        "\n",
        "### Select a superfund site"
      ]
    },
    {
      "cell_type": "code",
      "execution_count": null,
      "metadata": {
        "id": "8h6ktcK2vQGd",
        "colab": {
          "base_uri": "https://localhost:8080/",
          "height": 66,
          "referenced_widgets": [
            "8794d888dc834c1cad49e577a95736a4",
            "e1eb411fba2a42b783282223aa7c6ce7",
            "d5670d1d5dda4c479d70627d752ba8c1"
          ]
        },
        "outputId": "1373981f-4c0a-4054-86bc-8353f0405614"
      },
      "outputs": [
        {
          "output_type": "stream",
          "name": "stdout",
          "text": [
            "Select a superfund site from the list to use for the remainder of the notebook.\n"
          ]
        },
        {
          "output_type": "display_data",
          "data": {
            "application/vnd.jupyter.widget-view+json": {
              "model_id": "8794d888dc834c1cad49e577a95736a4",
              "version_minor": 0,
              "version_major": 2
            },
            "text/plain": [
              "Dropdown(options=('Anniston Army Depot (Southeast Industrial Area)', 'Alabama Army Ammunition Plant', 'Redston…"
            ]
          },
          "metadata": {}
        }
      ],
      "source": [
        "print(\"Select a superfund site from the list to use for the remainder of the notebook.\")\n",
        "selected_site = widgets.Dropdown(options=site_names, value=site_names[0])\n",
        "display(selected_site)"
      ]
    },
    {
      "cell_type": "code",
      "execution_count": null,
      "metadata": {
        "id": "LqizAnV5vkCn",
        "colab": {
          "base_uri": "https://localhost:8080/",
          "height": 35
        },
        "outputId": "b117b668-f79d-45ee-c7ed-c18f98ad4a3c"
      },
      "outputs": [
        {
          "output_type": "execute_result",
          "data": {
            "application/vnd.google.colaboratory.intrinsic+json": {
              "type": "string"
            },
            "text/plain": [
              "'epaSuperfundSiteId/AL3210020027'"
            ]
          },
          "metadata": {},
          "execution_count": 20
        }
      ],
      "source": [
        "# get the value of the selected place from the drop-down\n",
        "selected_site_choice = selected_site.value\n",
        "\n",
        "# get the place's id on the Data Commons Graph by name\n",
        "site_dcid = superfund_sites[site_names.index(selected_site_choice)]\n",
        "\n",
        "# print the site_dcid\n",
        "site_dcid"
      ]
    },
    {
      "cell_type": "markdown",
      "metadata": {
        "id": "Y2xWmEdVv_Hg"
      },
      "source": [
        "### Understanding how superfund sites are represented in Data Commons\n",
        "\n",
        "\n",
        "Let us start by getting all the properties a superfund site node has in the Data Commons Graph.\n",
        "\n",
        "For example the [Tar Creek](https://datacommons.org/browser/epaSuperfundSiteId/OKD980629844) superfund site has the following properties:\n",
        "1. 'containedInPlace' - list of places within which the site is contained. Example: Ottawa County, Oklahoma State, US.\n",
        "2. 'epaRegionCode' - integer value representing the epaRegionCode for the site. For Tar Creek, the EPA region is 9.\n",
        "3. 'epaSuperfundSiteId' - a unique identifier property for each site, which is constructed by prefixing the EPA ID for a superfund site with `epaSuperfundSiteId`. For Tar Creek, this property has the value `epaSuperfundSiteId/OKD980629844`\n",
        "4. 'location' - An autogenearted node reference which is generated using the latitude and longitude of the site\n",
        "5. 'name' - name of the site\n",
        "6. 'typeOf' - indicates the type of the node: `SuperfundSite`\n",
        "7. 'provenance' - indicates the domain for the dataset source to generate the triple of (subject, predicate, object) \n",
        "\n",
        "For any node on the Data Commons Graph, the properties it has can be queried using the [`get_property_labels`](https://docs.datacommons.org/api/python/property_label.html) API method."
      ]
    },
    {
      "cell_type": "code",
      "execution_count": null,
      "metadata": {
        "id": "dLq0ZVZM-PHr",
        "colab": {
          "base_uri": "https://localhost:8080/"
        },
        "outputId": "82149662-7f8f-4148-aa3a-72d8b5256a9b"
      },
      "outputs": [
        {
          "output_type": "execute_result",
          "data": {
            "text/plain": [
              "{'epaSuperfundSiteId/AL3210020027': ['containedInPlace',\n",
              "  'epaRegionCode',\n",
              "  'epaSuperfundSiteId',\n",
              "  'establishmentOwnership',\n",
              "  'location',\n",
              "  'name',\n",
              "  'provenance',\n",
              "  'typeOf']}"
            ]
          },
          "metadata": {},
          "execution_count": 21
        }
      ],
      "source": [
        "dc.get_property_labels([site_dcid], out=True)"
      ]
    },
    {
      "cell_type": "markdown",
      "metadata": {
        "id": "GkDR0tlWvEtQ"
      },
      "source": [
        "### Get values of properties of a superfund site\n",
        "\n",
        "Similar to getting the properties of superfund site, it is also possible to get the values associated with the different properties. \n",
        "\n",
        "To get the values associated with the properties for the selected superfund site, we use the [`get_property_values`](https://docs.datacommons.org/api/python/property_label.html) API method.\n",
        "\n",
        "For example, let us see the values for the `containedInPlace` property which gives a list of places within which the superfund site lies in:"
      ]
    },
    {
      "cell_type": "code",
      "execution_count": null,
      "metadata": {
        "id": "KUeehObcQ49-",
        "colab": {
          "base_uri": "https://localhost:8080/"
        },
        "outputId": "10057c88-dadc-4fdb-9cd7-7c8a585d25fe"
      },
      "outputs": [
        {
          "output_type": "execute_result",
          "data": {
            "text/plain": [
              "{'epaSuperfundSiteId/AL3210020027': ['geoId/01',\n",
              "  'geoId/01015',\n",
              "  'geoId/0101590099',\n",
              "  'geoId/01015981901',\n",
              "  'geoId/0103']}"
            ]
          },
          "metadata": {},
          "execution_count": 22
        }
      ],
      "source": [
        "dc.get_property_values([site_dcid], prop='containedInPlace', out=True)"
      ]
    },
    {
      "cell_type": "markdown",
      "metadata": {
        "id": "48YFNK-RcaT8"
      },
      "source": [
        "The values of `containedInPlace` is a list of the places ids in Data Commons. We can do another query on the list of places to get their names using the same API, as shown in this example,"
      ]
    },
    {
      "cell_type": "code",
      "execution_count": null,
      "metadata": {
        "id": "DI28GsHOCcGL",
        "colab": {
          "base_uri": "https://localhost:8080/"
        },
        "outputId": "5a12c3d7-f86b-47ee-dea5-20062d0bbb35"
      },
      "outputs": [
        {
          "output_type": "execute_result",
          "data": {
            "text/plain": [
              "{'geoId/01': ['Alabama'],\n",
              " 'geoId/01015': ['Calhoun County'],\n",
              " 'geoId/0101590099': ['Anniston CCD', 'Anniston CCD, Calhoun County, Alabama'],\n",
              " 'geoId/01015981901': ['Census Tract 9819.01, Calhoun County, Alabama'],\n",
              " 'geoId/0103': ['Congressional District 3 (113th Congress), Alabama']}"
            ]
          },
          "metadata": {},
          "execution_count": 23
        }
      ],
      "source": [
        "## get a list of places for containedInPlace\n",
        "contained_places = dc.get_property_values([site_dcid], prop='containedInPlace', out=True)[site_dcid]\n",
        "dc.get_property_values(contained_places, prop='name', out=True)"
      ]
    },
    {
      "cell_type": "markdown",
      "metadata": {
        "id": "IYSLPSYy4vgl"
      },
      "source": [
        "Similarly, we can see the type of place using the `typeOf` property for the above example"
      ]
    },
    {
      "cell_type": "code",
      "execution_count": null,
      "metadata": {
        "id": "QLsiziy744wM",
        "colab": {
          "base_uri": "https://localhost:8080/"
        },
        "outputId": "25b305fb-dab3-49e6-9f76-37ab84619a4d"
      },
      "outputs": [
        {
          "output_type": "execute_result",
          "data": {
            "text/plain": [
              "{'geoId/01': ['AdministrativeArea1', 'State'],\n",
              " 'geoId/01015': ['AdministrativeArea2', 'County'],\n",
              " 'geoId/0101590099': ['CensusCountyDivision'],\n",
              " 'geoId/01015981901': ['CensusTract'],\n",
              " 'geoId/0103': ['CongressionalDistrict']}"
            ]
          },
          "metadata": {},
          "execution_count": 24
        }
      ],
      "source": [
        "contained_places = dc.get_property_values([site_dcid], prop='containedInPlace', out=True)[site_dcid]\n",
        "dc.get_property_values(contained_places, prop='typeOf', out=True)"
      ]
    },
    {
      "cell_type": "markdown",
      "metadata": {
        "id": "cv5z6QAOw6hE"
      },
      "source": [
        "### Loading values into a pandas dataframe\n",
        "\n",
        "We can extend this example to make a `pandas` dataframe where we populate the different properties of the superfund site nodes as columns for all sites across the US.\n",
        "\n",
        "The following block of code, serves as a recap to the different API methods that were introduced thus far;"
      ]
    },
    {
      "cell_type": "code",
      "execution_count": null,
      "metadata": {
        "colab": {
          "base_uri": "https://localhost:8080/",
          "height": 548
        },
        "id": "9Wujk2KMxUpP",
        "outputId": "d1bbd03c-4871-4b9b-c3ad-b7cfdd3fd503"
      },
      "outputs": [
        {
          "output_type": "stream",
          "name": "stdout",
          "text": [
            "This method will take some time since the API queries depend on number of sites ..................................................................................................................................Done.\n"
          ]
        },
        {
          "output_type": "execute_result",
          "data": {
            "text/html": [
              "\n",
              "  <div id=\"df-f9aac7f0-c429-434f-86ab-437b1b60bc86\">\n",
              "    <div class=\"colab-df-container\">\n",
              "      <div>\n",
              "<style scoped>\n",
              "    .dataframe tbody tr th:only-of-type {\n",
              "        vertical-align: middle;\n",
              "    }\n",
              "\n",
              "    .dataframe tbody tr th {\n",
              "        vertical-align: top;\n",
              "    }\n",
              "\n",
              "    .dataframe thead th {\n",
              "        text-align: right;\n",
              "    }\n",
              "</style>\n",
              "<table border=\"1\" class=\"dataframe\">\n",
              "  <thead>\n",
              "    <tr style=\"text-align: right;\">\n",
              "      <th></th>\n",
              "      <th>containedInPlace</th>\n",
              "      <th>epaRegionCode</th>\n",
              "      <th>epaSuperfundSiteId</th>\n",
              "      <th>establishmentOwnership</th>\n",
              "      <th>latitude</th>\n",
              "      <th>longitude</th>\n",
              "      <th>name</th>\n",
              "      <th>provenance</th>\n",
              "      <th>typeOf</th>\n",
              "    </tr>\n",
              "  </thead>\n",
              "  <tbody>\n",
              "    <tr>\n",
              "      <th>0</th>\n",
              "      <td>[geoId/01, geoId/01015, geoId/0101590099, geoI...</td>\n",
              "      <td>4</td>\n",
              "      <td>AL3210020027</td>\n",
              "      <td>FederalGovernmentOwned</td>\n",
              "      <td>33.659439</td>\n",
              "      <td>-85.969439</td>\n",
              "      <td>Anniston Army Depot (Southeast Industrial Area)</td>\n",
              "      <td>dc/999wb02</td>\n",
              "      <td>SuperfundSite</td>\n",
              "    </tr>\n",
              "    <tr>\n",
              "      <th>1</th>\n",
              "      <td>[geoId/01, geoId/0103, geoId/01121, geoId/0112...</td>\n",
              "      <td>4</td>\n",
              "      <td>AL6210020008</td>\n",
              "      <td>FederalGovernmentOwned</td>\n",
              "      <td>33.3381</td>\n",
              "      <td>-86.3268</td>\n",
              "      <td>Alabama Army Ammunition Plant</td>\n",
              "      <td>dc/999wb02</td>\n",
              "      <td>SuperfundSite</td>\n",
              "    </tr>\n",
              "    <tr>\n",
              "      <th>2</th>\n",
              "      <td>[geoId/01, geoId/0105, geoId/01089, geoId/0108...</td>\n",
              "      <td>4</td>\n",
              "      <td>AL7210020742</td>\n",
              "      <td>FederalGovernmentOwned</td>\n",
              "      <td>34.646944</td>\n",
              "      <td>-86.673055</td>\n",
              "      <td>Redstone Arsenal (USARMY/NASA)</td>\n",
              "      <td>dc/999wb02</td>\n",
              "      <td>SuperfundSite</td>\n",
              "    </tr>\n",
              "    <tr>\n",
              "      <th>3</th>\n",
              "      <td>[geoId/01, geoId/0101, geoId/01129, geoId/0112...</td>\n",
              "      <td>4</td>\n",
              "      <td>ALD001221902</td>\n",
              "      <td>PrivatelyOwned</td>\n",
              "      <td>31.279</td>\n",
              "      <td>-87.9955</td>\n",
              "      <td>Ciba-Geigy Corp. (McIntosh Plant)</td>\n",
              "      <td>dc/999wb02</td>\n",
              "      <td>SuperfundSite</td>\n",
              "    </tr>\n",
              "    <tr>\n",
              "      <th>4</th>\n",
              "      <td>[geoId/01, geoId/0106, geoId/01117, geoId/0111...</td>\n",
              "      <td>4</td>\n",
              "      <td>ALD004022448</td>\n",
              "      <td>PrivatelyOwned</td>\n",
              "      <td>33.399722</td>\n",
              "      <td>-86.405</td>\n",
              "      <td>Alabama Plating Company Inc.</td>\n",
              "      <td>dc/999wb02</td>\n",
              "      <td>SuperfundSite</td>\n",
              "    </tr>\n",
              "  </tbody>\n",
              "</table>\n",
              "</div>\n",
              "      <button class=\"colab-df-convert\" onclick=\"convertToInteractive('df-f9aac7f0-c429-434f-86ab-437b1b60bc86')\"\n",
              "              title=\"Convert this dataframe to an interactive table.\"\n",
              "              style=\"display:none;\">\n",
              "        \n",
              "  <svg xmlns=\"http://www.w3.org/2000/svg\" height=\"24px\"viewBox=\"0 0 24 24\"\n",
              "       width=\"24px\">\n",
              "    <path d=\"M0 0h24v24H0V0z\" fill=\"none\"/>\n",
              "    <path d=\"M18.56 5.44l.94 2.06.94-2.06 2.06-.94-2.06-.94-.94-2.06-.94 2.06-2.06.94zm-11 1L8.5 8.5l.94-2.06 2.06-.94-2.06-.94L8.5 2.5l-.94 2.06-2.06.94zm10 10l.94 2.06.94-2.06 2.06-.94-2.06-.94-.94-2.06-.94 2.06-2.06.94z\"/><path d=\"M17.41 7.96l-1.37-1.37c-.4-.4-.92-.59-1.43-.59-.52 0-1.04.2-1.43.59L10.3 9.45l-7.72 7.72c-.78.78-.78 2.05 0 2.83L4 21.41c.39.39.9.59 1.41.59.51 0 1.02-.2 1.41-.59l7.78-7.78 2.81-2.81c.8-.78.8-2.07 0-2.86zM5.41 20L4 18.59l7.72-7.72 1.47 1.35L5.41 20z\"/>\n",
              "  </svg>\n",
              "      </button>\n",
              "      \n",
              "  <style>\n",
              "    .colab-df-container {\n",
              "      display:flex;\n",
              "      flex-wrap:wrap;\n",
              "      gap: 12px;\n",
              "    }\n",
              "\n",
              "    .colab-df-convert {\n",
              "      background-color: #E8F0FE;\n",
              "      border: none;\n",
              "      border-radius: 50%;\n",
              "      cursor: pointer;\n",
              "      display: none;\n",
              "      fill: #1967D2;\n",
              "      height: 32px;\n",
              "      padding: 0 0 0 0;\n",
              "      width: 32px;\n",
              "    }\n",
              "\n",
              "    .colab-df-convert:hover {\n",
              "      background-color: #E2EBFA;\n",
              "      box-shadow: 0px 1px 2px rgba(60, 64, 67, 0.3), 0px 1px 3px 1px rgba(60, 64, 67, 0.15);\n",
              "      fill: #174EA6;\n",
              "    }\n",
              "\n",
              "    [theme=dark] .colab-df-convert {\n",
              "      background-color: #3B4455;\n",
              "      fill: #D2E3FC;\n",
              "    }\n",
              "\n",
              "    [theme=dark] .colab-df-convert:hover {\n",
              "      background-color: #434B5C;\n",
              "      box-shadow: 0px 1px 3px 1px rgba(0, 0, 0, 0.15);\n",
              "      filter: drop-shadow(0px 1px 2px rgba(0, 0, 0, 0.3));\n",
              "      fill: #FFFFFF;\n",
              "    }\n",
              "  </style>\n",
              "\n",
              "      <script>\n",
              "        const buttonEl =\n",
              "          document.querySelector('#df-f9aac7f0-c429-434f-86ab-437b1b60bc86 button.colab-df-convert');\n",
              "        buttonEl.style.display =\n",
              "          google.colab.kernel.accessAllowed ? 'block' : 'none';\n",
              "\n",
              "        async function convertToInteractive(key) {\n",
              "          const element = document.querySelector('#df-f9aac7f0-c429-434f-86ab-437b1b60bc86');\n",
              "          const dataTable =\n",
              "            await google.colab.kernel.invokeFunction('convertToInteractive',\n",
              "                                                     [key], {});\n",
              "          if (!dataTable) return;\n",
              "\n",
              "          const docLinkHtml = 'Like what you see? Visit the ' +\n",
              "            '<a target=\"_blank\" href=https://colab.research.google.com/notebooks/data_table.ipynb>data table notebook</a>'\n",
              "            + ' to learn more about interactive tables.';\n",
              "          element.innerHTML = '';\n",
              "          dataTable['output_type'] = 'display_data';\n",
              "          await google.colab.output.renderOutput(dataTable, element);\n",
              "          const docLink = document.createElement('div');\n",
              "          docLink.innerHTML = docLinkHtml;\n",
              "          element.appendChild(docLink);\n",
              "        }\n",
              "      </script>\n",
              "    </div>\n",
              "  </div>\n",
              "  "
            ],
            "text/plain": [
              "                                    containedInPlace epaRegionCode  \\\n",
              "0  [geoId/01, geoId/01015, geoId/0101590099, geoI...             4   \n",
              "1  [geoId/01, geoId/0103, geoId/01121, geoId/0112...             4   \n",
              "2  [geoId/01, geoId/0105, geoId/01089, geoId/0108...             4   \n",
              "3  [geoId/01, geoId/0101, geoId/01129, geoId/0112...             4   \n",
              "4  [geoId/01, geoId/0106, geoId/01117, geoId/0111...             4   \n",
              "\n",
              "  epaSuperfundSiteId  establishmentOwnership   latitude   longitude  \\\n",
              "0       AL3210020027  FederalGovernmentOwned  33.659439  -85.969439   \n",
              "1       AL6210020008  FederalGovernmentOwned    33.3381    -86.3268   \n",
              "2       AL7210020742  FederalGovernmentOwned  34.646944  -86.673055   \n",
              "3       ALD001221902          PrivatelyOwned     31.279    -87.9955   \n",
              "4       ALD004022448          PrivatelyOwned  33.399722     -86.405   \n",
              "\n",
              "                                              name  provenance         typeOf  \n",
              "0  Anniston Army Depot (Southeast Industrial Area)  dc/999wb02  SuperfundSite  \n",
              "1                    Alabama Army Ammunition Plant  dc/999wb02  SuperfundSite  \n",
              "2                   Redstone Arsenal (USARMY/NASA)  dc/999wb02  SuperfundSite  \n",
              "3                Ciba-Geigy Corp. (McIntosh Plant)  dc/999wb02  SuperfundSite  \n",
              "4                     Alabama Plating Company Inc.  dc/999wb02  SuperfundSite  "
            ]
          },
          "metadata": {},
          "execution_count": 25
        }
      ],
      "source": [
        "def populate_superfund_site_df(site_id_list):\n",
        "  \"\"\"\n",
        "  Populate a pandas dataframe based on the list of superfund site ids\n",
        "  \"\"\"\n",
        "  superfund_site_df = pd.DataFrame() # initalizing an empty dataframe\n",
        "  print(\"This method will take some time since the API queries depend on number of sites\", end=\" ...\", flush=True)\n",
        "  for site in site_id_list:\n",
        "    # get all the properties associated for a superfund site\n",
        "    site_props = dc.get_property_labels([site], out=True)[site]\n",
        "\n",
        "    # a dictionary to map a property to its corresponding value\n",
        "    row_dict = {}\n",
        "\n",
        "    # populate the row_dict map\n",
        "    for i in range(len(site_props)):\n",
        "      print(end=\".\")\n",
        "      # get all the values for each property associated with a superfund site\n",
        "      prop_val = dc.get_property_values([site], prop=site_props[i], out=True)[site]\n",
        "      # handle the case where containedInPlace is a list whereas the other props are string values\n",
        "      if site_props[i] == 'containedInPlace':\n",
        "        row_dict[site_props[i]] = prop_val\n",
        "      elif site_props[i] == 'location':\n",
        "        prop_val = ''.join(prop_val)\n",
        "        # location is an autogenerated internal node, and we will need an additional API call to get the latitude and longitude of the site\n",
        "        row_dict['latitude'] = dc.get_property_values([prop_val], prop=\"latitude\", out=True)[prop_val][0]\n",
        "        row_dict['longitude'] = dc.get_property_values([prop_val], prop=\"longitude\", out=True)[prop_val][0]\n",
        "      else:\n",
        "        row_dict[site_props[i]] = ''.join(prop_val)\n",
        "    # populate the dataframe\n",
        "    superfund_site_df = superfund_site_df.append(row_dict, ignore_index=True)\n",
        "  print(\"Done.\", flush=True)\n",
        "  return superfund_site_df\n",
        "\n",
        "\n",
        "site_df = populate_superfund_site_df(superfund_sites)\n",
        "site_df.head(5)"
      ]
    },
    {
      "cell_type": "markdown",
      "metadata": {
        "id": "_IjeSnmpdgZM"
      },
      "source": [
        "### Downloading csv files from this colab\n",
        "\n",
        "We can download different datasets from this colab to a csv file for offline processing. The following snippet of code will select the columns `epaSuperfundSiteId`, `name`, `latitude` and `longitude` to make a csv file which can be downloaded"
      ]
    },
    {
      "cell_type": "code",
      "execution_count": null,
      "metadata": {
        "colab": {
          "base_uri": "https://localhost:8080/",
          "height": 17
        },
        "id": "Uv-IQkJad410",
        "outputId": "2813c57d-42f3-43f3-f6b2-e654e71b9a57"
      },
      "outputs": [
        {
          "output_type": "display_data",
          "data": {
            "application/javascript": [
              "\n",
              "    async function download(id, filename, size) {\n",
              "      if (!google.colab.kernel.accessAllowed) {\n",
              "        return;\n",
              "      }\n",
              "      const div = document.createElement('div');\n",
              "      const label = document.createElement('label');\n",
              "      label.textContent = `Downloading \"${filename}\": `;\n",
              "      div.appendChild(label);\n",
              "      const progress = document.createElement('progress');\n",
              "      progress.max = size;\n",
              "      div.appendChild(progress);\n",
              "      document.body.appendChild(div);\n",
              "\n",
              "      const buffers = [];\n",
              "      let downloaded = 0;\n",
              "\n",
              "      const channel = await google.colab.kernel.comms.open(id);\n",
              "      // Send a message to notify the kernel that we're ready.\n",
              "      channel.send({})\n",
              "\n",
              "      for await (const message of channel.messages) {\n",
              "        // Send a message to notify the kernel that we're ready.\n",
              "        channel.send({})\n",
              "        if (message.buffers) {\n",
              "          for (const buffer of message.buffers) {\n",
              "            buffers.push(buffer);\n",
              "            downloaded += buffer.byteLength;\n",
              "            progress.value = downloaded;\n",
              "          }\n",
              "        }\n",
              "      }\n",
              "      const blob = new Blob(buffers, {type: 'application/binary'});\n",
              "      const a = document.createElement('a');\n",
              "      a.href = window.URL.createObjectURL(blob);\n",
              "      a.download = filename;\n",
              "      div.appendChild(a);\n",
              "      a.click();\n",
              "      div.remove();\n",
              "    }\n",
              "  "
            ],
            "text/plain": [
              "<IPython.core.display.Javascript object>"
            ]
          },
          "metadata": {}
        },
        {
          "output_type": "display_data",
          "data": {
            "application/javascript": [
              "download(\"download_cea8e883-1268-411c-9ea8-1c7f18d89ab4\", \"superfund_sites_locations_in_Alabama.csv\", 1056)"
            ],
            "text/plain": [
              "<IPython.core.display.Javascript object>"
            ]
          },
          "metadata": {}
        }
      ],
      "source": [
        "# filter `site_df` dataframe to required columns\n",
        "required_cols = ['epaSuperfundSiteId', 'name', 'latitude', 'longitude']\n",
        "sites_filtered = site_df[required_cols]\n",
        "sites_filtered.to_csv(f\"./superfund_sites_locations_in_{selected_place_choice}.csv\", index=False)\n",
        "\n",
        "# direct download with script\n",
        "from google.colab import files\n",
        "files.download(f\"./superfund_sites_locations_in_{selected_place_choice}.csv\") "
      ]
    },
    {
      "cell_type": "markdown",
      "metadata": {
        "id": "CWiXXJjMe1ab"
      },
      "source": [
        "> TIP: alternatively, one can download files in a no-code way by clickling on the 📁 icon for viewing the files associated with this colab, and click the `menu` shown with three-dots to `Downlaod` the file.\n",
        "\n",
        "### Visualizing the superfund sites on an external map (plotly)\n",
        "\n",
        "Now, that we have extracted all the values associated with a superfund site, we can visualize each superfund site on a map. \n",
        "\n",
        "Visualizations can be made using different plotting libraries like `plotly`, `bokeh` etc. In this example, we view the location of the superfund sites in the selected place using `plotly`. \n",
        "\n",
        "> NOTE: The basemap is a low-res world map, please zoom to the appropriate zoom level to view the plots better."
      ]
    },
    {
      "cell_type": "code",
      "execution_count": null,
      "metadata": {
        "colab": {
          "base_uri": "https://localhost:8080/",
          "height": 542
        },
        "id": "cdv6gMAdxK2d",
        "outputId": "27b91465-8c88-4181-ff7f-700f90af85af"
      },
      "outputs": [
        {
          "output_type": "display_data",
          "data": {
            "text/html": [
              "<html>\n",
              "<head><meta charset=\"utf-8\" /></head>\n",
              "<body>\n",
              "    <div>            <script src=\"https://cdnjs.cloudflare.com/ajax/libs/mathjax/2.7.5/MathJax.js?config=TeX-AMS-MML_SVG\"></script><script type=\"text/javascript\">if (window.MathJax) {MathJax.Hub.Config({SVG: {font: \"STIX-Web\"}});}</script>                <script type=\"text/javascript\">window.PlotlyConfig = {MathJaxConfig: 'local'};</script>\n",
              "        <script src=\"https://cdn.plot.ly/plotly-2.9.0.min.js\"></script>                <div id=\"3dc8e327-8dac-44bd-ba13-a361ceaa745e\" class=\"plotly-graph-div\" style=\"height:525px; width:100%;\"></div>            <script type=\"text/javascript\">                                    window.PLOTLYENV=window.PLOTLYENV || {};                                    if (document.getElementById(\"3dc8e327-8dac-44bd-ba13-a361ceaa745e\")) {                    Plotly.newPlot(                        \"3dc8e327-8dac-44bd-ba13-a361ceaa745e\",                        [{\"geo\":\"geo\",\"hovertemplate\":\"<b>%{hovertext}</b><br><br>latitude=%{lat}<br>longitude=%{lon}<extra></extra>\",\"hovertext\":[\"Anniston Army Depot (Southeast Industrial Area)\",\"Alabama Army Ammunition Plant\",\"Redstone Arsenal (USARMY/NASA)\",\"Ciba-Geigy Corp. (McIntosh Plant)\",\"Alabama Plating Company Inc.\",\"T.H. Agriculture & Nutrition Co. (Montgomery Plant)\",\"Stauffer Chemical Co. (LeMoyne Plant)\",\"Olin Corp. (McIntosh Plant)\",\"Mowbray Engineering Co.\",\"Interstate Lead Co. (ILCO)\",\"Stauffer Chemical Co. (Cold Creek Plant)\",\"Perdido Ground Water Contamination\",\"Redwing Carriers Inc. (Saraland)\",\"American Brass\",\"Triana/Tennessee River\",\"35th Avenue\"],\"lat\":[\"33.659439\",\"33.3381\",\"34.646944\",\"31.279\",\"33.399722\",\"32.3761\",\"30.969439\",\"31.263889\",\"31.831669\",\"33.688889\",\"30.975\",\"31.0125\",\"30.808331\",\"31.325\",\"34.508888\",\"33.557464\"],\"legendgroup\":\"\",\"lon\":[\"-85.969439\",\"-86.3268\",\"-86.673055\",\"-87.9955\",\"-86.405\",\"-86.3791\",\"-88.0175\",\"-87.99445\",\"-86.61305\",\"-86.633333\",\"-88.021389\",\"-87.625\",\"-88.073061\",\"-85.404167\",\"-86.638194\",\"-86.799671\"],\"marker\":{\"color\":\"#636efa\",\"symbol\":\"circle\"},\"mode\":\"markers\",\"name\":\"\",\"showlegend\":false,\"type\":\"scattergeo\"}],                        {\"template\":{\"data\":{\"bar\":[{\"error_x\":{\"color\":\"#2a3f5f\"},\"error_y\":{\"color\":\"#2a3f5f\"},\"marker\":{\"line\":{\"color\":\"#E5ECF6\",\"width\":0.5},\"pattern\":{\"fillmode\":\"overlay\",\"size\":10,\"solidity\":0.2}},\"type\":\"bar\"}],\"barpolar\":[{\"marker\":{\"line\":{\"color\":\"#E5ECF6\",\"width\":0.5},\"pattern\":{\"fillmode\":\"overlay\",\"size\":10,\"solidity\":0.2}},\"type\":\"barpolar\"}],\"carpet\":[{\"aaxis\":{\"endlinecolor\":\"#2a3f5f\",\"gridcolor\":\"white\",\"linecolor\":\"white\",\"minorgridcolor\":\"white\",\"startlinecolor\":\"#2a3f5f\"},\"baxis\":{\"endlinecolor\":\"#2a3f5f\",\"gridcolor\":\"white\",\"linecolor\":\"white\",\"minorgridcolor\":\"white\",\"startlinecolor\":\"#2a3f5f\"},\"type\":\"carpet\"}],\"choropleth\":[{\"colorbar\":{\"outlinewidth\":0,\"ticks\":\"\"},\"type\":\"choropleth\"}],\"contour\":[{\"colorbar\":{\"outlinewidth\":0,\"ticks\":\"\"},\"colorscale\":[[0.0,\"#0d0887\"],[0.1111111111111111,\"#46039f\"],[0.2222222222222222,\"#7201a8\"],[0.3333333333333333,\"#9c179e\"],[0.4444444444444444,\"#bd3786\"],[0.5555555555555556,\"#d8576b\"],[0.6666666666666666,\"#ed7953\"],[0.7777777777777778,\"#fb9f3a\"],[0.8888888888888888,\"#fdca26\"],[1.0,\"#f0f921\"]],\"type\":\"contour\"}],\"contourcarpet\":[{\"colorbar\":{\"outlinewidth\":0,\"ticks\":\"\"},\"type\":\"contourcarpet\"}],\"heatmap\":[{\"colorbar\":{\"outlinewidth\":0,\"ticks\":\"\"},\"colorscale\":[[0.0,\"#0d0887\"],[0.1111111111111111,\"#46039f\"],[0.2222222222222222,\"#7201a8\"],[0.3333333333333333,\"#9c179e\"],[0.4444444444444444,\"#bd3786\"],[0.5555555555555556,\"#d8576b\"],[0.6666666666666666,\"#ed7953\"],[0.7777777777777778,\"#fb9f3a\"],[0.8888888888888888,\"#fdca26\"],[1.0,\"#f0f921\"]],\"type\":\"heatmap\"}],\"heatmapgl\":[{\"colorbar\":{\"outlinewidth\":0,\"ticks\":\"\"},\"colorscale\":[[0.0,\"#0d0887\"],[0.1111111111111111,\"#46039f\"],[0.2222222222222222,\"#7201a8\"],[0.3333333333333333,\"#9c179e\"],[0.4444444444444444,\"#bd3786\"],[0.5555555555555556,\"#d8576b\"],[0.6666666666666666,\"#ed7953\"],[0.7777777777777778,\"#fb9f3a\"],[0.8888888888888888,\"#fdca26\"],[1.0,\"#f0f921\"]],\"type\":\"heatmapgl\"}],\"histogram\":[{\"marker\":{\"pattern\":{\"fillmode\":\"overlay\",\"size\":10,\"solidity\":0.2}},\"type\":\"histogram\"}],\"histogram2d\":[{\"colorbar\":{\"outlinewidth\":0,\"ticks\":\"\"},\"colorscale\":[[0.0,\"#0d0887\"],[0.1111111111111111,\"#46039f\"],[0.2222222222222222,\"#7201a8\"],[0.3333333333333333,\"#9c179e\"],[0.4444444444444444,\"#bd3786\"],[0.5555555555555556,\"#d8576b\"],[0.6666666666666666,\"#ed7953\"],[0.7777777777777778,\"#fb9f3a\"],[0.8888888888888888,\"#fdca26\"],[1.0,\"#f0f921\"]],\"type\":\"histogram2d\"}],\"histogram2dcontour\":[{\"colorbar\":{\"outlinewidth\":0,\"ticks\":\"\"},\"colorscale\":[[0.0,\"#0d0887\"],[0.1111111111111111,\"#46039f\"],[0.2222222222222222,\"#7201a8\"],[0.3333333333333333,\"#9c179e\"],[0.4444444444444444,\"#bd3786\"],[0.5555555555555556,\"#d8576b\"],[0.6666666666666666,\"#ed7953\"],[0.7777777777777778,\"#fb9f3a\"],[0.8888888888888888,\"#fdca26\"],[1.0,\"#f0f921\"]],\"type\":\"histogram2dcontour\"}],\"mesh3d\":[{\"colorbar\":{\"outlinewidth\":0,\"ticks\":\"\"},\"type\":\"mesh3d\"}],\"parcoords\":[{\"line\":{\"colorbar\":{\"outlinewidth\":0,\"ticks\":\"\"}},\"type\":\"parcoords\"}],\"pie\":[{\"automargin\":true,\"type\":\"pie\"}],\"scatter\":[{\"marker\":{\"colorbar\":{\"outlinewidth\":0,\"ticks\":\"\"}},\"type\":\"scatter\"}],\"scatter3d\":[{\"line\":{\"colorbar\":{\"outlinewidth\":0,\"ticks\":\"\"}},\"marker\":{\"colorbar\":{\"outlinewidth\":0,\"ticks\":\"\"}},\"type\":\"scatter3d\"}],\"scattercarpet\":[{\"marker\":{\"colorbar\":{\"outlinewidth\":0,\"ticks\":\"\"}},\"type\":\"scattercarpet\"}],\"scattergeo\":[{\"marker\":{\"colorbar\":{\"outlinewidth\":0,\"ticks\":\"\"}},\"type\":\"scattergeo\"}],\"scattergl\":[{\"marker\":{\"colorbar\":{\"outlinewidth\":0,\"ticks\":\"\"}},\"type\":\"scattergl\"}],\"scattermapbox\":[{\"marker\":{\"colorbar\":{\"outlinewidth\":0,\"ticks\":\"\"}},\"type\":\"scattermapbox\"}],\"scatterpolar\":[{\"marker\":{\"colorbar\":{\"outlinewidth\":0,\"ticks\":\"\"}},\"type\":\"scatterpolar\"}],\"scatterpolargl\":[{\"marker\":{\"colorbar\":{\"outlinewidth\":0,\"ticks\":\"\"}},\"type\":\"scatterpolargl\"}],\"scatterternary\":[{\"marker\":{\"colorbar\":{\"outlinewidth\":0,\"ticks\":\"\"}},\"type\":\"scatterternary\"}],\"surface\":[{\"colorbar\":{\"outlinewidth\":0,\"ticks\":\"\"},\"colorscale\":[[0.0,\"#0d0887\"],[0.1111111111111111,\"#46039f\"],[0.2222222222222222,\"#7201a8\"],[0.3333333333333333,\"#9c179e\"],[0.4444444444444444,\"#bd3786\"],[0.5555555555555556,\"#d8576b\"],[0.6666666666666666,\"#ed7953\"],[0.7777777777777778,\"#fb9f3a\"],[0.8888888888888888,\"#fdca26\"],[1.0,\"#f0f921\"]],\"type\":\"surface\"}],\"table\":[{\"cells\":{\"fill\":{\"color\":\"#EBF0F8\"},\"line\":{\"color\":\"white\"}},\"header\":{\"fill\":{\"color\":\"#C8D4E3\"},\"line\":{\"color\":\"white\"}},\"type\":\"table\"}]},\"layout\":{\"annotationdefaults\":{\"arrowcolor\":\"#2a3f5f\",\"arrowhead\":0,\"arrowwidth\":1},\"autotypenumbers\":\"strict\",\"coloraxis\":{\"colorbar\":{\"outlinewidth\":0,\"ticks\":\"\"}},\"colorscale\":{\"diverging\":[[0,\"#8e0152\"],[0.1,\"#c51b7d\"],[0.2,\"#de77ae\"],[0.3,\"#f1b6da\"],[0.4,\"#fde0ef\"],[0.5,\"#f7f7f7\"],[0.6,\"#e6f5d0\"],[0.7,\"#b8e186\"],[0.8,\"#7fbc41\"],[0.9,\"#4d9221\"],[1,\"#276419\"]],\"sequential\":[[0.0,\"#0d0887\"],[0.1111111111111111,\"#46039f\"],[0.2222222222222222,\"#7201a8\"],[0.3333333333333333,\"#9c179e\"],[0.4444444444444444,\"#bd3786\"],[0.5555555555555556,\"#d8576b\"],[0.6666666666666666,\"#ed7953\"],[0.7777777777777778,\"#fb9f3a\"],[0.8888888888888888,\"#fdca26\"],[1.0,\"#f0f921\"]],\"sequentialminus\":[[0.0,\"#0d0887\"],[0.1111111111111111,\"#46039f\"],[0.2222222222222222,\"#7201a8\"],[0.3333333333333333,\"#9c179e\"],[0.4444444444444444,\"#bd3786\"],[0.5555555555555556,\"#d8576b\"],[0.6666666666666666,\"#ed7953\"],[0.7777777777777778,\"#fb9f3a\"],[0.8888888888888888,\"#fdca26\"],[1.0,\"#f0f921\"]]},\"colorway\":[\"#636efa\",\"#EF553B\",\"#00cc96\",\"#ab63fa\",\"#FFA15A\",\"#19d3f3\",\"#FF6692\",\"#B6E880\",\"#FF97FF\",\"#FECB52\"],\"font\":{\"color\":\"#2a3f5f\"},\"geo\":{\"bgcolor\":\"white\",\"lakecolor\":\"white\",\"landcolor\":\"#E5ECF6\",\"showlakes\":true,\"showland\":true,\"subunitcolor\":\"white\"},\"hoverlabel\":{\"align\":\"left\"},\"hovermode\":\"closest\",\"mapbox\":{\"style\":\"light\"},\"paper_bgcolor\":\"white\",\"plot_bgcolor\":\"#E5ECF6\",\"polar\":{\"angularaxis\":{\"gridcolor\":\"white\",\"linecolor\":\"white\",\"ticks\":\"\"},\"bgcolor\":\"#E5ECF6\",\"radialaxis\":{\"gridcolor\":\"white\",\"linecolor\":\"white\",\"ticks\":\"\"}},\"scene\":{\"xaxis\":{\"backgroundcolor\":\"#E5ECF6\",\"gridcolor\":\"white\",\"gridwidth\":2,\"linecolor\":\"white\",\"showbackground\":true,\"ticks\":\"\",\"zerolinecolor\":\"white\"},\"yaxis\":{\"backgroundcolor\":\"#E5ECF6\",\"gridcolor\":\"white\",\"gridwidth\":2,\"linecolor\":\"white\",\"showbackground\":true,\"ticks\":\"\",\"zerolinecolor\":\"white\"},\"zaxis\":{\"backgroundcolor\":\"#E5ECF6\",\"gridcolor\":\"white\",\"gridwidth\":2,\"linecolor\":\"white\",\"showbackground\":true,\"ticks\":\"\",\"zerolinecolor\":\"white\"}},\"shapedefaults\":{\"line\":{\"color\":\"#2a3f5f\"}},\"ternary\":{\"aaxis\":{\"gridcolor\":\"white\",\"linecolor\":\"white\",\"ticks\":\"\"},\"baxis\":{\"gridcolor\":\"white\",\"linecolor\":\"white\",\"ticks\":\"\"},\"bgcolor\":\"#E5ECF6\",\"caxis\":{\"gridcolor\":\"white\",\"linecolor\":\"white\",\"ticks\":\"\"}},\"title\":{\"x\":0.05},\"xaxis\":{\"automargin\":true,\"gridcolor\":\"white\",\"linecolor\":\"white\",\"ticks\":\"\",\"title\":{\"standoff\":15},\"zerolinecolor\":\"white\",\"zerolinewidth\":2},\"yaxis\":{\"automargin\":true,\"gridcolor\":\"white\",\"linecolor\":\"white\",\"ticks\":\"\",\"title\":{\"standoff\":15},\"zerolinecolor\":\"white\",\"zerolinewidth\":2}}},\"geo\":{\"domain\":{\"x\":[0.0,1.0],\"y\":[0.0,1.0]},\"center\":{}},\"legend\":{\"tracegroupgap\":0},\"margin\":{\"t\":60},\"title\":{\"text\":\"superfund site locations in Alabama\",\"x\":0.5}},                        {\"responsive\": true}                    ).then(function(){\n",
              "                            \n",
              "var gd = document.getElementById('3dc8e327-8dac-44bd-ba13-a361ceaa745e');\n",
              "var x = new MutationObserver(function (mutations, observer) {{\n",
              "        var display = window.getComputedStyle(gd).display;\n",
              "        if (!display || display === 'none') {{\n",
              "            console.log([gd, 'removed!']);\n",
              "            Plotly.purge(gd);\n",
              "            observer.disconnect();\n",
              "        }}\n",
              "}});\n",
              "\n",
              "// Listen for the removal of the full notebook cells\n",
              "var notebookContainer = gd.closest('#notebook-container');\n",
              "if (notebookContainer) {{\n",
              "    x.observe(notebookContainer, {childList: true});\n",
              "}}\n",
              "\n",
              "// Listen for the clearing of the current output cell\n",
              "var outputEl = gd.closest('.output');\n",
              "if (outputEl) {{\n",
              "    x.observe(outputEl, {childList: true});\n",
              "}}\n",
              "\n",
              "                        })                };                            </script>        </div>\n",
              "</body>\n",
              "</html>"
            ]
          },
          "metadata": {}
        }
      ],
      "source": [
        "fig = px.scatter_geo(sites_filtered,lat='latitude',lon='longitude', hover_name=\"name\")\n",
        "fig.update_layout(title = f'superfund site locations in {selected_place_choice}', title_x=0.5)\n",
        "fig.show()"
      ]
    },
    {
      "cell_type": "markdown",
      "metadata": {
        "id": "548WYoBAQNxN"
      },
      "source": [
        "The visualization of sites on the world map has a very large spatial area in comparison to the areas of interest, which can either be the area the US or a particular state, county or city in the US. The map data for these places are available in the Data Commons Graph.\n",
        "\n",
        "### Spatial visualization of superfund sites with map data available in Data Commons\n",
        "\n",
        "The map data for a place if available, can be queried using the API using the place id as the identifier and the property `geoJsonCoordinates`. \n",
        "For example, the map of the US can be queried using the snippet,\n",
        "\n",
        "```python\n",
        "dc.get_property_values(['country/USA'], prop='geoJsonCoordinates', out=True)['country/USA']\n",
        "```\n",
        "\n",
        "> TIP: To check if the map exists for the place selected in the menu, please replace `['country/USA']` with the value of the `place_dcid` variable enclosed within `[]`, something like `[place_dcid]`.\n",
        "\n",
        "Now, let us view the geoJSON for the current place selected from the drop-down menu earlier."
      ]
    },
    {
      "cell_type": "code",
      "execution_count": null,
      "metadata": {
        "colab": {
          "base_uri": "https://localhost:8080/",
          "height": 244
        },
        "id": "kyHSeFIXNhLH",
        "outputId": "fdec23de-19f0-41d1-c638-be261483aaf5"
      },
      "outputs": [
        {
          "output_type": "stream",
          "name": "stdout",
          "text": [
            "GeoJSON for Alabama which has the place id: geoId/01\n",
            "\n",
            "\n"
          ]
        },
        {
          "output_type": "execute_result",
          "data": {
            "application/vnd.google.colaboratory.intrinsic+json": {
              "type": "string"
            },
            "text/plain": [
              "'{   \"type\": \"MultiPolygon\",   \"coordinates\": [     [       [         [-88.327302, 30.229882],         [-88.326371, 30.228463],         [-88.318865, 30.22803],         [-88.304773, 30.228031],         [-88.283128, 30.232079],         [-88.260192, 30.236156],         [-88.234854, 30.241307],         [-88.199799, 30.24779],         [-88.191905, 30.248094],         [-88.166789, 30.249748],         [-88.149812, 30.249988],         [-88.137083, 30.249179],         [-88.13187, 30.247897],         [-88.127338, 30.245962],         [-88.1269122534897, 30.2449623756888],         [-88.125306, 30.241191],         [-88.124999, 30.2406148369004],         [-88.122596, 30.236105],         [-88.117386, 30.230793],         [-88.113427, 30.226832],         [-88.110301, 30.224941],         [-88.106654, 30.223501],         [-88.104882, 30.224581],         [-88.107331, 30.225076],         [-88.110978, 30.227777],         [-88.115563, 30.232369],         [-88.117282, 30.233314],         [-88.119939, 30.237185],         [-88.120564, 30.239391],         [-88.122492, 30.242901],         [-88.123482, 30.245197],         [-88.124936, 30.247709],         [-88.1248869230769, 30.247693],         [-88.120151, 30.246149],         [-88.1178991997814, 30.2456957303012],         [-88.115198, 30.245152],         [-88.1128549123886, 30.2438959437689],         [-88.112176, 30.243532],         [-88.112281, 30.242316],         [-88.110822, 30.241956],         [-88.108529, 30.242046],         [-88.10655, 30.242856],         [-88.104365, 30.243028],         [-88.101235, 30.242001],         [-88.088262, 30.245152],         [-88.079562, 30.246637],         [-88.075856, 30.246139],         [-88.074854, 30.249119],         [-88.0767561635801, 30.2508282112116],         [-88.086812, 30.259864],         [-88.124658, 30.28364],         [-88.124670238134, 30.2817088606938],         [-88.124722, 30.273541],         [-88.130631, 30.262125],         [-88.141143, 30.255024],         [-88.14526, 30.254969],         [-88.1473, 30.254105],         [-88.153678, 30.253165],         [-88.161904, 30.253396],         [-88.167433, 30.252693],         [-88.17335, 30.252418],         [-88.181621, 30.251711],         [-88.186372, 30.251198],         [-88.190179, 30.251334],         [-88.192127, 30.250248],         [-88.198406, 30.25065],         [-88.201468, 30.251179],         [-88.224615, 30.245559],         [-88.25837, 30.239595],         [-88.279154, 30.235155],         [-88.299705, 30.231812],         [-88.313074, 30.231327],         [-88.320142, 30.232035],         [-88.327302, 30.229882]       ]     ],     [       [         [-88.346745, 30.390702],         [-88.346823, 30.389936],         [-88.345543, 30.389914],         [-88.344316, 30.389981],         [-88.342645, 30.390004],         [-88.340765, 30.390161],         [-88.335731, 30.388969],         [-88.33412, 30.388741],         [-88.33289, 30.389146],         [-88.333095, 30.389878],         [-88.335702, 30.389727],         [-88.340504, 30.391513],         [-88.341235, 30.391738],         [-88.342384, 30.391468],         [-88.343507, 30.391445],         [-88.345047, 30.3914],         [-88.346745, 30.390702]       ]     ],     [       [         [-88.053375, 30.506987],         [-88.052349, 30.505591],         [-88.045043, 30.501189],         [-88.026748, 30.491105],         [-88.02433, 30.490774],         [-88.023506, 30.492573],         [-88.026222, 30.516609],         [-88.029165, 30.519648],         [-88.032407, 30.521447],         [-88.035099, 30.521967],         [-88.03867, 30.520405],         [-88.041966, 30.517376],         [-88.045647, 30.513306],         [-88.051088, 30.508857],         [-88.053375, 30.506987]       ]     ],     [       [         [-88.22512, 30.321802],         [-88.226522, 30.320793],         [-88.224653, 30.319886],         [-88.221031, 30.32039],         [-88.218694, 30.321903],         [-88.221281, 30.322233],         [-88.22512, 30.321802]       ]     ],     [       [         [-88.211209, 30.322249],         [-88.210824, 30.320777],         [-88.209559, 30.31902],         [-88.208733, 30.318878],         [-88.208073, 30.319543],         [-88.208954, 30.320445],         [-88.209559, 30.322202],         [-88.209999, 30.323199],         [-88.211209, 30.322249]       ]     ],     [       [         [-88.264659, 30.335541],         [-88.264331, 30.334294],         [-88.263148, 30.333614],         [-88.261375, 30.332877],         [-88.260521, 30.330949],         [-88.260849, 30.330098],         [-88.260258, 30.329304],         [-88.260061, 30.32749],         [-88.258813, 30.326072],         [-88.257893, 30.325051],         [-88.255659, 30.324087],         [-88.255265, 30.326015],         [-88.254542, 30.32817],         [-88.253951, 30.329758],         [-88.253623, 30.331005],         [-88.253754, 30.33248],         [-88.253294, 30.334804],         [-88.253557, 30.337299],         [-88.254148, 30.339454],         [-88.255134, 30.342175],         [-88.256382, 30.344953],         [-88.256316, 30.346484],         [-88.25671, 30.347788],         [-88.257105, 30.350112],         [-88.25717, 30.35255],         [-88.256756, 30.354739],         [-88.256233, 30.357999],         [-88.256, 30.360907],         [-88.256291, 30.363815],         [-88.257105, 30.365248],         [-88.25855, 30.366608],         [-88.25947, 30.366778],         [-88.26001, 30.365821],         [-88.259661, 30.364417],         [-88.259138, 30.363113],         [-88.259022, 30.360756],         [-88.258964, 30.359001],         [-88.25908, 30.357597],         [-88.259312, 30.355541],         [-88.259798, 30.35306],         [-88.260258, 30.351586],         [-88.260389, 30.350452],         [-88.261178, 30.350339],         [-88.260915, 30.349318],         [-88.261112, 30.348411],         [-88.261966, 30.347788],         [-88.262097, 30.346541],         [-88.259732, 30.345633],         [-88.257762, 30.344329],         [-88.257827, 30.342742],         [-88.258418, 30.340417],         [-88.259141, 30.339],         [-88.259141, 30.337129],         [-88.260061, 30.336449],         [-88.261506, 30.335485],         [-88.263674, 30.336335],         [-88.264659, 30.335541]       ]     ],     [       [         [-88.473227, 31.893856],         [-88.472642, 31.875153],         [-88.471214, 31.851385],         [-88.471106, 31.850949],         [-88.4698254016609, 31.8193008275882],         [-88.4690535330784, 31.8002251898712],         [-88.468669, 31.790722],         [-88.46819722538, 31.7816613313433],         [-88.465107, 31.722312],         [-88.4644269792809, 31.6979519029488],         [-88.464425, 31.697881],         [-88.4638529086848, 31.6888940694711],         [-88.4606299357415, 31.6382646801284],         [-88.459722, 31.624002],         [-88.459478, 31.621652],         [-88.4577716424541, 31.5895867307762],         [-88.4563306535853, 31.5625081761439],         [-88.4536095981131, 31.511375061341],         [-88.4535741066828, 31.5107081188993],         [-88.4532906795915, 31.5053820569557],         [-88.453013, 31.500164],         [-88.451575, 31.481533],         [-88.451045, 31.459448],         [-88.4495695963996, 31.4358347375977],         [-88.449569225455, 31.4358288007726],         [-88.44866, 31.421277],         [-88.448686, 31.420888],         [-88.445209, 31.355969],         [-88.445182, 31.355855],         [-88.4441564504755, 31.3393230199194],         [-88.4438082387429, 31.3337098054522],         [-88.4403875099455, 31.2785672511538],         [-88.4397086327595, 31.2676236703237],         [-88.4391512235642, 31.2586381679242],         [-88.43878, 31.252654],         [-88.43898, 31.246896],         [-88.438211, 31.231252],         [-88.438104, 31.23006],         [-88.4335076962076, 31.1427912908627],         [-88.432007, 31.114298],         [-88.4304196826215, 31.0853230573691],         [-88.425807, 31.001123],         [-88.425729, 31.000183],         [-88.4256361537673, 30.9983011286609],         [-88.4220230007208, 30.9250672562186],         [-88.419562, 30.875186],         [-88.41863, 30.866528],         [-88.4184764744795, 30.8632750694073],         [-88.4182537702715, 30.8585563664258],         [-88.4181272847116, 30.8558763641312],         [-88.4148111125415, 30.7856126199293],         [-88.4124506012791, 30.7355976173844],         [-88.41227, 30.731771],         [-88.412209, 30.730395],         [-88.41155, 30.712956],         [-88.411339, 30.706334],         [-88.409571, 30.668731],         [-88.40807, 30.63697],         [-88.4080643348131, 30.6369204575682],         [-88.407462, 30.631653],         [-88.407484, 30.622736],         [-88.4060104917735, 30.589761],         [-88.404676680269, 30.5599122122086],         [-88.4041884107507, 30.5489854409314],         [-88.404013, 30.54506],         [-88.4040045380663, 30.5448844664734],         [-88.403931, 30.543359],         [-88.403547, 30.5331],         [-88.402283, 30.510852],         [-88.4019654852472, 30.5046667163986],         [-88.4004035205078, 30.4742391699529],         [-88.4004023553571, 30.4742164724636],         [-88.4003178648367, 30.4725705715224],         [-88.3995810543803, 30.458217280556],         [-88.395023, 30.369425],         [-88.374671, 30.385608],         [-88.364022, 30.388006],         [-88.359528, 30.400858],         [-88.35727, 30.405676],         [-88.350021, 30.405061],         [-88.343603, 30.400448],         [-88.338018, 30.404753],         [-88.331957, 30.401166],         [-88.326134, 30.397783],         [-88.321143, 30.396348],         [-88.315082, 30.391633],         [-88.314844, 30.384457],         [-88.31223, 30.376563],         [-88.314607, 30.371437],         [-88.311517, 30.370206],         [-88.304743, 30.371334],         [-88.303317, 30.37318],         [-88.303554, 30.379229],         [-88.29987, 30.385585],         [-88.2926965894487, 30.3872290834439],         [-88.292265, 30.387328],         [-88.288105, 30.387328],         [-88.287392, 30.384252],         [-88.282635, 30.382876],         [-88.275449825652, 30.3820084364898],         [-88.2717858169306, 30.381566031043],         [-88.2708, 30.381447],         [-88.267531, 30.381085],         [-88.265637, 30.381093],         [-88.260695, 30.382381],         [-88.241041757723, 30.3752903664424],         [-88.239957, 30.374899],         [-88.238748, 30.373505],         [-88.234466, 30.371715],         [-88.230886, 30.371625],         [-88.224536, 30.371307],         [-88.216461, 30.367599],         [-88.214072, 30.365558],         [-88.209231, 30.360017],         [-88.204495, 30.362102],         [-88.200065, 30.362378],         [-88.196264, 30.36348],         [-88.193663, 30.363317],         [-88.1897962500773, 30.3629526683256],         [-88.187104, 30.362699],         [-88.187858, 30.358829],         [-88.188023, 30.356193],         [-88.18718, 30.352616],         [-88.188527, 30.348124],         [-88.188532, 30.345053],         [-88.196353, 30.343586],         [-88.198361, 30.338819],         [-88.196613, 30.337433],         [-88.195776, 30.33271],         [-88.194042, 30.330475],         [-88.193224, 30.326038],         [-88.195561, 30.323819],         [-88.195664, 30.321242],         [-88.191542, 30.317002],         [-88.175456, 30.324158],         [-88.155775, 30.327184],         [-88.146112, 30.323033],         [-88.139976, 30.313116],         [-88.1390536385524, 30.3123728402051],         [-88.138576, 30.311988],         [-88.1385138087836, 30.3123715204317],         [-88.137269, 30.320048],         [-88.134468, 30.327865],         [-88.131387, 30.334312],         [-88.128052, 30.338509],         [-88.124611, 30.341623],         [-88.115432, 30.35657],         [-88.107274, 30.377246],         [-88.10407, 30.4273],         [-88.1063768712011, 30.4520917995834],         [-88.106437, 30.452738],         [-88.100646, 30.46122],         [-88.096867, 30.471053],         [-88.1003016477382, 30.4833842887921],         [-88.102988, 30.493029],         [-88.1036982616205, 30.500199],         [-88.103768, 30.500903],         [-88.100874, 30.50975],         [-88.0915676568704, 30.5224337931017],         [-88.090734, 30.52357],         [-88.0897608275368, 30.5242001971768],         [-88.082792, 30.528713],         [-88.081617, 30.546317],         [-88.0849284846215, 30.560790648342],         [-88.0852889930346, 30.5623663379769],         [-88.085493, 30.563258],         [-88.0871276817068, 30.5641169261882],         [-88.087655, 30.564394],         [-88.0874119213592, 30.565055102057],         [-88.0872670721837, 30.5654490490018],         [-88.085625, 30.569915],         [-88.083106, 30.572842],         [-88.074898, 30.578892],         [-88.064898, 30.588292],         [-88.0612, 30.596502],         [-88.0605006951967, 30.5989906042595],         [-88.059104, 30.603961],         [-88.059053, 30.608291],         [-88.0589078939134, 30.6084115629206],         [-88.053998, 30.612491],         [-88.059598, 30.619091],         [-88.060293, 30.626562],         [-88.058507, 30.629973],         [-88.054693, 30.63376],         [-88.056013, 30.637547],         [-88.059681, 30.640198],         [-88.061877, 30.643586],         [-88.058066, 30.645538],         [-88.051647, 30.646521],         [-88.0504871600114, 30.6470892897996],         [-88.044716, 30.649917],         [-88.038407, 30.647898],         [-88.034588, 30.653715],         [-88.02919, 30.65904],         [-88.026036, 30.65856],         [-88.023981, 30.660006],         [-88.021801, 30.668625],         [-88.020105, 30.675666],         [-88.011412, 30.685126],         [-88.0089012750009, 30.6834340138575],         [-88.006898, 30.682084],         [-88.005812172042, 30.6818162688907],         [-87.9976283912748, 30.6797984052996],         [-87.990578, 30.67806],         [-87.986556282732, 30.6776184845159],         [-87.9861324344368, 30.6775719532526],         [-87.985559, 30.677509],         [-87.970897781531, 30.6682635572949],         [-87.9604964261525, 30.6617044070161],         [-87.955989, 30.658862],         [-87.936717, 30.657432],         [-87.931705, 30.654362],         [-87.93107, 30.652694],         [-87.929841, 30.650341],         [-87.925375, 30.648894],         [-87.9253017075927, 30.6481356142893],         [-87.924664, 30.641537],         [-87.919346, 30.63606],         [-87.918571, 30.630731],         [-87.921326, 30.629379],         [-87.921437, 30.62689],         [-87.9205869063953, 30.6262567505487],         [-87.917748, 30.624142],         [-87.913976, 30.620094],         [-87.91253, 30.615795],         [-87.9128598513308, 30.6117293716022],         [-87.9138038446372, 30.6000940509725],         [-87.914956, 30.585893],         [-87.9143740690017, 30.5843028838652],         [-87.9125924365473, 30.5794346047727],         [-87.911431, 30.576261],         [-87.907891, 30.573114],         [-87.9043232612277, 30.5662823025228],         [-87.904168, 30.565985],         [-87.9040338118332, 30.5651599912706],         [-87.9027987864289, 30.5575668721183],         [-87.9024024885759, 30.5551303742075],         [-87.902375008612, 30.5549614233184],         [-87.9021004422839, 30.5532733488565],         [-87.901711, 30.550879],         [-87.9021722477051, 30.5491883087284],         [-87.9043909997987, 30.5410555315748],         [-87.905343, 30.537566],         [-87.911141, 30.525848],         [-87.9122941570303, 30.5238502975214],         [-87.91595, 30.517517],         [-87.920603, 30.51289],         [-87.921522, 30.511366],         [-87.9216257305834, 30.5102260385107],         [-87.921715, 30.509245],         [-87.9228062305104, 30.5071930515984],         [-87.925026, 30.503019],         [-87.9252032633027, 30.5022939366533],         [-87.9253133725115, 30.5018435549317],         [-87.926565, 30.496724],         [-87.933716, 30.486798],         [-87.93398386069, 30.4864939085373],         [-87.936969, 30.483105],         [-87.93203, 30.48165],         [-87.925159, 30.477434],         [-87.921278, 30.473848],         [-87.9207225101149, 30.4724211883704],         [-87.920031, 30.470645],         [-87.919543, 30.4686167577608],         [-87.9176827375353, 30.4608850714763],         [-87.914136, 30.446144],         [-87.9100506889949, 30.4212132880055],         [-87.908908, 30.41424],         [-87.906343, 30.40938],         [-87.865017, 30.38345],         [-87.853806, 30.378481],         [-87.849378, 30.378069],         [-87.843861, 30.378169],         [-87.839609, 30.377227],         [-87.837368, 30.376334],         [-87.8371931337561, 30.3754978579601],         [-87.837107, 30.375086],         [-87.837353, 30.371802],         [-87.83774, 30.370548],         [-87.837479, 30.368144],         [-87.83454, 30.361423],         [-87.8317484564552, 30.3568618814269],         [-87.82988, 30.353809],         [-87.809266, 30.332702],         [-87.796717, 30.324198],         [-87.772758, 30.311701],         [-87.755516, 30.291217],         [-87.755466757673, 30.2885001399316],         [-87.7553717037016, 30.2832557017534],         [-87.7553479180657, 30.2819433705036],         [-87.755314, 30.280072],         [-87.755674548876, 30.2794479522461],         [-87.7573658456151, 30.2765206100707],         [-87.759304, 30.273166],         [-87.768003, 30.262455],         [-87.7716415610064, 30.2609420499608],         [-87.780364143592, 30.2573151129268],         [-87.7860993460644, 30.2549303584071],         [-87.78775, 30.254244],         [-87.802087, 30.253054],         [-87.817743, 30.254292],         [-87.8229357244899, 30.2525747046188],         [-87.860085, 30.240289],         [-87.879343, 30.23859],         [-87.893201, 30.239237],         [-87.90046, 30.241531],         [-87.913762, 30.247837],         [-87.918247, 30.253308],         [-87.936041, 30.261469],         [-87.948979, 30.256564],         [-87.966847, 30.235618],         [-88.011734, 30.232448],         [-88.023991, 30.23039],         [-88.02858, 30.226763],         [-88.027678, 30.223645],         [-88.021364, 30.223334],         [-88.013607, 30.22349],         [-87.999996, 30.225753],         [-87.962253, 30.229522],         [-87.926119, 30.230373],         [-87.838462, 30.227185],         [-87.8314807693541, 30.2275865377238],         [-87.8282340300667, 30.2277732796278],         [-87.8007598925694, 30.2293535028283],         [-87.80056, 30.229365],         [-87.736472447708, 30.2405150317797],         [-87.73553, 30.240679],         [-87.7311904949698, 30.2411772799321],         [-87.7147045818605, 30.2430702607233],         [-87.7124431944754, 30.2433299225845],         [-87.6909900183965, 30.2457932650731],         [-87.6866200759241, 30.2462950399583],         [-87.6777388584921, 30.2473148181101],         [-87.656888, 30.249709],         [-87.6382462357425, 30.2545339504502],         [-87.6381406732961, 30.2545612726267],         [-87.6003191760141, 30.2643504131726],         [-87.5822073192866, 30.2690382104254],         [-87.581362, 30.269257],         [-87.574075, 30.27088],         [-87.565044, 30.271745],         [-87.558665, 30.271302],         [-87.5527352179064, 30.2727110372184],         [-87.5488386853542, 30.2736369328588],         [-87.543923, 30.274805],         [-87.5241849433393, 30.279146],         [-87.518324, 30.280435],         [-87.5183423750478, 30.2815722842093],         [-87.5183643805646, 30.2829342685194],         [-87.51838, 30.283901],         [-87.50548, 30.287101],         [-87.49998, 30.287901],         [-87.452378, 30.300201],         [-87.450078, 30.3111],         [-87.455578, 30.3102],         [-87.459578, 30.3083],         [-87.462978, 30.3078],         [-87.465778, 30.3076],         [-87.468678, 30.3082],         [-87.475879, 30.3079],         [-87.481879, 30.306001],         [-87.483679, 30.304801],         [-87.494879, 30.305001],         [-87.5023015499663, 30.3071617220507],         [-87.50278, 30.307301],         [-87.50468, 30.308901],         [-87.50578, 30.3125],         [-87.5058411579151, 30.3150873925325],         [-87.505943, 30.319396],         [-87.504701, 30.324039],         [-87.502572, 30.327405],         [-87.49998, 30.328957],         [-87.4920423204518, 30.3308608280906],         [-87.491879, 30.3309],         [-87.475579, 30.3314],         [-87.4672695874252, 30.3328753652829],         [-87.464878, 30.3333],         [-87.462978, 30.334],         [-87.459978, 30.3363],         [-87.452278, 30.344099],         [-87.450962, 30.346262],         [-87.451978, 30.360299],         [-87.451878, 30.364999],         [-87.451378, 30.367199],         [-87.449078, 30.370399],         [-87.441823, 30.376304],         [-87.438678, 30.380798],         [-87.438678, 30.382098],         [-87.440878, 30.386698],         [-87.441178, 30.388598],         [-87.440678, 30.391498],         [-87.4383930064683, 30.3944550504528],         [-87.437278, 30.395898],         [-87.434278, 30.397498],         [-87.431778, 30.403198],         [-87.4306855384615, 30.4048366923077],         [-87.430680166419, 30.4048447503715],         [-87.429578, 30.406498],         [-87.426177, 30.409198],         [-87.422677, 30.410098],         [-87.419177, 30.410198],         [-87.413177, 30.408998],         [-87.408877, 30.408798],         [-87.4047733501918, 30.4098619092095],         [-87.403477, 30.410198],         [-87.401777, 30.411398],         [-87.398776, 30.415098],         [-87.395676, 30.417597],         [-87.386376, 30.420497],         [-87.3843547694845, 30.4216251286598],         [-87.382076, 30.422897],         [-87.371169, 30.43049],         [-87.368191, 30.433407],         [-87.3676121661119, 30.4345795003946],         [-87.366591, 30.436648],         [-87.366939, 30.44048],         [-87.36868, 30.444631],         [-87.370768, 30.446865],         [-87.3782686358461, 30.449194175159],         [-87.381176, 30.450097],         [-87.391976, 30.451597],         [-87.396877, 30.450597],         [-87.399877, 30.450997],         [-87.404677, 30.452897],         [-87.407877, 30.456396],         [-87.414677, 30.457296],         [-87.425078, 30.465596],         [-87.429578, 30.470596],         [-87.430578, 30.476596],         [-87.431578, 30.477696],         [-87.434678, 30.479196],         [-87.435578, 30.480496],         [-87.4347654303216, 30.4818711179173],         [-87.432978, 30.484896],         [-87.430578, 30.491096],         [-87.431178, 30.495795],         [-87.438269, 30.505357],         [-87.43969, 30.506649],         [-87.44322, 30.506782],         [-87.444714, 30.507494],         [-87.447702, 30.510458],         [-87.447782, 30.511913],         [-87.447305, 30.512629],         [-87.446499, 30.513569],         [-87.445182, 30.51398],         [-87.444944, 30.514943],         [-87.446427, 30.520306],         [-87.4464721004875, 30.5222240471467],         [-87.446586, 30.527068],         [-87.43544, 30.54914],         [-87.434963, 30.549599],         [-87.431441, 30.550263],         [-87.427891, 30.554159],         [-87.426037, 30.560073],         [-87.423362, 30.561425],         [-87.422805, 30.561379],         [-87.422408, 30.560439],         [-87.420925, 30.560668],         [-87.418647, 30.561837],         [-87.41666, 30.566306],         [-87.416951, 30.568003],         [-87.418513, 30.569561],         [-87.418354, 30.570043],         [-87.416261, 30.572448],         [-87.414513, 30.573456],         [-87.412712, 30.573227],         [-87.4125653736963, 30.5736132585274],         [-87.4124710380697, 30.573861767419],         [-87.408736, 30.583701],         [-87.406558, 30.599928],         [-87.404597, 30.603389],         [-87.401178, 30.604397],         [-87.39927, 30.605611],         [-87.397308, 30.608728],         [-87.395026, 30.615281],         [-87.395053, 30.6159],         [-87.39643, 30.616909],         [-87.39643, 30.617734],         [-87.395659, 30.623372],         [-87.394479, 30.625192],         [-87.393775, 30.627006],         [-87.3937572497219, 30.6273737250124],         [-87.3936159919869, 30.6303001018331],         [-87.393588, 30.63088],         [-87.395941, 30.643968],         [-87.397185, 30.648117],         [-87.396177, 30.650454],         [-87.397262, 30.654351],         [-87.400177, 30.657217],         [-87.400707, 30.657148],         [-87.405874, 30.666616],         [-87.407118, 30.671796],         [-87.406561, 30.674019],         [-87.406958, 30.675165],         [-87.412739, 30.678055],         [-87.419527, 30.679981],         [-87.424883, 30.683374],         [-87.430372, 30.688645],         [-87.436021, 30.688668],         [-87.439814, 30.690479],         [-87.4401022024296, 30.6907361149007],         [-87.44228, 30.692679],         [-87.44358, 30.694604],         [-87.449362, 30.698913],         [-87.451404, 30.699806],         [-87.456948, 30.69756],         [-87.466338, 30.700835],         [-87.467717, 30.701683],         [-87.470397, 30.705281],         [-87.474429, 30.706586],         [-87.479579, 30.712865],         [-87.479819, 30.71495],         [-87.481225, 30.716508],         [-87.487036, 30.7185],         [-87.496772, 30.720353],         [-87.497515, 30.720123],         [-87.498482281574, 30.7204185023051],         [-87.502317, 30.72159],         [-87.505153, 30.726313],         [-87.511729, 30.733535],         [-87.523613, 30.738306],         [-87.532607, 30.743489],         [-87.535365, 30.749775],         [-87.535416, 30.75476],         [-87.536528, 30.761383],         [-87.537085, 30.76253],         [-87.54226, 30.767504],         [-87.54616, 30.77202],         [-87.545364, 30.774105],         [-87.545044, 30.778666],         [-87.552051, 30.786254],         [-87.552954, 30.786941],         [-87.554838, 30.787125],         [-87.559484, 30.790447],         [-87.560068, 30.792258],         [-87.564209, 30.796246],         [-87.56814, 30.799088],         [-87.572043, 30.800532],         [-87.576849, 30.808163],         [-87.581869, 30.812403],         [-87.58787, 30.815037],         [-87.594297, 30.816984],         [-87.600486, 30.820627],         [-87.60163, 30.82514],         [-87.60357, 30.828624],         [-87.605776, 30.831304],         [-87.610982, 30.832632],         [-87.615923, 30.834693],         [-87.615367, 30.837031],         [-87.617281, 30.840353],         [-87.624137, 30.845713],         [-87.626075, 30.846494],         [-87.627323, 30.847961],         [-87.626497, 30.85188],         [-87.62538, 30.854355],         [-87.626228, 30.857127],         [-87.628245, 30.860131],         [-87.634938, 30.865886],         [-87.6348442887866, 30.866109347267],         [-87.629987, 30.877686],         [-87.629454, 30.880115],         [-87.6244, 30.884696],         [-87.622062, 30.885408],         [-87.620788, 30.887494],         [-87.620922, 30.889923],         [-87.622519, 30.89368],         [-87.622203, 30.897508],         [-87.620715, 30.89893],         [-87.616013, 30.901453],         [-87.614951, 30.904226],         [-87.614209, 30.908536],         [-87.611847, 30.914541],         [-87.6102, 30.916628],         [-87.608262, 30.9219],         [-87.607811, 30.92449],         [-87.602684, 30.934277],         [-87.600691, 30.937074],         [-87.598299, 30.938793],         [-87.59689, 30.941131],         [-87.592055, 30.951492],         [-87.589187, 30.964464],         [-87.590917, 30.969414],         [-87.593046, 30.972966],         [-87.594111, 30.976335],         [-87.5941266776319, 30.976700910013],         [-87.594164, 30.977572],         [-87.592676, 30.98014],         [-87.593395, 30.982959],         [-87.596722, 30.98761],         [-87.599172, 30.995722],         [-87.598928, 30.997457],         [-87.571281, 30.99787],         [-87.548543, 30.997927],         [-87.51952, 30.997586],         [-87.514910818753, 30.9976582879967],         [-87.4983756803156, 30.9979176164912],         [-87.4884222032622, 30.9980737216384],         [-87.4837736214982, 30.9981466275723],         [-87.480243, 30.998202],         [-87.479703, 30.998197],         [-87.478706, 30.998213],         [-87.4778008656509, 30.9982103214084],         [-87.466879, 30.998178],         [-87.466827, 30.998178],         [-87.461783, 30.998201],         [-87.461638, 30.998202],         [-87.458658, 30.998386],         [-87.455705, 30.998318],         [-87.449811, 30.998272],         [-87.432292, 30.998205],         [-87.425774, 30.99809],         [-87.367842, 30.998292],         [-87.364011, 30.998218],         [-87.3638727343641, 30.9982184302701],         [-87.355656, 30.998244],         [-87.3478772559728, 30.9982540449584],         [-87.333973, 30.998272],         [-87.312183, 30.998435],         [-87.30403, 30.998191],         [-87.301567, 30.998434],         [-87.2977209676648, 30.9984041688752],         [-87.290995, 30.998352],         [-87.288905, 30.998345],         [-87.2762740065311, 30.9983027902622],         [-87.2664842854257, 30.9982700753722],         [-87.265564, 30.998267],         [-87.26054, 30.998195],         [-87.259689, 30.998172],         [-87.25796, 30.998263],         [-87.257002, 30.998194],         [-87.255592, 30.998216],         [-87.25498, 30.998285],         [-87.2499289302495, 30.9977324342892],         [-87.2399697516361, 30.9966429421853],         [-87.2383167408441, 30.9964621097818],         [-87.237685, 30.996393],         [-87.2295406412137, 30.9968814475167],         [-87.224746, 30.997169],         [-87.1748002724822, 30.9986850890056],         [-87.1636528320332, 30.9990234665355],         [-87.1636472414627, 30.9990236362357],         [-87.162614, 30.999055],         [-87.1505897595909, 30.9993173890697],         [-87.140755, 30.999532],         [-87.124969, 30.998802],         [-87.118873, 30.999427],         [-87.1150729857602, 30.9994055190278],         [-87.0969117097547, 30.9993028557638],         [-87.0761079929049, 30.9991852551351],         [-87.0709929924211, 30.9991563407215],         [-87.068633, 30.999143],         [-87.064063, 30.999191],         [-87.053737, 30.999131],         [-87.039989, 30.999594],         [-87.036366, 30.999348],         [-87.027107, 30.999255],         [-87.0241722401182, 30.9992628697183],         [-87.004359, 30.999316],         [-86.998477, 30.998661],         [-86.92781, 30.997704],         [-86.9062578463152, 30.9976350113795],         [-86.888135, 30.997577],         [-86.872989, 30.997631],         [-86.831934, 30.997378],         [-86.830497, 30.997401],         [-86.785918, 30.996978],         [-86.785692460564, 30.9969741853795],         [-86.74524, 30.99629],         [-86.728392, 30.996739],         [-86.727293, 30.996882],         [-86.725379, 30.996872],         [-86.706261, 30.994703],         [-86.6883130015449, 30.9945961283541],         [-86.678383, 30.994537],         [-86.664681, 30.994534],         [-86.6277543822176, 30.9947526807274],         [-86.567586, 30.995109],         [-86.563436, 30.995223],         [-86.5424879807519, 30.9942704232822],         [-86.519938, 30.993245],         [-86.512834, 30.9937],         [-86.49995, 30.99334],         [-86.458319, 30.993998],         [-86.454704, 30.993791],         [-86.404912, 30.994049],         [-86.391937, 30.994172],         [-86.388647, 30.994181],         [-86.3886460004315, 30.9941810207682],         [-86.374545, 30.994474],         [-86.36927, 30.994477],         [-86.364907, 30.994455],         [-86.350230280186, 30.9943513326318],         [-86.3485063167533, 30.994339155609],         [-86.3340424591783, 30.9942369917695],         [-86.3225459271826, 30.9941557873021],         [-86.3091205623614, 30.99406095874],         [-86.304596, 30.994029],         [-86.297148668496, 30.9939169188496],         [-86.289247, 30.993798],         [-86.2890657988644, 30.9937983038526],         [-86.2888491620992, 30.9937986671265],         [-86.2711934199209, 30.9938282736944],         [-86.256448, 30.993853],         [-86.238335, 30.99437],         [-86.1872472578628, 30.9940490694821],         [-86.180232, 30.994005],         [-86.175204, 30.993798],         [-86.168979, 30.993706],         [-86.162886, 30.993682],         [-86.1327395143734, 30.9931803018294],         [-86.116918, 30.992917],         [-86.056213, 30.993133],         [-86.052462, 30.993247],         [-86.035039, 30.99332],         [-85.998643, 30.99287],         [-85.9972899798363, 30.9928776855665],         [-85.9656625094903, 30.9930573392277],         [-85.9358412897118, 30.9932267328358],         [-85.9358369815805, 30.9932267573073],         [-85.893543, 30.993467],         [-85.8311249866156, 30.9940624465768],         [-85.8311224511907, 30.9940624707639],         [-85.772671867107, 30.9946200694171],         [-85.749932, 30.994837],         [-85.749619, 30.995292],         [-85.7456723399541, 30.9953176885335],         [-85.7416280289593, 30.9953440126702],         [-85.6922076032916, 30.9956656867558],         [-85.6524690241305, 30.9959243423813],         [-85.6462550538674, 30.9959647886781],         [-85.6314371471168, 30.9960612373942],         [-85.5833993142329, 30.9963739122803],         [-85.5832890482388, 30.9963746299939],         [-85.5794903431535, 30.996399355499],         [-85.498272, 30.996928],         [-85.4979920209678, 30.9969323496585],         [-85.4926481766373, 30.9970153697974],         [-85.4882980060804, 30.9970829525603],         [-85.4075437687336, 30.9983375227886],         [-85.3817482781607, 30.9987382727128],         [-85.3290575307526, 30.999556858154],         [-85.328920402131, 30.9995589885374],         [-85.3129421786429, 30.9998072207559],         [-85.243632, 31.000884],         [-85.2400920010687, 31.0008820549456],         [-85.2131520012213, 31.0008672527479],         [-85.2034099786264, 31.0008618999882],         [-85.1859660283981, 31.0008523154002],         [-85.154452, 31.000835],         [-85.152218, 31.000834],         [-85.152085, 31.000888],         [-85.145835, 31.000695],         [-85.1172047745361, 31.0006593342114],         [-85.057534, 31.000585],         [-85.054802, 31.000585],         [-85.052088, 31.000585],         [-85.031155, 31.000647],         [-85.030107, 31.000653],         [-85.027512, 31.00067],         [-85.024108, 31.000681],         [-85.002499, 31.000682],         [-85.001366, 31.005044],         [-84.999626, 31.009079],         [-84.999428, 31.013843],         [-85.00006, 31.014983],         [-85.004549, 31.01918],         [-85.005051, 31.024701],         [-85.009409, 31.032378],         [-85.008552, 31.042824],         [-85.008816, 31.045573],         [-85.011392, 31.053546],         [-85.012642, 31.055402],         [-85.018148, 31.059253],         [-85.028573, 31.074583],         [-85.0284731949453, 31.0755261577669],         [-85.028333, 31.076851],         [-85.026068, 31.08418],         [-85.029736, 31.096163],         [-85.032832, 31.10057],         [-85.035615, 31.108192],         [-85.037079, 31.109751],         [-85.040513, 31.111583],         [-85.0470614668667, 31.1165514332678],         [-85.050178, 31.118916],         [-85.052867, 31.119489],         [-85.054677, 31.120818],         [-85.0559012903933, 31.1233847023148],         [-85.061072, 31.134225],         [-85.06243, 31.139518],         [-85.064028, 31.142495],         [-85.070181, 31.14868],         [-85.0757293765372, 31.155777481201],         [-85.076628, 31.156927],         [-85.077801, 31.157889],         [-85.0826174523208, 31.1593395178154],         [-85.083582, 31.15963],         [-85.092106, 31.160293],         [-85.100207, 31.16549],         [-85.100447, 31.166727],         [-85.098426, 31.17777],         [-85.098507, 31.180153],         [-85.102052, 31.184734],         [-85.104424, 31.18565],         [-85.106503, 31.185305],         [-85.107516, 31.186451],         [-85.107744625537, 31.189854815531],         [-85.108133, 31.195637],         [-85.106963, 31.202693],         [-85.105631, 31.204595],         [-85.09977, 31.209751],         [-85.098704, 31.211286],         [-85.098707, 31.219511],         [-85.096763, 31.225651],         [-85.098844, 31.232524],         [-85.100765, 31.234813],         [-85.102472, 31.23786],         [-85.10426, 31.241869],         [-85.106182, 31.248077],         [-85.109149, 31.254609],         [-85.111711, 31.258022],         [-85.112352, 31.25958],         [-85.113261, 31.264343],         [-85.111983, 31.267987],         [-85.111905, 31.272477],         [-85.112546, 31.274378],         [-85.114548, 31.276302],         [-85.114601, 31.277333],         [-85.112762, 31.280037],         [-85.110309, 31.281733],         [-85.0998151895073, 31.2840112491625],         [-85.099107, 31.284165],         [-85.09316, 31.289688],         [-85.089774, 31.295026],         [-85.087695, 31.304053],         [-85.087651, 31.308677],         [-85.087404, 31.311223],         [-85.084469, 31.316194],         [-85.083776, 31.31821],         [-85.084152, 31.328313],         [-85.088983, 31.334292],         [-85.089411, 31.336033],         [-85.08781, 31.337981],         [-85.087063, 31.340317],         [-85.0859458208434, 31.349516257559],         [-85.085864, 31.35019],         [-85.085918, 31.353146],         [-85.087413, 31.354428],         [-85.09099, 31.354428],         [-85.091791, 31.355207],         [-85.092619, 31.357474],         [-85.092487, 31.362881],         [-85.092167, 31.364576],         [-85.0871444124615, 31.3740326428487],         [-85.08691, 31.374474],         [-85.082431, 31.38454],         [-85.080403, 31.393932],         [-85.078641, 31.39636],         [-85.077626, 31.39888],         [-85.077387, 31.402844],         [-85.079978, 31.410472],         [-85.079818, 31.411732],         [-85.076746, 31.415971],         [-85.075827, 31.421506],         [-85.075523, 31.424761],         [-85.073978, 31.427179],         [-85.072689, 31.428278],         [-85.069083, 31.427619],         [-85.06697, 31.428594],         [-85.065875, 31.430586],         [-85.065554, 31.439543],         [-85.065955, 31.442979],         [-85.066703, 31.447286],         [-85.069268, 31.453472],         [-85.071621, 31.468384],         [-85.065687, 31.484122],         [-85.062105, 31.488017],         [-85.058923, 31.495989],         [-85.052951, 31.506518],         [-85.048445, 31.513684],         [-85.0479257132954, 31.5142636818047],         [-85.045642, 31.516813],         [-85.045495582904, 31.5171292698553],         [-85.044986, 31.51823],         [-85.044556, 31.520908],         [-85.047649, 31.523751],         [-85.048263, 31.526012],         [-85.047196, 31.528671],         [-85.042983, 31.5352],         [-85.041813, 31.537754],         [-85.041305, 31.540987],         [-85.041881, 31.544684],         [-85.042547, 31.545953],         [-85.045698, 31.548707],         [-85.050838, 31.555551],         [-85.051873, 31.557871],         [-85.052931, 31.56289],         [-85.05796, 31.57084],         [-85.057719, 31.573062],         [-85.055284, 31.577092],         [-85.055417, 31.578696],         [-85.05844, 31.58369],         [-85.0583387397868, 31.5866430659763],         [-85.058109, 31.593343],         [-85.056405, 31.600963],         [-85.0560661470677, 31.6042922893],         [-85.0560652965444, 31.6043006458404],         [-85.055976, 31.605178],         [-85.057314, 31.606713],         [-85.059696, 31.607262],         [-85.060552, 31.608224],         [-85.060418, 31.611271],         [-85.05833, 31.614546],         [-85.057527, 31.616883],         [-85.0575059086538, 31.617563000625],         [-85.057473, 31.618624],         [-85.058169, 31.620227],         [-85.059534, 31.621717],         [-85.065236, 31.624351],         [-85.067628, 31.625267],         [-85.073829, 31.629567],         [-85.080029, 31.636867],         [-85.082829, 31.637967],         [-85.084503, 31.639026],         [-85.085173, 31.640749],         [-85.085365, 31.642186],         [-85.085173, 31.644101],         [-85.0830537084557, 31.6486699475309],         [-85.082267, 31.650366],         [-85.080301, 31.650772],         [-85.078513, 31.651685],         [-85.078632, 31.653309],         [-85.079925, 31.655287],         [-85.083161, 31.656403],         [-85.08546, 31.657028],         [-85.087829, 31.657866],         [-85.092429, 31.659966],         [-85.10943, 31.677465],         [-85.11263, 31.685165],         [-85.11393, 31.686865],         [-85.12233, 31.691265],         [-85.12553, 31.694965],         [-85.1261360634263, 31.7014918368987],         [-85.12683, 31.708965],         [-85.12653, 31.716764],         [-85.12573, 31.718864],         [-85.12223, 31.722764],         [-85.11913, 31.730964],         [-85.11893, 31.732664],         [-85.12393, 31.747564],         [-85.12663, 31.752463],         [-85.129231, 31.758663],         [-85.1269541364676, 31.7623302614517],         [-85.12563, 31.764463],         [-85.12523, 31.767063],         [-85.12633, 31.768863],         [-85.130731, 31.772263],         [-85.140431, 31.779663],         [-85.1409509602038, 31.7804602723125],         [-85.141931, 31.781963],         [-85.14180656, 31.78212892],         [-85.137131, 31.788363],         [-85.132931, 31.792363],         [-85.132231, 31.795162],         [-85.132831, 31.798862],         [-85.1328473916616, 31.8003700328662],         [-85.132931, 31.808062],         [-85.131531, 31.813062],         [-85.131331, 31.817562],         [-85.131761981986, 31.8184448059333],         [-85.133647, 31.822306],         [-85.134315, 31.824608],         [-85.13262, 31.826833],         [-85.133083, 31.828666],         [-85.135931, 31.830462],         [-85.139231, 31.834161],         [-85.141831, 31.839261],         [-85.141331, 31.841061],         [-85.138331, 31.844161],         [-85.137731, 31.845861],         [-85.138031, 31.851262],         [-85.140231, 31.855261],         [-85.140731, 31.857461],         [-85.140131, 31.858761],         [-85.137431, 31.860661],         [-85.135831, 31.862461],         [-85.133731, 31.870061],         [-85.128831, 31.87636],         [-85.1284798, 31.8774136],         [-85.128431, 31.87756],         [-85.128431, 31.87966],         [-85.129331, 31.88246],         [-85.1297857547641, 31.8833101936895],         [-85.131631, 31.88676],         [-85.133731, 31.88956],         [-85.1343160680101, 31.8914127153652],         [-85.134331, 31.89146],         [-85.134131, 31.89216],         [-85.132931, 31.89306],         [-85.121131, 31.89326],         [-85.117031, 31.89286],         [-85.114031, 31.89336],         [-85.11203, 31.89476],         [-85.11063, 31.89686],         [-85.111558, 31.901254],         [-85.109775, 31.904143],         [-85.10983, 31.90806],         [-85.112731, 31.909859],         [-85.113131, 31.911859],         [-85.10913, 31.914359],         [-85.10243, 31.917359],         [-85.10133, 31.918659],         [-85.10023, 31.924059],         [-85.09953, 31.925259],         [-85.09823, 31.926259],         [-85.09183, 31.928859],         [-85.08643, 31.935959],         [-85.08473, 31.937359],         [-85.07893, 31.940159],         [-85.07893, 31.941459],         [-85.08243, 31.945358],         [-85.08683, 31.957758],         [-85.08673, 31.959158],         [-85.08573, 31.960758],         [-85.08323, 31.962458],         [-85.07393, 31.964158],         [-85.07023, 31.965658],         [-85.067829, 31.967358],         [-85.065929, 31.971158],         [-85.065929, 31.972458],         [-85.066829, 31.974758],         [-85.06993, 31.978358],         [-85.07093, 31.981658],         [-85.06833, 31.986757],         [-85.0680981818182, 31.991857],         [-85.06803, 31.993357],         [-85.064544, 32.002489],         [-85.063441, 32.00414],         [-85.055075, 32.010714],         [-85.053815, 32.013502],         [-85.054768, 32.017407],         [-85.053669, 32.020662],         [-85.05014, 32.021092],         [-85.04931, 32.022694],         [-85.050601, 32.023906],         [-85.052814, 32.02547],         [-85.0544436067118, 32.026652024344],         [-85.055217, 32.027213],         [-85.056253, 32.028336],         [-85.056464, 32.031819],         [-85.055474, 32.034221],         [-85.054627, 32.036694],         [-85.054839, 32.038814],         [-85.055333, 32.04058],         [-85.05803, 32.043756],         [-85.05883, 32.046656],         [-85.05663, 32.054155],         [-85.05643, 32.058055],         [-85.05683, 32.059755],         [-85.056029, 32.063055],         [-85.054179, 32.067985],         [-85.054084, 32.07021],         [-85.055491, 32.072657],         [-85.055813, 32.074439],         [-85.053232, 32.080604],         [-85.051161, 32.082527],         [-85.047077, 32.084347],         [-85.045511, 32.086867],         [-85.047063, 32.090433],         [-85.04955, 32.095362],         [-85.053777, 32.107684],         [-85.055045, 32.113671],         [-85.05918, 32.125153],         [-85.06154, 32.129673],         [-85.06206, 32.132486],         [-85.061144, 32.134065],         [-85.058749, 32.136018],         [-85.047865, 32.142033],         [-85.045593, 32.143758],         [-85.033989, 32.156348],         [-85.030336, 32.161727],         [-85.026583, 32.166104],         [-85.014648, 32.176882],         [-85.013065, 32.179112],         [-85.011267, 32.180493],         [-85.008531, 32.181903],         [-84.995929, 32.184852],         [-84.973728, 32.191552],         [-84.966828, 32.193952],         [-84.964628, 32.195152],         [-84.961728, 32.19865],         [-84.962228, 32.200051],         [-84.963228, 32.20225],         [-84.966928, 32.204451],         [-84.969428, 32.204451],         [-84.972328, 32.20355],         [-84.974628, 32.203651],         [-84.977128, 32.205751],         [-84.980229, 32.207751],         [-84.980229, 32.210051],         [-84.978729, 32.21255],         [-84.972128, 32.218251],         [-84.967428, 32.219351],         [-84.961428, 32.218051],         [-84.9582235136984, 32.2179253338705],         [-84.956328, 32.217851],         [-84.949451, 32.218511],         [-84.939328, 32.217951],         [-84.930127, 32.219051],         [-84.928227, 32.219851],         [-84.925427, 32.221551],         [-84.922927, 32.224751],         [-84.923527, 32.229751],         [-84.9230311580042, 32.2308528711019],         [-84.922627, 32.231751],         [-84.920627, 32.233951],         [-84.916327, 32.236551],         [-84.912727, 32.24335],         [-84.913927, 32.24515],         [-84.917227, 32.24595],         [-84.920327, 32.24405],         [-84.923027, 32.244549],         [-84.924127, 32.245649],         [-84.924427, 32.249797],         [-84.923015, 32.250822],         [-84.917327, 32.249049],         [-84.910098, 32.248333],         [-84.907227, 32.24905],         [-84.904087, 32.250838],         [-84.90251, 32.255233],         [-84.901454, 32.257424],         [-84.898139, 32.258608],         [-84.892296, 32.258272],         [-84.889174, 32.259232],         [-84.8891466552477, 32.2597204238197],         [-84.88908, 32.260911],         [-84.891841, 32.263398],         [-84.893959, 32.265846],         [-84.904023, 32.273749],         [-84.911127, 32.276949],         [-84.922872, 32.285333],         [-84.9338, 32.29826],         [-84.93868, 32.300708],         [-84.9557212929735, 32.3069460371336],         [-84.989514, 32.319316],         [-85.001874, 32.322015],         [-85.007103, 32.328362],         [-85.008096, 32.336677],         [-85.004582, 32.345196],         [-84.99993, 32.3488179964053],         [-84.986778, 32.359058],         [-84.983466, 32.363186],         [-84.983242, 32.365122],         [-84.985171, 32.367062],         [-84.986298, 32.369666],         [-84.98409, 32.373522],         [-84.980282, 32.374386],         [-84.977274, 32.373842],         [-84.97433, 32.374578],         [-84.971962, 32.377698],         [-84.973818, 32.379873],         [-84.979354, 32.380705],         [-84.986282, 32.380336],         [-84.988554, 32.384081],         [-84.9869699000284, 32.3875148564601],         [-84.985978, 32.389665],         [-84.983386, 32.391761],         [-84.978362, 32.390497],         [-84.976394, 32.391025],         [-84.971773, 32.390599],         [-84.96873, 32.391457],         [-84.968762, 32.393009],         [-84.973882, 32.395217],         [-84.979898, 32.400097],         [-84.981098, 32.402833],         [-84.9803047142842, 32.4073114714284],         [-84.979431, 32.412244],         [-84.97183, 32.416244],         [-84.96343, 32.422544],         [-84.9633113901639, 32.4230480918033],         [-84.963222, 32.423428],         [-84.96303, 32.424244],         [-84.967031, 32.435343],         [-84.971831, 32.442843],         [-84.983831, 32.445643],         [-84.993531, 32.450743],         [-84.9951957038802, 32.4530550887225],         [-84.9952442623814, 32.4531225310853],         [-84.995331, 32.453243],         [-84.998031, 32.461743],         [-84.9980355773463, 32.4619283596395],         [-84.9981126856546, 32.4650508605839],         [-84.998231, 32.469842],         [-84.9966933747961, 32.4726097253671],         [-84.995231, 32.475242],         [-84.9951515506849, 32.4773871315068],         [-84.994831, 32.486042],         [-84.9957165356694, 32.4889767052696],         [-84.996732, 32.492342],         [-84.998332, 32.494142],         [-84.9976909182481, 32.4992473983285],         [-84.997505, 32.500728],         [-84.999832, 32.504341],         [-85.0001824832057, 32.5064851325529],         [-85.0002841081494, 32.5071068380909],         [-85.0007888680774, 32.5101947811796],         [-85.0012243650608, 32.5128589980189],         [-85.001532, 32.514741],         [-85.0028855676767, 32.5169597521885],         [-85.0071, 32.523868],         [-85.008396, 32.524876],         [-85.013788, 32.526108],         [-85.0157046592394, 32.5301112096223],         [-85.016191, 32.531127],         [-85.016273434347, 32.5312007752769],         [-85.020237, 32.534748],         [-85.022045, 32.540044],         [-85.022509, 32.542923],         [-85.032071, 32.545429],         [-85.034841, 32.551996],         [-85.0350135739157, 32.5521061766966],         [-85.040555, 32.555644],         [-85.044364, 32.559584],         [-85.056926, 32.571242],         [-85.059672, 32.576742],         [-85.067535, 32.579546],         [-85.076399, 32.594665],         [-85.080288, 32.603577],         [-85.0806178512654, 32.608095275146],         [-85.080768, 32.610152],         [-85.08224, 32.616264],         [-85.083616, 32.6178],         [-85.08536, 32.618536],         [-85.087294, 32.62047],         [-85.088319, 32.623032],         [-85.0892541511326, 32.6250298228741],         [-85.089441, 32.625429],         [-85.088534, 32.627874],         [-85.0849280451451, 32.6303328637042],         [-85.084724, 32.630472],         [-85.082365, 32.633834],         [-85.083635, 32.635973],         [-85.086175, 32.635362],         [-85.091336, 32.634036],         [-85.096597, 32.634667],         [-85.100388, 32.637118],         [-85.102989, 32.641033],         [-85.105337, 32.644835],         [-85.100337, 32.650135],         [-85.096336, 32.652835],         [-85.089736, 32.655635],         [-85.088483, 32.657758],         [-85.093536, 32.669734],         [-85.104037, 32.679634],         [-85.112637, 32.683434],         [-85.114737, 32.685634],         [-85.1153450674004, 32.6873257492588],         [-85.117037, 32.692033],         [-85.119279, 32.703966],         [-85.119279, 32.707715],         [-85.119, 32.710057],         [-85.122738, 32.715727],         [-85.121505063206, 32.7204024261057],         [-85.120838, 32.722932],         [-85.118838, 32.724832],         [-85.117338, 32.726632],         [-85.115038, 32.728831],         [-85.113167, 32.732813],         [-85.113329, 32.735751],         [-85.114795, 32.738104],         [-85.11855, 32.740817],         [-85.124092, 32.741694],         [-85.127604, 32.743047],         [-85.132196, 32.744411],         [-85.134794631893, 32.7467952506839],         [-85.136584, 32.748437],         [-85.139576, 32.754308],         [-85.142567, 32.760682],         [-85.140573, 32.764036],         [-85.137382, 32.769068],         [-85.13439, 32.770577],         [-85.130884, 32.769562],         [-85.122189, 32.773353],         [-85.123601, 32.775711],         [-85.126219, 32.779189],         [-85.129934, 32.779649],         [-85.134673, 32.783905],         [-85.139285, 32.784921],         [-85.1401915160284, 32.7883248857941],         [-85.140558, 32.789701],         [-85.141903, 32.791821],         [-85.145771, 32.791115],         [-85.1505836689875, 32.7934570819934],         [-85.151913, 32.794104],         [-85.1529003459633, 32.7950825579662],         [-85.162137, 32.804237],         [-85.1638459228327, 32.8064092347279],         [-85.167939, 32.811612],         [-85.1679144901823, 32.8116912716779],         [-85.1672507819921, 32.813837891558],         [-85.166078, 32.817631],         [-85.1646705784048, 32.8202326623105],         [-85.164104, 32.82128],         [-85.168016, 32.829203],         [-85.165473357677, 32.8334253730464],         [-85.164651, 32.834791],         [-85.16058, 32.838249],         [-85.157432, 32.839439],         [-85.154584, 32.839805],         [-85.153905, 32.841018],         [-85.153497, 32.842781],         [-85.153462209283, 32.8434461729737],         [-85.153388, 32.844865],         [-85.154255, 32.847476],         [-85.155884, 32.849918],         [-85.1571363009798, 32.851508931773],         [-85.159841, 32.854945],         [-85.161089, 32.856045],         [-85.16231, 32.856479],         [-85.164318, 32.856183],         [-85.166761, 32.85474],         [-85.168064, 32.852863],         [-85.170099, 32.852497],         [-85.177127, 32.853895],         [-85.1783639525338, 32.854658509785],         [-85.1783807279069, 32.8546688643954],         [-85.1784707131974, 32.8547244078766],         [-85.179353, 32.855269],         [-85.1844, 32.861317],         [-85.1844236329767, 32.8614156967348],         [-85.1848106254084, 32.8630318659474],         [-85.184888, 32.863355],         [-85.1848884238249, 32.863446106048],         [-85.184914, 32.868944],         [-85.1846512046702, 32.8694746250528],         [-85.184131, 32.870525],         [-85.18474, 32.870527],         [-85.1850475779872, 32.8720030053371],         [-85.1853237424222, 32.8733282633109],         [-85.1857371444189, 32.8753120969364],         [-85.1870586538649, 32.8816537568625],         [-85.188741, 32.889727],         [-85.1890775794593, 32.8914116855049],         [-85.1907838462341, 32.8999520845814],         [-85.191284509131, 32.9024580590312],         [-85.2025511620874, 32.9588511822649],         [-85.2041165750202, 32.9666865637903],         [-85.210891601815, 33.0005976927144],         [-85.221868, 33.055538],         [-85.223261, 33.06258],         [-85.223516898458, 33.0638570222819],         [-85.2277998763677, 33.0852305712517],         [-85.2284317628998, 33.0883839047551],         [-85.232378, 33.108077],         [-85.2365086541145, 33.1295615488779],         [-85.2521437878869, 33.2108837284737],         [-85.2521537013375, 33.2109352907707],         [-85.2626626417576, 33.2655948768441],         [-85.2814046177246, 33.3630765074936],         [-85.2939021634333, 33.4280793192012],         [-85.2963097812195, 33.4406019319816],         [-85.2975274009043, 33.4469350716994],         [-85.3033886220355, 33.4774207256388],         [-85.304439, 33.482884],         [-85.313999, 33.529807],         [-85.314091, 33.530218],         [-85.3148434877199, 33.5349512560896],         [-85.314994, 33.535898],         [-85.3153400895111, 33.5376461241702],         [-85.315340215273, 33.5376467594031],         [-85.3225689183808, 33.5741594828964],         [-85.3237922987933, 33.5803388694423],         [-85.3382006083928, 33.6531163257259],         [-85.3552522157442, 33.7392452779125],         [-85.3569782031297, 33.7479633701095],         [-85.357402, 33.750104],         [-85.360491, 33.767958],         [-85.361844, 33.773951],         [-85.3764027281585, 33.8506557456616],         [-85.3764028869154, 33.850656582095],         [-85.377426, 33.856047],         [-85.3808849979311, 33.873507903946],         [-85.3864734721684, 33.9017183318811],         [-85.3887171312565, 33.9130442466707],         [-85.3914952437911, 33.9270680642863],         [-85.398837, 33.964129],         [-85.3993834093702, 33.9669047225612],         [-85.405918, 34.0001],         [-85.406748, 34.002314],         [-85.420232, 34.072278],         [-85.4218527741544, 34.0808218531424],         [-85.4278886333432, 34.11263966956],         [-85.428222, 34.114397],         [-85.42947, 34.125096],         [-85.4447082365292, 34.1998924138202],         [-85.444715014064, 34.1999256811405],         [-85.455057, 34.250689],         [-85.455371, 34.252854],         [-85.458071, 34.265736],         [-85.458693, 34.269437],         [-85.4620817189037, 34.2863854944266],         [-85.467676385249, 34.3143669157448],         [-85.4704343306423, 34.3281606305543],         [-85.47045, 34.328239],         [-85.4740169081093, 34.3445495509054],         [-85.4845883505414, 34.3928900308523],         [-85.502316, 34.473954],         [-85.502454, 34.474527],         [-85.5049447058824, 34.4857351764706],         [-85.508384, 34.501212],         [-85.512108, 34.518252],         [-85.513709, 34.52417],         [-85.51393, 34.525192],         [-85.5146979912582, 34.5294437989317],         [-85.517074, 34.542598],         [-85.527261, 34.588683],         [-85.5340893753704, 34.6238579271308],         [-85.534327, 34.625082],         [-85.541264, 34.656701],         [-85.541267, 34.656783],         [-85.542501013985, 34.6624478599444],         [-85.5520892272007, 34.7064634753637],         [-85.552454, 34.708138],         [-85.552482, 34.708321],         [-85.5580670538503, 34.734425844267],         [-85.561416, 34.750079],         [-85.5743534080727, 34.815746661243],         [-85.5759270787553, 34.8237342946789],         [-85.583145, 34.860371],         [-85.595163, 34.924171],         [-85.595191, 34.924331],         [-85.5965230789194, 34.931968747208],         [-85.598781, 34.944915],         [-85.599385, 34.951766],         [-85.605165, 34.984678],         [-85.6114325530746, 34.9847770248572],         [-85.611494932012, 34.9847780104197],         [-85.6156867800132, 34.9848442399586],         [-85.6947663278267, 34.9860936655062],         [-85.7008262686624, 34.9861894101723],         [-85.7008436226794, 34.9861896843589],         [-85.7022512605366, 34.9862119244798],         [-85.7223216009079, 34.9865290279118],         [-85.726239039383, 34.9865909218887],         [-85.7265002692043, 34.9865950492165],         [-85.7454168497592, 34.9868939237002],         [-85.748942822758, 34.9869496326776],         [-85.7579491702861, 34.9870919294029],         [-85.7960529829863, 34.9876939545582],         [-85.8081505497085, 34.9878850913229],         [-85.824411, 34.988142],         [-85.828724, 34.988165],         [-85.8609202846465, 34.9883606930947],         [-85.8639354755464, 34.9883790198068],         [-86.0616193097243, 34.9895805671814],         [-86.0670596523409, 34.9896136342727],         [-86.0671363915752, 34.9896141007035],         [-86.1529311285418, 34.990135571978],         [-86.2539461700063, 34.9907495541905],         [-86.311274, 34.991098],         [-86.3187611440952, 34.9911469680432],         [-86.3777526382152, 34.9915327891245],         [-86.397203, 34.99166],         [-86.4286076259029, 34.9911682872265],         [-86.433927, 34.991085],         [-86.467798, 34.990692],         [-86.4732990364922, 34.9906906403093],         [-86.5179380043519, 34.9906796068999],         [-86.5227079907133, 34.9906784279028],         [-86.528485, 34.990677],         [-86.5557676701894, 34.9909699655954],         [-86.555864, 34.990971],         [-86.571217, 34.991011],         [-86.5713080004837, 34.9910119538512],         [-86.588962, 34.991197],         [-86.600039, 34.99124],         [-86.641212, 34.99174],         [-86.6413928487564, 34.9917405111499],         [-86.65961, 34.991792],         [-86.670853, 34.992],         [-86.67436, 34.992001],         [-86.676726, 34.99207],         [-86.677616, 34.99207],         [-86.6776727086777, 34.9920699224502],         [-86.7217124160414, 34.9920096976354],         [-86.7753399184435, 34.9919363613987],         [-86.7836280170906, 34.9919250273269],         [-86.783648, 34.991925],         [-86.8193960245283, 34.991769485613],         [-86.820657, 34.991764],         [-86.836306, 34.991764],         [-86.83637, 34.991764],         [-86.846466, 34.99186],         [-86.849794, 34.991924],         [-86.8550457754793, 34.9919376045345],         [-86.8573743674567, 34.9919436366679],         [-86.861630362659, 34.9919546616696],         [-86.862147, 34.991956],         [-86.879203662682, 34.9923531162451],         [-86.8792364883071, 34.9923538804971],         [-86.9374605990549, 34.9937094645679],         [-86.96712, 34.9944],         [-86.970236, 34.994546],         [-86.972613, 34.99461],         [-86.974412, 34.994513],         [-86.9886782470853, 34.9948518895576],         [-87.000007, 34.995121],         [-87.011174, 34.995162],         [-87.0300940691376, 34.9955281062054],         [-87.0899784494007, 34.9966868780398],         [-87.0945933592216, 34.9967761772443],         [-87.1204873149768, 34.9972772292127],         [-87.1226456781005, 34.9973189938663],         [-87.1256493142754, 34.9973771146815],         [-87.1396209266955, 34.9976474674995],         [-87.1627524375735, 34.9980950657409],         [-87.210759, 34.999024],         [-87.215236205961, 34.9991177159924],         [-87.216683, 34.999148],         [-87.2197717603678, 34.9992228736371],         [-87.224053220297, 34.9993266591169],         [-87.230544, 34.999484],         [-87.270014, 35.00039],         [-87.299185, 35.000915],         [-87.2992156777296, 35.0009154577211],         [-87.349251, 35.001662],         [-87.3493245225215, 35.0016631801721],         [-87.3592674303837, 35.0018227821826],         [-87.359281, 35.001823],         [-87.381071, 35.002118],         [-87.3855468534538, 35.0022298635638],         [-87.391314, 35.002374],         [-87.4174, 35.002669],         [-87.421543, 35.002679],         [-87.428613, 35.002795],         [-87.4370427920769, 35.0028352150336],         [-87.4370737168059, 35.0028353625626],         [-87.4432865229355, 35.0028650012779],         [-87.4929179481542, 35.003101772175],         [-87.4929517665586, 35.0031019335085],         [-87.4958434829136, 35.0031157286851],         [-87.5223899924953, 35.0032423710464],         [-87.5774876474615, 35.0035052190532],         [-87.606178379167, 35.0036420906069],         [-87.6192815618009, 35.003704600444],         [-87.625025, 35.003732],         [-87.664123, 35.003523],         [-87.671405, 35.003537],         [-87.6887093751075, 35.0037513567643],         [-87.696834, 35.003852],         [-87.700543, 35.003988],         [-87.702321, 35.003945],         [-87.7094595821424, 35.0040883690137],         [-87.709491, 35.004089],         [-87.7223240284927, 35.0042505851277],         [-87.75889, 35.004711],         [-87.767602, 35.004783],         [-87.773586, 35.004946],         [-87.8211342757523, 35.0053771529474],         [-87.8211613865039, 35.0053773987792],         [-87.851886, 35.005656],         [-87.853411, 35.005576],         [-87.853528, 35.005541],         [-87.872626, 35.005571],         [-87.877742, 35.005512],         [-87.877969, 35.005468],         [-87.9269766619543, 35.0056571040592],         [-87.9734958113087, 35.0058366057866],         [-87.9849162019114, 35.005880673227],         [-88.000032, 35.005939],         [-88.202959, 35.008028],         [-88.201987, 35.005421],         [-88.20082, 34.997774],         [-88.200064, 34.995634],         [-88.198811, 34.991192],         [-88.187429, 34.974909],         [-88.179973, 34.967466],         [-88.176106, 34.962519],         [-88.172102, 34.955213],         [-88.161594, 34.933456],         [-88.154617, 34.922392],         [-88.146335, 34.914374],         [-88.139721, 34.909631],         [-88.136692, 34.907592],         [-88.1331860088282, 34.9059779925659],         [-88.125038, 34.902227],         [-88.099999, 34.894095],         [-88.097888, 34.892202],         [-88.104828239252, 34.8343853294572],         [-88.10756, 34.811628],         [-88.116418, 34.746303],         [-88.118407, 34.724292],         [-88.120809790864, 34.7088908621916],         [-88.1229228444128, 34.6953468499391],         [-88.1308067668013, 34.6448133736411],         [-88.134263, 34.62266],         [-88.1343641919509, 34.6219004926397],         [-88.138719, 34.589215],         [-88.139246, 34.587795],         [-88.139988, 34.581703],         [-88.1525090963558, 34.4907061779864],         [-88.1560500936445, 34.4649720496905],         [-88.156292, 34.463214],         [-88.1565520647315, 34.4609838238307],         [-88.156751039728, 34.4592775205854],         [-88.1586659845225, 34.4428559772994],         [-88.1594297785128, 34.4363060881802],         [-88.1613748286655, 34.4196263774296],         [-88.165634, 34.383102],         [-88.1656733734431, 34.3827915774924],         [-88.16591, 34.380926],         [-88.173632, 34.321054],         [-88.175867, 34.302171],         [-88.176889, 34.293858],         [-88.1771061707454, 34.2922387475592],         [-88.1774959379743, 34.2893325939911],         [-88.186667, 34.220952],         [-88.18762, 34.204778],         [-88.190678, 34.190123],         [-88.192128, 34.175351],         [-88.200196, 34.115948],         [-88.2037840638383, 34.0865542422802],         [-88.2060052962786, 34.0683576964181],         [-88.207229, 34.058333],         [-88.210741, 34.029199],         [-88.2117468355469, 34.0217404155568],         [-88.2132700197265, 34.0104455295678],         [-88.222135875909, 33.9447024394569],         [-88.226428, 33.912875],         [-88.226517, 33.911665],         [-88.226517, 33.911551],         [-88.2289318725307, 33.8942371038877],         [-88.2292490683217, 33.8919629072572],         [-88.229252650117, 33.891937226882],         [-88.2294613585972, 33.8904408510291],         [-88.2309869597483, 33.8795027582299],         [-88.235492, 33.847203],         [-88.240054, 33.810879],         [-88.2415992970684, 33.8029735909988],         [-88.2416094387383, 33.8029217083864],         [-88.243025, 33.79568],         [-88.244142, 33.781673],         [-88.2460218415259, 33.7672863631589],         [-88.2489373465952, 33.7449736777213],         [-88.252257, 33.719568],         [-88.254445, 33.698779],         [-88.254622, 33.69578],         [-88.256131, 33.68286],         [-88.256343, 33.682053],         [-88.262002140265, 33.6354380745981],         [-88.262370726858, 33.6324019885971],         [-88.2623713027984, 33.6323972445167],         [-88.267005, 33.594229],         [-88.267148, 33.591989],         [-88.26816, 33.58504],         [-88.269076, 33.576929],         [-88.269532, 33.572894],         [-88.27005, 33.570819],         [-88.270781740705, 33.564923594639],         [-88.2713779363513, 33.560120233305],         [-88.2741407842769, 33.5378608340953],         [-88.274619, 33.534008],         [-88.276805, 33.516463],         [-88.277421, 33.512436],         [-88.2783480192117, 33.5047399770047],         [-88.2801043139762, 33.4901593893276],         [-88.2859481129665, 33.4416447406107],         [-88.2910782508144, 33.3990548370265],         [-88.29301654948, 33.3829632707304],         [-88.2970970227493, 33.3490875800044],         [-88.3004988409734, 33.32084601721],         [-88.3005000457713, 33.3208360150958],         [-88.3027437308318, 33.3022091607627],         [-88.3044169870826, 33.2883179507206],         [-88.3080904163437, 33.2578214996127],         [-88.3114725832984, 33.2297430797382],         [-88.312535, 33.220923],         [-88.315235, 33.203323],         [-88.317135, 33.184123],         [-88.3218542065997, 33.14616209746],         [-88.3222722892766, 33.1427990754313],         [-88.330934, 33.073125],         [-88.3310076496119, 33.0724897275104],         [-88.340432, 32.991199],         [-88.3478500256084, 32.929077584824],         [-88.354292, 32.87513],         [-88.3666091107452, 32.76343394998],         [-88.36818559513, 32.7491378149249],         [-88.368349, 32.747656],         [-88.3690552109757, 32.7425839924895],         [-88.373338, 32.711825],         [-88.382985, 32.626954],         [-88.383039, 32.626679],         [-88.3853779263182, 32.6071595288939],         [-88.3855823489929, 32.6054535228254],         [-88.3861753483959, 32.6005046560645],         [-88.3888572465182, 32.5781229194103],         [-88.399966, 32.485415],         [-88.3999703119346, 32.4853749259647],         [-88.4033142007722, 32.4542976645469],         [-88.403789, 32.449885],         [-88.403789, 32.44977],         [-88.4039124245627, 32.4487817958759],         [-88.4039163853966, 32.4487500832869],         [-88.4100961455102, 32.3992715654218],         [-88.4125, 32.380025],         [-88.413819, 32.373922],         [-88.4144532827107, 32.3685012674077],         [-88.4147143585951, 32.3662700501098],         [-88.4149186209757, 32.3645243746791],         [-88.421453, 32.30868],         [-88.4240705677077, 32.2862295148856],         [-88.4279411433212, 32.2530321691437],         [-88.428278, 32.250143],         [-88.4312940163839, 32.2276546024792],         [-88.4338373824385, 32.2086904392936],         [-88.4358107589052, 32.1939763035621],         [-88.43865, 32.172806],         [-88.43871, 32.172078],         [-88.4418791405619, 32.1464303710893],         [-88.4428468074689, 32.1385991117127],         [-88.443049750597, 32.1369567074276],         [-88.4534176891327, 32.0530497191012],         [-88.4538834888783, 32.0492800349269],         [-88.454959, 32.040576],         [-88.455039, 32.039719],         [-88.46866, 31.933173],         [-88.4688742551621, 31.9303250695125],         [-88.4688743843865, 31.9303233518312],         [-88.468879, 31.930262],         [-88.473227, 31.893856]       ]     ]   ] } '"
            ]
          },
          "metadata": {},
          "execution_count": 28
        }
      ],
      "source": [
        "print(f\"GeoJSON for {selected_place_choice} which has the place id: {place_dcid}\\n\\n\")\n",
        "dc.get_property_values([place_dcid], prop='geoJsonCoordinates', out=True)[place_dcid][0]"
      ]
    },
    {
      "cell_type": "markdown",
      "metadata": {
        "id": "lDalaOEiRq_9"
      },
      "source": [
        "What we have obtained is a string representation of the map in GeoJSON format, which we can load for making the base-map to visualize the locations of the suprefund sites.\n",
        "\n",
        "The objective is to recreate the visualizations of the location of superfund sites but this time instead of using the world map we will be using the map of the selected place.\n",
        "\n",
        "Before, we visualize the sites, we will need to make a few transformations on the location of the sites to make sure they can be visualized on a map. For this we will be converting the `sites_filtered` dataframe to a `geopandas.GeoDataFrame`. The `geopandas.GeoDataFrame` is similar to a `pandas.DataFrame` instance but has the spatial information stored in the geometry column.\n",
        "\n",
        "The following snippet of code can be used as a recepie to convert a pandas dataframe with location information to a `GeoDataFrame`."
      ]
    },
    {
      "cell_type": "code",
      "execution_count": null,
      "metadata": {
        "colab": {
          "base_uri": "https://localhost:8080/",
          "height": 873
        },
        "id": "naH5LSL1Wnuo",
        "outputId": "2f31b578-ac22-4690-9d2e-254f856da073"
      },
      "outputs": [
        {
          "output_type": "execute_result",
          "data": {
            "text/html": [
              "\n",
              "  <div id=\"df-39f2885a-be2c-4b88-b2e2-64f5c05c80d5\">\n",
              "    <div class=\"colab-df-container\">\n",
              "      <div>\n",
              "<style scoped>\n",
              "    .dataframe tbody tr th:only-of-type {\n",
              "        vertical-align: middle;\n",
              "    }\n",
              "\n",
              "    .dataframe tbody tr th {\n",
              "        vertical-align: top;\n",
              "    }\n",
              "\n",
              "    .dataframe thead th {\n",
              "        text-align: right;\n",
              "    }\n",
              "</style>\n",
              "<table border=\"1\" class=\"dataframe\">\n",
              "  <thead>\n",
              "    <tr style=\"text-align: right;\">\n",
              "      <th></th>\n",
              "      <th>epaSuperfundSiteId</th>\n",
              "      <th>name</th>\n",
              "      <th>latitude</th>\n",
              "      <th>longitude</th>\n",
              "      <th>Coordinates</th>\n",
              "    </tr>\n",
              "  </thead>\n",
              "  <tbody>\n",
              "    <tr>\n",
              "      <th>0</th>\n",
              "      <td>AL3210020027</td>\n",
              "      <td>Anniston Army Depot (Southeast Industrial Area)</td>\n",
              "      <td>33.659439</td>\n",
              "      <td>-85.969439</td>\n",
              "      <td>POINT (-85.96944 33.65944)</td>\n",
              "    </tr>\n",
              "    <tr>\n",
              "      <th>1</th>\n",
              "      <td>AL6210020008</td>\n",
              "      <td>Alabama Army Ammunition Plant</td>\n",
              "      <td>33.3381</td>\n",
              "      <td>-86.3268</td>\n",
              "      <td>POINT (-86.32680 33.33810)</td>\n",
              "    </tr>\n",
              "    <tr>\n",
              "      <th>2</th>\n",
              "      <td>AL7210020742</td>\n",
              "      <td>Redstone Arsenal (USARMY/NASA)</td>\n",
              "      <td>34.646944</td>\n",
              "      <td>-86.673055</td>\n",
              "      <td>POINT (-86.67306 34.64694)</td>\n",
              "    </tr>\n",
              "    <tr>\n",
              "      <th>3</th>\n",
              "      <td>ALD001221902</td>\n",
              "      <td>Ciba-Geigy Corp. (McIntosh Plant)</td>\n",
              "      <td>31.279</td>\n",
              "      <td>-87.9955</td>\n",
              "      <td>POINT (-87.99550 31.27900)</td>\n",
              "    </tr>\n",
              "    <tr>\n",
              "      <th>4</th>\n",
              "      <td>ALD004022448</td>\n",
              "      <td>Alabama Plating Company Inc.</td>\n",
              "      <td>33.399722</td>\n",
              "      <td>-86.405</td>\n",
              "      <td>POINT (-86.40500 33.39972)</td>\n",
              "    </tr>\n",
              "    <tr>\n",
              "      <th>5</th>\n",
              "      <td>ALD007454085</td>\n",
              "      <td>T.H. Agriculture &amp; Nutrition Co. (Montgomery P...</td>\n",
              "      <td>32.3761</td>\n",
              "      <td>-86.3791</td>\n",
              "      <td>POINT (-86.37910 32.37610)</td>\n",
              "    </tr>\n",
              "    <tr>\n",
              "      <th>6</th>\n",
              "      <td>ALD008161176</td>\n",
              "      <td>Stauffer Chemical Co. (LeMoyne Plant)</td>\n",
              "      <td>30.969439</td>\n",
              "      <td>-88.0175</td>\n",
              "      <td>POINT (-88.01750 30.96944)</td>\n",
              "    </tr>\n",
              "    <tr>\n",
              "      <th>7</th>\n",
              "      <td>ALD008188708</td>\n",
              "      <td>Olin Corp. (McIntosh Plant)</td>\n",
              "      <td>31.263889</td>\n",
              "      <td>-87.99445</td>\n",
              "      <td>POINT (-87.99445 31.26389)</td>\n",
              "    </tr>\n",
              "    <tr>\n",
              "      <th>8</th>\n",
              "      <td>ALD031618069</td>\n",
              "      <td>Mowbray Engineering Co.</td>\n",
              "      <td>31.831669</td>\n",
              "      <td>-86.61305</td>\n",
              "      <td>POINT (-86.61305 31.83167)</td>\n",
              "    </tr>\n",
              "    <tr>\n",
              "      <th>9</th>\n",
              "      <td>ALD041906173</td>\n",
              "      <td>Interstate Lead Co. (ILCO)</td>\n",
              "      <td>33.688889</td>\n",
              "      <td>-86.633333</td>\n",
              "      <td>POINT (-86.63333 33.68889)</td>\n",
              "    </tr>\n",
              "    <tr>\n",
              "      <th>10</th>\n",
              "      <td>ALD095688875</td>\n",
              "      <td>Stauffer Chemical Co. (Cold Creek Plant)</td>\n",
              "      <td>30.975</td>\n",
              "      <td>-88.021389</td>\n",
              "      <td>POINT (-88.02139 30.97500)</td>\n",
              "    </tr>\n",
              "    <tr>\n",
              "      <th>11</th>\n",
              "      <td>ALD980728703</td>\n",
              "      <td>Perdido Ground Water Contamination</td>\n",
              "      <td>31.0125</td>\n",
              "      <td>-87.625</td>\n",
              "      <td>POINT (-87.62500 31.01250)</td>\n",
              "    </tr>\n",
              "    <tr>\n",
              "      <th>12</th>\n",
              "      <td>ALD980844385</td>\n",
              "      <td>Redwing Carriers Inc. (Saraland)</td>\n",
              "      <td>30.808331</td>\n",
              "      <td>-88.073061</td>\n",
              "      <td>POINT (-88.07306 30.80833)</td>\n",
              "    </tr>\n",
              "    <tr>\n",
              "      <th>13</th>\n",
              "      <td>ALD981868466</td>\n",
              "      <td>American Brass</td>\n",
              "      <td>31.325</td>\n",
              "      <td>-85.404167</td>\n",
              "      <td>POINT (-85.40417 31.32500)</td>\n",
              "    </tr>\n",
              "    <tr>\n",
              "      <th>14</th>\n",
              "      <td>ALD983166299</td>\n",
              "      <td>Triana/Tennessee River</td>\n",
              "      <td>34.508888</td>\n",
              "      <td>-86.638194</td>\n",
              "      <td>POINT (-86.63819 34.50889)</td>\n",
              "    </tr>\n",
              "    <tr>\n",
              "      <th>15</th>\n",
              "      <td>ALN000410750</td>\n",
              "      <td>35th Avenue</td>\n",
              "      <td>33.557464</td>\n",
              "      <td>-86.799671</td>\n",
              "      <td>POINT (-86.79967 33.55746)</td>\n",
              "    </tr>\n",
              "  </tbody>\n",
              "</table>\n",
              "</div>\n",
              "      <button class=\"colab-df-convert\" onclick=\"convertToInteractive('df-39f2885a-be2c-4b88-b2e2-64f5c05c80d5')\"\n",
              "              title=\"Convert this dataframe to an interactive table.\"\n",
              "              style=\"display:none;\">\n",
              "        \n",
              "  <svg xmlns=\"http://www.w3.org/2000/svg\" height=\"24px\"viewBox=\"0 0 24 24\"\n",
              "       width=\"24px\">\n",
              "    <path d=\"M0 0h24v24H0V0z\" fill=\"none\"/>\n",
              "    <path d=\"M18.56 5.44l.94 2.06.94-2.06 2.06-.94-2.06-.94-.94-2.06-.94 2.06-2.06.94zm-11 1L8.5 8.5l.94-2.06 2.06-.94-2.06-.94L8.5 2.5l-.94 2.06-2.06.94zm10 10l.94 2.06.94-2.06 2.06-.94-2.06-.94-.94-2.06-.94 2.06-2.06.94z\"/><path d=\"M17.41 7.96l-1.37-1.37c-.4-.4-.92-.59-1.43-.59-.52 0-1.04.2-1.43.59L10.3 9.45l-7.72 7.72c-.78.78-.78 2.05 0 2.83L4 21.41c.39.39.9.59 1.41.59.51 0 1.02-.2 1.41-.59l7.78-7.78 2.81-2.81c.8-.78.8-2.07 0-2.86zM5.41 20L4 18.59l7.72-7.72 1.47 1.35L5.41 20z\"/>\n",
              "  </svg>\n",
              "      </button>\n",
              "      \n",
              "  <style>\n",
              "    .colab-df-container {\n",
              "      display:flex;\n",
              "      flex-wrap:wrap;\n",
              "      gap: 12px;\n",
              "    }\n",
              "\n",
              "    .colab-df-convert {\n",
              "      background-color: #E8F0FE;\n",
              "      border: none;\n",
              "      border-radius: 50%;\n",
              "      cursor: pointer;\n",
              "      display: none;\n",
              "      fill: #1967D2;\n",
              "      height: 32px;\n",
              "      padding: 0 0 0 0;\n",
              "      width: 32px;\n",
              "    }\n",
              "\n",
              "    .colab-df-convert:hover {\n",
              "      background-color: #E2EBFA;\n",
              "      box-shadow: 0px 1px 2px rgba(60, 64, 67, 0.3), 0px 1px 3px 1px rgba(60, 64, 67, 0.15);\n",
              "      fill: #174EA6;\n",
              "    }\n",
              "\n",
              "    [theme=dark] .colab-df-convert {\n",
              "      background-color: #3B4455;\n",
              "      fill: #D2E3FC;\n",
              "    }\n",
              "\n",
              "    [theme=dark] .colab-df-convert:hover {\n",
              "      background-color: #434B5C;\n",
              "      box-shadow: 0px 1px 3px 1px rgba(0, 0, 0, 0.15);\n",
              "      filter: drop-shadow(0px 1px 2px rgba(0, 0, 0, 0.3));\n",
              "      fill: #FFFFFF;\n",
              "    }\n",
              "  </style>\n",
              "\n",
              "      <script>\n",
              "        const buttonEl =\n",
              "          document.querySelector('#df-39f2885a-be2c-4b88-b2e2-64f5c05c80d5 button.colab-df-convert');\n",
              "        buttonEl.style.display =\n",
              "          google.colab.kernel.accessAllowed ? 'block' : 'none';\n",
              "\n",
              "        async function convertToInteractive(key) {\n",
              "          const element = document.querySelector('#df-39f2885a-be2c-4b88-b2e2-64f5c05c80d5');\n",
              "          const dataTable =\n",
              "            await google.colab.kernel.invokeFunction('convertToInteractive',\n",
              "                                                     [key], {});\n",
              "          if (!dataTable) return;\n",
              "\n",
              "          const docLinkHtml = 'Like what you see? Visit the ' +\n",
              "            '<a target=\"_blank\" href=https://colab.research.google.com/notebooks/data_table.ipynb>data table notebook</a>'\n",
              "            + ' to learn more about interactive tables.';\n",
              "          element.innerHTML = '';\n",
              "          dataTable['output_type'] = 'display_data';\n",
              "          await google.colab.output.renderOutput(dataTable, element);\n",
              "          const docLink = document.createElement('div');\n",
              "          docLink.innerHTML = docLinkHtml;\n",
              "          element.appendChild(docLink);\n",
              "        }\n",
              "      </script>\n",
              "    </div>\n",
              "  </div>\n",
              "  "
            ],
            "text/plain": [
              "   epaSuperfundSiteId                                               name  \\\n",
              "0        AL3210020027    Anniston Army Depot (Southeast Industrial Area)   \n",
              "1        AL6210020008                      Alabama Army Ammunition Plant   \n",
              "2        AL7210020742                     Redstone Arsenal (USARMY/NASA)   \n",
              "3        ALD001221902                  Ciba-Geigy Corp. (McIntosh Plant)   \n",
              "4        ALD004022448                       Alabama Plating Company Inc.   \n",
              "5        ALD007454085  T.H. Agriculture & Nutrition Co. (Montgomery P...   \n",
              "6        ALD008161176              Stauffer Chemical Co. (LeMoyne Plant)   \n",
              "7        ALD008188708                        Olin Corp. (McIntosh Plant)   \n",
              "8        ALD031618069                            Mowbray Engineering Co.   \n",
              "9        ALD041906173                         Interstate Lead Co. (ILCO)   \n",
              "10       ALD095688875           Stauffer Chemical Co. (Cold Creek Plant)   \n",
              "11       ALD980728703                 Perdido Ground Water Contamination   \n",
              "12       ALD980844385                   Redwing Carriers Inc. (Saraland)   \n",
              "13       ALD981868466                                     American Brass   \n",
              "14       ALD983166299                             Triana/Tennessee River   \n",
              "15       ALN000410750                                        35th Avenue   \n",
              "\n",
              "     latitude   longitude                 Coordinates  \n",
              "0   33.659439  -85.969439  POINT (-85.96944 33.65944)  \n",
              "1     33.3381    -86.3268  POINT (-86.32680 33.33810)  \n",
              "2   34.646944  -86.673055  POINT (-86.67306 34.64694)  \n",
              "3      31.279    -87.9955  POINT (-87.99550 31.27900)  \n",
              "4   33.399722     -86.405  POINT (-86.40500 33.39972)  \n",
              "5     32.3761    -86.3791  POINT (-86.37910 32.37610)  \n",
              "6   30.969439    -88.0175  POINT (-88.01750 30.96944)  \n",
              "7   31.263889   -87.99445  POINT (-87.99445 31.26389)  \n",
              "8   31.831669   -86.61305  POINT (-86.61305 31.83167)  \n",
              "9   33.688889  -86.633333  POINT (-86.63333 33.68889)  \n",
              "10     30.975  -88.021389  POINT (-88.02139 30.97500)  \n",
              "11    31.0125     -87.625  POINT (-87.62500 31.01250)  \n",
              "12  30.808331  -88.073061  POINT (-88.07306 30.80833)  \n",
              "13     31.325  -85.404167  POINT (-85.40417 31.32500)  \n",
              "14  34.508888  -86.638194  POINT (-86.63819 34.50889)  \n",
              "15  33.557464  -86.799671  POINT (-86.79967 33.55746)  "
            ]
          },
          "metadata": {},
          "execution_count": 29
        }
      ],
      "source": [
        "# copy of the pandas dataframe which we will transform into a GeoDataFrame\n",
        "gdf = sites_filtered.copy()\n",
        "\n",
        "# convertying the latitude and longitude columns to a Point geometry \n",
        "gdf[\"Coordinates\"] = list(zip(gdf.longitude.astype(float), gdf.latitude.astype(float)))\n",
        "gdf[\"Coordinates\"] = gdf[\"Coordinates\"].apply(Point)\n",
        "gdf.drop(columns=['latitude', 'longitude']) # deleting redudance\n",
        "\n",
        "# converting to GeoDataFrame\n",
        "gdf = gpd.GeoDataFrame(gdf, geometry=\"Coordinates\")\n",
        "gdf"
      ]
    },
    {
      "cell_type": "markdown",
      "metadata": {
        "id": "zlOvnPKla6ve"
      },
      "source": [
        "With the `GeoDataFrame` now ready, we shall visualize the location of the sites using code snippet below:"
      ]
    },
    {
      "cell_type": "code",
      "execution_count": null,
      "metadata": {
        "colab": {
          "base_uri": "https://localhost:8080/",
          "height": 499
        },
        "id": "VYOPuhVeltN3",
        "outputId": "50ab308c-d356-4558-d9ab-0aa07ce8bd9c"
      },
      "outputs": [
        {
          "output_type": "display_data",
          "data": {
            "image/png": "[encoded data removed]",
            "text/plain": [
              "<Figure size 864x576 with 1 Axes>"
            ]
          },
          "metadata": {
            "needs_background": "light"
          }
        }
      ],
      "source": [
        "# Get the geojson for the selected place from the Data Commons Graph\n",
        "place_map = dc.get_property_values([place_dcid], prop='geoJsonCoordinates', out=True)[place_dcid][0]\n",
        "place_map = json.loads(place_map)\n",
        "\n",
        "# set the colors and initialize the empty figure object for drawing the map\n",
        "BLUE = '#6699cc'\n",
        "fig = plt.figure(figsize=(12, 8)) \n",
        "ax = fig.gca() \n",
        "\n",
        "# Draw the geojson fetched from the Data Commons Graph\n",
        "ax.add_patch(PolygonPatch(place_map, fc=BLUE, ec=BLUE, alpha=0.5, zorder=2 ))\n",
        "ax.axis('scaled')\n",
        "\n",
        "# Add the locations of the superfund sites from the GeoDataFrame\n",
        "gdf.plot(ax=ax, color='red', alpha = 0.5)\n",
        "plt.title (f'superfund site locations in {selected_place_choice}')\n",
        "plt.show()"
      ]
    },
    {
      "cell_type": "markdown",
      "source": [
        "## Demo 3 - Lookup timeseries for a specific superfund site\n",
        "\n",
        "In this demo example, we will dive into accessing StatVarObservations for Statistical Variables related to superfund sites.\n",
        "\n",
        "Currently, the Data Commons graph has the following statistics about superfund sites."
      ],
      "metadata": {
        "id": "jZZ5u5_CjXGM"
      }
    },
    {
      "cell_type": "markdown",
      "source": [
        "### For all superfund sites on the NPL\n",
        "\n",
        "|Statistical Variable|Data Source|Status|\n",
        "|-------|-----------|------|\n",
        "|[CRSI Score](https://datacommons.org/browser/CrsiScore_SuperfundSite)|[Intersection of Natural Hazard Vulnerability and Superfund Site Location](https://catalog.data.gov/dataset/intersection-of-natural-hazard-vulnerability-and-superfund-site-location)|Available|\n",
        "|[Natural Hazard Exposure Score](https://datacommons.org/browser/NaturalHazardExposureScore_SuperfundSite)|[Intersection of Natural Hazard Vulnerability and Superfund Site Location](https://catalog.data.gov/dataset/intersection-of-natural-hazard-vulnerability-and-superfund-site-location)|Available|\n",
        "|[Natural Hazard Risk Score](https://datacommons.org/browser/NaturalHazardRiskScore_SuperfundSite)|[Intersection of Natural Hazard Vulnerability and Superfund Site Location](https://catalog.data.gov/dataset/intersection-of-natural-hazard-vulnerability-and-superfund-site-location)|Available|\n",
        "|[`Natural Hazard Risk Score by <Meteorological Events>`](https://datacommons.org/browser/NaturalHazardRiskScore_SuperfundSite_WildfireEvent)|[Intersection of Natural Hazard Vulnerability and Superfund Site Location](https://catalog.data.gov/dataset/intersection-of-natural-hazard-vulnerability-and-superfund-site-location)|Available|"
      ],
      "metadata": {
        "id": "SoZNqx5MTQKy"
      }
    },
    {
      "cell_type": "markdown",
      "source": [
        "### Statistics available for Tar Creek superfund site\n",
        "\n",
        "Statistics for the  Tar Creek superfund site are obtained the [6th five-year review report](https://semspub.epa.gov/work/06/100021610.pdf).This report measures concentration of contaminants in GroundWater across sampling wells withing and across the site. The concentration of contaminants are presented as [Total concentration](https://datacommons.org/browser/Concentration_Iron_BodyOfWater_GroundWater) and [Dissolved concentration](https://datacommons.org/browser/Concentration_DissolvedContaminant_Iron_BodyOfWater_GroundWater) statistical variables for:\n",
        "- [Iron](https://datacommons.org/browser/Concentration_Iron_BodyOfWater_GroundWater)\n",
        "- [Zinc](https://datacommons.org/browser/Concentration_Zinc_BodyOfWater_GroundWater)\n",
        "- [Lead](https://datacommons.org/browser/Concentration_Lead_BodyOfWater_GroundWater)\n",
        "- [Cadmium](https://datacommons.org/browser/Concentration_Cadmium_BodyOfWater_GroundWater)\n",
        "- [Sulfate](https://datacommons.org/browser/Concentration_Sulfate_BodyOfWater_GroundWater)\n",
        "\n",
        "The report also has\n",
        "measurements on water properties in GroundWaterlike:\n",
        "- [hardness](https://datacommons.org/browser/WaterHardness_BodyOfWater_GroundWater)\n",
        "- [pH](https://datacommons.org/browser/otentialOfHydrogen_BodyOfWater_GroundWater)\n",
        "- [dissolved oxygen](https://datacommons.org/browser/DissolvedOxygen_BodyOfWater_GroundWater)\n",
        "- [electrical conductivity](https://datacommons.org/browser/ElectricalConductivity_BodyOfWater_GroundWater)\n",
        "- [temperature](https://datacommons.org/browser/Temperature_BodyOfWater_GroundWater)\n",
        "\n",
        "The statistics are available for 4 sampling wells across Tar Creek namely: [Quapaw #4](https://datacommons.org/browser/epaSuperfundMeasurementSite/OKD980629844/Quapaw_4), [Commerce #5](https://datacommons.org/browser/epaSuperfundMeasurementSite/OKD980629844/Commerce_5), [Picher #5](https://datacommons.org/browser/epaSuperfundMeasurementSite/OKD980629844/Picher_5-MW) and [Picher #7](https://datacommons.org/browser/epaSuperfundMeasurementSite/OKD980629844/Picher_7-MW)\n",
        "\n",
        "### Accessing and Visualizing Statistics for Tar Creek"
      ],
      "metadata": {
        "id": "uzCLbAGIkplu"
      }
    },
    {
      "cell_type": "code",
      "source": [
        "## get a list of measurement sites that are in and around Tar Creek\n",
        "tar_creek = 'epaSuperfundSiteId/OKD980629844'\n",
        "measurement_sites = dc.get_places_in([tar_creek], 'SuperfundMeasurementSite')[tar_creek]\n",
        "measurement_sites"
      ],
      "metadata": {
        "colab": {
          "base_uri": "https://localhost:8080/"
        },
        "id": "50rGzwbhnCtt",
        "outputId": "33d1270a-2986-4765-8720-6af0140348a7"
      },
      "execution_count": null,
      "outputs": [
        {
          "output_type": "execute_result",
          "data": {
            "text/plain": [
              "['epaSuperfundMeasurementSite/OKD980629844/Commerce_5',\n",
              " 'epaSuperfundMeasurementSite/OKD980629844/Picher_5-MW',\n",
              " 'epaSuperfundMeasurementSite/OKD980629844/Picher_7-MW',\n",
              " 'epaSuperfundMeasurementSite/OKD980629844/Quapaw_4']"
            ]
          },
          "metadata": {},
          "execution_count": 31
        }
      ]
    },
    {
      "cell_type": "markdown",
      "source": [
        "List of statistical variables that are available for a measurement site can be obtained on the Graph Browser page for measurement sites ([example](https://datacommons.org/browser/epaSuperfundMeasurementSite/OKD980629844/Picher_7-MW))."
      ],
      "metadata": {
        "id": "dZWRPC3bobV3"
      }
    },
    {
      "cell_type": "code",
      "source": [
        "# List of statistics that are available for each measurement site\n",
        "measurement_sites_statvars_list = ['Concentration_Sulfate_BodyOfWater_GroundWater',\n",
        "                                   'Concentration_Lead_BodyOfWater_GroundWater',\n",
        "                                   'Concentration_Cadmium_BodyOfWater_GroundWater',\n",
        "                                   'Concentration_DissolvedContaminant_Cadmium_BodyOfWater_GroundWater',\n",
        "                                   'Concentration_DissolvedContaminant_Iron_BodyOfWater_GroundWater',\n",
        "                                   'Concentration_DissolvedContaminant_Lead_BodyOfWater_GroundWater',\n",
        "                                   'Concentration_DissolvedContaminant_Zinc_BodyOfWater_GroundWater',\n",
        "                                   'Concentration_Iron_BodyOfWater_GroundWater',\n",
        "                                   'DissolvedOxygen_BodyOfWater_GroundWater',\n",
        "                                   'Concentration_Zinc_BodyOfWater_GroundWater',\n",
        "                                   'PotentialOfHydrogen_BodyOfWater_GroundWater',\n",
        "                                   'ElectricalConductivity_BodyOfWater_GroundWater',\n",
        "                                   'Temperature_BodyOfWater_GroundWater',\n",
        "                                   'WaterHardness_BodyOfWater_GroundWater']"
      ],
      "metadata": {
        "id": "5X6mRwAaoya_"
      },
      "execution_count": null,
      "outputs": []
    },
    {
      "cell_type": "markdown",
      "source": [
        "Now, we will be to query the Data Commons graph for all statistics available for a particular sampling well and a particular statistical variable.\n",
        "\n",
        "Please note that statistics for Tar Creek are time-series of observed characteristics of contaminated ground water and the concentration of different contaminants. The following code snippet uses the [`build_time_series_dataframe`](https://docs.datacommons.org/api/pandas/time_series_dataframe.html) API method to show one statistical variables available from the above list for the sampling well called [`Quapaw #4`](https://datacommons.org/browser/epaSuperfundMeasurementSite/OKD980629844/Quapaw_4) near Tar Creek."
      ],
      "metadata": {
        "id": "vGx2hgEeoyiT"
      }
    },
    {
      "cell_type": "code",
      "source": [
        "tar_creek_contamiantion_statvar_df = dpd.build_time_series_dataframe(['epaSuperfundMeasurementSite/OKD980629844/Quapaw_4'], measurement_sites_statvars_list[0])\n",
        "\n",
        "tar_creek_contamiantion_statvar_df.head(5)"
      ],
      "metadata": {
        "id": "bkCWV7Jioyty",
        "colab": {
          "base_uri": "https://localhost:8080/",
          "height": 193
        },
        "outputId": "cf1b2c07-d3a3-41a5-85ff-e4bcc7bf22c5"
      },
      "execution_count": null,
      "outputs": [
        {
          "output_type": "execute_result",
          "data": {
            "text/html": [
              "\n",
              "  <div id=\"df-cae09158-ee09-486e-af02-0ce90775696a\">\n",
              "    <div class=\"colab-df-container\">\n",
              "      <div>\n",
              "<style scoped>\n",
              "    .dataframe tbody tr th:only-of-type {\n",
              "        vertical-align: middle;\n",
              "    }\n",
              "\n",
              "    .dataframe tbody tr th {\n",
              "        vertical-align: top;\n",
              "    }\n",
              "\n",
              "    .dataframe thead th {\n",
              "        text-align: right;\n",
              "    }\n",
              "</style>\n",
              "<table border=\"1\" class=\"dataframe\">\n",
              "  <thead>\n",
              "    <tr style=\"text-align: right;\">\n",
              "      <th></th>\n",
              "      <th>2003-11-06</th>\n",
              "      <th>2004-04-28</th>\n",
              "      <th>2004-10-13</th>\n",
              "      <th>2005-04-26</th>\n",
              "      <th>2005-10-18</th>\n",
              "      <th>2006-04-12</th>\n",
              "      <th>2006-11-09</th>\n",
              "      <th>2007-05-09</th>\n",
              "      <th>2007-10-24</th>\n",
              "      <th>2008-04-22</th>\n",
              "      <th>2010-03-25</th>\n",
              "      <th>2010-11-11</th>\n",
              "      <th>2011-11-03</th>\n",
              "      <th>2012-11-08</th>\n",
              "      <th>2013-10-31</th>\n",
              "      <th>2017-03-14</th>\n",
              "      <th>2018-04-25</th>\n",
              "      <th>2019-04-30</th>\n",
              "    </tr>\n",
              "    <tr>\n",
              "      <th>place</th>\n",
              "      <th></th>\n",
              "      <th></th>\n",
              "      <th></th>\n",
              "      <th></th>\n",
              "      <th></th>\n",
              "      <th></th>\n",
              "      <th></th>\n",
              "      <th></th>\n",
              "      <th></th>\n",
              "      <th></th>\n",
              "      <th></th>\n",
              "      <th></th>\n",
              "      <th></th>\n",
              "      <th></th>\n",
              "      <th></th>\n",
              "      <th></th>\n",
              "      <th></th>\n",
              "      <th></th>\n",
              "    </tr>\n",
              "  </thead>\n",
              "  <tbody>\n",
              "    <tr>\n",
              "      <th>epaSuperfundMeasurementSite/OKD980629844/Quapaw_4</th>\n",
              "      <td>11.1</td>\n",
              "      <td>11.8</td>\n",
              "      <td>12.8</td>\n",
              "      <td>13.5</td>\n",
              "      <td>16.4</td>\n",
              "      <td>15.2</td>\n",
              "      <td>20</td>\n",
              "      <td>12.6</td>\n",
              "      <td>14.3</td>\n",
              "      <td>13.2</td>\n",
              "      <td>14.8</td>\n",
              "      <td>15.7</td>\n",
              "      <td>14.3</td>\n",
              "      <td>15.7</td>\n",
              "      <td>14.3</td>\n",
              "      <td>16.3</td>\n",
              "      <td>18.8</td>\n",
              "      <td>15.6</td>\n",
              "    </tr>\n",
              "  </tbody>\n",
              "</table>\n",
              "</div>\n",
              "      <button class=\"colab-df-convert\" onclick=\"convertToInteractive('df-cae09158-ee09-486e-af02-0ce90775696a')\"\n",
              "              title=\"Convert this dataframe to an interactive table.\"\n",
              "              style=\"display:none;\">\n",
              "        \n",
              "  <svg xmlns=\"http://www.w3.org/2000/svg\" height=\"24px\"viewBox=\"0 0 24 24\"\n",
              "       width=\"24px\">\n",
              "    <path d=\"M0 0h24v24H0V0z\" fill=\"none\"/>\n",
              "    <path d=\"M18.56 5.44l.94 2.06.94-2.06 2.06-.94-2.06-.94-.94-2.06-.94 2.06-2.06.94zm-11 1L8.5 8.5l.94-2.06 2.06-.94-2.06-.94L8.5 2.5l-.94 2.06-2.06.94zm10 10l.94 2.06.94-2.06 2.06-.94-2.06-.94-.94-2.06-.94 2.06-2.06.94z\"/><path d=\"M17.41 7.96l-1.37-1.37c-.4-.4-.92-.59-1.43-.59-.52 0-1.04.2-1.43.59L10.3 9.45l-7.72 7.72c-.78.78-.78 2.05 0 2.83L4 21.41c.39.39.9.59 1.41.59.51 0 1.02-.2 1.41-.59l7.78-7.78 2.81-2.81c.8-.78.8-2.07 0-2.86zM5.41 20L4 18.59l7.72-7.72 1.47 1.35L5.41 20z\"/>\n",
              "  </svg>\n",
              "      </button>\n",
              "      \n",
              "  <style>\n",
              "    .colab-df-container {\n",
              "      display:flex;\n",
              "      flex-wrap:wrap;\n",
              "      gap: 12px;\n",
              "    }\n",
              "\n",
              "    .colab-df-convert {\n",
              "      background-color: #E8F0FE;\n",
              "      border: none;\n",
              "      border-radius: 50%;\n",
              "      cursor: pointer;\n",
              "      display: none;\n",
              "      fill: #1967D2;\n",
              "      height: 32px;\n",
              "      padding: 0 0 0 0;\n",
              "      width: 32px;\n",
              "    }\n",
              "\n",
              "    .colab-df-convert:hover {\n",
              "      background-color: #E2EBFA;\n",
              "      box-shadow: 0px 1px 2px rgba(60, 64, 67, 0.3), 0px 1px 3px 1px rgba(60, 64, 67, 0.15);\n",
              "      fill: #174EA6;\n",
              "    }\n",
              "\n",
              "    [theme=dark] .colab-df-convert {\n",
              "      background-color: #3B4455;\n",
              "      fill: #D2E3FC;\n",
              "    }\n",
              "\n",
              "    [theme=dark] .colab-df-convert:hover {\n",
              "      background-color: #434B5C;\n",
              "      box-shadow: 0px 1px 3px 1px rgba(0, 0, 0, 0.15);\n",
              "      filter: drop-shadow(0px 1px 2px rgba(0, 0, 0, 0.3));\n",
              "      fill: #FFFFFF;\n",
              "    }\n",
              "  </style>\n",
              "\n",
              "      <script>\n",
              "        const buttonEl =\n",
              "          document.querySelector('#df-cae09158-ee09-486e-af02-0ce90775696a button.colab-df-convert');\n",
              "        buttonEl.style.display =\n",
              "          google.colab.kernel.accessAllowed ? 'block' : 'none';\n",
              "\n",
              "        async function convertToInteractive(key) {\n",
              "          const element = document.querySelector('#df-cae09158-ee09-486e-af02-0ce90775696a');\n",
              "          const dataTable =\n",
              "            await google.colab.kernel.invokeFunction('convertToInteractive',\n",
              "                                                     [key], {});\n",
              "          if (!dataTable) return;\n",
              "\n",
              "          const docLinkHtml = 'Like what you see? Visit the ' +\n",
              "            '<a target=\"_blank\" href=https://colab.research.google.com/notebooks/data_table.ipynb>data table notebook</a>'\n",
              "            + ' to learn more about interactive tables.';\n",
              "          element.innerHTML = '';\n",
              "          dataTable['output_type'] = 'display_data';\n",
              "          await google.colab.output.renderOutput(dataTable, element);\n",
              "          const docLink = document.createElement('div');\n",
              "          docLink.innerHTML = docLinkHtml;\n",
              "          element.appendChild(docLink);\n",
              "        }\n",
              "      </script>\n",
              "    </div>\n",
              "  </div>\n",
              "  "
            ],
            "text/plain": [
              "                                                   2003-11-06  2004-04-28  \\\n",
              "place                                                                       \n",
              "epaSuperfundMeasurementSite/OKD980629844/Quapaw_4        11.1        11.8   \n",
              "\n",
              "                                                   2004-10-13  2005-04-26  \\\n",
              "place                                                                       \n",
              "epaSuperfundMeasurementSite/OKD980629844/Quapaw_4        12.8        13.5   \n",
              "\n",
              "                                                   2005-10-18  2006-04-12  \\\n",
              "place                                                                       \n",
              "epaSuperfundMeasurementSite/OKD980629844/Quapaw_4        16.4        15.2   \n",
              "\n",
              "                                                   2006-11-09  2007-05-09  \\\n",
              "place                                                                       \n",
              "epaSuperfundMeasurementSite/OKD980629844/Quapaw_4          20        12.6   \n",
              "\n",
              "                                                   2007-10-24  2008-04-22  \\\n",
              "place                                                                       \n",
              "epaSuperfundMeasurementSite/OKD980629844/Quapaw_4        14.3        13.2   \n",
              "\n",
              "                                                   2010-03-25  2010-11-11  \\\n",
              "place                                                                       \n",
              "epaSuperfundMeasurementSite/OKD980629844/Quapaw_4        14.8        15.7   \n",
              "\n",
              "                                                   2011-11-03  2012-11-08  \\\n",
              "place                                                                       \n",
              "epaSuperfundMeasurementSite/OKD980629844/Quapaw_4        14.3        15.7   \n",
              "\n",
              "                                                   2013-10-31  2017-03-14  \\\n",
              "place                                                                       \n",
              "epaSuperfundMeasurementSite/OKD980629844/Quapaw_4        14.3        16.3   \n",
              "\n",
              "                                                   2018-04-25  2019-04-30  \n",
              "place                                                                      \n",
              "epaSuperfundMeasurementSite/OKD980629844/Quapaw_4        18.8        15.6  "
            ]
          },
          "metadata": {},
          "execution_count": 33
        }
      ]
    },
    {
      "cell_type": "markdown",
      "metadata": {
        "id": "7u8ApO7RybLd"
      },
      "source": [
        "### Accessing and visualizing statistics available for all superfund sites in Data Commons\n",
        "\n",
        "Next, we shall use the list of statistical variables for a superfund site, we can now make visualizations of the different StatVarObservations that are made for superfund sites.\n",
        "\n",
        "We fetch the time-series of StatVarObservations using the [`pandas`](https://docs.datacommons.org/api/pandas) API method [`build_time_series_dataframe`](https://docs.datacommons.org/api/pandas/time_series_dataframe.html) which returns a pandas datafarme of the time-series that are available for a particular place and a particular statistical variable."
      ]
    },
    {
      "cell_type": "code",
      "execution_count": null,
      "metadata": {
        "colab": {
          "referenced_widgets": [
            "9cf7730acc784ae48e5f17c86e92a261",
            "518586f83b35495aa1215c5dbd1cd79d",
            "fb9e80f4aea842e390f3341a488d14d8"
          ],
          "base_uri": "https://localhost:8080/",
          "height": 66
        },
        "id": "r5kDa_y4aQga",
        "outputId": "f42ab9f7-fbc7-44c7-f19f-1e0af943a304"
      },
      "outputs": [
        {
          "output_type": "stream",
          "name": "stdout",
          "text": [
            "Select a statistical variable\n"
          ]
        },
        {
          "output_type": "display_data",
          "data": {
            "application/vnd.jupyter.widget-view+json": {
              "model_id": "9cf7730acc784ae48e5f17c86e92a261",
              "version_minor": 0,
              "version_major": 2
            },
            "text/plain": [
              "Dropdown(options=('CrsiScore_SuperfundSite', 'NaturalHazardExposureScore_SuperfundSite', 'NaturalHazardRiskSco…"
            ]
          },
          "metadata": {}
        }
      ],
      "source": [
        "print(\"Select a statistical variable\")\n",
        "\n",
        "# list of statistical variables that we shall use for this notebook\n",
        "stat_var_list = [\n",
        "    'CrsiScore_SuperfundSite',\n",
        "    'NaturalHazardExposureScore_SuperfundSite',\n",
        "    'NaturalHazardRiskScore_SuperfundSite',\n",
        "    'NaturalHazardRiskScore_SuperfundSite_CoastalFloodEvent',\n",
        "    'NaturalHazardRiskScore_SuperfundSite_DroughtEvent',\n",
        "    'NaturalHazardRiskScore_SuperfundSite_EarthquakeEvent',\n",
        "    'NaturalHazardRiskScore_SuperfundSite_ExcessiveHeatEvent',\n",
        "    'NaturalHazardRiskScore_SuperfundSite_ExtremeColdWindChillEvent',\n",
        "    'NaturalHazardRiskScore_SuperfundSite_FloodEvent',\n",
        "    'NaturalHazardRiskScore_SuperfundSite_HailEvent',\n",
        "    'NaturalHazardRiskScore_SuperfundSite_HighWindEvent',\n",
        "    'NaturalHazardRiskScore_SuperfundSite_HurricaneEvent',\n",
        "    'NaturalHazardRiskScore_SuperfundSite_LandslideEvent',\n",
        "    'NaturalHazardRiskScore_SuperfundSite_TornadoEvent',\n",
        "    'NaturalHazardRiskScore_SuperfundSite_WildfireEvent'\n",
        " ]\n",
        "# Populating the select dropdown\n",
        "stat_var_select = widgets.Dropdown(options=stat_var_list, value=stat_var_list[0])\n",
        "display(stat_var_select)"
      ]
    },
    {
      "cell_type": "code",
      "source": [
        "stat_var_list"
      ],
      "metadata": {
        "colab": {
          "base_uri": "https://localhost:8080/"
        },
        "id": "cKX-ign5TEhk",
        "outputId": "6e59125d-65c3-4eba-d55b-574ae862592c"
      },
      "execution_count": null,
      "outputs": [
        {
          "output_type": "execute_result",
          "data": {
            "text/plain": [
              "['CrsiScore_SuperfundSite',\n",
              " 'NaturalHazardExposureScore_SuperfundSite',\n",
              " 'NaturalHazardRiskScore_SuperfundSite',\n",
              " 'NaturalHazardRiskScore_SuperfundSite_CoastalFloodEvent',\n",
              " 'NaturalHazardRiskScore_SuperfundSite_DroughtEvent',\n",
              " 'NaturalHazardRiskScore_SuperfundSite_EarthquakeEvent',\n",
              " 'NaturalHazardRiskScore_SuperfundSite_ExcessiveHeatEvent',\n",
              " 'NaturalHazardRiskScore_SuperfundSite_ExtremeColdWindChillEvent',\n",
              " 'NaturalHazardRiskScore_SuperfundSite_FloodEvent',\n",
              " 'NaturalHazardRiskScore_SuperfundSite_HailEvent',\n",
              " 'NaturalHazardRiskScore_SuperfundSite_HighWindEvent',\n",
              " 'NaturalHazardRiskScore_SuperfundSite_HurricaneEvent',\n",
              " 'NaturalHazardRiskScore_SuperfundSite_LandslideEvent',\n",
              " 'NaturalHazardRiskScore_SuperfundSite_TornadoEvent',\n",
              " 'NaturalHazardRiskScore_SuperfundSite_WildfireEvent']"
            ]
          },
          "metadata": {},
          "execution_count": 27
        }
      ]
    },
    {
      "cell_type": "code",
      "execution_count": null,
      "metadata": {
        "colab": {
          "base_uri": "https://localhost:8080/",
          "height": 112
        },
        "id": "AK0kS14J-UOZ",
        "outputId": "c1e2c8db-fb19-4a3e-ecfe-24ff32462b09"
      },
      "outputs": [
        {
          "output_type": "execute_result",
          "data": {
            "text/html": [
              "\n",
              "  <div id=\"df-2710cd28-9954-41bc-8010-e9917872320f\">\n",
              "    <div class=\"colab-df-container\">\n",
              "      <div>\n",
              "<style scoped>\n",
              "    .dataframe tbody tr th:only-of-type {\n",
              "        vertical-align: middle;\n",
              "    }\n",
              "\n",
              "    .dataframe tbody tr th {\n",
              "        vertical-align: top;\n",
              "    }\n",
              "\n",
              "    .dataframe thead th {\n",
              "        text-align: right;\n",
              "    }\n",
              "</style>\n",
              "<table border=\"1\" class=\"dataframe\">\n",
              "  <thead>\n",
              "    <tr style=\"text-align: right;\">\n",
              "      <th></th>\n",
              "      <th>2021</th>\n",
              "    </tr>\n",
              "    <tr>\n",
              "      <th>place</th>\n",
              "      <th></th>\n",
              "    </tr>\n",
              "  </thead>\n",
              "  <tbody>\n",
              "    <tr>\n",
              "      <th>epaSuperfundSiteId/AL3210020027</th>\n",
              "      <td>0.327246</td>\n",
              "    </tr>\n",
              "  </tbody>\n",
              "</table>\n",
              "</div>\n",
              "      <button class=\"colab-df-convert\" onclick=\"convertToInteractive('df-2710cd28-9954-41bc-8010-e9917872320f')\"\n",
              "              title=\"Convert this dataframe to an interactive table.\"\n",
              "              style=\"display:none;\">\n",
              "        \n",
              "  <svg xmlns=\"http://www.w3.org/2000/svg\" height=\"24px\"viewBox=\"0 0 24 24\"\n",
              "       width=\"24px\">\n",
              "    <path d=\"M0 0h24v24H0V0z\" fill=\"none\"/>\n",
              "    <path d=\"M18.56 5.44l.94 2.06.94-2.06 2.06-.94-2.06-.94-.94-2.06-.94 2.06-2.06.94zm-11 1L8.5 8.5l.94-2.06 2.06-.94-2.06-.94L8.5 2.5l-.94 2.06-2.06.94zm10 10l.94 2.06.94-2.06 2.06-.94-2.06-.94-.94-2.06-.94 2.06-2.06.94z\"/><path d=\"M17.41 7.96l-1.37-1.37c-.4-.4-.92-.59-1.43-.59-.52 0-1.04.2-1.43.59L10.3 9.45l-7.72 7.72c-.78.78-.78 2.05 0 2.83L4 21.41c.39.39.9.59 1.41.59.51 0 1.02-.2 1.41-.59l7.78-7.78 2.81-2.81c.8-.78.8-2.07 0-2.86zM5.41 20L4 18.59l7.72-7.72 1.47 1.35L5.41 20z\"/>\n",
              "  </svg>\n",
              "      </button>\n",
              "      \n",
              "  <style>\n",
              "    .colab-df-container {\n",
              "      display:flex;\n",
              "      flex-wrap:wrap;\n",
              "      gap: 12px;\n",
              "    }\n",
              "\n",
              "    .colab-df-convert {\n",
              "      background-color: #E8F0FE;\n",
              "      border: none;\n",
              "      border-radius: 50%;\n",
              "      cursor: pointer;\n",
              "      display: none;\n",
              "      fill: #1967D2;\n",
              "      height: 32px;\n",
              "      padding: 0 0 0 0;\n",
              "      width: 32px;\n",
              "    }\n",
              "\n",
              "    .colab-df-convert:hover {\n",
              "      background-color: #E2EBFA;\n",
              "      box-shadow: 0px 1px 2px rgba(60, 64, 67, 0.3), 0px 1px 3px 1px rgba(60, 64, 67, 0.15);\n",
              "      fill: #174EA6;\n",
              "    }\n",
              "\n",
              "    [theme=dark] .colab-df-convert {\n",
              "      background-color: #3B4455;\n",
              "      fill: #D2E3FC;\n",
              "    }\n",
              "\n",
              "    [theme=dark] .colab-df-convert:hover {\n",
              "      background-color: #434B5C;\n",
              "      box-shadow: 0px 1px 3px 1px rgba(0, 0, 0, 0.15);\n",
              "      filter: drop-shadow(0px 1px 2px rgba(0, 0, 0, 0.3));\n",
              "      fill: #FFFFFF;\n",
              "    }\n",
              "  </style>\n",
              "\n",
              "      <script>\n",
              "        const buttonEl =\n",
              "          document.querySelector('#df-2710cd28-9954-41bc-8010-e9917872320f button.colab-df-convert');\n",
              "        buttonEl.style.display =\n",
              "          google.colab.kernel.accessAllowed ? 'block' : 'none';\n",
              "\n",
              "        async function convertToInteractive(key) {\n",
              "          const element = document.querySelector('#df-2710cd28-9954-41bc-8010-e9917872320f');\n",
              "          const dataTable =\n",
              "            await google.colab.kernel.invokeFunction('convertToInteractive',\n",
              "                                                     [key], {});\n",
              "          if (!dataTable) return;\n",
              "\n",
              "          const docLinkHtml = 'Like what you see? Visit the ' +\n",
              "            '<a target=\"_blank\" href=https://colab.research.google.com/notebooks/data_table.ipynb>data table notebook</a>'\n",
              "            + ' to learn more about interactive tables.';\n",
              "          element.innerHTML = '';\n",
              "          dataTable['output_type'] = 'display_data';\n",
              "          await google.colab.output.renderOutput(dataTable, element);\n",
              "          const docLink = document.createElement('div');\n",
              "          docLink.innerHTML = docLinkHtml;\n",
              "          element.appendChild(docLink);\n",
              "        }\n",
              "      </script>\n",
              "    </div>\n",
              "  </div>\n",
              "  "
            ],
            "text/plain": [
              "                                     2021\n",
              "place                                    \n",
              "epaSuperfundSiteId/AL3210020027  0.327246"
            ]
          },
          "metadata": {},
          "execution_count": 36
        }
      ],
      "source": [
        "chosen_statvar = stat_var_select.value\n",
        "site_statvar_df = dpd.build_time_series_dataframe([site_dcid], chosen_statvar)\n",
        "site_statvar_df.head(5)"
      ]
    },
    {
      "cell_type": "markdown",
      "metadata": {
        "id": "iXBgV3SV2G8e"
      },
      "source": [
        "#### Getting statistics to a `pandas` DataFrame\n",
        "Using the same `build_time_series_dataframe` API method, get the StatVarObservations for the selected statistical variable across all superfund sites."
      ]
    },
    {
      "cell_type": "code",
      "execution_count": null,
      "metadata": {
        "colab": {
          "base_uri": "https://localhost:8080/",
          "height": 238
        },
        "id": "Kg7fHa4O2EAM",
        "outputId": "bc05727f-0ebc-4ace-c691-55658a1dc5d4"
      },
      "outputs": [
        {
          "output_type": "execute_result",
          "data": {
            "text/html": [
              "\n",
              "  <div id=\"df-92d68cd3-7b49-410f-9f42-2a8c63101d90\">\n",
              "    <div class=\"colab-df-container\">\n",
              "      <div>\n",
              "<style scoped>\n",
              "    .dataframe tbody tr th:only-of-type {\n",
              "        vertical-align: middle;\n",
              "    }\n",
              "\n",
              "    .dataframe tbody tr th {\n",
              "        vertical-align: top;\n",
              "    }\n",
              "\n",
              "    .dataframe thead th {\n",
              "        text-align: right;\n",
              "    }\n",
              "</style>\n",
              "<table border=\"1\" class=\"dataframe\">\n",
              "  <thead>\n",
              "    <tr style=\"text-align: right;\">\n",
              "      <th></th>\n",
              "      <th>2021</th>\n",
              "    </tr>\n",
              "    <tr>\n",
              "      <th>place</th>\n",
              "      <th></th>\n",
              "    </tr>\n",
              "  </thead>\n",
              "  <tbody>\n",
              "    <tr>\n",
              "      <th>epaSuperfundSiteId/AL3210020027</th>\n",
              "      <td>0.327246</td>\n",
              "    </tr>\n",
              "    <tr>\n",
              "      <th>epaSuperfundSiteId/AL6210020008</th>\n",
              "      <td>0.600902</td>\n",
              "    </tr>\n",
              "    <tr>\n",
              "      <th>epaSuperfundSiteId/AL7210020742</th>\n",
              "      <td>0.610158</td>\n",
              "    </tr>\n",
              "    <tr>\n",
              "      <th>epaSuperfundSiteId/ALD001221902</th>\n",
              "      <td>0.962115</td>\n",
              "    </tr>\n",
              "    <tr>\n",
              "      <th>epaSuperfundSiteId/ALD004022448</th>\n",
              "      <td>0.951963</td>\n",
              "    </tr>\n",
              "  </tbody>\n",
              "</table>\n",
              "</div>\n",
              "      <button class=\"colab-df-convert\" onclick=\"convertToInteractive('df-92d68cd3-7b49-410f-9f42-2a8c63101d90')\"\n",
              "              title=\"Convert this dataframe to an interactive table.\"\n",
              "              style=\"display:none;\">\n",
              "        \n",
              "  <svg xmlns=\"http://www.w3.org/2000/svg\" height=\"24px\"viewBox=\"0 0 24 24\"\n",
              "       width=\"24px\">\n",
              "    <path d=\"M0 0h24v24H0V0z\" fill=\"none\"/>\n",
              "    <path d=\"M18.56 5.44l.94 2.06.94-2.06 2.06-.94-2.06-.94-.94-2.06-.94 2.06-2.06.94zm-11 1L8.5 8.5l.94-2.06 2.06-.94-2.06-.94L8.5 2.5l-.94 2.06-2.06.94zm10 10l.94 2.06.94-2.06 2.06-.94-2.06-.94-.94-2.06-.94 2.06-2.06.94z\"/><path d=\"M17.41 7.96l-1.37-1.37c-.4-.4-.92-.59-1.43-.59-.52 0-1.04.2-1.43.59L10.3 9.45l-7.72 7.72c-.78.78-.78 2.05 0 2.83L4 21.41c.39.39.9.59 1.41.59.51 0 1.02-.2 1.41-.59l7.78-7.78 2.81-2.81c.8-.78.8-2.07 0-2.86zM5.41 20L4 18.59l7.72-7.72 1.47 1.35L5.41 20z\"/>\n",
              "  </svg>\n",
              "      </button>\n",
              "      \n",
              "  <style>\n",
              "    .colab-df-container {\n",
              "      display:flex;\n",
              "      flex-wrap:wrap;\n",
              "      gap: 12px;\n",
              "    }\n",
              "\n",
              "    .colab-df-convert {\n",
              "      background-color: #E8F0FE;\n",
              "      border: none;\n",
              "      border-radius: 50%;\n",
              "      cursor: pointer;\n",
              "      display: none;\n",
              "      fill: #1967D2;\n",
              "      height: 32px;\n",
              "      padding: 0 0 0 0;\n",
              "      width: 32px;\n",
              "    }\n",
              "\n",
              "    .colab-df-convert:hover {\n",
              "      background-color: #E2EBFA;\n",
              "      box-shadow: 0px 1px 2px rgba(60, 64, 67, 0.3), 0px 1px 3px 1px rgba(60, 64, 67, 0.15);\n",
              "      fill: #174EA6;\n",
              "    }\n",
              "\n",
              "    [theme=dark] .colab-df-convert {\n",
              "      background-color: #3B4455;\n",
              "      fill: #D2E3FC;\n",
              "    }\n",
              "\n",
              "    [theme=dark] .colab-df-convert:hover {\n",
              "      background-color: #434B5C;\n",
              "      box-shadow: 0px 1px 3px 1px rgba(0, 0, 0, 0.15);\n",
              "      filter: drop-shadow(0px 1px 2px rgba(0, 0, 0, 0.3));\n",
              "      fill: #FFFFFF;\n",
              "    }\n",
              "  </style>\n",
              "\n",
              "      <script>\n",
              "        const buttonEl =\n",
              "          document.querySelector('#df-92d68cd3-7b49-410f-9f42-2a8c63101d90 button.colab-df-convert');\n",
              "        buttonEl.style.display =\n",
              "          google.colab.kernel.accessAllowed ? 'block' : 'none';\n",
              "\n",
              "        async function convertToInteractive(key) {\n",
              "          const element = document.querySelector('#df-92d68cd3-7b49-410f-9f42-2a8c63101d90');\n",
              "          const dataTable =\n",
              "            await google.colab.kernel.invokeFunction('convertToInteractive',\n",
              "                                                     [key], {});\n",
              "          if (!dataTable) return;\n",
              "\n",
              "          const docLinkHtml = 'Like what you see? Visit the ' +\n",
              "            '<a target=\"_blank\" href=https://colab.research.google.com/notebooks/data_table.ipynb>data table notebook</a>'\n",
              "            + ' to learn more about interactive tables.';\n",
              "          element.innerHTML = '';\n",
              "          dataTable['output_type'] = 'display_data';\n",
              "          await google.colab.output.renderOutput(dataTable, element);\n",
              "          const docLink = document.createElement('div');\n",
              "          docLink.innerHTML = docLinkHtml;\n",
              "          element.appendChild(docLink);\n",
              "        }\n",
              "      </script>\n",
              "    </div>\n",
              "  </div>\n",
              "  "
            ],
            "text/plain": [
              "                                     2021\n",
              "place                                    \n",
              "epaSuperfundSiteId/AL3210020027  0.327246\n",
              "epaSuperfundSiteId/AL6210020008  0.600902\n",
              "epaSuperfundSiteId/AL7210020742  0.610158\n",
              "epaSuperfundSiteId/ALD001221902  0.962115\n",
              "epaSuperfundSiteId/ALD004022448  0.951963"
            ]
          },
          "metadata": {},
          "execution_count": 37
        }
      ],
      "source": [
        "site_statvar_df = dpd.build_time_series_dataframe(superfund_sites, chosen_statvar)\n",
        "site_statvar_df.head(5)"
      ]
    },
    {
      "cell_type": "markdown",
      "metadata": {
        "id": "1Jh7IU9z2iEK"
      },
      "source": [
        "In both examples, the dataframe is still not human readable, let us add the name to the superfund sites. To add the names to the dataframe, we will query the superfund site's node and extract the `name` property using the `get_property_values` API method."
      ]
    },
    {
      "cell_type": "code",
      "execution_count": null,
      "metadata": {
        "colab": {
          "base_uri": "https://localhost:8080/",
          "height": 238
        },
        "id": "jV8qIKOlTv2g",
        "outputId": "6cbe00c4-5e87-4463-e1a3-31d957b40d28"
      },
      "outputs": [
        {
          "output_type": "execute_result",
          "data": {
            "text/html": [
              "\n",
              "  <div id=\"df-abe93181-115a-4eee-8aa5-d6b5af87a7b8\">\n",
              "    <div class=\"colab-df-container\">\n",
              "      <div>\n",
              "<style scoped>\n",
              "    .dataframe tbody tr th:only-of-type {\n",
              "        vertical-align: middle;\n",
              "    }\n",
              "\n",
              "    .dataframe tbody tr th {\n",
              "        vertical-align: top;\n",
              "    }\n",
              "\n",
              "    .dataframe thead th {\n",
              "        text-align: right;\n",
              "    }\n",
              "</style>\n",
              "<table border=\"1\" class=\"dataframe\">\n",
              "  <thead>\n",
              "    <tr style=\"text-align: right;\">\n",
              "      <th></th>\n",
              "      <th>2021</th>\n",
              "      <th>name</th>\n",
              "    </tr>\n",
              "    <tr>\n",
              "      <th>place</th>\n",
              "      <th></th>\n",
              "      <th></th>\n",
              "    </tr>\n",
              "  </thead>\n",
              "  <tbody>\n",
              "    <tr>\n",
              "      <th>epaSuperfundSiteId/AL3210020027</th>\n",
              "      <td>0.327246</td>\n",
              "      <td>Anniston Army Depot (Southeast Industrial Area)</td>\n",
              "    </tr>\n",
              "    <tr>\n",
              "      <th>epaSuperfundSiteId/AL6210020008</th>\n",
              "      <td>0.600902</td>\n",
              "      <td>Alabama Army Ammunition Plant</td>\n",
              "    </tr>\n",
              "    <tr>\n",
              "      <th>epaSuperfundSiteId/AL7210020742</th>\n",
              "      <td>0.610158</td>\n",
              "      <td>Redstone Arsenal (USARMY/NASA)</td>\n",
              "    </tr>\n",
              "    <tr>\n",
              "      <th>epaSuperfundSiteId/ALD001221902</th>\n",
              "      <td>0.962115</td>\n",
              "      <td>Ciba-Geigy Corp. (McIntosh Plant)</td>\n",
              "    </tr>\n",
              "    <tr>\n",
              "      <th>epaSuperfundSiteId/ALD004022448</th>\n",
              "      <td>0.951963</td>\n",
              "      <td>Alabama Plating Company Inc.</td>\n",
              "    </tr>\n",
              "  </tbody>\n",
              "</table>\n",
              "</div>\n",
              "      <button class=\"colab-df-convert\" onclick=\"convertToInteractive('df-abe93181-115a-4eee-8aa5-d6b5af87a7b8')\"\n",
              "              title=\"Convert this dataframe to an interactive table.\"\n",
              "              style=\"display:none;\">\n",
              "        \n",
              "  <svg xmlns=\"http://www.w3.org/2000/svg\" height=\"24px\"viewBox=\"0 0 24 24\"\n",
              "       width=\"24px\">\n",
              "    <path d=\"M0 0h24v24H0V0z\" fill=\"none\"/>\n",
              "    <path d=\"M18.56 5.44l.94 2.06.94-2.06 2.06-.94-2.06-.94-.94-2.06-.94 2.06-2.06.94zm-11 1L8.5 8.5l.94-2.06 2.06-.94-2.06-.94L8.5 2.5l-.94 2.06-2.06.94zm10 10l.94 2.06.94-2.06 2.06-.94-2.06-.94-.94-2.06-.94 2.06-2.06.94z\"/><path d=\"M17.41 7.96l-1.37-1.37c-.4-.4-.92-.59-1.43-.59-.52 0-1.04.2-1.43.59L10.3 9.45l-7.72 7.72c-.78.78-.78 2.05 0 2.83L4 21.41c.39.39.9.59 1.41.59.51 0 1.02-.2 1.41-.59l7.78-7.78 2.81-2.81c.8-.78.8-2.07 0-2.86zM5.41 20L4 18.59l7.72-7.72 1.47 1.35L5.41 20z\"/>\n",
              "  </svg>\n",
              "      </button>\n",
              "      \n",
              "  <style>\n",
              "    .colab-df-container {\n",
              "      display:flex;\n",
              "      flex-wrap:wrap;\n",
              "      gap: 12px;\n",
              "    }\n",
              "\n",
              "    .colab-df-convert {\n",
              "      background-color: #E8F0FE;\n",
              "      border: none;\n",
              "      border-radius: 50%;\n",
              "      cursor: pointer;\n",
              "      display: none;\n",
              "      fill: #1967D2;\n",
              "      height: 32px;\n",
              "      padding: 0 0 0 0;\n",
              "      width: 32px;\n",
              "    }\n",
              "\n",
              "    .colab-df-convert:hover {\n",
              "      background-color: #E2EBFA;\n",
              "      box-shadow: 0px 1px 2px rgba(60, 64, 67, 0.3), 0px 1px 3px 1px rgba(60, 64, 67, 0.15);\n",
              "      fill: #174EA6;\n",
              "    }\n",
              "\n",
              "    [theme=dark] .colab-df-convert {\n",
              "      background-color: #3B4455;\n",
              "      fill: #D2E3FC;\n",
              "    }\n",
              "\n",
              "    [theme=dark] .colab-df-convert:hover {\n",
              "      background-color: #434B5C;\n",
              "      box-shadow: 0px 1px 3px 1px rgba(0, 0, 0, 0.15);\n",
              "      filter: drop-shadow(0px 1px 2px rgba(0, 0, 0, 0.3));\n",
              "      fill: #FFFFFF;\n",
              "    }\n",
              "  </style>\n",
              "\n",
              "      <script>\n",
              "        const buttonEl =\n",
              "          document.querySelector('#df-abe93181-115a-4eee-8aa5-d6b5af87a7b8 button.colab-df-convert');\n",
              "        buttonEl.style.display =\n",
              "          google.colab.kernel.accessAllowed ? 'block' : 'none';\n",
              "\n",
              "        async function convertToInteractive(key) {\n",
              "          const element = document.querySelector('#df-abe93181-115a-4eee-8aa5-d6b5af87a7b8');\n",
              "          const dataTable =\n",
              "            await google.colab.kernel.invokeFunction('convertToInteractive',\n",
              "                                                     [key], {});\n",
              "          if (!dataTable) return;\n",
              "\n",
              "          const docLinkHtml = 'Like what you see? Visit the ' +\n",
              "            '<a target=\"_blank\" href=https://colab.research.google.com/notebooks/data_table.ipynb>data table notebook</a>'\n",
              "            + ' to learn more about interactive tables.';\n",
              "          element.innerHTML = '';\n",
              "          dataTable['output_type'] = 'display_data';\n",
              "          await google.colab.output.renderOutput(dataTable, element);\n",
              "          const docLink = document.createElement('div');\n",
              "          docLink.innerHTML = docLinkHtml;\n",
              "          element.appendChild(docLink);\n",
              "        }\n",
              "      </script>\n",
              "    </div>\n",
              "  </div>\n",
              "  "
            ],
            "text/plain": [
              "                                     2021  \\\n",
              "place                                       \n",
              "epaSuperfundSiteId/AL3210020027  0.327246   \n",
              "epaSuperfundSiteId/AL6210020008  0.600902   \n",
              "epaSuperfundSiteId/AL7210020742  0.610158   \n",
              "epaSuperfundSiteId/ALD001221902  0.962115   \n",
              "epaSuperfundSiteId/ALD004022448  0.951963   \n",
              "\n",
              "                                                                            name  \n",
              "place                                                                             \n",
              "epaSuperfundSiteId/AL3210020027  Anniston Army Depot (Southeast Industrial Area)  \n",
              "epaSuperfundSiteId/AL6210020008                    Alabama Army Ammunition Plant  \n",
              "epaSuperfundSiteId/AL7210020742                   Redstone Arsenal (USARMY/NASA)  \n",
              "epaSuperfundSiteId/ALD001221902                Ciba-Geigy Corp. (McIntosh Plant)  \n",
              "epaSuperfundSiteId/ALD004022448                     Alabama Plating Company Inc.  "
            ]
          },
          "metadata": {},
          "execution_count": 38
        }
      ],
      "source": [
        "def add_name_col(df):\n",
        "  # Add a new column called name, where each value is the name for the place dcid in the index.\n",
        "  df['name'] = df.index.map(dc.get_property_values(df.index, 'name'))\n",
        "  \n",
        "  # Keep just the first name, instead of a list of all names.\n",
        "  df['name'] = df['name'].str[0]\n",
        "\n",
        "add_name_col(site_statvar_df)\n",
        "site_statvar_df.head()"
      ]
    },
    {
      "cell_type": "markdown",
      "metadata": {
        "id": "8B6hna663EJe"
      },
      "source": [
        "#### Visualizing StatVarObservations for superfund site statistics\n",
        "Now, let us try visualizing the StatVarObservations.\n",
        "\n",
        "\n",
        "The statistical variables that are currently available on superfund sites across the country is from the [Intersection of Natural Hazard Vulnerability and Superfund Site Location](https://catalog.data.gov/dataset/intersection-of-natural-hazard-vulnerability-and-superfund-site-location) paper and has only one data-point. \n",
        "\n",
        "Hence, we visualize the sites with highest natural hazard vulnerability as a bar chart."
      ]
    },
    {
      "cell_type": "code",
      "execution_count": null,
      "metadata": {
        "colab": {
          "base_uri": "https://localhost:8080/",
          "height": 367
        },
        "id": "0iSaf-uqT0M5",
        "outputId": "9c9f323a-d421-436a-bf97-cc7a4d10267d"
      },
      "outputs": [
        {
          "output_type": "execute_result",
          "data": {
            "text/plain": [
              "<matplotlib.axes._subplots.AxesSubplot at 0x7fc4611cf990>"
            ]
          },
          "metadata": {},
          "execution_count": 39
        },
        {
          "output_type": "display_data",
          "data": {
            "image/png": "[encoded data removed]",
            "text/plain": [
              "<Figure size 1800x360 with 1 Axes>"
            ]
          },
          "metadata": {
            "needs_background": "light"
          }
        }
      ],
      "source": [
        "# sort the dataframe by the value column in descending order\n",
        "site_vulnerability = site_statvar_df.sort_values(by='2021', ascending=False)\n",
        "\n",
        "# set the threshold on the number sites to visualize - since there are 1,300 odd superfund sites\n",
        "num_sites = 10\n",
        "site_vulnerability = site_vulnerability[:num_sites]\n",
        "site_vulnerability.plot(kind='bar', x='name', y='2021', figsize=(25,5))"
      ]
    },
    {
      "cell_type": "markdown",
      "metadata": {
        "id": "a8MLVfg84mV-"
      },
      "source": [
        "If two statistical variables need to be compared together for correlations for a particular place, please consider using the [`build_multivariate_dataframe`](https://docs.datacommons.org/api/pandas/multivariate_dataframe.html) API method.\n",
        "\n",
        "For example, we shall compare the CRSI score (stat_var_id: `CrsiScore_SuperfundSite`) with the natural hazard risk score (stat_var_id: `NaturalHazardRiskScore_SuperfundSite`) across superfund sites in the US.\n",
        "\n",
        "> The [Climate Resilience Screening Index](https://www.iisd.org/system/files/meterial/US%20EPA%20CSIN%20webinar%203.pdf) (CRSI) score which measures the resilience of socio-ecological systems, (superfund sites) in the context of governance and risk to natural hazard events.\n",
        "\n"
      ]
    },
    {
      "cell_type": "code",
      "execution_count": null,
      "metadata": {
        "colab": {
          "base_uri": "https://localhost:8080/",
          "height": 488
        },
        "id": "xFF1ZuOx6iCQ",
        "outputId": "25af47d9-e0db-47c1-a5b8-8ada7dce3d29"
      },
      "outputs": [
        {
          "output_type": "execute_result",
          "data": {
            "text/html": [
              "\n",
              "  <div id=\"df-0fed4f99-9803-4b47-bdad-0068fe65a8bd\">\n",
              "    <div class=\"colab-df-container\">\n",
              "      <div>\n",
              "<style scoped>\n",
              "    .dataframe tbody tr th:only-of-type {\n",
              "        vertical-align: middle;\n",
              "    }\n",
              "\n",
              "    .dataframe tbody tr th {\n",
              "        vertical-align: top;\n",
              "    }\n",
              "\n",
              "    .dataframe thead th {\n",
              "        text-align: right;\n",
              "    }\n",
              "</style>\n",
              "<table border=\"1\" class=\"dataframe\">\n",
              "  <thead>\n",
              "    <tr style=\"text-align: right;\">\n",
              "      <th></th>\n",
              "      <th>NaturalHazardRiskScore_SuperfundSite</th>\n",
              "      <th>CrsiScore_SuperfundSite</th>\n",
              "    </tr>\n",
              "    <tr>\n",
              "      <th>place</th>\n",
              "      <th></th>\n",
              "      <th></th>\n",
              "    </tr>\n",
              "  </thead>\n",
              "  <tbody>\n",
              "    <tr>\n",
              "      <th>epaSuperfundSiteId/AL3210020027</th>\n",
              "      <td>66.945</td>\n",
              "      <td>0.327246</td>\n",
              "    </tr>\n",
              "    <tr>\n",
              "      <th>epaSuperfundSiteId/AL6210020008</th>\n",
              "      <td>30.332</td>\n",
              "      <td>0.600902</td>\n",
              "    </tr>\n",
              "    <tr>\n",
              "      <th>epaSuperfundSiteId/AL7210020742</th>\n",
              "      <td>80.383</td>\n",
              "      <td>0.610158</td>\n",
              "    </tr>\n",
              "    <tr>\n",
              "      <th>epaSuperfundSiteId/ALD001221902</th>\n",
              "      <td>35.174</td>\n",
              "      <td>0.962115</td>\n",
              "    </tr>\n",
              "    <tr>\n",
              "      <th>epaSuperfundSiteId/ALD004022448</th>\n",
              "      <td>53.149</td>\n",
              "      <td>0.951963</td>\n",
              "    </tr>\n",
              "    <tr>\n",
              "      <th>epaSuperfundSiteId/ALD007454085</th>\n",
              "      <td>51.894</td>\n",
              "      <td>1.011869</td>\n",
              "    </tr>\n",
              "    <tr>\n",
              "      <th>epaSuperfundSiteId/ALD008161176</th>\n",
              "      <td>53.565</td>\n",
              "      <td>0.750292</td>\n",
              "    </tr>\n",
              "    <tr>\n",
              "      <th>epaSuperfundSiteId/ALD008188708</th>\n",
              "      <td>35.174</td>\n",
              "      <td>0.962115</td>\n",
              "    </tr>\n",
              "    <tr>\n",
              "      <th>epaSuperfundSiteId/ALD041906173</th>\n",
              "      <td>91.456</td>\n",
              "      <td>0.394343</td>\n",
              "    </tr>\n",
              "    <tr>\n",
              "      <th>epaSuperfundSiteId/ALD095688875</th>\n",
              "      <td>53.565</td>\n",
              "      <td>0.750292</td>\n",
              "    </tr>\n",
              "    <tr>\n",
              "      <th>epaSuperfundSiteId/ALD981868466</th>\n",
              "      <td>22.623</td>\n",
              "      <td>0.458104</td>\n",
              "    </tr>\n",
              "    <tr>\n",
              "      <th>epaSuperfundSiteId/ALD983166299</th>\n",
              "      <td>42.534</td>\n",
              "      <td>0.827992</td>\n",
              "    </tr>\n",
              "    <tr>\n",
              "      <th>epaSuperfundSiteId/ALN000410750</th>\n",
              "      <td>91.456</td>\n",
              "      <td>0.394343</td>\n",
              "    </tr>\n",
              "  </tbody>\n",
              "</table>\n",
              "</div>\n",
              "      <button class=\"colab-df-convert\" onclick=\"convertToInteractive('df-0fed4f99-9803-4b47-bdad-0068fe65a8bd')\"\n",
              "              title=\"Convert this dataframe to an interactive table.\"\n",
              "              style=\"display:none;\">\n",
              "        \n",
              "  <svg xmlns=\"http://www.w3.org/2000/svg\" height=\"24px\"viewBox=\"0 0 24 24\"\n",
              "       width=\"24px\">\n",
              "    <path d=\"M0 0h24v24H0V0z\" fill=\"none\"/>\n",
              "    <path d=\"M18.56 5.44l.94 2.06.94-2.06 2.06-.94-2.06-.94-.94-2.06-.94 2.06-2.06.94zm-11 1L8.5 8.5l.94-2.06 2.06-.94-2.06-.94L8.5 2.5l-.94 2.06-2.06.94zm10 10l.94 2.06.94-2.06 2.06-.94-2.06-.94-.94-2.06-.94 2.06-2.06.94z\"/><path d=\"M17.41 7.96l-1.37-1.37c-.4-.4-.92-.59-1.43-.59-.52 0-1.04.2-1.43.59L10.3 9.45l-7.72 7.72c-.78.78-.78 2.05 0 2.83L4 21.41c.39.39.9.59 1.41.59.51 0 1.02-.2 1.41-.59l7.78-7.78 2.81-2.81c.8-.78.8-2.07 0-2.86zM5.41 20L4 18.59l7.72-7.72 1.47 1.35L5.41 20z\"/>\n",
              "  </svg>\n",
              "      </button>\n",
              "      \n",
              "  <style>\n",
              "    .colab-df-container {\n",
              "      display:flex;\n",
              "      flex-wrap:wrap;\n",
              "      gap: 12px;\n",
              "    }\n",
              "\n",
              "    .colab-df-convert {\n",
              "      background-color: #E8F0FE;\n",
              "      border: none;\n",
              "      border-radius: 50%;\n",
              "      cursor: pointer;\n",
              "      display: none;\n",
              "      fill: #1967D2;\n",
              "      height: 32px;\n",
              "      padding: 0 0 0 0;\n",
              "      width: 32px;\n",
              "    }\n",
              "\n",
              "    .colab-df-convert:hover {\n",
              "      background-color: #E2EBFA;\n",
              "      box-shadow: 0px 1px 2px rgba(60, 64, 67, 0.3), 0px 1px 3px 1px rgba(60, 64, 67, 0.15);\n",
              "      fill: #174EA6;\n",
              "    }\n",
              "\n",
              "    [theme=dark] .colab-df-convert {\n",
              "      background-color: #3B4455;\n",
              "      fill: #D2E3FC;\n",
              "    }\n",
              "\n",
              "    [theme=dark] .colab-df-convert:hover {\n",
              "      background-color: #434B5C;\n",
              "      box-shadow: 0px 1px 3px 1px rgba(0, 0, 0, 0.15);\n",
              "      filter: drop-shadow(0px 1px 2px rgba(0, 0, 0, 0.3));\n",
              "      fill: #FFFFFF;\n",
              "    }\n",
              "  </style>\n",
              "\n",
              "      <script>\n",
              "        const buttonEl =\n",
              "          document.querySelector('#df-0fed4f99-9803-4b47-bdad-0068fe65a8bd button.colab-df-convert');\n",
              "        buttonEl.style.display =\n",
              "          google.colab.kernel.accessAllowed ? 'block' : 'none';\n",
              "\n",
              "        async function convertToInteractive(key) {\n",
              "          const element = document.querySelector('#df-0fed4f99-9803-4b47-bdad-0068fe65a8bd');\n",
              "          const dataTable =\n",
              "            await google.colab.kernel.invokeFunction('convertToInteractive',\n",
              "                                                     [key], {});\n",
              "          if (!dataTable) return;\n",
              "\n",
              "          const docLinkHtml = 'Like what you see? Visit the ' +\n",
              "            '<a target=\"_blank\" href=https://colab.research.google.com/notebooks/data_table.ipynb>data table notebook</a>'\n",
              "            + ' to learn more about interactive tables.';\n",
              "          element.innerHTML = '';\n",
              "          dataTable['output_type'] = 'display_data';\n",
              "          await google.colab.output.renderOutput(dataTable, element);\n",
              "          const docLink = document.createElement('div');\n",
              "          docLink.innerHTML = docLinkHtml;\n",
              "          element.appendChild(docLink);\n",
              "        }\n",
              "      </script>\n",
              "    </div>\n",
              "  </div>\n",
              "  "
            ],
            "text/plain": [
              "                                 NaturalHazardRiskScore_SuperfundSite  \\\n",
              "place                                                                   \n",
              "epaSuperfundSiteId/AL3210020027                                66.945   \n",
              "epaSuperfundSiteId/AL6210020008                                30.332   \n",
              "epaSuperfundSiteId/AL7210020742                                80.383   \n",
              "epaSuperfundSiteId/ALD001221902                                35.174   \n",
              "epaSuperfundSiteId/ALD004022448                                53.149   \n",
              "epaSuperfundSiteId/ALD007454085                                51.894   \n",
              "epaSuperfundSiteId/ALD008161176                                53.565   \n",
              "epaSuperfundSiteId/ALD008188708                                35.174   \n",
              "epaSuperfundSiteId/ALD041906173                                91.456   \n",
              "epaSuperfundSiteId/ALD095688875                                53.565   \n",
              "epaSuperfundSiteId/ALD981868466                                22.623   \n",
              "epaSuperfundSiteId/ALD983166299                                42.534   \n",
              "epaSuperfundSiteId/ALN000410750                                91.456   \n",
              "\n",
              "                                 CrsiScore_SuperfundSite  \n",
              "place                                                     \n",
              "epaSuperfundSiteId/AL3210020027                 0.327246  \n",
              "epaSuperfundSiteId/AL6210020008                 0.600902  \n",
              "epaSuperfundSiteId/AL7210020742                 0.610158  \n",
              "epaSuperfundSiteId/ALD001221902                 0.962115  \n",
              "epaSuperfundSiteId/ALD004022448                 0.951963  \n",
              "epaSuperfundSiteId/ALD007454085                 1.011869  \n",
              "epaSuperfundSiteId/ALD008161176                 0.750292  \n",
              "epaSuperfundSiteId/ALD008188708                 0.962115  \n",
              "epaSuperfundSiteId/ALD041906173                 0.394343  \n",
              "epaSuperfundSiteId/ALD095688875                 0.750292  \n",
              "epaSuperfundSiteId/ALD981868466                 0.458104  \n",
              "epaSuperfundSiteId/ALD983166299                 0.827992  \n",
              "epaSuperfundSiteId/ALN000410750                 0.394343  "
            ]
          },
          "metadata": {},
          "execution_count": 40
        }
      ],
      "source": [
        "multi_statvar_df = dpd.build_multivariate_dataframe(superfund_sites,[\"CrsiScore_SuperfundSite\", \"NaturalHazardRiskScore_SuperfundSite\"])\n",
        "multi_statvar_df"
      ]
    },
    {
      "cell_type": "markdown",
      "metadata": {
        "id": "JnGHbrqy7Uv5"
      },
      "source": [
        "For the comparison, we shall make a scatter plot across the two statistical variables namely: \"CrsiScore_SuperfundSite\" and \"NaturalHazardRiskScore_SuperfundSite\""
      ]
    },
    {
      "cell_type": "code",
      "execution_count": null,
      "metadata": {
        "colab": {
          "base_uri": "https://localhost:8080/",
          "height": 514
        },
        "id": "05oEIsh27J55",
        "outputId": "47e8eb3a-409a-4be6-9281-e138c8c1451d"
      },
      "outputs": [
        {
          "output_type": "display_data",
          "data": {
            "image/png": "[encoded data removed]",
            "text/plain": [
              "<Figure size 864x576 with 1 Axes>"
            ]
          },
          "metadata": {
            "needs_background": "light"
          }
        }
      ],
      "source": [
        "# Scatter plot the information\n",
        "multi_statvar_df.plot(kind='scatter', x='NaturalHazardRiskScore_SuperfundSite', y='CrsiScore_SuperfundSite', figsize=(12, 8))\n",
        "plt.title(f\"Natural Hazard Risk Score vs CRSI score for sites in {selected_place_choice}\")\n",
        "plt.xlabel(\"NaturalHazardRiskScore_SuperfundSite\")\n",
        "plt.ylabel(\"CrsiScore_SuperfundSite\")\n",
        "plt.show()"
      ]
    },
    {
      "cell_type": "markdown",
      "metadata": {
        "id": "Bdada1GF-VgS"
      },
      "source": [
        "## Demo 4 - Comparing superfund statistics with other statistics in Data Commons\n",
        "\n",
        "This demo example is probably the most interesting one since, we will compare superfund statistics with other statistics in Data Commons. \n",
        "\n",
        "In this example, we will compare the `CRSI score` of a superfund site and the impact seen on the tribal population living in cities in and around the site. The tribal population statistics come from the US census and the CRSI score is the same statistical variable we used in the previous examples.\n",
        "\n",
        "This is advantage which Data Commons offers, where it is easy to make such cross-domain, cross-place, cross-statistics analysis.\n",
        "\n",
        "\n",
        "Before making the visualization let us first take a look at how the dataset will look and what will the pre-processing that is required"
      ]
    },
    {
      "cell_type": "code",
      "execution_count": null,
      "metadata": {
        "colab": {
          "base_uri": "https://localhost:8080/",
          "height": 238
        },
        "id": "DFNDoYxE_Dpj",
        "outputId": "0c3d67a0-6445-41ba-bef3-1650c6d320b7"
      },
      "outputs": [
        {
          "output_type": "execute_result",
          "data": {
            "text/html": [
              "\n",
              "  <div id=\"df-80cb1c49-9ee7-4a7c-9401-230877dcbc3a\">\n",
              "    <div class=\"colab-df-container\">\n",
              "      <div>\n",
              "<style scoped>\n",
              "    .dataframe tbody tr th:only-of-type {\n",
              "        vertical-align: middle;\n",
              "    }\n",
              "\n",
              "    .dataframe tbody tr th {\n",
              "        vertical-align: top;\n",
              "    }\n",
              "\n",
              "    .dataframe thead th {\n",
              "        text-align: right;\n",
              "    }\n",
              "</style>\n",
              "<table border=\"1\" class=\"dataframe\">\n",
              "  <thead>\n",
              "    <tr style=\"text-align: right;\">\n",
              "      <th></th>\n",
              "      <th>2021</th>\n",
              "    </tr>\n",
              "    <tr>\n",
              "      <th>place</th>\n",
              "      <th></th>\n",
              "    </tr>\n",
              "  </thead>\n",
              "  <tbody>\n",
              "    <tr>\n",
              "      <th>epaSuperfundSiteId/AL3210020027</th>\n",
              "      <td>0.327246</td>\n",
              "    </tr>\n",
              "    <tr>\n",
              "      <th>epaSuperfundSiteId/AL6210020008</th>\n",
              "      <td>0.600902</td>\n",
              "    </tr>\n",
              "    <tr>\n",
              "      <th>epaSuperfundSiteId/AL7210020742</th>\n",
              "      <td>0.610158</td>\n",
              "    </tr>\n",
              "    <tr>\n",
              "      <th>epaSuperfundSiteId/ALD001221902</th>\n",
              "      <td>0.962115</td>\n",
              "    </tr>\n",
              "    <tr>\n",
              "      <th>epaSuperfundSiteId/ALD004022448</th>\n",
              "      <td>0.951963</td>\n",
              "    </tr>\n",
              "  </tbody>\n",
              "</table>\n",
              "</div>\n",
              "      <button class=\"colab-df-convert\" onclick=\"convertToInteractive('df-80cb1c49-9ee7-4a7c-9401-230877dcbc3a')\"\n",
              "              title=\"Convert this dataframe to an interactive table.\"\n",
              "              style=\"display:none;\">\n",
              "        \n",
              "  <svg xmlns=\"http://www.w3.org/2000/svg\" height=\"24px\"viewBox=\"0 0 24 24\"\n",
              "       width=\"24px\">\n",
              "    <path d=\"M0 0h24v24H0V0z\" fill=\"none\"/>\n",
              "    <path d=\"M18.56 5.44l.94 2.06.94-2.06 2.06-.94-2.06-.94-.94-2.06-.94 2.06-2.06.94zm-11 1L8.5 8.5l.94-2.06 2.06-.94-2.06-.94L8.5 2.5l-.94 2.06-2.06.94zm10 10l.94 2.06.94-2.06 2.06-.94-2.06-.94-.94-2.06-.94 2.06-2.06.94z\"/><path d=\"M17.41 7.96l-1.37-1.37c-.4-.4-.92-.59-1.43-.59-.52 0-1.04.2-1.43.59L10.3 9.45l-7.72 7.72c-.78.78-.78 2.05 0 2.83L4 21.41c.39.39.9.59 1.41.59.51 0 1.02-.2 1.41-.59l7.78-7.78 2.81-2.81c.8-.78.8-2.07 0-2.86zM5.41 20L4 18.59l7.72-7.72 1.47 1.35L5.41 20z\"/>\n",
              "  </svg>\n",
              "      </button>\n",
              "      \n",
              "  <style>\n",
              "    .colab-df-container {\n",
              "      display:flex;\n",
              "      flex-wrap:wrap;\n",
              "      gap: 12px;\n",
              "    }\n",
              "\n",
              "    .colab-df-convert {\n",
              "      background-color: #E8F0FE;\n",
              "      border: none;\n",
              "      border-radius: 50%;\n",
              "      cursor: pointer;\n",
              "      display: none;\n",
              "      fill: #1967D2;\n",
              "      height: 32px;\n",
              "      padding: 0 0 0 0;\n",
              "      width: 32px;\n",
              "    }\n",
              "\n",
              "    .colab-df-convert:hover {\n",
              "      background-color: #E2EBFA;\n",
              "      box-shadow: 0px 1px 2px rgba(60, 64, 67, 0.3), 0px 1px 3px 1px rgba(60, 64, 67, 0.15);\n",
              "      fill: #174EA6;\n",
              "    }\n",
              "\n",
              "    [theme=dark] .colab-df-convert {\n",
              "      background-color: #3B4455;\n",
              "      fill: #D2E3FC;\n",
              "    }\n",
              "\n",
              "    [theme=dark] .colab-df-convert:hover {\n",
              "      background-color: #434B5C;\n",
              "      box-shadow: 0px 1px 3px 1px rgba(0, 0, 0, 0.15);\n",
              "      filter: drop-shadow(0px 1px 2px rgba(0, 0, 0, 0.3));\n",
              "      fill: #FFFFFF;\n",
              "    }\n",
              "  </style>\n",
              "\n",
              "      <script>\n",
              "        const buttonEl =\n",
              "          document.querySelector('#df-80cb1c49-9ee7-4a7c-9401-230877dcbc3a button.colab-df-convert');\n",
              "        buttonEl.style.display =\n",
              "          google.colab.kernel.accessAllowed ? 'block' : 'none';\n",
              "\n",
              "        async function convertToInteractive(key) {\n",
              "          const element = document.querySelector('#df-80cb1c49-9ee7-4a7c-9401-230877dcbc3a');\n",
              "          const dataTable =\n",
              "            await google.colab.kernel.invokeFunction('convertToInteractive',\n",
              "                                                     [key], {});\n",
              "          if (!dataTable) return;\n",
              "\n",
              "          const docLinkHtml = 'Like what you see? Visit the ' +\n",
              "            '<a target=\"_blank\" href=https://colab.research.google.com/notebooks/data_table.ipynb>data table notebook</a>'\n",
              "            + ' to learn more about interactive tables.';\n",
              "          element.innerHTML = '';\n",
              "          dataTable['output_type'] = 'display_data';\n",
              "          await google.colab.output.renderOutput(dataTable, element);\n",
              "          const docLink = document.createElement('div');\n",
              "          docLink.innerHTML = docLinkHtml;\n",
              "          element.appendChild(docLink);\n",
              "        }\n",
              "      </script>\n",
              "    </div>\n",
              "  </div>\n",
              "  "
            ],
            "text/plain": [
              "                                     2021\n",
              "place                                    \n",
              "epaSuperfundSiteId/AL3210020027  0.327246\n",
              "epaSuperfundSiteId/AL6210020008  0.600902\n",
              "epaSuperfundSiteId/AL7210020742  0.610158\n",
              "epaSuperfundSiteId/ALD001221902  0.962115\n",
              "epaSuperfundSiteId/ALD004022448  0.951963"
            ]
          },
          "metadata": {},
          "execution_count": 42
        }
      ],
      "source": [
        "superfund_sites = dc.get_places_in([place_dcid], 'SuperfundSite')[place_dcid]\n",
        "dpd.build_time_series_dataframe(superfund_sites, 'CrsiScore_SuperfundSite').head(5)"
      ]
    },
    {
      "cell_type": "code",
      "execution_count": null,
      "metadata": {
        "colab": {
          "base_uri": "https://localhost:8080/",
          "height": 238
        },
        "id": "RKVLyWgR_0R7",
        "outputId": "0d82a3a7-b8eb-4ceb-a359-fb680b18033e"
      },
      "outputs": [
        {
          "output_type": "execute_result",
          "data": {
            "text/html": [
              "\n",
              "  <div id=\"df-439b10d3-01cd-4950-9c61-e39743feaa21\">\n",
              "    <div class=\"colab-df-container\">\n",
              "      <div>\n",
              "<style scoped>\n",
              "    .dataframe tbody tr th:only-of-type {\n",
              "        vertical-align: middle;\n",
              "    }\n",
              "\n",
              "    .dataframe tbody tr th {\n",
              "        vertical-align: top;\n",
              "    }\n",
              "\n",
              "    .dataframe thead th {\n",
              "        text-align: right;\n",
              "    }\n",
              "</style>\n",
              "<table border=\"1\" class=\"dataframe\">\n",
              "  <thead>\n",
              "    <tr style=\"text-align: right;\">\n",
              "      <th></th>\n",
              "      <th>2000</th>\n",
              "      <th>2010</th>\n",
              "      <th>2020</th>\n",
              "    </tr>\n",
              "    <tr>\n",
              "      <th>place</th>\n",
              "      <th></th>\n",
              "      <th></th>\n",
              "      <th></th>\n",
              "    </tr>\n",
              "  </thead>\n",
              "  <tbody>\n",
              "    <tr>\n",
              "      <th>geoId/0100100</th>\n",
              "      <td>NaN</td>\n",
              "      <td>0.0</td>\n",
              "      <td>0.0</td>\n",
              "    </tr>\n",
              "    <tr>\n",
              "      <th>geoId/0100124</th>\n",
              "      <td>0.0</td>\n",
              "      <td>2.0</td>\n",
              "      <td>5.0</td>\n",
              "    </tr>\n",
              "    <tr>\n",
              "      <th>geoId/0100460</th>\n",
              "      <td>20.0</td>\n",
              "      <td>23.0</td>\n",
              "      <td>31.0</td>\n",
              "    </tr>\n",
              "    <tr>\n",
              "      <th>geoId/0100484</th>\n",
              "      <td>1.0</td>\n",
              "      <td>0.0</td>\n",
              "      <td>9.0</td>\n",
              "    </tr>\n",
              "    <tr>\n",
              "      <th>geoId/0100676</th>\n",
              "      <td>0.0</td>\n",
              "      <td>0.0</td>\n",
              "      <td>0.0</td>\n",
              "    </tr>\n",
              "  </tbody>\n",
              "</table>\n",
              "</div>\n",
              "      <button class=\"colab-df-convert\" onclick=\"convertToInteractive('df-439b10d3-01cd-4950-9c61-e39743feaa21')\"\n",
              "              title=\"Convert this dataframe to an interactive table.\"\n",
              "              style=\"display:none;\">\n",
              "        \n",
              "  <svg xmlns=\"http://www.w3.org/2000/svg\" height=\"24px\"viewBox=\"0 0 24 24\"\n",
              "       width=\"24px\">\n",
              "    <path d=\"M0 0h24v24H0V0z\" fill=\"none\"/>\n",
              "    <path d=\"M18.56 5.44l.94 2.06.94-2.06 2.06-.94-2.06-.94-.94-2.06-.94 2.06-2.06.94zm-11 1L8.5 8.5l.94-2.06 2.06-.94-2.06-.94L8.5 2.5l-.94 2.06-2.06.94zm10 10l.94 2.06.94-2.06 2.06-.94-2.06-.94-.94-2.06-.94 2.06-2.06.94z\"/><path d=\"M17.41 7.96l-1.37-1.37c-.4-.4-.92-.59-1.43-.59-.52 0-1.04.2-1.43.59L10.3 9.45l-7.72 7.72c-.78.78-.78 2.05 0 2.83L4 21.41c.39.39.9.59 1.41.59.51 0 1.02-.2 1.41-.59l7.78-7.78 2.81-2.81c.8-.78.8-2.07 0-2.86zM5.41 20L4 18.59l7.72-7.72 1.47 1.35L5.41 20z\"/>\n",
              "  </svg>\n",
              "      </button>\n",
              "      \n",
              "  <style>\n",
              "    .colab-df-container {\n",
              "      display:flex;\n",
              "      flex-wrap:wrap;\n",
              "      gap: 12px;\n",
              "    }\n",
              "\n",
              "    .colab-df-convert {\n",
              "      background-color: #E8F0FE;\n",
              "      border: none;\n",
              "      border-radius: 50%;\n",
              "      cursor: pointer;\n",
              "      display: none;\n",
              "      fill: #1967D2;\n",
              "      height: 32px;\n",
              "      padding: 0 0 0 0;\n",
              "      width: 32px;\n",
              "    }\n",
              "\n",
              "    .colab-df-convert:hover {\n",
              "      background-color: #E2EBFA;\n",
              "      box-shadow: 0px 1px 2px rgba(60, 64, 67, 0.3), 0px 1px 3px 1px rgba(60, 64, 67, 0.15);\n",
              "      fill: #174EA6;\n",
              "    }\n",
              "\n",
              "    [theme=dark] .colab-df-convert {\n",
              "      background-color: #3B4455;\n",
              "      fill: #D2E3FC;\n",
              "    }\n",
              "\n",
              "    [theme=dark] .colab-df-convert:hover {\n",
              "      background-color: #434B5C;\n",
              "      box-shadow: 0px 1px 3px 1px rgba(0, 0, 0, 0.15);\n",
              "      filter: drop-shadow(0px 1px 2px rgba(0, 0, 0, 0.3));\n",
              "      fill: #FFFFFF;\n",
              "    }\n",
              "  </style>\n",
              "\n",
              "      <script>\n",
              "        const buttonEl =\n",
              "          document.querySelector('#df-439b10d3-01cd-4950-9c61-e39743feaa21 button.colab-df-convert');\n",
              "        buttonEl.style.display =\n",
              "          google.colab.kernel.accessAllowed ? 'block' : 'none';\n",
              "\n",
              "        async function convertToInteractive(key) {\n",
              "          const element = document.querySelector('#df-439b10d3-01cd-4950-9c61-e39743feaa21');\n",
              "          const dataTable =\n",
              "            await google.colab.kernel.invokeFunction('convertToInteractive',\n",
              "                                                     [key], {});\n",
              "          if (!dataTable) return;\n",
              "\n",
              "          const docLinkHtml = 'Like what you see? Visit the ' +\n",
              "            '<a target=\"_blank\" href=https://colab.research.google.com/notebooks/data_table.ipynb>data table notebook</a>'\n",
              "            + ' to learn more about interactive tables.';\n",
              "          element.innerHTML = '';\n",
              "          dataTable['output_type'] = 'display_data';\n",
              "          await google.colab.output.renderOutput(dataTable, element);\n",
              "          const docLink = document.createElement('div');\n",
              "          docLink.innerHTML = docLinkHtml;\n",
              "          element.appendChild(docLink);\n",
              "        }\n",
              "      </script>\n",
              "    </div>\n",
              "  </div>\n",
              "  "
            ],
            "text/plain": [
              "               2000  2010  2020\n",
              "place                          \n",
              "geoId/0100100   NaN   0.0   0.0\n",
              "geoId/0100124   0.0   2.0   5.0\n",
              "geoId/0100460  20.0  23.0  31.0\n",
              "geoId/0100484   1.0   0.0   9.0\n",
              "geoId/0100676   0.0   0.0   0.0"
            ]
          },
          "metadata": {},
          "execution_count": 43
        }
      ],
      "source": [
        "cities = dpd.get_places_in([place_dcid], 'City')[place_dcid]\n",
        "dpd.build_time_series_dataframe(cities, 'Count_Person_AmericanIndianAndAlaskaNativeAlone').head(5)"
      ]
    },
    {
      "cell_type": "markdown",
      "metadata": {
        "id": "NEaZRTT6BaXn"
      },
      "source": [
        "From the two dataframes, it is clear that we have statistics from different years and the number of places across the two dataframes are not consistent.\n",
        "\n",
        "Let's get started....\n",
        "\n",
        "#### Understanding the hierarchy in which places are nested in Data Commons\n",
        "\n",
        "For getting the city which has a superfund site, we will be using the `site_df` dataframe, which we created in the begining. This dataframe has a column called `containedInPlace` which is a list.\n",
        "\n",
        "An example of the `containedInPlace` list looks as follows:\n",
        "```python\n",
        "['geoId/01',\n",
        " 'geoId/01015',\n",
        " 'geoId/0101590099',\n",
        " 'geoId/01015981901',\n",
        " 'geoId/0103']\n",
        "```\n",
        "The list essentially lists the place ids based on the administrative area division. An example of getting the `typeOf` places for a list of place ids is shown as an example in the beginning sections of the notebook.\n",
        "\n",
        "In this case, the interpretation of the list is done as follows:\n",
        "```python\n",
        "['geoId/01', #state's place_id\n",
        " 'geoId/01015', # county's place_id\n",
        " 'geoId/0101590099', # city's place_id\n",
        " 'geoId/01015981901', # census tract's place_id\n",
        " 'geoId/0103' # congressional district's place_id\n",
        " ]\n",
        "```"
      ]
    },
    {
      "cell_type": "markdown",
      "source": [
        "### Preparing the datasets for comparison\n",
        "From this list we pick the third element which corresponds to the city's place_id.\n",
        "\n",
        "> The structure of this list is consistent at the high-level some sites have finer geo-level like Zip Code Tabulation Area (ZCTA) codes.\n",
        "\n",
        "First let us make a dataframe based off the `site_df` dataframe. To this dataframe, we will add different statistics which we will visualize.\n",
        "\n",
        "The recipe we plan to do is the following:\n",
        "1. From the `site_df` dataframe, create a new dataframe where the superfund sites are located in a city.\n",
        "2. To this dataframe, we shall merge the StatVarObservations for the `CrsiScore_SuperfundSite` statistical variable based on the superfund site id\n",
        "3. To the merged dataframe, we shall do another merge but this time with StatVarObservations for the `Count_Person_AmericanIndianAndAlaskaNativeAlone` statistical variable based on the `containedInPlace` city id\n",
        "4. Visualize!"
      ],
      "metadata": {
        "id": "zr4BOZ7d10Ia"
      }
    },
    {
      "cell_type": "code",
      "execution_count": null,
      "metadata": {
        "colab": {
          "base_uri": "https://localhost:8080/",
          "height": 629
        },
        "id": "QH6Hlo2MCUaU",
        "outputId": "a82a0b0f-c389-4018-9ce3-b5d66a45de0a"
      },
      "outputs": [
        {
          "output_type": "stream",
          "name": "stderr",
          "text": [
            "/usr/local/lib/python3.7/dist-packages/ipykernel_launcher.py:9: SettingWithCopyWarning:\n",
            "\n",
            "\n",
            "A value is trying to be set on a copy of a slice from a DataFrame.\n",
            "Try using .loc[row_indexer,col_indexer] = value instead\n",
            "\n",
            "See the caveats in the documentation: https://pandas.pydata.org/pandas-docs/stable/user_guide/indexing.html#returning-a-view-versus-a-copy\n",
            "\n",
            "/usr/local/lib/python3.7/dist-packages/ipykernel_launcher.py:10: SettingWithCopyWarning:\n",
            "\n",
            "\n",
            "A value is trying to be set on a copy of a slice from a DataFrame.\n",
            "Try using .loc[row_indexer,col_indexer] = value instead\n",
            "\n",
            "See the caveats in the documentation: https://pandas.pydata.org/pandas-docs/stable/user_guide/indexing.html#returning-a-view-versus-a-copy\n",
            "\n"
          ]
        },
        {
          "output_type": "execute_result",
          "data": {
            "text/html": [
              "\n",
              "  <div id=\"df-7a81a3f4-013c-4473-a1dd-b4896e7328e8\">\n",
              "    <div class=\"colab-df-container\">\n",
              "      <div>\n",
              "<style scoped>\n",
              "    .dataframe tbody tr th:only-of-type {\n",
              "        vertical-align: middle;\n",
              "    }\n",
              "\n",
              "    .dataframe tbody tr th {\n",
              "        vertical-align: top;\n",
              "    }\n",
              "\n",
              "    .dataframe thead th {\n",
              "        text-align: right;\n",
              "    }\n",
              "</style>\n",
              "<table border=\"1\" class=\"dataframe\">\n",
              "  <thead>\n",
              "    <tr style=\"text-align: right;\">\n",
              "      <th></th>\n",
              "      <th>epaSuperfundSiteId</th>\n",
              "      <th>containedInPlace</th>\n",
              "    </tr>\n",
              "  </thead>\n",
              "  <tbody>\n",
              "    <tr>\n",
              "      <th>1</th>\n",
              "      <td>epaSuperfundSiteId/AL6210020008</td>\n",
              "      <td>geoId/0114464</td>\n",
              "    </tr>\n",
              "    <tr>\n",
              "      <th>4</th>\n",
              "      <td>epaSuperfundSiteId/ALD004022448</td>\n",
              "      <td>geoId/0179008</td>\n",
              "    </tr>\n",
              "    <tr>\n",
              "      <th>5</th>\n",
              "      <td>epaSuperfundSiteId/ALD007454085</td>\n",
              "      <td>geoId/0151000</td>\n",
              "    </tr>\n",
              "    <tr>\n",
              "      <th>8</th>\n",
              "      <td>epaSuperfundSiteId/ALD031618069</td>\n",
              "      <td>geoId/0131912</td>\n",
              "    </tr>\n",
              "    <tr>\n",
              "      <th>9</th>\n",
              "      <td>epaSuperfundSiteId/ALD041906173</td>\n",
              "      <td>geoId/0115256</td>\n",
              "    </tr>\n",
              "    <tr>\n",
              "      <th>11</th>\n",
              "      <td>epaSuperfundSiteId/ALD980728703</td>\n",
              "      <td>geoId/0159064</td>\n",
              "    </tr>\n",
              "    <tr>\n",
              "      <th>12</th>\n",
              "      <td>epaSuperfundSiteId/ALD980844385</td>\n",
              "      <td>geoId/0168160</td>\n",
              "    </tr>\n",
              "    <tr>\n",
              "      <th>13</th>\n",
              "      <td>epaSuperfundSiteId/ALD981868466</td>\n",
              "      <td>geoId/0133856</td>\n",
              "    </tr>\n",
              "    <tr>\n",
              "      <th>15</th>\n",
              "      <td>epaSuperfundSiteId/ALN000410750</td>\n",
              "      <td>geoId/0107000</td>\n",
              "    </tr>\n",
              "  </tbody>\n",
              "</table>\n",
              "</div>\n",
              "      <button class=\"colab-df-convert\" onclick=\"convertToInteractive('df-7a81a3f4-013c-4473-a1dd-b4896e7328e8')\"\n",
              "              title=\"Convert this dataframe to an interactive table.\"\n",
              "              style=\"display:none;\">\n",
              "        \n",
              "  <svg xmlns=\"http://www.w3.org/2000/svg\" height=\"24px\"viewBox=\"0 0 24 24\"\n",
              "       width=\"24px\">\n",
              "    <path d=\"M0 0h24v24H0V0z\" fill=\"none\"/>\n",
              "    <path d=\"M18.56 5.44l.94 2.06.94-2.06 2.06-.94-2.06-.94-.94-2.06-.94 2.06-2.06.94zm-11 1L8.5 8.5l.94-2.06 2.06-.94-2.06-.94L8.5 2.5l-.94 2.06-2.06.94zm10 10l.94 2.06.94-2.06 2.06-.94-2.06-.94-.94-2.06-.94 2.06-2.06.94z\"/><path d=\"M17.41 7.96l-1.37-1.37c-.4-.4-.92-.59-1.43-.59-.52 0-1.04.2-1.43.59L10.3 9.45l-7.72 7.72c-.78.78-.78 2.05 0 2.83L4 21.41c.39.39.9.59 1.41.59.51 0 1.02-.2 1.41-.59l7.78-7.78 2.81-2.81c.8-.78.8-2.07 0-2.86zM5.41 20L4 18.59l7.72-7.72 1.47 1.35L5.41 20z\"/>\n",
              "  </svg>\n",
              "      </button>\n",
              "      \n",
              "  <style>\n",
              "    .colab-df-container {\n",
              "      display:flex;\n",
              "      flex-wrap:wrap;\n",
              "      gap: 12px;\n",
              "    }\n",
              "\n",
              "    .colab-df-convert {\n",
              "      background-color: #E8F0FE;\n",
              "      border: none;\n",
              "      border-radius: 50%;\n",
              "      cursor: pointer;\n",
              "      display: none;\n",
              "      fill: #1967D2;\n",
              "      height: 32px;\n",
              "      padding: 0 0 0 0;\n",
              "      width: 32px;\n",
              "    }\n",
              "\n",
              "    .colab-df-convert:hover {\n",
              "      background-color: #E2EBFA;\n",
              "      box-shadow: 0px 1px 2px rgba(60, 64, 67, 0.3), 0px 1px 3px 1px rgba(60, 64, 67, 0.15);\n",
              "      fill: #174EA6;\n",
              "    }\n",
              "\n",
              "    [theme=dark] .colab-df-convert {\n",
              "      background-color: #3B4455;\n",
              "      fill: #D2E3FC;\n",
              "    }\n",
              "\n",
              "    [theme=dark] .colab-df-convert:hover {\n",
              "      background-color: #434B5C;\n",
              "      box-shadow: 0px 1px 3px 1px rgba(0, 0, 0, 0.15);\n",
              "      filter: drop-shadow(0px 1px 2px rgba(0, 0, 0, 0.3));\n",
              "      fill: #FFFFFF;\n",
              "    }\n",
              "  </style>\n",
              "\n",
              "      <script>\n",
              "        const buttonEl =\n",
              "          document.querySelector('#df-7a81a3f4-013c-4473-a1dd-b4896e7328e8 button.colab-df-convert');\n",
              "        buttonEl.style.display =\n",
              "          google.colab.kernel.accessAllowed ? 'block' : 'none';\n",
              "\n",
              "        async function convertToInteractive(key) {\n",
              "          const element = document.querySelector('#df-7a81a3f4-013c-4473-a1dd-b4896e7328e8');\n",
              "          const dataTable =\n",
              "            await google.colab.kernel.invokeFunction('convertToInteractive',\n",
              "                                                     [key], {});\n",
              "          if (!dataTable) return;\n",
              "\n",
              "          const docLinkHtml = 'Like what you see? Visit the ' +\n",
              "            '<a target=\"_blank\" href=https://colab.research.google.com/notebooks/data_table.ipynb>data table notebook</a>'\n",
              "            + ' to learn more about interactive tables.';\n",
              "          element.innerHTML = '';\n",
              "          dataTable['output_type'] = 'display_data';\n",
              "          await google.colab.output.renderOutput(dataTable, element);\n",
              "          const docLink = document.createElement('div');\n",
              "          docLink.innerHTML = docLinkHtml;\n",
              "          element.appendChild(docLink);\n",
              "        }\n",
              "      </script>\n",
              "    </div>\n",
              "  </div>\n",
              "  "
            ],
            "text/plain": [
              "                 epaSuperfundSiteId containedInPlace\n",
              "1   epaSuperfundSiteId/AL6210020008    geoId/0114464\n",
              "4   epaSuperfundSiteId/ALD004022448    geoId/0179008\n",
              "5   epaSuperfundSiteId/ALD007454085    geoId/0151000\n",
              "8   epaSuperfundSiteId/ALD031618069    geoId/0131912\n",
              "9   epaSuperfundSiteId/ALD041906173    geoId/0115256\n",
              "11  epaSuperfundSiteId/ALD980728703    geoId/0159064\n",
              "12  epaSuperfundSiteId/ALD980844385    geoId/0168160\n",
              "13  epaSuperfundSiteId/ALD981868466    geoId/0133856\n",
              "15  epaSuperfundSiteId/ALN000410750    geoId/0107000"
            ]
          },
          "metadata": {},
          "execution_count": 44
        }
      ],
      "source": [
        "## Step 1: Making dataframe with the superfund site id and the id of the city where the site is present\n",
        "def get_city_id(elem_list, fips_code_len=7):\n",
        "  for e in elem_list:\n",
        "    if len(e.split('/')[1]) == fips_code_len:\n",
        "      return e\n",
        "  return ''\n",
        "\n",
        "site_place_df = site_df[['epaSuperfundSiteId', 'containedInPlace']]\n",
        "site_place_df['epaSuperfundSiteId'] = site_place_df['epaSuperfundSiteId'].apply(lambda elem: 'epaSuperfundSiteId/' + elem)\n",
        "site_place_df['containedInPlace'] = site_place_df['containedInPlace'].apply(get_city_id)\n",
        "site_place_df = site_place_df[site_place_df['containedInPlace'] != '']\n",
        "site_place_df"
      ]
    },
    {
      "cell_type": "code",
      "execution_count": null,
      "metadata": {
        "colab": {
          "base_uri": "https://localhost:8080/",
          "height": 332
        },
        "id": "POaCwvhXGBBr",
        "outputId": "8ab2dff3-40b5-40bc-c82e-9d880db830d4"
      },
      "outputs": [
        {
          "output_type": "execute_result",
          "data": {
            "text/html": [
              "\n",
              "  <div id=\"df-370319ce-c7b7-4d8b-b7f3-16528a988cad\">\n",
              "    <div class=\"colab-df-container\">\n",
              "      <div>\n",
              "<style scoped>\n",
              "    .dataframe tbody tr th:only-of-type {\n",
              "        vertical-align: middle;\n",
              "    }\n",
              "\n",
              "    .dataframe tbody tr th {\n",
              "        vertical-align: top;\n",
              "    }\n",
              "\n",
              "    .dataframe thead th {\n",
              "        text-align: right;\n",
              "    }\n",
              "</style>\n",
              "<table border=\"1\" class=\"dataframe\">\n",
              "  <thead>\n",
              "    <tr style=\"text-align: right;\">\n",
              "      <th></th>\n",
              "      <th>epaSuperfundSiteId</th>\n",
              "      <th>containedInPlace</th>\n",
              "      <th>CrsiScore_SuperfundSite</th>\n",
              "      <th>2000</th>\n",
              "      <th>2010</th>\n",
              "      <th>2020</th>\n",
              "    </tr>\n",
              "  </thead>\n",
              "  <tbody>\n",
              "    <tr>\n",
              "      <th>0</th>\n",
              "      <td>epaSuperfundSiteId/AL6210020008</td>\n",
              "      <td>geoId/0114464</td>\n",
              "      <td>0.600902</td>\n",
              "      <td>16.0</td>\n",
              "      <td>21.0</td>\n",
              "      <td>8</td>\n",
              "    </tr>\n",
              "    <tr>\n",
              "      <th>1</th>\n",
              "      <td>epaSuperfundSiteId/ALD004022448</td>\n",
              "      <td>geoId/0179008</td>\n",
              "      <td>0.951963</td>\n",
              "      <td>14.0</td>\n",
              "      <td>7.0</td>\n",
              "      <td>10</td>\n",
              "    </tr>\n",
              "    <tr>\n",
              "      <th>2</th>\n",
              "      <td>epaSuperfundSiteId/ALD007454085</td>\n",
              "      <td>geoId/0151000</td>\n",
              "      <td>1.011869</td>\n",
              "      <td>500.0</td>\n",
              "      <td>512.0</td>\n",
              "      <td>713</td>\n",
              "    </tr>\n",
              "    <tr>\n",
              "      <th>3</th>\n",
              "      <td>epaSuperfundSiteId/ALD031618069</td>\n",
              "      <td>geoId/0131912</td>\n",
              "      <td>NaN</td>\n",
              "      <td>20.0</td>\n",
              "      <td>4.0</td>\n",
              "      <td>9</td>\n",
              "    </tr>\n",
              "    <tr>\n",
              "      <th>4</th>\n",
              "      <td>epaSuperfundSiteId/ALD041906173</td>\n",
              "      <td>geoId/0115256</td>\n",
              "      <td>0.394343</td>\n",
              "      <td>15.0</td>\n",
              "      <td>29.0</td>\n",
              "      <td>38</td>\n",
              "    </tr>\n",
              "    <tr>\n",
              "      <th>5</th>\n",
              "      <td>epaSuperfundSiteId/ALD980728703</td>\n",
              "      <td>geoId/0159064</td>\n",
              "      <td>NaN</td>\n",
              "      <td>NaN</td>\n",
              "      <td>NaN</td>\n",
              "      <td>21</td>\n",
              "    </tr>\n",
              "    <tr>\n",
              "      <th>6</th>\n",
              "      <td>epaSuperfundSiteId/ALD980844385</td>\n",
              "      <td>geoId/0168160</td>\n",
              "      <td>NaN</td>\n",
              "      <td>69.0</td>\n",
              "      <td>104.0</td>\n",
              "      <td>228</td>\n",
              "    </tr>\n",
              "    <tr>\n",
              "      <th>7</th>\n",
              "      <td>epaSuperfundSiteId/ALD981868466</td>\n",
              "      <td>geoId/0133856</td>\n",
              "      <td>0.458104</td>\n",
              "      <td>7.0</td>\n",
              "      <td>18.0</td>\n",
              "      <td>6</td>\n",
              "    </tr>\n",
              "    <tr>\n",
              "      <th>8</th>\n",
              "      <td>epaSuperfundSiteId/ALN000410750</td>\n",
              "      <td>geoId/0107000</td>\n",
              "      <td>0.394343</td>\n",
              "      <td>422.0</td>\n",
              "      <td>445.0</td>\n",
              "      <td>755</td>\n",
              "    </tr>\n",
              "  </tbody>\n",
              "</table>\n",
              "</div>\n",
              "      <button class=\"colab-df-convert\" onclick=\"convertToInteractive('df-370319ce-c7b7-4d8b-b7f3-16528a988cad')\"\n",
              "              title=\"Convert this dataframe to an interactive table.\"\n",
              "              style=\"display:none;\">\n",
              "        \n",
              "  <svg xmlns=\"http://www.w3.org/2000/svg\" height=\"24px\"viewBox=\"0 0 24 24\"\n",
              "       width=\"24px\">\n",
              "    <path d=\"M0 0h24v24H0V0z\" fill=\"none\"/>\n",
              "    <path d=\"M18.56 5.44l.94 2.06.94-2.06 2.06-.94-2.06-.94-.94-2.06-.94 2.06-2.06.94zm-11 1L8.5 8.5l.94-2.06 2.06-.94-2.06-.94L8.5 2.5l-.94 2.06-2.06.94zm10 10l.94 2.06.94-2.06 2.06-.94-2.06-.94-.94-2.06-.94 2.06-2.06.94z\"/><path d=\"M17.41 7.96l-1.37-1.37c-.4-.4-.92-.59-1.43-.59-.52 0-1.04.2-1.43.59L10.3 9.45l-7.72 7.72c-.78.78-.78 2.05 0 2.83L4 21.41c.39.39.9.59 1.41.59.51 0 1.02-.2 1.41-.59l7.78-7.78 2.81-2.81c.8-.78.8-2.07 0-2.86zM5.41 20L4 18.59l7.72-7.72 1.47 1.35L5.41 20z\"/>\n",
              "  </svg>\n",
              "      </button>\n",
              "      \n",
              "  <style>\n",
              "    .colab-df-container {\n",
              "      display:flex;\n",
              "      flex-wrap:wrap;\n",
              "      gap: 12px;\n",
              "    }\n",
              "\n",
              "    .colab-df-convert {\n",
              "      background-color: #E8F0FE;\n",
              "      border: none;\n",
              "      border-radius: 50%;\n",
              "      cursor: pointer;\n",
              "      display: none;\n",
              "      fill: #1967D2;\n",
              "      height: 32px;\n",
              "      padding: 0 0 0 0;\n",
              "      width: 32px;\n",
              "    }\n",
              "\n",
              "    .colab-df-convert:hover {\n",
              "      background-color: #E2EBFA;\n",
              "      box-shadow: 0px 1px 2px rgba(60, 64, 67, 0.3), 0px 1px 3px 1px rgba(60, 64, 67, 0.15);\n",
              "      fill: #174EA6;\n",
              "    }\n",
              "\n",
              "    [theme=dark] .colab-df-convert {\n",
              "      background-color: #3B4455;\n",
              "      fill: #D2E3FC;\n",
              "    }\n",
              "\n",
              "    [theme=dark] .colab-df-convert:hover {\n",
              "      background-color: #434B5C;\n",
              "      box-shadow: 0px 1px 3px 1px rgba(0, 0, 0, 0.15);\n",
              "      filter: drop-shadow(0px 1px 2px rgba(0, 0, 0, 0.3));\n",
              "      fill: #FFFFFF;\n",
              "    }\n",
              "  </style>\n",
              "\n",
              "      <script>\n",
              "        const buttonEl =\n",
              "          document.querySelector('#df-370319ce-c7b7-4d8b-b7f3-16528a988cad button.colab-df-convert');\n",
              "        buttonEl.style.display =\n",
              "          google.colab.kernel.accessAllowed ? 'block' : 'none';\n",
              "\n",
              "        async function convertToInteractive(key) {\n",
              "          const element = document.querySelector('#df-370319ce-c7b7-4d8b-b7f3-16528a988cad');\n",
              "          const dataTable =\n",
              "            await google.colab.kernel.invokeFunction('convertToInteractive',\n",
              "                                                     [key], {});\n",
              "          if (!dataTable) return;\n",
              "\n",
              "          const docLinkHtml = 'Like what you see? Visit the ' +\n",
              "            '<a target=\"_blank\" href=https://colab.research.google.com/notebooks/data_table.ipynb>data table notebook</a>'\n",
              "            + ' to learn more about interactive tables.';\n",
              "          element.innerHTML = '';\n",
              "          dataTable['output_type'] = 'display_data';\n",
              "          await google.colab.output.renderOutput(dataTable, element);\n",
              "          const docLink = document.createElement('div');\n",
              "          docLink.innerHTML = docLinkHtml;\n",
              "          element.appendChild(docLink);\n",
              "        }\n",
              "      </script>\n",
              "    </div>\n",
              "  </div>\n",
              "  "
            ],
            "text/plain": [
              "                epaSuperfundSiteId containedInPlace  CrsiScore_SuperfundSite  \\\n",
              "0  epaSuperfundSiteId/AL6210020008    geoId/0114464                 0.600902   \n",
              "1  epaSuperfundSiteId/ALD004022448    geoId/0179008                 0.951963   \n",
              "2  epaSuperfundSiteId/ALD007454085    geoId/0151000                 1.011869   \n",
              "3  epaSuperfundSiteId/ALD031618069    geoId/0131912                      NaN   \n",
              "4  epaSuperfundSiteId/ALD041906173    geoId/0115256                 0.394343   \n",
              "5  epaSuperfundSiteId/ALD980728703    geoId/0159064                      NaN   \n",
              "6  epaSuperfundSiteId/ALD980844385    geoId/0168160                      NaN   \n",
              "7  epaSuperfundSiteId/ALD981868466    geoId/0133856                 0.458104   \n",
              "8  epaSuperfundSiteId/ALN000410750    geoId/0107000                 0.394343   \n",
              "\n",
              "    2000   2010  2020  \n",
              "0   16.0   21.0     8  \n",
              "1   14.0    7.0    10  \n",
              "2  500.0  512.0   713  \n",
              "3   20.0    4.0     9  \n",
              "4   15.0   29.0    38  \n",
              "5    NaN    NaN    21  \n",
              "6   69.0  104.0   228  \n",
              "7    7.0   18.0     6  \n",
              "8  422.0  445.0   755  "
            ]
          },
          "metadata": {},
          "execution_count": 45
        }
      ],
      "source": [
        "# Step 2: Merging the StatVarObservations for the `CrsiScore_SuperfundSite` statistical variable to `site_data_df`\n",
        "site_data_df = site_place_df.copy()\n",
        "# Get the list of superfundsites that are contained in a city\n",
        "contained_site_list = site_data_df['epaSuperfundSiteId'].values.tolist()\n",
        "# with the list of superfund sites' place_ids query Data Commons to stats for CrsiScore_SuperfundSite statistical variable\n",
        "superfund_data_df = dpd.build_time_series_dataframe(contained_site_list, 'CrsiScore_SuperfundSite')\n",
        "# rename the column to make it readable\n",
        "superfund_data_df.columns = ['CrsiScore_SuperfundSite']\n",
        "# merge\n",
        "site_data_df = pd.merge(site_data_df, superfund_data_df, left_on='epaSuperfundSiteId', right_on='place', how='left')\n",
        "\n",
        "\n",
        "# Step 3: Merging the StatVarObservations for the `Count_Person_AmericanIndianAndAlaskaNativeAlone` statistical variable to `site_data_df`\n",
        "# Get the list of cities that have superfund sites\n",
        "contained_cities_list = site_data_df['containedInPlace'].values.tolist()\n",
        "# with the list of cities' place_ids query Data Commons to stats for Count_Person_AmericanIndianAndAlaskaNativeAlone statistical variable\n",
        "demographic_data_df = dpd.build_time_series_dataframe(contained_cities_list, 'Count_Person_AmericanIndianAndAlaskaNativeAlone')\n",
        "# merge\n",
        "site_data_df = pd.merge(site_data_df, demographic_data_df, left_on='containedInPlace', right_on='place', how='left')\n",
        "site_data_df"
      ]
    },
    {
      "cell_type": "markdown",
      "source": [
        "#### Example to create custom data aggregations and normalizations\n",
        "\n",
        "We have the dataset where the superfund related statistic ranges from 0-1 but the count of the American Indian and Alaska Native population is an absolute value. We will need to normalize the count of the American Indian and Alaska Native population with the total population in the selected place. \n",
        "\n",
        "This can done easily with the [`build_multivaritate_dataframe`](https://docs.datacommons.org/api/pandas/multivariate_dataframe.html) API method as shown in the following code snippet."
      ],
      "metadata": {
        "id": "uWifdZFthuXI"
      }
    },
    {
      "cell_type": "code",
      "source": [
        "# api call to get the total population and population of the American Indian and Alaska Natives\n",
        "multivariate_dataframe = dpd.build_multivariate_dataframe(places=contained_cities_list, stat_vars=['Count_Person', 'Count_Person_AmericanIndianAndAlaskaNativeAlone'])\n",
        "multivariate_dataframe = multivariate_dataframe.reset_index()\n",
        "\n",
        "# computing per capita population\n",
        "multivariate_dataframe['perCapitaPopulation'] = multivariate_dataframe['Count_Person_AmericanIndianAndAlaskaNativeAlone'] / multivariate_dataframe['Count_Person']\n",
        "\n",
        "# merge the computed per_capita values to the site_data_df\n",
        "site_data_df = pd.merge(site_data_df, multivariate_dataframe[['place', 'perCapitaPopulation']], left_on='containedInPlace', right_on='place', how='left')\n",
        "site_data_df"
      ],
      "metadata": {
        "colab": {
          "base_uri": "https://localhost:8080/",
          "height": 396
        },
        "id": "59jf2xIWhuBD",
        "outputId": "26ed34aa-b033-4622-8a2c-cfc1180ab56e"
      },
      "execution_count": null,
      "outputs": [
        {
          "output_type": "execute_result",
          "data": {
            "text/html": [
              "\n",
              "  <div id=\"df-7ceef8d5-eb6d-4316-b755-8f6839679bfc\">\n",
              "    <div class=\"colab-df-container\">\n",
              "      <div>\n",
              "<style scoped>\n",
              "    .dataframe tbody tr th:only-of-type {\n",
              "        vertical-align: middle;\n",
              "    }\n",
              "\n",
              "    .dataframe tbody tr th {\n",
              "        vertical-align: top;\n",
              "    }\n",
              "\n",
              "    .dataframe thead th {\n",
              "        text-align: right;\n",
              "    }\n",
              "</style>\n",
              "<table border=\"1\" class=\"dataframe\">\n",
              "  <thead>\n",
              "    <tr style=\"text-align: right;\">\n",
              "      <th></th>\n",
              "      <th>epaSuperfundSiteId</th>\n",
              "      <th>containedInPlace</th>\n",
              "      <th>CrsiScore_SuperfundSite</th>\n",
              "      <th>2000</th>\n",
              "      <th>2010</th>\n",
              "      <th>2020</th>\n",
              "      <th>place</th>\n",
              "      <th>perCapitaPopulation</th>\n",
              "    </tr>\n",
              "  </thead>\n",
              "  <tbody>\n",
              "    <tr>\n",
              "      <th>0</th>\n",
              "      <td>epaSuperfundSiteId/AL6210020008</td>\n",
              "      <td>geoId/0114464</td>\n",
              "      <td>0.600902</td>\n",
              "      <td>16.0</td>\n",
              "      <td>21.0</td>\n",
              "      <td>8</td>\n",
              "      <td>geoId/0114464</td>\n",
              "      <td>0.001683</td>\n",
              "    </tr>\n",
              "    <tr>\n",
              "      <th>1</th>\n",
              "      <td>epaSuperfundSiteId/ALD004022448</td>\n",
              "      <td>geoId/0179008</td>\n",
              "      <td>0.951963</td>\n",
              "      <td>14.0</td>\n",
              "      <td>7.0</td>\n",
              "      <td>10</td>\n",
              "      <td>geoId/0179008</td>\n",
              "      <td>0.005045</td>\n",
              "    </tr>\n",
              "    <tr>\n",
              "      <th>2</th>\n",
              "      <td>epaSuperfundSiteId/ALD007454085</td>\n",
              "      <td>geoId/0151000</td>\n",
              "      <td>1.011869</td>\n",
              "      <td>500.0</td>\n",
              "      <td>512.0</td>\n",
              "      <td>713</td>\n",
              "      <td>geoId/0151000</td>\n",
              "      <td>0.003554</td>\n",
              "    </tr>\n",
              "    <tr>\n",
              "      <th>3</th>\n",
              "      <td>epaSuperfundSiteId/ALD031618069</td>\n",
              "      <td>geoId/0131912</td>\n",
              "      <td>NaN</td>\n",
              "      <td>20.0</td>\n",
              "      <td>4.0</td>\n",
              "      <td>9</td>\n",
              "      <td>geoId/0131912</td>\n",
              "      <td>0.001221</td>\n",
              "    </tr>\n",
              "    <tr>\n",
              "      <th>4</th>\n",
              "      <td>epaSuperfundSiteId/ALD041906173</td>\n",
              "      <td>geoId/0115256</td>\n",
              "      <td>0.394343</td>\n",
              "      <td>15.0</td>\n",
              "      <td>29.0</td>\n",
              "      <td>38</td>\n",
              "      <td>geoId/0115256</td>\n",
              "      <td>0.003693</td>\n",
              "    </tr>\n",
              "    <tr>\n",
              "      <th>5</th>\n",
              "      <td>epaSuperfundSiteId/ALD980728703</td>\n",
              "      <td>geoId/0159064</td>\n",
              "      <td>NaN</td>\n",
              "      <td>NaN</td>\n",
              "      <td>NaN</td>\n",
              "      <td>21</td>\n",
              "      <td>geoId/0159064</td>\n",
              "      <td>0.028767</td>\n",
              "    </tr>\n",
              "    <tr>\n",
              "      <th>6</th>\n",
              "      <td>epaSuperfundSiteId/ALD980844385</td>\n",
              "      <td>geoId/0168160</td>\n",
              "      <td>NaN</td>\n",
              "      <td>69.0</td>\n",
              "      <td>104.0</td>\n",
              "      <td>228</td>\n",
              "      <td>geoId/0168160</td>\n",
              "      <td>0.014099</td>\n",
              "    </tr>\n",
              "    <tr>\n",
              "      <th>7</th>\n",
              "      <td>epaSuperfundSiteId/ALD981868466</td>\n",
              "      <td>geoId/0133856</td>\n",
              "      <td>0.458104</td>\n",
              "      <td>7.0</td>\n",
              "      <td>18.0</td>\n",
              "      <td>6</td>\n",
              "      <td>geoId/0133856</td>\n",
              "      <td>0.001207</td>\n",
              "    </tr>\n",
              "    <tr>\n",
              "      <th>8</th>\n",
              "      <td>epaSuperfundSiteId/ALN000410750</td>\n",
              "      <td>geoId/0107000</td>\n",
              "      <td>0.394343</td>\n",
              "      <td>422.0</td>\n",
              "      <td>445.0</td>\n",
              "      <td>755</td>\n",
              "      <td>geoId/0107000</td>\n",
              "      <td>0.003761</td>\n",
              "    </tr>\n",
              "  </tbody>\n",
              "</table>\n",
              "</div>\n",
              "      <button class=\"colab-df-convert\" onclick=\"convertToInteractive('df-7ceef8d5-eb6d-4316-b755-8f6839679bfc')\"\n",
              "              title=\"Convert this dataframe to an interactive table.\"\n",
              "              style=\"display:none;\">\n",
              "        \n",
              "  <svg xmlns=\"http://www.w3.org/2000/svg\" height=\"24px\"viewBox=\"0 0 24 24\"\n",
              "       width=\"24px\">\n",
              "    <path d=\"M0 0h24v24H0V0z\" fill=\"none\"/>\n",
              "    <path d=\"M18.56 5.44l.94 2.06.94-2.06 2.06-.94-2.06-.94-.94-2.06-.94 2.06-2.06.94zm-11 1L8.5 8.5l.94-2.06 2.06-.94-2.06-.94L8.5 2.5l-.94 2.06-2.06.94zm10 10l.94 2.06.94-2.06 2.06-.94-2.06-.94-.94-2.06-.94 2.06-2.06.94z\"/><path d=\"M17.41 7.96l-1.37-1.37c-.4-.4-.92-.59-1.43-.59-.52 0-1.04.2-1.43.59L10.3 9.45l-7.72 7.72c-.78.78-.78 2.05 0 2.83L4 21.41c.39.39.9.59 1.41.59.51 0 1.02-.2 1.41-.59l7.78-7.78 2.81-2.81c.8-.78.8-2.07 0-2.86zM5.41 20L4 18.59l7.72-7.72 1.47 1.35L5.41 20z\"/>\n",
              "  </svg>\n",
              "      </button>\n",
              "      \n",
              "  <style>\n",
              "    .colab-df-container {\n",
              "      display:flex;\n",
              "      flex-wrap:wrap;\n",
              "      gap: 12px;\n",
              "    }\n",
              "\n",
              "    .colab-df-convert {\n",
              "      background-color: #E8F0FE;\n",
              "      border: none;\n",
              "      border-radius: 50%;\n",
              "      cursor: pointer;\n",
              "      display: none;\n",
              "      fill: #1967D2;\n",
              "      height: 32px;\n",
              "      padding: 0 0 0 0;\n",
              "      width: 32px;\n",
              "    }\n",
              "\n",
              "    .colab-df-convert:hover {\n",
              "      background-color: #E2EBFA;\n",
              "      box-shadow: 0px 1px 2px rgba(60, 64, 67, 0.3), 0px 1px 3px 1px rgba(60, 64, 67, 0.15);\n",
              "      fill: #174EA6;\n",
              "    }\n",
              "\n",
              "    [theme=dark] .colab-df-convert {\n",
              "      background-color: #3B4455;\n",
              "      fill: #D2E3FC;\n",
              "    }\n",
              "\n",
              "    [theme=dark] .colab-df-convert:hover {\n",
              "      background-color: #434B5C;\n",
              "      box-shadow: 0px 1px 3px 1px rgba(0, 0, 0, 0.15);\n",
              "      filter: drop-shadow(0px 1px 2px rgba(0, 0, 0, 0.3));\n",
              "      fill: #FFFFFF;\n",
              "    }\n",
              "  </style>\n",
              "\n",
              "      <script>\n",
              "        const buttonEl =\n",
              "          document.querySelector('#df-7ceef8d5-eb6d-4316-b755-8f6839679bfc button.colab-df-convert');\n",
              "        buttonEl.style.display =\n",
              "          google.colab.kernel.accessAllowed ? 'block' : 'none';\n",
              "\n",
              "        async function convertToInteractive(key) {\n",
              "          const element = document.querySelector('#df-7ceef8d5-eb6d-4316-b755-8f6839679bfc');\n",
              "          const dataTable =\n",
              "            await google.colab.kernel.invokeFunction('convertToInteractive',\n",
              "                                                     [key], {});\n",
              "          if (!dataTable) return;\n",
              "\n",
              "          const docLinkHtml = 'Like what you see? Visit the ' +\n",
              "            '<a target=\"_blank\" href=https://colab.research.google.com/notebooks/data_table.ipynb>data table notebook</a>'\n",
              "            + ' to learn more about interactive tables.';\n",
              "          element.innerHTML = '';\n",
              "          dataTable['output_type'] = 'display_data';\n",
              "          await google.colab.output.renderOutput(dataTable, element);\n",
              "          const docLink = document.createElement('div');\n",
              "          docLink.innerHTML = docLinkHtml;\n",
              "          element.appendChild(docLink);\n",
              "        }\n",
              "      </script>\n",
              "    </div>\n",
              "  </div>\n",
              "  "
            ],
            "text/plain": [
              "                epaSuperfundSiteId containedInPlace  CrsiScore_SuperfundSite  \\\n",
              "0  epaSuperfundSiteId/AL6210020008    geoId/0114464                 0.600902   \n",
              "1  epaSuperfundSiteId/ALD004022448    geoId/0179008                 0.951963   \n",
              "2  epaSuperfundSiteId/ALD007454085    geoId/0151000                 1.011869   \n",
              "3  epaSuperfundSiteId/ALD031618069    geoId/0131912                      NaN   \n",
              "4  epaSuperfundSiteId/ALD041906173    geoId/0115256                 0.394343   \n",
              "5  epaSuperfundSiteId/ALD980728703    geoId/0159064                      NaN   \n",
              "6  epaSuperfundSiteId/ALD980844385    geoId/0168160                      NaN   \n",
              "7  epaSuperfundSiteId/ALD981868466    geoId/0133856                 0.458104   \n",
              "8  epaSuperfundSiteId/ALN000410750    geoId/0107000                 0.394343   \n",
              "\n",
              "    2000   2010  2020          place  perCapitaPopulation  \n",
              "0   16.0   21.0     8  geoId/0114464             0.001683  \n",
              "1   14.0    7.0    10  geoId/0179008             0.005045  \n",
              "2  500.0  512.0   713  geoId/0151000             0.003554  \n",
              "3   20.0    4.0     9  geoId/0131912             0.001221  \n",
              "4   15.0   29.0    38  geoId/0115256             0.003693  \n",
              "5    NaN    NaN    21  geoId/0159064             0.028767  \n",
              "6   69.0  104.0   228  geoId/0168160             0.014099  \n",
              "7    7.0   18.0     6  geoId/0133856             0.001207  \n",
              "8  422.0  445.0   755  geoId/0107000             0.003761  "
            ]
          },
          "metadata": {},
          "execution_count": 46
        }
      ]
    },
    {
      "cell_type": "markdown",
      "source": [
        "## Visualizing the comparison on a scatter plot"
      ],
      "metadata": {
        "id": "eqMS7NXo2LnF"
      }
    },
    {
      "cell_type": "code",
      "execution_count": null,
      "metadata": {
        "colab": {
          "base_uri": "https://localhost:8080/",
          "height": 514
        },
        "id": "me2TjmV2Hhjv",
        "outputId": "46a5db38-544d-4a7d-ccde-a72823f5376b"
      },
      "outputs": [
        {
          "output_type": "display_data",
          "data": {
            "image/png": "[encoded data removed]",
            "text/plain": [
              "<Figure size 864x576 with 1 Axes>"
            ]
          },
          "metadata": {
            "needs_background": "light"
          }
        }
      ],
      "source": [
        "def plot_data(title, pd_table, x, y):\n",
        "  \"\"\" Generate a scatter plot comparing CrsiScore_SuperfundSite and Count_Person_AmericanIndianAndAlaskaNativeAlone. \"\"\"\n",
        "  plt.figure(figsize=(12, 8))\n",
        "  plt.title(title)\n",
        "  plt.xlabel('CrsiScore_SuperfundSite')\n",
        "  plt.ylabel('Count_Person_AmericanIndianAndAlaskaNativeAlone')\n",
        "  \n",
        "  # Scatter plot the information\n",
        "  ax = plt.gca()\n",
        "  ax.scatter(pd_table[x], pd_table[y], alpha=0.7)\n",
        "\n",
        "# Generate the plot for state data\n",
        "title = 'CRSI score vs Count of American Indian and Alaska Native population (per Capita)'\n",
        "plot_data(title, site_data_df, x='CrsiScore_SuperfundSite', y='perCapitaPopulation')"
      ]
    },
    {
      "cell_type": "markdown",
      "metadata": {
        "id": "zbjmGtocOLHg"
      },
      "source": [
        "### What's Next?\n",
        "Congratulations 🎉 on completing the tutorial. Next, please free to explore other Data Commons notebooks to get ideas for querying and joining data from the graph"
      ]
    }
  ],
  "metadata": {
    "colab": {
      "collapsed_sections": [],
      "name": "Analyzing SuperfundSites with Data Commons",
      "provenance": [],
      "toc_visible": true,
      "include_colab_link": true
    },
    "kernelspec": {
      "display_name": "Python 3",
      "name": "python3"
    },
    "language_info": {
      "name": "python"
    },
    "widgets": {
      "application/vnd.jupyter.widget-state+json": {
        "e86121a3dee84467911d601c450f076f": {
          "model_module": "@jupyter-widgets/controls",
          "model_name": "DropdownModel",
          "model_module_version": "1.5.0",
          "state": {
            "_options_labels": [
              "Alabama",
              "Alaska",
              "Arizona",
              "Arkansas",
              "California",
              "Colorado",
              "Connecticut",
              "Delaware",
              "District of Columbia",
              "Florida",
              "Georgia",
              "Hawaii",
              "Idaho",
              "Illinois",
              "Indiana",
              "Iowa",
              "Kansas",
              "Kentucky",
              "Louisiana",
              "Maine",
              "Maryland",
              "Massachusetts",
              "Michigan",
              "Minnesota",
              "Mississippi",
              "Missouri",
              "Montana",
              "Nebraska",
              "Nevada",
              "New Hampshire",
              "New Jersey",
              "New Mexico",
              "New York",
              "North Carolina",
              "North Dakota",
              "Ohio",
              "Oklahoma",
              "Oregon",
              "Pennsylvania",
              "Rhode Island",
              "South Carolina",
              "South Dakota",
              "Tennessee",
              "Texas",
              "Utah",
              "Vermont",
              "Virginia",
              "Washington",
              "West Virginia",
              "Wisconsin",
              "Wyoming",
              "Puerto Rico"
            ],
            "_view_name": "DropdownView",
            "style": "IPY_MODEL_2f1164c04f504f80beb625de92bbfa17",
            "_dom_classes": [],
            "description": "",
            "_model_name": "DropdownModel",
            "index": 0,
            "_view_module": "@jupyter-widgets/controls",
            "_model_module_version": "1.5.0",
            "_view_count": null,
            "disabled": false,
            "_view_module_version": "1.5.0",
            "description_tooltip": null,
            "_model_module": "@jupyter-widgets/controls",
            "layout": "IPY_MODEL_2e5a9eb31a424a8db158822f155d85db"
          }
        },
        "2f1164c04f504f80beb625de92bbfa17": {
          "model_module": "@jupyter-widgets/controls",
          "model_name": "DescriptionStyleModel",
          "model_module_version": "1.5.0",
          "state": {
            "_view_name": "StyleView",
            "_model_name": "DescriptionStyleModel",
            "description_width": "",
            "_view_module": "@jupyter-widgets/base",
            "_model_module_version": "1.5.0",
            "_view_count": null,
            "_view_module_version": "1.2.0",
            "_model_module": "@jupyter-widgets/controls"
          }
        },
        "2e5a9eb31a424a8db158822f155d85db": {
          "model_module": "@jupyter-widgets/base",
          "model_name": "LayoutModel",
          "model_module_version": "1.2.0",
          "state": {
            "_view_name": "LayoutView",
            "grid_template_rows": null,
            "right": null,
            "justify_content": null,
            "_view_module": "@jupyter-widgets/base",
            "overflow": null,
            "_model_module_version": "1.2.0",
            "_view_count": null,
            "flex_flow": null,
            "width": null,
            "min_width": null,
            "border": null,
            "align_items": null,
            "bottom": null,
            "_model_module": "@jupyter-widgets/base",
            "top": null,
            "grid_column": null,
            "overflow_y": null,
            "overflow_x": null,
            "grid_auto_flow": null,
            "grid_area": null,
            "grid_template_columns": null,
            "flex": null,
            "_model_name": "LayoutModel",
            "justify_items": null,
            "grid_row": null,
            "max_height": null,
            "align_content": null,
            "visibility": null,
            "align_self": null,
            "height": null,
            "min_height": null,
            "padding": null,
            "grid_auto_rows": null,
            "grid_gap": null,
            "max_width": null,
            "order": null,
            "_view_module_version": "1.2.0",
            "grid_template_areas": null,
            "object_position": null,
            "object_fit": null,
            "grid_auto_columns": null,
            "margin": null,
            "display": null,
            "left": null
          }
        },
        "8794d888dc834c1cad49e577a95736a4": {
          "model_module": "@jupyter-widgets/controls",
          "model_name": "DropdownModel",
          "model_module_version": "1.5.0",
          "state": {
            "_options_labels": [
              "Anniston Army Depot (Southeast Industrial Area)",
              "Alabama Army Ammunition Plant",
              "Redstone Arsenal (USARMY/NASA)",
              "Ciba-Geigy Corp. (McIntosh Plant)",
              "Alabama Plating Company Inc.",
              "T.H. Agriculture & Nutrition Co. (Montgomery Plant)",
              "Stauffer Chemical Co. (LeMoyne Plant)",
              "Olin Corp. (McIntosh Plant)",
              "Mowbray Engineering Co.",
              "Interstate Lead Co. (ILCO)",
              "Stauffer Chemical Co. (Cold Creek Plant)",
              "Perdido Ground Water Contamination",
              "Redwing Carriers Inc. (Saraland)",
              "American Brass",
              "Triana/Tennessee River",
              "35th Avenue"
            ],
            "_view_name": "DropdownView",
            "style": "IPY_MODEL_e1eb411fba2a42b783282223aa7c6ce7",
            "_dom_classes": [],
            "description": "",
            "_model_name": "DropdownModel",
            "index": 0,
            "_view_module": "@jupyter-widgets/controls",
            "_model_module_version": "1.5.0",
            "_view_count": null,
            "disabled": false,
            "_view_module_version": "1.5.0",
            "description_tooltip": null,
            "_model_module": "@jupyter-widgets/controls",
            "layout": "IPY_MODEL_d5670d1d5dda4c479d70627d752ba8c1"
          }
        },
        "e1eb411fba2a42b783282223aa7c6ce7": {
          "model_module": "@jupyter-widgets/controls",
          "model_name": "DescriptionStyleModel",
          "model_module_version": "1.5.0",
          "state": {
            "_view_name": "StyleView",
            "_model_name": "DescriptionStyleModel",
            "description_width": "",
            "_view_module": "@jupyter-widgets/base",
            "_model_module_version": "1.5.0",
            "_view_count": null,
            "_view_module_version": "1.2.0",
            "_model_module": "@jupyter-widgets/controls"
          }
        },
        "d5670d1d5dda4c479d70627d752ba8c1": {
          "model_module": "@jupyter-widgets/base",
          "model_name": "LayoutModel",
          "model_module_version": "1.2.0",
          "state": {
            "_view_name": "LayoutView",
            "grid_template_rows": null,
            "right": null,
            "justify_content": null,
            "_view_module": "@jupyter-widgets/base",
            "overflow": null,
            "_model_module_version": "1.2.0",
            "_view_count": null,
            "flex_flow": null,
            "width": null,
            "min_width": null,
            "border": null,
            "align_items": null,
            "bottom": null,
            "_model_module": "@jupyter-widgets/base",
            "top": null,
            "grid_column": null,
            "overflow_y": null,
            "overflow_x": null,
            "grid_auto_flow": null,
            "grid_area": null,
            "grid_template_columns": null,
            "flex": null,
            "_model_name": "LayoutModel",
            "justify_items": null,
            "grid_row": null,
            "max_height": null,
            "align_content": null,
            "visibility": null,
            "align_self": null,
            "height": null,
            "min_height": null,
            "padding": null,
            "grid_auto_rows": null,
            "grid_gap": null,
            "max_width": null,
            "order": null,
            "_view_module_version": "1.2.0",
            "grid_template_areas": null,
            "object_position": null,
            "object_fit": null,
            "grid_auto_columns": null,
            "margin": null,
            "display": null,
            "left": null
          }
        },
        "9cf7730acc784ae48e5f17c86e92a261": {
          "model_module": "@jupyter-widgets/controls",
          "model_name": "DropdownModel",
          "model_module_version": "1.5.0",
          "state": {
            "_options_labels": [
              "CrsiScore_SuperfundSite",
              "NaturalHazardExposureScore_SuperfundSite",
              "NaturalHazardRiskScore_SuperfundSite",
              "NaturalHazardRiskScore_SuperfundSite_CoastalFloodEvent",
              "NaturalHazardRiskScore_SuperfundSite_DroughtEvent",
              "NaturalHazardRiskScore_SuperfundSite_EarthquakeEvent",
              "NaturalHazardRiskScore_SuperfundSite_ExcessiveHeatEvent",
              "NaturalHazardRiskScore_SuperfundSite_ExtremeColdWindChillEvent",
              "NaturalHazardRiskScore_SuperfundSite_FloodEvent",
              "NaturalHazardRiskScore_SuperfundSite_HailEvent",
              "NaturalHazardRiskScore_SuperfundSite_HighWindEvent",
              "NaturalHazardRiskScore_SuperfundSite_HurricaneEvent",
              "NaturalHazardRiskScore_SuperfundSite_LandslideEvent",
              "NaturalHazardRiskScore_SuperfundSite_TornadoEvent",
              "NaturalHazardRiskScore_SuperfundSite_WildfireEvent"
            ],
            "_view_name": "DropdownView",
            "style": "IPY_MODEL_518586f83b35495aa1215c5dbd1cd79d",
            "_dom_classes": [],
            "description": "",
            "_model_name": "DropdownModel",
            "index": 0,
            "_view_module": "@jupyter-widgets/controls",
            "_model_module_version": "1.5.0",
            "_view_count": null,
            "disabled": false,
            "_view_module_version": "1.5.0",
            "description_tooltip": null,
            "_model_module": "@jupyter-widgets/controls",
            "layout": "IPY_MODEL_fb9e80f4aea842e390f3341a488d14d8"
          }
        },
        "518586f83b35495aa1215c5dbd1cd79d": {
          "model_module": "@jupyter-widgets/controls",
          "model_name": "DescriptionStyleModel",
          "model_module_version": "1.5.0",
          "state": {
            "_view_name": "StyleView",
            "_model_name": "DescriptionStyleModel",
            "description_width": "",
            "_view_module": "@jupyter-widgets/base",
            "_model_module_version": "1.5.0",
            "_view_count": null,
            "_view_module_version": "1.2.0",
            "_model_module": "@jupyter-widgets/controls"
          }
        },
        "fb9e80f4aea842e390f3341a488d14d8": {
          "model_module": "@jupyter-widgets/base",
          "model_name": "LayoutModel",
          "model_module_version": "1.2.0",
          "state": {
            "_view_name": "LayoutView",
            "grid_template_rows": null,
            "right": null,
            "justify_content": null,
            "_view_module": "@jupyter-widgets/base",
            "overflow": null,
            "_model_module_version": "1.2.0",
            "_view_count": null,
            "flex_flow": null,
            "width": null,
            "min_width": null,
            "border": null,
            "align_items": null,
            "bottom": null,
            "_model_module": "@jupyter-widgets/base",
            "top": null,
            "grid_column": null,
            "overflow_y": null,
            "overflow_x": null,
            "grid_auto_flow": null,
            "grid_area": null,
            "grid_template_columns": null,
            "flex": null,
            "_model_name": "LayoutModel",
            "justify_items": null,
            "grid_row": null,
            "max_height": null,
            "align_content": null,
            "visibility": null,
            "align_self": null,
            "height": null,
            "min_height": null,
            "padding": null,
            "grid_auto_rows": null,
            "grid_gap": null,
            "max_width": null,
            "order": null,
            "_view_module_version": "1.2.0",
            "grid_template_areas": null,
            "object_position": null,
            "object_fit": null,
            "grid_auto_columns": null,
            "margin": null,
            "display": null,
            "left": null
          }
        }
      }
    }
  },
  "nbformat": 4,
  "nbformat_minor": 0
}