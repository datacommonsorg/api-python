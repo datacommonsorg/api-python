{
  "nbformat": 4,
  "nbformat_minor": 0,
  "metadata": {
    "colab": {
      "name": "Case Study: Analyzing Income Distribution",
      "provenance": [],
      "collapsed_sections": [],
      "toc_visible": true,
      "include_colab_link": true
    },
    "kernelspec": {
      "display_name": "Python 3",
      "language": "python",
      "name": "python3"
    }
  },
  "cells": [
    {
      "cell_type": "markdown",
      "metadata": {
        "id": "view-in-github",
        "colab_type": "text"
      },
      "source": [
        "<a href=\"https://colab.research.google.com/github/tjann/api-python/blob/udpatenb/Case_Study_Analyzing_Income_Distribution.ipynb\" target=\"_parent\"><img src=\"https://colab.research.google.com/assets/colab-badge.svg\" alt=\"Open In Colab\"/></a>"
      ]
    },
    {
      "cell_type": "markdown",
      "metadata": {
        "id": "nnY4S5m_boXI",
        "colab_type": "text"
      },
      "source": [
        "Copyright 2020 Google LLC.\n",
        "SPDX-License-Identifier: Apache-2.0\n",
        "\n",
        "**Notebook Version** - 1.0.1"
      ]
    },
    {
      "cell_type": "code",
      "metadata": {
        "id": "9_SFWWxoSoMn",
        "colab_type": "code",
        "colab": {}
      },
      "source": [
        "# Install datacommons\n",
        "!pip install datacommons --upgrade --quiet"
      ],
      "execution_count": 1,
      "outputs": []
    },
    {
      "cell_type": "markdown",
      "metadata": {
        "id": "vWo_v5cI-JXC",
        "colab_type": "text"
      },
      "source": [
        "# Analyzing Income Distribution\n",
        "\n",
        "The American Community Survey (published by the US Census) annually reports the number of individuals in a given income bracket at the State level. We can use this information, stored in Data Commons, to visualize disparity in income for each State in the US. Our goal for this tutorial will be to generate a plot that visualizes the total number of individuals across a given set of income brackets for a given state. \n",
        "\n",
        "Before we begin, we'll setup our notebook."
      ]
    },
    {
      "cell_type": "code",
      "metadata": {
        "id": "OwquZnRa-JXD",
        "colab_type": "code",
        "colab": {}
      },
      "source": [
        "# Import the Data Commons library\n",
        "import datacommons as dc\n",
        "\n",
        "# Import other libraries\n",
        "import pandas as pd\n",
        "import matplotlib.pyplot as plt\n",
        "import numpy as np\n"
      ],
      "execution_count": 2,
      "outputs": []
    },
    {
      "cell_type": "markdown",
      "metadata": {
        "id": "Hnk34Wgr-JXG",
        "colab_type": "text"
      },
      "source": [
        "## Preparing the Data\n",
        "\n",
        "We'll begin by creating a dataframe with states and their total population. We can use **`get_places_in`** to get all States within the United States. We can then call **`get_stats`** to get the population of each State."
      ]
    },
    {
      "cell_type": "code",
      "metadata": {
        "id": "4tXBoR3h-JXI",
        "colab_type": "code",
        "colab": {
          "base_uri": "https://localhost:8080/",
          "height": 210
        },
        "outputId": "a486ae30-f530-4388-f9d3-4f1b12d940e1"
      },
      "source": [
        "# Initialize a DataFrame holding the states\n",
        "data = pd.DataFrame({'state': dc.get_places_in(['country/USA'], 'State')['country/USA']})\n",
        "\n",
        "# Get all state names and store it in a column \"name\"\n",
        "# Get the first name, if there are multiple for a state\n",
        "data['name'] = data['state'].map(dc.get_property_values(data['state'], 'name')).str[0]\n",
        "\n",
        "# Get the total count of all persons for each state\n",
        "data['Count_Person'] = data['state'].map(dc.get_stats(data['state'], \"Count_Person\", ['2017']))\n",
        "\n",
        "# Extract just the number for population\n",
        "get_value = lambda row: row.get('data').get('2017')\n",
        "data['Count_Person'] = data['Count_Person'].apply(get_value).dropna()\n",
        "\n",
        "# Display the first five rows of the table\n",
        "data.head(5)"
      ],
      "execution_count": 3,
      "outputs": [
        {
          "output_type": "execute_result",
          "data": {
            "text/html": [
              "<div>\n",
              "<style scoped>\n",
              "    .dataframe tbody tr th:only-of-type {\n",
              "        vertical-align: middle;\n",
              "    }\n",
              "\n",
              "    .dataframe tbody tr th {\n",
              "        vertical-align: top;\n",
              "    }\n",
              "\n",
              "    .dataframe thead th {\n",
              "        text-align: right;\n",
              "    }\n",
              "</style>\n",
              "<table border=\"1\" class=\"dataframe\">\n",
              "  <thead>\n",
              "    <tr style=\"text-align: right;\">\n",
              "      <th></th>\n",
              "      <th>state</th>\n",
              "      <th>name</th>\n",
              "      <th>Count_Person</th>\n",
              "    </tr>\n",
              "  </thead>\n",
              "  <tbody>\n",
              "    <tr>\n",
              "      <th>0</th>\n",
              "      <td>geoId/01</td>\n",
              "      <td>Alabama</td>\n",
              "      <td>4874486</td>\n",
              "    </tr>\n",
              "    <tr>\n",
              "      <th>1</th>\n",
              "      <td>geoId/02</td>\n",
              "      <td>Alaska</td>\n",
              "      <td>739700</td>\n",
              "    </tr>\n",
              "    <tr>\n",
              "      <th>2</th>\n",
              "      <td>geoId/04</td>\n",
              "      <td>Arizona</td>\n",
              "      <td>7044008</td>\n",
              "    </tr>\n",
              "    <tr>\n",
              "      <th>3</th>\n",
              "      <td>geoId/05</td>\n",
              "      <td>Arkansas</td>\n",
              "      <td>3001345</td>\n",
              "    </tr>\n",
              "    <tr>\n",
              "      <th>4</th>\n",
              "      <td>geoId/06</td>\n",
              "      <td>California</td>\n",
              "      <td>39358497</td>\n",
              "    </tr>\n",
              "  </tbody>\n",
              "</table>\n",
              "</div>"
            ],
            "text/plain": [
              "      state        name  Count_Person\n",
              "0  geoId/01     Alabama       4874486\n",
              "1  geoId/02      Alaska        739700\n",
              "2  geoId/04     Arizona       7044008\n",
              "3  geoId/05    Arkansas       3001345\n",
              "4  geoId/06  California      39358497"
            ]
          },
          "metadata": {
            "tags": []
          },
          "execution_count": 3
        }
      ]
    },
    {
      "cell_type": "markdown",
      "metadata": {
        "id": "iNbG-aofExHA",
        "colab_type": "text"
      },
      "source": [
        "### Querying for Income Brackets\n",
        "\n",
        "Next, let's get the population level for each income bracket. The datacommons graph identifies 16 different income brackets. For each bracket and state, we can get the observations directly by calling **`get_stats`**. We'll filter observations to between published in 2017 by the American Community Survey. Note these StatisticalVariables can be found [here](http://docs.datacommons.org/statistical_variables.html)."
      ]
    },
    {
      "cell_type": "code",
      "metadata": {
        "id": "TBVni9L-Ewmx",
        "colab_type": "code",
        "colab": {
          "base_uri": "https://localhost:8080/",
          "height": 230
        },
        "outputId": "d4f70924-add4-4ed8-ec92-818f23aac511"
      },
      "source": [
        "# A list of income bracket StatisticalVariables\n",
        "income_brackets = [\n",
        "  \"Count_Household_IncomeOfUpto10000USDollar\",\n",
        "  \"Count_Household_IncomeOf10000To14999USDollar\",\n",
        "  \"Count_Household_IncomeOf15000To19999USDollar\",\n",
        "  \"Count_Household_IncomeOf20000To24999USDollar\",\n",
        "  \"Count_Household_IncomeOf25000To29999USDollar\",\n",
        "  \"Count_Household_IncomeOf30000To34999USDollar\",\n",
        "  \"Count_Household_IncomeOf35000To39999USDollar\",\n",
        "  \"Count_Household_IncomeOf40000To44999USDollar\",\n",
        "  \"Count_Household_IncomeOf45000To49999USDollar\",\n",
        "  \"Count_Household_IncomeOf50000To59999USDollar\",\n",
        "  \"Count_Household_IncomeOf60000To74999USDollar\",\n",
        "  \"Count_Household_IncomeOf75000To99999USDollar\",\n",
        "  \"Count_Household_IncomeOf100000To124999USDollar\",\n",
        "  \"Count_Household_IncomeOf125000To149999USDollar\",\n",
        "  \"Count_Household_IncomeOf150000To199999USDollar\",\n",
        "  \"Count_Household_IncomeOf200000OrMoreUSDollar\",\n",
        "]\n",
        "\n",
        "# Add a column containing the population count for each income bracket\n",
        "for bracket in income_brackets:\n",
        "  # Get the StatVarObservations\n",
        "  data[bracket] = data['state'].map(dc.get_stats(data['state'], bracket, ['2017'])).apply(get_value).dropna()\n",
        "\n",
        "# Display the table\n",
        "data.head(5)"
      ],
      "execution_count": 4,
      "outputs": [
        {
          "output_type": "execute_result",
          "data": {
            "text/html": [
              "<div>\n",
              "<style scoped>\n",
              "    .dataframe tbody tr th:only-of-type {\n",
              "        vertical-align: middle;\n",
              "    }\n",
              "\n",
              "    .dataframe tbody tr th {\n",
              "        vertical-align: top;\n",
              "    }\n",
              "\n",
              "    .dataframe thead th {\n",
              "        text-align: right;\n",
              "    }\n",
              "</style>\n",
              "<table border=\"1\" class=\"dataframe\">\n",
              "  <thead>\n",
              "    <tr style=\"text-align: right;\">\n",
              "      <th></th>\n",
              "      <th>state</th>\n",
              "      <th>name</th>\n",
              "      <th>Count_Person</th>\n",
              "      <th>Count_Household_IncomeOfUpto10000USDollar</th>\n",
              "      <th>Count_Household_IncomeOf10000To14999USDollar</th>\n",
              "      <th>Count_Household_IncomeOf15000To19999USDollar</th>\n",
              "      <th>Count_Household_IncomeOf20000To24999USDollar</th>\n",
              "      <th>Count_Household_IncomeOf25000To29999USDollar</th>\n",
              "      <th>Count_Household_IncomeOf30000To34999USDollar</th>\n",
              "      <th>Count_Household_IncomeOf35000To39999USDollar</th>\n",
              "      <th>Count_Household_IncomeOf40000To44999USDollar</th>\n",
              "      <th>Count_Household_IncomeOf45000To49999USDollar</th>\n",
              "      <th>Count_Household_IncomeOf50000To59999USDollar</th>\n",
              "      <th>Count_Household_IncomeOf60000To74999USDollar</th>\n",
              "      <th>Count_Household_IncomeOf75000To99999USDollar</th>\n",
              "      <th>Count_Household_IncomeOf100000To124999USDollar</th>\n",
              "      <th>Count_Household_IncomeOf125000To149999USDollar</th>\n",
              "      <th>Count_Household_IncomeOf150000To199999USDollar</th>\n",
              "      <th>Count_Household_IncomeOf200000OrMoreUSDollar</th>\n",
              "    </tr>\n",
              "  </thead>\n",
              "  <tbody>\n",
              "    <tr>\n",
              "      <th>0</th>\n",
              "      <td>geoId/01</td>\n",
              "      <td>Alabama</td>\n",
              "      <td>4874486</td>\n",
              "      <td>170650</td>\n",
              "      <td>121688</td>\n",
              "      <td>116273</td>\n",
              "      <td>112406</td>\n",
              "      <td>102590</td>\n",
              "      <td>100223</td>\n",
              "      <td>92139</td>\n",
              "      <td>88987</td>\n",
              "      <td>76070</td>\n",
              "      <td>149492</td>\n",
              "      <td>176589</td>\n",
              "      <td>206436</td>\n",
              "      <td>133618</td>\n",
              "      <td>76939</td>\n",
              "      <td>71748</td>\n",
              "      <td>60847</td>\n",
              "    </tr>\n",
              "    <tr>\n",
              "      <th>1</th>\n",
              "      <td>geoId/02</td>\n",
              "      <td>Alaska</td>\n",
              "      <td>739700</td>\n",
              "      <td>9650</td>\n",
              "      <td>7838</td>\n",
              "      <td>8013</td>\n",
              "      <td>8854</td>\n",
              "      <td>8383</td>\n",
              "      <td>8914</td>\n",
              "      <td>8998</td>\n",
              "      <td>10163</td>\n",
              "      <td>8536</td>\n",
              "      <td>18810</td>\n",
              "      <td>26224</td>\n",
              "      <td>36745</td>\n",
              "      <td>29925</td>\n",
              "      <td>19752</td>\n",
              "      <td>23596</td>\n",
              "      <td>18135</td>\n",
              "    </tr>\n",
              "    <tr>\n",
              "      <th>2</th>\n",
              "      <td>geoId/04</td>\n",
              "      <td>Arizona</td>\n",
              "      <td>7044008</td>\n",
              "      <td>178384</td>\n",
              "      <td>118676</td>\n",
              "      <td>123075</td>\n",
              "      <td>131903</td>\n",
              "      <td>127741</td>\n",
              "      <td>127570</td>\n",
              "      <td>119431</td>\n",
              "      <td>125103</td>\n",
              "      <td>107245</td>\n",
              "      <td>208318</td>\n",
              "      <td>254294</td>\n",
              "      <td>303811</td>\n",
              "      <td>200818</td>\n",
              "      <td>119347</td>\n",
              "      <td>119778</td>\n",
              "      <td>116817</td>\n",
              "    </tr>\n",
              "    <tr>\n",
              "      <th>3</th>\n",
              "      <td>geoId/05</td>\n",
              "      <td>Arkansas</td>\n",
              "      <td>3001345</td>\n",
              "      <td>97226</td>\n",
              "      <td>78535</td>\n",
              "      <td>74451</td>\n",
              "      <td>75194</td>\n",
              "      <td>70211</td>\n",
              "      <td>67958</td>\n",
              "      <td>61588</td>\n",
              "      <td>60814</td>\n",
              "      <td>50978</td>\n",
              "      <td>95836</td>\n",
              "      <td>111618</td>\n",
              "      <td>120034</td>\n",
              "      <td>72752</td>\n",
              "      <td>40780</td>\n",
              "      <td>35900</td>\n",
              "      <td>33416</td>\n",
              "    </tr>\n",
              "    <tr>\n",
              "      <th>4</th>\n",
              "      <td>geoId/06</td>\n",
              "      <td>California</td>\n",
              "      <td>39358497</td>\n",
              "      <td>694945</td>\n",
              "      <td>604666</td>\n",
              "      <td>536203</td>\n",
              "      <td>568994</td>\n",
              "      <td>523563</td>\n",
              "      <td>539988</td>\n",
              "      <td>500571</td>\n",
              "      <td>509113</td>\n",
              "      <td>456152</td>\n",
              "      <td>895758</td>\n",
              "      <td>1199773</td>\n",
              "      <td>1568843</td>\n",
              "      <td>1206637</td>\n",
              "      <td>818690</td>\n",
              "      <td>1008388</td>\n",
              "      <td>1255844</td>\n",
              "    </tr>\n",
              "  </tbody>\n",
              "</table>\n",
              "</div>"
            ],
            "text/plain": [
              "      state  ... Count_Household_IncomeOf200000OrMoreUSDollar\n",
              "0  geoId/01  ...                                        60847\n",
              "1  geoId/02  ...                                        18135\n",
              "2  geoId/04  ...                                       116817\n",
              "3  geoId/05  ...                                        33416\n",
              "4  geoId/06  ...                                      1255844\n",
              "\n",
              "[5 rows x 19 columns]"
            ]
          },
          "metadata": {
            "tags": []
          },
          "execution_count": 4
        }
      ]
    },
    {
      "cell_type": "markdown",
      "metadata": {
        "id": "A6azivEu-JXP",
        "colab_type": "text"
      },
      "source": [
        "## Analyzing the Data\n",
        "\n",
        "Let's plot our data as a histogram. **Notice that the income ranges as tabulated by the US Census are not equal.** At the low end, the range is 0-9999, whereas, towards the top, the range 150,000-199,999 is five times as broad! **We will make the width of each of the columns correspond to their range, and will give us an idea of the total earnings, not just the number of people in that group.**\n",
        "\n",
        "First we provide code for generating the plot."
      ]
    },
    {
      "cell_type": "code",
      "metadata": {
        "id": "Bi3lWnu8-JXR",
        "colab_type": "code",
        "colab": {}
      },
      "source": [
        "# Bar chart endpoints (for calculating bar width)\n",
        "label_to_range = {\n",
        "  \"Count_Household_IncomeOfUpto10000USDollar\": [0, 9999],\n",
        "  \"Count_Household_IncomeOf10000To14999USDollar\": [10000, 14999],\n",
        "  \"Count_Household_IncomeOf15000To19999USDollar\": [15000, 19999],\n",
        "  \"Count_Household_IncomeOf20000To24999USDollar\": [20000, 24999],\n",
        "  \"Count_Household_IncomeOf25000To29999USDollar\": [25000, 29999],\n",
        "  \"Count_Household_IncomeOf30000To34999USDollar\": [30000, 34999],\n",
        "  \"Count_Household_IncomeOf35000To39999USDollar\": [35000, 39999],\n",
        "  \"Count_Household_IncomeOf40000To44999USDollar\": [40000, 44999],\n",
        "  \"Count_Household_IncomeOf45000To49999USDollar\": [45000, 49999],\n",
        "  \"Count_Household_IncomeOf50000To59999USDollar\": [50000, 59999],\n",
        "  \"Count_Household_IncomeOf60000To74999USDollar\": [60000, 74999],\n",
        "  \"Count_Household_IncomeOf75000To99999USDollar\": [75000, 99999],\n",
        "  \"Count_Household_IncomeOf100000To124999USDollar\": [100000, 124999],\n",
        "  \"Count_Household_IncomeOf125000To149999USDollar\": [125000, 149999],\n",
        "  \"Count_Household_IncomeOf150000To199999USDollar\": [150000, 199999],\n",
        "  \"Count_Household_IncomeOf200000OrMoreUSDollar\": [200000, 300000],\n",
        "}\n",
        "\n",
        "def plot_income(data, state_name):\n",
        "  # Assert that specified \"state_name\" is a valid state name\n",
        "  frame_search = data.loc[data['name'] == state_name].squeeze()\n",
        "  if frame_search.shape[0] == 0:\n",
        "    print('{} does not have sufficient income data to generate the plot!'.format(state_name))\n",
        "    return\n",
        "  \n",
        "  # Print the resulting series\n",
        "  data = frame_search[2:]\n",
        "\n",
        "  # Calculate the lengths without intervals\n",
        "  widths_without_interval = []\n",
        "  for bracket in income_brackets:\n",
        "    r = label_to_range[bracket] \n",
        "    widths_without_interval.append(int((r[1] - r[0]) / 18))\n",
        "\n",
        "  # Calculate the x-axis positions\n",
        "  pos, total = [], 0\n",
        "  for l in widths_without_interval:\n",
        "    pos.append(total + (l // 2))\n",
        "    total += l\n",
        "\n",
        "  # Calculate the bar lengths\n",
        "  widths = []\n",
        "  for bracket in income_brackets:\n",
        "    r = label_to_range[bracket] \n",
        "    # 50 here to be the intervals between bars\n",
        "    widths.append(int((r[1] - r[0]) / 18 - 50))\n",
        "\n",
        "  # Plot the histogram\n",
        "  plt.figure(figsize=(12, 10))\n",
        "  plt.xticks(pos, income_brackets, rotation=90)\n",
        "  plt.grid(True)\n",
        "  plt.bar(pos, data.values, widths, color='b', alpha=0.3)\n",
        "\n",
        "  # Return the resulting frame.\n",
        "  return frame_search"
      ],
      "execution_count": 5,
      "outputs": []
    },
    {
      "cell_type": "markdown",
      "metadata": {
        "id": "YsOnc8o4Wpq-",
        "colab_type": "text"
      },
      "source": [
        "We can then call this code with a state to plot the income bracket sizes."
      ]
    },
    {
      "cell_type": "code",
      "metadata": {
        "id": "JkNBx9KsWtey",
        "colab_type": "code",
        "colab": {
          "base_uri": "https://localhost:8080/",
          "height": 851
        },
        "outputId": "ce449084-17d4-4bff-ff5d-8faba1628d69"
      },
      "source": [
        "#@title Enter State to plot { run: \"auto\" }\n",
        "state_name = \"Montana\" #@param [\"Missouri\", \"Arkansas\", \"Arizona\", \"Ohio\", \"Connecticut\", \"Vermont\", \"Illinois\", \"South Dakota\", \"Iowa\", \"Oklahoma\", \"Kansas\", \"Washington\", \"Oregon\", \"Hawaii\", \"Minnesota\", \"Idaho\", \"Alaska\", \"Colorado\", \"Delaware\", \"Alabama\", \"North Dakota\", \"Michigan\", \"California\", \"Indiana\", \"Kentucky\", \"Nebraska\", \"Louisiana\", \"New Jersey\", \"Rhode Island\", \"Utah\", \"Nevada\", \"South Carolina\", \"Wisconsin\", \"New York\", \"North Carolina\", \"New Hampshire\", \"Georgia\", \"Pennsylvania\", \"West Virginia\", \"Maine\", \"Mississippi\", \"Montana\", \"Tennessee\", \"New Mexico\", \"Massachusetts\", \"Wyoming\", \"Maryland\", \"Florida\", \"Texas\", \"Virginia\"]\n",
        "result = plot_income(data.drop('state', axis=1), state_name)\n",
        "\n",
        "# Show the plot\n",
        "plt.show()"
      ],
      "execution_count": 6,
      "outputs": [
        {
          "output_type": "display_data",
          "data": {
            "image/png": "[encoded data removed]",
            "text/plain": [
              "<Figure size 864x720 with 1 Axes>"
            ]
          },
          "metadata": {
            "tags": [],
            "needs_background": "light"
          }
        }
      ]
    },
    {
      "cell_type": "markdown",
      "metadata": {
        "id": "EaE8M-orXDhB",
        "colab_type": "text"
      },
      "source": [
        "and we can display the raw table of values."
      ]
    },
    {
      "cell_type": "code",
      "metadata": {
        "id": "FYPs1S9hWL8B",
        "colab_type": "code",
        "colab": {
          "base_uri": "https://localhost:8080/",
          "height": 378
        },
        "outputId": "3fcf2d6d-27f7-445e-a7eb-a0c3ea89a5f0"
      },
      "source": [
        "# Additionally print the table of income bracket sizes \n",
        "result"
      ],
      "execution_count": 7,
      "outputs": [
        {
          "output_type": "execute_result",
          "data": {
            "text/plain": [
              "name                                              Montana\n",
              "Count_Person                                      1052482\n",
              "Count_Household_IncomeOfUpto10000USDollar           28634\n",
              "Count_Household_IncomeOf10000To14999USDollar        23152\n",
              "Count_Household_IncomeOf15000To19999USDollar        22896\n",
              "Count_Household_IncomeOf20000To24999USDollar        24321\n",
              "Count_Household_IncomeOf25000To29999USDollar        23155\n",
              "Count_Household_IncomeOf30000To34999USDollar        23776\n",
              "Count_Household_IncomeOf35000To39999USDollar        22173\n",
              "Count_Household_IncomeOf40000To44999USDollar        20708\n",
              "Count_Household_IncomeOf45000To49999USDollar        17897\n",
              "Count_Household_IncomeOf50000To59999USDollar        35490\n",
              "Count_Household_IncomeOf60000To74999USDollar        44956\n",
              "Count_Household_IncomeOf75000To99999USDollar        50409\n",
              "Count_Household_IncomeOf100000To124999USDollar      32624\n",
              "Count_Household_IncomeOf125000To149999USDollar      18244\n",
              "Count_Household_IncomeOf150000To199999USDollar      15964\n",
              "Count_Household_IncomeOf200000OrMoreUSDollar        15576\n",
              "Name: 26, dtype: object"
            ]
          },
          "metadata": {
            "tags": []
          },
          "execution_count": 7
        }
      ]
    },
    {
      "cell_type": "markdown",
      "metadata": {
        "id": "fD5uhrC_G0Jv",
        "colab_type": "text"
      },
      "source": [
        "This is only the beginning! What else can you analyze? For example, you could try computing a measure of income disparity in each state (see [Gini Coefficient](https://en.wikipedia.org/wiki/Gini_coefficient)).\n",
        "\n",
        "You could then expand the dataframe to include more information and analyze how attributes like education level, crime, or even weather affect income disparity.\n",
        "\n"
      ]
    }
  ]
}