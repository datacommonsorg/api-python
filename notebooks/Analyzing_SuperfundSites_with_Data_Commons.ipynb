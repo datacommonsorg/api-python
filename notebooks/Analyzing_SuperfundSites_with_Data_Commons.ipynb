{
  "cells": [
    {
      "cell_type": "markdown",
      "metadata": {
        "id": "view-in-github",
        "colab_type": "text"
      },
      "source": [
        "<a href=\"https://colab.research.google.com/github/datacommonsorg/api-python/blob/master/notebooks/Analyzing_SuperfundSites_with_Data_Commons.ipynb\" target=\"_parent\"><img src=\"https://colab.research.google.com/assets/colab-badge.svg\" alt=\"Open In Colab\"/></a>"
      ]
    },
    {
      "cell_type": "markdown",
      "metadata": {
        "id": "OJ_kWT4iDMaM"
      },
      "source": [
        "Copyright 2022 Google LLC.\n",
        "SPDX-License-Identifier: Apache-2.0\n",
        "\n",
        "**Notebook Version** - 1.0.0"
      ]
    },
    {
      "cell_type": "markdown",
      "metadata": {
        "id": "QJoxQoY48gHc"
      },
      "source": [
        "## Analyzing SuperfundSites with Data Commons\n",
        "\n",
        "This information, stored in Data Commons, is available to everyone for data science projects, education, and exploration. \n",
        "\n",
        "This tutorial introduces the Data Commons graph and two of its tools: (1) the [browser](https://browser.datacommons.org/) and (2) the [Pandas API](https://github.com/datacommonsorg/api-pandas).\n",
        "\n",
        "### Data Commons Browser\n",
        "\n",
        "The [Data Commons browser](https://browser.datacommons.org/) provides a way to explore the data in a human-readable format. It is the best way to explore what is in Data Commons. \n",
        "\n",
        "An important property for all entities is the **`dcid`**. The `dcid` (Data Commons identifier) is a unique identifier assigned to each entity in the knowledge graph. With this identifier, one will be able to search for and query information on the given entity in ways that we will discuss later. The `dcid` is listed at the top of the page next to \"About: \" and also in the list of properties.\n",
        "\n",
        "### Accessing statistics through APIs\n",
        "Currently there are three ways in which statistics from then Data Commons graph can be obtained, namely:\n",
        "\n",
        "1. [Python API](https://docs.datacommons.org/api/python/) - a lightweight python wrapper \n",
        "2. The [Pandas API](https://github.com/datacommonsorg/api-pandas) provides functions for users to extract structured information from Data Commons programmatically and view them in different formats such as Python dicts and [pandas](https://pandas.pydata.org/) DataFrames. DataFrames allow access to all the data processing, analytical and visualization tools provided by packages such as pandas, NumPy, SciPy, and Matplotlib.\n",
        "3. [REST API endpoints](https://docs.datacommons.org/api/rest/) - a common, language agnostic means to access stats\n",
        "\n",
        "### About this notebook\n",
        "This notebook presents how different Data Commons APIs work with example snippets to extract statistics from the knowledge graph. The notebook will provide code snippets that can better showcase how data can be used for visualization and analysis. Specifically, the notebook uses statistics available on Superfund Sites and Demographics as examples, but the snippets can be used for statistics in other verticals like Climate, Economics, Health, etc.\n",
        "\n"
      ]
    },
    {
      "cell_type": "code",
      "execution_count": null,
      "metadata": {
        "id": "vD2mErj68Q1F"
      },
      "outputs": [],
      "source": [
        "# Refer: https://docs.datacommons.org/api/pandas/\n",
        "!pip install datacommons_pandas datacommons geopandas plotly descartes --upgrade --quiet\n",
        "\n",
        "# Import Data Commons\n",
        "import datacommons as dc\n",
        "import datacommons_pandas as dpd\n",
        "\n",
        "# Import other required libraries\n",
        "import matplotlib.pyplot as plt\n",
        "import matplotlib.patches as mpatches\n",
        "import pandas as pd\n",
        "import geopandas as gpd\n",
        "from shapely.geometry import Point\n",
        "import plotly.express as px\n",
        "from descartes import PolygonPatch\n",
        "\n",
        "import ipywidgets as widgets\n",
        "import pprint\n",
        "import requests\n",
        "import json\n",
        "\n",
        "# setting place scope to US\n",
        "_USA = 'country/USA'"
      ]
    },
    {
      "cell_type": "markdown",
      "metadata": {
        "id": "ocd8TI35EA06"
      },
      "source": [
        "### Querying Statistics from Data Commons\n",
        "\n",
        "Data Commons has a large corpus of statistical data, which can be queried and joined with other statistics. For example, we can query the  median income of women living in Berkeley, California or the number of individuals who are insured in Maryland. \n",
        "\n",
        "Before we explore how to do this, we need to understand how Data Commons stores statistical data. In particular, there are two types of entities: [StatisticalVariable](https://browser.datacommons.org/kg?dcid=StatisticalVariable) and [StatVarObservation](https://browser.datacommons.org/kg?dcid=StatVarObservation).\n",
        "\n",
        "A StatisticalVariable represents any type of statistical metric that can be measured at a place and time. Some examples include: median income, median income of females, number of high school graduates, unemployment rate, prevalence of diabetes, essentially anything one might call a metric, statistic, or measure. A StatVarObservation represents an actual measurement of a StatisticalVariable in a given place and time.\n",
        "\n",
        "One example of a StatisticalVariable is the median age of people in San Antonio, Texas in 2014. The statistical metric, time, and place here are median age, 2014, and San Antonio respectively. A list of StatisticalVariables can be found [here](http://docs.datacommons.org/statistical_variables.html). To read more about StatisticalVariable and StatVarObservation, please see [representing_statistics.md](https://github.com/datacommonsorg/data/blob/master/docs/representing_statistics.md).\n",
        "\n",
        "Data Commons defines APIs allowing us to fetch data over these two types. To begin with, we can use the [**`build_multivariate_dataframe`**](https://docs.datacommons.org/api/pandas/multivariate_dataframe.html) function to build a dataframe with the latest StatVarObservations of multiple StatisticalVariables for multiple places.\n",
        "\n",
        "Now, we start of with some code snippets where we use the Data Commons API to pull out statistics from the Data Commons graph."
      ]
    },
    {
      "cell_type": "markdown",
      "metadata": {
        "id": "SbnQVUDN-CzH"
      },
      "source": [
        "## Demo 1 - List of all superfund sites\n",
        "\n",
        "In this first demo, we will be starting off by getting all the [superfund sites](https://en.wikipedia.org/wiki/List_of_Superfund_sites) that are located across the United States. Since, we will be fetching statistics from the United States, we have pre-defined the base place in variable `usa` with the value `country/USA`. \n",
        "\n",
        "Note: `country/USA` is a unique identifier to a node on the Data Commons Graph which defines [United States](https://datacommons.org/browser/country/USA)"
      ]
    },
    {
      "cell_type": "code",
      "execution_count": null,
      "metadata": {
        "id": "VqybWC6XKr6j",
        "cellView": "form"
      },
      "outputs": [],
      "source": [
        "#@title Select place types\n",
        "\n",
        "#@markdown *Select `Runtime > Run all` from the menu above after filling up the values.*\n",
        "\n",
        "#@markdown Select a geo-level for querying statistics. Select 'State' for a quick demo\n",
        "US_GEO_LEVEL = 'State' #@param [\"State\", \"Country\", \"County\"] {allow-input: true}"
      ]
    },
    {
      "cell_type": "markdown",
      "metadata": {
        "id": "t0VGnxiSR6aD"
      },
      "source": [
        "Now, that a GEO_LEVEL is selected for viewing different statistics, we shall fetch all the places within the GEO_LEVEL that are present in the Data Commons Graph.\n",
        "\n",
        "### Get places contained in the selected place type\n",
        "\n",
        "So, if \"State\" is selected as the GEO_LEVEL, we will get a list of Data Common Graph ids for all the States in the US. Where each place id refers to a unique node on the graph which describes the place with different constraint properties, like the `typeOf` place which quantifies if the place is a State, or other administrative division applicable. \n",
        "\n",
        "This is done using the [`get_places_in`](https://docs.datacommons.org/api/python/place_in.html) API method."
      ]
    },
    {
      "cell_type": "code",
      "execution_count": null,
      "metadata": {
        "id": "i8dsWq92MpzA",
        "colab": {
          "base_uri": "https://localhost:8080/"
        },
        "outputId": "14ad9b3b-0253-4b3c-ca63-ba79b785999d"
      },
      "outputs": [
        {
          "output_type": "stream",
          "name": "stdout",
          "text": [
            "['geoId/01', 'geoId/02', 'geoId/04', 'geoId/05', 'geoId/06']\n"
          ]
        }
      ],
      "source": [
        "# get the dcids for all the places in the selected place type across US\n",
        "if US_GEO_LEVEL == 'Country':\n",
        "  # if geo-level is a country, then we look at the US\n",
        "  _PLACE_DCID = _USA\n",
        "else:\n",
        "  # else, we extract the place ids for the selected geo-level\n",
        "  _PLACE_DCID = dc.get_places_in([_USA], US_GEO_LEVEL)[_USA]\n",
        "\n",
        "# printing the first 5 places that we fetch from Data Commons\n",
        "if type(_PLACE_DCID) is list:\n",
        "    print(_PLACE_DCID[:5])\n",
        "else:\n",
        "    print(_PLACE_DCID)"
      ]
    },
    {
      "cell_type": "markdown",
      "metadata": {
        "id": "s71ffKOHdEsn"
      },
      "source": [
        "### Select a place by name\n",
        "\n",
        "While querying the Data Commons Graph for statistics about a place we will use a place's id like [`geoId/01`](https://datacommons.org/browser/geoId/01) is for the state of Alabama, US.\n",
        "\n",
        ">TIP: While looking to browse the statistics available for a particular place, one can use the URL constructed as `https://datacommons.org/browser/<place_dcid>`. Here `<place_dcid>` refers to the unique id for a node in the above example, it will be `geoId/01`.\n",
        "\n",
        "To make the queried place ids human-readable, we can extract the `name` property of the place node which can be searched on the [graph browser](https://datacommons.org/browser/geoId/01), using the [`get_property_values`](https://docs.datacommons.org/api/python/property_value.html) API method."
      ]
    },
    {
      "cell_type": "code",
      "execution_count": null,
      "metadata": {
        "id": "VcEKb7spT5rU",
        "colab": {
          "base_uri": "https://localhost:8080/",
          "height": 101,
          "referenced_widgets": [
            "e86121a3dee84467911d601c450f076f",
            "2f1164c04f504f80beb625de92bbfa17",
            "2e5a9eb31a424a8db158822f155d85db"
          ]
        },
        "outputId": "97fa64cf-d554-4199-f0fb-1a448b24baf6"
      },
      "outputs": [
        {
          "output_type": "stream",
          "name": "stdout",
          "text": [
            "Fetching the place will take time based on the summary level and number of place nodes.....Done.\n",
            "\n",
            "Select a place from the list to use for the remainder of the notebook.\n"
          ]
        },
        {
          "output_type": "display_data",
          "data": {
            "application/vnd.jupyter.widget-view+json": {
              "model_id": "e86121a3dee84467911d601c450f076f",
              "version_minor": 0,
              "version_major": 2
            },
            "text/plain": [
              "Dropdown(options=('Alabama', 'Alaska', 'Arizona', 'Arkansas', 'California', 'Colorado', 'Connecticut', 'Delawa…"
            ]
          },
          "metadata": {}
        }
      ],
      "source": [
        "# populate a list of options based on name for non-country GEO-LEVELS\n",
        "\n",
        "def get_names_for_place_ids(place_id_list):\n",
        "  \"\"\"\n",
        "  This function takes as input a list of place ids and returns the corresponding place names from the Data Commons Graph\n",
        "  \"\"\"\n",
        "  print(\"Fetching the place will take time based on the summary level and number of place nodes\", end=\".....\", flush=True)\n",
        "  try:\n",
        "    # get the place names for non-country GEO-LEVELS\n",
        "    place_name_list = [dc.get_property_values([place_id], 'name')[place_id][0] for place_id in place_id_list]\n",
        "  except:\n",
        "    place_name_list = dc.get_property_values([_USA], 'name')[_USA]\n",
        "\n",
        "  print('Done.\\n', flush=True)\n",
        "  return place_name_list\n",
        "\n",
        "_PLACE_NAMES = get_names_for_place_ids(_PLACE_DCID)\n",
        "\n",
        "print(\"Select a place from the list to use for the remainder of the notebook.\")\n",
        "selected_place = widgets.Dropdown(options=_PLACE_NAMES, value=_PLACE_NAMES[0])\n",
        "display(selected_place)"
      ]
    },
    {
      "cell_type": "code",
      "execution_count": null,
      "metadata": {
        "id": "kexiYzYvT5-l"
      },
      "outputs": [],
      "source": [
        "# get the value of the selected place from the drop-down\n",
        "selected_place_choice = selected_place.value\n",
        "\n",
        "# get the place's id on the Data Commons Graph by name\n",
        "if type(_PLACE_DCID) == list:\n",
        "  place_dcid = _PLACE_DCID[_PLACE_NAMES.index(selected_place_choice)]\n",
        "else:\n",
        "  place_dcid = _PLACE_DCID"
      ]
    },
    {
      "cell_type": "code",
      "execution_count": null,
      "metadata": {
        "id": "b9tRRw_JT6G5",
        "colab": {
          "base_uri": "https://localhost:8080/",
          "height": 35
        },
        "outputId": "bb208982-dba0-4845-f395-dd117d77d0b2"
      },
      "outputs": [
        {
          "output_type": "execute_result",
          "data": {
            "application/vnd.google.colaboratory.intrinsic+json": {
              "type": "string"
            },
            "text/plain": [
              "'geoId/01'"
            ]
          },
          "metadata": {},
          "execution_count": 6
        }
      ],
      "source": [
        "place_dcid"
      ]
    },
    {
      "cell_type": "markdown",
      "metadata": {
        "id": "Xx9lfzi8hJLP"
      },
      "source": [
        "### Get all superfund sites (by id) in the selected place\n",
        "\n",
        "Now, let us get a list of all the superfund sites that are found in the selected place.\n",
        "\n",
        "For this we use the [`get_places_in`](https://docs.datacommons.org/api/python/place_in.html) API method but set the placeType or the second argument to the function call to be [`SuperfundSite`](https://datacommons.org/browser/SuperfundSite)\n",
        "\n",
        "---\n",
        "\n"
      ]
    },
    {
      "cell_type": "code",
      "execution_count": null,
      "metadata": {
        "id": "8ceIHqoy9wa3",
        "colab": {
          "base_uri": "https://localhost:8080/"
        },
        "outputId": "04274c8d-a742-4a4d-b1e8-9337583dd8a3"
      },
      "outputs": [
        {
          "output_type": "execute_result",
          "data": {
            "text/plain": [
              "['epaSuperfundSiteId/AL3210020027',\n",
              " 'epaSuperfundSiteId/AL6210020008',\n",
              " 'epaSuperfundSiteId/AL7210020742',\n",
              " 'epaSuperfundSiteId/ALD001221902',\n",
              " 'epaSuperfundSiteId/ALD004022448']"
            ]
          },
          "metadata": {},
          "execution_count": 17
        }
      ],
      "source": [
        "superfund_sites = dc.get_places_in([place_dcid], 'SuperfundSite')[place_dcid]\n",
        "\n",
        "# printing the first 5 superfund sites that we fetch from Data Commons\n",
        "superfund_sites[:5]"
      ]
    },
    {
      "cell_type": "markdown",
      "metadata": {
        "id": "o2AOdt78qUg_"
      },
      "source": [
        "### Get all superfund sites (by name) in the selected place\n",
        "\n",
        "Similar to how the place names were looked up for place dcids associated with a geo-level, the same to fetch names of superfund sites, as shown in this snippet of code."
      ]
    },
    {
      "cell_type": "code",
      "execution_count": null,
      "metadata": {
        "id": "CsCeNsjFRhzp",
        "colab": {
          "base_uri": "https://localhost:8080/"
        },
        "outputId": "3f28301f-dbc5-49ba-bc1c-cd0618d9f94d"
      },
      "outputs": [
        {
          "output_type": "stream",
          "name": "stdout",
          "text": [
            "Fetching the place will take time based on the summary level and number of place nodes.....Done.\n",
            "\n"
          ]
        },
        {
          "output_type": "execute_result",
          "data": {
            "text/plain": [
              "['Anniston Army Depot (Southeast Industrial Area)',\n",
              " 'Alabama Army Ammunition Plant',\n",
              " 'Redstone Arsenal (USARMY/NASA)',\n",
              " 'Ciba-Geigy Corp. (McIntosh Plant)',\n",
              " 'Alabama Plating Company Inc.']"
            ]
          },
          "metadata": {},
          "execution_count": 18
        }
      ],
      "source": [
        "# get names for superfund sites in the selected place\n",
        "site_names = get_names_for_place_ids(superfund_sites)\n",
        "\n",
        "# printing the names of first 5 superfund sites that we fetch from Data Commons\n",
        "site_names[:5]"
      ]
    },
    {
      "cell_type": "markdown",
      "metadata": {
        "id": "zxRBNf5s-JzS"
      },
      "source": [
        "## Demo 2 - Pick a property for all superfund sites\n",
        "\n",
        "In this demo example, we continue exploring a superfund site node.\n",
        "\n",
        "### Select a superfund site"
      ]
    },
    {
      "cell_type": "code",
      "execution_count": null,
      "metadata": {
        "id": "8h6ktcK2vQGd",
        "colab": {
          "base_uri": "https://localhost:8080/",
          "height": 66,
          "referenced_widgets": [
            "8794d888dc834c1cad49e577a95736a4",
            "e1eb411fba2a42b783282223aa7c6ce7",
            "d5670d1d5dda4c479d70627d752ba8c1"
          ]
        },
        "outputId": "1373981f-4c0a-4054-86bc-8353f0405614"
      },
      "outputs": [
        {
          "output_type": "stream",
          "name": "stdout",
          "text": [
            "Select a superfund site from the list to use for the remainder of the notebook.\n"
          ]
        },
        {
          "output_type": "display_data",
          "data": {
            "application/vnd.jupyter.widget-view+json": {
              "model_id": "8794d888dc834c1cad49e577a95736a4",
              "version_minor": 0,
              "version_major": 2
            },
            "text/plain": [
              "Dropdown(options=('Anniston Army Depot (Southeast Industrial Area)', 'Alabama Army Ammunition Plant', 'Redston…"
            ]
          },
          "metadata": {}
        }
      ],
      "source": [
        "print(\"Select a superfund site from the list to use for the remainder of the notebook.\")\n",
        "selected_site = widgets.Dropdown(options=site_names, value=site_names[0])\n",
        "display(selected_site)"
      ]
    },
    {
      "cell_type": "code",
      "execution_count": null,
      "metadata": {
        "id": "LqizAnV5vkCn",
        "colab": {
          "base_uri": "https://localhost:8080/",
          "height": 35
        },
        "outputId": "b117b668-f79d-45ee-c7ed-c18f98ad4a3c"
      },
      "outputs": [
        {
          "output_type": "execute_result",
          "data": {
            "application/vnd.google.colaboratory.intrinsic+json": {
              "type": "string"
            },
            "text/plain": [
              "'epaSuperfundSiteId/AL3210020027'"
            ]
          },
          "metadata": {},
          "execution_count": 20
        }
      ],
      "source": [
        "# get the value of the selected place from the drop-down\n",
        "selected_site_choice = selected_site.value\n",
        "\n",
        "# get the place's id on the Data Commons Graph by name\n",
        "site_dcid = superfund_sites[site_names.index(selected_site_choice)]\n",
        "\n",
        "# print the site_dcid\n",
        "site_dcid"
      ]
    },
    {
      "cell_type": "markdown",
      "metadata": {
        "id": "Y2xWmEdVv_Hg"
      },
      "source": [
        "### Understanding how superfund sites are represented in Data Commons\n",
        "\n",
        "\n",
        "Let us start by getting all the properties a superfund site node has in the Data Commons Graph.\n",
        "\n",
        "For example the [Tar Creek](https://datacommons.org/browser/epaSuperfundSiteId/OKD980629844) superfund site has the following properties:\n",
        "1. 'containedInPlace' - list of places within which the site is contained. Example: Ottawa County, Oklahoma State, US.\n",
        "2. 'epaRegionCode' - integer value representing the epaRegionCode for the site. For Tar Creek, the EPA region is 9.\n",
        "3. 'epaSuperfundSiteId' - a unique identifier property for each site, which is constructed by prefixing the EPA ID for a superfund site with `epaSuperfundSiteId`. For Tar Creek, this property has the value `epaSuperfundSiteId/OKD980629844`\n",
        "4. 'location' - An autogenearted node reference which is generated using the latitude and longitude of the site\n",
        "5. 'name' - name of the site\n",
        "6. 'typeOf' - indicates the type of the node: `SuperfundSite`\n",
        "7. 'provenance' - indicates the domain for the dataset source to generate the triple of (subject, predicate, object) \n",
        "\n",
        "For any node on the Data Commons Graph, the properties it has can be queried using the [`get_property_labels`](https://docs.datacommons.org/api/python/property_label.html) API method."
      ]
    },
    {
      "cell_type": "code",
      "execution_count": null,
      "metadata": {
        "id": "dLq0ZVZM-PHr",
        "colab": {
          "base_uri": "https://localhost:8080/"
        },
        "outputId": "82149662-7f8f-4148-aa3a-72d8b5256a9b"
      },
      "outputs": [
        {
          "output_type": "execute_result",
          "data": {
            "text/plain": [
              "{'epaSuperfundSiteId/AL3210020027': ['containedInPlace',\n",
              "  'epaRegionCode',\n",
              "  'epaSuperfundSiteId',\n",
              "  'establishmentOwnership',\n",
              "  'location',\n",
              "  'name',\n",
              "  'provenance',\n",
              "  'typeOf']}"
            ]
          },
          "metadata": {},
          "execution_count": 21
        }
      ],
      "source": [
        "dc.get_property_labels([site_dcid], out=True)"
      ]
    },
    {
      "cell_type": "markdown",
      "metadata": {
        "id": "GkDR0tlWvEtQ"
      },
      "source": [
        "### Get values of properties of a superfund site\n",
        "\n",
        "Similar to getting the properties of superfund site, it is also possible to get the values associated with the different properties. \n",
        "\n",
        "To get the values associated with the properties for the selected superfund site, we use the [`get_property_values`](https://docs.datacommons.org/api/python/property_label.html) API method.\n",
        "\n",
        "For example, let us see the values for the `containedInPlace` property which gives a list of places within which the superfund site lies in:"
      ]
    },
    {
      "cell_type": "code",
      "execution_count": null,
      "metadata": {
        "id": "KUeehObcQ49-",
        "colab": {
          "base_uri": "https://localhost:8080/"
        },
        "outputId": "10057c88-dadc-4fdb-9cd7-7c8a585d25fe"
      },
      "outputs": [
        {
          "output_type": "execute_result",
          "data": {
            "text/plain": [
              "{'epaSuperfundSiteId/AL3210020027': ['geoId/01',\n",
              "  'geoId/01015',\n",
              "  'geoId/0101590099',\n",
              "  'geoId/01015981901',\n",
              "  'geoId/0103']}"
            ]
          },
          "metadata": {},
          "execution_count": 22
        }
      ],
      "source": [
        "dc.get_property_values([site_dcid], prop='containedInPlace', out=True)"
      ]
    },
    {
      "cell_type": "markdown",
      "metadata": {
        "id": "48YFNK-RcaT8"
      },
      "source": [
        "The values of `containedInPlace` is a list of the places ids in Data Commons. We can do another query on the list of places to get their names using the same API, as shown in this example,"
      ]
    },
    {
      "cell_type": "code",
      "execution_count": null,
      "metadata": {
        "id": "DI28GsHOCcGL",
        "colab": {
          "base_uri": "https://localhost:8080/"
        },
        "outputId": "5a12c3d7-f86b-47ee-dea5-20062d0bbb35"
      },
      "outputs": [
        {
          "output_type": "execute_result",
          "data": {
            "text/plain": [
              "{'geoId/01': ['Alabama'],\n",
              " 'geoId/01015': ['Calhoun County'],\n",
              " 'geoId/0101590099': ['Anniston CCD', 'Anniston CCD, Calhoun County, Alabama'],\n",
              " 'geoId/01015981901': ['Census Tract 9819.01, Calhoun County, Alabama'],\n",
              " 'geoId/0103': ['Congressional District 3 (113th Congress), Alabama']}"
            ]
          },
          "metadata": {},
          "execution_count": 23
        }
      ],
      "source": [
        "## get a list of places for containedInPlace\n",
        "contained_places = dc.get_property_values([site_dcid], prop='containedInPlace', out=True)[site_dcid]\n",
        "dc.get_property_values(contained_places, prop='name', out=True)"
      ]
    },
    {
      "cell_type": "markdown",
      "metadata": {
        "id": "IYSLPSYy4vgl"
      },
      "source": [
        "Similarly, we can see the type of place using the `typeOf` property for the above example"
      ]
    },
    {
      "cell_type": "code",
      "execution_count": null,
      "metadata": {
        "id": "QLsiziy744wM",
        "colab": {
          "base_uri": "https://localhost:8080/"
        },
        "outputId": "25b305fb-dab3-49e6-9f76-37ab84619a4d"
      },
      "outputs": [
        {
          "output_type": "execute_result",
          "data": {
            "text/plain": [
              "{'geoId/01': ['AdministrativeArea1', 'State'],\n",
              " 'geoId/01015': ['AdministrativeArea2', 'County'],\n",
              " 'geoId/0101590099': ['CensusCountyDivision'],\n",
              " 'geoId/01015981901': ['CensusTract'],\n",
              " 'geoId/0103': ['CongressionalDistrict']}"
            ]
          },
          "metadata": {},
          "execution_count": 24
        }
      ],
      "source": [
        "contained_places = dc.get_property_values([site_dcid], prop='containedInPlace', out=True)[site_dcid]\n",
        "dc.get_property_values(contained_places, prop='typeOf', out=True)"
      ]
    },
    {
      "cell_type": "markdown",
      "metadata": {
        "id": "cv5z6QAOw6hE"
      },
      "source": [
        "### Loading values into a pandas dataframe\n",
        "\n",
        "We can extend this example to make a `pandas` dataframe where we populate the different properties of the superfund site nodes as columns for all sites across the US.\n",
        "\n",
        "The following block of code, serves as a recap to the different API methods that were introduced thus far;"
      ]
    },
    {
      "cell_type": "code",
      "execution_count": null,
      "metadata": {
        "colab": {
          "base_uri": "https://localhost:8080/",
          "height": 548
        },
        "id": "9Wujk2KMxUpP",
        "outputId": "d1bbd03c-4871-4b9b-c3ad-b7cfdd3fd503"
      },
      "outputs": [
        {
          "output_type": "stream",
          "name": "stdout",
          "text": [
            "This method will take some time since the API queries depend on number of sites ..................................................................................................................................Done.\n"
          ]
        },
        {
          "output_type": "execute_result",
          "data": {
            "text/html": [
              "\n",
              "  <div id=\"df-f9aac7f0-c429-434f-86ab-437b1b60bc86\">\n",
              "    <div class=\"colab-df-container\">\n",
              "      <div>\n",
              "<style scoped>\n",
              "    .dataframe tbody tr th:only-of-type {\n",
              "        vertical-align: middle;\n",
              "    }\n",
              "\n",
              "    .dataframe tbody tr th {\n",
              "        vertical-align: top;\n",
              "    }\n",
              "\n",
              "    .dataframe thead th {\n",
              "        text-align: right;\n",
              "    }\n",
              "</style>\n",
              "<table border=\"1\" class=\"dataframe\">\n",
              "  <thead>\n",
              "    <tr style=\"text-align: right;\">\n",
              "      <th></th>\n",
              "      <th>containedInPlace</th>\n",
              "      <th>epaRegionCode</th>\n",
              "      <th>epaSuperfundSiteId</th>\n",
              "      <th>establishmentOwnership</th>\n",
              "      <th>latitude</th>\n",
              "      <th>longitude</th>\n",
              "      <th>name</th>\n",
              "      <th>provenance</th>\n",
              "      <th>typeOf</th>\n",
              "    </tr>\n",
              "  </thead>\n",
              "  <tbody>\n",
              "    <tr>\n",
              "      <th>0</th>\n",
              "      <td>[geoId/01, geoId/01015, geoId/0101590099, geoI...</td>\n",
              "      <td>4</td>\n",
              "      <td>AL3210020027</td>\n",
              "      <td>FederalGovernmentOwned</td>\n",
              "      <td>33.659439</td>\n",
              "      <td>-85.969439</td>\n",
              "      <td>Anniston Army Depot (Southeast Industrial Area)</td>\n",
              "      <td>dc/999wb02</td>\n",
              "      <td>SuperfundSite</td>\n",
              "    </tr>\n",
              "    <tr>\n",
              "      <th>1</th>\n",
              "      <td>[geoId/01, geoId/0103, geoId/01121, geoId/0112...</td>\n",
              "      <td>4</td>\n",
              "      <td>AL6210020008</td>\n",
              "      <td>FederalGovernmentOwned</td>\n",
              "      <td>33.3381</td>\n",
              "      <td>-86.3268</td>\n",
              "      <td>Alabama Army Ammunition Plant</td>\n",
              "      <td>dc/999wb02</td>\n",
              "      <td>SuperfundSite</td>\n",
              "    </tr>\n",
              "    <tr>\n",
              "      <th>2</th>\n",
              "      <td>[geoId/01, geoId/0105, geoId/01089, geoId/0108...</td>\n",
              "      <td>4</td>\n",
              "      <td>AL7210020742</td>\n",
              "      <td>FederalGovernmentOwned</td>\n",
              "      <td>34.646944</td>\n",
              "      <td>-86.673055</td>\n",
              "      <td>Redstone Arsenal (USARMY/NASA)</td>\n",
              "      <td>dc/999wb02</td>\n",
              "      <td>SuperfundSite</td>\n",
              "    </tr>\n",
              "    <tr>\n",
              "      <th>3</th>\n",
              "      <td>[geoId/01, geoId/0101, geoId/01129, geoId/0112...</td>\n",
              "      <td>4</td>\n",
              "      <td>ALD001221902</td>\n",
              "      <td>PrivatelyOwned</td>\n",
              "      <td>31.279</td>\n",
              "      <td>-87.9955</td>\n",
              "      <td>Ciba-Geigy Corp. (McIntosh Plant)</td>\n",
              "      <td>dc/999wb02</td>\n",
              "      <td>SuperfundSite</td>\n",
              "    </tr>\n",
              "    <tr>\n",
              "      <th>4</th>\n",
              "      <td>[geoId/01, geoId/0106, geoId/01117, geoId/0111...</td>\n",
              "      <td>4</td>\n",
              "      <td>ALD004022448</td>\n",
              "      <td>PrivatelyOwned</td>\n",
              "      <td>33.399722</td>\n",
              "      <td>-86.405</td>\n",
              "      <td>Alabama Plating Company Inc.</td>\n",
              "      <td>dc/999wb02</td>\n",
              "      <td>SuperfundSite</td>\n",
              "    </tr>\n",
              "  </tbody>\n",
              "</table>\n",
              "</div>\n",
              "      <button class=\"colab-df-convert\" onclick=\"convertToInteractive('df-f9aac7f0-c429-434f-86ab-437b1b60bc86')\"\n",
              "              title=\"Convert this dataframe to an interactive table.\"\n",
              "              style=\"display:none;\">\n",
              "        \n",
              "  <svg xmlns=\"http://www.w3.org/2000/svg\" height=\"24px\"viewBox=\"0 0 24 24\"\n",
              "       width=\"24px\">\n",
              "    <path d=\"M0 0h24v24H0V0z\" fill=\"none\"/>\n",
              "    <path d=\"M18.56 5.44l.94 2.06.94-2.06 2.06-.94-2.06-.94-.94-2.06-.94 2.06-2.06.94zm-11 1L8.5 8.5l.94-2.06 2.06-.94-2.06-.94L8.5 2.5l-.94 2.06-2.06.94zm10 10l.94 2.06.94-2.06 2.06-.94-2.06-.94-.94-2.06-.94 2.06-2.06.94z\"/><path d=\"M17.41 7.96l-1.37-1.37c-.4-.4-.92-.59-1.43-.59-.52 0-1.04.2-1.43.59L10.3 9.45l-7.72 7.72c-.78.78-.78 2.05 0 2.83L4 21.41c.39.39.9.59 1.41.59.51 0 1.02-.2 1.41-.59l7.78-7.78 2.81-2.81c.8-.78.8-2.07 0-2.86zM5.41 20L4 18.59l7.72-7.72 1.47 1.35L5.41 20z\"/>\n",
              "  </svg>\n",
              "      </button>\n",
              "      \n",
              "  <style>\n",
              "    .colab-df-container {\n",
              "      display:flex;\n",
              "      flex-wrap:wrap;\n",
              "      gap: 12px;\n",
              "    }\n",
              "\n",
              "    .colab-df-convert {\n",
              "      background-color: #E8F0FE;\n",
              "      border: none;\n",
              "      border-radius: 50%;\n",
              "      cursor: pointer;\n",
              "      display: none;\n",
              "      fill: #1967D2;\n",
              "      height: 32px;\n",
              "      padding: 0 0 0 0;\n",
              "      width: 32px;\n",
              "    }\n",
              "\n",
              "    .colab-df-convert:hover {\n",
              "      background-color: #E2EBFA;\n",
              "      box-shadow: 0px 1px 2px rgba(60, 64, 67, 0.3), 0px 1px 3px 1px rgba(60, 64, 67, 0.15);\n",
              "      fill: #174EA6;\n",
              "    }\n",
              "\n",
              "    [theme=dark] .colab-df-convert {\n",
              "      background-color: #3B4455;\n",
              "      fill: #D2E3FC;\n",
              "    }\n",
              "\n",
              "    [theme=dark] .colab-df-convert:hover {\n",
              "      background-color: #434B5C;\n",
              "      box-shadow: 0px 1px 3px 1px rgba(0, 0, 0, 0.15);\n",
              "      filter: drop-shadow(0px 1px 2px rgba(0, 0, 0, 0.3));\n",
              "      fill: #FFFFFF;\n",
              "    }\n",
              "  </style>\n",
              "\n",
              "      <script>\n",
              "        const buttonEl =\n",
              "          document.querySelector('#df-f9aac7f0-c429-434f-86ab-437b1b60bc86 button.colab-df-convert');\n",
              "        buttonEl.style.display =\n",
              "          google.colab.kernel.accessAllowed ? 'block' : 'none';\n",
              "\n",
              "        async function convertToInteractive(key) {\n",
              "          const element = document.querySelector('#df-f9aac7f0-c429-434f-86ab-437b1b60bc86');\n",
              "          const dataTable =\n",
              "            await google.colab.kernel.invokeFunction('convertToInteractive',\n",
              "                                                     [key], {});\n",
              "          if (!dataTable) return;\n",
              "\n",
              "          const docLinkHtml = 'Like what you see? Visit the ' +\n",
              "            '<a target=\"_blank\" href=https://colab.research.google.com/notebooks/data_table.ipynb>data table notebook</a>'\n",
              "            + ' to learn more about interactive tables.';\n",
              "          element.innerHTML = '';\n",
              "          dataTable['output_type'] = 'display_data';\n",
              "          await google.colab.output.renderOutput(dataTable, element);\n",
              "          const docLink = document.createElement('div');\n",
              "          docLink.innerHTML = docLinkHtml;\n",
              "          element.appendChild(docLink);\n",
              "        }\n",
              "      </script>\n",
              "    </div>\n",
              "  </div>\n",
              "  "
            ],
            "text/plain": [
              "                                    containedInPlace epaRegionCode  \\\n",
              "0  [geoId/01, geoId/01015, geoId/0101590099, geoI...             4   \n",
              "1  [geoId/01, geoId/0103, geoId/01121, geoId/0112...             4   \n",
              "2  [geoId/01, geoId/0105, geoId/01089, geoId/0108...             4   \n",
              "3  [geoId/01, geoId/0101, geoId/01129, geoId/0112...             4   \n",
              "4  [geoId/01, geoId/0106, geoId/01117, geoId/0111...             4   \n",
              "\n",
              "  epaSuperfundSiteId  establishmentOwnership   latitude   longitude  \\\n",
              "0       AL3210020027  FederalGovernmentOwned  33.659439  -85.969439   \n",
              "1       AL6210020008  FederalGovernmentOwned    33.3381    -86.3268   \n",
              "2       AL7210020742  FederalGovernmentOwned  34.646944  -86.673055   \n",
              "3       ALD001221902          PrivatelyOwned     31.279    -87.9955   \n",
              "4       ALD004022448          PrivatelyOwned  33.399722     -86.405   \n",
              "\n",
              "                                              name  provenance         typeOf  \n",
              "0  Anniston Army Depot (Southeast Industrial Area)  dc/999wb02  SuperfundSite  \n",
              "1                    Alabama Army Ammunition Plant  dc/999wb02  SuperfundSite  \n",
              "2                   Redstone Arsenal (USARMY/NASA)  dc/999wb02  SuperfundSite  \n",
              "3                Ciba-Geigy Corp. (McIntosh Plant)  dc/999wb02  SuperfundSite  \n",
              "4                     Alabama Plating Company Inc.  dc/999wb02  SuperfundSite  "
            ]
          },
          "metadata": {},
          "execution_count": 25
        }
      ],
      "source": [
        "def populate_superfund_site_df(site_id_list):\n",
        "  \"\"\"\n",
        "  Populate a pandas dataframe based on the list of superfund site ids\n",
        "  \"\"\"\n",
        "  superfund_site_df = pd.DataFrame() # initalizing an empty dataframe\n",
        "  print(\"This method will take some time since the API queries depend on number of sites\", end=\" ...\", flush=True)\n",
        "  for site in site_id_list:\n",
        "    # get all the properties associated for a superfund site\n",
        "    site_props = dc.get_property_labels([site], out=True)[site]\n",
        "\n",
        "    # a dictionary to map a property to its corresponding value\n",
        "    row_dict = {}\n",
        "\n",
        "    # populate the row_dict map\n",
        "    for i in range(len(site_props)):\n",
        "      print(end=\".\")\n",
        "      # get all the values for each property associated with a superfund site\n",
        "      prop_val = dc.get_property_values([site], prop=site_props[i], out=True)[site]\n",
        "      # handle the case where containedInPlace is a list whereas the other props are string values\n",
        "      if site_props[i] == 'containedInPlace':\n",
        "        row_dict[site_props[i]] = prop_val\n",
        "      elif site_props[i] == 'location':\n",
        "        prop_val = ''.join(prop_val)\n",
        "        # location is an autogenerated internal node, and we will need an additional API call to get the latitude and longitude of the site\n",
        "        row_dict['latitude'] = dc.get_property_values([prop_val], prop=\"latitude\", out=True)[prop_val][0]\n",
        "        row_dict['longitude'] = dc.get_property_values([prop_val], prop=\"longitude\", out=True)[prop_val][0]\n",
        "      else:\n",
        "        row_dict[site_props[i]] = ''.join(prop_val)\n",
        "    # populate the dataframe\n",
        "    superfund_site_df = superfund_site_df.append(row_dict, ignore_index=True)\n",
        "  print(\"Done.\", flush=True)\n",
        "  return superfund_site_df\n",
        "\n",
        "\n",
        "site_df = populate_superfund_site_df(superfund_sites)\n",
        "site_df.head(5)"
      ]
    },
    {
      "cell_type": "markdown",
      "metadata": {
        "id": "_IjeSnmpdgZM"
      },
      "source": [
        "### Downloading csv files from this colab\n",
        "\n",
        "We can download different datasets from this colab to a csv file for offline processing. The following snippet of code will select the columns `epaSuperfundSiteId`, `name`, `latitude` and `longitude` to make a csv file which can be downloaded"
      ]
    },
    {
      "cell_type": "code",
      "execution_count": null,
      "metadata": {
        "colab": {
          "base_uri": "https://localhost:8080/",
          "height": 17
        },
        "id": "Uv-IQkJad410",
        "outputId": "2813c57d-42f3-43f3-f6b2-e654e71b9a57"
      },
      "outputs": [
        {
          "output_type": "display_data",
          "data": {
            "application/javascript": [
              "\n",
              "    async function download(id, filename, size) {\n",
              "      if (!google.colab.kernel.accessAllowed) {\n",
              "        return;\n",
              "      }\n",
              "      const div = document.createElement('div');\n",
              "      const label = document.createElement('label');\n",
              "      label.textContent = `Downloading \"${filename}\": `;\n",
              "      div.appendChild(label);\n",
              "      const progress = document.createElement('progress');\n",
              "      progress.max = size;\n",
              "      div.appendChild(progress);\n",
              "      document.body.appendChild(div);\n",
              "\n",
              "      const buffers = [];\n",
              "      let downloaded = 0;\n",
              "\n",
              "      const channel = await google.colab.kernel.comms.open(id);\n",
              "      // Send a message to notify the kernel that we're ready.\n",
              "      channel.send({})\n",
              "\n",
              "      for await (const message of channel.messages) {\n",
              "        // Send a message to notify the kernel that we're ready.\n",
              "        channel.send({})\n",
              "        if (message.buffers) {\n",
              "          for (const buffer of message.buffers) {\n",
              "            buffers.push(buffer);\n",
              "            downloaded += buffer.byteLength;\n",
              "            progress.value = downloaded;\n",
              "          }\n",
              "        }\n",
              "      }\n",
              "      const blob = new Blob(buffers, {type: 'application/binary'});\n",
              "      const a = document.createElement('a');\n",
              "      a.href = window.URL.createObjectURL(blob);\n",
              "      a.download = filename;\n",
              "      div.appendChild(a);\n",
              "      a.click();\n",
              "      div.remove();\n",
              "    }\n",
              "  "
            ],
            "text/plain": [
              "<IPython.core.display.Javascript object>"
            ]
          },
          "metadata": {}
        },
        {
          "output_type": "display_data",
          "data": {
            "application/javascript": [
              "download(\"download_cea8e883-1268-411c-9ea8-1c7f18d89ab4\", \"superfund_sites_locations_in_Alabama.csv\", 1056)"
            ],
            "text/plain": [
              "<IPython.core.display.Javascript object>"
            ]
          },
          "metadata": {}
        }
      ],
      "source": [
        "# filter `site_df` dataframe to required columns\n",
        "required_cols = ['epaSuperfundSiteId', 'name', 'latitude', 'longitude']\n",
        "sites_filtered = site_df[required_cols]\n",
        "sites_filtered.to_csv(f\"./superfund_sites_locations_in_{selected_place_choice}.csv\", index=False)\n",
        "\n",
        "# direct download with script\n",
        "from google.colab import files\n",
        "files.download(f\"./superfund_sites_locations_in_{selected_place_choice}.csv\") "
      ]
    },
    {
      "cell_type": "markdown",
      "metadata": {
        "id": "CWiXXJjMe1ab"
      },
      "source": [
        "> TIP: alternatively, one can download files in a no-code way by clickling on the 📁 icon for viewing the files associated with this colab, and click the `menu` shown with three-dots to `Downlaod` the file.\n",
        "\n",
        "### Visualizing the superfund sites on an external map (plotly)\n",
        "\n",
        "Now, that we have extracted all the values associated with a superfund site, we can visualize each superfund site on a map. \n",
        "\n",
        "Visualizations can be made using different plotting libraries like `plotly`, `bokeh` etc. In this example, we view the location of the superfund sites in the selected place using `plotly`. \n",
        "\n",
        "> NOTE: The basemap is a low-res world map, please zoom to the appropriate zoom level to view the plots better."
      ]
    },
    {
      "cell_type": "code",
      "execution_count": null,
      "metadata": {
        "colab": {
          "base_uri": "https://localhost:8080/",
          "height": 542
        },
        "id": "cdv6gMAdxK2d",
        "outputId": "27b91465-8c88-4181-ff7f-700f90af85af"
      },
      "outputs": [
        {
          "output_type": "display_data",
          "data": {
            "text/html": [
              "<html>\n",
              "<head><meta charset=\"utf-8\" /></head>\n",
              "<body>\n",
              "    <div>            <script src=\"https://cdnjs.cloudflare.com/ajax/libs/mathjax/2.7.5/MathJax.js?config=TeX-AMS-MML_SVG\"></script><script type=\"text/javascript\">if (window.MathJax) {MathJax.Hub.Config({SVG: {font: \"STIX-Web\"}});}</script>                <script type=\"text/javascript\">window.PlotlyConfig = {MathJaxConfig: 'local'};</script>\n",
              "        <script src=\"https://cdn.plot.ly/plotly-2.9.0.min.js\"></script>                <div id=\"3dc8e327-8dac-44bd-ba13-a361ceaa745e\" class=\"plotly-graph-div\" style=\"height:525px; width:100%;\"></div>            <script type=\"text/javascript\">                                    window.PLOTLYENV=window.PLOTLYENV || {};                                    if (document.getElementById(\"3dc8e327-8dac-44bd-ba13-a361ceaa745e\")) {                    Plotly.newPlot(                        \"3dc8e327-8dac-44bd-ba13-a361ceaa745e\",                        [{\"geo\":\"geo\",\"hovertemplate\":\"<b>%{hovertext}</b><br><br>latitude=%{lat}<br>longitude=%{lon}<extra></extra>\",\"hovertext\":[\"Anniston Army Depot (Southeast Industrial Area)\",\"Alabama Army Ammunition Plant\",\"Redstone Arsenal (USARMY/NASA)\",\"Ciba-Geigy Corp. (McIntosh Plant)\",\"Alabama Plating Company Inc.\",\"T.H. Agriculture & Nutrition Co. (Montgomery Plant)\",\"Stauffer Chemical Co. (LeMoyne Plant)\",\"Olin Corp. (McIntosh Plant)\",\"Mowbray Engineering Co.\",\"Interstate Lead Co. (ILCO)\",\"Stauffer Chemical Co. (Cold Creek Plant)\",\"Perdido Ground Water Contamination\",\"Redwing Carriers Inc. (Saraland)\",\"American Brass\",\"Triana/Tennessee River\",\"35th Avenue\"],\"lat\":[\"33.659439\",\"33.3381\",\"34.646944\",\"31.279\",\"33.399722\",\"32.3761\",\"30.969439\",\"31.263889\",\"31.831669\",\"33.688889\",\"30.975\",\"31.0125\",\"30.808331\",\"31.325\",\"34.508888\",\"33.557464\"],\"legendgroup\":\"\",\"lon\":[\"-85.969439\",\"-86.3268\",\"-86.673055\",\"-87.9955\",\"-86.405\",\"-86.3791\",\"-88.0175\",\"-87.99445\",\"-86.61305\",\"-86.633333\",\"-88.021389\",\"-87.625\",\"-88.073061\",\"-85.404167\",\"-86.638194\",\"-86.799671\"],\"marker\":{\"color\":\"#636efa\",\"symbol\":\"circle\"},\"mode\":\"markers\",\"name\":\"\",\"showlegend\":false,\"type\":\"scattergeo\"}],                        {\"template\":{\"data\":{\"bar\":[{\"error_x\":{\"color\":\"#2a3f5f\"},\"error_y\":{\"color\":\"#2a3f5f\"},\"marker\":{\"line\":{\"color\":\"#E5ECF6\",\"width\":0.5},\"pattern\":{\"fillmode\":\"overlay\",\"size\":10,\"solidity\":0.2}},\"type\":\"bar\"}],\"barpolar\":[{\"marker\":{\"line\":{\"color\":\"#E5ECF6\",\"width\":0.5},\"pattern\":{\"fillmode\":\"overlay\",\"size\":10,\"solidity\":0.2}},\"type\":\"barpolar\"}],\"carpet\":[{\"aaxis\":{\"endlinecolor\":\"#2a3f5f\",\"gridcolor\":\"white\",\"linecolor\":\"white\",\"minorgridcolor\":\"white\",\"startlinecolor\":\"#2a3f5f\"},\"baxis\":{\"endlinecolor\":\"#2a3f5f\",\"gridcolor\":\"white\",\"linecolor\":\"white\",\"minorgridcolor\":\"white\",\"startlinecolor\":\"#2a3f5f\"},\"type\":\"carpet\"}],\"choropleth\":[{\"colorbar\":{\"outlinewidth\":0,\"ticks\":\"\"},\"type\":\"choropleth\"}],\"contour\":[{\"colorbar\":{\"outlinewidth\":0,\"ticks\":\"\"},\"colorscale\":[[0.0,\"#0d0887\"],[0.1111111111111111,\"#46039f\"],[0.2222222222222222,\"#7201a8\"],[0.3333333333333333,\"#9c179e\"],[0.4444444444444444,\"#bd3786\"],[0.5555555555555556,\"#d8576b\"],[0.6666666666666666,\"#ed7953\"],[0.7777777777777778,\"#fb9f3a\"],[0.8888888888888888,\"#fdca26\"],[1.0,\"#f0f921\"]],\"type\":\"contour\"}],\"contourcarpet\":[{\"colorbar\":{\"outlinewidth\":0,\"ticks\":\"\"},\"type\":\"contourcarpet\"}],\"heatmap\":[{\"colorbar\":{\"outlinewidth\":0,\"ticks\":\"\"},\"colorscale\":[[0.0,\"#0d0887\"],[0.1111111111111111,\"#46039f\"],[0.2222222222222222,\"#7201a8\"],[0.3333333333333333,\"#9c179e\"],[0.4444444444444444,\"#bd3786\"],[0.5555555555555556,\"#d8576b\"],[0.6666666666666666,\"#ed7953\"],[0.7777777777777778,\"#fb9f3a\"],[0.8888888888888888,\"#fdca26\"],[1.0,\"#f0f921\"]],\"type\":\"heatmap\"}],\"heatmapgl\":[{\"colorbar\":{\"outlinewidth\":0,\"ticks\":\"\"},\"colorscale\":[[0.0,\"#0d0887\"],[0.1111111111111111,\"#46039f\"],[0.2222222222222222,\"#7201a8\"],[0.3333333333333333,\"#9c179e\"],[0.4444444444444444,\"#bd3786\"],[0.5555555555555556,\"#d8576b\"],[0.6666666666666666,\"#ed7953\"],[0.7777777777777778,\"#fb9f3a\"],[0.8888888888888888,\"#fdca26\"],[1.0,\"#f0f921\"]],\"type\":\"heatmapgl\"}],\"histogram\":[{\"marker\":{\"pattern\":{\"fillmode\":\"overlay\",\"size\":10,\"solidity\":0.2}},\"type\":\"histogram\"}],\"histogram2d\":[{\"colorbar\":{\"outlinewidth\":0,\"ticks\":\"\"},\"colorscale\":[[0.0,\"#0d0887\"],[0.1111111111111111,\"#46039f\"],[0.2222222222222222,\"#7201a8\"],[0.3333333333333333,\"#9c179e\"],[0.4444444444444444,\"#bd3786\"],[0.5555555555555556,\"#d8576b\"],[0.6666666666666666,\"#ed7953\"],[0.7777777777777778,\"#fb9f3a\"],[0.8888888888888888,\"#fdca26\"],[1.0,\"#f0f921\"]],\"type\":\"histogram2d\"}],\"histogram2dcontour\":[{\"colorbar\":{\"outlinewidth\":0,\"ticks\":\"\"},\"colorscale\":[[0.0,\"#0d0887\"],[0.1111111111111111,\"#46039f\"],[0.2222222222222222,\"#7201a8\"],[0.3333333333333333,\"#9c179e\"],[0.4444444444444444,\"#bd3786\"],[0.5555555555555556,\"#d8576b\"],[0.6666666666666666,\"#ed7953\"],[0.7777777777777778,\"#fb9f3a\"],[0.8888888888888888,\"#fdca26\"],[1.0,\"#f0f921\"]],\"type\":\"histogram2dcontour\"}],\"mesh3d\":[{\"colorbar\":{\"outlinewidth\":0,\"ticks\":\"\"},\"type\":\"mesh3d\"}],\"parcoords\":[{\"line\":{\"colorbar\":{\"outlinewidth\":0,\"ticks\":\"\"}},\"type\":\"parcoords\"}],\"pie\":[{\"automargin\":true,\"type\":\"pie\"}],\"scatter\":[{\"marker\":{\"colorbar\":{\"outlinewidth\":0,\"ticks\":\"\"}},\"type\":\"scatter\"}],\"scatter3d\":[{\"line\":{\"colorbar\":{\"outlinewidth\":0,\"ticks\":\"\"}},\"marker\":{\"colorbar\":{\"outlinewidth\":0,\"ticks\":\"\"}},\"type\":\"scatter3d\"}],\"scattercarpet\":[{\"marker\":{\"colorbar\":{\"outlinewidth\":0,\"ticks\":\"\"}},\"type\":\"scattercarpet\"}],\"scattergeo\":[{\"marker\":{\"colorbar\":{\"outlinewidth\":0,\"ticks\":\"\"}},\"type\":\"scattergeo\"}],\"scattergl\":[{\"marker\":{\"colorbar\":{\"outlinewidth\":0,\"ticks\":\"\"}},\"type\":\"scattergl\"}],\"scattermapbox\":[{\"marker\":{\"colorbar\":{\"outlinewidth\":0,\"ticks\":\"\"}},\"type\":\"scattermapbox\"}],\"scatterpolar\":[{\"marker\":{\"colorbar\":{\"outlinewidth\":0,\"ticks\":\"\"}},\"type\":\"scatterpolar\"}],\"scatterpolargl\":[{\"marker\":{\"colorbar\":{\"outlinewidth\":0,\"ticks\":\"\"}},\"type\":\"scatterpolargl\"}],\"scatterternary\":[{\"marker\":{\"colorbar\":{\"outlinewidth\":0,\"ticks\":\"\"}},\"type\":\"scatterternary\"}],\"surface\":[{\"colorbar\":{\"outlinewidth\":0,\"ticks\":\"\"},\"colorscale\":[[0.0,\"#0d0887\"],[0.1111111111111111,\"#46039f\"],[0.2222222222222222,\"#7201a8\"],[0.3333333333333333,\"#9c179e\"],[0.4444444444444444,\"#bd3786\"],[0.5555555555555556,\"#d8576b\"],[0.6666666666666666,\"#ed7953\"],[0.7777777777777778,\"#fb9f3a\"],[0.8888888888888888,\"#fdca26\"],[1.0,\"#f0f921\"]],\"type\":\"surface\"}],\"table\":[{\"cells\":{\"fill\":{\"color\":\"#EBF0F8\"},\"line\":{\"color\":\"white\"}},\"header\":{\"fill\":{\"color\":\"#C8D4E3\"},\"line\":{\"color\":\"white\"}},\"type\":\"table\"}]},\"layout\":{\"annotationdefaults\":{\"arrowcolor\":\"#2a3f5f\",\"arrowhead\":0,\"arrowwidth\":1},\"autotypenumbers\":\"strict\",\"coloraxis\":{\"colorbar\":{\"outlinewidth\":0,\"ticks\":\"\"}},\"colorscale\":{\"diverging\":[[0,\"#8e0152\"],[0.1,\"#c51b7d\"],[0.2,\"#de77ae\"],[0.3,\"#f1b6da\"],[0.4,\"#fde0ef\"],[0.5,\"#f7f7f7\"],[0.6,\"#e6f5d0\"],[0.7,\"#b8e186\"],[0.8,\"#7fbc41\"],[0.9,\"#4d9221\"],[1,\"#276419\"]],\"sequential\":[[0.0,\"#0d0887\"],[0.1111111111111111,\"#46039f\"],[0.2222222222222222,\"#7201a8\"],[0.3333333333333333,\"#9c179e\"],[0.4444444444444444,\"#bd3786\"],[0.5555555555555556,\"#d8576b\"],[0.6666666666666666,\"#ed7953\"],[0.7777777777777778,\"#fb9f3a\"],[0.8888888888888888,\"#fdca26\"],[1.0,\"#f0f921\"]],\"sequentialminus\":[[0.0,\"#0d0887\"],[0.1111111111111111,\"#46039f\"],[0.2222222222222222,\"#7201a8\"],[0.3333333333333333,\"#9c179e\"],[0.4444444444444444,\"#bd3786\"],[0.5555555555555556,\"#d8576b\"],[0.6666666666666666,\"#ed7953\"],[0.7777777777777778,\"#fb9f3a\"],[0.8888888888888888,\"#fdca26\"],[1.0,\"#f0f921\"]]},\"colorway\":[\"#636efa\",\"#EF553B\",\"#00cc96\",\"#ab63fa\",\"#FFA15A\",\"#19d3f3\",\"#FF6692\",\"#B6E880\",\"#FF97FF\",\"#FECB52\"],\"font\":{\"color\":\"#2a3f5f\"},\"geo\":{\"bgcolor\":\"white\",\"lakecolor\":\"white\",\"landcolor\":\"#E5ECF6\",\"showlakes\":true,\"showland\":true,\"subunitcolor\":\"white\"},\"hoverlabel\":{\"align\":\"left\"},\"hovermode\":\"closest\",\"mapbox\":{\"style\":\"light\"},\"paper_bgcolor\":\"white\",\"plot_bgcolor\":\"#E5ECF6\",\"polar\":{\"angularaxis\":{\"gridcolor\":\"white\",\"linecolor\":\"white\",\"ticks\":\"\"},\"bgcolor\":\"#E5ECF6\",\"radialaxis\":{\"gridcolor\":\"white\",\"linecolor\":\"white\",\"ticks\":\"\"}},\"scene\":{\"xaxis\":{\"backgroundcolor\":\"#E5ECF6\",\"gridcolor\":\"white\",\"gridwidth\":2,\"linecolor\":\"white\",\"showbackground\":true,\"ticks\":\"\",\"zerolinecolor\":\"white\"},\"yaxis\":{\"backgroundcolor\":\"#E5ECF6\",\"gridcolor\":\"white\",\"gridwidth\":2,\"linecolor\":\"white\",\"showbackground\":true,\"ticks\":\"\",\"zerolinecolor\":\"white\"},\"zaxis\":{\"backgroundcolor\":\"#E5ECF6\",\"gridcolor\":\"white\",\"gridwidth\":2,\"linecolor\":\"white\",\"showbackground\":true,\"ticks\":\"\",\"zerolinecolor\":\"white\"}},\"shapedefaults\":{\"line\":{\"color\":\"#2a3f5f\"}},\"ternary\":{\"aaxis\":{\"gridcolor\":\"white\",\"linecolor\":\"white\",\"ticks\":\"\"},\"baxis\":{\"gridcolor\":\"white\",\"linecolor\":\"white\",\"ticks\":\"\"},\"bgcolor\":\"#E5ECF6\",\"caxis\":{\"gridcolor\":\"white\",\"linecolor\":\"white\",\"ticks\":\"\"}},\"title\":{\"x\":0.05},\"xaxis\":{\"automargin\":true,\"gridcolor\":\"white\",\"linecolor\":\"white\",\"ticks\":\"\",\"title\":{\"standoff\":15},\"zerolinecolor\":\"white\",\"zerolinewidth\":2},\"yaxis\":{\"automargin\":true,\"gridcolor\":\"white\",\"linecolor\":\"white\",\"ticks\":\"\",\"title\":{\"standoff\":15},\"zerolinecolor\":\"white\",\"zerolinewidth\":2}}},\"geo\":{\"domain\":{\"x\":[0.0,1.0],\"y\":[0.0,1.0]},\"center\":{}},\"legend\":{\"tracegroupgap\":0},\"margin\":{\"t\":60},\"title\":{\"text\":\"superfund site locations in Alabama\",\"x\":0.5}},                        {\"responsive\": true}                    ).then(function(){\n",
              "                            \n",
              "var gd = document.getElementById('3dc8e327-8dac-44bd-ba13-a361ceaa745e');\n",
              "var x = new MutationObserver(function (mutations, observer) {{\n",
              "        var display = window.getComputedStyle(gd).display;\n",
              "        if (!display || display === 'none') {{\n",
              "            console.log([gd, 'removed!']);\n",
              "            Plotly.purge(gd);\n",
              "            observer.disconnect();\n",
              "        }}\n",
              "}});\n",
              "\n",
              "// Listen for the removal of the full notebook cells\n",
              "var notebookContainer = gd.closest('#notebook-container');\n",
              "if (notebookContainer) {{\n",
              "    x.observe(notebookContainer, {childList: true});\n",
              "}}\n",
              "\n",
              "// Listen for the clearing of the current output cell\n",
              "var outputEl = gd.closest('.output');\n",
              "if (outputEl) {{\n",
              "    x.observe(outputEl, {childList: true});\n",
              "}}\n",
              "\n",
              "                        })                };                            </script>        </div>\n",
              "</body>\n",
              "</html>"
            ]
          },
          "metadata": {}
        }
      ],
      "source": [
        "fig = px.scatter_geo(sites_filtered,lat='latitude',lon='longitude', hover_name=\"name\")\n",
        "fig.update_layout(title = f'superfund site locations in {selected_place_choice}', title_x=0.5)\n",
        "fig.show()"
      ]
    },
    {
      "cell_type": "markdown",
      "metadata": {
        "id": "548WYoBAQNxN"
      },
      "source": [
        "The visualization of sites on the world map has a very large spatial area in comparison to the areas of interest, which can either be the area the US or a particular state, county or city in the US. The map data for these places are available in the Data Commons Graph.\n",
        "\n",
        "### Spatial visualization of superfund sites with map data available in Data Commons\n",
        "\n",
        "The map data for a place if available, can be queried using the API using the place id as the identifier and the property `geoJsonCoordinates`. \n",
        "For example, the map of the US can be queried using the snippet,\n",
        "\n",
        "```python\n",
        "dc.get_property_values(['country/USA'], prop='geoJsonCoordinates', out=True)['country/USA']\n",
        "```\n",
        "\n",
        "> TIP: To check if the map exists for the place selected in the menu, please replace `['country/USA']` with the value of the `place_dcid` variable enclosed within `[]`, something like `[place_dcid]`.\n",
        "\n",
        "Now, let us view the geoJSON for the current place selected from the drop-down menu earlier."
      ]
    },
    {
      "cell_type": "code",
      "execution_count": null,
      "metadata": {
        "id": "kyHSeFIXNhLH"
      },
      "outputs": [],
      "source": [
        "print(f\"GeoJSON for {selected_place_choice} which has the place id: {place_dcid}\\n\\n\")\n",
        "dc.get_property_values([place_dcid], prop='geoJsonCoordinates', out=True)[place_dcid][0]"
      ]
    },
    {
      "cell_type": "markdown",
      "metadata": {
        "id": "lDalaOEiRq_9"
      },
      "source": [
        "What we have obtained is a string representation of the map in GeoJSON format, which we can load for making the base-map to visualize the locations of the suprefund sites.\n",
        "\n",
        "The objective is to recreate the visualizations of the location of superfund sites but this time instead of using the world map we will be using the map of the selected place.\n",
        "\n",
        "Before, we visualize the sites, we will need to make a few transformations on the location of the sites to make sure they can be visualized on a map. For this we will be converting the `sites_filtered` dataframe to a `geopandas.GeoDataFrame`. The `geopandas.GeoDataFrame` is similar to a `pandas.DataFrame` instance but has the spatial information stored in the geometry column.\n",
        "\n",
        "The following snippet of code can be used as a recepie to convert a pandas dataframe with location information to a `GeoDataFrame`."
      ]
    },
    {
      "cell_type": "code",
      "execution_count": null,
      "metadata": {
        "colab": {
          "base_uri": "https://localhost:8080/",
          "height": 873
        },
        "id": "naH5LSL1Wnuo",
        "outputId": "2f31b578-ac22-4690-9d2e-254f856da073"
      },
      "outputs": [
        {
          "output_type": "execute_result",
          "data": {
            "text/html": [
              "\n",
              "  <div id=\"df-39f2885a-be2c-4b88-b2e2-64f5c05c80d5\">\n",
              "    <div class=\"colab-df-container\">\n",
              "      <div>\n",
              "<style scoped>\n",
              "    .dataframe tbody tr th:only-of-type {\n",
              "        vertical-align: middle;\n",
              "    }\n",
              "\n",
              "    .dataframe tbody tr th {\n",
              "        vertical-align: top;\n",
              "    }\n",
              "\n",
              "    .dataframe thead th {\n",
              "        text-align: right;\n",
              "    }\n",
              "</style>\n",
              "<table border=\"1\" class=\"dataframe\">\n",
              "  <thead>\n",
              "    <tr style=\"text-align: right;\">\n",
              "      <th></th>\n",
              "      <th>epaSuperfundSiteId</th>\n",
              "      <th>name</th>\n",
              "      <th>latitude</th>\n",
              "      <th>longitude</th>\n",
              "      <th>Coordinates</th>\n",
              "    </tr>\n",
              "  </thead>\n",
              "  <tbody>\n",
              "    <tr>\n",
              "      <th>0</th>\n",
              "      <td>AL3210020027</td>\n",
              "      <td>Anniston Army Depot (Southeast Industrial Area)</td>\n",
              "      <td>33.659439</td>\n",
              "      <td>-85.969439</td>\n",
              "      <td>POINT (-85.96944 33.65944)</td>\n",
              "    </tr>\n",
              "    <tr>\n",
              "      <th>1</th>\n",
              "      <td>AL6210020008</td>\n",
              "      <td>Alabama Army Ammunition Plant</td>\n",
              "      <td>33.3381</td>\n",
              "      <td>-86.3268</td>\n",
              "      <td>POINT (-86.32680 33.33810)</td>\n",
              "    </tr>\n",
              "    <tr>\n",
              "      <th>2</th>\n",
              "      <td>AL7210020742</td>\n",
              "      <td>Redstone Arsenal (USARMY/NASA)</td>\n",
              "      <td>34.646944</td>\n",
              "      <td>-86.673055</td>\n",
              "      <td>POINT (-86.67306 34.64694)</td>\n",
              "    </tr>\n",
              "    <tr>\n",
              "      <th>3</th>\n",
              "      <td>ALD001221902</td>\n",
              "      <td>Ciba-Geigy Corp. (McIntosh Plant)</td>\n",
              "      <td>31.279</td>\n",
              "      <td>-87.9955</td>\n",
              "      <td>POINT (-87.99550 31.27900)</td>\n",
              "    </tr>\n",
              "    <tr>\n",
              "      <th>4</th>\n",
              "      <td>ALD004022448</td>\n",
              "      <td>Alabama Plating Company Inc.</td>\n",
              "      <td>33.399722</td>\n",
              "      <td>-86.405</td>\n",
              "      <td>POINT (-86.40500 33.39972)</td>\n",
              "    </tr>\n",
              "    <tr>\n",
              "      <th>5</th>\n",
              "      <td>ALD007454085</td>\n",
              "      <td>T.H. Agriculture &amp; Nutrition Co. (Montgomery P...</td>\n",
              "      <td>32.3761</td>\n",
              "      <td>-86.3791</td>\n",
              "      <td>POINT (-86.37910 32.37610)</td>\n",
              "    </tr>\n",
              "    <tr>\n",
              "      <th>6</th>\n",
              "      <td>ALD008161176</td>\n",
              "      <td>Stauffer Chemical Co. (LeMoyne Plant)</td>\n",
              "      <td>30.969439</td>\n",
              "      <td>-88.0175</td>\n",
              "      <td>POINT (-88.01750 30.96944)</td>\n",
              "    </tr>\n",
              "    <tr>\n",
              "      <th>7</th>\n",
              "      <td>ALD008188708</td>\n",
              "      <td>Olin Corp. (McIntosh Plant)</td>\n",
              "      <td>31.263889</td>\n",
              "      <td>-87.99445</td>\n",
              "      <td>POINT (-87.99445 31.26389)</td>\n",
              "    </tr>\n",
              "    <tr>\n",
              "      <th>8</th>\n",
              "      <td>ALD031618069</td>\n",
              "      <td>Mowbray Engineering Co.</td>\n",
              "      <td>31.831669</td>\n",
              "      <td>-86.61305</td>\n",
              "      <td>POINT (-86.61305 31.83167)</td>\n",
              "    </tr>\n",
              "    <tr>\n",
              "      <th>9</th>\n",
              "      <td>ALD041906173</td>\n",
              "      <td>Interstate Lead Co. (ILCO)</td>\n",
              "      <td>33.688889</td>\n",
              "      <td>-86.633333</td>\n",
              "      <td>POINT (-86.63333 33.68889)</td>\n",
              "    </tr>\n",
              "    <tr>\n",
              "      <th>10</th>\n",
              "      <td>ALD095688875</td>\n",
              "      <td>Stauffer Chemical Co. (Cold Creek Plant)</td>\n",
              "      <td>30.975</td>\n",
              "      <td>-88.021389</td>\n",
              "      <td>POINT (-88.02139 30.97500)</td>\n",
              "    </tr>\n",
              "    <tr>\n",
              "      <th>11</th>\n",
              "      <td>ALD980728703</td>\n",
              "      <td>Perdido Ground Water Contamination</td>\n",
              "      <td>31.0125</td>\n",
              "      <td>-87.625</td>\n",
              "      <td>POINT (-87.62500 31.01250)</td>\n",
              "    </tr>\n",
              "    <tr>\n",
              "      <th>12</th>\n",
              "      <td>ALD980844385</td>\n",
              "      <td>Redwing Carriers Inc. (Saraland)</td>\n",
              "      <td>30.808331</td>\n",
              "      <td>-88.073061</td>\n",
              "      <td>POINT (-88.07306 30.80833)</td>\n",
              "    </tr>\n",
              "    <tr>\n",
              "      <th>13</th>\n",
              "      <td>ALD981868466</td>\n",
              "      <td>American Brass</td>\n",
              "      <td>31.325</td>\n",
              "      <td>-85.404167</td>\n",
              "      <td>POINT (-85.40417 31.32500)</td>\n",
              "    </tr>\n",
              "    <tr>\n",
              "      <th>14</th>\n",
              "      <td>ALD983166299</td>\n",
              "      <td>Triana/Tennessee River</td>\n",
              "      <td>34.508888</td>\n",
              "      <td>-86.638194</td>\n",
              "      <td>POINT (-86.63819 34.50889)</td>\n",
              "    </tr>\n",
              "    <tr>\n",
              "      <th>15</th>\n",
              "      <td>ALN000410750</td>\n",
              "      <td>35th Avenue</td>\n",
              "      <td>33.557464</td>\n",
              "      <td>-86.799671</td>\n",
              "      <td>POINT (-86.79967 33.55746)</td>\n",
              "    </tr>\n",
              "  </tbody>\n",
              "</table>\n",
              "</div>\n",
              "      <button class=\"colab-df-convert\" onclick=\"convertToInteractive('df-39f2885a-be2c-4b88-b2e2-64f5c05c80d5')\"\n",
              "              title=\"Convert this dataframe to an interactive table.\"\n",
              "              style=\"display:none;\">\n",
              "        \n",
              "  <svg xmlns=\"http://www.w3.org/2000/svg\" height=\"24px\"viewBox=\"0 0 24 24\"\n",
              "       width=\"24px\">\n",
              "    <path d=\"M0 0h24v24H0V0z\" fill=\"none\"/>\n",
              "    <path d=\"M18.56 5.44l.94 2.06.94-2.06 2.06-.94-2.06-.94-.94-2.06-.94 2.06-2.06.94zm-11 1L8.5 8.5l.94-2.06 2.06-.94-2.06-.94L8.5 2.5l-.94 2.06-2.06.94zm10 10l.94 2.06.94-2.06 2.06-.94-2.06-.94-.94-2.06-.94 2.06-2.06.94z\"/><path d=\"M17.41 7.96l-1.37-1.37c-.4-.4-.92-.59-1.43-.59-.52 0-1.04.2-1.43.59L10.3 9.45l-7.72 7.72c-.78.78-.78 2.05 0 2.83L4 21.41c.39.39.9.59 1.41.59.51 0 1.02-.2 1.41-.59l7.78-7.78 2.81-2.81c.8-.78.8-2.07 0-2.86zM5.41 20L4 18.59l7.72-7.72 1.47 1.35L5.41 20z\"/>\n",
              "  </svg>\n",
              "      </button>\n",
              "      \n",
              "  <style>\n",
              "    .colab-df-container {\n",
              "      display:flex;\n",
              "      flex-wrap:wrap;\n",
              "      gap: 12px;\n",
              "    }\n",
              "\n",
              "    .colab-df-convert {\n",
              "      background-color: #E8F0FE;\n",
              "      border: none;\n",
              "      border-radius: 50%;\n",
              "      cursor: pointer;\n",
              "      display: none;\n",
              "      fill: #1967D2;\n",
              "      height: 32px;\n",
              "      padding: 0 0 0 0;\n",
              "      width: 32px;\n",
              "    }\n",
              "\n",
              "    .colab-df-convert:hover {\n",
              "      background-color: #E2EBFA;\n",
              "      box-shadow: 0px 1px 2px rgba(60, 64, 67, 0.3), 0px 1px 3px 1px rgba(60, 64, 67, 0.15);\n",
              "      fill: #174EA6;\n",
              "    }\n",
              "\n",
              "    [theme=dark] .colab-df-convert {\n",
              "      background-color: #3B4455;\n",
              "      fill: #D2E3FC;\n",
              "    }\n",
              "\n",
              "    [theme=dark] .colab-df-convert:hover {\n",
              "      background-color: #434B5C;\n",
              "      box-shadow: 0px 1px 3px 1px rgba(0, 0, 0, 0.15);\n",
              "      filter: drop-shadow(0px 1px 2px rgba(0, 0, 0, 0.3));\n",
              "      fill: #FFFFFF;\n",
              "    }\n",
              "  </style>\n",
              "\n",
              "      <script>\n",
              "        const buttonEl =\n",
              "          document.querySelector('#df-39f2885a-be2c-4b88-b2e2-64f5c05c80d5 button.colab-df-convert');\n",
              "        buttonEl.style.display =\n",
              "          google.colab.kernel.accessAllowed ? 'block' : 'none';\n",
              "\n",
              "        async function convertToInteractive(key) {\n",
              "          const element = document.querySelector('#df-39f2885a-be2c-4b88-b2e2-64f5c05c80d5');\n",
              "          const dataTable =\n",
              "            await google.colab.kernel.invokeFunction('convertToInteractive',\n",
              "                                                     [key], {});\n",
              "          if (!dataTable) return;\n",
              "\n",
              "          const docLinkHtml = 'Like what you see? Visit the ' +\n",
              "            '<a target=\"_blank\" href=https://colab.research.google.com/notebooks/data_table.ipynb>data table notebook</a>'\n",
              "            + ' to learn more about interactive tables.';\n",
              "          element.innerHTML = '';\n",
              "          dataTable['output_type'] = 'display_data';\n",
              "          await google.colab.output.renderOutput(dataTable, element);\n",
              "          const docLink = document.createElement('div');\n",
              "          docLink.innerHTML = docLinkHtml;\n",
              "          element.appendChild(docLink);\n",
              "        }\n",
              "      </script>\n",
              "    </div>\n",
              "  </div>\n",
              "  "
            ],
            "text/plain": [
              "   epaSuperfundSiteId                                               name  \\\n",
              "0        AL3210020027    Anniston Army Depot (Southeast Industrial Area)   \n",
              "1        AL6210020008                      Alabama Army Ammunition Plant   \n",
              "2        AL7210020742                     Redstone Arsenal (USARMY/NASA)   \n",
              "3        ALD001221902                  Ciba-Geigy Corp. (McIntosh Plant)   \n",
              "4        ALD004022448                       Alabama Plating Company Inc.   \n",
              "5        ALD007454085  T.H. Agriculture & Nutrition Co. (Montgomery P...   \n",
              "6        ALD008161176              Stauffer Chemical Co. (LeMoyne Plant)   \n",
              "7        ALD008188708                        Olin Corp. (McIntosh Plant)   \n",
              "8        ALD031618069                            Mowbray Engineering Co.   \n",
              "9        ALD041906173                         Interstate Lead Co. (ILCO)   \n",
              "10       ALD095688875           Stauffer Chemical Co. (Cold Creek Plant)   \n",
              "11       ALD980728703                 Perdido Ground Water Contamination   \n",
              "12       ALD980844385                   Redwing Carriers Inc. (Saraland)   \n",
              "13       ALD981868466                                     American Brass   \n",
              "14       ALD983166299                             Triana/Tennessee River   \n",
              "15       ALN000410750                                        35th Avenue   \n",
              "\n",
              "     latitude   longitude                 Coordinates  \n",
              "0   33.659439  -85.969439  POINT (-85.96944 33.65944)  \n",
              "1     33.3381    -86.3268  POINT (-86.32680 33.33810)  \n",
              "2   34.646944  -86.673055  POINT (-86.67306 34.64694)  \n",
              "3      31.279    -87.9955  POINT (-87.99550 31.27900)  \n",
              "4   33.399722     -86.405  POINT (-86.40500 33.39972)  \n",
              "5     32.3761    -86.3791  POINT (-86.37910 32.37610)  \n",
              "6   30.969439    -88.0175  POINT (-88.01750 30.96944)  \n",
              "7   31.263889   -87.99445  POINT (-87.99445 31.26389)  \n",
              "8   31.831669   -86.61305  POINT (-86.61305 31.83167)  \n",
              "9   33.688889  -86.633333  POINT (-86.63333 33.68889)  \n",
              "10     30.975  -88.021389  POINT (-88.02139 30.97500)  \n",
              "11    31.0125     -87.625  POINT (-87.62500 31.01250)  \n",
              "12  30.808331  -88.073061  POINT (-88.07306 30.80833)  \n",
              "13     31.325  -85.404167  POINT (-85.40417 31.32500)  \n",
              "14  34.508888  -86.638194  POINT (-86.63819 34.50889)  \n",
              "15  33.557464  -86.799671  POINT (-86.79967 33.55746)  "
            ]
          },
          "metadata": {},
          "execution_count": 29
        }
      ],
      "source": [
        "# copy of the pandas dataframe which we will transform into a GeoDataFrame\n",
        "gdf = sites_filtered.copy()\n",
        "\n",
        "# convertying the latitude and longitude columns to a Point geometry \n",
        "gdf[\"Coordinates\"] = list(zip(gdf.longitude.astype(float), gdf.latitude.astype(float)))\n",
        "gdf[\"Coordinates\"] = gdf[\"Coordinates\"].apply(Point)\n",
        "gdf.drop(columns=['latitude', 'longitude']) # deleting redudance\n",
        "\n",
        "# converting to GeoDataFrame\n",
        "gdf = gpd.GeoDataFrame(gdf, geometry=\"Coordinates\")\n",
        "gdf"
      ]
    },
    {
      "cell_type": "markdown",
      "metadata": {
        "id": "zlOvnPKla6ve"
      },
      "source": [
        "With the `GeoDataFrame` now ready, we shall visualize the location of the sites using code snippet below:"
      ]
    },
    {
      "cell_type": "code",
      "execution_count": null,
      "metadata": {
        "colab": {
          "base_uri": "https://localhost:8080/",
          "height": 499
        },
        "id": "VYOPuhVeltN3",
        "outputId": "50ab308c-d356-4558-d9ab-0aa07ce8bd9c"
      },
      "outputs": [
        {
          "output_type": "display_data",
          "data": {
            "image/png": "[encoded data removed]",
            "text/plain": [
              "<Figure size 864x576 with 1 Axes>"
            ]
          },
          "metadata": {
            "needs_background": "light"
          }
        }
      ],
      "source": [
        "# Get the geojson for the selected place from the Data Commons Graph\n",
        "place_map = dc.get_property_values([place_dcid], prop='geoJsonCoordinates', out=True)[place_dcid][0]\n",
        "place_map = json.loads(place_map)\n",
        "\n",
        "# set the colors and initialize the empty figure object for drawing the map\n",
        "BLUE = '#6699cc'\n",
        "fig = plt.figure(figsize=(12, 8)) \n",
        "ax = fig.gca() \n",
        "\n",
        "# Draw the geojson fetched from the Data Commons Graph\n",
        "ax.add_patch(PolygonPatch(place_map, fc=BLUE, ec=BLUE, alpha=0.5, zorder=2 ))\n",
        "ax.axis('scaled')\n",
        "\n",
        "# Add the locations of the superfund sites from the GeoDataFrame\n",
        "gdf.plot(ax=ax, color='red', alpha = 0.5)\n",
        "plt.title (f'superfund site locations in {selected_place_choice}')\n",
        "plt.show()"
      ]
    },
    {
      "cell_type": "markdown",
      "source": [
        "## Demo 3 - Lookup timeseries for a specific superfund site\n",
        "\n",
        "In this demo example, we will dive into accessing StatVarObservations for Statistical Variables related to superfund sites.\n",
        "\n",
        "Currently, the Data Commons graph has the following statistics about superfund sites."
      ],
      "metadata": {
        "id": "jZZ5u5_CjXGM"
      }
    },
    {
      "cell_type": "markdown",
      "source": [
        "### For all superfund sites on the NPL\n",
        "\n",
        "|Statistical Variable|Data Source|Status|\n",
        "|-------|-----------|------|\n",
        "|[CRSI Score](https://datacommons.org/browser/CrsiScore_SuperfundSite)|[Intersection of Natural Hazard Vulnerability and Superfund Site Location](https://catalog.data.gov/dataset/intersection-of-natural-hazard-vulnerability-and-superfund-site-location)|Available|\n",
        "|[Natural Hazard Exposure Score](https://datacommons.org/browser/NaturalHazardExposureScore_SuperfundSite)|[Intersection of Natural Hazard Vulnerability and Superfund Site Location](https://catalog.data.gov/dataset/intersection-of-natural-hazard-vulnerability-and-superfund-site-location)|Available|\n",
        "|[Natural Hazard Risk Score](https://datacommons.org/browser/NaturalHazardRiskScore_SuperfundSite)|[Intersection of Natural Hazard Vulnerability and Superfund Site Location](https://catalog.data.gov/dataset/intersection-of-natural-hazard-vulnerability-and-superfund-site-location)|Available|\n",
        "|[`Natural Hazard Risk Score by <Meteorological Events>`](https://datacommons.org/browser/NaturalHazardRiskScore_SuperfundSite_WildfireEvent)|[Intersection of Natural Hazard Vulnerability and Superfund Site Location](https://catalog.data.gov/dataset/intersection-of-natural-hazard-vulnerability-and-superfund-site-location)|Available|"
      ],
      "metadata": {
        "id": "SoZNqx5MTQKy"
      }
    },
    {
      "cell_type": "markdown",
      "source": [
        "### Statistics available for Tar Creek superfund site\n",
        "\n",
        "Statistics for the  Tar Creek superfund site are obtained the [6th five-year review report](https://semspub.epa.gov/work/06/100021610.pdf).This report measures concentration of contaminants in GroundWater across sampling wells withing and across the site. The concentration of contaminants are presented as [Total concentration](https://datacommons.org/browser/Concentration_Iron_BodyOfWater_GroundWater) and [Dissolved concentration](https://datacommons.org/browser/Concentration_DissolvedContaminant_Iron_BodyOfWater_GroundWater) statistical variables for:\n",
        "- [Iron](https://datacommons.org/browser/Concentration_Iron_BodyOfWater_GroundWater)\n",
        "- [Zinc](https://datacommons.org/browser/Concentration_Zinc_BodyOfWater_GroundWater)\n",
        "- [Lead](https://datacommons.org/browser/Concentration_Lead_BodyOfWater_GroundWater)\n",
        "- [Cadmium](https://datacommons.org/browser/Concentration_Cadmium_BodyOfWater_GroundWater)\n",
        "- [Sulfate](https://datacommons.org/browser/Concentration_Sulfate_BodyOfWater_GroundWater)\n",
        "\n",
        "The report also has\n",
        "measurements on water properties in GroundWaterlike:\n",
        "- [hardness](https://datacommons.org/browser/WaterHardness_BodyOfWater_GroundWater)\n",
        "- [pH](https://datacommons.org/browser/otentialOfHydrogen_BodyOfWater_GroundWater)\n",
        "- [dissolved oxygen](https://datacommons.org/browser/DissolvedOxygen_BodyOfWater_GroundWater)\n",
        "- [electrical conductivity](https://datacommons.org/browser/ElectricalConductivity_BodyOfWater_GroundWater)\n",
        "- [temperature](https://datacommons.org/browser/Temperature_BodyOfWater_GroundWater)\n",
        "\n",
        "The statistics are available for 4 sampling wells across Tar Creek namely: [Quapaw #4](https://datacommons.org/browser/epaSuperfundMeasurementSite/OKD980629844/Quapaw_4), [Commerce #5](https://datacommons.org/browser/epaSuperfundMeasurementSite/OKD980629844/Commerce_5), [Picher #5](https://datacommons.org/browser/epaSuperfundMeasurementSite/OKD980629844/Picher_5-MW) and [Picher #7](https://datacommons.org/browser/epaSuperfundMeasurementSite/OKD980629844/Picher_7-MW)\n",
        "\n",
        "### Accessing and Visualizing Statistics for Tar Creek"
      ],
      "metadata": {
        "id": "uzCLbAGIkplu"
      }
    },
    {
      "cell_type": "code",
      "source": [
        "## get a list of measurement sites that are in and around Tar Creek\n",
        "tar_creek = 'epaSuperfundSiteId/OKD980629844'\n",
        "measurement_sites = dc.get_places_in([tar_creek], 'SuperfundMeasurementSite')[tar_creek]\n",
        "measurement_sites"
      ],
      "metadata": {
        "colab": {
          "base_uri": "https://localhost:8080/"
        },
        "id": "50rGzwbhnCtt",
        "outputId": "33d1270a-2986-4765-8720-6af0140348a7"
      },
      "execution_count": null,
      "outputs": [
        {
          "output_type": "execute_result",
          "data": {
            "text/plain": [
              "['epaSuperfundMeasurementSite/OKD980629844/Commerce_5',\n",
              " 'epaSuperfundMeasurementSite/OKD980629844/Picher_5-MW',\n",
              " 'epaSuperfundMeasurementSite/OKD980629844/Picher_7-MW',\n",
              " 'epaSuperfundMeasurementSite/OKD980629844/Quapaw_4']"
            ]
          },
          "metadata": {},
          "execution_count": 31
        }
      ]
    },
    {
      "cell_type": "markdown",
      "source": [
        "List of statistical variables that are available for a measurement site can be obtained on the Graph Browser page for measurement sites ([example](https://datacommons.org/browser/epaSuperfundMeasurementSite/OKD980629844/Picher_7-MW))."
      ],
      "metadata": {
        "id": "dZWRPC3bobV3"
      }
    },
    {
      "cell_type": "code",
      "source": [
        "# List of statistics that are available for each measurement site\n",
        "measurement_sites_statvars_list = ['Concentration_Sulfate_BodyOfWater_GroundWater',\n",
        "                                   'Concentration_Lead_BodyOfWater_GroundWater',\n",
        "                                   'Concentration_Cadmium_BodyOfWater_GroundWater',\n",
        "                                   'Concentration_DissolvedContaminant_Cadmium_BodyOfWater_GroundWater',\n",
        "                                   'Concentration_DissolvedContaminant_Iron_BodyOfWater_GroundWater',\n",
        "                                   'Concentration_DissolvedContaminant_Lead_BodyOfWater_GroundWater',\n",
        "                                   'Concentration_DissolvedContaminant_Zinc_BodyOfWater_GroundWater',\n",
        "                                   'Concentration_Iron_BodyOfWater_GroundWater',\n",
        "                                   'DissolvedOxygen_BodyOfWater_GroundWater',\n",
        "                                   'Concentration_Zinc_BodyOfWater_GroundWater',\n",
        "                                   'PotentialOfHydrogen_BodyOfWater_GroundWater',\n",
        "                                   'ElectricalConductivity_BodyOfWater_GroundWater',\n",
        "                                   'Temperature_BodyOfWater_GroundWater',\n",
        "                                   'WaterHardness_BodyOfWater_GroundWater']"
      ],
      "metadata": {
        "id": "5X6mRwAaoya_"
      },
      "execution_count": null,
      "outputs": []
    },
    {
      "cell_type": "markdown",
      "source": [
        "Now, we will be to query the Data Commons graph for all statistics available for a particular sampling well and a particular statistical variable.\n",
        "\n",
        "Please note that statistics for Tar Creek are time-series of observed characteristics of contaminated ground water and the concentration of different contaminants. The following code snippet uses the [`build_time_series_dataframe`](https://docs.datacommons.org/api/pandas/time_series_dataframe.html) API method to show one statistical variables available from the above list for the sampling well called [`Quapaw #4`](https://datacommons.org/browser/epaSuperfundMeasurementSite/OKD980629844/Quapaw_4) near Tar Creek."
      ],
      "metadata": {
        "id": "vGx2hgEeoyiT"
      }
    },
    {
      "cell_type": "code",
      "source": [
        "tar_creek_contamiantion_statvar_df = dpd.build_time_series_dataframe(['epaSuperfundMeasurementSite/OKD980629844/Quapaw_4'], measurement_sites_statvars_list[0])\n",
        "\n",
        "tar_creek_contamiantion_statvar_df.head(5)"
      ],
      "metadata": {
        "id": "bkCWV7Jioyty",
        "colab": {
          "base_uri": "https://localhost:8080/",
          "height": 193
        },
        "outputId": "cf1b2c07-d3a3-41a5-85ff-e4bcc7bf22c5"
      },
      "execution_count": null,
      "outputs": [
        {
          "output_type": "execute_result",
          "data": {
            "text/html": [
              "\n",
              "  <div id=\"df-cae09158-ee09-486e-af02-0ce90775696a\">\n",
              "    <div class=\"colab-df-container\">\n",
              "      <div>\n",
              "<style scoped>\n",
              "    .dataframe tbody tr th:only-of-type {\n",
              "        vertical-align: middle;\n",
              "    }\n",
              "\n",
              "    .dataframe tbody tr th {\n",
              "        vertical-align: top;\n",
              "    }\n",
              "\n",
              "    .dataframe thead th {\n",
              "        text-align: right;\n",
              "    }\n",
              "</style>\n",
              "<table border=\"1\" class=\"dataframe\">\n",
              "  <thead>\n",
              "    <tr style=\"text-align: right;\">\n",
              "      <th></th>\n",
              "      <th>2003-11-06</th>\n",
              "      <th>2004-04-28</th>\n",
              "      <th>2004-10-13</th>\n",
              "      <th>2005-04-26</th>\n",
              "      <th>2005-10-18</th>\n",
              "      <th>2006-04-12</th>\n",
              "      <th>2006-11-09</th>\n",
              "      <th>2007-05-09</th>\n",
              "      <th>2007-10-24</th>\n",
              "      <th>2008-04-22</th>\n",
              "      <th>2010-03-25</th>\n",
              "      <th>2010-11-11</th>\n",
              "      <th>2011-11-03</th>\n",
              "      <th>2012-11-08</th>\n",
              "      <th>2013-10-31</th>\n",
              "      <th>2017-03-14</th>\n",
              "      <th>2018-04-25</th>\n",
              "      <th>2019-04-30</th>\n",
              "    </tr>\n",
              "    <tr>\n",
              "      <th>place</th>\n",
              "      <th></th>\n",
              "      <th></th>\n",
              "      <th></th>\n",
              "      <th></th>\n",
              "      <th></th>\n",
              "      <th></th>\n",
              "      <th></th>\n",
              "      <th></th>\n",
              "      <th></th>\n",
              "      <th></th>\n",
              "      <th></th>\n",
              "      <th></th>\n",
              "      <th></th>\n",
              "      <th></th>\n",
              "      <th></th>\n",
              "      <th></th>\n",
              "      <th></th>\n",
              "      <th></th>\n",
              "    </tr>\n",
              "  </thead>\n",
              "  <tbody>\n",
              "    <tr>\n",
              "      <th>epaSuperfundMeasurementSite/OKD980629844/Quapaw_4</th>\n",
              "      <td>11.1</td>\n",
              "      <td>11.8</td>\n",
              "      <td>12.8</td>\n",
              "      <td>13.5</td>\n",
              "      <td>16.4</td>\n",
              "      <td>15.2</td>\n",
              "      <td>20</td>\n",
              "      <td>12.6</td>\n",
              "      <td>14.3</td>\n",
              "      <td>13.2</td>\n",
              "      <td>14.8</td>\n",
              "      <td>15.7</td>\n",
              "      <td>14.3</td>\n",
              "      <td>15.7</td>\n",
              "      <td>14.3</td>\n",
              "      <td>16.3</td>\n",
              "      <td>18.8</td>\n",
              "      <td>15.6</td>\n",
              "    </tr>\n",
              "  </tbody>\n",
              "</table>\n",
              "</div>\n",
              "      <button class=\"colab-df-convert\" onclick=\"convertToInteractive('df-cae09158-ee09-486e-af02-0ce90775696a')\"\n",
              "              title=\"Convert this dataframe to an interactive table.\"\n",
              "              style=\"display:none;\">\n",
              "        \n",
              "  <svg xmlns=\"http://www.w3.org/2000/svg\" height=\"24px\"viewBox=\"0 0 24 24\"\n",
              "       width=\"24px\">\n",
              "    <path d=\"M0 0h24v24H0V0z\" fill=\"none\"/>\n",
              "    <path d=\"M18.56 5.44l.94 2.06.94-2.06 2.06-.94-2.06-.94-.94-2.06-.94 2.06-2.06.94zm-11 1L8.5 8.5l.94-2.06 2.06-.94-2.06-.94L8.5 2.5l-.94 2.06-2.06.94zm10 10l.94 2.06.94-2.06 2.06-.94-2.06-.94-.94-2.06-.94 2.06-2.06.94z\"/><path d=\"M17.41 7.96l-1.37-1.37c-.4-.4-.92-.59-1.43-.59-.52 0-1.04.2-1.43.59L10.3 9.45l-7.72 7.72c-.78.78-.78 2.05 0 2.83L4 21.41c.39.39.9.59 1.41.59.51 0 1.02-.2 1.41-.59l7.78-7.78 2.81-2.81c.8-.78.8-2.07 0-2.86zM5.41 20L4 18.59l7.72-7.72 1.47 1.35L5.41 20z\"/>\n",
              "  </svg>\n",
              "      </button>\n",
              "      \n",
              "  <style>\n",
              "    .colab-df-container {\n",
              "      display:flex;\n",
              "      flex-wrap:wrap;\n",
              "      gap: 12px;\n",
              "    }\n",
              "\n",
              "    .colab-df-convert {\n",
              "      background-color: #E8F0FE;\n",
              "      border: none;\n",
              "      border-radius: 50%;\n",
              "      cursor: pointer;\n",
              "      display: none;\n",
              "      fill: #1967D2;\n",
              "      height: 32px;\n",
              "      padding: 0 0 0 0;\n",
              "      width: 32px;\n",
              "    }\n",
              "\n",
              "    .colab-df-convert:hover {\n",
              "      background-color: #E2EBFA;\n",
              "      box-shadow: 0px 1px 2px rgba(60, 64, 67, 0.3), 0px 1px 3px 1px rgba(60, 64, 67, 0.15);\n",
              "      fill: #174EA6;\n",
              "    }\n",
              "\n",
              "    [theme=dark] .colab-df-convert {\n",
              "      background-color: #3B4455;\n",
              "      fill: #D2E3FC;\n",
              "    }\n",
              "\n",
              "    [theme=dark] .colab-df-convert:hover {\n",
              "      background-color: #434B5C;\n",
              "      box-shadow: 0px 1px 3px 1px rgba(0, 0, 0, 0.15);\n",
              "      filter: drop-shadow(0px 1px 2px rgba(0, 0, 0, 0.3));\n",
              "      fill: #FFFFFF;\n",
              "    }\n",
              "  </style>\n",
              "\n",
              "      <script>\n",
              "        const buttonEl =\n",
              "          document.querySelector('#df-cae09158-ee09-486e-af02-0ce90775696a button.colab-df-convert');\n",
              "        buttonEl.style.display =\n",
              "          google.colab.kernel.accessAllowed ? 'block' : 'none';\n",
              "\n",
              "        async function convertToInteractive(key) {\n",
              "          const element = document.querySelector('#df-cae09158-ee09-486e-af02-0ce90775696a');\n",
              "          const dataTable =\n",
              "            await google.colab.kernel.invokeFunction('convertToInteractive',\n",
              "                                                     [key], {});\n",
              "          if (!dataTable) return;\n",
              "\n",
              "          const docLinkHtml = 'Like what you see? Visit the ' +\n",
              "            '<a target=\"_blank\" href=https://colab.research.google.com/notebooks/data_table.ipynb>data table notebook</a>'\n",
              "            + ' to learn more about interactive tables.';\n",
              "          element.innerHTML = '';\n",
              "          dataTable['output_type'] = 'display_data';\n",
              "          await google.colab.output.renderOutput(dataTable, element);\n",
              "          const docLink = document.createElement('div');\n",
              "          docLink.innerHTML = docLinkHtml;\n",
              "          element.appendChild(docLink);\n",
              "        }\n",
              "      </script>\n",
              "    </div>\n",
              "  </div>\n",
              "  "
            ],
            "text/plain": [
              "                                                   2003-11-06  2004-04-28  \\\n",
              "place                                                                       \n",
              "epaSuperfundMeasurementSite/OKD980629844/Quapaw_4        11.1        11.8   \n",
              "\n",
              "                                                   2004-10-13  2005-04-26  \\\n",
              "place                                                                       \n",
              "epaSuperfundMeasurementSite/OKD980629844/Quapaw_4        12.8        13.5   \n",
              "\n",
              "                                                   2005-10-18  2006-04-12  \\\n",
              "place                                                                       \n",
              "epaSuperfundMeasurementSite/OKD980629844/Quapaw_4        16.4        15.2   \n",
              "\n",
              "                                                   2006-11-09  2007-05-09  \\\n",
              "place                                                                       \n",
              "epaSuperfundMeasurementSite/OKD980629844/Quapaw_4          20        12.6   \n",
              "\n",
              "                                                   2007-10-24  2008-04-22  \\\n",
              "place                                                                       \n",
              "epaSuperfundMeasurementSite/OKD980629844/Quapaw_4        14.3        13.2   \n",
              "\n",
              "                                                   2010-03-25  2010-11-11  \\\n",
              "place                                                                       \n",
              "epaSuperfundMeasurementSite/OKD980629844/Quapaw_4        14.8        15.7   \n",
              "\n",
              "                                                   2011-11-03  2012-11-08  \\\n",
              "place                                                                       \n",
              "epaSuperfundMeasurementSite/OKD980629844/Quapaw_4        14.3        15.7   \n",
              "\n",
              "                                                   2013-10-31  2017-03-14  \\\n",
              "place                                                                       \n",
              "epaSuperfundMeasurementSite/OKD980629844/Quapaw_4        14.3        16.3   \n",
              "\n",
              "                                                   2018-04-25  2019-04-30  \n",
              "place                                                                      \n",
              "epaSuperfundMeasurementSite/OKD980629844/Quapaw_4        18.8        15.6  "
            ]
          },
          "metadata": {},
          "execution_count": 33
        }
      ]
    },
    {
      "cell_type": "markdown",
      "metadata": {
        "id": "7u8ApO7RybLd"
      },
      "source": [
        "### Accessing and visualizing statistics available for all superfund sites in Data Commons\n",
        "\n",
        "Next, we shall use the list of statistical variables for a superfund site, we can now make visualizations of the different StatVarObservations that are made for superfund sites.\n",
        "\n",
        "We fetch the time-series of StatVarObservations using the [`pandas`](https://docs.datacommons.org/api/pandas) API method [`build_time_series_dataframe`](https://docs.datacommons.org/api/pandas/time_series_dataframe.html) which returns a pandas datafarme of the time-series that are available for a particular place and a particular statistical variable."
      ]
    },
    {
      "cell_type": "code",
      "execution_count": null,
      "metadata": {
        "colab": {
          "referenced_widgets": [
            "9cf7730acc784ae48e5f17c86e92a261",
            "518586f83b35495aa1215c5dbd1cd79d",
            "fb9e80f4aea842e390f3341a488d14d8"
          ],
          "base_uri": "https://localhost:8080/",
          "height": 66
        },
        "id": "r5kDa_y4aQga",
        "outputId": "f42ab9f7-fbc7-44c7-f19f-1e0af943a304"
      },
      "outputs": [
        {
          "output_type": "stream",
          "name": "stdout",
          "text": [
            "Select a statistical variable\n"
          ]
        },
        {
          "output_type": "display_data",
          "data": {
            "application/vnd.jupyter.widget-view+json": {
              "model_id": "9cf7730acc784ae48e5f17c86e92a261",
              "version_minor": 0,
              "version_major": 2
            },
            "text/plain": [
              "Dropdown(options=('CrsiScore_SuperfundSite', 'NaturalHazardExposureScore_SuperfundSite', 'NaturalHazardRiskSco…"
            ]
          },
          "metadata": {}
        }
      ],
      "source": [
        "print(\"Select a statistical variable\")\n",
        "\n",
        "# list of statistical variables that we shall use for this notebook\n",
        "stat_var_list = [\n",
        "    'CrsiScore_SuperfundSite',\n",
        "    'NaturalHazardExposureScore_SuperfundSite',\n",
        "    'NaturalHazardRiskScore_SuperfundSite',\n",
        "    'NaturalHazardRiskScore_SuperfundSite_CoastalFloodEvent',\n",
        "    'NaturalHazardRiskScore_SuperfundSite_DroughtEvent',\n",
        "    'NaturalHazardRiskScore_SuperfundSite_EarthquakeEvent',\n",
        "    'NaturalHazardRiskScore_SuperfundSite_ExcessiveHeatEvent',\n",
        "    'NaturalHazardRiskScore_SuperfundSite_ExtremeColdWindChillEvent',\n",
        "    'NaturalHazardRiskScore_SuperfundSite_FloodEvent',\n",
        "    'NaturalHazardRiskScore_SuperfundSite_HailEvent',\n",
        "    'NaturalHazardRiskScore_SuperfundSite_HighWindEvent',\n",
        "    'NaturalHazardRiskScore_SuperfundSite_HurricaneEvent',\n",
        "    'NaturalHazardRiskScore_SuperfundSite_LandslideEvent',\n",
        "    'NaturalHazardRiskScore_SuperfundSite_TornadoEvent',\n",
        "    'NaturalHazardRiskScore_SuperfundSite_WildfireEvent'\n",
        " ]\n",
        "# Populating the select dropdown\n",
        "stat_var_select = widgets.Dropdown(options=stat_var_list, value=stat_var_list[0])\n",
        "display(stat_var_select)"
      ]
    },
    {
      "cell_type": "code",
      "source": [
        "stat_var_list"
      ],
      "metadata": {
        "id": "cKX-ign5TEhk"
      },
      "execution_count": null,
      "outputs": []
    },
    {
      "cell_type": "code",
      "execution_count": null,
      "metadata": {
        "colab": {
          "base_uri": "https://localhost:8080/",
          "height": 112
        },
        "id": "AK0kS14J-UOZ",
        "outputId": "c1e2c8db-fb19-4a3e-ecfe-24ff32462b09"
      },
      "outputs": [
        {
          "output_type": "execute_result",
          "data": {
            "text/html": [
              "\n",
              "  <div id=\"df-2710cd28-9954-41bc-8010-e9917872320f\">\n",
              "    <div class=\"colab-df-container\">\n",
              "      <div>\n",
              "<style scoped>\n",
              "    .dataframe tbody tr th:only-of-type {\n",
              "        vertical-align: middle;\n",
              "    }\n",
              "\n",
              "    .dataframe tbody tr th {\n",
              "        vertical-align: top;\n",
              "    }\n",
              "\n",
              "    .dataframe thead th {\n",
              "        text-align: right;\n",
              "    }\n",
              "</style>\n",
              "<table border=\"1\" class=\"dataframe\">\n",
              "  <thead>\n",
              "    <tr style=\"text-align: right;\">\n",
              "      <th></th>\n",
              "      <th>2021</th>\n",
              "    </tr>\n",
              "    <tr>\n",
              "      <th>place</th>\n",
              "      <th></th>\n",
              "    </tr>\n",
              "  </thead>\n",
              "  <tbody>\n",
              "    <tr>\n",
              "      <th>epaSuperfundSiteId/AL3210020027</th>\n",
              "      <td>0.327246</td>\n",
              "    </tr>\n",
              "  </tbody>\n",
              "</table>\n",
              "</div>\n",
              "      <button class=\"colab-df-convert\" onclick=\"convertToInteractive('df-2710cd28-9954-41bc-8010-e9917872320f')\"\n",
              "              title=\"Convert this dataframe to an interactive table.\"\n",
              "              style=\"display:none;\">\n",
              "        \n",
              "  <svg xmlns=\"http://www.w3.org/2000/svg\" height=\"24px\"viewBox=\"0 0 24 24\"\n",
              "       width=\"24px\">\n",
              "    <path d=\"M0 0h24v24H0V0z\" fill=\"none\"/>\n",
              "    <path d=\"M18.56 5.44l.94 2.06.94-2.06 2.06-.94-2.06-.94-.94-2.06-.94 2.06-2.06.94zm-11 1L8.5 8.5l.94-2.06 2.06-.94-2.06-.94L8.5 2.5l-.94 2.06-2.06.94zm10 10l.94 2.06.94-2.06 2.06-.94-2.06-.94-.94-2.06-.94 2.06-2.06.94z\"/><path d=\"M17.41 7.96l-1.37-1.37c-.4-.4-.92-.59-1.43-.59-.52 0-1.04.2-1.43.59L10.3 9.45l-7.72 7.72c-.78.78-.78 2.05 0 2.83L4 21.41c.39.39.9.59 1.41.59.51 0 1.02-.2 1.41-.59l7.78-7.78 2.81-2.81c.8-.78.8-2.07 0-2.86zM5.41 20L4 18.59l7.72-7.72 1.47 1.35L5.41 20z\"/>\n",
              "  </svg>\n",
              "      </button>\n",
              "      \n",
              "  <style>\n",
              "    .colab-df-container {\n",
              "      display:flex;\n",
              "      flex-wrap:wrap;\n",
              "      gap: 12px;\n",
              "    }\n",
              "\n",
              "    .colab-df-convert {\n",
              "      background-color: #E8F0FE;\n",
              "      border: none;\n",
              "      border-radius: 50%;\n",
              "      cursor: pointer;\n",
              "      display: none;\n",
              "      fill: #1967D2;\n",
              "      height: 32px;\n",
              "      padding: 0 0 0 0;\n",
              "      width: 32px;\n",
              "    }\n",
              "\n",
              "    .colab-df-convert:hover {\n",
              "      background-color: #E2EBFA;\n",
              "      box-shadow: 0px 1px 2px rgba(60, 64, 67, 0.3), 0px 1px 3px 1px rgba(60, 64, 67, 0.15);\n",
              "      fill: #174EA6;\n",
              "    }\n",
              "\n",
              "    [theme=dark] .colab-df-convert {\n",
              "      background-color: #3B4455;\n",
              "      fill: #D2E3FC;\n",
              "    }\n",
              "\n",
              "    [theme=dark] .colab-df-convert:hover {\n",
              "      background-color: #434B5C;\n",
              "      box-shadow: 0px 1px 3px 1px rgba(0, 0, 0, 0.15);\n",
              "      filter: drop-shadow(0px 1px 2px rgba(0, 0, 0, 0.3));\n",
              "      fill: #FFFFFF;\n",
              "    }\n",
              "  </style>\n",
              "\n",
              "      <script>\n",
              "        const buttonEl =\n",
              "          document.querySelector('#df-2710cd28-9954-41bc-8010-e9917872320f button.colab-df-convert');\n",
              "        buttonEl.style.display =\n",
              "          google.colab.kernel.accessAllowed ? 'block' : 'none';\n",
              "\n",
              "        async function convertToInteractive(key) {\n",
              "          const element = document.querySelector('#df-2710cd28-9954-41bc-8010-e9917872320f');\n",
              "          const dataTable =\n",
              "            await google.colab.kernel.invokeFunction('convertToInteractive',\n",
              "                                                     [key], {});\n",
              "          if (!dataTable) return;\n",
              "\n",
              "          const docLinkHtml = 'Like what you see? Visit the ' +\n",
              "            '<a target=\"_blank\" href=https://colab.research.google.com/notebooks/data_table.ipynb>data table notebook</a>'\n",
              "            + ' to learn more about interactive tables.';\n",
              "          element.innerHTML = '';\n",
              "          dataTable['output_type'] = 'display_data';\n",
              "          await google.colab.output.renderOutput(dataTable, element);\n",
              "          const docLink = document.createElement('div');\n",
              "          docLink.innerHTML = docLinkHtml;\n",
              "          element.appendChild(docLink);\n",
              "        }\n",
              "      </script>\n",
              "    </div>\n",
              "  </div>\n",
              "  "
            ],
            "text/plain": [
              "                                     2021\n",
              "place                                    \n",
              "epaSuperfundSiteId/AL3210020027  0.327246"
            ]
          },
          "metadata": {},
          "execution_count": 36
        }
      ],
      "source": [
        "chosen_statvar = stat_var_select.value\n",
        "site_statvar_df = dpd.build_time_series_dataframe([site_dcid], chosen_statvar)\n",
        "site_statvar_df.head(5)"
      ]
    },
    {
      "cell_type": "markdown",
      "metadata": {
        "id": "iXBgV3SV2G8e"
      },
      "source": [
        "#### Getting statistics to a `pandas` DataFrame\n",
        "Using the same `build_time_series_dataframe` API method, get the StatVarObservations for the selected statistical variable across all superfund sites."
      ]
    },
    {
      "cell_type": "code",
      "execution_count": null,
      "metadata": {
        "colab": {
          "base_uri": "https://localhost:8080/",
          "height": 238
        },
        "id": "Kg7fHa4O2EAM",
        "outputId": "bc05727f-0ebc-4ace-c691-55658a1dc5d4"
      },
      "outputs": [
        {
          "output_type": "execute_result",
          "data": {
            "text/html": [
              "\n",
              "  <div id=\"df-92d68cd3-7b49-410f-9f42-2a8c63101d90\">\n",
              "    <div class=\"colab-df-container\">\n",
              "      <div>\n",
              "<style scoped>\n",
              "    .dataframe tbody tr th:only-of-type {\n",
              "        vertical-align: middle;\n",
              "    }\n",
              "\n",
              "    .dataframe tbody tr th {\n",
              "        vertical-align: top;\n",
              "    }\n",
              "\n",
              "    .dataframe thead th {\n",
              "        text-align: right;\n",
              "    }\n",
              "</style>\n",
              "<table border=\"1\" class=\"dataframe\">\n",
              "  <thead>\n",
              "    <tr style=\"text-align: right;\">\n",
              "      <th></th>\n",
              "      <th>2021</th>\n",
              "    </tr>\n",
              "    <tr>\n",
              "      <th>place</th>\n",
              "      <th></th>\n",
              "    </tr>\n",
              "  </thead>\n",
              "  <tbody>\n",
              "    <tr>\n",
              "      <th>epaSuperfundSiteId/AL3210020027</th>\n",
              "      <td>0.327246</td>\n",
              "    </tr>\n",
              "    <tr>\n",
              "      <th>epaSuperfundSiteId/AL6210020008</th>\n",
              "      <td>0.600902</td>\n",
              "    </tr>\n",
              "    <tr>\n",
              "      <th>epaSuperfundSiteId/AL7210020742</th>\n",
              "      <td>0.610158</td>\n",
              "    </tr>\n",
              "    <tr>\n",
              "      <th>epaSuperfundSiteId/ALD001221902</th>\n",
              "      <td>0.962115</td>\n",
              "    </tr>\n",
              "    <tr>\n",
              "      <th>epaSuperfundSiteId/ALD004022448</th>\n",
              "      <td>0.951963</td>\n",
              "    </tr>\n",
              "  </tbody>\n",
              "</table>\n",
              "</div>\n",
              "      <button class=\"colab-df-convert\" onclick=\"convertToInteractive('df-92d68cd3-7b49-410f-9f42-2a8c63101d90')\"\n",
              "              title=\"Convert this dataframe to an interactive table.\"\n",
              "              style=\"display:none;\">\n",
              "        \n",
              "  <svg xmlns=\"http://www.w3.org/2000/svg\" height=\"24px\"viewBox=\"0 0 24 24\"\n",
              "       width=\"24px\">\n",
              "    <path d=\"M0 0h24v24H0V0z\" fill=\"none\"/>\n",
              "    <path d=\"M18.56 5.44l.94 2.06.94-2.06 2.06-.94-2.06-.94-.94-2.06-.94 2.06-2.06.94zm-11 1L8.5 8.5l.94-2.06 2.06-.94-2.06-.94L8.5 2.5l-.94 2.06-2.06.94zm10 10l.94 2.06.94-2.06 2.06-.94-2.06-.94-.94-2.06-.94 2.06-2.06.94z\"/><path d=\"M17.41 7.96l-1.37-1.37c-.4-.4-.92-.59-1.43-.59-.52 0-1.04.2-1.43.59L10.3 9.45l-7.72 7.72c-.78.78-.78 2.05 0 2.83L4 21.41c.39.39.9.59 1.41.59.51 0 1.02-.2 1.41-.59l7.78-7.78 2.81-2.81c.8-.78.8-2.07 0-2.86zM5.41 20L4 18.59l7.72-7.72 1.47 1.35L5.41 20z\"/>\n",
              "  </svg>\n",
              "      </button>\n",
              "      \n",
              "  <style>\n",
              "    .colab-df-container {\n",
              "      display:flex;\n",
              "      flex-wrap:wrap;\n",
              "      gap: 12px;\n",
              "    }\n",
              "\n",
              "    .colab-df-convert {\n",
              "      background-color: #E8F0FE;\n",
              "      border: none;\n",
              "      border-radius: 50%;\n",
              "      cursor: pointer;\n",
              "      display: none;\n",
              "      fill: #1967D2;\n",
              "      height: 32px;\n",
              "      padding: 0 0 0 0;\n",
              "      width: 32px;\n",
              "    }\n",
              "\n",
              "    .colab-df-convert:hover {\n",
              "      background-color: #E2EBFA;\n",
              "      box-shadow: 0px 1px 2px rgba(60, 64, 67, 0.3), 0px 1px 3px 1px rgba(60, 64, 67, 0.15);\n",
              "      fill: #174EA6;\n",
              "    }\n",
              "\n",
              "    [theme=dark] .colab-df-convert {\n",
              "      background-color: #3B4455;\n",
              "      fill: #D2E3FC;\n",
              "    }\n",
              "\n",
              "    [theme=dark] .colab-df-convert:hover {\n",
              "      background-color: #434B5C;\n",
              "      box-shadow: 0px 1px 3px 1px rgba(0, 0, 0, 0.15);\n",
              "      filter: drop-shadow(0px 1px 2px rgba(0, 0, 0, 0.3));\n",
              "      fill: #FFFFFF;\n",
              "    }\n",
              "  </style>\n",
              "\n",
              "      <script>\n",
              "        const buttonEl =\n",
              "          document.querySelector('#df-92d68cd3-7b49-410f-9f42-2a8c63101d90 button.colab-df-convert');\n",
              "        buttonEl.style.display =\n",
              "          google.colab.kernel.accessAllowed ? 'block' : 'none';\n",
              "\n",
              "        async function convertToInteractive(key) {\n",
              "          const element = document.querySelector('#df-92d68cd3-7b49-410f-9f42-2a8c63101d90');\n",
              "          const dataTable =\n",
              "            await google.colab.kernel.invokeFunction('convertToInteractive',\n",
              "                                                     [key], {});\n",
              "          if (!dataTable) return;\n",
              "\n",
              "          const docLinkHtml = 'Like what you see? Visit the ' +\n",
              "            '<a target=\"_blank\" href=https://colab.research.google.com/notebooks/data_table.ipynb>data table notebook</a>'\n",
              "            + ' to learn more about interactive tables.';\n",
              "          element.innerHTML = '';\n",
              "          dataTable['output_type'] = 'display_data';\n",
              "          await google.colab.output.renderOutput(dataTable, element);\n",
              "          const docLink = document.createElement('div');\n",
              "          docLink.innerHTML = docLinkHtml;\n",
              "          element.appendChild(docLink);\n",
              "        }\n",
              "      </script>\n",
              "    </div>\n",
              "  </div>\n",
              "  "
            ],
            "text/plain": [
              "                                     2021\n",
              "place                                    \n",
              "epaSuperfundSiteId/AL3210020027  0.327246\n",
              "epaSuperfundSiteId/AL6210020008  0.600902\n",
              "epaSuperfundSiteId/AL7210020742  0.610158\n",
              "epaSuperfundSiteId/ALD001221902  0.962115\n",
              "epaSuperfundSiteId/ALD004022448  0.951963"
            ]
          },
          "metadata": {},
          "execution_count": 37
        }
      ],
      "source": [
        "site_statvar_df = dpd.build_time_series_dataframe(superfund_sites, chosen_statvar)\n",
        "site_statvar_df.head(5)"
      ]
    },
    {
      "cell_type": "markdown",
      "metadata": {
        "id": "1Jh7IU9z2iEK"
      },
      "source": [
        "In both examples, the dataframe is still not human readable, let us add the name to the superfund sites. To add the names to the dataframe, we will query the superfund site's node and extract the `name` property using the `get_property_values` API method."
      ]
    },
    {
      "cell_type": "code",
      "execution_count": null,
      "metadata": {
        "colab": {
          "base_uri": "https://localhost:8080/",
          "height": 238
        },
        "id": "jV8qIKOlTv2g",
        "outputId": "6cbe00c4-5e87-4463-e1a3-31d957b40d28"
      },
      "outputs": [
        {
          "output_type": "execute_result",
          "data": {
            "text/html": [
              "\n",
              "  <div id=\"df-abe93181-115a-4eee-8aa5-d6b5af87a7b8\">\n",
              "    <div class=\"colab-df-container\">\n",
              "      <div>\n",
              "<style scoped>\n",
              "    .dataframe tbody tr th:only-of-type {\n",
              "        vertical-align: middle;\n",
              "    }\n",
              "\n",
              "    .dataframe tbody tr th {\n",
              "        vertical-align: top;\n",
              "    }\n",
              "\n",
              "    .dataframe thead th {\n",
              "        text-align: right;\n",
              "    }\n",
              "</style>\n",
              "<table border=\"1\" class=\"dataframe\">\n",
              "  <thead>\n",
              "    <tr style=\"text-align: right;\">\n",
              "      <th></th>\n",
              "      <th>2021</th>\n",
              "      <th>name</th>\n",
              "    </tr>\n",
              "    <tr>\n",
              "      <th>place</th>\n",
              "      <th></th>\n",
              "      <th></th>\n",
              "    </tr>\n",
              "  </thead>\n",
              "  <tbody>\n",
              "    <tr>\n",
              "      <th>epaSuperfundSiteId/AL3210020027</th>\n",
              "      <td>0.327246</td>\n",
              "      <td>Anniston Army Depot (Southeast Industrial Area)</td>\n",
              "    </tr>\n",
              "    <tr>\n",
              "      <th>epaSuperfundSiteId/AL6210020008</th>\n",
              "      <td>0.600902</td>\n",
              "      <td>Alabama Army Ammunition Plant</td>\n",
              "    </tr>\n",
              "    <tr>\n",
              "      <th>epaSuperfundSiteId/AL7210020742</th>\n",
              "      <td>0.610158</td>\n",
              "      <td>Redstone Arsenal (USARMY/NASA)</td>\n",
              "    </tr>\n",
              "    <tr>\n",
              "      <th>epaSuperfundSiteId/ALD001221902</th>\n",
              "      <td>0.962115</td>\n",
              "      <td>Ciba-Geigy Corp. (McIntosh Plant)</td>\n",
              "    </tr>\n",
              "    <tr>\n",
              "      <th>epaSuperfundSiteId/ALD004022448</th>\n",
              "      <td>0.951963</td>\n",
              "      <td>Alabama Plating Company Inc.</td>\n",
              "    </tr>\n",
              "  </tbody>\n",
              "</table>\n",
              "</div>\n",
              "      <button class=\"colab-df-convert\" onclick=\"convertToInteractive('df-abe93181-115a-4eee-8aa5-d6b5af87a7b8')\"\n",
              "              title=\"Convert this dataframe to an interactive table.\"\n",
              "              style=\"display:none;\">\n",
              "        \n",
              "  <svg xmlns=\"http://www.w3.org/2000/svg\" height=\"24px\"viewBox=\"0 0 24 24\"\n",
              "       width=\"24px\">\n",
              "    <path d=\"M0 0h24v24H0V0z\" fill=\"none\"/>\n",
              "    <path d=\"M18.56 5.44l.94 2.06.94-2.06 2.06-.94-2.06-.94-.94-2.06-.94 2.06-2.06.94zm-11 1L8.5 8.5l.94-2.06 2.06-.94-2.06-.94L8.5 2.5l-.94 2.06-2.06.94zm10 10l.94 2.06.94-2.06 2.06-.94-2.06-.94-.94-2.06-.94 2.06-2.06.94z\"/><path d=\"M17.41 7.96l-1.37-1.37c-.4-.4-.92-.59-1.43-.59-.52 0-1.04.2-1.43.59L10.3 9.45l-7.72 7.72c-.78.78-.78 2.05 0 2.83L4 21.41c.39.39.9.59 1.41.59.51 0 1.02-.2 1.41-.59l7.78-7.78 2.81-2.81c.8-.78.8-2.07 0-2.86zM5.41 20L4 18.59l7.72-7.72 1.47 1.35L5.41 20z\"/>\n",
              "  </svg>\n",
              "      </button>\n",
              "      \n",
              "  <style>\n",
              "    .colab-df-container {\n",
              "      display:flex;\n",
              "      flex-wrap:wrap;\n",
              "      gap: 12px;\n",
              "    }\n",
              "\n",
              "    .colab-df-convert {\n",
              "      background-color: #E8F0FE;\n",
              "      border: none;\n",
              "      border-radius: 50%;\n",
              "      cursor: pointer;\n",
              "      display: none;\n",
              "      fill: #1967D2;\n",
              "      height: 32px;\n",
              "      padding: 0 0 0 0;\n",
              "      width: 32px;\n",
              "    }\n",
              "\n",
              "    .colab-df-convert:hover {\n",
              "      background-color: #E2EBFA;\n",
              "      box-shadow: 0px 1px 2px rgba(60, 64, 67, 0.3), 0px 1px 3px 1px rgba(60, 64, 67, 0.15);\n",
              "      fill: #174EA6;\n",
              "    }\n",
              "\n",
              "    [theme=dark] .colab-df-convert {\n",
              "      background-color: #3B4455;\n",
              "      fill: #D2E3FC;\n",
              "    }\n",
              "\n",
              "    [theme=dark] .colab-df-convert:hover {\n",
              "      background-color: #434B5C;\n",
              "      box-shadow: 0px 1px 3px 1px rgba(0, 0, 0, 0.15);\n",
              "      filter: drop-shadow(0px 1px 2px rgba(0, 0, 0, 0.3));\n",
              "      fill: #FFFFFF;\n",
              "    }\n",
              "  </style>\n",
              "\n",
              "      <script>\n",
              "        const buttonEl =\n",
              "          document.querySelector('#df-abe93181-115a-4eee-8aa5-d6b5af87a7b8 button.colab-df-convert');\n",
              "        buttonEl.style.display =\n",
              "          google.colab.kernel.accessAllowed ? 'block' : 'none';\n",
              "\n",
              "        async function convertToInteractive(key) {\n",
              "          const element = document.querySelector('#df-abe93181-115a-4eee-8aa5-d6b5af87a7b8');\n",
              "          const dataTable =\n",
              "            await google.colab.kernel.invokeFunction('convertToInteractive',\n",
              "                                                     [key], {});\n",
              "          if (!dataTable) return;\n",
              "\n",
              "          const docLinkHtml = 'Like what you see? Visit the ' +\n",
              "            '<a target=\"_blank\" href=https://colab.research.google.com/notebooks/data_table.ipynb>data table notebook</a>'\n",
              "            + ' to learn more about interactive tables.';\n",
              "          element.innerHTML = '';\n",
              "          dataTable['output_type'] = 'display_data';\n",
              "          await google.colab.output.renderOutput(dataTable, element);\n",
              "          const docLink = document.createElement('div');\n",
              "          docLink.innerHTML = docLinkHtml;\n",
              "          element.appendChild(docLink);\n",
              "        }\n",
              "      </script>\n",
              "    </div>\n",
              "  </div>\n",
              "  "
            ],
            "text/plain": [
              "                                     2021  \\\n",
              "place                                       \n",
              "epaSuperfundSiteId/AL3210020027  0.327246   \n",
              "epaSuperfundSiteId/AL6210020008  0.600902   \n",
              "epaSuperfundSiteId/AL7210020742  0.610158   \n",
              "epaSuperfundSiteId/ALD001221902  0.962115   \n",
              "epaSuperfundSiteId/ALD004022448  0.951963   \n",
              "\n",
              "                                                                            name  \n",
              "place                                                                             \n",
              "epaSuperfundSiteId/AL3210020027  Anniston Army Depot (Southeast Industrial Area)  \n",
              "epaSuperfundSiteId/AL6210020008                    Alabama Army Ammunition Plant  \n",
              "epaSuperfundSiteId/AL7210020742                   Redstone Arsenal (USARMY/NASA)  \n",
              "epaSuperfundSiteId/ALD001221902                Ciba-Geigy Corp. (McIntosh Plant)  \n",
              "epaSuperfundSiteId/ALD004022448                     Alabama Plating Company Inc.  "
            ]
          },
          "metadata": {},
          "execution_count": 38
        }
      ],
      "source": [
        "def add_name_col(df):\n",
        "  # Add a new column called name, where each value is the name for the place dcid in the index.\n",
        "  df['name'] = df.index.map(dc.get_property_values(df.index, 'name'))\n",
        "  \n",
        "  # Keep just the first name, instead of a list of all names.\n",
        "  df['name'] = df['name'].str[0]\n",
        "\n",
        "add_name_col(site_statvar_df)\n",
        "site_statvar_df.head()"
      ]
    },
    {
      "cell_type": "markdown",
      "metadata": {
        "id": "8B6hna663EJe"
      },
      "source": [
        "#### Visualizing StatVarObservations for superfund site statistics\n",
        "Now, let us try visualizing the StatVarObservations.\n",
        "\n",
        "\n",
        "The statistical variables that are currently available on superfund sites across the country is from the [Intersection of Natural Hazard Vulnerability and Superfund Site Location](https://catalog.data.gov/dataset/intersection-of-natural-hazard-vulnerability-and-superfund-site-location) paper and has only one data-point. \n",
        "\n",
        "Hence, we visualize the sites with highest natural hazard vulnerability as a bar chart."
      ]
    },
    {
      "cell_type": "code",
      "execution_count": null,
      "metadata": {
        "colab": {
          "base_uri": "https://localhost:8080/",
          "height": 367
        },
        "id": "0iSaf-uqT0M5",
        "outputId": "9c9f323a-d421-436a-bf97-cc7a4d10267d"
      },
      "outputs": [
        {
          "output_type": "execute_result",
          "data": {
            "text/plain": [
              "<matplotlib.axes._subplots.AxesSubplot at 0x7fc4611cf990>"
            ]
          },
          "metadata": {},
          "execution_count": 39
        },
        {
          "output_type": "display_data",
          "data": {
            "image/png": "[encoded data removed]",
            "text/plain": [
              "<Figure size 1800x360 with 1 Axes>"
            ]
          },
          "metadata": {
            "needs_background": "light"
          }
        }
      ],
      "source": [
        "# sort the dataframe by the value column in descending order\n",
        "site_vulnerability = site_statvar_df.sort_values(by='2021', ascending=False)\n",
        "\n",
        "# set the threshold on the number sites to visualize - since there are 1,300 odd superfund sites\n",
        "num_sites = 10\n",
        "site_vulnerability = site_vulnerability[:num_sites]\n",
        "site_vulnerability.plot(kind='bar', x='name', y='2021', figsize=(25,5))"
      ]
    },
    {
      "cell_type": "markdown",
      "metadata": {
        "id": "a8MLVfg84mV-"
      },
      "source": [
        "If two statistical variables need to be compared together for correlations for a particular place, please consider using the [`build_multivariate_dataframe`](https://docs.datacommons.org/api/pandas/multivariate_dataframe.html) API method.\n",
        "\n",
        "For example, we shall compare the CRSI score (stat_var_id: `CrsiScore_SuperfundSite`) with the natural hazard risk score (stat_var_id: `NaturalHazardRiskScore_SuperfundSite`) across superfund sites in the US.\n",
        "\n",
        "> The [Climate Resilience Screening Index](https://www.iisd.org/system/files/meterial/US%20EPA%20CSIN%20webinar%203.pdf) (CRSI) score which measures the resilience of socio-ecological systems, (superfund sites) in the context of governance and risk to natural hazard events.\n",
        "\n"
      ]
    },
    {
      "cell_type": "code",
      "execution_count": null,
      "metadata": {
        "colab": {
          "base_uri": "https://localhost:8080/",
          "height": 488
        },
        "id": "xFF1ZuOx6iCQ",
        "outputId": "25af47d9-e0db-47c1-a5b8-8ada7dce3d29"
      },
      "outputs": [
        {
          "output_type": "execute_result",
          "data": {
            "text/html": [
              "\n",
              "  <div id=\"df-0fed4f99-9803-4b47-bdad-0068fe65a8bd\">\n",
              "    <div class=\"colab-df-container\">\n",
              "      <div>\n",
              "<style scoped>\n",
              "    .dataframe tbody tr th:only-of-type {\n",
              "        vertical-align: middle;\n",
              "    }\n",
              "\n",
              "    .dataframe tbody tr th {\n",
              "        vertical-align: top;\n",
              "    }\n",
              "\n",
              "    .dataframe thead th {\n",
              "        text-align: right;\n",
              "    }\n",
              "</style>\n",
              "<table border=\"1\" class=\"dataframe\">\n",
              "  <thead>\n",
              "    <tr style=\"text-align: right;\">\n",
              "      <th></th>\n",
              "      <th>NaturalHazardRiskScore_SuperfundSite</th>\n",
              "      <th>CrsiScore_SuperfundSite</th>\n",
              "    </tr>\n",
              "    <tr>\n",
              "      <th>place</th>\n",
              "      <th></th>\n",
              "      <th></th>\n",
              "    </tr>\n",
              "  </thead>\n",
              "  <tbody>\n",
              "    <tr>\n",
              "      <th>epaSuperfundSiteId/AL3210020027</th>\n",
              "      <td>66.945</td>\n",
              "      <td>0.327246</td>\n",
              "    </tr>\n",
              "    <tr>\n",
              "      <th>epaSuperfundSiteId/AL6210020008</th>\n",
              "      <td>30.332</td>\n",
              "      <td>0.600902</td>\n",
              "    </tr>\n",
              "    <tr>\n",
              "      <th>epaSuperfundSiteId/AL7210020742</th>\n",
              "      <td>80.383</td>\n",
              "      <td>0.610158</td>\n",
              "    </tr>\n",
              "    <tr>\n",
              "      <th>epaSuperfundSiteId/ALD001221902</th>\n",
              "      <td>35.174</td>\n",
              "      <td>0.962115</td>\n",
              "    </tr>\n",
              "    <tr>\n",
              "      <th>epaSuperfundSiteId/ALD004022448</th>\n",
              "      <td>53.149</td>\n",
              "      <td>0.951963</td>\n",
              "    </tr>\n",
              "    <tr>\n",
              "      <th>epaSuperfundSiteId/ALD007454085</th>\n",
              "      <td>51.894</td>\n",
              "      <td>1.011869</td>\n",
              "    </tr>\n",
              "    <tr>\n",
              "      <th>epaSuperfundSiteId/ALD008161176</th>\n",
              "      <td>53.565</td>\n",
              "      <td>0.750292</td>\n",
              "    </tr>\n",
              "    <tr>\n",
              "      <th>epaSuperfundSiteId/ALD008188708</th>\n",
              "      <td>35.174</td>\n",
              "      <td>0.962115</td>\n",
              "    </tr>\n",
              "    <tr>\n",
              "      <th>epaSuperfundSiteId/ALD041906173</th>\n",
              "      <td>91.456</td>\n",
              "      <td>0.394343</td>\n",
              "    </tr>\n",
              "    <tr>\n",
              "      <th>epaSuperfundSiteId/ALD095688875</th>\n",
              "      <td>53.565</td>\n",
              "      <td>0.750292</td>\n",
              "    </tr>\n",
              "    <tr>\n",
              "      <th>epaSuperfundSiteId/ALD981868466</th>\n",
              "      <td>22.623</td>\n",
              "      <td>0.458104</td>\n",
              "    </tr>\n",
              "    <tr>\n",
              "      <th>epaSuperfundSiteId/ALD983166299</th>\n",
              "      <td>42.534</td>\n",
              "      <td>0.827992</td>\n",
              "    </tr>\n",
              "    <tr>\n",
              "      <th>epaSuperfundSiteId/ALN000410750</th>\n",
              "      <td>91.456</td>\n",
              "      <td>0.394343</td>\n",
              "    </tr>\n",
              "  </tbody>\n",
              "</table>\n",
              "</div>\n",
              "      <button class=\"colab-df-convert\" onclick=\"convertToInteractive('df-0fed4f99-9803-4b47-bdad-0068fe65a8bd')\"\n",
              "              title=\"Convert this dataframe to an interactive table.\"\n",
              "              style=\"display:none;\">\n",
              "        \n",
              "  <svg xmlns=\"http://www.w3.org/2000/svg\" height=\"24px\"viewBox=\"0 0 24 24\"\n",
              "       width=\"24px\">\n",
              "    <path d=\"M0 0h24v24H0V0z\" fill=\"none\"/>\n",
              "    <path d=\"M18.56 5.44l.94 2.06.94-2.06 2.06-.94-2.06-.94-.94-2.06-.94 2.06-2.06.94zm-11 1L8.5 8.5l.94-2.06 2.06-.94-2.06-.94L8.5 2.5l-.94 2.06-2.06.94zm10 10l.94 2.06.94-2.06 2.06-.94-2.06-.94-.94-2.06-.94 2.06-2.06.94z\"/><path d=\"M17.41 7.96l-1.37-1.37c-.4-.4-.92-.59-1.43-.59-.52 0-1.04.2-1.43.59L10.3 9.45l-7.72 7.72c-.78.78-.78 2.05 0 2.83L4 21.41c.39.39.9.59 1.41.59.51 0 1.02-.2 1.41-.59l7.78-7.78 2.81-2.81c.8-.78.8-2.07 0-2.86zM5.41 20L4 18.59l7.72-7.72 1.47 1.35L5.41 20z\"/>\n",
              "  </svg>\n",
              "      </button>\n",
              "      \n",
              "  <style>\n",
              "    .colab-df-container {\n",
              "      display:flex;\n",
              "      flex-wrap:wrap;\n",
              "      gap: 12px;\n",
              "    }\n",
              "\n",
              "    .colab-df-convert {\n",
              "      background-color: #E8F0FE;\n",
              "      border: none;\n",
              "      border-radius: 50%;\n",
              "      cursor: pointer;\n",
              "      display: none;\n",
              "      fill: #1967D2;\n",
              "      height: 32px;\n",
              "      padding: 0 0 0 0;\n",
              "      width: 32px;\n",
              "    }\n",
              "\n",
              "    .colab-df-convert:hover {\n",
              "      background-color: #E2EBFA;\n",
              "      box-shadow: 0px 1px 2px rgba(60, 64, 67, 0.3), 0px 1px 3px 1px rgba(60, 64, 67, 0.15);\n",
              "      fill: #174EA6;\n",
              "    }\n",
              "\n",
              "    [theme=dark] .colab-df-convert {\n",
              "      background-color: #3B4455;\n",
              "      fill: #D2E3FC;\n",
              "    }\n",
              "\n",
              "    [theme=dark] .colab-df-convert:hover {\n",
              "      background-color: #434B5C;\n",
              "      box-shadow: 0px 1px 3px 1px rgba(0, 0, 0, 0.15);\n",
              "      filter: drop-shadow(0px 1px 2px rgba(0, 0, 0, 0.3));\n",
              "      fill: #FFFFFF;\n",
              "    }\n",
              "  </style>\n",
              "\n",
              "      <script>\n",
              "        const buttonEl =\n",
              "          document.querySelector('#df-0fed4f99-9803-4b47-bdad-0068fe65a8bd button.colab-df-convert');\n",
              "        buttonEl.style.display =\n",
              "          google.colab.kernel.accessAllowed ? 'block' : 'none';\n",
              "\n",
              "        async function convertToInteractive(key) {\n",
              "          const element = document.querySelector('#df-0fed4f99-9803-4b47-bdad-0068fe65a8bd');\n",
              "          const dataTable =\n",
              "            await google.colab.kernel.invokeFunction('convertToInteractive',\n",
              "                                                     [key], {});\n",
              "          if (!dataTable) return;\n",
              "\n",
              "          const docLinkHtml = 'Like what you see? Visit the ' +\n",
              "            '<a target=\"_blank\" href=https://colab.research.google.com/notebooks/data_table.ipynb>data table notebook</a>'\n",
              "            + ' to learn more about interactive tables.';\n",
              "          element.innerHTML = '';\n",
              "          dataTable['output_type'] = 'display_data';\n",
              "          await google.colab.output.renderOutput(dataTable, element);\n",
              "          const docLink = document.createElement('div');\n",
              "          docLink.innerHTML = docLinkHtml;\n",
              "          element.appendChild(docLink);\n",
              "        }\n",
              "      </script>\n",
              "    </div>\n",
              "  </div>\n",
              "  "
            ],
            "text/plain": [
              "                                 NaturalHazardRiskScore_SuperfundSite  \\\n",
              "place                                                                   \n",
              "epaSuperfundSiteId/AL3210020027                                66.945   \n",
              "epaSuperfundSiteId/AL6210020008                                30.332   \n",
              "epaSuperfundSiteId/AL7210020742                                80.383   \n",
              "epaSuperfundSiteId/ALD001221902                                35.174   \n",
              "epaSuperfundSiteId/ALD004022448                                53.149   \n",
              "epaSuperfundSiteId/ALD007454085                                51.894   \n",
              "epaSuperfundSiteId/ALD008161176                                53.565   \n",
              "epaSuperfundSiteId/ALD008188708                                35.174   \n",
              "epaSuperfundSiteId/ALD041906173                                91.456   \n",
              "epaSuperfundSiteId/ALD095688875                                53.565   \n",
              "epaSuperfundSiteId/ALD981868466                                22.623   \n",
              "epaSuperfundSiteId/ALD983166299                                42.534   \n",
              "epaSuperfundSiteId/ALN000410750                                91.456   \n",
              "\n",
              "                                 CrsiScore_SuperfundSite  \n",
              "place                                                     \n",
              "epaSuperfundSiteId/AL3210020027                 0.327246  \n",
              "epaSuperfundSiteId/AL6210020008                 0.600902  \n",
              "epaSuperfundSiteId/AL7210020742                 0.610158  \n",
              "epaSuperfundSiteId/ALD001221902                 0.962115  \n",
              "epaSuperfundSiteId/ALD004022448                 0.951963  \n",
              "epaSuperfundSiteId/ALD007454085                 1.011869  \n",
              "epaSuperfundSiteId/ALD008161176                 0.750292  \n",
              "epaSuperfundSiteId/ALD008188708                 0.962115  \n",
              "epaSuperfundSiteId/ALD041906173                 0.394343  \n",
              "epaSuperfundSiteId/ALD095688875                 0.750292  \n",
              "epaSuperfundSiteId/ALD981868466                 0.458104  \n",
              "epaSuperfundSiteId/ALD983166299                 0.827992  \n",
              "epaSuperfundSiteId/ALN000410750                 0.394343  "
            ]
          },
          "metadata": {},
          "execution_count": 40
        }
      ],
      "source": [
        "multi_statvar_df = dpd.build_multivariate_dataframe(superfund_sites,[\"CrsiScore_SuperfundSite\", \"NaturalHazardRiskScore_SuperfundSite\"])\n",
        "multi_statvar_df"
      ]
    },
    {
      "cell_type": "markdown",
      "metadata": {
        "id": "JnGHbrqy7Uv5"
      },
      "source": [
        "For the comparison, we shall make a scatter plot across the two statistical variables namely: \"CrsiScore_SuperfundSite\" and \"NaturalHazardRiskScore_SuperfundSite\""
      ]
    },
    {
      "cell_type": "code",
      "execution_count": null,
      "metadata": {
        "colab": {
          "base_uri": "https://localhost:8080/",
          "height": 514
        },
        "id": "05oEIsh27J55",
        "outputId": "47e8eb3a-409a-4be6-9281-e138c8c1451d"
      },
      "outputs": [
        {
          "output_type": "display_data",
          "data": {
            "image/png": "[encoded data removed]",
            "text/plain": [
              "<Figure size 864x576 with 1 Axes>"
            ]
          },
          "metadata": {
            "needs_background": "light"
          }
        }
      ],
      "source": [
        "# Scatter plot the information\n",
        "multi_statvar_df.plot(kind='scatter', x='NaturalHazardRiskScore_SuperfundSite', y='CrsiScore_SuperfundSite', figsize=(12, 8))\n",
        "plt.title(f\"Natural Hazard Risk Score vs CRSI score for sites in {selected_place_choice}\")\n",
        "plt.xlabel(\"NaturalHazardRiskScore_SuperfundSite\")\n",
        "plt.ylabel(\"CrsiScore_SuperfundSite\")\n",
        "plt.show()"
      ]
    },
    {
      "cell_type": "markdown",
      "metadata": {
        "id": "Bdada1GF-VgS"
      },
      "source": [
        "## Demo 4 - Comparing superfund statistics with other statistics in Data Commons\n",
        "\n",
        "This demo example is probably the most interesting one since, we will compare superfund statistics with other statistics in Data Commons. \n",
        "\n",
        "In this example, we will compare the `CRSI score` of a superfund site and the impact seen on the tribal population living in cities in and around the site. The tribal population statistics come from the US census and the CRSI score is the same statistical variable we used in the previous examples.\n",
        "\n",
        "This is advantage which Data Commons offers, where it is easy to make such cross-domain, cross-place, cross-statistics analysis.\n",
        "\n",
        "\n",
        "Before making the visualization let us first take a look at how the dataset will look and what will the pre-processing that is required"
      ]
    },
    {
      "cell_type": "code",
      "execution_count": null,
      "metadata": {
        "colab": {
          "base_uri": "https://localhost:8080/",
          "height": 238
        },
        "id": "DFNDoYxE_Dpj",
        "outputId": "0c3d67a0-6445-41ba-bef3-1650c6d320b7"
      },
      "outputs": [
        {
          "output_type": "execute_result",
          "data": {
            "text/html": [
              "\n",
              "  <div id=\"df-80cb1c49-9ee7-4a7c-9401-230877dcbc3a\">\n",
              "    <div class=\"colab-df-container\">\n",
              "      <div>\n",
              "<style scoped>\n",
              "    .dataframe tbody tr th:only-of-type {\n",
              "        vertical-align: middle;\n",
              "    }\n",
              "\n",
              "    .dataframe tbody tr th {\n",
              "        vertical-align: top;\n",
              "    }\n",
              "\n",
              "    .dataframe thead th {\n",
              "        text-align: right;\n",
              "    }\n",
              "</style>\n",
              "<table border=\"1\" class=\"dataframe\">\n",
              "  <thead>\n",
              "    <tr style=\"text-align: right;\">\n",
              "      <th></th>\n",
              "      <th>2021</th>\n",
              "    </tr>\n",
              "    <tr>\n",
              "      <th>place</th>\n",
              "      <th></th>\n",
              "    </tr>\n",
              "  </thead>\n",
              "  <tbody>\n",
              "    <tr>\n",
              "      <th>epaSuperfundSiteId/AL3210020027</th>\n",
              "      <td>0.327246</td>\n",
              "    </tr>\n",
              "    <tr>\n",
              "      <th>epaSuperfundSiteId/AL6210020008</th>\n",
              "      <td>0.600902</td>\n",
              "    </tr>\n",
              "    <tr>\n",
              "      <th>epaSuperfundSiteId/AL7210020742</th>\n",
              "      <td>0.610158</td>\n",
              "    </tr>\n",
              "    <tr>\n",
              "      <th>epaSuperfundSiteId/ALD001221902</th>\n",
              "      <td>0.962115</td>\n",
              "    </tr>\n",
              "    <tr>\n",
              "      <th>epaSuperfundSiteId/ALD004022448</th>\n",
              "      <td>0.951963</td>\n",
              "    </tr>\n",
              "  </tbody>\n",
              "</table>\n",
              "</div>\n",
              "      <button class=\"colab-df-convert\" onclick=\"convertToInteractive('df-80cb1c49-9ee7-4a7c-9401-230877dcbc3a')\"\n",
              "              title=\"Convert this dataframe to an interactive table.\"\n",
              "              style=\"display:none;\">\n",
              "        \n",
              "  <svg xmlns=\"http://www.w3.org/2000/svg\" height=\"24px\"viewBox=\"0 0 24 24\"\n",
              "       width=\"24px\">\n",
              "    <path d=\"M0 0h24v24H0V0z\" fill=\"none\"/>\n",
              "    <path d=\"M18.56 5.44l.94 2.06.94-2.06 2.06-.94-2.06-.94-.94-2.06-.94 2.06-2.06.94zm-11 1L8.5 8.5l.94-2.06 2.06-.94-2.06-.94L8.5 2.5l-.94 2.06-2.06.94zm10 10l.94 2.06.94-2.06 2.06-.94-2.06-.94-.94-2.06-.94 2.06-2.06.94z\"/><path d=\"M17.41 7.96l-1.37-1.37c-.4-.4-.92-.59-1.43-.59-.52 0-1.04.2-1.43.59L10.3 9.45l-7.72 7.72c-.78.78-.78 2.05 0 2.83L4 21.41c.39.39.9.59 1.41.59.51 0 1.02-.2 1.41-.59l7.78-7.78 2.81-2.81c.8-.78.8-2.07 0-2.86zM5.41 20L4 18.59l7.72-7.72 1.47 1.35L5.41 20z\"/>\n",
              "  </svg>\n",
              "      </button>\n",
              "      \n",
              "  <style>\n",
              "    .colab-df-container {\n",
              "      display:flex;\n",
              "      flex-wrap:wrap;\n",
              "      gap: 12px;\n",
              "    }\n",
              "\n",
              "    .colab-df-convert {\n",
              "      background-color: #E8F0FE;\n",
              "      border: none;\n",
              "      border-radius: 50%;\n",
              "      cursor: pointer;\n",
              "      display: none;\n",
              "      fill: #1967D2;\n",
              "      height: 32px;\n",
              "      padding: 0 0 0 0;\n",
              "      width: 32px;\n",
              "    }\n",
              "\n",
              "    .colab-df-convert:hover {\n",
              "      background-color: #E2EBFA;\n",
              "      box-shadow: 0px 1px 2px rgba(60, 64, 67, 0.3), 0px 1px 3px 1px rgba(60, 64, 67, 0.15);\n",
              "      fill: #174EA6;\n",
              "    }\n",
              "\n",
              "    [theme=dark] .colab-df-convert {\n",
              "      background-color: #3B4455;\n",
              "      fill: #D2E3FC;\n",
              "    }\n",
              "\n",
              "    [theme=dark] .colab-df-convert:hover {\n",
              "      background-color: #434B5C;\n",
              "      box-shadow: 0px 1px 3px 1px rgba(0, 0, 0, 0.15);\n",
              "      filter: drop-shadow(0px 1px 2px rgba(0, 0, 0, 0.3));\n",
              "      fill: #FFFFFF;\n",
              "    }\n",
              "  </style>\n",
              "\n",
              "      <script>\n",
              "        const buttonEl =\n",
              "          document.querySelector('#df-80cb1c49-9ee7-4a7c-9401-230877dcbc3a button.colab-df-convert');\n",
              "        buttonEl.style.display =\n",
              "          google.colab.kernel.accessAllowed ? 'block' : 'none';\n",
              "\n",
              "        async function convertToInteractive(key) {\n",
              "          const element = document.querySelector('#df-80cb1c49-9ee7-4a7c-9401-230877dcbc3a');\n",
              "          const dataTable =\n",
              "            await google.colab.kernel.invokeFunction('convertToInteractive',\n",
              "                                                     [key], {});\n",
              "          if (!dataTable) return;\n",
              "\n",
              "          const docLinkHtml = 'Like what you see? Visit the ' +\n",
              "            '<a target=\"_blank\" href=https://colab.research.google.com/notebooks/data_table.ipynb>data table notebook</a>'\n",
              "            + ' to learn more about interactive tables.';\n",
              "          element.innerHTML = '';\n",
              "          dataTable['output_type'] = 'display_data';\n",
              "          await google.colab.output.renderOutput(dataTable, element);\n",
              "          const docLink = document.createElement('div');\n",
              "          docLink.innerHTML = docLinkHtml;\n",
              "          element.appendChild(docLink);\n",
              "        }\n",
              "      </script>\n",
              "    </div>\n",
              "  </div>\n",
              "  "
            ],
            "text/plain": [
              "                                     2021\n",
              "place                                    \n",
              "epaSuperfundSiteId/AL3210020027  0.327246\n",
              "epaSuperfundSiteId/AL6210020008  0.600902\n",
              "epaSuperfundSiteId/AL7210020742  0.610158\n",
              "epaSuperfundSiteId/ALD001221902  0.962115\n",
              "epaSuperfundSiteId/ALD004022448  0.951963"
            ]
          },
          "metadata": {},
          "execution_count": 42
        }
      ],
      "source": [
        "superfund_sites = dc.get_places_in([place_dcid], 'SuperfundSite')[place_dcid]\n",
        "dpd.build_time_series_dataframe(superfund_sites, 'CrsiScore_SuperfundSite').head(5)"
      ]
    },
    {
      "cell_type": "code",
      "execution_count": null,
      "metadata": {
        "colab": {
          "base_uri": "https://localhost:8080/",
          "height": 238
        },
        "id": "RKVLyWgR_0R7",
        "outputId": "0d82a3a7-b8eb-4ceb-a359-fb680b18033e"
      },
      "outputs": [
        {
          "output_type": "execute_result",
          "data": {
            "text/html": [
              "\n",
              "  <div id=\"df-439b10d3-01cd-4950-9c61-e39743feaa21\">\n",
              "    <div class=\"colab-df-container\">\n",
              "      <div>\n",
              "<style scoped>\n",
              "    .dataframe tbody tr th:only-of-type {\n",
              "        vertical-align: middle;\n",
              "    }\n",
              "\n",
              "    .dataframe tbody tr th {\n",
              "        vertical-align: top;\n",
              "    }\n",
              "\n",
              "    .dataframe thead th {\n",
              "        text-align: right;\n",
              "    }\n",
              "</style>\n",
              "<table border=\"1\" class=\"dataframe\">\n",
              "  <thead>\n",
              "    <tr style=\"text-align: right;\">\n",
              "      <th></th>\n",
              "      <th>2000</th>\n",
              "      <th>2010</th>\n",
              "      <th>2020</th>\n",
              "    </tr>\n",
              "    <tr>\n",
              "      <th>place</th>\n",
              "      <th></th>\n",
              "      <th></th>\n",
              "      <th></th>\n",
              "    </tr>\n",
              "  </thead>\n",
              "  <tbody>\n",
              "    <tr>\n",
              "      <th>geoId/0100100</th>\n",
              "      <td>NaN</td>\n",
              "      <td>0.0</td>\n",
              "      <td>0.0</td>\n",
              "    </tr>\n",
              "    <tr>\n",
              "      <th>geoId/0100124</th>\n",
              "      <td>0.0</td>\n",
              "      <td>2.0</td>\n",
              "      <td>5.0</td>\n",
              "    </tr>\n",
              "    <tr>\n",
              "      <th>geoId/0100460</th>\n",
              "      <td>20.0</td>\n",
              "      <td>23.0</td>\n",
              "      <td>31.0</td>\n",
              "    </tr>\n",
              "    <tr>\n",
              "      <th>geoId/0100484</th>\n",
              "      <td>1.0</td>\n",
              "      <td>0.0</td>\n",
              "      <td>9.0</td>\n",
              "    </tr>\n",
              "    <tr>\n",
              "      <th>geoId/0100676</th>\n",
              "      <td>0.0</td>\n",
              "      <td>0.0</td>\n",
              "      <td>0.0</td>\n",
              "    </tr>\n",
              "  </tbody>\n",
              "</table>\n",
              "</div>\n",
              "      <button class=\"colab-df-convert\" onclick=\"convertToInteractive('df-439b10d3-01cd-4950-9c61-e39743feaa21')\"\n",
              "              title=\"Convert this dataframe to an interactive table.\"\n",
              "              style=\"display:none;\">\n",
              "        \n",
              "  <svg xmlns=\"http://www.w3.org/2000/svg\" height=\"24px\"viewBox=\"0 0 24 24\"\n",
              "       width=\"24px\">\n",
              "    <path d=\"M0 0h24v24H0V0z\" fill=\"none\"/>\n",
              "    <path d=\"M18.56 5.44l.94 2.06.94-2.06 2.06-.94-2.06-.94-.94-2.06-.94 2.06-2.06.94zm-11 1L8.5 8.5l.94-2.06 2.06-.94-2.06-.94L8.5 2.5l-.94 2.06-2.06.94zm10 10l.94 2.06.94-2.06 2.06-.94-2.06-.94-.94-2.06-.94 2.06-2.06.94z\"/><path d=\"M17.41 7.96l-1.37-1.37c-.4-.4-.92-.59-1.43-.59-.52 0-1.04.2-1.43.59L10.3 9.45l-7.72 7.72c-.78.78-.78 2.05 0 2.83L4 21.41c.39.39.9.59 1.41.59.51 0 1.02-.2 1.41-.59l7.78-7.78 2.81-2.81c.8-.78.8-2.07 0-2.86zM5.41 20L4 18.59l7.72-7.72 1.47 1.35L5.41 20z\"/>\n",
              "  </svg>\n",
              "      </button>\n",
              "      \n",
              "  <style>\n",
              "    .colab-df-container {\n",
              "      display:flex;\n",
              "      flex-wrap:wrap;\n",
              "      gap: 12px;\n",
              "    }\n",
              "\n",
              "    .colab-df-convert {\n",
              "      background-color: #E8F0FE;\n",
              "      border: none;\n",
              "      border-radius: 50%;\n",
              "      cursor: pointer;\n",
              "      display: none;\n",
              "      fill: #1967D2;\n",
              "      height: 32px;\n",
              "      padding: 0 0 0 0;\n",
              "      width: 32px;\n",
              "    }\n",
              "\n",
              "    .colab-df-convert:hover {\n",
              "      background-color: #E2EBFA;\n",
              "      box-shadow: 0px 1px 2px rgba(60, 64, 67, 0.3), 0px 1px 3px 1px rgba(60, 64, 67, 0.15);\n",
              "      fill: #174EA6;\n",
              "    }\n",
              "\n",
              "    [theme=dark] .colab-df-convert {\n",
              "      background-color: #3B4455;\n",
              "      fill: #D2E3FC;\n",
              "    }\n",
              "\n",
              "    [theme=dark] .colab-df-convert:hover {\n",
              "      background-color: #434B5C;\n",
              "      box-shadow: 0px 1px 3px 1px rgba(0, 0, 0, 0.15);\n",
              "      filter: drop-shadow(0px 1px 2px rgba(0, 0, 0, 0.3));\n",
              "      fill: #FFFFFF;\n",
              "    }\n",
              "  </style>\n",
              "\n",
              "      <script>\n",
              "        const buttonEl =\n",
              "          document.querySelector('#df-439b10d3-01cd-4950-9c61-e39743feaa21 button.colab-df-convert');\n",
              "        buttonEl.style.display =\n",
              "          google.colab.kernel.accessAllowed ? 'block' : 'none';\n",
              "\n",
              "        async function convertToInteractive(key) {\n",
              "          const element = document.querySelector('#df-439b10d3-01cd-4950-9c61-e39743feaa21');\n",
              "          const dataTable =\n",
              "            await google.colab.kernel.invokeFunction('convertToInteractive',\n",
              "                                                     [key], {});\n",
              "          if (!dataTable) return;\n",
              "\n",
              "          const docLinkHtml = 'Like what you see? Visit the ' +\n",
              "            '<a target=\"_blank\" href=https://colab.research.google.com/notebooks/data_table.ipynb>data table notebook</a>'\n",
              "            + ' to learn more about interactive tables.';\n",
              "          element.innerHTML = '';\n",
              "          dataTable['output_type'] = 'display_data';\n",
              "          await google.colab.output.renderOutput(dataTable, element);\n",
              "          const docLink = document.createElement('div');\n",
              "          docLink.innerHTML = docLinkHtml;\n",
              "          element.appendChild(docLink);\n",
              "        }\n",
              "      </script>\n",
              "    </div>\n",
              "  </div>\n",
              "  "
            ],
            "text/plain": [
              "               2000  2010  2020\n",
              "place                          \n",
              "geoId/0100100   NaN   0.0   0.0\n",
              "geoId/0100124   0.0   2.0   5.0\n",
              "geoId/0100460  20.0  23.0  31.0\n",
              "geoId/0100484   1.0   0.0   9.0\n",
              "geoId/0100676   0.0   0.0   0.0"
            ]
          },
          "metadata": {},
          "execution_count": 43
        }
      ],
      "source": [
        "cities = dpd.get_places_in([place_dcid], 'City')[place_dcid]\n",
        "dpd.build_time_series_dataframe(cities, 'Count_Person_AmericanIndianAndAlaskaNativeAlone').head(5)"
      ]
    },
    {
      "cell_type": "markdown",
      "metadata": {
        "id": "NEaZRTT6BaXn"
      },
      "source": [
        "From the two dataframes, it is clear that we have statistics from different years and the number of places across the two dataframes are not consistent.\n",
        "\n",
        "Let's get started....\n",
        "\n",
        "#### Understanding the hierarchy in which places are nested in Data Commons\n",
        "\n",
        "For getting the city which has a superfund site, we will be using the `site_df` dataframe, which we created in the begining. This dataframe has a column called `containedInPlace` which is a list.\n",
        "\n",
        "An example of the `containedInPlace` list looks as follows:\n",
        "```python\n",
        "['geoId/01',\n",
        " 'geoId/01015',\n",
        " 'geoId/0101590099',\n",
        " 'geoId/01015981901',\n",
        " 'geoId/0103']\n",
        "```\n",
        "The list essentially lists the place ids based on the administrative area division. An example of getting the `typeOf` places for a list of place ids is shown as an example in the beginning sections of the notebook.\n",
        "\n",
        "In this case, the interpretation of the list is done as follows:\n",
        "```python\n",
        "['geoId/01', #state's place_id\n",
        " 'geoId/01015', # county's place_id\n",
        " 'geoId/0101590099', # city's place_id\n",
        " 'geoId/01015981901', # census tract's place_id\n",
        " 'geoId/0103' # congressional district's place_id\n",
        " ]\n",
        "```"
      ]
    },
    {
      "cell_type": "markdown",
      "source": [
        "### Preparing the datasets for comparison\n",
        "From this list we pick the third element which corresponds to the city's place_id.\n",
        "\n",
        "> The structure of this list is consistent at the high-level some sites have finer geo-level like Zip Code Tabulation Area (ZCTA) codes.\n",
        "\n",
        "First let us make a dataframe based off the `site_df` dataframe. To this dataframe, we will add different statistics which we will visualize.\n",
        "\n",
        "The recipe we plan to do is the following:\n",
        "1. From the `site_df` dataframe, create a new dataframe where the superfund sites are located in a city.\n",
        "2. To this dataframe, we shall merge the StatVarObservations for the `CrsiScore_SuperfundSite` statistical variable based on the superfund site id\n",
        "3. To the merged dataframe, we shall do another merge but this time with StatVarObservations for the `Count_Person_AmericanIndianAndAlaskaNativeAlone` statistical variable based on the `containedInPlace` city id\n",
        "4. Visualize!"
      ],
      "metadata": {
        "id": "zr4BOZ7d10Ia"
      }
    },
    {
      "cell_type": "code",
      "execution_count": null,
      "metadata": {
        "colab": {
          "base_uri": "https://localhost:8080/",
          "height": 629
        },
        "id": "QH6Hlo2MCUaU",
        "outputId": "a82a0b0f-c389-4018-9ce3-b5d66a45de0a"
      },
      "outputs": [
        {
          "output_type": "stream",
          "name": "stderr",
          "text": [
            "/usr/local/lib/python3.7/dist-packages/ipykernel_launcher.py:9: SettingWithCopyWarning:\n",
            "\n",
            "\n",
            "A value is trying to be set on a copy of a slice from a DataFrame.\n",
            "Try using .loc[row_indexer,col_indexer] = value instead\n",
            "\n",
            "See the caveats in the documentation: https://pandas.pydata.org/pandas-docs/stable/user_guide/indexing.html#returning-a-view-versus-a-copy\n",
            "\n",
            "/usr/local/lib/python3.7/dist-packages/ipykernel_launcher.py:10: SettingWithCopyWarning:\n",
            "\n",
            "\n",
            "A value is trying to be set on a copy of a slice from a DataFrame.\n",
            "Try using .loc[row_indexer,col_indexer] = value instead\n",
            "\n",
            "See the caveats in the documentation: https://pandas.pydata.org/pandas-docs/stable/user_guide/indexing.html#returning-a-view-versus-a-copy\n",
            "\n"
          ]
        },
        {
          "output_type": "execute_result",
          "data": {
            "text/html": [
              "\n",
              "  <div id=\"df-7a81a3f4-013c-4473-a1dd-b4896e7328e8\">\n",
              "    <div class=\"colab-df-container\">\n",
              "      <div>\n",
              "<style scoped>\n",
              "    .dataframe tbody tr th:only-of-type {\n",
              "        vertical-align: middle;\n",
              "    }\n",
              "\n",
              "    .dataframe tbody tr th {\n",
              "        vertical-align: top;\n",
              "    }\n",
              "\n",
              "    .dataframe thead th {\n",
              "        text-align: right;\n",
              "    }\n",
              "</style>\n",
              "<table border=\"1\" class=\"dataframe\">\n",
              "  <thead>\n",
              "    <tr style=\"text-align: right;\">\n",
              "      <th></th>\n",
              "      <th>epaSuperfundSiteId</th>\n",
              "      <th>containedInPlace</th>\n",
              "    </tr>\n",
              "  </thead>\n",
              "  <tbody>\n",
              "    <tr>\n",
              "      <th>1</th>\n",
              "      <td>epaSuperfundSiteId/AL6210020008</td>\n",
              "      <td>geoId/0114464</td>\n",
              "    </tr>\n",
              "    <tr>\n",
              "      <th>4</th>\n",
              "      <td>epaSuperfundSiteId/ALD004022448</td>\n",
              "      <td>geoId/0179008</td>\n",
              "    </tr>\n",
              "    <tr>\n",
              "      <th>5</th>\n",
              "      <td>epaSuperfundSiteId/ALD007454085</td>\n",
              "      <td>geoId/0151000</td>\n",
              "    </tr>\n",
              "    <tr>\n",
              "      <th>8</th>\n",
              "      <td>epaSuperfundSiteId/ALD031618069</td>\n",
              "      <td>geoId/0131912</td>\n",
              "    </tr>\n",
              "    <tr>\n",
              "      <th>9</th>\n",
              "      <td>epaSuperfundSiteId/ALD041906173</td>\n",
              "      <td>geoId/0115256</td>\n",
              "    </tr>\n",
              "    <tr>\n",
              "      <th>11</th>\n",
              "      <td>epaSuperfundSiteId/ALD980728703</td>\n",
              "      <td>geoId/0159064</td>\n",
              "    </tr>\n",
              "    <tr>\n",
              "      <th>12</th>\n",
              "      <td>epaSuperfundSiteId/ALD980844385</td>\n",
              "      <td>geoId/0168160</td>\n",
              "    </tr>\n",
              "    <tr>\n",
              "      <th>13</th>\n",
              "      <td>epaSuperfundSiteId/ALD981868466</td>\n",
              "      <td>geoId/0133856</td>\n",
              "    </tr>\n",
              "    <tr>\n",
              "      <th>15</th>\n",
              "      <td>epaSuperfundSiteId/ALN000410750</td>\n",
              "      <td>geoId/0107000</td>\n",
              "    </tr>\n",
              "  </tbody>\n",
              "</table>\n",
              "</div>\n",
              "      <button class=\"colab-df-convert\" onclick=\"convertToInteractive('df-7a81a3f4-013c-4473-a1dd-b4896e7328e8')\"\n",
              "              title=\"Convert this dataframe to an interactive table.\"\n",
              "              style=\"display:none;\">\n",
              "        \n",
              "  <svg xmlns=\"http://www.w3.org/2000/svg\" height=\"24px\"viewBox=\"0 0 24 24\"\n",
              "       width=\"24px\">\n",
              "    <path d=\"M0 0h24v24H0V0z\" fill=\"none\"/>\n",
              "    <path d=\"M18.56 5.44l.94 2.06.94-2.06 2.06-.94-2.06-.94-.94-2.06-.94 2.06-2.06.94zm-11 1L8.5 8.5l.94-2.06 2.06-.94-2.06-.94L8.5 2.5l-.94 2.06-2.06.94zm10 10l.94 2.06.94-2.06 2.06-.94-2.06-.94-.94-2.06-.94 2.06-2.06.94z\"/><path d=\"M17.41 7.96l-1.37-1.37c-.4-.4-.92-.59-1.43-.59-.52 0-1.04.2-1.43.59L10.3 9.45l-7.72 7.72c-.78.78-.78 2.05 0 2.83L4 21.41c.39.39.9.59 1.41.59.51 0 1.02-.2 1.41-.59l7.78-7.78 2.81-2.81c.8-.78.8-2.07 0-2.86zM5.41 20L4 18.59l7.72-7.72 1.47 1.35L5.41 20z\"/>\n",
              "  </svg>\n",
              "      </button>\n",
              "      \n",
              "  <style>\n",
              "    .colab-df-container {\n",
              "      display:flex;\n",
              "      flex-wrap:wrap;\n",
              "      gap: 12px;\n",
              "    }\n",
              "\n",
              "    .colab-df-convert {\n",
              "      background-color: #E8F0FE;\n",
              "      border: none;\n",
              "      border-radius: 50%;\n",
              "      cursor: pointer;\n",
              "      display: none;\n",
              "      fill: #1967D2;\n",
              "      height: 32px;\n",
              "      padding: 0 0 0 0;\n",
              "      width: 32px;\n",
              "    }\n",
              "\n",
              "    .colab-df-convert:hover {\n",
              "      background-color: #E2EBFA;\n",
              "      box-shadow: 0px 1px 2px rgba(60, 64, 67, 0.3), 0px 1px 3px 1px rgba(60, 64, 67, 0.15);\n",
              "      fill: #174EA6;\n",
              "    }\n",
              "\n",
              "    [theme=dark] .colab-df-convert {\n",
              "      background-color: #3B4455;\n",
              "      fill: #D2E3FC;\n",
              "    }\n",
              "\n",
              "    [theme=dark] .colab-df-convert:hover {\n",
              "      background-color: #434B5C;\n",
              "      box-shadow: 0px 1px 3px 1px rgba(0, 0, 0, 0.15);\n",
              "      filter: drop-shadow(0px 1px 2px rgba(0, 0, 0, 0.3));\n",
              "      fill: #FFFFFF;\n",
              "    }\n",
              "  </style>\n",
              "\n",
              "      <script>\n",
              "        const buttonEl =\n",
              "          document.querySelector('#df-7a81a3f4-013c-4473-a1dd-b4896e7328e8 button.colab-df-convert');\n",
              "        buttonEl.style.display =\n",
              "          google.colab.kernel.accessAllowed ? 'block' : 'none';\n",
              "\n",
              "        async function convertToInteractive(key) {\n",
              "          const element = document.querySelector('#df-7a81a3f4-013c-4473-a1dd-b4896e7328e8');\n",
              "          const dataTable =\n",
              "            await google.colab.kernel.invokeFunction('convertToInteractive',\n",
              "                                                     [key], {});\n",
              "          if (!dataTable) return;\n",
              "\n",
              "          const docLinkHtml = 'Like what you see? Visit the ' +\n",
              "            '<a target=\"_blank\" href=https://colab.research.google.com/notebooks/data_table.ipynb>data table notebook</a>'\n",
              "            + ' to learn more about interactive tables.';\n",
              "          element.innerHTML = '';\n",
              "          dataTable['output_type'] = 'display_data';\n",
              "          await google.colab.output.renderOutput(dataTable, element);\n",
              "          const docLink = document.createElement('div');\n",
              "          docLink.innerHTML = docLinkHtml;\n",
              "          element.appendChild(docLink);\n",
              "        }\n",
              "      </script>\n",
              "    </div>\n",
              "  </div>\n",
              "  "
            ],
            "text/plain": [
              "                 epaSuperfundSiteId containedInPlace\n",
              "1   epaSuperfundSiteId/AL6210020008    geoId/0114464\n",
              "4   epaSuperfundSiteId/ALD004022448    geoId/0179008\n",
              "5   epaSuperfundSiteId/ALD007454085    geoId/0151000\n",
              "8   epaSuperfundSiteId/ALD031618069    geoId/0131912\n",
              "9   epaSuperfundSiteId/ALD041906173    geoId/0115256\n",
              "11  epaSuperfundSiteId/ALD980728703    geoId/0159064\n",
              "12  epaSuperfundSiteId/ALD980844385    geoId/0168160\n",
              "13  epaSuperfundSiteId/ALD981868466    geoId/0133856\n",
              "15  epaSuperfundSiteId/ALN000410750    geoId/0107000"
            ]
          },
          "metadata": {},
          "execution_count": 44
        }
      ],
      "source": [
        "## Step 1: Making dataframe with the superfund site id and the id of the city where the site is present\n",
        "def get_city_id(elem_list, fips_code_len=7):\n",
        "  for e in elem_list:\n",
        "    if len(e.split('/')[1]) == fips_code_len:\n",
        "      return e\n",
        "  return ''\n",
        "\n",
        "site_place_df = site_df[['epaSuperfundSiteId', 'containedInPlace']]\n",
        "site_place_df['epaSuperfundSiteId'] = site_place_df['epaSuperfundSiteId'].apply(lambda elem: 'epaSuperfundSiteId/' + elem)\n",
        "site_place_df['containedInPlace'] = site_place_df['containedInPlace'].apply(get_city_id)\n",
        "site_place_df = site_place_df[site_place_df['containedInPlace'] != '']\n",
        "site_place_df"
      ]
    },
    {
      "cell_type": "code",
      "execution_count": null,
      "metadata": {
        "colab": {
          "base_uri": "https://localhost:8080/",
          "height": 332
        },
        "id": "POaCwvhXGBBr",
        "outputId": "8ab2dff3-40b5-40bc-c82e-9d880db830d4"
      },
      "outputs": [
        {
          "output_type": "execute_result",
          "data": {
            "text/html": [
              "\n",
              "  <div id=\"df-370319ce-c7b7-4d8b-b7f3-16528a988cad\">\n",
              "    <div class=\"colab-df-container\">\n",
              "      <div>\n",
              "<style scoped>\n",
              "    .dataframe tbody tr th:only-of-type {\n",
              "        vertical-align: middle;\n",
              "    }\n",
              "\n",
              "    .dataframe tbody tr th {\n",
              "        vertical-align: top;\n",
              "    }\n",
              "\n",
              "    .dataframe thead th {\n",
              "        text-align: right;\n",
              "    }\n",
              "</style>\n",
              "<table border=\"1\" class=\"dataframe\">\n",
              "  <thead>\n",
              "    <tr style=\"text-align: right;\">\n",
              "      <th></th>\n",
              "      <th>epaSuperfundSiteId</th>\n",
              "      <th>containedInPlace</th>\n",
              "      <th>CrsiScore_SuperfundSite</th>\n",
              "      <th>2000</th>\n",
              "      <th>2010</th>\n",
              "      <th>2020</th>\n",
              "    </tr>\n",
              "  </thead>\n",
              "  <tbody>\n",
              "    <tr>\n",
              "      <th>0</th>\n",
              "      <td>epaSuperfundSiteId/AL6210020008</td>\n",
              "      <td>geoId/0114464</td>\n",
              "      <td>0.600902</td>\n",
              "      <td>16.0</td>\n",
              "      <td>21.0</td>\n",
              "      <td>8</td>\n",
              "    </tr>\n",
              "    <tr>\n",
              "      <th>1</th>\n",
              "      <td>epaSuperfundSiteId/ALD004022448</td>\n",
              "      <td>geoId/0179008</td>\n",
              "      <td>0.951963</td>\n",
              "      <td>14.0</td>\n",
              "      <td>7.0</td>\n",
              "      <td>10</td>\n",
              "    </tr>\n",
              "    <tr>\n",
              "      <th>2</th>\n",
              "      <td>epaSuperfundSiteId/ALD007454085</td>\n",
              "      <td>geoId/0151000</td>\n",
              "      <td>1.011869</td>\n",
              "      <td>500.0</td>\n",
              "      <td>512.0</td>\n",
              "      <td>713</td>\n",
              "    </tr>\n",
              "    <tr>\n",
              "      <th>3</th>\n",
              "      <td>epaSuperfundSiteId/ALD031618069</td>\n",
              "      <td>geoId/0131912</td>\n",
              "      <td>NaN</td>\n",
              "      <td>20.0</td>\n",
              "      <td>4.0</td>\n",
              "      <td>9</td>\n",
              "    </tr>\n",
              "    <tr>\n",
              "      <th>4</th>\n",
              "      <td>epaSuperfundSiteId/ALD041906173</td>\n",
              "      <td>geoId/0115256</td>\n",
              "      <td>0.394343</td>\n",
              "      <td>15.0</td>\n",
              "      <td>29.0</td>\n",
              "      <td>38</td>\n",
              "    </tr>\n",
              "    <tr>\n",
              "      <th>5</th>\n",
              "      <td>epaSuperfundSiteId/ALD980728703</td>\n",
              "      <td>geoId/0159064</td>\n",
              "      <td>NaN</td>\n",
              "      <td>NaN</td>\n",
              "      <td>NaN</td>\n",
              "      <td>21</td>\n",
              "    </tr>\n",
              "    <tr>\n",
              "      <th>6</th>\n",
              "      <td>epaSuperfundSiteId/ALD980844385</td>\n",
              "      <td>geoId/0168160</td>\n",
              "      <td>NaN</td>\n",
              "      <td>69.0</td>\n",
              "      <td>104.0</td>\n",
              "      <td>228</td>\n",
              "    </tr>\n",
              "    <tr>\n",
              "      <th>7</th>\n",
              "      <td>epaSuperfundSiteId/ALD981868466</td>\n",
              "      <td>geoId/0133856</td>\n",
              "      <td>0.458104</td>\n",
              "      <td>7.0</td>\n",
              "      <td>18.0</td>\n",
              "      <td>6</td>\n",
              "    </tr>\n",
              "    <tr>\n",
              "      <th>8</th>\n",
              "      <td>epaSuperfundSiteId/ALN000410750</td>\n",
              "      <td>geoId/0107000</td>\n",
              "      <td>0.394343</td>\n",
              "      <td>422.0</td>\n",
              "      <td>445.0</td>\n",
              "      <td>755</td>\n",
              "    </tr>\n",
              "  </tbody>\n",
              "</table>\n",
              "</div>\n",
              "      <button class=\"colab-df-convert\" onclick=\"convertToInteractive('df-370319ce-c7b7-4d8b-b7f3-16528a988cad')\"\n",
              "              title=\"Convert this dataframe to an interactive table.\"\n",
              "              style=\"display:none;\">\n",
              "        \n",
              "  <svg xmlns=\"http://www.w3.org/2000/svg\" height=\"24px\"viewBox=\"0 0 24 24\"\n",
              "       width=\"24px\">\n",
              "    <path d=\"M0 0h24v24H0V0z\" fill=\"none\"/>\n",
              "    <path d=\"M18.56 5.44l.94 2.06.94-2.06 2.06-.94-2.06-.94-.94-2.06-.94 2.06-2.06.94zm-11 1L8.5 8.5l.94-2.06 2.06-.94-2.06-.94L8.5 2.5l-.94 2.06-2.06.94zm10 10l.94 2.06.94-2.06 2.06-.94-2.06-.94-.94-2.06-.94 2.06-2.06.94z\"/><path d=\"M17.41 7.96l-1.37-1.37c-.4-.4-.92-.59-1.43-.59-.52 0-1.04.2-1.43.59L10.3 9.45l-7.72 7.72c-.78.78-.78 2.05 0 2.83L4 21.41c.39.39.9.59 1.41.59.51 0 1.02-.2 1.41-.59l7.78-7.78 2.81-2.81c.8-.78.8-2.07 0-2.86zM5.41 20L4 18.59l7.72-7.72 1.47 1.35L5.41 20z\"/>\n",
              "  </svg>\n",
              "      </button>\n",
              "      \n",
              "  <style>\n",
              "    .colab-df-container {\n",
              "      display:flex;\n",
              "      flex-wrap:wrap;\n",
              "      gap: 12px;\n",
              "    }\n",
              "\n",
              "    .colab-df-convert {\n",
              "      background-color: #E8F0FE;\n",
              "      border: none;\n",
              "      border-radius: 50%;\n",
              "      cursor: pointer;\n",
              "      display: none;\n",
              "      fill: #1967D2;\n",
              "      height: 32px;\n",
              "      padding: 0 0 0 0;\n",
              "      width: 32px;\n",
              "    }\n",
              "\n",
              "    .colab-df-convert:hover {\n",
              "      background-color: #E2EBFA;\n",
              "      box-shadow: 0px 1px 2px rgba(60, 64, 67, 0.3), 0px 1px 3px 1px rgba(60, 64, 67, 0.15);\n",
              "      fill: #174EA6;\n",
              "    }\n",
              "\n",
              "    [theme=dark] .colab-df-convert {\n",
              "      background-color: #3B4455;\n",
              "      fill: #D2E3FC;\n",
              "    }\n",
              "\n",
              "    [theme=dark] .colab-df-convert:hover {\n",
              "      background-color: #434B5C;\n",
              "      box-shadow: 0px 1px 3px 1px rgba(0, 0, 0, 0.15);\n",
              "      filter: drop-shadow(0px 1px 2px rgba(0, 0, 0, 0.3));\n",
              "      fill: #FFFFFF;\n",
              "    }\n",
              "  </style>\n",
              "\n",
              "      <script>\n",
              "        const buttonEl =\n",
              "          document.querySelector('#df-370319ce-c7b7-4d8b-b7f3-16528a988cad button.colab-df-convert');\n",
              "        buttonEl.style.display =\n",
              "          google.colab.kernel.accessAllowed ? 'block' : 'none';\n",
              "\n",
              "        async function convertToInteractive(key) {\n",
              "          const element = document.querySelector('#df-370319ce-c7b7-4d8b-b7f3-16528a988cad');\n",
              "          const dataTable =\n",
              "            await google.colab.kernel.invokeFunction('convertToInteractive',\n",
              "                                                     [key], {});\n",
              "          if (!dataTable) return;\n",
              "\n",
              "          const docLinkHtml = 'Like what you see? Visit the ' +\n",
              "            '<a target=\"_blank\" href=https://colab.research.google.com/notebooks/data_table.ipynb>data table notebook</a>'\n",
              "            + ' to learn more about interactive tables.';\n",
              "          element.innerHTML = '';\n",
              "          dataTable['output_type'] = 'display_data';\n",
              "          await google.colab.output.renderOutput(dataTable, element);\n",
              "          const docLink = document.createElement('div');\n",
              "          docLink.innerHTML = docLinkHtml;\n",
              "          element.appendChild(docLink);\n",
              "        }\n",
              "      </script>\n",
              "    </div>\n",
              "  </div>\n",
              "  "
            ],
            "text/plain": [
              "                epaSuperfundSiteId containedInPlace  CrsiScore_SuperfundSite  \\\n",
              "0  epaSuperfundSiteId/AL6210020008    geoId/0114464                 0.600902   \n",
              "1  epaSuperfundSiteId/ALD004022448    geoId/0179008                 0.951963   \n",
              "2  epaSuperfundSiteId/ALD007454085    geoId/0151000                 1.011869   \n",
              "3  epaSuperfundSiteId/ALD031618069    geoId/0131912                      NaN   \n",
              "4  epaSuperfundSiteId/ALD041906173    geoId/0115256                 0.394343   \n",
              "5  epaSuperfundSiteId/ALD980728703    geoId/0159064                      NaN   \n",
              "6  epaSuperfundSiteId/ALD980844385    geoId/0168160                      NaN   \n",
              "7  epaSuperfundSiteId/ALD981868466    geoId/0133856                 0.458104   \n",
              "8  epaSuperfundSiteId/ALN000410750    geoId/0107000                 0.394343   \n",
              "\n",
              "    2000   2010  2020  \n",
              "0   16.0   21.0     8  \n",
              "1   14.0    7.0    10  \n",
              "2  500.0  512.0   713  \n",
              "3   20.0    4.0     9  \n",
              "4   15.0   29.0    38  \n",
              "5    NaN    NaN    21  \n",
              "6   69.0  104.0   228  \n",
              "7    7.0   18.0     6  \n",
              "8  422.0  445.0   755  "
            ]
          },
          "metadata": {},
          "execution_count": 45
        }
      ],
      "source": [
        "# Step 2: Merging the StatVarObservations for the `CrsiScore_SuperfundSite` statistical variable to `site_data_df`\n",
        "site_data_df = site_place_df.copy()\n",
        "# Get the list of superfundsites that are contained in a city\n",
        "contained_site_list = site_data_df['epaSuperfundSiteId'].values.tolist()\n",
        "# with the list of superfund sites' place_ids query Data Commons to stats for CrsiScore_SuperfundSite statistical variable\n",
        "superfund_data_df = dpd.build_time_series_dataframe(contained_site_list, 'CrsiScore_SuperfundSite')\n",
        "# rename the column to make it readable\n",
        "superfund_data_df.columns = ['CrsiScore_SuperfundSite']\n",
        "# merge\n",
        "site_data_df = pd.merge(site_data_df, superfund_data_df, left_on='epaSuperfundSiteId', right_on='place', how='left')\n",
        "\n",
        "\n",
        "# Step 3: Merging the StatVarObservations for the `Count_Person_AmericanIndianAndAlaskaNativeAlone` statistical variable to `site_data_df`\n",
        "# Get the list of cities that have superfund sites\n",
        "contained_cities_list = site_data_df['containedInPlace'].values.tolist()\n",
        "# with the list of cities' place_ids query Data Commons to stats for Count_Person_AmericanIndianAndAlaskaNativeAlone statistical variable\n",
        "demographic_data_df = dpd.build_time_series_dataframe(contained_cities_list, 'Count_Person_AmericanIndianAndAlaskaNativeAlone')\n",
        "# merge\n",
        "site_data_df = pd.merge(site_data_df, demographic_data_df, left_on='containedInPlace', right_on='place', how='left')\n",
        "site_data_df"
      ]
    },
    {
      "cell_type": "markdown",
      "source": [
        "#### Example to create custom data aggregations and normalizations\n",
        "\n",
        "We have the dataset where the superfund related statistic ranges from 0-1 but the count of the American Indian and Alaska Native population is an absolute value. We will need to normalize the count of the American Indian and Alaska Native population with the total population in the selected place. \n",
        "\n",
        "This can done easily with the [`build_multivaritate_dataframe`](https://docs.datacommons.org/api/pandas/multivariate_dataframe.html) API method as shown in the following code snippet."
      ],
      "metadata": {
        "id": "uWifdZFthuXI"
      }
    },
    {
      "cell_type": "code",
      "source": [
        "# api call to get the total population and population of the American Indian and Alaska Natives\n",
        "multivariate_dataframe = dpd.build_multivariate_dataframe(places=contained_cities_list, stat_vars=['Count_Person', 'Count_Person_AmericanIndianAndAlaskaNativeAlone'])\n",
        "multivariate_dataframe = multivariate_dataframe.reset_index()\n",
        "\n",
        "# computing per capita population\n",
        "multivariate_dataframe['perCapitaPopulation'] = multivariate_dataframe['Count_Person_AmericanIndianAndAlaskaNativeAlone'] / multivariate_dataframe['Count_Person']\n",
        "\n",
        "# merge the computed per_capita values to the site_data_df\n",
        "site_data_df = pd.merge(site_data_df, multivariate_dataframe[['place', 'perCapitaPopulation']], left_on='containedInPlace', right_on='place', how='left')\n",
        "site_data_df"
      ],
      "metadata": {
        "colab": {
          "base_uri": "https://localhost:8080/",
          "height": 396
        },
        "id": "59jf2xIWhuBD",
        "outputId": "26ed34aa-b033-4622-8a2c-cfc1180ab56e"
      },
      "execution_count": null,
      "outputs": [
        {
          "output_type": "execute_result",
          "data": {
            "text/html": [
              "\n",
              "  <div id=\"df-7ceef8d5-eb6d-4316-b755-8f6839679bfc\">\n",
              "    <div class=\"colab-df-container\">\n",
              "      <div>\n",
              "<style scoped>\n",
              "    .dataframe tbody tr th:only-of-type {\n",
              "        vertical-align: middle;\n",
              "    }\n",
              "\n",
              "    .dataframe tbody tr th {\n",
              "        vertical-align: top;\n",
              "    }\n",
              "\n",
              "    .dataframe thead th {\n",
              "        text-align: right;\n",
              "    }\n",
              "</style>\n",
              "<table border=\"1\" class=\"dataframe\">\n",
              "  <thead>\n",
              "    <tr style=\"text-align: right;\">\n",
              "      <th></th>\n",
              "      <th>epaSuperfundSiteId</th>\n",
              "      <th>containedInPlace</th>\n",
              "      <th>CrsiScore_SuperfundSite</th>\n",
              "      <th>2000</th>\n",
              "      <th>2010</th>\n",
              "      <th>2020</th>\n",
              "      <th>place</th>\n",
              "      <th>perCapitaPopulation</th>\n",
              "    </tr>\n",
              "  </thead>\n",
              "  <tbody>\n",
              "    <tr>\n",
              "      <th>0</th>\n",
              "      <td>epaSuperfundSiteId/AL6210020008</td>\n",
              "      <td>geoId/0114464</td>\n",
              "      <td>0.600902</td>\n",
              "      <td>16.0</td>\n",
              "      <td>21.0</td>\n",
              "      <td>8</td>\n",
              "      <td>geoId/0114464</td>\n",
              "      <td>0.001683</td>\n",
              "    </tr>\n",
              "    <tr>\n",
              "      <th>1</th>\n",
              "      <td>epaSuperfundSiteId/ALD004022448</td>\n",
              "      <td>geoId/0179008</td>\n",
              "      <td>0.951963</td>\n",
              "      <td>14.0</td>\n",
              "      <td>7.0</td>\n",
              "      <td>10</td>\n",
              "      <td>geoId/0179008</td>\n",
              "      <td>0.005045</td>\n",
              "    </tr>\n",
              "    <tr>\n",
              "      <th>2</th>\n",
              "      <td>epaSuperfundSiteId/ALD007454085</td>\n",
              "      <td>geoId/0151000</td>\n",
              "      <td>1.011869</td>\n",
              "      <td>500.0</td>\n",
              "      <td>512.0</td>\n",
              "      <td>713</td>\n",
              "      <td>geoId/0151000</td>\n",
              "      <td>0.003554</td>\n",
              "    </tr>\n",
              "    <tr>\n",
              "      <th>3</th>\n",
              "      <td>epaSuperfundSiteId/ALD031618069</td>\n",
              "      <td>geoId/0131912</td>\n",
              "      <td>NaN</td>\n",
              "      <td>20.0</td>\n",
              "      <td>4.0</td>\n",
              "      <td>9</td>\n",
              "      <td>geoId/0131912</td>\n",
              "      <td>0.001221</td>\n",
              "    </tr>\n",
              "    <tr>\n",
              "      <th>4</th>\n",
              "      <td>epaSuperfundSiteId/ALD041906173</td>\n",
              "      <td>geoId/0115256</td>\n",
              "      <td>0.394343</td>\n",
              "      <td>15.0</td>\n",
              "      <td>29.0</td>\n",
              "      <td>38</td>\n",
              "      <td>geoId/0115256</td>\n",
              "      <td>0.003693</td>\n",
              "    </tr>\n",
              "    <tr>\n",
              "      <th>5</th>\n",
              "      <td>epaSuperfundSiteId/ALD980728703</td>\n",
              "      <td>geoId/0159064</td>\n",
              "      <td>NaN</td>\n",
              "      <td>NaN</td>\n",
              "      <td>NaN</td>\n",
              "      <td>21</td>\n",
              "      <td>geoId/0159064</td>\n",
              "      <td>0.028767</td>\n",
              "    </tr>\n",
              "    <tr>\n",
              "      <th>6</th>\n",
              "      <td>epaSuperfundSiteId/ALD980844385</td>\n",
              "      <td>geoId/0168160</td>\n",
              "      <td>NaN</td>\n",
              "      <td>69.0</td>\n",
              "      <td>104.0</td>\n",
              "      <td>228</td>\n",
              "      <td>geoId/0168160</td>\n",
              "      <td>0.014099</td>\n",
              "    </tr>\n",
              "    <tr>\n",
              "      <th>7</th>\n",
              "      <td>epaSuperfundSiteId/ALD981868466</td>\n",
              "      <td>geoId/0133856</td>\n",
              "      <td>0.458104</td>\n",
              "      <td>7.0</td>\n",
              "      <td>18.0</td>\n",
              "      <td>6</td>\n",
              "      <td>geoId/0133856</td>\n",
              "      <td>0.001207</td>\n",
              "    </tr>\n",
              "    <tr>\n",
              "      <th>8</th>\n",
              "      <td>epaSuperfundSiteId/ALN000410750</td>\n",
              "      <td>geoId/0107000</td>\n",
              "      <td>0.394343</td>\n",
              "      <td>422.0</td>\n",
              "      <td>445.0</td>\n",
              "      <td>755</td>\n",
              "      <td>geoId/0107000</td>\n",
              "      <td>0.003761</td>\n",
              "    </tr>\n",
              "  </tbody>\n",
              "</table>\n",
              "</div>\n",
              "      <button class=\"colab-df-convert\" onclick=\"convertToInteractive('df-7ceef8d5-eb6d-4316-b755-8f6839679bfc')\"\n",
              "              title=\"Convert this dataframe to an interactive table.\"\n",
              "              style=\"display:none;\">\n",
              "        \n",
              "  <svg xmlns=\"http://www.w3.org/2000/svg\" height=\"24px\"viewBox=\"0 0 24 24\"\n",
              "       width=\"24px\">\n",
              "    <path d=\"M0 0h24v24H0V0z\" fill=\"none\"/>\n",
              "    <path d=\"M18.56 5.44l.94 2.06.94-2.06 2.06-.94-2.06-.94-.94-2.06-.94 2.06-2.06.94zm-11 1L8.5 8.5l.94-2.06 2.06-.94-2.06-.94L8.5 2.5l-.94 2.06-2.06.94zm10 10l.94 2.06.94-2.06 2.06-.94-2.06-.94-.94-2.06-.94 2.06-2.06.94z\"/><path d=\"M17.41 7.96l-1.37-1.37c-.4-.4-.92-.59-1.43-.59-.52 0-1.04.2-1.43.59L10.3 9.45l-7.72 7.72c-.78.78-.78 2.05 0 2.83L4 21.41c.39.39.9.59 1.41.59.51 0 1.02-.2 1.41-.59l7.78-7.78 2.81-2.81c.8-.78.8-2.07 0-2.86zM5.41 20L4 18.59l7.72-7.72 1.47 1.35L5.41 20z\"/>\n",
              "  </svg>\n",
              "      </button>\n",
              "      \n",
              "  <style>\n",
              "    .colab-df-container {\n",
              "      display:flex;\n",
              "      flex-wrap:wrap;\n",
              "      gap: 12px;\n",
              "    }\n",
              "\n",
              "    .colab-df-convert {\n",
              "      background-color: #E8F0FE;\n",
              "      border: none;\n",
              "      border-radius: 50%;\n",
              "      cursor: pointer;\n",
              "      display: none;\n",
              "      fill: #1967D2;\n",
              "      height: 32px;\n",
              "      padding: 0 0 0 0;\n",
              "      width: 32px;\n",
              "    }\n",
              "\n",
              "    .colab-df-convert:hover {\n",
              "      background-color: #E2EBFA;\n",
              "      box-shadow: 0px 1px 2px rgba(60, 64, 67, 0.3), 0px 1px 3px 1px rgba(60, 64, 67, 0.15);\n",
              "      fill: #174EA6;\n",
              "    }\n",
              "\n",
              "    [theme=dark] .colab-df-convert {\n",
              "      background-color: #3B4455;\n",
              "      fill: #D2E3FC;\n",
              "    }\n",
              "\n",
              "    [theme=dark] .colab-df-convert:hover {\n",
              "      background-color: #434B5C;\n",
              "      box-shadow: 0px 1px 3px 1px rgba(0, 0, 0, 0.15);\n",
              "      filter: drop-shadow(0px 1px 2px rgba(0, 0, 0, 0.3));\n",
              "      fill: #FFFFFF;\n",
              "    }\n",
              "  </style>\n",
              "\n",
              "      <script>\n",
              "        const buttonEl =\n",
              "          document.querySelector('#df-7ceef8d5-eb6d-4316-b755-8f6839679bfc button.colab-df-convert');\n",
              "        buttonEl.style.display =\n",
              "          google.colab.kernel.accessAllowed ? 'block' : 'none';\n",
              "\n",
              "        async function convertToInteractive(key) {\n",
              "          const element = document.querySelector('#df-7ceef8d5-eb6d-4316-b755-8f6839679bfc');\n",
              "          const dataTable =\n",
              "            await google.colab.kernel.invokeFunction('convertToInteractive',\n",
              "                                                     [key], {});\n",
              "          if (!dataTable) return;\n",
              "\n",
              "          const docLinkHtml = 'Like what you see? Visit the ' +\n",
              "            '<a target=\"_blank\" href=https://colab.research.google.com/notebooks/data_table.ipynb>data table notebook</a>'\n",
              "            + ' to learn more about interactive tables.';\n",
              "          element.innerHTML = '';\n",
              "          dataTable['output_type'] = 'display_data';\n",
              "          await google.colab.output.renderOutput(dataTable, element);\n",
              "          const docLink = document.createElement('div');\n",
              "          docLink.innerHTML = docLinkHtml;\n",
              "          element.appendChild(docLink);\n",
              "        }\n",
              "      </script>\n",
              "    </div>\n",
              "  </div>\n",
              "  "
            ],
            "text/plain": [
              "                epaSuperfundSiteId containedInPlace  CrsiScore_SuperfundSite  \\\n",
              "0  epaSuperfundSiteId/AL6210020008    geoId/0114464                 0.600902   \n",
              "1  epaSuperfundSiteId/ALD004022448    geoId/0179008                 0.951963   \n",
              "2  epaSuperfundSiteId/ALD007454085    geoId/0151000                 1.011869   \n",
              "3  epaSuperfundSiteId/ALD031618069    geoId/0131912                      NaN   \n",
              "4  epaSuperfundSiteId/ALD041906173    geoId/0115256                 0.394343   \n",
              "5  epaSuperfundSiteId/ALD980728703    geoId/0159064                      NaN   \n",
              "6  epaSuperfundSiteId/ALD980844385    geoId/0168160                      NaN   \n",
              "7  epaSuperfundSiteId/ALD981868466    geoId/0133856                 0.458104   \n",
              "8  epaSuperfundSiteId/ALN000410750    geoId/0107000                 0.394343   \n",
              "\n",
              "    2000   2010  2020          place  perCapitaPopulation  \n",
              "0   16.0   21.0     8  geoId/0114464             0.001683  \n",
              "1   14.0    7.0    10  geoId/0179008             0.005045  \n",
              "2  500.0  512.0   713  geoId/0151000             0.003554  \n",
              "3   20.0    4.0     9  geoId/0131912             0.001221  \n",
              "4   15.0   29.0    38  geoId/0115256             0.003693  \n",
              "5    NaN    NaN    21  geoId/0159064             0.028767  \n",
              "6   69.0  104.0   228  geoId/0168160             0.014099  \n",
              "7    7.0   18.0     6  geoId/0133856             0.001207  \n",
              "8  422.0  445.0   755  geoId/0107000             0.003761  "
            ]
          },
          "metadata": {},
          "execution_count": 46
        }
      ]
    },
    {
      "cell_type": "markdown",
      "source": [
        "## Visualizing the comparison on a scatter plot"
      ],
      "metadata": {
        "id": "eqMS7NXo2LnF"
      }
    },
    {
      "cell_type": "code",
      "execution_count": null,
      "metadata": {
        "colab": {
          "base_uri": "https://localhost:8080/",
          "height": 514
        },
        "id": "me2TjmV2Hhjv",
        "outputId": "46a5db38-544d-4a7d-ccde-a72823f5376b"
      },
      "outputs": [
        {
          "output_type": "display_data",
          "data": {
            "image/png": "[encoded data removed]",
            "text/plain": [
              "<Figure size 864x576 with 1 Axes>"
            ]
          },
          "metadata": {
            "needs_background": "light"
          }
        }
      ],
      "source": [
        "def plot_data(title, pd_table, x, y):\n",
        "  \"\"\" Generate a scatter plot comparing CrsiScore_SuperfundSite and Count_Person_AmericanIndianAndAlaskaNativeAlone. \"\"\"\n",
        "  plt.figure(figsize=(12, 8))\n",
        "  plt.title(title)\n",
        "  plt.xlabel('CrsiScore_SuperfundSite')\n",
        "  plt.ylabel('Count_Person_AmericanIndianAndAlaskaNativeAlone')\n",
        "  \n",
        "  # Scatter plot the information\n",
        "  ax = plt.gca()\n",
        "  ax.scatter(pd_table[x], pd_table[y], alpha=0.7)\n",
        "\n",
        "# Generate the plot for state data\n",
        "title = 'CRSI score vs Count of American Indian and Alaska Native population (per Capita)'\n",
        "plot_data(title, site_data_df, x='CrsiScore_SuperfundSite', y='perCapitaPopulation')"
      ]
    },
    {
      "cell_type": "markdown",
      "metadata": {
        "id": "zbjmGtocOLHg"
      },
      "source": [
        "### What's Next?\n",
        "Congratulations 🎉 on completing the tutorial. Next, please free to explore other Data Commons notebooks to get ideas for querying and joining data from the graph"
      ]
    }
  ],
  "metadata": {
    "colab": {
      "collapsed_sections": [],
      "name": "Analyzing SuperfundSites with Data Commons",
      "provenance": [],
      "toc_visible": true,
      "include_colab_link": true
    },
    "kernelspec": {
      "display_name": "Python 3",
      "name": "python3"
    },
    "language_info": {
      "name": "python"
    },
    "widgets": {
      "application/vnd.jupyter.widget-state+json": {
        "e86121a3dee84467911d601c450f076f": {
          "model_module": "@jupyter-widgets/controls",
          "model_name": "DropdownModel",
          "model_module_version": "1.5.0",
          "state": {
            "_options_labels": [
              "Alabama",
              "Alaska",
              "Arizona",
              "Arkansas",
              "California",
              "Colorado",
              "Connecticut",
              "Delaware",
              "District of Columbia",
              "Florida",
              "Georgia",
              "Hawaii",
              "Idaho",
              "Illinois",
              "Indiana",
              "Iowa",
              "Kansas",
              "Kentucky",
              "Louisiana",
              "Maine",
              "Maryland",
              "Massachusetts",
              "Michigan",
              "Minnesota",
              "Mississippi",
              "Missouri",
              "Montana",
              "Nebraska",
              "Nevada",
              "New Hampshire",
              "New Jersey",
              "New Mexico",
              "New York",
              "North Carolina",
              "North Dakota",
              "Ohio",
              "Oklahoma",
              "Oregon",
              "Pennsylvania",
              "Rhode Island",
              "South Carolina",
              "South Dakota",
              "Tennessee",
              "Texas",
              "Utah",
              "Vermont",
              "Virginia",
              "Washington",
              "West Virginia",
              "Wisconsin",
              "Wyoming",
              "Puerto Rico"
            ],
            "_view_name": "DropdownView",
            "style": "IPY_MODEL_2f1164c04f504f80beb625de92bbfa17",
            "_dom_classes": [],
            "description": "",
            "_model_name": "DropdownModel",
            "index": 0,
            "_view_module": "@jupyter-widgets/controls",
            "_model_module_version": "1.5.0",
            "_view_count": null,
            "disabled": false,
            "_view_module_version": "1.5.0",
            "description_tooltip": null,
            "_model_module": "@jupyter-widgets/controls",
            "layout": "IPY_MODEL_2e5a9eb31a424a8db158822f155d85db"
          }
        },
        "2f1164c04f504f80beb625de92bbfa17": {
          "model_module": "@jupyter-widgets/controls",
          "model_name": "DescriptionStyleModel",
          "model_module_version": "1.5.0",
          "state": {
            "_view_name": "StyleView",
            "_model_name": "DescriptionStyleModel",
            "description_width": "",
            "_view_module": "@jupyter-widgets/base",
            "_model_module_version": "1.5.0",
            "_view_count": null,
            "_view_module_version": "1.2.0",
            "_model_module": "@jupyter-widgets/controls"
          }
        },
        "2e5a9eb31a424a8db158822f155d85db": {
          "model_module": "@jupyter-widgets/base",
          "model_name": "LayoutModel",
          "model_module_version": "1.2.0",
          "state": {
            "_view_name": "LayoutView",
            "grid_template_rows": null,
            "right": null,
            "justify_content": null,
            "_view_module": "@jupyter-widgets/base",
            "overflow": null,
            "_model_module_version": "1.2.0",
            "_view_count": null,
            "flex_flow": null,
            "width": null,
            "min_width": null,
            "border": null,
            "align_items": null,
            "bottom": null,
            "_model_module": "@jupyter-widgets/base",
            "top": null,
            "grid_column": null,
            "overflow_y": null,
            "overflow_x": null,
            "grid_auto_flow": null,
            "grid_area": null,
            "grid_template_columns": null,
            "flex": null,
            "_model_name": "LayoutModel",
            "justify_items": null,
            "grid_row": null,
            "max_height": null,
            "align_content": null,
            "visibility": null,
            "align_self": null,
            "height": null,
            "min_height": null,
            "padding": null,
            "grid_auto_rows": null,
            "grid_gap": null,
            "max_width": null,
            "order": null,
            "_view_module_version": "1.2.0",
            "grid_template_areas": null,
            "object_position": null,
            "object_fit": null,
            "grid_auto_columns": null,
            "margin": null,
            "display": null,
            "left": null
          }
        },
        "8794d888dc834c1cad49e577a95736a4": {
          "model_module": "@jupyter-widgets/controls",
          "model_name": "DropdownModel",
          "model_module_version": "1.5.0",
          "state": {
            "_options_labels": [
              "Anniston Army Depot (Southeast Industrial Area)",
              "Alabama Army Ammunition Plant",
              "Redstone Arsenal (USARMY/NASA)",
              "Ciba-Geigy Corp. (McIntosh Plant)",
              "Alabama Plating Company Inc.",
              "T.H. Agriculture & Nutrition Co. (Montgomery Plant)",
              "Stauffer Chemical Co. (LeMoyne Plant)",
              "Olin Corp. (McIntosh Plant)",
              "Mowbray Engineering Co.",
              "Interstate Lead Co. (ILCO)",
              "Stauffer Chemical Co. (Cold Creek Plant)",
              "Perdido Ground Water Contamination",
              "Redwing Carriers Inc. (Saraland)",
              "American Brass",
              "Triana/Tennessee River",
              "35th Avenue"
            ],
            "_view_name": "DropdownView",
            "style": "IPY_MODEL_e1eb411fba2a42b783282223aa7c6ce7",
            "_dom_classes": [],
            "description": "",
            "_model_name": "DropdownModel",
            "index": 0,
            "_view_module": "@jupyter-widgets/controls",
            "_model_module_version": "1.5.0",
            "_view_count": null,
            "disabled": false,
            "_view_module_version": "1.5.0",
            "description_tooltip": null,
            "_model_module": "@jupyter-widgets/controls",
            "layout": "IPY_MODEL_d5670d1d5dda4c479d70627d752ba8c1"
          }
        },
        "e1eb411fba2a42b783282223aa7c6ce7": {
          "model_module": "@jupyter-widgets/controls",
          "model_name": "DescriptionStyleModel",
          "model_module_version": "1.5.0",
          "state": {
            "_view_name": "StyleView",
            "_model_name": "DescriptionStyleModel",
            "description_width": "",
            "_view_module": "@jupyter-widgets/base",
            "_model_module_version": "1.5.0",
            "_view_count": null,
            "_view_module_version": "1.2.0",
            "_model_module": "@jupyter-widgets/controls"
          }
        },
        "d5670d1d5dda4c479d70627d752ba8c1": {
          "model_module": "@jupyter-widgets/base",
          "model_name": "LayoutModel",
          "model_module_version": "1.2.0",
          "state": {
            "_view_name": "LayoutView",
            "grid_template_rows": null,
            "right": null,
            "justify_content": null,
            "_view_module": "@jupyter-widgets/base",
            "overflow": null,
            "_model_module_version": "1.2.0",
            "_view_count": null,
            "flex_flow": null,
            "width": null,
            "min_width": null,
            "border": null,
            "align_items": null,
            "bottom": null,
            "_model_module": "@jupyter-widgets/base",
            "top": null,
            "grid_column": null,
            "overflow_y": null,
            "overflow_x": null,
            "grid_auto_flow": null,
            "grid_area": null,
            "grid_template_columns": null,
            "flex": null,
            "_model_name": "LayoutModel",
            "justify_items": null,
            "grid_row": null,
            "max_height": null,
            "align_content": null,
            "visibility": null,
            "align_self": null,
            "height": null,
            "min_height": null,
            "padding": null,
            "grid_auto_rows": null,
            "grid_gap": null,
            "max_width": null,
            "order": null,
            "_view_module_version": "1.2.0",
            "grid_template_areas": null,
            "object_position": null,
            "object_fit": null,
            "grid_auto_columns": null,
            "margin": null,
            "display": null,
            "left": null
          }
        },
        "9cf7730acc784ae48e5f17c86e92a261": {
          "model_module": "@jupyter-widgets/controls",
          "model_name": "DropdownModel",
          "model_module_version": "1.5.0",
          "state": {
            "_options_labels": [
              "CrsiScore_SuperfundSite",
              "NaturalHazardExposureScore_SuperfundSite",
              "NaturalHazardRiskScore_SuperfundSite",
              "NaturalHazardRiskScore_SuperfundSite_CoastalFloodEvent",
              "NaturalHazardRiskScore_SuperfundSite_DroughtEvent",
              "NaturalHazardRiskScore_SuperfundSite_EarthquakeEvent",
              "NaturalHazardRiskScore_SuperfundSite_ExcessiveHeatEvent",
              "NaturalHazardRiskScore_SuperfundSite_ExtremeColdWindChillEvent",
              "NaturalHazardRiskScore_SuperfundSite_FloodEvent",
              "NaturalHazardRiskScore_SuperfundSite_HailEvent",
              "NaturalHazardRiskScore_SuperfundSite_HighWindEvent",
              "NaturalHazardRiskScore_SuperfundSite_HurricaneEvent",
              "NaturalHazardRiskScore_SuperfundSite_LandslideEvent",
              "NaturalHazardRiskScore_SuperfundSite_TornadoEvent",
              "NaturalHazardRiskScore_SuperfundSite_WildfireEvent"
            ],
            "_view_name": "DropdownView",
            "style": "IPY_MODEL_518586f83b35495aa1215c5dbd1cd79d",
            "_dom_classes": [],
            "description": "",
            "_model_name": "DropdownModel",
            "index": 0,
            "_view_module": "@jupyter-widgets/controls",
            "_model_module_version": "1.5.0",
            "_view_count": null,
            "disabled": false,
            "_view_module_version": "1.5.0",
            "description_tooltip": null,
            "_model_module": "@jupyter-widgets/controls",
            "layout": "IPY_MODEL_fb9e80f4aea842e390f3341a488d14d8"
          }
        },
        "518586f83b35495aa1215c5dbd1cd79d": {
          "model_module": "@jupyter-widgets/controls",
          "model_name": "DescriptionStyleModel",
          "model_module_version": "1.5.0",
          "state": {
            "_view_name": "StyleView",
            "_model_name": "DescriptionStyleModel",
            "description_width": "",
            "_view_module": "@jupyter-widgets/base",
            "_model_module_version": "1.5.0",
            "_view_count": null,
            "_view_module_version": "1.2.0",
            "_model_module": "@jupyter-widgets/controls"
          }
        },
        "fb9e80f4aea842e390f3341a488d14d8": {
          "model_module": "@jupyter-widgets/base",
          "model_name": "LayoutModel",
          "model_module_version": "1.2.0",
          "state": {
            "_view_name": "LayoutView",
            "grid_template_rows": null,
            "right": null,
            "justify_content": null,
            "_view_module": "@jupyter-widgets/base",
            "overflow": null,
            "_model_module_version": "1.2.0",
            "_view_count": null,
            "flex_flow": null,
            "width": null,
            "min_width": null,
            "border": null,
            "align_items": null,
            "bottom": null,
            "_model_module": "@jupyter-widgets/base",
            "top": null,
            "grid_column": null,
            "overflow_y": null,
            "overflow_x": null,
            "grid_auto_flow": null,
            "grid_area": null,
            "grid_template_columns": null,
            "flex": null,
            "_model_name": "LayoutModel",
            "justify_items": null,
            "grid_row": null,
            "max_height": null,
            "align_content": null,
            "visibility": null,
            "align_self": null,
            "height": null,
            "min_height": null,
            "padding": null,
            "grid_auto_rows": null,
            "grid_gap": null,
            "max_width": null,
            "order": null,
            "_view_module_version": "1.2.0",
            "grid_template_areas": null,
            "object_position": null,
            "object_fit": null,
            "grid_auto_columns": null,
            "margin": null,
            "display": null,
            "left": null
          }
        }
      }
    }
  },
  "nbformat": 4,
  "nbformat_minor": 0
}
