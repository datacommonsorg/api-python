{
  "nbformat": 4,
  "nbformat_minor": 0,
  "metadata": {
    "colab": {
      "name": "AnalyzingGenomicDatawithBiomedicalDataCommons.ipynb",
      "provenance": [],
      "collapsed_sections": [],
      "include_colab_link": true
    },
    "kernelspec": {
      "name": "python3",
      "display_name": "Python 3"
    }
  },
  "cells": [
    {
      "cell_type": "markdown",
      "metadata": {
        "id": "view-in-github",
        "colab_type": "text"
      },
      "source": [
        "<a href=\"https://colab.research.google.com/github/tjann/api-python/blob/udpatenb/AnalyzingGenomicDatawithBiomedicalDataCommons.ipynb\" target=\"_parent\"><img src=\"https://colab.research.google.com/assets/colab-badge.svg\" alt=\"Open In Colab\"/></a>"
      ]
    },
    {
      "cell_type": "markdown",
      "metadata": {
        "id": "BrpyeNL6QY7u",
        "colab_type": "text"
      },
      "source": [
        "# Analyzing Genomic Data with Biomedical Data Commons\n",
        "Datacommons is intended for various data science tasks. This tutorial introduces the datacommons knowledge graph and discusses two tools to help integrate its data into your data science projects: (1) the [datacommons browser](https://browser.datacommons.org/) and (2) the [Python API](https://github.com/datacommonsorg/api-python). Before getting started, we will need to install the Python API package.\n"
      ]
    },
    {
      "cell_type": "code",
      "metadata": {
        "id": "qGeY05pnQSeW",
        "colab_type": "code",
        "colab": {}
      },
      "source": [
        "# Install datacommons\n",
        "!pip install --upgrade --quiet datacommons"
      ],
      "execution_count": 1,
      "outputs": []
    },
    {
      "cell_type": "markdown",
      "metadata": {
        "id": "vvXt7uRwQgJE",
        "colab_type": "text"
      },
      "source": [
        "#What is Biomedical Data Commons?\n",
        "Data Commons is an open knowledge graph of structured data. It contains statements about real world objects such as\n",
        "*   The genome assembly [hg38](https://browser.datacommons.org/kg?dcid=bio%2Fhg38) is a reference genome for the species *[Homo sapiens](https://browser.datacommons.org/kg?dcid=bio%2Fhs)*.\n",
        "*   For the [hg38](https://browser.datacommons.org/kg?dcid=bio%2Fhg38) genome assembly [chr17](https://browser.datacommons.org/kg?dcid=bio%2Fhg38_chr17) has [83,257,441 base pairs](https://browser.datacommons.org/kg?dcid=BasePairs83257441).\n",
        "*   [BRCA1](https://browser.datacommons.org/kg?dcid=bio/hg38_BRCA1) genomic coordinates are [chr17](https://browser.datacommons.org/kg?dcid=bio%2Fhg38_chr17):[43,044,294-43,125,483](https://browser.datacommons.org/kg?dcid=Position43044294To43125483) for genome assembly [hg38](https://browser.datacommons.org/kg?dcid=bio%2Fhg38).\n",
        "\n",
        "In the graph, [entities](https://en.wikipedia.org/wiki/Entity) like the genome assembly [hg38](https://browser.datacommons.org/kg?dcid=bio%2Fhg38) are represented by nodes. Every node has a type corresponding to what the node represents. For example, *[Homo sapiens](https://browser.datacommons.org/kg?dcid=bio%2Fhs)* is a [Species](https://browser.datacommons.org/kg?dcid=Species). Relations between entities are represented by edges between these nodes. For example, the statement \"The genome assembly hg38 is a reference genome for the species *Homo sapiens*.\" is represented in the graph as two nodes: \"hg38\" and \"HomoSapiens\" with an edge labeled \"[is_species](https://browser.datacommons.org/kg?dcid=is_chromosome)\" pointing from \"hg38\" to \"HomoSapiens\". Data Commons follows the [Schema.org data model](https://schema.org/docs/datamodel.html) and leverages schema.org schema to provide a common set of types and properties. To accomodate biological data this schema has been expanded to reflect the schema that has been used across biological databases created by the scientific community."
      ]
    },
    {
      "cell_type": "markdown",
      "metadata": {
        "id": "S3GA2E_pQmet",
        "colab_type": "text"
      },
      "source": [
        "#Data Commons Browser\n",
        "The Data Commons browser provides a way to explore the data in a human-readable format. It is the best way to explore what is in Data Commons. Searching in the browser for an entity like [BRACA1](https://browser.datacommons.org/kg?dcid=bio/hg38_BRCA1), takes you to a page about the entity, including properties like [refSeqID](https://browser.datacommons.org/kg?dcid=refSeqID) and [typeOfGene](https://browser.datacommons.org/kg?dcid=typeOfGene).\n",
        "\n",
        "An important property for all entities is the dcid. The dcid (DataCommons identifier) is a unique identifier assigned to each entity in the knowledge graph. With this identifier, you will be able to search for and query information on the given entity in ways that we will discuss later. The dcid is listed at the top of the page next to \"About: \" and also in the list of properties."
      ]
    },
    {
      "cell_type": "markdown",
      "metadata": {
        "id": "wKXZNB9bQowR",
        "colab_type": "text"
      },
      "source": [
        "# Python API\n",
        "\n",
        "The [Python API](https://github.com/datacommonsorg/api-python) provides functions for users to extract structured information from Data Commons programmatically and view them in different formats such as Python `dict`'s and [Pandas](https://pandas.pydata.org/) DataFrames. DataFrames allow access to all the data processing, analytical and visualization tools provided by packages such as Pandas, NumPy, SciPy, and Matplotlib. For more information check out the [documentation](https://datacommons.readthedocs.io/en/latest/modules.html) on the Python API's modules.\n",
        "\n",
        "Every notebook begins by loading the datacommons library as follows:"
      ]
    },
    {
      "cell_type": "code",
      "metadata": {
        "id": "49VGt66oQjeq",
        "colab_type": "code",
        "colab": {}
      },
      "source": [
        "# Import Data Commons\n",
        "import datacommons as dc\n",
        "\n",
        "# Import other required libraries\n",
        "import matplotlib.pyplot as plt\n",
        "import matplotlib.patches as mpatches\n",
        "import pandas as pd\n",
        "import requests\n",
        "import json"
      ],
      "execution_count": 2,
      "outputs": []
    },
    {
      "cell_type": "markdown",
      "metadata": {
        "id": "LRntKMDWQ1Ml",
        "colab_type": "text"
      },
      "source": [
        "##Example: Identify the Genome Assemblies Supported by Biomedical Data Commons\n",
        "For this exercise we will identify the genome assemblies and their related species that are currently supported by Biomedical Data Commons. We will start by looking up the dcid for '[GenomeAssembly](https://browser.datacommons.org/kg?dcid=GenomeAssembly)'.\n",
        "\n"
      ]
    },
    {
      "cell_type": "markdown",
      "metadata": {
        "id": "WGEx_kC5Q2Oz",
        "colab_type": "text"
      },
      "source": [
        "## Using get_property_value to Access Node Properties\n",
        "Our first task for this tutorial will be to extract the genome assemblies from Data Commons using the Python API and view it in a Pandas DataFrame. For all properties, one can use [**`get_property_values`**](https://datacommons.readthedocs.io/en/latest/_autosummary/datacommons_core/datacommons.core.get_property_values.html) to get the associated values. Let's look up the dcid of [GenomeAssembly](https://browser.datacommons.org/kg?dcid=GenomeAssembly). We would then like to initialize our Pandas dataframe for the dcid bio/GenomeAssembly.\n",
        "\n",
        "For all properties, one can use `get_property_values` to get the associated values. We would like to know the instances of \"GenomeAssembly\" by getting the the typeOf instances that are oriented towards the \"GenomeAssembly\" identified by \"bio/GenomeAssembly\". `get_property_values` accepts the following parameters:\n",
        "\n",
        "\n",
        "*  **`dcids`** - A list of dcids to get property values for.\n",
        "*  **`prop`** - The property to get property values for.\n",
        "*  **`out`**`[=True]` - An optional flag that indicates the property is oriented away from the given nodes if true.\n",
        "*  **`value_type`**`[=None]` - An optional parameter which filters property values by the given type.\n",
        "*  **`limit`**`[=100]` - An optional parameter which limits the total number of property values returned aggregated over all given nodes.\n",
        "\n",
        "When the dcids are given as a Pandas Series, the returned list of property values is a Pandas Series where the i-th entry corresponds to property values associated with the i-th given dcid. Some properties, like containedInPlace, may have many property values. Consequently, the cells of the returned series will always contain a list of property values. Let's take a look:"
      ]
    },
    {
      "cell_type": "code",
      "metadata": {
        "id": "wKxlsd5CQ6dJ",
        "colab_type": "code",
        "colab": {
          "base_uri": "https://localhost:8080/",
          "height": 36
        },
        "outputId": "349f1b0e-0dda-48b6-876b-25f9009a2395"
      },
      "source": [
        "# Call get_property_values. The return value is a dict keyed by 'GenomeAssembly'.\n",
        "genomeAssembly_dcids = dc.get_property_values(['GenomeAssembly'], 'typeOf',  out=False)['GenomeAssembly']\n",
        "# Display the frame\n",
        "print(genomeAssembly_dcids)"
      ],
      "execution_count": 3,
      "outputs": [
        {
          "output_type": "stream",
          "text": [
            "['bio/ce10', 'bio/ce9', 'bio/danRer10', 'bio/danRer11', 'bio/dm3', 'bio/dm6', 'bio/galGal5', 'bio/galGal6', 'bio/hg19', 'bio/hg38', 'bio/mm10', 'bio/mm9', 'bio/sacCer3', 'bio/xenLae2']\n"
          ],
          "name": "stdout"
        }
      ]
    },
    {
      "cell_type": "markdown",
      "metadata": {
        "id": "s9etKR8DQ84d",
        "colab_type": "text"
      },
      "source": [
        "## Example: List All Genome Assemblies in Human Readable Format\n",
        "Let's continue learning about the genome assemblies supported by Biomedical Data Commons. We are next going to find the names and species of the genome assemblies that are associated with the list of dcids of genome assemblies that we found. We are going to display the information in a human readable table."
      ]
    },
    {
      "cell_type": "code",
      "metadata": {
        "id": "Tvl9YAzJQ-z7",
        "colab_type": "code",
        "colab": {
          "base_uri": "https://localhost:8080/",
          "height": 302
        },
        "outputId": "8e06043a-f323-4d7d-da71-1cf10d021fe0"
      },
      "source": [
        "# Intialize the Data Frame\n",
        "df_genomeAssemblies = pd.DataFrame()\n",
        "\n",
        "# Add genome assemblies name and dcid\n",
        "df_genomeAssemblies['name'] = pd.Series(dc.get_property_values(genomeAssembly_dcids, 'name'))\n",
        "df_genomeAssemblies.reset_index(level=0, inplace=True)\n",
        "df_genomeAssemblies = df_genomeAssemblies.rename(columns={\"index\": \"dcid\"}).explode('name')\n",
        "\n",
        "# Add Species dcid\n",
        "df_genomeAssemblies['species_dcid'] = df_genomeAssemblies['dcid'].map(\n",
        "    dc.get_property_values(df_genomeAssemblies['dcid'], 'ofSpecies'))\n",
        "df_genomeAssemblies = df_genomeAssemblies.explode('species_dcid')\n",
        "\n",
        "# Add Species name\n",
        "df_genomeAssemblies['species_name'] = df_genomeAssemblies['species_dcid'].map(\n",
        "    dc.get_property_values(df_genomeAssemblies['species_dcid'], 'name'))\n",
        "df_genomeAssemblies = df_genomeAssemblies.explode('species_name')\n",
        "\n",
        "print(df_genomeAssemblies)"
      ],
      "execution_count": 4,
      "outputs": [
        {
          "output_type": "stream",
          "text": [
            "            dcid      name species_dcid             species_name\n",
            "0       bio/ce10      ce10       bio/ce    CaenorhabditisElegans\n",
            "1        bio/ce9       ce9       bio/ce    CaenorhabditisElegans\n",
            "2   bio/danRer10  danRer10   bio/danRer               DanioRerio\n",
            "3   bio/danRer11  danRer11   bio/danRer               DanioRerio\n",
            "4        bio/dm3       dm3       bio/dm   DrosophilaMelanogaster\n",
            "5        bio/dm6       dm6       bio/dm   DrosophilaMelanogaster\n",
            "6    bio/galGal5   galGal5   bio/galGal             GallusGallus\n",
            "7    bio/galGal6   galGal6   bio/galGal             GallusGallus\n",
            "8       bio/hg19      hg19       bio/hs              HomoSapiens\n",
            "9       bio/hg38      hg38       bio/hs              HomoSapiens\n",
            "10      bio/mm10      mm10       bio/mm              MusMusculus\n",
            "11       bio/mm9       mm9       bio/mm              MusMusculus\n",
            "12   bio/sacCer3   sacCer3   bio/sacCer  SaccharomycesCerevisiae\n",
            "13   bio/xenLae2   xenLae2   bio/xenLae            XenopusLaevis\n"
          ],
          "name": "stdout"
        }
      ]
    },
    {
      "cell_type": "markdown",
      "metadata": {
        "id": "vXeKzZxlRBc8",
        "colab_type": "text"
      },
      "source": [
        "Congratulations! You've found the basic information on all the genome assemblies and species currently supported by Biomedical Data Commons. As you can see we currently support data from 8 model organisms across 14 different genome assemblies."
      ]
    },
    {
      "cell_type": "markdown",
      "metadata": {
        "id": "W4_hSQvJREsA",
        "colab_type": "text"
      },
      "source": [
        "# Example: Analyze Genetic Variants within RUNX1\n",
        "For this exercise, we will be analyzing genetic variants within the gene RUNX1. We will start by identifying the genetic variants within the gene region and then limit our list to those within the coding region of BRCA1 and then to those with known clinical significance. First, let's start by looking up the dcid for '[RUNX1](https://browser.datacommons.org/kg?dcid=bio/hg38_RUNX1)'. \n",
        "\n",
        "Note that 'Gene' defines the Data Commons type. Let's start by using [**`get_property_labels`**](https://datacommons.readthedocs.io/en/latest/_autosummary/datacommons_core/datacommons.core.get_property_labels.html) to identify all the properties associated with RUNX1. `get_property_labels` accepts the following parameters:\n",
        "-  **`dcids`** `[list of str]` – A list of nodes identified by their dcids.\n",
        "-  **`out`** `[bool, optional]` – Whether or not the property points away from the given list of nodes.\n",
        "\n",
        "The output of `get_property_labels` is a dict mapping dcids to lists of property labels. If out is True, then property labels correspond to edges directed away from given nodes. Otherwise, they correspond to edges directed towards the given nodes."
      ]
    },
    {
      "cell_type": "code",
      "metadata": {
        "id": "IHiMmiBERG3B",
        "colab_type": "code",
        "colab": {
          "base_uri": "https://localhost:8080/",
          "height": 397
        },
        "outputId": "37911039-8999-4656-bbec-d6d100ba5796"
      },
      "source": [
        "# Call get_property_labels\n",
        "dc.get_property_labels(['bio/hg38_RUNX1'])"
      ],
      "execution_count": 5,
      "outputs": [
        {
          "output_type": "execute_result",
          "data": {
            "text/plain": [
              "{'bio/hg38_RUNX1': ['description',\n",
              "  'fullName',\n",
              "  'geneSymbol',\n",
              "  'genomicCoordinates',\n",
              "  'hasRNATranscript',\n",
              "  'inChromosome',\n",
              "  'inGenomeAssembly',\n",
              "  'mRNA',\n",
              "  'mapLocation',\n",
              "  'modificationDate',\n",
              "  'name',\n",
              "  'ncbiGeneID',\n",
              "  'ncbiTaxonID',\n",
              "  'nomenclatureStatus',\n",
              "  'ofSpecies',\n",
              "  'provenance',\n",
              "  'refSeqID',\n",
              "  'strandOrientation',\n",
              "  'typeOf',\n",
              "  'typeOfGene']}"
            ]
          },
          "metadata": {
            "tags": []
          },
          "execution_count": 5
        }
      ]
    },
    {
      "cell_type": "markdown",
      "metadata": {
        "id": "_CXvFjSJRI4_",
        "colab_type": "text"
      },
      "source": [
        "### Identify RUNX1 Genomic Coordinates\n",
        "Great, now we see the type of information known about RUNX1. To identify the genetic variants within the gene region we need to know what the chromosome and ther genomic coordinates of RUNX1. Let's grab that information using `get_property_values`."
      ]
    },
    {
      "cell_type": "code",
      "metadata": {
        "id": "d75k6KVhRMzp",
        "colab_type": "code",
        "colab": {
          "base_uri": "https://localhost:8080/",
          "height": 55
        },
        "outputId": "23135fce-93d6-4b27-97d7-52b411c89fc3"
      },
      "source": [
        "# Initialize the Data Frame\n",
        "df_RUNX1 = pd.DataFrame({'gene': ['bio/hg38_RUNX1']})\n",
        "\n",
        "# Grab the chromosome and genomic coordinates using get_property_values\n",
        "df_RUNX1['chromosome'] = df_RUNX1['gene'].map(dc.get_property_values(df_RUNX1['gene'], 'inChromosome'))\n",
        "df_RUNX1['genomicCoordinates'] = df_RUNX1['gene'].map(dc.get_property_values(df_RUNX1['gene'], 'genomicCoordinates'))\n",
        "\n",
        "# display the genomic coordinates\n",
        "print(df_RUNX1)\n",
        "\n",
        "# define start and stop of RUNX1\n",
        "start, stop = df_RUNX1['genomicCoordinates'][0][0].strip('Position').split('To')\n",
        "start = int(start)\n",
        "stop = int(stop)"
      ],
      "execution_count": 6,
      "outputs": [
        {
          "output_type": "stream",
          "text": [
            "             gene        chromosome            genomicCoordinates\n",
            "0  bio/hg38_RUNX1  [bio/hg38_chr21]  [Position34787800To35049344]\n"
          ],
          "name": "stdout"
        }
      ]
    },
    {
      "cell_type": "markdown",
      "metadata": {
        "id": "kJoGt1wrRPHu",
        "colab_type": "text"
      },
      "source": [
        "## Find All The Genetic Variants Within RUNX1\n",
        "We found the coordinates of RUNX1 in the hg38 genome: chr21:34787800-35049344. Now that we know this let's find all the genetic variants of class [GeneticVariant](https://browser.datacommons.org/kg?dcid=GeneticVariant) that occur in the region. But first let's establish the information that we know on genetic variants using `get_property_values`.\n"
      ]
    },
    {
      "cell_type": "code",
      "metadata": {
        "id": "ozoN1sE6RROW",
        "colab_type": "code",
        "colab": {
          "base_uri": "https://localhost:8080/",
          "height": 56
        },
        "outputId": "87898f5a-29f7-4358-a5c3-027850c7ea74"
      },
      "source": [
        "# Identify all the properties of genetic variants\n",
        "print(dc.get_property_values(['GeneticVariant'], 'domainIncludes', value_type='Property',  out=False))"
      ],
      "execution_count": 7,
      "outputs": [
        {
          "output_type": "stream",
          "text": [
            "{'GeneticVariant': ['alleleOrigin', 'alleleType', 'averageHeterozygosity', 'averageHeterozygositySE', 'clinVarAlleleID', 'clinVarFilterStatus', 'clinVarID', 'clinVarQualityScore', 'clinVarReviewStatus', 'clinicalSignificance', 'clinicalSignificanceConflicting', 'clinicalSignificanceType', 'clinicalSource', 'dbSNPBuildID', 'dbVarID', 'diseaseDescription', 'diseaseName', 'experimentalFactorOntologyID', 'geneID', 'geneReviewsID', 'geneSymbol', 'geneticTestingRegistryID', 'geneticVariantAlignmentQuality', 'geneticVariantAttribute', 'geneticVariantClass', 'geneticVariantExceptions', 'geneticVariantFunctionalCategory', 'geneticVariantImpercise', 'geneticVariantLength', 'geneticVariantLocType', 'geneticVariantSubmitterCount', 'geneticVariantValidationStatus', 'geneticsHomeReferenceID', 'genomicPosition', 'hg19GenomicLocation', 'hg19GenomicPosition', 'hg38GenomicLocation', 'hg38GenomicPosition', 'humanGenomeVariationSocietyNomenclature', 'humanPhenotypeOntologyID', 'medGenID', 'medicalGeneticSummariesID', 'medicalSubjectHeadingID', 'mm10GenomicLocation', 'mm9GenomicLocation', 'molecularType', 'mondoID', 'ncbiGeneID', 'numberOfAllelesWithFreq', 'observedAllele', 'omimID', 'orphaNumber', 'pharmGKBID', 'referenceAlleleNCBI', 'referenceAlleleUCSC', 'referenceSNPClusterID', 'sequenceOntologyID', 'snomedCT', 'submitter', 'suspectReasonCode', 'translocationToChromosome', 'variationEndCI', 'variationPositionCI', 'variationType']}\n"
          ],
          "name": "stdout"
        }
      ]
    },
    {
      "cell_type": "markdown",
      "metadata": {
        "id": "AiMokiMfRTe4",
        "colab_type": "text"
      },
      "source": [
        "### Using SPARQL and get_property_values to find genetic variants in RUNX1\n",
        "Like genes, genetic variants also point to the chromosome on which they reside. Their positions on the chromosome is specified by hg38GenomicPosition. Using [**`query`**](https://datacommons.readthedocs.io/en/latest/_autosummary/datacommons.query.html) we will identify the dcids of all genetic variants on chr21. `query` accepts the following parameter\n",
        "-  **`query`** `[query_string[, select]]` – Returns the results of executing a SPARQL query on the Data Commons graph.\n",
        "\n",
        "`query` parameter is a SPARQL query that quickly searches and returns the data that matches the query on multiple parameters. There is no limit to the number of values that can be returned by a SPARQL query. In our query here we will be specifying that we want all genetic variants on chr21. Then we will format all the returned genetic variant dcids into a list and use `get_property_values` again to filter for genetic variants whose hg38GenomicPosition is within RUNX1. "
      ]
    },
    {
      "cell_type": "code",
      "metadata": {
        "id": "4rFcLP0rRVz5",
        "colab_type": "code",
        "colab": {
          "base_uri": "https://localhost:8080/",
          "height": 207
        },
        "outputId": "c2f6f4e5-6bd9-4ef1-aea3-53a9525d11ae"
      },
      "source": [
        "# Query for genetic variants associated with RUNX1\n",
        "query = '''\n",
        "SELECT ?gv  ?p\n",
        "WHERE { \n",
        "    ?chr dcid \"bio/hg38_chr21\" . \n",
        "    ?gv inChromosome ?chr .\n",
        "    ?gv typeOf GeneticVariant .\n",
        "    ?gv hg38GenomicPosition ?p\n",
        "}\n",
        "'''\n",
        "print(query)\n",
        "rows = dc.query(query)\n",
        "dcids = set()\n",
        "for row in rows:\n",
        "  dcids.add(row['?gv'])\n",
        "dcids = list(dcids)\n",
        "print(len(dcids))"
      ],
      "execution_count": 8,
      "outputs": [
        {
          "output_type": "stream",
          "text": [
            "\n",
            "SELECT ?gv  ?p\n",
            "WHERE { \n",
            "    ?chr dcid \"bio/hg38_chr21\" . \n",
            "    ?gv inChromosome ?chr .\n",
            "    ?gv typeOf GeneticVariant .\n",
            "    ?gv hg38GenomicPosition ?p\n",
            "}\n",
            "\n",
            "8028\n"
          ],
          "name": "stdout"
        }
      ]
    },
    {
      "cell_type": "code",
      "metadata": {
        "id": "Zp3uhwfJRYcA",
        "colab_type": "code",
        "colab": {
          "base_uri": "https://localhost:8080/",
          "height": 55
        },
        "outputId": "f5effb12-eacc-4182-c570-a0d930c44cbe"
      },
      "source": [
        "# filter all genetic variants for the ones within RUNX1\n",
        "RUNX1_geneticVariants = []\n",
        "gen_positions = dc.get_property_values(dcids, 'hg38GenomicPosition')\n",
        "data = pd.DataFrame(gen_positions).transpose()\n",
        "data.reset_index(level=0, inplace=True)\n",
        "data = data.rename(columns={\"index\": \"dcid\", 0: \"position\"})\n",
        "data['position'] = pd.to_numeric(data['position'])\n",
        "data = data[data['position'] >= start]\n",
        "data = data[data['position'] < stop]\n",
        "RUNX1_geneticVariants = list(set(data['dcid']))\n",
        "\n",
        "# print the first few genetic variants\n",
        "print(RUNX1_geneticVariants[:5])\n",
        "\n",
        "# check how many genetic variants are in RUNX1\n",
        "print(len(RUNX1_geneticVariants))"
      ],
      "execution_count": 9,
      "outputs": [
        {
          "output_type": "stream",
          "text": [
            "['bio/rs1569084170', 'bio/643883', 'bio/rs1569002337', 'bio/839054', 'bio/rs150481777']\n",
            "504\n"
          ],
          "name": "stdout"
        }
      ]
    },
    {
      "cell_type": "markdown",
      "metadata": {
        "id": "0Zb9dsK_RfMD",
        "colab_type": "text"
      },
      "source": [
        "## Identify Which Genetic Variants Are In Coding Regions\n",
        "We've identified 360 genetic varaints within RUNX1. However, these can be in introns or exons. Let's further restrict genetic variant list to ones in the coding region of RUNX1. To do this we need to identify the positions of the exons of RUNX1. We know that RUNX1 has a property called rnaTranscript. Let's use `get_property_values` to find out more information on the RUNX1 transcript."
      ]
    },
    {
      "cell_type": "code",
      "metadata": {
        "id": "rbJMK_pbRf2Z",
        "colab_type": "code",
        "colab": {
          "base_uri": "https://localhost:8080/",
          "height": 93
        },
        "outputId": "9b274fb7-0b75-4508-e980-4e4ce3b000c5"
      },
      "source": [
        "# Get property values for rnaTranscript of RUNX1\n",
        "df_RUNX1['rnaTranscript'] = df_RUNX1['gene'].map(dc.get_property_values(df_RUNX1['gene'], 'hasRNATranscript'))\n",
        "print(df_RUNX1)"
      ],
      "execution_count": 10,
      "outputs": [
        {
          "output_type": "stream",
          "text": [
            "             gene  ...                                      rnaTranscript\n",
            "0  bio/hg38_RUNX1  ...  [bio/hg38_ENST00000300305.7, bio/hg38_ENST0000...\n",
            "\n",
            "[1 rows x 4 columns]\n"
          ],
          "name": "stdout"
        }
      ]
    },
    {
      "cell_type": "markdown",
      "metadata": {
        "id": "QmXRJpriRift",
        "colab_type": "text"
      },
      "source": [
        "### Identify the properties of RNATranscripts\n",
        "There are several dcids associated with this property which are pointing to nodes of class [RNATranscript](https://browser.datacommons.org/kg?dcid=RNATranscript). Let's verify that this is indeed the case and then check the properties of RNATrancript using `get_property_values`."
      ]
    },
    {
      "cell_type": "code",
      "metadata": {
        "id": "Cbwu_Et1Rk3C",
        "colab_type": "code",
        "colab": {
          "base_uri": "https://localhost:8080/",
          "height": 150
        },
        "outputId": "64b4424a-ae33-4e40-d8a7-83bb012150a1"
      },
      "source": [
        "# Specify an rnaTranscript associated with RUNX1\n",
        "RUNX1_transcript = df_RUNX1.iloc[0]['rnaTranscript'][0]\n",
        "\n",
        "# Check what type the rnaTranscript is\n",
        "print(dc.get_property_values([RUNX1_transcript], 'typeOf'))\n",
        "\n",
        "# Identify properties of RNATranscript\n",
        "dict_temp = dc.get_property_values(['RNATranscript'], 'domainIncludes', value_type='Property',  out=False)\n",
        "for prop in dict_temp['RNATranscript']:\n",
        "  print(prop)"
      ],
      "execution_count": 11,
      "outputs": [
        {
          "output_type": "stream",
          "text": [
            "{'bio/hg38_ENST00000300305.7': ['RNATranscript']}\n",
            "codingCoordinates\n",
            "exonCoordinates\n",
            "exonFrame\n",
            "makesProtein\n",
            "refSeqID\n",
            "transcriptionCoordinates\n"
          ],
          "name": "stdout"
        }
      ]
    },
    {
      "cell_type": "markdown",
      "metadata": {
        "id": "rZXoXHFzRm7Q",
        "colab_type": "text"
      },
      "source": [
        "### Explore the difference between codingCoordinates and exonCoordinates\n",
        "There are two properties that may be useful for us in identifying which genetic variants are in the coding region of RUNX1. Let's figure out which one that we'd like to use moving forward by grabbing the values associated with both these properties using `get_property_values`."
      ]
    },
    {
      "cell_type": "code",
      "metadata": {
        "id": "OSH4nzL7RpEy",
        "colab_type": "code",
        "colab": {
          "base_uri": "https://localhost:8080/",
          "height": 264
        },
        "outputId": "2e49a555-4fc6-4138-c19e-55b883d50468"
      },
      "source": [
        "# Get the values for codingCoordinates and exonCoordiantes\n",
        "temp_dict = dc.get_property_values([RUNX1_transcript], 'codingCoordinates')\n",
        "print('Coding Coordinate Values:')\n",
        "for value in temp_dict[RUNX1_transcript]:\n",
        "  print(value)\n",
        "print('\\n')\n",
        "temp_dict = dc.get_property_values([RUNX1_transcript], 'exonCoordinates')\n",
        "print('Exon Coordinate Values:')\n",
        "for value in temp_dict[RUNX1_transcript]:\n",
        "  print(value)"
      ],
      "execution_count": 12,
      "outputs": [
        {
          "output_type": "stream",
          "text": [
            "Coding Coordinate Values:\n",
            "Position34792134To35048899\n",
            "\n",
            "\n",
            "Exon Coordinate Values:\n",
            "Position34787800To34792610\n",
            "Position34799300To34799462\n",
            "Position34834409To34834601\n",
            "Position34859473To34859578\n",
            "Position34880556To34880713\n",
            "Position34886842To34887096\n",
            "Position34892924To34892963\n",
            "Position35048841To35049344\n"
          ],
          "name": "stdout"
        }
      ]
    },
    {
      "cell_type": "markdown",
      "metadata": {
        "id": "BqtiSfKFRrIP",
        "colab_type": "text"
      },
      "source": [
        "### Find the exon coordinates reported for all RNA transcripts of RUNX1\n",
        "From the values of codingCoordinates and exonCoordinates we observe that coding coordinates contains the range of base pairs spanning the entire coding region of RUNX1 including introns. Whereas exonCoordinates reports the genomic coordinates of all exons of RUNX1. We want to find all genetic variants in exons of RUNX1, so going forward we want to grab the exonCoordinates of transcripts. There are multiple RNA transcripts reported for RUNX1. Let's make a unique list of all exonCoordinates recorded for RUNX1 using `get_property_values`."
      ]
    },
    {
      "cell_type": "code",
      "metadata": {
        "id": "OHd3PtgLRtkv",
        "colab_type": "code",
        "colab": {
          "base_uri": "https://localhost:8080/",
          "height": 55
        },
        "outputId": "9a927890-275d-4ee3-b53b-4f2c971ce453"
      },
      "source": [
        "# Initiate an empty set\n",
        "RUNX1_exonCoordinates = set()\n",
        "\n",
        "# Using get_property_values get all the exon coordinates for all rnaTranscripts\n",
        "for rnaTranscript_dcid in df_RUNX1['rnaTranscript'][0]:\n",
        "  temp_dict = dc.get_property_values([rnaTranscript_dcid], 'exonCoordinates')\n",
        "  for item in temp_dict[rnaTranscript_dcid]:\n",
        "    RUNX1_exonCoordinates.add(item)\n",
        "\n",
        "# check the firs few exons\n",
        "RUNX1_exonCoordinates = list(RUNX1_exonCoordinates)\n",
        "print(RUNX1_exonCoordinates[:5])\n",
        "\n",
        "# check how many unique exon coordinates have been reported for RUNX1\n",
        "print(len(RUNX1_exonCoordinates))"
      ],
      "execution_count": 13,
      "outputs": [
        {
          "output_type": "stream",
          "text": [
            "['Position35049167To35049298', 'Position34791754To34792610', 'Position35988129To35988171', 'Position35984571To35984830', 'Position34859473To34859578']\n",
            "41\n"
          ],
          "name": "stdout"
        }
      ]
    },
    {
      "cell_type": "markdown",
      "metadata": {
        "id": "4E26lXFDRvYe",
        "colab_type": "text"
      },
      "source": [
        "### Identify the genetic variants in the exon coding regions\n",
        "Now that we know all the possible reported exon coordinates for RUNX1 we can identify which genetic variants are in exons. Note that RUNX1 has 4 - 9 variants depending on the isoform. Many of these exon coordinates from transcripts of different isoforms are overlapping with each other, but not exact resulting in 41 unique coordinate ranges to be observed. We are interested in genetic variants within any reported exon coordinates in this example and will therefore use them all for our next filtering step. For filtering by overlap in position please remember that the range of the coordinates is [) in which the first number, but not the last number is considered as inside of the range."
      ]
    },
    {
      "cell_type": "code",
      "metadata": {
        "id": "b5i3FNxxRyge",
        "colab_type": "code",
        "colab": {
          "base_uri": "https://localhost:8080/",
          "height": 36
        },
        "outputId": "125d623a-3a4e-4e56-fe91-0d0ae4a9c10a"
      },
      "source": [
        "# initialize empty list for storing genetic variants in RUNX1 exons\n",
        "RUNX1_exon_geneticVariants = []\n",
        "\n",
        "# for each genetic variant identify their hg38GenomicPosition and check if it's in an exon\n",
        "for geneticVariant_dcid in RUNX1_geneticVariants:\n",
        "  position = int(dc.get_property_values([geneticVariant_dcid], 'hg38GenomicPosition')[geneticVariant_dcid][0])\n",
        "  for exonCoordinates in RUNX1_exonCoordinates:\n",
        "    start, stop = exonCoordinates.strip('Position').split('To')\n",
        "    start, stop = int(start), int(stop)\n",
        "    # filter for variants within RUNX1 exons\n",
        "    if position >= start and position < stop:\n",
        "      RUNX1_exon_geneticVariants.append(geneticVariant_dcid)\n",
        "      break\n",
        "RUNX1_exon_geneticVariants = list(set(RUNX1_exon_geneticVariants))\n",
        "\n",
        "# check how many of the genetic variants are in exons\n",
        "print(len(RUNX1_exon_geneticVariants))"
      ],
      "execution_count": 14,
      "outputs": [
        {
          "output_type": "stream",
          "text": [
            "474\n"
          ],
          "name": "stdout"
        }
      ]
    },
    {
      "cell_type": "markdown",
      "metadata": {
        "id": "6LPPL03eR0ft",
        "colab_type": "text"
      },
      "source": [
        "### Filter genetic variants for ones that have been clinically studied\n",
        "Great! We've identified 345 genetic variants in exons that are worth further consideration. Let's narrow our candidate list further by identifying genetic variants with clinical data associated with them (reported in ClinVar). We can do this by checking if the genetic variant has the property `clinVarID` using `get_property_values`. For ones that have been clinically reported we are going to grab the following additional clinical information for the genetic variant: `diseaseName`, `clinicalSignificance`, and `clinVarReviewStatus`."
      ]
    },
    {
      "cell_type": "code",
      "metadata": {
        "id": "uGmUfs8TR2Fb",
        "colab_type": "code",
        "colab": {
          "base_uri": "https://localhost:8080/",
          "height": 188
        },
        "outputId": "ef66e1f5-33a9-431d-80b9-9d0e10d759a3"
      },
      "source": [
        "# initialize Empty Data Frame\n",
        "column_names = ['name', 'clinVarAlleleID', 'diseaseName', 'clinicalSignificance', 'clinVarReviewStatus', 'dcid']\n",
        "df_RUNX1_genVar_clinical = pd.DataFrame(columns=column_names)\n",
        "\n",
        "for geneticVariant_dcid in RUNX1_exon_geneticVariants:\n",
        "  clinVarID = dc.get_property_values([geneticVariant_dcid], 'clinVarAlleleID')[geneticVariant_dcid][0]\n",
        "  if clinVarID.isdigit():\n",
        "    name = geneticVariant_dcid.strip('bio/')\n",
        "    diseaseName = dc.get_property_values( [geneticVariant_dcid], 'diseaseName')[geneticVariant_dcid][0]\n",
        "    clinicalSignificance = dc.get_property_values( [geneticVariant_dcid], 'clinicalSignificance')[geneticVariant_dcid][0]\n",
        "    clinVarReviewStatus = dc.get_property_values( [geneticVariant_dcid], 'clinVarReviewStatus')[geneticVariant_dcid][0]\n",
        "    df_RUNX1_genVar_clinical = df_RUNX1_genVar_clinical.append({'name': name, 'clinVarAlleleID': clinVarID, 'diseaseName': diseaseName, \\\n",
        "                                     'clinicalSignificance': clinicalSignificance, 'clinVarReviewStatus': clinVarReviewStatus, \\\n",
        "                                     'dcid': geneticVariant_dcid}, ignore_index=True)\n",
        "\n",
        "# visualize the head of the dataframe containing the clinical info\n",
        "print(df_RUNX1_genVar_clinical.head())\n",
        "\n",
        "# see how many clinical genetic variants in RUNX1\n",
        "print(df_RUNX1_genVar_clinical.shape[0])"
      ],
      "execution_count": 15,
      "outputs": [
        {
          "output_type": "stream",
          "text": [
            "           name  ...              dcid\n",
            "0  rs1569084170  ...  bio/rs1569084170\n",
            "1        643883  ...        bio/643883\n",
            "2  rs1569002337  ...  bio/rs1569002337\n",
            "3        839054  ...        bio/839054\n",
            "4   rs150481777  ...   bio/rs150481777\n",
            "\n",
            "[5 rows x 6 columns]\n",
            "474\n"
          ],
          "name": "stdout"
        }
      ]
    },
    {
      "cell_type": "markdown",
      "metadata": {
        "id": "4m57MS1gR4Wp",
        "colab_type": "text"
      },
      "source": [
        "## Filter For Pathogenic Genetic Variants\n",
        "There are 345 genetic variants in the exons of RUNX1 that have recorded clinical information on them. Filter out the ones that are benign to establish our final candidate list of genetic variants that effect the function of RUNX1. We'll do this by filtering our pandas dataframe with the clinical information on the genetic variants."
      ]
    },
    {
      "cell_type": "code",
      "metadata": {
        "id": "PNoAw2XjR6M5",
        "colab_type": "code",
        "colab": {
          "base_uri": "https://localhost:8080/",
          "height": 55
        },
        "outputId": "2ddae2f0-5b5c-4655-ec85-fbe0d8b775be"
      },
      "source": [
        "# identify the clinical significance types for the genetic variants\n",
        "print(df_RUNX1_genVar_clinical.clinicalSignificance.unique())"
      ],
      "execution_count": 16,
      "outputs": [
        {
          "output_type": "stream",
          "text": [
            "['ClinSigPathogenic' 'ClinSigUncertain' 'ClinSigBenign'\n",
            " 'ClinSigConflictingPathogenicity']\n"
          ],
          "name": "stdout"
        }
      ]
    },
    {
      "cell_type": "code",
      "metadata": {
        "id": "xpmj5i3dR8sb",
        "colab_type": "code",
        "colab": {
          "base_uri": "https://localhost:8080/",
          "height": 549
        },
        "outputId": "953deea3-fea1-4f84-b4a5-0653010abe74"
      },
      "source": [
        "# filter genetic variants for those with pathogenicity\n",
        "clinSig = ['ClinSigPathogenic']\n",
        "df_final_geneticVariants = df_RUNX1_genVar_clinical[df_RUNX1_genVar_clinical.clinicalSignificance.isin(clinSig)]\n",
        "\n",
        "# check how many genetic variants made the final cut\n",
        "print(df_final_geneticVariants.shape[0])\n",
        "\n",
        "# identify the diseases associated with these pathogenic variants\n",
        "print(df_final_geneticVariants.diseaseName.unique())\n",
        "\n",
        "# print the final genetic variant dataframe\n",
        "print(df_final_geneticVariants)"
      ],
      "execution_count": 17,
      "outputs": [
        {
          "output_type": "stream",
          "text": [
            "21\n",
            "['not provided'\n",
            " 'Familial platelet disorder with associated myeloid malignancy'\n",
            " 'Acute myeloid leukemia']\n",
            "             name  ...              dcid\n",
            "0    rs1569084170  ...  bio/rs1569084170\n",
            "26         871175  ...        bio/871175\n",
            "64   rs1555889984  ...  bio/rs1555889984\n",
            "65   rs1569084082  ...  bio/rs1569084082\n",
            "90    rs587776811  ...   bio/rs587776811\n",
            "95     rs74315451  ...    bio/rs74315451\n",
            "129  rs1569008655  ...  bio/rs1569008655\n",
            "143  rs1569084530  ...  bio/rs1569084530\n",
            "183  rs1555899813  ...  bio/rs1555899813\n",
            "192    rs74315450  ...    bio/rs74315450\n",
            "205  rs1060499616  ...  bio/rs1060499616\n",
            "207   rs121912498  ...   bio/rs121912498\n",
            "240        840868  ...        bio/840868\n",
            "266   rs121912499  ...   bio/rs121912499\n",
            "321        647118  ...        bio/647118\n",
            "326  rs1057519748  ...  bio/rs1057519748\n",
            "377  rs1569061762  ...  bio/rs1569061762\n",
            "394  rs1569061831  ...  bio/rs1569061831\n",
            "408  rs1569061768  ...  bio/rs1569061768\n",
            "444  rs1555884790  ...  bio/rs1555884790\n",
            "463        869209  ...        bio/869209\n",
            "\n",
            "[21 rows x 6 columns]\n"
          ],
          "name": "stdout"
        }
      ]
    },
    {
      "cell_type": "markdown",
      "metadata": {
        "id": "KF3dr_kAR8Xk",
        "colab_type": "text"
      },
      "source": [
        "##Conclusion of RUNX1 Analysis\n",
        "In this exercise we were able to filter millions of genetic variants to identify a handful that meet our specific parameters. To do this we used multiple datasets from UCSC Genome Browser, NCBI/gene, and ClinVar all in a single python notebook. We found that there are 16 genetic variants in exons of RUNX1, which have been reported to be pathogenic by clinical data. We also learned that these pathogenic variants are associated with Familial platelet disorder with associated myeloid malignancy. Such analyses can preformed using any gene and is a way to easily identify candidate genetic variants of interest. The synthesis of data of different types acorss multiple databases enables easy complex analyses all in a single python notebook."
      ]
    }
  ]
}