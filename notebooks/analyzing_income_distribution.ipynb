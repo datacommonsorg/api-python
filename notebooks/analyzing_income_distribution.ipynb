{
  "nbformat": 4,
  "nbformat_minor": 0,
  "metadata": {
    "colab": {
      "name": "Case Study: Analyzing Income Distribution",
      "version": "0.3.2",
      "provenance": [],
      "collapsed_sections": []
    },
    "kernelspec": {
      "display_name": "Python 3",
      "language": "python",
      "name": "python3"
    }
  },
  "cells": [
    {
      "cell_type": "markdown",
      "metadata": {
        "id": "nnY4S5m_boXI",
        "colab_type": "text"
      },
      "source": [
        "Copyright 2019 Google LLC.\n",
        "SPDX-License-Identifier: Apache-2.0\n",
        "\n",
        "**Notebook Version** - 1.0.0"
      ]
    },
    {
      "cell_type": "code",
      "metadata": {
        "id": "9_SFWWxoSoMn",
        "colab_type": "code",
        "outputId": "eef38f1d-8c4e-4288-b6a3-4d0557cb619f",
        "colab": {
          "base_uri": "https://localhost:8080/",
          "height": 34
        }
      },
      "source": [
        "# Install datacommons\n",
        "!pip install --upgrade --quiet git+https://github.com/datacommonsorg/api-python.git@stable-1.x"
      ],
      "execution_count": 4,
      "outputs": [
        {
          "output_type": "stream",
          "text": [
            "  Building wheel for datacommons (setup.py) ... \u001b[?25l\u001b[?25hdone\n"
          ],
          "name": "stdout"
        }
      ]
    },
    {
      "cell_type": "markdown",
      "metadata": {
        "id": "vWo_v5cI-JXC",
        "colab_type": "text"
      },
      "source": [
        "# Analyzing Income Distribution\n",
        "\n",
        "The American Community Survey (published by the US Census) annually reports the number of individuals in a given income bracket at the State level. We can use this information, stored in Data Commons, to visualize disparity in income for each State in the US. Our goal for this tutorial will be to generate a plot that visualizes the total number of individuals across a given set of income brackets for a given state. \n",
        "\n",
        "Before we begin, we'll setup our notebook"
      ]
    },
    {
      "cell_type": "code",
      "metadata": {
        "id": "OwquZnRa-JXD",
        "colab_type": "code",
        "colab": {}
      },
      "source": [
        "# Import the Data Commons library\n",
        "import datacommons as dc\n",
        "\n",
        "# Import other libraries\n",
        "import pandas as pd\n",
        "import matplotlib.pyplot as plt\n",
        "import numpy as np\n",
        "import json\n",
        "\n",
        "from google.colab import drive"
      ],
      "execution_count": 0,
      "outputs": []
    },
    {
      "cell_type": "markdown",
      "metadata": {
        "id": "vpZ81m1ckA8J",
        "colab_type": "text"
      },
      "source": [
        "We will also need to provide the API with an API key. See the [Analyzing Statistics in Data Commons Using the Python Client API](https://colab.research.google.com/drive/1ZNXTHu3J0W3vo9Mg3kNUpk0hnD6Ce1u6#scrollTo=ijxoBhFHjo3Z) to see how to set this up for a Colab Notebook."
      ]
    },
    {
      "cell_type": "code",
      "metadata": {
        "id": "PmcH0ApJkNbD",
        "colab_type": "code",
        "outputId": "daa26713-71a3-4ffa-942a-39a77915491a",
        "colab": {
          "base_uri": "https://localhost:8080/",
          "height": 34
        }
      },
      "source": [
        "# Mount the Drive\n",
        "drive.mount('/content/drive', force_remount=True)\n",
        "\n",
        "# REPLACE THIS with the path to your key.\n",
        "key_path = '/content/drive/My Drive/DataCommons/secret.json'\n",
        "\n",
        "# Read the key in and provide it to the Data Commons API\n",
        "with open(key_path, 'r') as f:\n",
        "  secrets = json.load(f)\n",
        "  dc.set_api_key(secrets['dc_api_key'])"
      ],
      "execution_count": 6,
      "outputs": [
        {
          "output_type": "stream",
          "text": [
            "Mounted at /content/drive\n"
          ],
          "name": "stdout"
        }
      ]
    },
    {
      "cell_type": "markdown",
      "metadata": {
        "id": "Hnk34Wgr-JXG",
        "colab_type": "text"
      },
      "source": [
        "## Preparing the Data\n",
        "\n",
        "We'll begin by creating a dataframe with states and their total population. We can use **`get_places_in`** to get all States within the United States. We can then call **`get_populations`** and **`get_observations`** to get the population of all persons in each State."
      ]
    },
    {
      "cell_type": "code",
      "metadata": {
        "id": "4tXBoR3h-JXI",
        "colab_type": "code",
        "outputId": "cdc24988-8e51-4db3-e468-c98513a339e7",
        "colab": {
          "base_uri": "https://localhost:8080/",
          "height": 204
        }
      },
      "source": [
        "# Initialize a DataFrame holding the USA.\n",
        "data = pd.DataFrame({'country': ['country/USA']})\n",
        "\n",
        "# Add a column for states and get their names\n",
        "data['state'] = dc.get_places_in(data['country'], 'State')\n",
        "data = dc.flatten_frame(data)\n",
        "\n",
        "# Get all state names and store it in a column \"name\"\n",
        "data['name'] = dc.get_property_values(data['state'], 'name')\n",
        "data = dc.flatten_frame(data)\n",
        "\n",
        "# Get StatisticalPopulations representing all persons in each state. \n",
        "data['all_pop'] = dc.get_populations(data['state'], 'Person')\n",
        "\n",
        "# Get the total count of all persons in each population\n",
        "data['all'] = dc.get_observations(data['all_pop'], \n",
        "    'count',\n",
        "    'measuredValue',\n",
        "    '2017', \n",
        "    measurement_method='CenusACS5yrSurvey')\n",
        "\n",
        "# Display the first five rows of the table.\n",
        "data.head(5)"
      ],
      "execution_count": 7,
      "outputs": [
        {
          "output_type": "execute_result",
          "data": {
            "text/html": [
              "<div>\n",
              "<style scoped>\n",
              "    .dataframe tbody tr th:only-of-type {\n",
              "        vertical-align: middle;\n",
              "    }\n",
              "\n",
              "    .dataframe tbody tr th {\n",
              "        vertical-align: top;\n",
              "    }\n",
              "\n",
              "    .dataframe thead th {\n",
              "        text-align: right;\n",
              "    }\n",
              "</style>\n",
              "<table border=\"1\" class=\"dataframe\">\n",
              "  <thead>\n",
              "    <tr style=\"text-align: right;\">\n",
              "      <th></th>\n",
              "      <th>country</th>\n",
              "      <th>state</th>\n",
              "      <th>name</th>\n",
              "      <th>all_pop</th>\n",
              "      <th>all</th>\n",
              "    </tr>\n",
              "  </thead>\n",
              "  <tbody>\n",
              "    <tr>\n",
              "      <th>0</th>\n",
              "      <td>country/USA</td>\n",
              "      <td>geoId/01</td>\n",
              "      <td>Alabama</td>\n",
              "      <td>dc/p/dft95nqhpkkgd</td>\n",
              "      <td>4850771.0</td>\n",
              "    </tr>\n",
              "    <tr>\n",
              "      <th>1</th>\n",
              "      <td>country/USA</td>\n",
              "      <td>geoId/02</td>\n",
              "      <td>Alaska</td>\n",
              "      <td>dc/p/th9yyf8ej6m64</td>\n",
              "      <td>738565.0</td>\n",
              "    </tr>\n",
              "    <tr>\n",
              "      <th>2</th>\n",
              "      <td>country/USA</td>\n",
              "      <td>geoId/04</td>\n",
              "      <td>Arizona</td>\n",
              "      <td>dc/p/8hyhwze6s5tn6</td>\n",
              "      <td>6809946.0</td>\n",
              "    </tr>\n",
              "    <tr>\n",
              "      <th>3</th>\n",
              "      <td>country/USA</td>\n",
              "      <td>geoId/05</td>\n",
              "      <td>Arkansas</td>\n",
              "      <td>dc/p/rp61n0st0vtr</td>\n",
              "      <td>2977944.0</td>\n",
              "    </tr>\n",
              "    <tr>\n",
              "      <th>4</th>\n",
              "      <td>country/USA</td>\n",
              "      <td>geoId/06</td>\n",
              "      <td>California</td>\n",
              "      <td>dc/p/f1jbe2m7w6f58</td>\n",
              "      <td>38982847.0</td>\n",
              "    </tr>\n",
              "  </tbody>\n",
              "</table>\n",
              "</div>"
            ],
            "text/plain": [
              "       country     state        name             all_pop         all\n",
              "0  country/USA  geoId/01     Alabama  dc/p/dft95nqhpkkgd   4850771.0\n",
              "1  country/USA  geoId/02      Alaska  dc/p/th9yyf8ej6m64    738565.0\n",
              "2  country/USA  geoId/04     Arizona  dc/p/8hyhwze6s5tn6   6809946.0\n",
              "3  country/USA  geoId/05    Arkansas   dc/p/rp61n0st0vtr   2977944.0\n",
              "4  country/USA  geoId/06  California  dc/p/f1jbe2m7w6f58  38982847.0"
            ]
          },
          "metadata": {
            "tags": []
          },
          "execution_count": 7
        }
      ]
    },
    {
      "cell_type": "markdown",
      "metadata": {
        "id": "iNbG-aofExHA",
        "colab_type": "text"
      },
      "source": [
        "### Querying for Income Brackets\n",
        "\n",
        "Next, let's get the population level for each income bracket. The datacommons graph identifies 16 different income brackets. For each bracket and state, we can get the population level. Remember that we first get the StatisticalPopulation, and then a corresponding observation. We'll filter observations to between published in 2017 by the American Community Survey. "
      ]
    },
    {
      "cell_type": "code",
      "metadata": {
        "id": "TBVni9L-Ewmx",
        "colab_type": "code",
        "outputId": "38583ebf-bd35-48e2-da0c-5f23be201e6c",
        "colab": {
          "base_uri": "https://localhost:8080/",
          "height": 224
        }
      },
      "source": [
        "# A list of income brackets\n",
        "income_brackets = [\n",
        "  \"USDollarUpto10000\",\n",
        "  \"USDollar10000To14999\",\n",
        "  \"USDollar15000To19999\",\n",
        "  \"USDollar20000To24999\",\n",
        "  \"USDollar25000To29999\",\n",
        "  \"USDollar30000To34999\",\n",
        "  \"USDollar35000To39999\",\n",
        "  \"USDollar40000To44999\",\n",
        "  \"USDollar45000To49999\",\n",
        "  \"USDollar50000To59999\",\n",
        "  \"USDollar60000To74999\",\n",
        "  \"USDollar75000To99999\",\n",
        "  \"USDollar100000To124999\",\n",
        "  \"USDollar125000To149999\",\n",
        "  \"USDollar150000To199999\",\n",
        "  \"USDollar200000Onwards\",\n",
        "]\n",
        "\n",
        "# Add a column containin the population count for each income bracket\n",
        "for bracket in income_brackets:\n",
        "  # Get the new column names\n",
        "  pop_col = '{}_pop'.format(bracket)\n",
        "  obs_col = bracket\n",
        " \n",
        "  # Create the constraining properties map\n",
        "  pvs = {'income': bracket}\n",
        "\n",
        "  # Get the StatisticalPopulation and Observation\n",
        "  data[pop_col] = dc.get_populations(data['state'], 'Household', \n",
        "    constraining_properties=pvs)\n",
        "  data[obs_col] = dc.get_observations(data[pop_col], \n",
        "    'count', \n",
        "    'measuredValue', \n",
        "    '2017', \n",
        "    measurement_method='CenusACS5yrSurvey')\n",
        "\n",
        "# Display the table\n",
        "data.head(5)"
      ],
      "execution_count": 8,
      "outputs": [
        {
          "output_type": "execute_result",
          "data": {
            "text/html": [
              "<div>\n",
              "<style scoped>\n",
              "    .dataframe tbody tr th:only-of-type {\n",
              "        vertical-align: middle;\n",
              "    }\n",
              "\n",
              "    .dataframe tbody tr th {\n",
              "        vertical-align: top;\n",
              "    }\n",
              "\n",
              "    .dataframe thead th {\n",
              "        text-align: right;\n",
              "    }\n",
              "</style>\n",
              "<table border=\"1\" class=\"dataframe\">\n",
              "  <thead>\n",
              "    <tr style=\"text-align: right;\">\n",
              "      <th></th>\n",
              "      <th>country</th>\n",
              "      <th>state</th>\n",
              "      <th>name</th>\n",
              "      <th>all_pop</th>\n",
              "      <th>all</th>\n",
              "      <th>USDollarUpto10000_pop</th>\n",
              "      <th>USDollarUpto10000</th>\n",
              "      <th>USDollar10000To14999_pop</th>\n",
              "      <th>USDollar10000To14999</th>\n",
              "      <th>USDollar15000To19999_pop</th>\n",
              "      <th>USDollar15000To19999</th>\n",
              "      <th>USDollar20000To24999_pop</th>\n",
              "      <th>USDollar20000To24999</th>\n",
              "      <th>USDollar25000To29999_pop</th>\n",
              "      <th>USDollar25000To29999</th>\n",
              "      <th>USDollar30000To34999_pop</th>\n",
              "      <th>USDollar30000To34999</th>\n",
              "      <th>USDollar35000To39999_pop</th>\n",
              "      <th>USDollar35000To39999</th>\n",
              "      <th>USDollar40000To44999_pop</th>\n",
              "      <th>USDollar40000To44999</th>\n",
              "      <th>USDollar45000To49999_pop</th>\n",
              "      <th>USDollar45000To49999</th>\n",
              "      <th>USDollar50000To59999_pop</th>\n",
              "      <th>USDollar50000To59999</th>\n",
              "      <th>USDollar60000To74999_pop</th>\n",
              "      <th>USDollar60000To74999</th>\n",
              "      <th>USDollar75000To99999_pop</th>\n",
              "      <th>USDollar75000To99999</th>\n",
              "      <th>USDollar100000To124999_pop</th>\n",
              "      <th>USDollar100000To124999</th>\n",
              "      <th>USDollar125000To149999_pop</th>\n",
              "      <th>USDollar125000To149999</th>\n",
              "      <th>USDollar150000To199999_pop</th>\n",
              "      <th>USDollar150000To199999</th>\n",
              "      <th>USDollar200000Onwards_pop</th>\n",
              "      <th>USDollar200000Onwards</th>\n",
              "    </tr>\n",
              "  </thead>\n",
              "  <tbody>\n",
              "    <tr>\n",
              "      <th>0</th>\n",
              "      <td>country/USA</td>\n",
              "      <td>geoId/01</td>\n",
              "      <td>Alabama</td>\n",
              "      <td>dc/p/dft95nqhpkkgd</td>\n",
              "      <td>4850771.0</td>\n",
              "      <td>dc/p/k82f7vl1g4xwd</td>\n",
              "      <td>170650.0</td>\n",
              "      <td>dc/p/hrw93dxs7y4y</td>\n",
              "      <td>121688.0</td>\n",
              "      <td>dc/p/q3m0heyyphs14</td>\n",
              "      <td>116273.0</td>\n",
              "      <td>dc/p/9c6gwfklz5pdd</td>\n",
              "      <td>112406.0</td>\n",
              "      <td>dc/p/xlm581r7zpx51</td>\n",
              "      <td>102590.0</td>\n",
              "      <td>dc/p/4fgqdmf6e4stc</td>\n",
              "      <td>100223.0</td>\n",
              "      <td>dc/p/8j3sfby51kqtc</td>\n",
              "      <td>92139.0</td>\n",
              "      <td>dc/p/46tg31n5kyvj9</td>\n",
              "      <td>88987.0</td>\n",
              "      <td>dc/p/lq36bnvmybekc</td>\n",
              "      <td>76070.0</td>\n",
              "      <td>dc/p/tn6m8wemxs8p8</td>\n",
              "      <td>149492.0</td>\n",
              "      <td>dc/p/mgbnwm5rld8wg</td>\n",
              "      <td>176589.0</td>\n",
              "      <td>dc/p/w2b2s0967krx5</td>\n",
              "      <td>206436.0</td>\n",
              "      <td>dc/p/x2ylx680g94e</td>\n",
              "      <td>133618.0</td>\n",
              "      <td>dc/p/wphpwpkew18c1</td>\n",
              "      <td>76939.0</td>\n",
              "      <td>dc/p/p1zgxd7fdcqs</td>\n",
              "      <td>71748.0</td>\n",
              "      <td>dc/p/3hr2p57hjdrpg</td>\n",
              "      <td>60847.0</td>\n",
              "    </tr>\n",
              "    <tr>\n",
              "      <th>1</th>\n",
              "      <td>country/USA</td>\n",
              "      <td>geoId/02</td>\n",
              "      <td>Alaska</td>\n",
              "      <td>dc/p/th9yyf8ej6m64</td>\n",
              "      <td>738565.0</td>\n",
              "      <td>dc/p/glg0lwn58bgc6</td>\n",
              "      <td>9650.0</td>\n",
              "      <td>dc/p/hw4lqlcj11fgf</td>\n",
              "      <td>7838.0</td>\n",
              "      <td>dc/p/w4gre87nr3p47</td>\n",
              "      <td>8013.0</td>\n",
              "      <td>dc/p/4hhydjfw16c43</td>\n",
              "      <td>8854.0</td>\n",
              "      <td>dc/p/ceecx2c5xbgn9</td>\n",
              "      <td>8383.0</td>\n",
              "      <td>dc/p/426jehzy44g3f</td>\n",
              "      <td>8914.0</td>\n",
              "      <td>dc/p/pefxk2krk2qp1</td>\n",
              "      <td>8998.0</td>\n",
              "      <td>dc/p/prskbr4e1sfyb</td>\n",
              "      <td>10163.0</td>\n",
              "      <td>dc/p/d5er7t9wwc66d</td>\n",
              "      <td>8536.0</td>\n",
              "      <td>dc/p/ktvrdr1gknnhf</td>\n",
              "      <td>18810.0</td>\n",
              "      <td>dc/p/plzhkpjz6wr78</td>\n",
              "      <td>26224.0</td>\n",
              "      <td>dc/p/fdc874r6enj2c</td>\n",
              "      <td>36745.0</td>\n",
              "      <td>dc/p/15sg657df7j5</td>\n",
              "      <td>29925.0</td>\n",
              "      <td>dc/p/7e3m1jl4r8052</td>\n",
              "      <td>19752.0</td>\n",
              "      <td>dc/p/3kv7sn1ldgwm2</td>\n",
              "      <td>23596.0</td>\n",
              "      <td>dc/p/jb4z82wlf0126</td>\n",
              "      <td>18135.0</td>\n",
              "    </tr>\n",
              "    <tr>\n",
              "      <th>2</th>\n",
              "      <td>country/USA</td>\n",
              "      <td>geoId/04</td>\n",
              "      <td>Arizona</td>\n",
              "      <td>dc/p/8hyhwze6s5tn6</td>\n",
              "      <td>6809946.0</td>\n",
              "      <td>dc/p/6rf6dsjxvbr5f</td>\n",
              "      <td>178384.0</td>\n",
              "      <td>dc/p/hll4exlmk8jtc</td>\n",
              "      <td>118676.0</td>\n",
              "      <td>dc/p/b6tpkyz295xm8</td>\n",
              "      <td>123075.0</td>\n",
              "      <td>dc/p/lx28sr11tdqq7</td>\n",
              "      <td>131903.0</td>\n",
              "      <td>dc/p/efkmmwsclfnfh</td>\n",
              "      <td>127741.0</td>\n",
              "      <td>dc/p/33edcg1c0100h</td>\n",
              "      <td>127570.0</td>\n",
              "      <td>dc/p/17q967xck0c01</td>\n",
              "      <td>119431.0</td>\n",
              "      <td>dc/p/6m7ch4wy4b7xb</td>\n",
              "      <td>125103.0</td>\n",
              "      <td>dc/p/385p6jvm97wxg</td>\n",
              "      <td>107245.0</td>\n",
              "      <td>dc/p/3f837b5vqk8h3</td>\n",
              "      <td>208318.0</td>\n",
              "      <td>dc/p/696jjk7e08hh1</td>\n",
              "      <td>254294.0</td>\n",
              "      <td>dc/p/pwcgh30nt42r1</td>\n",
              "      <td>303811.0</td>\n",
              "      <td>dc/p/nghgrgdm0tpv7</td>\n",
              "      <td>200818.0</td>\n",
              "      <td>dc/p/6blwss6nsxz09</td>\n",
              "      <td>119347.0</td>\n",
              "      <td>dc/p/fltk974mm3kj4</td>\n",
              "      <td>119778.0</td>\n",
              "      <td>dc/p/2k3tkfp68b293</td>\n",
              "      <td>116817.0</td>\n",
              "    </tr>\n",
              "    <tr>\n",
              "      <th>3</th>\n",
              "      <td>country/USA</td>\n",
              "      <td>geoId/05</td>\n",
              "      <td>Arkansas</td>\n",
              "      <td>dc/p/rp61n0st0vtr</td>\n",
              "      <td>2977944.0</td>\n",
              "      <td>dc/p/vgcvlmnj54ydh</td>\n",
              "      <td>97226.0</td>\n",
              "      <td>dc/p/7ww6w7t4xvlk7</td>\n",
              "      <td>78535.0</td>\n",
              "      <td>dc/p/efynsmzwc5823</td>\n",
              "      <td>74451.0</td>\n",
              "      <td>dc/p/jp3jptvfwn9nd</td>\n",
              "      <td>75194.0</td>\n",
              "      <td>dc/p/66tt8rr0fm3bb</td>\n",
              "      <td>70211.0</td>\n",
              "      <td>dc/p/23qm6tpqyt2b5</td>\n",
              "      <td>67958.0</td>\n",
              "      <td>dc/p/z932k4dhz67dc</td>\n",
              "      <td>61588.0</td>\n",
              "      <td>dc/p/fct1f5rb8ev42</td>\n",
              "      <td>60814.0</td>\n",
              "      <td>dc/p/q3zges6zxwgmh</td>\n",
              "      <td>50978.0</td>\n",
              "      <td>dc/p/rd41ltemvb8z8</td>\n",
              "      <td>95836.0</td>\n",
              "      <td>dc/p/dfbfs6lbx10vb</td>\n",
              "      <td>111618.0</td>\n",
              "      <td>dc/p/hzy4wfxdpvzfh</td>\n",
              "      <td>120034.0</td>\n",
              "      <td>dc/p/yc2terhkh6d78</td>\n",
              "      <td>72752.0</td>\n",
              "      <td>dc/p/w4fte21fpn4wd</td>\n",
              "      <td>40780.0</td>\n",
              "      <td>dc/p/bl9k2gysnpb69</td>\n",
              "      <td>35900.0</td>\n",
              "      <td>dc/p/bjjw2gv79ev25</td>\n",
              "      <td>33416.0</td>\n",
              "    </tr>\n",
              "    <tr>\n",
              "      <th>4</th>\n",
              "      <td>country/USA</td>\n",
              "      <td>geoId/06</td>\n",
              "      <td>California</td>\n",
              "      <td>dc/p/f1jbe2m7w6f58</td>\n",
              "      <td>38982847.0</td>\n",
              "      <td>dc/p/dgbhzzzkwdj28</td>\n",
              "      <td>694945.0</td>\n",
              "      <td>dc/p/xddppkel4sgr9</td>\n",
              "      <td>604666.0</td>\n",
              "      <td>dc/p/qgyd003dbv7p6</td>\n",
              "      <td>536203.0</td>\n",
              "      <td>dc/p/xzf8djy5dt8bd</td>\n",
              "      <td>568994.0</td>\n",
              "      <td>dc/p/7x9127m9stem7</td>\n",
              "      <td>523563.0</td>\n",
              "      <td>dc/p/v6wcvfjc3bvfd</td>\n",
              "      <td>539988.0</td>\n",
              "      <td>dc/p/qn2fz1xggyhkc</td>\n",
              "      <td>500571.0</td>\n",
              "      <td>dc/p/pkbcstte9lq28</td>\n",
              "      <td>509113.0</td>\n",
              "      <td>dc/p/mfy8k6ejt1k0d</td>\n",
              "      <td>456152.0</td>\n",
              "      <td>dc/p/1gy8f20jdlwng</td>\n",
              "      <td>895758.0</td>\n",
              "      <td>dc/p/g9ly5ee1c7bf3</td>\n",
              "      <td>1199773.0</td>\n",
              "      <td>dc/p/kc59r4x1tedq4</td>\n",
              "      <td>1568843.0</td>\n",
              "      <td>dc/p/3c9483vks6ev7</td>\n",
              "      <td>1206637.0</td>\n",
              "      <td>dc/p/bc518fz7gl1f6</td>\n",
              "      <td>818690.0</td>\n",
              "      <td>dc/p/cx6fr5lfvhtx5</td>\n",
              "      <td>1008388.0</td>\n",
              "      <td>dc/p/2vdzt089wp0c1</td>\n",
              "      <td>1255844.0</td>\n",
              "    </tr>\n",
              "  </tbody>\n",
              "</table>\n",
              "</div>"
            ],
            "text/plain": [
              "       country     state  ... USDollar200000Onwards_pop USDollar200000Onwards\n",
              "0  country/USA  geoId/01  ...        dc/p/3hr2p57hjdrpg               60847.0\n",
              "1  country/USA  geoId/02  ...        dc/p/jb4z82wlf0126               18135.0\n",
              "2  country/USA  geoId/04  ...        dc/p/2k3tkfp68b293              116817.0\n",
              "3  country/USA  geoId/05  ...        dc/p/bjjw2gv79ev25               33416.0\n",
              "4  country/USA  geoId/06  ...        dc/p/2vdzt089wp0c1             1255844.0\n",
              "\n",
              "[5 rows x 37 columns]"
            ]
          },
          "metadata": {
            "tags": []
          },
          "execution_count": 8
        }
      ]
    },
    {
      "cell_type": "markdown",
      "metadata": {
        "id": "54BXvRs_VLqe",
        "colab_type": "text"
      },
      "source": [
        "Let's limit the size of this DataFrame by selecting columns with only the State name and Observations."
      ]
    },
    {
      "cell_type": "code",
      "metadata": {
        "id": "toUoYWT1VZOV",
        "colab_type": "code",
        "outputId": "7faf6ecc-5f4b-4751-ad39-9d2c1444fb8f",
        "colab": {
          "base_uri": "https://localhost:8080/",
          "height": 224
        }
      },
      "source": [
        "# Select columns that will be used for plotting\n",
        "data = data[['name', 'all'] + income_brackets]\n",
        "\n",
        "# Display the table\n",
        "data.head(5)"
      ],
      "execution_count": 9,
      "outputs": [
        {
          "output_type": "execute_result",
          "data": {
            "text/html": [
              "<div>\n",
              "<style scoped>\n",
              "    .dataframe tbody tr th:only-of-type {\n",
              "        vertical-align: middle;\n",
              "    }\n",
              "\n",
              "    .dataframe tbody tr th {\n",
              "        vertical-align: top;\n",
              "    }\n",
              "\n",
              "    .dataframe thead th {\n",
              "        text-align: right;\n",
              "    }\n",
              "</style>\n",
              "<table border=\"1\" class=\"dataframe\">\n",
              "  <thead>\n",
              "    <tr style=\"text-align: right;\">\n",
              "      <th></th>\n",
              "      <th>name</th>\n",
              "      <th>all</th>\n",
              "      <th>USDollarUpto10000</th>\n",
              "      <th>USDollar10000To14999</th>\n",
              "      <th>USDollar15000To19999</th>\n",
              "      <th>USDollar20000To24999</th>\n",
              "      <th>USDollar25000To29999</th>\n",
              "      <th>USDollar30000To34999</th>\n",
              "      <th>USDollar35000To39999</th>\n",
              "      <th>USDollar40000To44999</th>\n",
              "      <th>USDollar45000To49999</th>\n",
              "      <th>USDollar50000To59999</th>\n",
              "      <th>USDollar60000To74999</th>\n",
              "      <th>USDollar75000To99999</th>\n",
              "      <th>USDollar100000To124999</th>\n",
              "      <th>USDollar125000To149999</th>\n",
              "      <th>USDollar150000To199999</th>\n",
              "      <th>USDollar200000Onwards</th>\n",
              "    </tr>\n",
              "  </thead>\n",
              "  <tbody>\n",
              "    <tr>\n",
              "      <th>0</th>\n",
              "      <td>Alabama</td>\n",
              "      <td>4850771.0</td>\n",
              "      <td>170650.0</td>\n",
              "      <td>121688.0</td>\n",
              "      <td>116273.0</td>\n",
              "      <td>112406.0</td>\n",
              "      <td>102590.0</td>\n",
              "      <td>100223.0</td>\n",
              "      <td>92139.0</td>\n",
              "      <td>88987.0</td>\n",
              "      <td>76070.0</td>\n",
              "      <td>149492.0</td>\n",
              "      <td>176589.0</td>\n",
              "      <td>206436.0</td>\n",
              "      <td>133618.0</td>\n",
              "      <td>76939.0</td>\n",
              "      <td>71748.0</td>\n",
              "      <td>60847.0</td>\n",
              "    </tr>\n",
              "    <tr>\n",
              "      <th>1</th>\n",
              "      <td>Alaska</td>\n",
              "      <td>738565.0</td>\n",
              "      <td>9650.0</td>\n",
              "      <td>7838.0</td>\n",
              "      <td>8013.0</td>\n",
              "      <td>8854.0</td>\n",
              "      <td>8383.0</td>\n",
              "      <td>8914.0</td>\n",
              "      <td>8998.0</td>\n",
              "      <td>10163.0</td>\n",
              "      <td>8536.0</td>\n",
              "      <td>18810.0</td>\n",
              "      <td>26224.0</td>\n",
              "      <td>36745.0</td>\n",
              "      <td>29925.0</td>\n",
              "      <td>19752.0</td>\n",
              "      <td>23596.0</td>\n",
              "      <td>18135.0</td>\n",
              "    </tr>\n",
              "    <tr>\n",
              "      <th>2</th>\n",
              "      <td>Arizona</td>\n",
              "      <td>6809946.0</td>\n",
              "      <td>178384.0</td>\n",
              "      <td>118676.0</td>\n",
              "      <td>123075.0</td>\n",
              "      <td>131903.0</td>\n",
              "      <td>127741.0</td>\n",
              "      <td>127570.0</td>\n",
              "      <td>119431.0</td>\n",
              "      <td>125103.0</td>\n",
              "      <td>107245.0</td>\n",
              "      <td>208318.0</td>\n",
              "      <td>254294.0</td>\n",
              "      <td>303811.0</td>\n",
              "      <td>200818.0</td>\n",
              "      <td>119347.0</td>\n",
              "      <td>119778.0</td>\n",
              "      <td>116817.0</td>\n",
              "    </tr>\n",
              "    <tr>\n",
              "      <th>3</th>\n",
              "      <td>Arkansas</td>\n",
              "      <td>2977944.0</td>\n",
              "      <td>97226.0</td>\n",
              "      <td>78535.0</td>\n",
              "      <td>74451.0</td>\n",
              "      <td>75194.0</td>\n",
              "      <td>70211.0</td>\n",
              "      <td>67958.0</td>\n",
              "      <td>61588.0</td>\n",
              "      <td>60814.0</td>\n",
              "      <td>50978.0</td>\n",
              "      <td>95836.0</td>\n",
              "      <td>111618.0</td>\n",
              "      <td>120034.0</td>\n",
              "      <td>72752.0</td>\n",
              "      <td>40780.0</td>\n",
              "      <td>35900.0</td>\n",
              "      <td>33416.0</td>\n",
              "    </tr>\n",
              "    <tr>\n",
              "      <th>4</th>\n",
              "      <td>California</td>\n",
              "      <td>38982847.0</td>\n",
              "      <td>694945.0</td>\n",
              "      <td>604666.0</td>\n",
              "      <td>536203.0</td>\n",
              "      <td>568994.0</td>\n",
              "      <td>523563.0</td>\n",
              "      <td>539988.0</td>\n",
              "      <td>500571.0</td>\n",
              "      <td>509113.0</td>\n",
              "      <td>456152.0</td>\n",
              "      <td>895758.0</td>\n",
              "      <td>1199773.0</td>\n",
              "      <td>1568843.0</td>\n",
              "      <td>1206637.0</td>\n",
              "      <td>818690.0</td>\n",
              "      <td>1008388.0</td>\n",
              "      <td>1255844.0</td>\n",
              "    </tr>\n",
              "  </tbody>\n",
              "</table>\n",
              "</div>"
            ],
            "text/plain": [
              "         name         all  ...  USDollar150000To199999  USDollar200000Onwards\n",
              "0     Alabama   4850771.0  ...                 71748.0                60847.0\n",
              "1      Alaska    738565.0  ...                 23596.0                18135.0\n",
              "2     Arizona   6809946.0  ...                119778.0               116817.0\n",
              "3    Arkansas   2977944.0  ...                 35900.0                33416.0\n",
              "4  California  38982847.0  ...               1008388.0              1255844.0\n",
              "\n",
              "[5 rows x 18 columns]"
            ]
          },
          "metadata": {
            "tags": []
          },
          "execution_count": 9
        }
      ]
    },
    {
      "cell_type": "markdown",
      "metadata": {
        "id": "A6azivEu-JXP",
        "colab_type": "text"
      },
      "source": [
        "## Analyzing the Data\n",
        "\n",
        "Let's plot our data as a histogram. Notice that the income ranges as tabulated by the US Census are not equal. At the low end, the range is 0-9999, whereas, towards the top, the range 150,000-199,999 is five times as broad! We will make the width of each of the columns correspond to their range, and will give us an idea of the total earnings, not just the number of people in that group.\n",
        "\n",
        "First we provide code for generating the plot."
      ]
    },
    {
      "cell_type": "code",
      "metadata": {
        "id": "Bi3lWnu8-JXR",
        "colab_type": "code",
        "colab": {}
      },
      "source": [
        "# Histogram bins\n",
        "label_to_range = {\n",
        "  \"USDollarUpto10000\": [0, 9999],\n",
        "  \"USDollar10000To14999\": [10000, 14999],\n",
        "  \"USDollar15000To19999\": [15000, 19999],\n",
        "  \"USDollar20000To24999\": [20000, 24999],\n",
        "  \"USDollar25000To29999\": [25000, 29999],\n",
        "  \"USDollar30000To34999\": [30000, 34999],\n",
        "  \"USDollar35000To39999\": [35000, 39999],\n",
        "  \"USDollar40000To44999\": [40000, 44999],\n",
        "  \"USDollar45000To49999\": [45000, 49999],\n",
        "  \"USDollar50000To59999\": [50000, 59999],\n",
        "  \"USDollar60000To74999\": [60000, 74999],\n",
        "  \"USDollar75000To99999\": [75000, 99999],\n",
        "  \"USDollar100000To124999\": [100000, 124999],\n",
        "  \"USDollar125000To149999\": [125000, 149999],\n",
        "  \"USDollar150000To199999\": [150000, 199999],\n",
        "  \"USDollar200000Onwards\": [250000, 300000],\n",
        "}\n",
        "bins = [\n",
        "  0, 10000, 15000, 20000, 25000, 30000, 35000, 40000, 45000, 50000, 60000, \n",
        "  75000, 100000, 125000, 150000, 250000\n",
        "]\n",
        "\n",
        "def plot_income(data, state_name):\n",
        "  # Assert that \"state_name\" is a valid state name\n",
        "  frame_search = data.loc[data['name'] == state_name].squeeze()\n",
        "  if frame_search.shape[0] == 0:\n",
        "    print('{} does not have sufficient income data to generate the plot!'.format(state_name))\n",
        "    return\n",
        "  \n",
        "  # Print the resulting series\n",
        "  data = frame_search[2:]\n",
        "  \n",
        "  # Calculate the bar lengths\n",
        "  lengths = []\n",
        "  for bracket in income_brackets:\n",
        "    r = label_to_range[bracket] \n",
        "    lengths.append(int((r[1] - r[0]) / 18))\n",
        "  \n",
        "  # Calculate the x-axis positions\n",
        "  pos, total = [], 0\n",
        "  for l in lengths:\n",
        "    pos.append(total + (l // 2))\n",
        "    total += l\n",
        "  \n",
        "  # Plot the histogram\n",
        "  plt.figure(figsize=(12, 10))\n",
        "  plt.xticks(pos, income_brackets, rotation=90)\n",
        "  plt.grid(True)\n",
        "  plt.bar(pos, data.values, lengths, color='b', alpha=0.3)\n",
        "  \n",
        "  # Return the resulting frame.\n",
        "  return frame_search"
      ],
      "execution_count": 0,
      "outputs": []
    },
    {
      "cell_type": "markdown",
      "metadata": {
        "id": "YsOnc8o4Wpq-",
        "colab_type": "text"
      },
      "source": [
        "We can then call this code with a state to plot the income bracket sizes."
      ]
    },
    {
      "cell_type": "code",
      "metadata": {
        "id": "JkNBx9KsWtey",
        "colab_type": "code",
        "outputId": "19376932-9814-49fe-fd18-a02945744b03",
        "colab": {
          "base_uri": "https://localhost:8080/",
          "height": 716
        }
      },
      "source": [
        "#@title Enter State to plot { run: \"auto\" }\n",
        "state_name = \"Tennessee\" #@param [\"Missouri\", \"Arkansas\", \"Arizona\", \"Ohio\", \"Connecticut\", \"Vermont\", \"Illinois\", \"South Dakota\", \"Iowa\", \"Oklahoma\", \"Kansas\", \"Washington\", \"Oregon\", \"Hawaii\", \"Minnesota\", \"Idaho\", \"Alaska\", \"Colorado\", \"Delaware\", \"Alabama\", \"North Dakota\", \"Michigan\", \"California\", \"Indiana\", \"Kentucky\", \"Nebraska\", \"Louisiana\", \"New Jersey\", \"Rhode Island\", \"Utah\", \"Nevada\", \"South Carolina\", \"Wisconsin\", \"New York\", \"North Carolina\", \"New Hampshire\", \"Georgia\", \"Pennsylvania\", \"West Virginia\", \"Maine\", \"Mississippi\", \"Montana\", \"Tennessee\", \"New Mexico\", \"Massachusetts\", \"Wyoming\", \"Maryland\", \"Florida\", \"Texas\", \"Virginia\"]\n",
        "result = plot_income(data, state_name)\n",
        "\n",
        "# Show the plot\n",
        "plt.show()"
      ],
      "execution_count": 11,
      "outputs": [
        {
          "output_type": "display_data",
          "data": {
            "image/png": "[encoded data removed]",
            "text/plain": [
              "<Figure size 864x720 with 1 Axes>"
            ]
          },
          "metadata": {
            "tags": []
          }
        }
      ]
    },
    {
      "cell_type": "markdown",
      "metadata": {
        "id": "EaE8M-orXDhB",
        "colab_type": "text"
      },
      "source": [
        "and we can display the raw table of values."
      ]
    },
    {
      "cell_type": "code",
      "metadata": {
        "id": "FYPs1S9hWL8B",
        "colab_type": "code",
        "outputId": "26f72abe-cdbc-4bf0-8385-efe696b4a21c",
        "colab": {
          "base_uri": "https://localhost:8080/",
          "height": 340
        }
      },
      "source": [
        "# Additionally print the table of income bracket sizes \n",
        "result"
      ],
      "execution_count": 12,
      "outputs": [
        {
          "output_type": "execute_result",
          "data": {
            "text/plain": [
              "name                        Tennessee\n",
              "all                       6.59738e+06\n",
              "USDollarUpto10000              200034\n",
              "USDollar10000To14999           146404\n",
              "USDollar15000To19999           147660\n",
              "USDollar20000To24999           152867\n",
              "USDollar25000To29999           142625\n",
              "USDollar30000To34999           140211\n",
              "USDollar35000To39999           132737\n",
              "USDollar40000To44999           127434\n",
              "USDollar45000To49999           110586\n",
              "USDollar50000To59999           213266\n",
              "USDollar60000To74999           257530\n",
              "USDollar75000To99999           292764\n",
              "USDollar100000To124999         181732\n",
              "USDollar125000To149999         102356\n",
              "USDollar150000To199999          99880\n",
              "USDollar200000Onwards           99108\n",
              "Name: 42, dtype: object"
            ]
          },
          "metadata": {
            "tags": []
          },
          "execution_count": 12
        }
      ]
    },
    {
      "cell_type": "markdown",
      "metadata": {
        "id": "fD5uhrC_G0Jv",
        "colab_type": "text"
      },
      "source": [
        "This is only the beginning! What else can you analyze? For example, you could try computing a measure of income disparity in each state (see [Gini Coefficient](https://en.wikipedia.org/wiki/Gini_coefficient)).\n",
        "\n",
        "You could then expand the dataframe to include more information and analyze how attributes like education level, crime, or even weather effect income disparity.\n",
        "\n"
      ]
    }
  ]
}