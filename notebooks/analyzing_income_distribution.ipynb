{
  "nbformat": 4,
  "nbformat_minor": 0,
  "metadata": {
    "colab": {
      "name": "Case Study: Analyzing Income Distribution",
      "provenance": [],
      "collapsed_sections": [],
      "toc_visible": true,
      "include_colab_link": true
    },
    "kernelspec": {
      "display_name": "Python 3",
      "language": "python",
      "name": "python3"
    }
  },
  "cells": [
    {
      "cell_type": "markdown",
      "metadata": {
        "id": "view-in-github",
        "colab_type": "text"
      },
      "source": [
        "<a href=\"https://colab.research.google.com/github/datacommonsorg/api-python/blob/master/Case_Study_Analyzing_Income_Distribution.ipynb\" target=\"_parent\"><img src=\"https://colab.research.google.com/assets/colab-badge.svg\" alt=\"Open In Colab\"/></a>"
      ]
    },
    {
      "cell_type": "markdown",
      "metadata": {
        "id": "nnY4S5m_boXI",
        "colab_type": "text"
      },
      "source": [
        "Copyright 2020 Google LLC.\n",
        "SPDX-License-Identifier: Apache-2.0\n",
        "\n",
        "**Notebook Version** - 1.0.1"
      ]
    },
    {
      "cell_type": "code",
      "metadata": {
        "id": "9_SFWWxoSoMn",
        "colab_type": "code",
        "colab": {}
      },
      "source": [
        "# Install datacommons\n",
        "!pip install datacommons_pandas --upgrade --quiet"
      ],
      "execution_count": 1,
      "outputs": []
    },
    {
      "cell_type": "markdown",
      "metadata": {
        "id": "vWo_v5cI-JXC",
        "colab_type": "text"
      },
      "source": [
        "# Analyzing Income Distribution\n",
        "\n",
        "The American Community Survey (published by the US Census) annually reports the number of individuals in a given income bracket at the state level. We can use this information, stored in Data Commons, to visualize disparity in income for each state in the US. Our goal for this tutorial will be to generate a plot that visualizes the total number of individuals across a given set of income brackets for a given state. \n",
        "\n",
        "Before we begin, we'll setup our notebook."
      ]
    },
    {
      "cell_type": "code",
      "metadata": {
        "id": "OwquZnRa-JXD",
        "colab_type": "code",
        "colab": {}
      },
      "source": [
        "# Import the Data Commons Pandas library\n",
        "import datacommons_pandas as dc\n",
        "\n",
        "# Import other libraries\n",
        "import pandas as pd\n",
        "import matplotlib.pyplot as plt\n",
        "import numpy as np\n"
      ],
      "execution_count": 2,
      "outputs": []
    },
    {
      "cell_type": "markdown",
      "metadata": {
        "id": "Hnk34Wgr-JXG",
        "colab_type": "text"
      },
      "source": [
        "## Getting the Data\n",
        "\n",
        "The Data Commons graph identifies 16 different income brackets. The list of these variable can be found under the \"Household\" category in our [list of StatisticalVariables](http://docs.datacommons.org/statistical_variables.html).\n",
        "\n",
        "\n",
        "We can use **`get_places_in`** to get all states within the United States. We can then call **`build_multivariate_dataframe`** on the list of states to get a dataframe per-income bracket population counts for each state.\n"
      ]
    },
    {
      "cell_type": "code",
      "metadata": {
        "id": "2iaVzRE4Z8xG",
        "colab_type": "code",
        "colab": {}
      },
      "source": [
        "states = dc.get_places_in(['country/USA'], 'State')['country/USA']"
      ],
      "execution_count": 3,
      "outputs": []
    },
    {
      "cell_type": "code",
      "metadata": {
        "id": "TBVni9L-Ewmx",
        "colab_type": "code",
        "colab": {
          "base_uri": "https://localhost:8080/",
          "height": 262
        },
        "outputId": "0508eec5-0266-4f4c-983c-dfbd134a25a5"
      },
      "source": [
        "# A list of income bracket StatisticalVariables\n",
        "income_brackets = [\n",
        "                   \"Count_Household_IncomeOfUpto10000USDollar\",\n",
        "                   \"Count_Household_IncomeOf10000To14999USDollar\",\n",
        "                   \"Count_Household_IncomeOf15000To19999USDollar\",\n",
        "                   \"Count_Household_IncomeOf20000To24999USDollar\",\n",
        "                   \"Count_Household_IncomeOf25000To29999USDollar\",\n",
        "                   \"Count_Household_IncomeOf30000To34999USDollar\",\n",
        "                   \"Count_Household_IncomeOf35000To39999USDollar\",\n",
        "                   \"Count_Household_IncomeOf40000To44999USDollar\",\n",
        "                   \"Count_Household_IncomeOf45000To49999USDollar\",\n",
        "                   \"Count_Household_IncomeOf50000To59999USDollar\",\n",
        "                   \"Count_Household_IncomeOf60000To74999USDollar\",\n",
        "                   \"Count_Household_IncomeOf75000To99999USDollar\",\n",
        "                   \"Count_Household_IncomeOf100000To124999USDollar\",\n",
        "                   \"Count_Household_IncomeOf125000To149999USDollar\",\n",
        "                   \"Count_Household_IncomeOf150000To199999USDollar\",\n",
        "                   \"Count_Household_IncomeOf200000OrMoreUSDollar\",\n",
        "]\n",
        "\n",
        "data = dc.build_multivariate_dataframe(states, income_brackets)\n",
        "data.head()"
      ],
      "execution_count": 4,
      "outputs": [
        {
          "output_type": "execute_result",
          "data": {
            "text/html": [
              "<div>\n",
              "<style scoped>\n",
              "    .dataframe tbody tr th:only-of-type {\n",
              "        vertical-align: middle;\n",
              "    }\n",
              "\n",
              "    .dataframe tbody tr th {\n",
              "        vertical-align: top;\n",
              "    }\n",
              "\n",
              "    .dataframe thead th {\n",
              "        text-align: right;\n",
              "    }\n",
              "</style>\n",
              "<table border=\"1\" class=\"dataframe\">\n",
              "  <thead>\n",
              "    <tr style=\"text-align: right;\">\n",
              "      <th></th>\n",
              "      <th>Count_Household_IncomeOf25000To29999USDollar</th>\n",
              "      <th>Count_Household_IncomeOf75000To99999USDollar</th>\n",
              "      <th>Count_Household_IncomeOf40000To44999USDollar</th>\n",
              "      <th>Count_Household_IncomeOf100000To124999USDollar</th>\n",
              "      <th>Count_Household_IncomeOf125000To149999USDollar</th>\n",
              "      <th>Count_Household_IncomeOfUpto10000USDollar</th>\n",
              "      <th>Count_Household_IncomeOf15000To19999USDollar</th>\n",
              "      <th>Count_Household_IncomeOf35000To39999USDollar</th>\n",
              "      <th>Count_Household_IncomeOf200000OrMoreUSDollar</th>\n",
              "      <th>Count_Household_IncomeOf30000To34999USDollar</th>\n",
              "      <th>Count_Household_IncomeOf60000To74999USDollar</th>\n",
              "      <th>Count_Household_IncomeOf150000To199999USDollar</th>\n",
              "      <th>Count_Household_IncomeOf50000To59999USDollar</th>\n",
              "      <th>Count_Household_IncomeOf10000To14999USDollar</th>\n",
              "      <th>Count_Household_IncomeOf20000To24999USDollar</th>\n",
              "      <th>Count_Household_IncomeOf45000To49999USDollar</th>\n",
              "    </tr>\n",
              "    <tr>\n",
              "      <th>place</th>\n",
              "      <th></th>\n",
              "      <th></th>\n",
              "      <th></th>\n",
              "      <th></th>\n",
              "      <th></th>\n",
              "      <th></th>\n",
              "      <th></th>\n",
              "      <th></th>\n",
              "      <th></th>\n",
              "      <th></th>\n",
              "      <th></th>\n",
              "      <th></th>\n",
              "      <th></th>\n",
              "      <th></th>\n",
              "      <th></th>\n",
              "      <th></th>\n",
              "    </tr>\n",
              "  </thead>\n",
              "  <tbody>\n",
              "    <tr>\n",
              "      <th>geoId/01</th>\n",
              "      <td>100244</td>\n",
              "      <td>213319</td>\n",
              "      <td>86970</td>\n",
              "      <td>139638</td>\n",
              "      <td>82409</td>\n",
              "      <td>163312</td>\n",
              "      <td>114088</td>\n",
              "      <td>89216</td>\n",
              "      <td>69504</td>\n",
              "      <td>98408</td>\n",
              "      <td>176464</td>\n",
              "      <td>78452</td>\n",
              "      <td>147857</td>\n",
              "      <td>117629</td>\n",
              "      <td>108736</td>\n",
              "      <td>74023</td>\n",
              "    </tr>\n",
              "    <tr>\n",
              "      <th>geoId/02</th>\n",
              "      <td>8830</td>\n",
              "      <td>36073</td>\n",
              "      <td>9759</td>\n",
              "      <td>29553</td>\n",
              "      <td>20043</td>\n",
              "      <td>10230</td>\n",
              "      <td>7962</td>\n",
              "      <td>8630</td>\n",
              "      <td>20134</td>\n",
              "      <td>8897</td>\n",
              "      <td>27311</td>\n",
              "      <td>23692</td>\n",
              "      <td>18000</td>\n",
              "      <td>7609</td>\n",
              "      <td>8567</td>\n",
              "      <td>8172</td>\n",
              "    </tr>\n",
              "    <tr>\n",
              "      <th>geoId/04</th>\n",
              "      <td>125448</td>\n",
              "      <td>315900</td>\n",
              "      <td>123277</td>\n",
              "      <td>211274</td>\n",
              "      <td>131233</td>\n",
              "      <td>170434</td>\n",
              "      <td>118026</td>\n",
              "      <td>118929</td>\n",
              "      <td>133692</td>\n",
              "      <td>125317</td>\n",
              "      <td>262334</td>\n",
              "      <td>133172</td>\n",
              "      <td>210570</td>\n",
              "      <td>111075</td>\n",
              "      <td>126194</td>\n",
              "      <td>107425</td>\n",
              "    </tr>\n",
              "    <tr>\n",
              "      <th>geoId/05</th>\n",
              "      <td>69556</td>\n",
              "      <td>124254</td>\n",
              "      <td>60069</td>\n",
              "      <td>78338</td>\n",
              "      <td>44816</td>\n",
              "      <td>93423</td>\n",
              "      <td>70617</td>\n",
              "      <td>61375</td>\n",
              "      <td>37690</td>\n",
              "      <td>65675</td>\n",
              "      <td>111457</td>\n",
              "      <td>39928</td>\n",
              "      <td>95124</td>\n",
              "      <td>74534</td>\n",
              "      <td>73576</td>\n",
              "      <td>51743</td>\n",
              "    </tr>\n",
              "    <tr>\n",
              "      <th>geoId/06</th>\n",
              "      <td>510114</td>\n",
              "      <td>1589511</td>\n",
              "      <td>495884</td>\n",
              "      <td>1225091</td>\n",
              "      <td>877148</td>\n",
              "      <td>656515</td>\n",
              "      <td>499894</td>\n",
              "      <td>480115</td>\n",
              "      <td>1421052</td>\n",
              "      <td>513108</td>\n",
              "      <td>1184505</td>\n",
              "      <td>1082448</td>\n",
              "      <td>880868</td>\n",
              "      <td>573531</td>\n",
              "      <td>536077</td>\n",
              "      <td>439574</td>\n",
              "    </tr>\n",
              "  </tbody>\n",
              "</table>\n",
              "</div>"
            ],
            "text/plain": [
              "          Count_Household_IncomeOf25000To29999USDollar  ...  Count_Household_IncomeOf45000To49999USDollar\n",
              "place                                                   ...                                              \n",
              "geoId/01                                        100244  ...                                         74023\n",
              "geoId/02                                          8830  ...                                          8172\n",
              "geoId/04                                        125448  ...                                        107425\n",
              "geoId/05                                         69556  ...                                         51743\n",
              "geoId/06                                        510114  ...                                        439574\n",
              "\n",
              "[5 rows x 16 columns]"
            ]
          },
          "metadata": {
            "tags": []
          },
          "execution_count": 4
        }
      ]
    },
    {
      "cell_type": "markdown",
      "metadata": {
        "id": "Yq3VzNXUcyvI",
        "colab_type": "text"
      },
      "source": [
        "To get the names of states, we can use the `get_property_values` function:"
      ]
    },
    {
      "cell_type": "code",
      "metadata": {
        "id": "4tXBoR3h-JXI",
        "colab_type": "code",
        "colab": {
          "base_uri": "https://localhost:8080/",
          "height": 262
        },
        "outputId": "7fe1743e-de50-443c-ae31-9c03712fc7bb"
      },
      "source": [
        "# Get all state names and store it in a column \"name\"\n",
        "# Get the first name, if there are multiple for a state\n",
        "data.insert(0, 'name', data.index.map(dc.get_property_values(data.index, 'name')).str[0])\n",
        "\n",
        "data.head(5)"
      ],
      "execution_count": 5,
      "outputs": [
        {
          "output_type": "execute_result",
          "data": {
            "text/html": [
              "<div>\n",
              "<style scoped>\n",
              "    .dataframe tbody tr th:only-of-type {\n",
              "        vertical-align: middle;\n",
              "    }\n",
              "\n",
              "    .dataframe tbody tr th {\n",
              "        vertical-align: top;\n",
              "    }\n",
              "\n",
              "    .dataframe thead th {\n",
              "        text-align: right;\n",
              "    }\n",
              "</style>\n",
              "<table border=\"1\" class=\"dataframe\">\n",
              "  <thead>\n",
              "    <tr style=\"text-align: right;\">\n",
              "      <th></th>\n",
              "      <th>name</th>\n",
              "      <th>Count_Household_IncomeOf25000To29999USDollar</th>\n",
              "      <th>Count_Household_IncomeOf75000To99999USDollar</th>\n",
              "      <th>Count_Household_IncomeOf40000To44999USDollar</th>\n",
              "      <th>Count_Household_IncomeOf100000To124999USDollar</th>\n",
              "      <th>Count_Household_IncomeOf125000To149999USDollar</th>\n",
              "      <th>Count_Household_IncomeOfUpto10000USDollar</th>\n",
              "      <th>Count_Household_IncomeOf15000To19999USDollar</th>\n",
              "      <th>Count_Household_IncomeOf35000To39999USDollar</th>\n",
              "      <th>Count_Household_IncomeOf200000OrMoreUSDollar</th>\n",
              "      <th>Count_Household_IncomeOf30000To34999USDollar</th>\n",
              "      <th>Count_Household_IncomeOf60000To74999USDollar</th>\n",
              "      <th>Count_Household_IncomeOf150000To199999USDollar</th>\n",
              "      <th>Count_Household_IncomeOf50000To59999USDollar</th>\n",
              "      <th>Count_Household_IncomeOf10000To14999USDollar</th>\n",
              "      <th>Count_Household_IncomeOf20000To24999USDollar</th>\n",
              "      <th>Count_Household_IncomeOf45000To49999USDollar</th>\n",
              "    </tr>\n",
              "    <tr>\n",
              "      <th>place</th>\n",
              "      <th></th>\n",
              "      <th></th>\n",
              "      <th></th>\n",
              "      <th></th>\n",
              "      <th></th>\n",
              "      <th></th>\n",
              "      <th></th>\n",
              "      <th></th>\n",
              "      <th></th>\n",
              "      <th></th>\n",
              "      <th></th>\n",
              "      <th></th>\n",
              "      <th></th>\n",
              "      <th></th>\n",
              "      <th></th>\n",
              "      <th></th>\n",
              "      <th></th>\n",
              "    </tr>\n",
              "  </thead>\n",
              "  <tbody>\n",
              "    <tr>\n",
              "      <th>geoId/01</th>\n",
              "      <td>Alabama</td>\n",
              "      <td>100244</td>\n",
              "      <td>213319</td>\n",
              "      <td>86970</td>\n",
              "      <td>139638</td>\n",
              "      <td>82409</td>\n",
              "      <td>163312</td>\n",
              "      <td>114088</td>\n",
              "      <td>89216</td>\n",
              "      <td>69504</td>\n",
              "      <td>98408</td>\n",
              "      <td>176464</td>\n",
              "      <td>78452</td>\n",
              "      <td>147857</td>\n",
              "      <td>117629</td>\n",
              "      <td>108736</td>\n",
              "      <td>74023</td>\n",
              "    </tr>\n",
              "    <tr>\n",
              "      <th>geoId/02</th>\n",
              "      <td>Alaska</td>\n",
              "      <td>8830</td>\n",
              "      <td>36073</td>\n",
              "      <td>9759</td>\n",
              "      <td>29553</td>\n",
              "      <td>20043</td>\n",
              "      <td>10230</td>\n",
              "      <td>7962</td>\n",
              "      <td>8630</td>\n",
              "      <td>20134</td>\n",
              "      <td>8897</td>\n",
              "      <td>27311</td>\n",
              "      <td>23692</td>\n",
              "      <td>18000</td>\n",
              "      <td>7609</td>\n",
              "      <td>8567</td>\n",
              "      <td>8172</td>\n",
              "    </tr>\n",
              "    <tr>\n",
              "      <th>geoId/04</th>\n",
              "      <td>Arizona</td>\n",
              "      <td>125448</td>\n",
              "      <td>315900</td>\n",
              "      <td>123277</td>\n",
              "      <td>211274</td>\n",
              "      <td>131233</td>\n",
              "      <td>170434</td>\n",
              "      <td>118026</td>\n",
              "      <td>118929</td>\n",
              "      <td>133692</td>\n",
              "      <td>125317</td>\n",
              "      <td>262334</td>\n",
              "      <td>133172</td>\n",
              "      <td>210570</td>\n",
              "      <td>111075</td>\n",
              "      <td>126194</td>\n",
              "      <td>107425</td>\n",
              "    </tr>\n",
              "    <tr>\n",
              "      <th>geoId/05</th>\n",
              "      <td>Arkansas</td>\n",
              "      <td>69556</td>\n",
              "      <td>124254</td>\n",
              "      <td>60069</td>\n",
              "      <td>78338</td>\n",
              "      <td>44816</td>\n",
              "      <td>93423</td>\n",
              "      <td>70617</td>\n",
              "      <td>61375</td>\n",
              "      <td>37690</td>\n",
              "      <td>65675</td>\n",
              "      <td>111457</td>\n",
              "      <td>39928</td>\n",
              "      <td>95124</td>\n",
              "      <td>74534</td>\n",
              "      <td>73576</td>\n",
              "      <td>51743</td>\n",
              "    </tr>\n",
              "    <tr>\n",
              "      <th>geoId/06</th>\n",
              "      <td>California</td>\n",
              "      <td>510114</td>\n",
              "      <td>1589511</td>\n",
              "      <td>495884</td>\n",
              "      <td>1225091</td>\n",
              "      <td>877148</td>\n",
              "      <td>656515</td>\n",
              "      <td>499894</td>\n",
              "      <td>480115</td>\n",
              "      <td>1421052</td>\n",
              "      <td>513108</td>\n",
              "      <td>1184505</td>\n",
              "      <td>1082448</td>\n",
              "      <td>880868</td>\n",
              "      <td>573531</td>\n",
              "      <td>536077</td>\n",
              "      <td>439574</td>\n",
              "    </tr>\n",
              "  </tbody>\n",
              "</table>\n",
              "</div>"
            ],
            "text/plain": [
              "                name  ...  Count_Household_IncomeOf45000To49999USDollar\n",
              "place                 ...                                              \n",
              "geoId/01     Alabama  ...                                         74023\n",
              "geoId/02      Alaska  ...                                          8172\n",
              "geoId/04     Arizona  ...                                        107425\n",
              "geoId/05    Arkansas  ...                                         51743\n",
              "geoId/06  California  ...                                        439574\n",
              "\n",
              "[5 rows x 17 columns]"
            ]
          },
          "metadata": {
            "tags": []
          },
          "execution_count": 5
        }
      ]
    },
    {
      "cell_type": "markdown",
      "metadata": {
        "id": "A6azivEu-JXP",
        "colab_type": "text"
      },
      "source": [
        "## Analyzing the Data\n",
        "\n",
        "Let's plot our data as a histogram. **Notice that the income ranges as tabulated by the US Census are not equal.** At the low end, the range is 0-9999, whereas, towards the top, the range 150,000-199,999 is five times as broad! **We will make the width of each of the columns correspond to their range, and will give us an idea of the total earnings, not just the number of people in that group.**\n",
        "\n",
        "First we provide code for generating the plot."
      ]
    },
    {
      "cell_type": "code",
      "metadata": {
        "id": "Bi3lWnu8-JXR",
        "colab_type": "code",
        "colab": {}
      },
      "source": [
        "# Bar chart endpoints (for calculating bar width)\n",
        "label_to_range = {\n",
        "  \"Count_Household_IncomeOfUpto10000USDollar\": [0, 9999],\n",
        "  \"Count_Household_IncomeOf10000To14999USDollar\": [10000, 14999],\n",
        "  \"Count_Household_IncomeOf15000To19999USDollar\": [15000, 19999],\n",
        "  \"Count_Household_IncomeOf20000To24999USDollar\": [20000, 24999],\n",
        "  \"Count_Household_IncomeOf25000To29999USDollar\": [25000, 29999],\n",
        "  \"Count_Household_IncomeOf30000To34999USDollar\": [30000, 34999],\n",
        "  \"Count_Household_IncomeOf35000To39999USDollar\": [35000, 39999],\n",
        "  \"Count_Household_IncomeOf40000To44999USDollar\": [40000, 44999],\n",
        "  \"Count_Household_IncomeOf45000To49999USDollar\": [45000, 49999],\n",
        "  \"Count_Household_IncomeOf50000To59999USDollar\": [50000, 59999],\n",
        "  \"Count_Household_IncomeOf60000To74999USDollar\": [60000, 74999],\n",
        "  \"Count_Household_IncomeOf75000To99999USDollar\": [75000, 99999],\n",
        "  \"Count_Household_IncomeOf100000To124999USDollar\": [100000, 124999],\n",
        "  \"Count_Household_IncomeOf125000To149999USDollar\": [125000, 149999],\n",
        "  \"Count_Household_IncomeOf150000To199999USDollar\": [150000, 199999],\n",
        "  \"Count_Household_IncomeOf200000OrMoreUSDollar\": [200000, 300000],\n",
        "}\n",
        "\n",
        "def plot_income(data, state_name):\n",
        "  # Assert that specified \"state_name\" is a valid state name\n",
        "  frame_search = data.loc[data['name'] == state_name].squeeze()\n",
        "  if frame_search.shape[0] == 0:\n",
        "    print('{} does not have sufficient income data to generate the plot!'.format(state_name))\n",
        "    return\n",
        "  \n",
        "  # Print the resulting series\n",
        "  data = frame_search[1:]\n",
        "\n",
        "  # Calculate the lengths without intervals\n",
        "  widths_without_interval = []\n",
        "  for bracket in income_brackets:\n",
        "    r = label_to_range[bracket] \n",
        "    widths_without_interval.append(int((r[1] - r[0]) / 18))\n",
        "\n",
        "  # Calculate the x-axis positions\n",
        "  pos, total = [], 0\n",
        "  for l in widths_without_interval:\n",
        "    pos.append(total + (l // 2))\n",
        "    total += l\n",
        "\n",
        "  # Calculate the bar lengths\n",
        "  widths = []\n",
        "  for bracket in income_brackets:\n",
        "    r = label_to_range[bracket] \n",
        "    # 50 here to be the intervals between bars\n",
        "    widths.append(int((r[1] - r[0]) / 18 - 50))\n",
        "\n",
        "  # Plot the histogram\n",
        "  plt.figure(figsize=(12, 10))\n",
        "  plt.xticks(pos, income_brackets, rotation=90)\n",
        "  plt.grid(True)\n",
        "  plt.bar(pos, data.values, widths, color='b', alpha=0.3)\n",
        "\n",
        "  # Return the resulting frame.\n",
        "  return frame_search"
      ],
      "execution_count": 6,
      "outputs": []
    },
    {
      "cell_type": "markdown",
      "metadata": {
        "id": "YsOnc8o4Wpq-",
        "colab_type": "text"
      },
      "source": [
        "We can then call this code with a state to plot the income bracket sizes."
      ]
    },
    {
      "cell_type": "code",
      "metadata": {
        "id": "JkNBx9KsWtey",
        "colab_type": "code",
        "colab": {
          "base_uri": "https://localhost:8080/",
          "height": 852
        },
        "outputId": "b5782902-07ed-49dd-8be7-58df79335aea"
      },
      "source": [
        "#@title Enter State to plot { run: \"auto\" }\n",
        "state_name = \"Idaho\" #@param [\"Missouri\", \"Arkansas\", \"Arizona\", \"Ohio\", \"Connecticut\", \"Vermont\", \"Illinois\", \"South Dakota\", \"Iowa\", \"Oklahoma\", \"Kansas\", \"Washington\", \"Oregon\", \"Hawaii\", \"Minnesota\", \"Idaho\", \"Alaska\", \"Colorado\", \"Delaware\", \"Alabama\", \"North Dakota\", \"Michigan\", \"California\", \"Indiana\", \"Kentucky\", \"Nebraska\", \"Louisiana\", \"New Jersey\", \"Rhode Island\", \"Utah\", \"Nevada\", \"South Carolina\", \"Wisconsin\", \"New York\", \"North Carolina\", \"New Hampshire\", \"Georgia\", \"Pennsylvania\", \"West Virginia\", \"Maine\", \"Mississippi\", \"Montana\", \"Tennessee\", \"New Mexico\", \"Massachusetts\", \"Wyoming\", \"Maryland\", \"Florida\", \"Texas\", \"Virginia\"]\n",
        "result = plot_income(data, state_name)\n",
        "\n",
        "# Show the plot\n",
        "plt.show()"
      ],
      "execution_count": 7,
      "outputs": [
        {
          "output_type": "display_data",
          "data": {
            "image/png": "[encoded data removed]",
            "text/plain": [
              "<Figure size 864x720 with 1 Axes>"
            ]
          },
          "metadata": {
            "tags": [],
            "needs_background": "light"
          }
        }
      ]
    },
    {
      "cell_type": "markdown",
      "metadata": {
        "id": "EaE8M-orXDhB",
        "colab_type": "text"
      },
      "source": [
        "and we can display the raw table of values."
      ]
    },
    {
      "cell_type": "code",
      "metadata": {
        "id": "FYPs1S9hWL8B",
        "colab_type": "code",
        "colab": {
          "base_uri": "https://localhost:8080/",
          "height": 359
        },
        "outputId": "09419ec8-0d36-466f-9523-7c4c71f9b116"
      },
      "source": [
        "# Additionally print the table of income bracket sizes \n",
        "result"
      ],
      "execution_count": 8,
      "outputs": [
        {
          "output_type": "execute_result",
          "data": {
            "text/plain": [
              "name                                              Idaho\n",
              "Count_Household_IncomeOf25000To29999USDollar      31268\n",
              "Count_Household_IncomeOf75000To99999USDollar      76641\n",
              "Count_Household_IncomeOf40000To44999USDollar      31324\n",
              "Count_Household_IncomeOf100000To124999USDollar    51057\n",
              "Count_Household_IncomeOf125000To149999USDollar    28311\n",
              "Count_Household_IncomeOfUpto10000USDollar         38492\n",
              "Count_Household_IncomeOf15000To19999USDollar      29865\n",
              "Count_Household_IncomeOf35000To39999USDollar      32391\n",
              "Count_Household_IncomeOf200000OrMoreUSDollar      22323\n",
              "Count_Household_IncomeOf30000To34999USDollar      34988\n",
              "Count_Household_IncomeOf60000To74999USDollar      70028\n",
              "Count_Household_IncomeOf150000To199999USDollar    25253\n",
              "Count_Household_IncomeOf50000To59999USDollar      54943\n",
              "Count_Household_IncomeOf10000To14999USDollar      29568\n",
              "Count_Household_IncomeOf20000To24999USDollar      33635\n",
              "Count_Household_IncomeOf45000To49999USDollar      28244\n",
              "Name: geoId/16, dtype: object"
            ]
          },
          "metadata": {
            "tags": []
          },
          "execution_count": 8
        }
      ]
    },
    {
      "cell_type": "markdown",
      "metadata": {
        "id": "fD5uhrC_G0Jv",
        "colab_type": "text"
      },
      "source": [
        "This is only the beginning! What else can you analyze? For example, you could try computing a measure of income disparity in each state (see [Gini Coefficient](https://en.wikipedia.org/wiki/Gini_coefficient)).\n",
        "\n",
        "You could then expand the dataframe to include more information and analyze how attributes like education level, crime, or even weather affect income disparity.\n",
        "\n"
      ]
    }
  ]
}
