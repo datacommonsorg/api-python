{
  "nbformat": 4,
  "nbformat_minor": 0,
  "metadata": {
    "colab": {
      "name": "Case Study: Prevalence of Obesity in 500 US Cities",
      "version": "0.3.2",
      "provenance": [],
      "collapsed_sections": [
        "qapl33x8fy_A"
      ]
    },
    "kernelspec": {
      "name": "python3",
      "display_name": "Python 3"
    }
  },
  "cells": [
    {
      "cell_type": "markdown",
      "metadata": {
        "id": "srAnaUPPbrH6",
        "colab_type": "text"
      },
      "source": [
        "Copyright 2019 Google LLC.\n",
        "SPDX-License-Identifier: Apache-2.0\n",
        "\n",
        "**Notebook Version** - 1.0.0"
      ]
    },
    {
      "cell_type": "code",
      "metadata": {
        "id": "7Et41jikt2yA",
        "colab_type": "code",
        "colab": {}
      },
      "source": [
        "from sklearn.linear_model import LinearRegression\n",
        "from sklearn.model_selection import train_test_split\n",
        "from google.colab import drive\n",
        "\n",
        "import matplotlib.pyplot as plt\n",
        "import numpy as np\n",
        "import pandas as pd\n",
        "\n",
        "import json"
      ],
      "execution_count": 0,
      "outputs": []
    },
    {
      "cell_type": "markdown",
      "metadata": {
        "id": "yjBCrzJfqHtM",
        "colab_type": "text"
      },
      "source": [
        "# Case Study: Prevalence of Obesity in 500 US Cities\n",
        "\n",
        "Obesity is well known to correlate with health factors such as high blood pressure, but is also known to correlate with economic factors such as low-income, unemployment, etc [[1]](https://www.ncbi.nlm.nih.gov/pmc/articles/PMC3198075/)[[2]](https://www.ncbi.nlm.nih.gov/pubmed/26562758). The Center for Disease Control (CDC) provides prevalence percentages on health conditions such as [obesity](https://browser.datacommons.org/kg?type=Observation&dcid=dc/o/znbdp41vejt84&r=0), [high blood pressure](https://browser.datacommons.org/kg?type=Observation&dcid=dc/o/wsj0e6pjndf74&r=0), and [high cholesterol](https://browser.datacommons.org/kg?type=Observation&dcid=dc/o/5l1fm8514pgxc&r=0) for approximately 500 major cities in the US (e.g. [San Francisco](https://browser.datacommons.org/kg?type=City&dcid=dc/3eknvn2), [New York](https://browser.datacommons.org/kg?type=City&dcid=dc/prehdd2&r=1), and [Austin](https://browser.datacommons.org/kg?type=City&dcid=dc/khxv4f2&r=1)). Meanwhile, the US Bureau of Labor Statistics provides [unemployment rates]() while the US Census provides [poverty rates]() for most cities across the United States. \n",
        "\n",
        "Even though these statistics come from different datasets across different government agencies with different storage formats, dataCommons surfaces each  of these in a single, uniform knowledge graph. In fact, you can see this in the [browser](https://browser.datacommons.org/kg?dcid=dc/re83dx3&r=0) by looking at the *provenance* column. Let's use the data in dataCommons to create a linear regression model that incorporates variables:\n",
        "\n",
        "- Prevalence of high blood pressure\n",
        "- Unemployment rate\n",
        "- Percent of population living with income below the poverty line\n",
        "\n",
        "to predict the prevalence of obesity in the 500 cities that the CDC provides data for. One thing you may note is that the US Census also provides employment statistics (you can see this by navigating to the \"employment\" and \"employmentStatus\" sections for [San Francisco](https://browser.datacommons.org/kg?type=City&dcid=dc/3eknvn2) and observing the different provenances). Our choice of using statistics from the Bureau of Labor Statistics is purely demonstrative, but it would be interesting to see if similar results can be reproduced using US Census employment statistics. "
      ]
    },
    {
      "cell_type": "code",
      "metadata": {
        "id": "GQrede0Bdm-k",
        "colab_type": "code",
        "outputId": "3509bade-4032-4e36-a991-78a014575f8c",
        "colab": {
          "base_uri": "https://localhost:8080/",
          "height": 34
        }
      },
      "source": [
        "!pip install --upgrade --quiet git+https://github.com/datacommonsorg/api-python.git@stable-1.x\n",
        "\n",
        "import datacommons as dc"
      ],
      "execution_count": 5,
      "outputs": [
        {
          "output_type": "stream",
          "text": [
            "  Building wheel for datacommons (setup.py) ... \u001b[?25l\u001b[?25hdone\n"
          ],
          "name": "stdout"
        }
      ]
    },
    {
      "cell_type": "markdown",
      "metadata": {
        "id": "HH3P0arRk7Mv",
        "colab_type": "text"
      },
      "source": [
        "We will also need to provide the API with an API key. See the [Analyzing Statistics in Data Commons Using the Python Client API](https://colab.research.google.com/drive/1ZNXTHu3J0W3vo9Mg3kNUpk0hnD6Ce1u6#scrollTo=ijxoBhFHjo3Z) to see how to set this up for a Colab Notebook."
      ]
    },
    {
      "cell_type": "code",
      "metadata": {
        "id": "_am1Pfb0lBNh",
        "colab_type": "code",
        "outputId": "01be5f1c-cc52-487d-cb62-7e5a726ae39c",
        "colab": {
          "base_uri": "https://localhost:8080/",
          "height": 34
        }
      },
      "source": [
        "# Mount the Drive\n",
        "drive.mount('/content/drive', force_remount=True)\n",
        "\n",
        "# REPLACE THIS with the path to your key.\n",
        "key_path = '/content/drive/My Drive/DataCommons/secret.json'\n",
        "\n",
        "# Read the key in and provide it to the Data Commons API\n",
        "with open(key_path, 'r') as f:\n",
        "  secrets = json.load(f)\n",
        "  dc.set_api_key(secrets['dc_api_key'])"
      ],
      "execution_count": 6,
      "outputs": [
        {
          "output_type": "stream",
          "text": [
            "Mounted at /content/drive\n"
          ],
          "name": "stdout"
        }
      ]
    },
    {
      "cell_type": "markdown",
      "metadata": {
        "id": "pNHUbzq_dnGc",
        "colab_type": "text"
      },
      "source": [
        "To get started, we'll need the cities that CDC provides data for. We've listed the DCIDs of all cities with CDC obesity prevalence statistics and stored it as a variable `city_dcids`. For now we will hide this cell!"
      ]
    },
    {
      "cell_type": "code",
      "metadata": {
        "id": "4CoM0LD4kZSN",
        "colab_type": "code",
        "cellView": "form",
        "colab": {}
      },
      "source": [
        "#@title\n",
        "city_dcids = [\n",
        "    \"geoId/5370000\", \"geoId/0524550\", \"geoId/0820000\", \n",
        "    \"geoId/3502000\", \"geoId/0665000\", \"geoId/1239550\", \n",
        "    \"geoId/2148006\", \"geoId/1232000\", \"geoId/1757225\", \n",
        "    \"geoId/0622804\", \"geoId/0807850\", \"geoId/4848072\", \n",
        "    \"geoId/3921000\", \"geoId/0680000\", \"geoId/3650617\", \n",
        "    \"geoId/4813024\", \"geoId/0644000\", \"geoId/0918430\", \n",
        "    \"geoId/5147672\", \"geoId/3345140\", \"geoId/4856000\", \n",
        "    \"geoId/1714351\", \"geoId/1982425\", \"geoId/2674900\", \n",
        "    \"geoId/1258050\", \"geoId/4943660\", \"geoId/0541000\", \n",
        "    \"geoId/0659451\", \"geoId/1269700\", \"geoId/0616350\", \n",
        "    \"geoId/0653980\", \"geoId/4459000\", \"geoId/0650258\", \n",
        "    \"geoId/0622230\", \"geoId/4845744\", \"geoId/0662938\", \n",
        "    \"geoId/0150000\", \"geoId/0673080\", \"geoId/3725580\", \n",
        "    \"geoId/0603526\", \"geoId/0846465\", \"geoId/1656260\", \n",
        "    \"geoId/2523000\", \"geoId/2241155\", \"geoId/0427820\", \n",
        "    \"geoId/2970000\", \"geoId/0622020\", \"geoId/3728000\", \n",
        "    \"geoId/5101000\", \"geoId/0681204\", \"geoId/1851876\", \n",
        "    \"geoId/1768003\", \"geoId/4224000\", \"geoId/4815976\", \n",
        "    \"geoId/2688940\", \"geoId/0606000\", \"geoId/0454050\", \n",
        "    \"geoId/3006550\", \"geoId/1751622\", \"geoId/4748000\", \n",
        "    \"geoId/5164000\", \"geoId/1077580\", \"geoId/0681666\", \n",
        "    \"geoId/5548000\", \"geoId/5584250\", \"geoId/0681344\", \n",
        "    \"geoId/0623182\", \"geoId/2915670\", \"geoId/1368516\", \n",
        "    \"geoId/4260000\", \"geoId/0615044\", \"geoId/1765000\", \n",
        "    \"geoId/4819000\", \"geoId/1921000\", \"geoId/1212875\", \n",
        "    \"geoId/3413690\", \"geoId/1253000\", \"geoId/0827425\", \n",
        "    \"geoId/0603666\", \"geoId/0616000\", \"geoId/2255000\", \n",
        "    \"geoId/5539225\", \"geoId/3710740\", \"geoId/3663000\", \n",
        "    \"geoId/4843888\", \"geoId/2567000\", \"geoId/2646000\", \n",
        "    \"geoId/2954074\", \"geoId/1150000\", \"geoId/0668084\", \n",
        "    \"geoId/3665508\", \"geoId/3436000\", \"geoId/1270600\", \n",
        "    \"geoId/0980000\", \"geoId/2706616\", \"geoId/4548535\", \n",
        "    \"geoId/1840788\", \"geoId/0677000\", \"geoId/1779293\", \n",
        "    \"geoId/2836000\", \"geoId/4983470\", \"geoId/0636770\", \n",
        "    \"geoId/2680700\", \"geoId/4803000\", \"geoId/1239425\", \n",
        "    \"geoId/2509000\", \"geoId/2036000\", \"geoId/0446000\", \n",
        "    \"geoId/2582000\", \"geoId/0816000\", \"geoId/0477000\", \n",
        "    \"geoId/0616532\", \"geoId/0658072\", \"geoId/4856348\", \n",
        "    \"geoId/2511000\", \"geoId/5303180\", \"geoId/0877290\", \n",
        "    \"geoId/4847892\", \"geoId/5305280\", \"geoId/1257425\", \n",
        "    \"geoId/0653000\", \"geoId/3912000\", \"geoId/2649000\", \n",
        "    \"geoId/1912000\", \"geoId/0639892\", \"geoId/4957300\", \n",
        "    \"geoId/4962470\", \"geoId/0680812\", \"geoId/0640130\", \n",
        "    \"geoId/1822000\", \"geoId/4147000\", \"geoId/0660466\", \n",
        "    \"geoId/1823278\", \"geoId/2758000\", \"geoId/0681554\", \n",
        "    \"geoId/1207875\", \"geoId/0135896\", \"geoId/3702140\", \n",
        "    \"geoId/4261000\", \"geoId/1207300\", \"geoId/2669035\", \n",
        "    \"geoId/4810768\", \"geoId/0680854\", \"geoId/5135000\", \n",
        "    \"geoId/0535710\", \"geoId/1712385\", \"geoId/0107000\", \n",
        "    \"geoId/0655156\", \"geoId/1772000\", \"geoId/4419180\", \n",
        "    \"geoId/4751560\", \"geoId/0630000\", \"geoId/3916000\", \n",
        "    \"geoId/5566000\", \"geoId/0614218\", \"geoId/5367000\", \n",
        "    \"geoId/2038900\", \"geoId/2545000\", \"geoId/0659920\", \n",
        "    \"geoId/1938595\", \"geoId/0648256\", \"geoId/3825700\", \n",
        "    \"geoId/0845970\", \"geoId/4752006\", \"geoId/4841464\", \n",
        "    \"geoId/0678582\", \"geoId/0613392\", \"geoId/3260600\", \n",
        "    \"geoId/4041850\", \"geoId/4819972\", \"geoId/4827000\", \n",
        "    \"geoId/3240000\", \"geoId/0608786\", \"geoId/0636000\", \n",
        "    \"geoId/4714000\", \"geoId/5357745\", \"geoId/4105800\", \n",
        "    \"geoId/0455000\", \"geoId/1703012\", \"geoId/1367284\", \n",
        "    \"geoId/4848804\", \"geoId/0665042\", \"geoId/0684200\", \n",
        "    \"geoId/1827000\", \"geoId/1714000\", \"geoId/1342425\", \n",
        "    \"geoId/5010675\", \"geoId/4513330\", \"geoId/0611194\", \n",
        "    \"geoId/0621712\", \"geoId/0650076\", \"geoId/3712000\", \n",
        "    \"geoId/0660018\", \"geoId/1831000\", \"geoId/4982950\", \n",
        "    \"geoId/4715160\", \"geoId/1243975\", \"geoId/4822660\", \n",
        "    \"geoId/0843000\", \"geoId/5531000\", \"geoId/5167000\", \n",
        "    \"geoId/4105350\", \"geoId/4123850\", \"geoId/1652120\", \n",
        "    \"geoId/0602000\", \"geoId/4810912\", \"geoId/0628000\", \n",
        "    \"geoId/0804000\", \"geoId/5176432\", \"geoId/2621000\", \n",
        "    \"geoId/2754880\", \"geoId/4561405\", \"geoId/4829000\", \n",
        "    \"geoId/1973335\", \"geoId/5380010\", \"geoId/0646898\", \n",
        "    \"geoId/4740000\", \"geoId/2717000\", \"geoId/0668000\", \n",
        "    \"geoId/1230000\", \"geoId/5157000\", \"geoId/0624680\", \n",
        "    \"geoId/1216725\", \"geoId/0651182\", \"geoId/0636546\", \n",
        "    \"geoId/0523290\", \"geoId/0669070\", \"geoId/0137000\", \n",
        "    \"geoId/0659962\", \"geoId/3128000\", \"geoId/0613210\", \n",
        "    \"geoId/4801924\", \"geoId/0812815\", \"geoId/0485540\", \n",
        "    \"geoId/0613214\", \"geoId/4009050\", \"geoId/0600884\", \n",
        "    \"geoId/0662000\", \"geoId/1245025\", \"geoId/3961000\", \n",
        "    \"geoId/2629000\", \"geoId/4804000\", \"geoId/3570500\", \n",
        "    \"geoId/5182000\", \"geoId/4841980\", \"geoId/0611530\", \n",
        "    \"geoId/3722920\", \"geoId/2146027\", \"geoId/2052575\", \n",
        "    \"geoId/1759000\", \"geoId/3474000\", \"geoId/1224000\", \n",
        "    \"geoId/0648354\", \"geoId/4861796\", \"geoId/1254200\", \n",
        "    \"geoId/15003\", \"geoId/5305210\", \"geoId/4269000\", \n",
        "    \"geoId/4807000\", \"geoId/4879000\", \"geoId/0629000\", \n",
        "    \"geoId/0656000\", \"geoId/2935000\", \"geoId/2071000\", \n",
        "    \"geoId/4835000\", \"geoId/1235000\", \"geoId/4075000\", \n",
        "    \"geoId/4853388\", \"geoId/0617918\", \"geoId/4055000\", \n",
        "    \"geoId/1871000\", \"geoId/5116000\", \"geoId/0668196\", \n",
        "    \"geoId/5374060\", \"geoId/4830464\", \"geoId/2537490\", \n",
        "    \"geoId/1238250\", \"geoId/2360545\", \"geoId/0832155\", \n",
        "    \"geoId/0664000\", \"geoId/4801000\", \"geoId/0647766\", \n",
        "    \"geoId/0672016\", \"geoId/2684000\", \"geoId/4858016\", \n",
        "    \"geoId/0465000\", \"geoId/3563460\", \"geoId/0646842\", \n",
        "    \"geoId/3775000\", \"geoId/0682996\", \"geoId/1707133\", \n",
        "    \"geoId/2627440\", \"geoId/2239475\", \"geoId/2603000\", \n",
        "    \"geoId/5335415\", \"geoId/1723074\", \"geoId/0632548\", \n",
        "    \"geoId/0670000\", \"geoId/1836003\", \"geoId/0669000\", \n",
        "    \"geoId/5168000\", \"geoId/3268400\", \"geoId/3774440\", \n",
        "    \"geoId/3457000\", \"geoId/2964550\", \"geoId/4876000\", \n",
        "    \"geoId/5414600\", \"geoId/0656700\", \"geoId/3539380\", \n",
        "    \"geoId/0657792\", \"geoId/0670098\", \"geoId/0952000\", \n",
        "    \"geoId/0666000\", \"geoId/0973000\", \"geoId/0639496\", \n",
        "    \"geoId/0566080\", \"geoId/0600562\", \"geoId/3673000\", \n",
        "    \"geoId/1245060\", \"geoId/0669196\", \"geoId/3350260\", \n",
        "    \"geoId/0862000\", \"geoId/2676460\", \"geoId/0955990\", \n",
        "    \"geoId/1810342\", \"geoId/0626000\", \"geoId/1738570\", \n",
        "    \"geoId/3137000\", \"geoId/4052500\", \"geoId/4857200\", \n",
        "    \"geoId/3601000\", \"geoId/0608954\", \"geoId/0619766\", \n",
        "    \"geoId/3456550\", \"geoId/3474630\", \"geoId/4131250\", \n",
        "    \"geoId/4164900\", \"geoId/1319000\", \"geoId/2555745\", \n",
        "    \"geoId/3714100\", \"geoId/3231900\", \"geoId/0602364\", \n",
        "    \"geoId/4550875\", \"geoId/0427400\", \"geoId/1369000\", \n",
        "    \"geoId/1225175\", \"geoId/0654652\", \"geoId/1304204\", \n",
        "    \"geoId/4202000\", \"geoId/3918000\", \"geoId/2829700\", \n",
        "    \"geoId/2270000\", \"geoId/5367167\", \"geoId/0937000\", \n",
        "    \"geoId/4263624\", \"geoId/4845384\", \"geoId/5613900\", \n",
        "    \"geoId/2941348\", \"geoId/0682590\", \"geoId/1258715\", \n",
        "    \"geoId/4874144\", \"geoId/0682954\", \"geoId/1825000\", \n",
        "    \"geoId/0908000\", \"geoId/0633434\", \"geoId/0653896\", \n",
        "    \"geoId/4955980\", \"geoId/0151000\", \"geoId/0645484\", \n",
        "    \"geoId/1216475\", \"geoId/3728080\", \"geoId/2545560\", \n",
        "    \"geoId/0883835\", \"geoId/3410000\", \"geoId/2642160\", \n",
        "    \"geoId/2537000\", \"geoId/4848768\", \"geoId/1724582\", \n",
        "    \"geoId/4965330\", \"geoId/0627000\", \"geoId/0652526\", \n",
        "    \"geoId/0649670\", \"geoId/4870808\", \"geoId/4206088\", \n",
        "    \"geoId/1919000\", \"geoId/3755000\", \"geoId/0636448\", \n",
        "    \"geoId/0641992\", \"geoId/5553000\", \"geoId/0684550\", \n",
        "    \"geoId/0675000\", \"geoId/5323515\", \"geoId/3684000\", \n",
        "    \"geoId/2404000\", \"geoId/0613588\", \"geoId/4652980\", \n",
        "    \"geoId/3651000\", \"geoId/2562535\", \"geoId/1718823\", \n",
        "    \"geoId/1245000\", \"geoId/2507000\", \"geoId/0604982\", \n",
        "    \"geoId/0664224\", \"geoId/2240735\", \"geoId/0678120\", \n",
        "    \"geoId/3451000\", \"geoId/2751730\", \"geoId/0667000\", \n",
        "    \"geoId/4659020\", \"geoId/5363000\", \"geoId/2622000\", \n",
        "    \"geoId/1255775\", \"geoId/4863500\", \"geoId/0685292\", \n",
        "    \"geoId/0950370\", \"geoId/1217200\", \"geoId/0643000\", \n",
        "    \"geoId/3734200\", \"geoId/4837000\", \"geoId/0412000\", \n",
        "    \"geoId/4842508\", \"geoId/1303440\", \"geoId/4967000\", \n",
        "    \"geoId/0669088\", \"geoId/0660620\", \"geoId/0203000\", \n",
        "    \"geoId/1702154\", \"geoId/2686000\", \"geoId/4806128\", \n",
        "    \"geoId/0669084\", \"geoId/1304000\", \"geoId/1301052\", \n",
        "    \"geoId/0649270\", \"geoId/1210275\", \"geoId/0613014\", \n",
        "    \"geoId/4474300\", \"geoId/5322640\", \"geoId/2743000\", \n",
        "    \"geoId/0803455\", \"geoId/1271000\", \"geoId/1380508\", \n",
        "    \"geoId/0602252\", \"geoId/4134100\", \"geoId/4159000\", \n",
        "    \"geoId/3901000\", \"geoId/1263000\", \"geoId/3421000\", \n",
        "    \"geoId/4817000\", \"geoId/1245975\", \"geoId/0404720\", \n",
        "    \"geoId/4454640\", \"geoId/0633000\", \"geoId/3611000\", \n",
        "    \"geoId/5156000\", \"geoId/3977000\", \"geoId/4845000\", \n",
        "    \"geoId/0633182\", \"geoId/0668252\", \"geoId/3731400\", \n",
        "    \"geoId/1706613\", \"geoId/2634000\", \"geoId/4839148\", \n",
        "    \"geoId/4516000\", \"geoId/2707966\", \"geoId/1349000\", \n",
        "    \"geoId/2053775\", \"geoId/1214400\", \"geoId/4864472\", \n",
        "    \"geoId/2938000\", \"geoId/3251800\", \"geoId/2965000\", \n",
        "    \"geoId/4865000\", \"geoId/3649121\", \"geoId/4827684\", \n",
        "    \"geoId/0471510\", \"geoId/1254000\", \"geoId/4023200\", \n",
        "    \"geoId/3050200\", \"geoId/1276600\", \"geoId/0660102\", \n",
        "    \"geoId/0644574\", \"geoId/3719000\", \"geoId/1608830\", \n",
        "    \"geoId/0653322\", \"geoId/5502375\", \"geoId/2534550\", \n",
        "    \"geoId/4967440\", \"geoId/0473000\", \"geoId/5335275\", \n",
        "    \"geoId/3915000\", \"geoId/1805860\", \"geoId/4824000\", \n",
        "    \"geoId/4805000\", \"geoId/2079000\", \"geoId/2205000\", \n",
        "    \"geoId/0624638\", \"geoId/3988000\", \"geoId/0668378\", \n",
        "    \"geoId/0177256\", \"geoId/0680238\",\n",
        "]"
      ],
      "execution_count": 0,
      "outputs": []
    },
    {
      "cell_type": "markdown",
      "metadata": {
        "id": "2JmxK2KrnCcQ",
        "colab_type": "text"
      },
      "source": [
        "We then initialize a `pandas.DataFrame` with the dcids in this list."
      ]
    },
    {
      "cell_type": "code",
      "metadata": {
        "id": "IM4ajcwoNtXr",
        "colab_type": "code",
        "outputId": "f1bb3296-1bff-48a9-ba56-d1a36677548d",
        "colab": {
          "base_uri": "https://localhost:8080/",
          "height": 204
        }
      },
      "source": [
        "# Create the Pandas DataFrame \n",
        "data = pd.DataFrame({'City': city_dcids})\n",
        "\n",
        "# Get the name of each city\n",
        "data['CityName'] = dc.get_property_values(data['City'], 'name')\n",
        "data = dc.flatten_frame(data)\n",
        "\n",
        "# Show the top five rows\n",
        "data.head(5)"
      ],
      "execution_count": 8,
      "outputs": [
        {
          "output_type": "execute_result",
          "data": {
            "text/html": [
              "<div>\n",
              "<style scoped>\n",
              "    .dataframe tbody tr th:only-of-type {\n",
              "        vertical-align: middle;\n",
              "    }\n",
              "\n",
              "    .dataframe tbody tr th {\n",
              "        vertical-align: top;\n",
              "    }\n",
              "\n",
              "    .dataframe thead th {\n",
              "        text-align: right;\n",
              "    }\n",
              "</style>\n",
              "<table border=\"1\" class=\"dataframe\">\n",
              "  <thead>\n",
              "    <tr style=\"text-align: right;\">\n",
              "      <th></th>\n",
              "      <th>City</th>\n",
              "      <th>CityName</th>\n",
              "    </tr>\n",
              "  </thead>\n",
              "  <tbody>\n",
              "    <tr>\n",
              "      <th>0</th>\n",
              "      <td>geoId/5370000</td>\n",
              "      <td>Tacoma</td>\n",
              "    </tr>\n",
              "    <tr>\n",
              "      <th>1</th>\n",
              "      <td>geoId/0524550</td>\n",
              "      <td>Fort Smith</td>\n",
              "    </tr>\n",
              "    <tr>\n",
              "      <th>2</th>\n",
              "      <td>geoId/0820000</td>\n",
              "      <td>Denver</td>\n",
              "    </tr>\n",
              "    <tr>\n",
              "      <th>3</th>\n",
              "      <td>geoId/3502000</td>\n",
              "      <td>Albuquerque</td>\n",
              "    </tr>\n",
              "    <tr>\n",
              "      <th>4</th>\n",
              "      <td>geoId/0665000</td>\n",
              "      <td>San Bernardino</td>\n",
              "    </tr>\n",
              "  </tbody>\n",
              "</table>\n",
              "</div>"
            ],
            "text/plain": [
              "            City        CityName\n",
              "0  geoId/5370000          Tacoma\n",
              "1  geoId/0524550      Fort Smith\n",
              "2  geoId/0820000          Denver\n",
              "3  geoId/3502000     Albuquerque\n",
              "4  geoId/0665000  San Bernardino"
            ]
          },
          "metadata": {
            "tags": []
          },
          "execution_count": 8
        }
      ]
    },
    {
      "cell_type": "markdown",
      "metadata": {
        "id": "Ccy9-czCfVTn",
        "colab_type": "text"
      },
      "source": [
        "### Querying for all Statistics\n",
        "\n",
        "Let's start by querying for all our statistics. If you have not already, take a look at this [notebook](https://colab.research.google.com/drive/1ZNXTHu3J0W3vo9Mg3kNUpk0hnD6Ce1u6) explaining how to query for StatisticalPopulations and Observations. "
      ]
    },
    {
      "cell_type": "code",
      "metadata": {
        "id": "w2VPoSUWgeK3",
        "colab_type": "code",
        "outputId": "abdc71ed-0dc1-44c9-feed-49bbf979d22a",
        "colab": {
          "base_uri": "https://localhost:8080/",
          "height": 204
        }
      },
      "source": [
        "# Prevalence of obesity\n",
        "data['ObesityPop'] = dc.get_populations(\n",
        "    data['City'],\n",
        "    'Person',\n",
        "    constraining_properties={\n",
        "        'unhealthyBehavior': 'CDC_Obesity'\n",
        "    }\n",
        ")\n",
        "data['Obesity'] = dc.get_observations(\n",
        "    data['ObesityPop'],\n",
        "    'prevalence',\n",
        "    'measuredValue',\n",
        "    '2015',\n",
        "    measurement_method='CDC_CrudePrevalence'\n",
        ")\n",
        "\n",
        "# Prevalence of high blood pressure\n",
        "data['HighBpPop'] = dc.get_populations(\n",
        "    data['City'],\n",
        "    'Person',\n",
        "    constraining_properties={\n",
        "        'healthOutcome': 'CDC_BPHigh'\n",
        "    }\n",
        ")\n",
        "data['HighBp'] = dc.get_observations(\n",
        "    data['HighBpPop'],\n",
        "    'prevalence',\n",
        "    'measuredValue',\n",
        "    '2015',\n",
        "    measurement_method='CDC_CrudePrevalence'\n",
        ")\n",
        "\n",
        "# Population of all persons\n",
        "data['AllPersonsPop'] = dc.get_populations(data['City'], 'Person')\n",
        "\n",
        "# Total persons count \n",
        "data['PersonCount'] = dc.get_observations(\n",
        "    data['AllPersonsPop'],\n",
        "    'count',\n",
        "    'measuredValue',\n",
        "    '2015',\n",
        "    measurement_method='CenusACS5yrSurvey'\n",
        ")\n",
        "\n",
        "# Unemployment rate\n",
        "data['Unemployment'] = dc.get_observations(\n",
        "    data['AllPersonsPop'],\n",
        "    'unemploymentRate',\n",
        "    'measuredValue',\n",
        "    '2015',\n",
        "    observation_period='P1Y',\n",
        "    measurement_method='BLSSeasonallyUnadjusted'\n",
        ")\n",
        "\n",
        "# Count of persons living below the poverty line\n",
        "data['PovertyPersonsPop'] = dc.get_populations(\n",
        "    data['City'],\n",
        "    'Person',\n",
        "    constraining_properties={\n",
        "        'povertyStatus': 'BelowPovertyLevelInThePast12Months'\n",
        "    }\n",
        ")\n",
        "data['PovertyCount'] = dc.get_observations(\n",
        "    data['PovertyPersonsPop'],\n",
        "    'count',\n",
        "    'measuredValue',\n",
        "    '2015',\n",
        "    measurement_method='CenusACS5yrSurvey'\n",
        ")\n",
        "\n",
        "# Display the first five rows.\n",
        "data.head(5)"
      ],
      "execution_count": 9,
      "outputs": [
        {
          "output_type": "execute_result",
          "data": {
            "text/html": [
              "<div>\n",
              "<style scoped>\n",
              "    .dataframe tbody tr th:only-of-type {\n",
              "        vertical-align: middle;\n",
              "    }\n",
              "\n",
              "    .dataframe tbody tr th {\n",
              "        vertical-align: top;\n",
              "    }\n",
              "\n",
              "    .dataframe thead th {\n",
              "        text-align: right;\n",
              "    }\n",
              "</style>\n",
              "<table border=\"1\" class=\"dataframe\">\n",
              "  <thead>\n",
              "    <tr style=\"text-align: right;\">\n",
              "      <th></th>\n",
              "      <th>City</th>\n",
              "      <th>CityName</th>\n",
              "      <th>ObesityPop</th>\n",
              "      <th>Obesity</th>\n",
              "      <th>HighBpPop</th>\n",
              "      <th>HighBp</th>\n",
              "      <th>AllPersonsPop</th>\n",
              "      <th>PersonCount</th>\n",
              "      <th>Unemployment</th>\n",
              "      <th>PovertyPersonsPop</th>\n",
              "      <th>PovertyCount</th>\n",
              "    </tr>\n",
              "  </thead>\n",
              "  <tbody>\n",
              "    <tr>\n",
              "      <th>0</th>\n",
              "      <td>geoId/5370000</td>\n",
              "      <td>Tacoma</td>\n",
              "      <td>dc/p/ygz97bz3qrl68</td>\n",
              "      <td>32.1</td>\n",
              "      <td>dc/p/061211lndk972</td>\n",
              "      <td>32.1</td>\n",
              "      <td>dc/p/v2z7yr9e9m7t4</td>\n",
              "      <td>203481.0</td>\n",
              "      <td>6.8</td>\n",
              "      <td>dc/p/9r3lcy246fb72</td>\n",
              "      <td>35674.0</td>\n",
              "    </tr>\n",
              "    <tr>\n",
              "      <th>1</th>\n",
              "      <td>geoId/0524550</td>\n",
              "      <td>Fort Smith</td>\n",
              "      <td>dc/p/0wzp84d2rghp4</td>\n",
              "      <td>31.7</td>\n",
              "      <td>dc/p/jyfmgsp4wlsn4</td>\n",
              "      <td>37.9</td>\n",
              "      <td>dc/p/qep2q2lcc3rcc</td>\n",
              "      <td>87603.0</td>\n",
              "      <td>4.8</td>\n",
              "      <td>dc/p/3vl1zg91yczx7</td>\n",
              "      <td>23080.0</td>\n",
              "    </tr>\n",
              "    <tr>\n",
              "      <th>2</th>\n",
              "      <td>geoId/0820000</td>\n",
              "      <td>Denver</td>\n",
              "      <td>dc/p/z1dpmq8jnmhdc</td>\n",
              "      <td>20.4</td>\n",
              "      <td>dc/p/71jjtd68z1tl7</td>\n",
              "      <td>23.7</td>\n",
              "      <td>dc/p/gmw3cn8tmsnth</td>\n",
              "      <td>649654.0</td>\n",
              "      <td>3.7</td>\n",
              "      <td>dc/p/r2svxn0qs9nk8</td>\n",
              "      <td>110299.0</td>\n",
              "    </tr>\n",
              "    <tr>\n",
              "      <th>3</th>\n",
              "      <td>geoId/3502000</td>\n",
              "      <td>Albuquerque</td>\n",
              "      <td>dc/p/2tbc81tpz0s26</td>\n",
              "      <td>25.7</td>\n",
              "      <td>dc/p/0wp70nnwevmh2</td>\n",
              "      <td>26.5</td>\n",
              "      <td>dc/p/xjngmjh589vn5</td>\n",
              "      <td>556092.0</td>\n",
              "      <td>5.8</td>\n",
              "      <td>dc/p/rzvgzt78nzer7</td>\n",
              "      <td>105617.0</td>\n",
              "    </tr>\n",
              "    <tr>\n",
              "      <th>4</th>\n",
              "      <td>geoId/0665000</td>\n",
              "      <td>San Bernardino</td>\n",
              "      <td>dc/p/3hn9s9kz9gezg</td>\n",
              "      <td>34.6</td>\n",
              "      <td>dc/p/z8jneb443gyg9</td>\n",
              "      <td>31.5</td>\n",
              "      <td>dc/p/92cxc027krdcd</td>\n",
              "      <td>214112.0</td>\n",
              "      <td>8.2</td>\n",
              "      <td>dc/p/001d2p6867d3g</td>\n",
              "      <td>68990.0</td>\n",
              "    </tr>\n",
              "  </tbody>\n",
              "</table>\n",
              "</div>"
            ],
            "text/plain": [
              "            City        CityName  ...   PovertyPersonsPop  PovertyCount\n",
              "0  geoId/5370000          Tacoma  ...  dc/p/9r3lcy246fb72       35674.0\n",
              "1  geoId/0524550      Fort Smith  ...  dc/p/3vl1zg91yczx7       23080.0\n",
              "2  geoId/0820000          Denver  ...  dc/p/r2svxn0qs9nk8      110299.0\n",
              "3  geoId/3502000     Albuquerque  ...  dc/p/rzvgzt78nzer7      105617.0\n",
              "4  geoId/0665000  San Bernardino  ...  dc/p/001d2p6867d3g       68990.0\n",
              "\n",
              "[5 rows x 11 columns]"
            ]
          },
          "metadata": {
            "tags": []
          },
          "execution_count": 9
        }
      ]
    },
    {
      "cell_type": "markdown",
      "metadata": {
        "id": "z191ImVmrdds",
        "colab_type": "text"
      },
      "source": [
        "### Cleaning the Data\n",
        "\n",
        "Great! We have all the statistics we'll need for this case study queried from three different data sources without having to write additional code to perform the joins. However, we'll still need to perform three data cleanup tasks to prepare the data for analysis:\n",
        "\n",
        "1. Select the column of city names and all observation columns.\n",
        "2. Convert the observation columns to numerical types. Since dataCommons is still in its early release stage, there are a couple of oddities such as how numerical observations are stored as text values!\n",
        "3. Remove any missing rows with missing values.\n",
        "\n",
        "Let's generate the final dataframe."
      ]
    },
    {
      "cell_type": "code",
      "metadata": {
        "id": "Wv6oIY765sf-",
        "colab_type": "code",
        "outputId": "04a660b5-70f8-46bc-f57d-521c16485450",
        "colab": {
          "base_uri": "https://localhost:8080/",
          "height": 204
        }
      },
      "source": [
        "# Get the cleaned table\n",
        "cleaned = dc.clean_frame(data)\n",
        "\n",
        "# Remove population columns and compute the poverty rate\n",
        "cleaned = cleaned[['CityName', 'Obesity', 'HighBp', 'Unemployment', 'PersonCount', 'PovertyCount']]\n",
        "cleaned['PovertyRate'] = cleaned['PovertyCount'] / cleaned['PersonCount'] * 100\n",
        "\n",
        "# Display the table\n",
        "cleaned.head(5)"
      ],
      "execution_count": 10,
      "outputs": [
        {
          "output_type": "execute_result",
          "data": {
            "text/html": [
              "<div>\n",
              "<style scoped>\n",
              "    .dataframe tbody tr th:only-of-type {\n",
              "        vertical-align: middle;\n",
              "    }\n",
              "\n",
              "    .dataframe tbody tr th {\n",
              "        vertical-align: top;\n",
              "    }\n",
              "\n",
              "    .dataframe thead th {\n",
              "        text-align: right;\n",
              "    }\n",
              "</style>\n",
              "<table border=\"1\" class=\"dataframe\">\n",
              "  <thead>\n",
              "    <tr style=\"text-align: right;\">\n",
              "      <th></th>\n",
              "      <th>CityName</th>\n",
              "      <th>Obesity</th>\n",
              "      <th>HighBp</th>\n",
              "      <th>Unemployment</th>\n",
              "      <th>PersonCount</th>\n",
              "      <th>PovertyCount</th>\n",
              "      <th>PovertyRate</th>\n",
              "    </tr>\n",
              "  </thead>\n",
              "  <tbody>\n",
              "    <tr>\n",
              "      <th>0</th>\n",
              "      <td>Tacoma</td>\n",
              "      <td>32.1</td>\n",
              "      <td>32.1</td>\n",
              "      <td>6.8</td>\n",
              "      <td>203481.0</td>\n",
              "      <td>35674.0</td>\n",
              "      <td>17.531858</td>\n",
              "    </tr>\n",
              "    <tr>\n",
              "      <th>1</th>\n",
              "      <td>Fort Smith</td>\n",
              "      <td>31.7</td>\n",
              "      <td>37.9</td>\n",
              "      <td>4.8</td>\n",
              "      <td>87603.0</td>\n",
              "      <td>23080.0</td>\n",
              "      <td>26.346130</td>\n",
              "    </tr>\n",
              "    <tr>\n",
              "      <th>2</th>\n",
              "      <td>Denver</td>\n",
              "      <td>20.4</td>\n",
              "      <td>23.7</td>\n",
              "      <td>3.7</td>\n",
              "      <td>649654.0</td>\n",
              "      <td>110299.0</td>\n",
              "      <td>16.978115</td>\n",
              "    </tr>\n",
              "    <tr>\n",
              "      <th>3</th>\n",
              "      <td>Albuquerque</td>\n",
              "      <td>25.7</td>\n",
              "      <td>26.5</td>\n",
              "      <td>5.8</td>\n",
              "      <td>556092.0</td>\n",
              "      <td>105617.0</td>\n",
              "      <td>18.992721</td>\n",
              "    </tr>\n",
              "    <tr>\n",
              "      <th>4</th>\n",
              "      <td>San Bernardino</td>\n",
              "      <td>34.6</td>\n",
              "      <td>31.5</td>\n",
              "      <td>8.2</td>\n",
              "      <td>214112.0</td>\n",
              "      <td>68990.0</td>\n",
              "      <td>32.221454</td>\n",
              "    </tr>\n",
              "  </tbody>\n",
              "</table>\n",
              "</div>"
            ],
            "text/plain": [
              "         CityName  Obesity  HighBp  ...  PersonCount  PovertyCount  PovertyRate\n",
              "0          Tacoma     32.1    32.1  ...     203481.0       35674.0    17.531858\n",
              "1      Fort Smith     31.7    37.9  ...      87603.0       23080.0    26.346130\n",
              "2          Denver     20.4    23.7  ...     649654.0      110299.0    16.978115\n",
              "3     Albuquerque     25.7    26.5  ...     556092.0      105617.0    18.992721\n",
              "4  San Bernardino     34.6    31.5  ...     214112.0       68990.0    32.221454\n",
              "\n",
              "[5 rows x 7 columns]"
            ]
          },
          "metadata": {
            "tags": []
          },
          "execution_count": 10
        }
      ]
    },
    {
      "cell_type": "markdown",
      "metadata": {
        "id": "-ZGRFaJKdHIO",
        "colab_type": "text"
      },
      "source": [
        "### Exploring the Data\n",
        "\n",
        "Now's a good time to explore how each variable (high blood pressure prevalence, unemployment rate, and poverty rate) correlate with obesity prevalence. As stated before, previous research has shown that each of these variables tend to correlate positively with the prevalence of Obesity. Does our data show this?"
      ]
    },
    {
      "cell_type": "code",
      "metadata": {
        "id": "Y_g3fDt-dasl",
        "colab_type": "code",
        "outputId": "0c46e2af-a002-4b70-c26a-10757416feb4",
        "colab": {
          "base_uri": "https://localhost:8080/",
          "height": 312
        }
      },
      "source": [
        "# Plot Bphigh vs. Obesity\n",
        "plt.figure(figsize=(6,4))\n",
        "cleaned.plot.scatter(x='HighBp', y='Obesity')\n",
        "plt.title('High Blood Pressure Prevalence v. Obesity Prevalence')\n",
        "\n",
        "# Show the plot\n",
        "plt.show()"
      ],
      "execution_count": 11,
      "outputs": [
        {
          "output_type": "display_data",
          "data": {
            "text/plain": [
              "<Figure size 432x288 with 0 Axes>"
            ]
          },
          "metadata": {
            "tags": []
          }
        },
        {
          "output_type": "display_data",
          "data": {
            "image/png": "[encoded data removed]",
            "text/plain": [
              "<Figure size 432x288 with 1 Axes>"
            ]
          },
          "metadata": {
            "tags": []
          }
        }
      ]
    },
    {
      "cell_type": "code",
      "metadata": {
        "id": "Rf2yQkHBcuEk",
        "colab_type": "code",
        "outputId": "74f08d44-e498-43d4-a1da-00398fb67cb5",
        "colab": {
          "base_uri": "https://localhost:8080/",
          "height": 312
        }
      },
      "source": [
        "# Plot Unemployment with Obesity\n",
        "plt.figure(figsize=(6,4))\n",
        "cleaned.plot.scatter(x='Unemployment', y='Obesity')\n",
        "plt.title('Unemployment Rate v. Obesity Prevalence')\n",
        "\n",
        "# Show the plot\n",
        "plt.show()"
      ],
      "execution_count": 12,
      "outputs": [
        {
          "output_type": "display_data",
          "data": {
            "text/plain": [
              "<Figure size 432x288 with 0 Axes>"
            ]
          },
          "metadata": {
            "tags": []
          }
        },
        {
          "output_type": "display_data",
          "data": {
            "image/png": "[encoded data removed]",
            "text/plain": [
              "<Figure size 432x288 with 1 Axes>"
            ]
          },
          "metadata": {
            "tags": []
          }
        }
      ]
    },
    {
      "cell_type": "code",
      "metadata": {
        "id": "A6bczTzEcuOS",
        "colab_type": "code",
        "outputId": "7f8878bf-11ef-4056-b4c9-0be7927375e4",
        "colab": {
          "base_uri": "https://localhost:8080/",
          "height": 312
        }
      },
      "source": [
        "# Plot PovertyRate with Obesity\n",
        "plt.figure(figsize=(6,4))\n",
        "cleaned.plot.scatter(x='PovertyRate', y='Obesity')\n",
        "plt.title('Poverty Rate v. Obesity Prevalence')\n",
        "\n",
        "# Show the plot\n",
        "plt.show()"
      ],
      "execution_count": 13,
      "outputs": [
        {
          "output_type": "display_data",
          "data": {
            "text/plain": [
              "<Figure size 432x288 with 0 Axes>"
            ]
          },
          "metadata": {
            "tags": []
          }
        },
        {
          "output_type": "display_data",
          "data": {
            "image/png": "[encoded data removed]",
            "text/plain": [
              "<Figure size 432x288 with 1 Axes>"
            ]
          },
          "metadata": {
            "tags": []
          }
        }
      ]
    },
    {
      "cell_type": "markdown",
      "metadata": {
        "id": "wNABZa_idvzD",
        "colab_type": "text"
      },
      "source": [
        "Looks like each of variable does correlate positively with obesity prevalence."
      ]
    },
    {
      "cell_type": "markdown",
      "metadata": {
        "id": "Bp52dWJNfYSa",
        "colab_type": "text"
      },
      "source": [
        "### Modeling the Data\n",
        "\n",
        "We'll be predicting the prevalence of obesity with the following linear model.\n",
        "\n",
        "<br>\n",
        "$$f_\\theta(x) = \\theta_0 + \\theta_1 (\\text{high blood pressure}) + \\theta_2 (\\text{unemployment}) + \\theta_3(\\text{poverty rate})$$\n",
        "<br>\n",
        "\n",
        "Let's start by creating our training and test sets. We'll then train a linear regression model using Scikit learn's [LinearRegression](https://scikit-learn.org/stable/modules/generated/sklearn.linear_model.LinearRegression.html)"
      ]
    },
    {
      "cell_type": "code",
      "metadata": {
        "id": "CppTvF2tYz4U",
        "colab_type": "code",
        "outputId": "2fe0d236-5ef2-4366-f44d-8931f00451ca",
        "colab": {
          "base_uri": "https://localhost:8080/",
          "height": 51
        }
      },
      "source": [
        "X = cleaned[['HighBp', 'Unemployment', 'PovertyRate']]\n",
        "Y = cleaned[['Obesity']]\n",
        "x_train, x_test, y_train, y_test = train_test_split(X, Y, test_size=0.2)\n",
        "\n",
        "model = LinearRegression(fit_intercept=True)\n",
        "model.fit(x_train, y_train)\n",
        "\n",
        "print('Model Intercept: {}'.format(model.intercept_))\n",
        "print('Model Coefficients: {}'.format(model.coef_))"
      ],
      "execution_count": 14,
      "outputs": [
        {
          "output_type": "stream",
          "text": [
            "Model Intercept: [4.85067402]\n",
            "Model Coefficients: [[ 0.66873351 -0.14130964  0.29417318]]\n"
          ],
          "name": "stdout"
        }
      ]
    },
    {
      "cell_type": "markdown",
      "metadata": {
        "id": "dBmThySxaXKp",
        "colab_type": "text"
      },
      "source": [
        "### Analyzing the Model\n",
        "\n",
        "We now have a trained model, but how well does it perform?"
      ]
    },
    {
      "cell_type": "code",
      "metadata": {
        "id": "UvQhIin3awbU",
        "colab_type": "code",
        "outputId": "d7e3ad45-053b-4b34-9300-93e8bcc9b2ee",
        "colab": {
          "base_uri": "https://localhost:8080/",
          "height": 51
        }
      },
      "source": [
        "def mse(y_pred, y_true):\n",
        "    \"\"\" Compute the mean squared error of 'y_pred' and 'y_true'. \"\"\"\n",
        "    return float(np.sum((y_pred - y_true) ** 2)) / len(y_pred)\n",
        "\n",
        "train_pred = model.predict(x_train)\n",
        "test_pred = model.predict(x_test)\n",
        "\n",
        "print('Training Error: {}'.format(mse(train_pred, y_train)))\n",
        "print('Test Error: {}'.format(mse(test_pred, y_test)))"
      ],
      "execution_count": 15,
      "outputs": [
        {
          "output_type": "stream",
          "text": [
            "Training Error: 10.228031794227281\n",
            "Test Error: 12.858870785996542\n"
          ],
          "name": "stdout"
        }
      ]
    },
    {
      "cell_type": "markdown",
      "metadata": {
        "id": "VsGLliuzawPE",
        "colab_type": "text"
      },
      "source": [
        "We can also display a plot of the residuals"
      ]
    },
    {
      "cell_type": "code",
      "metadata": {
        "id": "MLwX-CH3bDKg",
        "colab_type": "code",
        "outputId": "e8d3f1ac-f508-45fc-e3a9-28c0c3c95e08",
        "colab": {
          "base_uri": "https://localhost:8080/",
          "height": 295
        }
      },
      "source": [
        "y_res = (test_pred - y_test) / y_test\n",
        "\n",
        "# Plot the results\n",
        "plt.title(\"Residual Proportions Plot\")\n",
        "plt.xlabel(\"Test Data Row Index\")\n",
        "plt.ylabel(\"resid. / actual obesity prevalence\")\n",
        "plt.scatter(y_res.index, y_res['Obesity'])\n",
        "plt.show()"
      ],
      "execution_count": 16,
      "outputs": [
        {
          "output_type": "display_data",
          "data": {
            "image/png": "[encoded data removed]",
            "text/plain": [
              "<Figure size 432x288 with 1 Axes>"
            ]
          },
          "metadata": {
            "tags": []
          }
        }
      ]
    },
    {
      "cell_type": "markdown",
      "metadata": {
        "id": "8VE-arrmbLNL",
        "colab_type": "text"
      },
      "source": [
        "How well does your model perform? We were able to achieve an MSE for the test set of approximately 10% points from the observed obesity prevalence. Our model was also able to fit the data with the max residual bounded by +/- 30%, which for a simple model considering only three explanatory variables isn't so bad."
      ]
    },
    {
      "cell_type": "markdown",
      "metadata": {
        "id": "qapl33x8fy_A",
        "colab_type": "text"
      },
      "source": [
        "## Conclusion\n",
        "\n",
        "Congratulations! Rather than spending a couple of hours just searching for and joining datasets from the CDC, Bureau of Labor Statistics, and US Census Bureau, you've spent one lab session querying dataCommons for the same data and, on top of that, using it to build a linear model. Hopefully dataCommons has made the time-to-analysis much shorter! \n",
        "\n",
        "You've also created a basic model to predict the prevalence of obesity in approximately 500 states using intuition from a long line of research. The model you've created only uses three explanatory variables, so even though it's not the most accurate at predicting obesity prevalence, it's possible that it can be improved by adding more variables. Obesity is also known to correlate with factors such as [high cholesterol](https://browser.datacommons.org/kg?dcid=dc/p/ff59srlmxrr56) and [diabetes](https://browser.datacommons.org/kg?dcid=dc/p/j8ltt5t5r9p75), but with the data in dataCommons, we can even consider asking if obesity correlates with stranger factors such as\n",
        "\n",
        "- How many universities recognized by [collegescorecard](https://collegescorecard.ed.gov/data/) dataset are contained in a given city \n",
        "- The incidence rate of property arson\n",
        "- The average snowfall in inches\n",
        "\n",
        "Does adding these variables into your model improve accuracy? Can you think of other variables that correlate with obesity? "
      ]
    }
  ]
}