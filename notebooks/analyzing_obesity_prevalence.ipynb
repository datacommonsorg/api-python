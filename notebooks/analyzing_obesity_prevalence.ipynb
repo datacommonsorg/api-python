{
  "nbformat": 4,
  "nbformat_minor": 0,
  "metadata": {
    "colab": {
      "name": "Case Study: Prevalence of Obesity in 500 US Cities",
      "provenance": [],
      "collapsed_sections": [],
      "include_colab_link": true
    },
    "kernelspec": {
      "name": "python3",
      "display_name": "Python 3"
    }
  },
  "cells": [
    {
      "cell_type": "markdown",
      "metadata": {
        "id": "view-in-github",
        "colab_type": "text"
      },
      "source": [
        "<a href=\"https://colab.research.google.com/github/datacommonsorg/api-python/blob/master/Case_Study_Prevalence_of_Obesity_in_500_US_Cities.ipynb\" target=\"_parent\"><img src=\"https://colab.research.google.com/assets/colab-badge.svg\" alt=\"Open In Colab\"/></a>"
      ]
    },
    {
      "cell_type": "markdown",
      "metadata": {
        "id": "srAnaUPPbrH6",
        "colab_type": "text"
      },
      "source": [
        "Copyright 2020 Google LLC.\n",
        "SPDX-License-Identifier: Apache-2.0\n",
        "\n",
        "**Notebook Version** - 1.0.1"
      ]
    },
    {
      "cell_type": "code",
      "metadata": {
        "id": "7Et41jikt2yA",
        "colab_type": "code",
        "colab": {}
      },
      "source": [
        "from sklearn.linear_model import LinearRegression\n",
        "from sklearn.model_selection import train_test_split\n",
        "from google.colab import drive\n",
        "\n",
        "import matplotlib.pyplot as plt\n",
        "import numpy as np\n",
        "import pandas as pd\n",
        "\n",
        "import json"
      ],
      "execution_count": 1,
      "outputs": []
    },
    {
      "cell_type": "markdown",
      "metadata": {
        "id": "yjBCrzJfqHtM",
        "colab_type": "text"
      },
      "source": [
        "# Case Study: Prevalence of Obesity in 500 US Cities\n",
        "\n",
        "Obesity is well known to correlate with health factors such as high blood pressure, but is also known to correlate with economic factors such as low-income, unemployment, etc [[1]](https://www.ncbi.nlm.nih.gov/pmc/articles/PMC3198075/)[[2]](https://www.ncbi.nlm.nih.gov/pubmed/26562758). The Center for Disease Control (CDC) provides prevalence percentages on health conditions such as [obesity](https://browser.datacommons.org/kg?dcid=dc/p/8f94jymf10dh7), [high blood pressure](https://browser.datacommons.org/kg?dcid=dc/p/lddprn26my0wh), and [high cholesterol](https://browser.datacommons.org/kg?dcid=dc/p/ybn085073e7z6) for approximately 500 major cities in the US (e.g. [San Francisco](https://browser.datacommons.org/kg?dcid=geoId/0667000), [New York](https://browser.datacommons.org/kg?dcid=geoId/3651000), and [Austin](https://browser.datacommons.org/kg?dcid=geoId/4805000)). Meanwhile, the US Bureau of Labor Statistics provides [unemployment rates](https://browser.datacommons.org/kg?dcid=dc/p/820mxx8ejlrj7) while the US Census provides [poverty rates](https://browser.datacommons.org/kg?dcid=dc/p/mrbgbmbe5lvyh) for most cities across the United States. \n",
        "\n",
        "Even though these statistics come from different datasets across different government agencies with different storage formats, Data Commons surfaces each  of these in a single, uniform knowledge graph. In fact, you can see this in the [browser](https://browser.datacommons.org/kg?dcid=dc/9xkkc71) by looking at the *provenance* column. Let's use the data in Data Commons to create a linear regression model that incorporates variables:\n",
        "\n",
        "- Prevalence of high blood pressure\n",
        "- Unemployment rate\n",
        "- Percent of population living with income below the poverty line\n",
        "\n",
        "to predict the prevalence of obesity in the 500 cities that the CDC provides data for. One thing you may note is that the US Census also provides employment statistics (you can see this by navigating to the \"employment\" and \"employmentStatus\" sections for [San Francisco](https://browser.datacommons.org/kg?dcid=geoId/0667000) and observing the different provenances). Our choice of using statistics from the Bureau of Labor Statistics is purely demonstrative, but it would be interesting to see if similar results can be reproduced using US Census employment statistics. "
      ]
    },
    {
      "cell_type": "code",
      "metadata": {
        "id": "GQrede0Bdm-k",
        "colab_type": "code",
        "colab": {}
      },
      "source": [
        "!pip install datacommons_pandas --upgrade --quiet\n",
        "\n",
        "import datacommons_pandas as dc"
      ],
      "execution_count": 2,
      "outputs": []
    },
    {
      "cell_type": "markdown",
      "metadata": {
        "id": "pNHUbzq_dnGc",
        "colab_type": "text"
      },
      "source": [
        "To get started, we'll need the cities that CDC provides data for. We can query Data Commons for Cities that are members of [CDC500_City](https://browser.datacommons.org/kg?dcid=CDC500_City). The default return limit is 100, so we'll explicitly set it to 500."
      ]
    },
    {
      "cell_type": "code",
      "metadata": {
        "id": "4CoM0LD4kZSN",
        "colab_type": "code",
        "cellView": "both",
        "colab": {
          "base_uri": "https://localhost:8080/",
          "height": 112
        },
        "outputId": "2c2694ae-7a29-422d-e0d5-77a28d853fee"
      },
      "source": [
        "city_dcids = dc.get_property_values([\"CDC500_City\"], \"member\", limit=500)[\"CDC500_City\"]\n",
        "city_dcids[:5]"
      ],
      "execution_count": 3,
      "outputs": [
        {
          "output_type": "execute_result",
          "data": {
            "text/plain": [
              "['geoId/0107000',\n",
              " 'geoId/0135896',\n",
              " 'geoId/0137000',\n",
              " 'geoId/0150000',\n",
              " 'geoId/0151000']"
            ]
          },
          "metadata": {
            "tags": []
          },
          "execution_count": 3
        }
      ]
    },
    {
      "cell_type": "markdown",
      "metadata": {
        "id": "Ccy9-czCfVTn",
        "colab_type": "text"
      },
      "source": [
        "### Querying for all Statistics\n",
        "With the list of cities, we can now initialize a `pandas.DataFrame` with possible correlate variables. If you have not already, take a look at the [docs](http://docs.datacommons.org/api/pandas/) for how to query Data Commons with [`build_multivariate_dataframe`](http://docs.datacommons.org/api/pandas/multivariate_dataframe.html). Note that all correlate variables below can be found in the [list of StatisticalVariables](http://docs.datacommons.org/statistical_variables.html)."
      ]
    },
    {
      "cell_type": "code",
      "metadata": {
        "id": "B51WFPL5TOn-",
        "colab_type": "code",
        "colab": {
          "base_uri": "https://localhost:8080/",
          "height": 262
        },
        "outputId": "ada3fd0b-5255-4d90-9edc-f410c9acd3b6"
      },
      "source": [
        "data = dc.build_multivariate_dataframe(city_dcids,\n",
        "                                       [\"Percent_Person_Obesity\", # Prevalence of obesity from CDC\n",
        "                                        \"Percent_Person_WithHighBloodPressure\", # Prevalence of high blood pressure from CDC\n",
        "                                        \"UnemploymentRate_Person\", # Unemployment rate from BLS\n",
        "                                        \"Count_Person_BelowPovertyLevelInThePast12Months\", # Persons living below the poverty line from Census\n",
        "                                        \"Count_Person\", # Total population from Census\n",
        "                                       ]\n",
        "                                      )\n",
        "# Display the first five rows.\n",
        "data.head(5)"
      ],
      "execution_count": 4,
      "outputs": [
        {
          "output_type": "execute_result",
          "data": {
            "text/html": [
              "<div>\n",
              "<style scoped>\n",
              "    .dataframe tbody tr th:only-of-type {\n",
              "        vertical-align: middle;\n",
              "    }\n",
              "\n",
              "    .dataframe tbody tr th {\n",
              "        vertical-align: top;\n",
              "    }\n",
              "\n",
              "    .dataframe thead th {\n",
              "        text-align: right;\n",
              "    }\n",
              "</style>\n",
              "<table border=\"1\" class=\"dataframe\">\n",
              "  <thead>\n",
              "    <tr style=\"text-align: right;\">\n",
              "      <th></th>\n",
              "      <th>Percent_Person_Obesity</th>\n",
              "      <th>Percent_Person_WithHighBloodPressure</th>\n",
              "      <th>UnemploymentRate_Person</th>\n",
              "      <th>Count_Person_BelowPovertyLevelInThePast12Months</th>\n",
              "      <th>Count_Person</th>\n",
              "    </tr>\n",
              "    <tr>\n",
              "      <th>place</th>\n",
              "      <th></th>\n",
              "      <th></th>\n",
              "      <th></th>\n",
              "      <th></th>\n",
              "      <th></th>\n",
              "    </tr>\n",
              "  </thead>\n",
              "  <tbody>\n",
              "    <tr>\n",
              "      <th>geoId/0107000</th>\n",
              "      <td>42.0</td>\n",
              "      <td>45.2</td>\n",
              "      <td>11.6</td>\n",
              "      <td>55737.0</td>\n",
              "      <td>212021.0</td>\n",
              "    </tr>\n",
              "    <tr>\n",
              "      <th>geoId/0135896</th>\n",
              "      <td>28.4</td>\n",
              "      <td>31.4</td>\n",
              "      <td>5.8</td>\n",
              "      <td>5652.0</td>\n",
              "      <td>84480.0</td>\n",
              "    </tr>\n",
              "    <tr>\n",
              "      <th>geoId/0137000</th>\n",
              "      <td>36.2</td>\n",
              "      <td>36.9</td>\n",
              "      <td>7.5</td>\n",
              "      <td>32890.0</td>\n",
              "      <td>193663.0</td>\n",
              "    </tr>\n",
              "    <tr>\n",
              "      <th>geoId/0150000</th>\n",
              "      <td>38.2</td>\n",
              "      <td>41.2</td>\n",
              "      <td>13.0</td>\n",
              "      <td>40613.0</td>\n",
              "      <td>191485.0</td>\n",
              "    </tr>\n",
              "    <tr>\n",
              "      <th>geoId/0151000</th>\n",
              "      <td>39.0</td>\n",
              "      <td>41.8</td>\n",
              "      <td>11.5</td>\n",
              "      <td>42474.0</td>\n",
              "      <td>200156.0</td>\n",
              "    </tr>\n",
              "  </tbody>\n",
              "</table>\n",
              "</div>"
            ],
            "text/plain": [
              "               Percent_Person_Obesity  ...  Count_Person\n",
              "place                                  ...              \n",
              "geoId/0107000                    42.0  ...      212021.0\n",
              "geoId/0135896                    28.4  ...       84480.0\n",
              "geoId/0137000                    36.2  ...      193663.0\n",
              "geoId/0150000                    38.2  ...      191485.0\n",
              "geoId/0151000                    39.0  ...      200156.0\n",
              "\n",
              "[5 rows x 5 columns]"
            ]
          },
          "metadata": {
            "tags": []
          },
          "execution_count": 4
        }
      ]
    },
    {
      "cell_type": "markdown",
      "metadata": {
        "id": "z191ImVmrdds",
        "colab_type": "text"
      },
      "source": [
        "### Cleaning the Data\n",
        "\n",
        "Great! We have all the statistics we'll need for this case study queried from three different data sources without having to write additional code to perform the joins. However, we'll still need to perform some data cleanup tasks to prepare the data for analysis:\n",
        "\n",
        "1. Remove any missing rows with missing values.\n",
        "1. Normalize poverty into a rate.\n",
        "1. Remove unnecessary columns.\n",
        "\n",
        "Let's generate the final dataframe."
      ]
    },
    {
      "cell_type": "code",
      "metadata": {
        "id": "Wv6oIY765sf-",
        "colab_type": "code",
        "colab": {
          "base_uri": "https://localhost:8080/",
          "height": 451
        },
        "outputId": "dd20d7b1-936d-4dd2-bec1-a384c5ca52cb"
      },
      "source": [
        "# Drop rows with missing values\n",
        "cleaned = data.dropna()\n",
        "\n",
        "# Compute the poverty rate\n",
        "cleaned['PovertyRate'] = cleaned['Count_Person_BelowPovertyLevelInThePast12Months'] / cleaned['Count_Person'] * 100\n",
        "\n",
        "# Remove the unused columns\n",
        "cleaned.drop(['Count_Person', 'Count_Person_BelowPovertyLevelInThePast12Months'], inplace=True, axis=1)\n",
        "\n",
        "# Display the table\n",
        "cleaned.head(5)"
      ],
      "execution_count": 5,
      "outputs": [
        {
          "output_type": "stream",
          "text": [
            "/usr/local/lib/python3.6/dist-packages/ipykernel_launcher.py:5: SettingWithCopyWarning: \n",
            "A value is trying to be set on a copy of a slice from a DataFrame.\n",
            "Try using .loc[row_indexer,col_indexer] = value instead\n",
            "\n",
            "See the caveats in the documentation: https://pandas.pydata.org/pandas-docs/stable/user_guide/indexing.html#returning-a-view-versus-a-copy\n",
            "  \"\"\"\n",
            "/usr/local/lib/python3.6/dist-packages/pandas/core/frame.py:3997: SettingWithCopyWarning: \n",
            "A value is trying to be set on a copy of a slice from a DataFrame\n",
            "\n",
            "See the caveats in the documentation: https://pandas.pydata.org/pandas-docs/stable/user_guide/indexing.html#returning-a-view-versus-a-copy\n",
            "  errors=errors,\n"
          ],
          "name": "stderr"
        },
        {
          "output_type": "execute_result",
          "data": {
            "text/html": [
              "<div>\n",
              "<style scoped>\n",
              "    .dataframe tbody tr th:only-of-type {\n",
              "        vertical-align: middle;\n",
              "    }\n",
              "\n",
              "    .dataframe tbody tr th {\n",
              "        vertical-align: top;\n",
              "    }\n",
              "\n",
              "    .dataframe thead th {\n",
              "        text-align: right;\n",
              "    }\n",
              "</style>\n",
              "<table border=\"1\" class=\"dataframe\">\n",
              "  <thead>\n",
              "    <tr style=\"text-align: right;\">\n",
              "      <th></th>\n",
              "      <th>Percent_Person_Obesity</th>\n",
              "      <th>Percent_Person_WithHighBloodPressure</th>\n",
              "      <th>UnemploymentRate_Person</th>\n",
              "      <th>PovertyRate</th>\n",
              "    </tr>\n",
              "    <tr>\n",
              "      <th>place</th>\n",
              "      <th></th>\n",
              "      <th></th>\n",
              "      <th></th>\n",
              "      <th></th>\n",
              "    </tr>\n",
              "  </thead>\n",
              "  <tbody>\n",
              "    <tr>\n",
              "      <th>geoId/0107000</th>\n",
              "      <td>42.0</td>\n",
              "      <td>45.2</td>\n",
              "      <td>11.6</td>\n",
              "      <td>26.288434</td>\n",
              "    </tr>\n",
              "    <tr>\n",
              "      <th>geoId/0135896</th>\n",
              "      <td>28.4</td>\n",
              "      <td>31.4</td>\n",
              "      <td>5.8</td>\n",
              "      <td>6.690341</td>\n",
              "    </tr>\n",
              "    <tr>\n",
              "      <th>geoId/0137000</th>\n",
              "      <td>36.2</td>\n",
              "      <td>36.9</td>\n",
              "      <td>7.5</td>\n",
              "      <td>16.983110</td>\n",
              "    </tr>\n",
              "    <tr>\n",
              "      <th>geoId/0150000</th>\n",
              "      <td>38.2</td>\n",
              "      <td>41.2</td>\n",
              "      <td>13.0</td>\n",
              "      <td>21.209494</td>\n",
              "    </tr>\n",
              "    <tr>\n",
              "      <th>geoId/0151000</th>\n",
              "      <td>39.0</td>\n",
              "      <td>41.8</td>\n",
              "      <td>11.5</td>\n",
              "      <td>21.220448</td>\n",
              "    </tr>\n",
              "  </tbody>\n",
              "</table>\n",
              "</div>"
            ],
            "text/plain": [
              "               Percent_Person_Obesity  ...  PovertyRate\n",
              "place                                  ...             \n",
              "geoId/0107000                    42.0  ...    26.288434\n",
              "geoId/0135896                    28.4  ...     6.690341\n",
              "geoId/0137000                    36.2  ...    16.983110\n",
              "geoId/0150000                    38.2  ...    21.209494\n",
              "geoId/0151000                    39.0  ...    21.220448\n",
              "\n",
              "[5 rows x 4 columns]"
            ]
          },
          "metadata": {
            "tags": []
          },
          "execution_count": 5
        }
      ]
    },
    {
      "cell_type": "markdown",
      "metadata": {
        "id": "-ZGRFaJKdHIO",
        "colab_type": "text"
      },
      "source": [
        "### Exploring the Data\n",
        "\n",
        "Now's a good time to explore how each variable (high blood pressure prevalence, unemployment rate, and poverty rate) correlate with obesity prevalence. As stated before, previous research has shown that each of these variables tend to correlate positively with the prevalence of Obesity. Does our data show this?"
      ]
    },
    {
      "cell_type": "code",
      "metadata": {
        "id": "Y_g3fDt-dasl",
        "colab_type": "code",
        "colab": {
          "base_uri": "https://localhost:8080/",
          "height": 315
        },
        "outputId": "37a7c403-e59c-4dd5-98fb-35ac6b6b03c3"
      },
      "source": [
        "# Plot Bphigh vs. Obesity\n",
        "plt.figure(figsize=(6,4))\n",
        "cleaned.plot.scatter(x='Percent_Person_WithHighBloodPressure', y='Percent_Person_Obesity')\n",
        "plt.title('High Blood Pressure Prevalence v. Obesity Prevalence')\n",
        "\n",
        "# Show the plot\n",
        "plt.show()"
      ],
      "execution_count": 6,
      "outputs": [
        {
          "output_type": "display_data",
          "data": {
            "text/plain": [
              "<Figure size 432x288 with 0 Axes>"
            ]
          },
          "metadata": {
            "tags": []
          }
        },
        {
          "output_type": "display_data",
          "data": {
            "image/png": "[encoded data removed]",
            "text/plain": [
              "<Figure size 432x288 with 1 Axes>"
            ]
          },
          "metadata": {
            "tags": [],
            "needs_background": "light"
          }
        }
      ]
    },
    {
      "cell_type": "code",
      "metadata": {
        "id": "Rf2yQkHBcuEk",
        "colab_type": "code",
        "colab": {
          "base_uri": "https://localhost:8080/",
          "height": 315
        },
        "outputId": "ed9ee58e-f30e-454b-ffb8-9473fb13cdc8"
      },
      "source": [
        "# Plot Unemployment with Obesity\n",
        "plt.figure(figsize=(6,4))\n",
        "cleaned.plot.scatter(x='UnemploymentRate_Person', y='Percent_Person_Obesity')\n",
        "plt.title('Unemployment Rate v. Obesity Prevalence')\n",
        "\n",
        "# Show the plot\n",
        "plt.show()"
      ],
      "execution_count": 7,
      "outputs": [
        {
          "output_type": "display_data",
          "data": {
            "text/plain": [
              "<Figure size 432x288 with 0 Axes>"
            ]
          },
          "metadata": {
            "tags": []
          }
        },
        {
          "output_type": "display_data",
          "data": {
            "image/png": "[encoded data removed]",
            "text/plain": [
              "<Figure size 432x288 with 1 Axes>"
            ]
          },
          "metadata": {
            "tags": [],
            "needs_background": "light"
          }
        }
      ]
    },
    {
      "cell_type": "code",
      "metadata": {
        "id": "A6bczTzEcuOS",
        "colab_type": "code",
        "colab": {
          "base_uri": "https://localhost:8080/",
          "height": 314
        },
        "outputId": "5a5e12f4-c488-40c4-9a23-c38f7ebdfca0"
      },
      "source": [
        "# Plot PovertyRate with Obesity\n",
        "plt.figure(figsize=(6,4))\n",
        "cleaned.plot.scatter(x='PovertyRate', y='Percent_Person_Obesity')\n",
        "plt.title('Poverty Rate v. Obesity Prevalence')\n",
        "\n",
        "# Show the plot\n",
        "plt.show()"
      ],
      "execution_count": 8,
      "outputs": [
        {
          "output_type": "display_data",
          "data": {
            "text/plain": [
              "<Figure size 432x288 with 0 Axes>"
            ]
          },
          "metadata": {
            "tags": []
          }
        },
        {
          "output_type": "display_data",
          "data": {
            "image/png": "[encoded data removed]",
            "text/plain": [
              "<Figure size 432x288 with 1 Axes>"
            ]
          },
          "metadata": {
            "tags": [],
            "needs_background": "light"
          }
        }
      ]
    },
    {
      "cell_type": "markdown",
      "metadata": {
        "id": "wNABZa_idvzD",
        "colab_type": "text"
      },
      "source": [
        "Looks like each of variable does correlate positively with obesity prevalence."
      ]
    },
    {
      "cell_type": "markdown",
      "metadata": {
        "id": "Bp52dWJNfYSa",
        "colab_type": "text"
      },
      "source": [
        "### Modeling the Data\n",
        "\n",
        "We'll be predicting the prevalence of obesity with the following linear model.\n",
        "\n",
        "<br>\n",
        "$$f_\\theta(x) = \\theta_0 + \\theta_1 (\\text{high blood pressure}) + \\theta_2 (\\text{unemployment}) + \\theta_3(\\text{poverty rate})$$\n",
        "<br>\n",
        "\n",
        "Let's start by creating our training and test sets. We'll then train a linear regression model using Scikit learn's [LinearRegression](https://scikit-learn.org/stable/modules/generated/sklearn.linear_model.LinearRegression.html)"
      ]
    },
    {
      "cell_type": "code",
      "metadata": {
        "id": "CppTvF2tYz4U",
        "colab_type": "code",
        "colab": {
          "base_uri": "https://localhost:8080/",
          "height": 55
        },
        "outputId": "1e6c3bed-7aa7-4de3-df9c-666d8b9065b7"
      },
      "source": [
        "X = cleaned[['Percent_Person_WithHighBloodPressure', 'UnemploymentRate_Person', 'PovertyRate']]\n",
        "Y = cleaned[['Percent_Person_Obesity']]\n",
        "x_train, x_test, y_train, y_test = train_test_split(X, Y, test_size=0.2)\n",
        "\n",
        "model = LinearRegression(fit_intercept=True)\n",
        "model.fit(x_train, y_train)\n",
        "\n",
        "print('Model Intercept: {}'.format(model.intercept_))\n",
        "print('Model Coefficients: {}'.format(model.coef_))"
      ],
      "execution_count": 9,
      "outputs": [
        {
          "output_type": "stream",
          "text": [
            "Model Intercept: [1.22374975]\n",
            "Model Coefficients: [[ 0.89181367 -0.18273296  0.26194405]]\n"
          ],
          "name": "stdout"
        }
      ]
    },
    {
      "cell_type": "markdown",
      "metadata": {
        "id": "dBmThySxaXKp",
        "colab_type": "text"
      },
      "source": [
        "### Analyzing the Model\n",
        "\n",
        "We now have a trained model, but how well does it perform?"
      ]
    },
    {
      "cell_type": "code",
      "metadata": {
        "id": "UvQhIin3awbU",
        "colab_type": "code",
        "colab": {
          "base_uri": "https://localhost:8080/",
          "height": 55
        },
        "outputId": "23b2c021-d193-4264-cd30-e197eea845dc"
      },
      "source": [
        "def mse(y_pred, y_true):\n",
        "    \"\"\" Compute the mean squared error of 'y_pred' and 'y_true'. \"\"\"\n",
        "    return float(np.sum((y_pred - y_true) ** 2)) / len(y_pred)\n",
        "\n",
        "train_pred = model.predict(x_train)\n",
        "test_pred = model.predict(x_test)\n",
        "\n",
        "print('Training Error: {}'.format(mse(train_pred, y_train)))\n",
        "print('Test Error: {}'.format(mse(test_pred, y_test)))"
      ],
      "execution_count": 10,
      "outputs": [
        {
          "output_type": "stream",
          "text": [
            "Training Error: 8.797589893072455\n",
            "Test Error: 8.633974278766338\n"
          ],
          "name": "stdout"
        }
      ]
    },
    {
      "cell_type": "markdown",
      "metadata": {
        "id": "VsGLliuzawPE",
        "colab_type": "text"
      },
      "source": [
        "We can also display a plot of the residuals"
      ]
    },
    {
      "cell_type": "code",
      "metadata": {
        "id": "MLwX-CH3bDKg",
        "colab_type": "code",
        "colab": {
          "base_uri": "https://localhost:8080/",
          "height": 295
        },
        "outputId": "d5ee8232-c67e-4193-cf7c-eedbee3196b2"
      },
      "source": [
        "y_res = (test_pred - y_test) / y_test\n",
        "y_res.reset_index(inplace=True)\n",
        "\n",
        "# Plot the results\n",
        "plt.title(\"Residual Proportions Plot\")\n",
        "plt.xlabel(\"Test Data Row Index\")\n",
        "plt.ylabel(\"resid. / actual obesity prevalence\")\n",
        "plt.scatter(y_res.index, y_res['Percent_Person_Obesity'])\n",
        "plt.show()"
      ],
      "execution_count": 11,
      "outputs": [
        {
          "output_type": "display_data",
          "data": {
            "image/png": "[encoded data removed]",
            "text/plain": [
              "<Figure size 432x288 with 1 Axes>"
            ]
          },
          "metadata": {
            "tags": [],
            "needs_background": "light"
          }
        }
      ]
    },
    {
      "cell_type": "markdown",
      "metadata": {
        "id": "8VE-arrmbLNL",
        "colab_type": "text"
      },
      "source": [
        "How well does your model perform? We were able to achieve an MSE for the test set of approximately 10% points from the observed obesity prevalence. Our model was also able to fit the data with the residuals clustered between -20% and 30%, which for a simple model considering only three explanatory variables isn't so bad."
      ]
    },
    {
      "cell_type": "markdown",
      "metadata": {
        "id": "qapl33x8fy_A",
        "colab_type": "text"
      },
      "source": [
        "## Conclusion\n",
        "\n",
        "Congratulations! Rather than spending a couple of hours just searching for and joining datasets from the CDC, Bureau of Labor Statistics, and US Census Bureau, you've spent one lab session querying Data Commons for the same data and, on top of that, used it to build a basic model to predict the prevalence of obesity in approximately 500 cities using intuition from a long line of research. Hopefully Data Commons has made the time-to-analysis much shorter!\n",
        "\n",
        "The model you've created only uses three explanatory variables, so even though it's not the most accurate at predicting obesity prevalence, it's possible that it can be improved by adding more variables. Obesity is also known to correlate with factors such as [high cholesterol](https://browser.datacommons.org/kg?dcid=dc/p/ybn085073e7z6) and [diabetes](https://browser.datacommons.org/kg?dcid=dc%2Fp%2Fkk03bc7vvm3s3), but with the accessibility of Data Commons, we can even consider asking if obesity correlates with less obvious factors such as\n",
        "\n",
        "- How many [universities recognized](https://browser.datacommons.org/kg?dcid=ipedsId/148487) by [College Scorecard](https://collegescorecard.ed.gov/data/) dataset are contained in a given city\n",
        "- The [incidence rate of arsony](https://browser.datacommons.org/kg?dcid=dc/p/m3m7t6w2snwgh)\n",
        "- The average snowfall in inches\n",
        "\n",
        "Does adding these variables into your model improve accuracy? Can you think of other variables that correlate with obesity? "
      ]
    }
  ]
}
