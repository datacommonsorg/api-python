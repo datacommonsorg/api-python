{
  "nbformat": 4,
  "nbformat_minor": 0,
  "metadata": {
    "colab": {
      "name": "Case Study: Prevalence of Obesity in 500 US Cities",
      "provenance": [],
      "collapsed_sections": [],
      "include_colab_link": true
    },
    "kernelspec": {
      "name": "python3",
      "display_name": "Python 3"
    }
  },
  "cells": [
    {
      "cell_type": "markdown",
      "metadata": {
        "id": "view-in-github",
        "colab_type": "text"
      },
      "source": [
        "<a href=\"https://colab.research.google.com/github/tjann/api-python/blob/udpatenb/Case_Study_Prevalence_of_Obesity_in_500_US_Cities.ipynb\" target=\"_parent\"><img src=\"https://colab.research.google.com/assets/colab-badge.svg\" alt=\"Open In Colab\"/></a>"
      ]
    },
    {
      "cell_type": "markdown",
      "metadata": {
        "id": "srAnaUPPbrH6",
        "colab_type": "text"
      },
      "source": [
        "Copyright 2020 Google LLC.\n",
        "SPDX-License-Identifier: Apache-2.0\n",
        "\n",
        "**Notebook Version** - 1.0.1"
      ]
    },
    {
      "cell_type": "code",
      "metadata": {
        "id": "7Et41jikt2yA",
        "colab_type": "code",
        "colab": {}
      },
      "source": [
        "from sklearn.linear_model import LinearRegression\n",
        "from sklearn.model_selection import train_test_split\n",
        "from google.colab import drive\n",
        "\n",
        "import matplotlib.pyplot as plt\n",
        "import numpy as np\n",
        "import pandas as pd\n",
        "\n",
        "import json"
      ],
      "execution_count": 1,
      "outputs": []
    },
    {
      "cell_type": "markdown",
      "metadata": {
        "id": "yjBCrzJfqHtM",
        "colab_type": "text"
      },
      "source": [
        "# Case Study: Prevalence of Obesity in 500 US Cities\n",
        "\n",
        "Obesity is well known to correlate with health factors such as high blood pressure, but is also known to correlate with economic factors such as low-income, unemployment, etc [[1]](https://www.ncbi.nlm.nih.gov/pmc/articles/PMC3198075/)[[2]](https://www.ncbi.nlm.nih.gov/pubmed/26562758). The Center for Disease Control (CDC) provides prevalence percentages on health conditions such as [obesity](https://browser.datacommons.org/kg?dcid=dc/p/8f94jymf10dh7), [high blood pressure](https://browser.datacommons.org/kg?dcid=dc/p/lddprn26my0wh), and [high cholesterol](https://browser.datacommons.org/kg?dcid=dc/p/ybn085073e7z6) for approximately 500 major cities in the US (e.g. [San Francisco](https://browser.datacommons.org/kg?dcid=geoId/0667000), [New York](https://browser.datacommons.org/kg?dcid=geoId/3651000), and [Austin](https://browser.datacommons.org/kg?dcid=geoId/4805000)). Meanwhile, the US Bureau of Labor Statistics provides [unemployment rates](https://browser.datacommons.org/kg?dcid=dc/p/820mxx8ejlrj7) while the US Census provides [poverty rates](https://browser.datacommons.org/kg?dcid=dc/p/mrbgbmbe5lvyh) for most cities across the United States. \n",
        "\n",
        "Even though these statistics come from different datasets across different government agencies with different storage formats, Data Commons surfaces each  of these in a single, uniform knowledge graph. In fact, you can see this in the [browser](https://browser.datacommons.org/kg?dcid=dc/9xkkc71) by looking at the *provenance* column. Let's use the data in Data Commons to create a linear regression model that incorporates variables:\n",
        "\n",
        "- Prevalence of high blood pressure\n",
        "- Unemployment rate\n",
        "- Percent of population living with income below the poverty line\n",
        "\n",
        "to predict the prevalence of obesity in the 500 cities that the CDC provides data for. One thing you may note is that the US Census also provides employment statistics (you can see this by navigating to the \"employment\" and \"employmentStatus\" sections for [San Francisco](https://browser.datacommons.org/kg?dcid=geoId/0667000) and observing the different provenances). Our choice of using statistics from the Bureau of Labor Statistics is purely demonstrative, but it would be interesting to see if similar results can be reproduced using US Census employment statistics. "
      ]
    },
    {
      "cell_type": "code",
      "metadata": {
        "id": "GQrede0Bdm-k",
        "colab_type": "code",
        "colab": {}
      },
      "source": [
        "!pip install datacommons --upgrade --quiet\n",
        "\n",
        "import datacommons as dc"
      ],
      "execution_count": 2,
      "outputs": []
    },
    {
      "cell_type": "markdown",
      "metadata": {
        "id": "pNHUbzq_dnGc",
        "colab_type": "text"
      },
      "source": [
        "To get started, we'll need the cities that CDC provides data for. We can query Data Commons for Cities that are members of [CDC500_City](https://browser.datacommons.org/kg?dcid=CDC500_City). The default return limit is 100, so we'll explicitly set it to 500."
      ]
    },
    {
      "cell_type": "code",
      "metadata": {
        "id": "4CoM0LD4kZSN",
        "colab_type": "code",
        "cellView": "both",
        "colab": {}
      },
      "source": [
        "city_dcids = dc.get_property_values([\"CDC500_City\"], \"member\", limit=500)"
      ],
      "execution_count": 3,
      "outputs": []
    },
    {
      "cell_type": "markdown",
      "metadata": {
        "id": "2JmxK2KrnCcQ",
        "colab_type": "text"
      },
      "source": [
        "We then initialize a `pandas.DataFrame` with the dcids in this list."
      ]
    },
    {
      "cell_type": "code",
      "metadata": {
        "id": "IM4ajcwoNtXr",
        "colab_type": "code",
        "colab": {
          "base_uri": "https://localhost:8080/",
          "height": 210
        },
        "outputId": "d02424fe-8a0a-407f-c279-b7dc82d66050"
      },
      "source": [
        "# Create the Pandas DataFrame \n",
        "data = pd.DataFrame(city_dcids)\n",
        "# Simplify the column name\n",
        "data.columns = ['City']\n",
        "# Get the name of each city\n",
        "# If a city has multiple common names (e.g. \"New York\" and \"New York City\"), use the first one\n",
        "data['CityName'] = data['City'].map(dc.get_property_values(data['City'], 'name')).str[0]\n",
        "data.dropna(inplace=True)\n",
        "\n",
        "# Show the top five rows\n",
        "data.head(5)"
      ],
      "execution_count": 4,
      "outputs": [
        {
          "output_type": "execute_result",
          "data": {
            "text/html": [
              "<div>\n",
              "<style scoped>\n",
              "    .dataframe tbody tr th:only-of-type {\n",
              "        vertical-align: middle;\n",
              "    }\n",
              "\n",
              "    .dataframe tbody tr th {\n",
              "        vertical-align: top;\n",
              "    }\n",
              "\n",
              "    .dataframe thead th {\n",
              "        text-align: right;\n",
              "    }\n",
              "</style>\n",
              "<table border=\"1\" class=\"dataframe\">\n",
              "  <thead>\n",
              "    <tr style=\"text-align: right;\">\n",
              "      <th></th>\n",
              "      <th>City</th>\n",
              "      <th>CityName</th>\n",
              "    </tr>\n",
              "  </thead>\n",
              "  <tbody>\n",
              "    <tr>\n",
              "      <th>0</th>\n",
              "      <td>geoId/0107000</td>\n",
              "      <td>Birmingham</td>\n",
              "    </tr>\n",
              "    <tr>\n",
              "      <th>1</th>\n",
              "      <td>geoId/0135896</td>\n",
              "      <td>Hoover</td>\n",
              "    </tr>\n",
              "    <tr>\n",
              "      <th>2</th>\n",
              "      <td>geoId/0137000</td>\n",
              "      <td>Huntsville</td>\n",
              "    </tr>\n",
              "    <tr>\n",
              "      <th>3</th>\n",
              "      <td>geoId/0150000</td>\n",
              "      <td>Mobile</td>\n",
              "    </tr>\n",
              "    <tr>\n",
              "      <th>4</th>\n",
              "      <td>geoId/0151000</td>\n",
              "      <td>Montgomery</td>\n",
              "    </tr>\n",
              "  </tbody>\n",
              "</table>\n",
              "</div>"
            ],
            "text/plain": [
              "            City    CityName\n",
              "0  geoId/0107000  Birmingham\n",
              "1  geoId/0135896      Hoover\n",
              "2  geoId/0137000  Huntsville\n",
              "3  geoId/0150000      Mobile\n",
              "4  geoId/0151000  Montgomery"
            ]
          },
          "metadata": {
            "tags": []
          },
          "execution_count": 4
        }
      ]
    },
    {
      "cell_type": "markdown",
      "metadata": {
        "id": "Ccy9-czCfVTn",
        "colab_type": "text"
      },
      "source": [
        "### Querying for all Statistics\n",
        "\n",
        "Let's start by querying for all our statistics. If you have not already, take a look at the [docs](http://docs.datacommons.org/api/python/) for how to query Data Commons with [`get_stats`](http://docs.datacommons.org/api/python/stats.html). Note that all StatisticalVariables below can be found [here](http://docs.datacommons.org/statistical_variables.html)."
      ]
    },
    {
      "cell_type": "code",
      "metadata": {
        "id": "B51WFPL5TOn-",
        "colab_type": "code",
        "colab": {
          "base_uri": "https://localhost:8080/",
          "height": 210
        },
        "outputId": "6327b159-b4dd-4a23-e16e-57c609d3b750"
      },
      "source": [
        "# Get just the value from 2015 (or 2015 year-end)\n",
        "get_value_year = lambda row: row.get('data').get('2015')\n",
        "get_value_month = lambda row: row.get('data').get('2015-12')\n",
        "\n",
        "# Prevalence of obesity\n",
        "data['Obesity'] = data['City'].map(dc.get_stats(\n",
        "    data['City'],\n",
        "    \"Percent_Person_Obesity\",\n",
        "    ['2015']\n",
        ")).dropna().apply(get_value_year)\n",
        "\n",
        "# Prevalence of high blood pressure\n",
        "data['HighBp'] = data['City'].map(dc.get_stats(\n",
        "    data['City'],\n",
        "    \"Percent_Person_WithHighBloodPressure\",\n",
        "    ['2015']\n",
        ")).dropna().apply(get_value_year)\n",
        "\n",
        "# Total persons count from CensusACS5YrSurvey\n",
        "data['PersonCount'] = data['City'].map(dc.get_stats(\n",
        "    data['City'],\n",
        "    \"Count_Person\",\n",
        "    ['2015'],\n",
        "    measurement_method='CensusACS5yrSurvey'\n",
        ")).dropna().apply(get_value_year)\n",
        "\n",
        "# Unemployment rate (monthly data)\n",
        "data['Unemployment'] = data['City'].map(dc.get_stats(\n",
        "    data['City'],\n",
        "    \"UnemploymentRate_Person\",\n",
        "    ['2015-12']\n",
        ")).dropna().apply(get_value_month)\n",
        "\n",
        "# Count of persons living below the poverty line\n",
        "data['PovertyCount'] = data['City'].map(dc.get_stats(\n",
        "    data['City'],\n",
        "    \"Count_Person_BelowPovertyLevelInThePast12Months\",\n",
        "    ['2015']\n",
        ")).dropna().apply(get_value_year)\n",
        "\n",
        "# Display the first five rows.\n",
        "data.head(5)"
      ],
      "execution_count": 5,
      "outputs": [
        {
          "output_type": "execute_result",
          "data": {
            "text/html": [
              "<div>\n",
              "<style scoped>\n",
              "    .dataframe tbody tr th:only-of-type {\n",
              "        vertical-align: middle;\n",
              "    }\n",
              "\n",
              "    .dataframe tbody tr th {\n",
              "        vertical-align: top;\n",
              "    }\n",
              "\n",
              "    .dataframe thead th {\n",
              "        text-align: right;\n",
              "    }\n",
              "</style>\n",
              "<table border=\"1\" class=\"dataframe\">\n",
              "  <thead>\n",
              "    <tr style=\"text-align: right;\">\n",
              "      <th></th>\n",
              "      <th>City</th>\n",
              "      <th>CityName</th>\n",
              "      <th>Obesity</th>\n",
              "      <th>HighBp</th>\n",
              "      <th>PersonCount</th>\n",
              "      <th>Unemployment</th>\n",
              "      <th>PovertyCount</th>\n",
              "    </tr>\n",
              "  </thead>\n",
              "  <tbody>\n",
              "    <tr>\n",
              "      <th>0</th>\n",
              "      <td>geoId/0107000</td>\n",
              "      <td>Birmingham</td>\n",
              "      <td>42.7</td>\n",
              "      <td>44.1</td>\n",
              "      <td>212211.0</td>\n",
              "      <td>6.6</td>\n",
              "      <td>63503.0</td>\n",
              "    </tr>\n",
              "    <tr>\n",
              "      <th>1</th>\n",
              "      <td>geoId/0135896</td>\n",
              "      <td>Hoover</td>\n",
              "      <td>28.3</td>\n",
              "      <td>29.7</td>\n",
              "      <td>83547.0</td>\n",
              "      <td>3.9</td>\n",
              "      <td>5003.0</td>\n",
              "    </tr>\n",
              "    <tr>\n",
              "      <th>2</th>\n",
              "      <td>geoId/0137000</td>\n",
              "      <td>Huntsville</td>\n",
              "      <td>34.4</td>\n",
              "      <td>36.3</td>\n",
              "      <td>185594.0</td>\n",
              "      <td>5.2</td>\n",
              "      <td>32412.0</td>\n",
              "    </tr>\n",
              "    <tr>\n",
              "      <th>3</th>\n",
              "      <td>geoId/0150000</td>\n",
              "      <td>Mobile</td>\n",
              "      <td>35.3</td>\n",
              "      <td>41.0</td>\n",
              "      <td>194669.0</td>\n",
              "      <td>6.8</td>\n",
              "      <td>43468.0</td>\n",
              "    </tr>\n",
              "    <tr>\n",
              "      <th>4</th>\n",
              "      <td>geoId/0151000</td>\n",
              "      <td>Montgomery</td>\n",
              "      <td>39.4</td>\n",
              "      <td>40.8</td>\n",
              "      <td>202967.0</td>\n",
              "      <td>5.8</td>\n",
              "      <td>47371.0</td>\n",
              "    </tr>\n",
              "  </tbody>\n",
              "</table>\n",
              "</div>"
            ],
            "text/plain": [
              "            City    CityName  Obesity  ...  PersonCount  Unemployment  PovertyCount\n",
              "0  geoId/0107000  Birmingham     42.7  ...     212211.0           6.6       63503.0\n",
              "1  geoId/0135896      Hoover     28.3  ...      83547.0           3.9        5003.0\n",
              "2  geoId/0137000  Huntsville     34.4  ...     185594.0           5.2       32412.0\n",
              "3  geoId/0150000      Mobile     35.3  ...     194669.0           6.8       43468.0\n",
              "4  geoId/0151000  Montgomery     39.4  ...     202967.0           5.8       47371.0\n",
              "\n",
              "[5 rows x 7 columns]"
            ]
          },
          "metadata": {
            "tags": []
          },
          "execution_count": 5
        }
      ]
    },
    {
      "cell_type": "markdown",
      "metadata": {
        "id": "z191ImVmrdds",
        "colab_type": "text"
      },
      "source": [
        "### Cleaning the Data\n",
        "\n",
        "Great! We have all the statistics we'll need for this case study queried from three different data sources without having to write additional code to perform the joins. However, we'll still need to perform some data cleanup tasks to prepare the data for analysis:\n",
        "\n",
        "1. Remove any missing rows with missing values.\n",
        "1. Normalize poverty into a rate.\n",
        "1. Remove unnecessary columns.\n",
        "\n",
        "Let's generate the final dataframe."
      ]
    },
    {
      "cell_type": "code",
      "metadata": {
        "id": "Wv6oIY765sf-",
        "colab_type": "code",
        "colab": {
          "base_uri": "https://localhost:8080/",
          "height": 210
        },
        "outputId": "9654eace-8db0-45b3-ae4d-933b8f157256"
      },
      "source": [
        "# Drop rows with missing values\n",
        "cleaned = data.dropna().reset_index(drop=True)\n",
        "\n",
        "# Compute the poverty rate\n",
        "cleaned['PovertyRate'] = cleaned['PovertyCount'] / cleaned['PersonCount'] * 100\n",
        "\n",
        "# Remove the unused columns\n",
        "cleaned.drop(['City', 'PersonCount', 'PovertyCount'], inplace=True, axis=1)\n",
        "\n",
        "# Display the table\n",
        "cleaned.head(5)"
      ],
      "execution_count": 6,
      "outputs": [
        {
          "output_type": "execute_result",
          "data": {
            "text/html": [
              "<div>\n",
              "<style scoped>\n",
              "    .dataframe tbody tr th:only-of-type {\n",
              "        vertical-align: middle;\n",
              "    }\n",
              "\n",
              "    .dataframe tbody tr th {\n",
              "        vertical-align: top;\n",
              "    }\n",
              "\n",
              "    .dataframe thead th {\n",
              "        text-align: right;\n",
              "    }\n",
              "</style>\n",
              "<table border=\"1\" class=\"dataframe\">\n",
              "  <thead>\n",
              "    <tr style=\"text-align: right;\">\n",
              "      <th></th>\n",
              "      <th>CityName</th>\n",
              "      <th>Obesity</th>\n",
              "      <th>HighBp</th>\n",
              "      <th>Unemployment</th>\n",
              "      <th>PovertyRate</th>\n",
              "    </tr>\n",
              "  </thead>\n",
              "  <tbody>\n",
              "    <tr>\n",
              "      <th>0</th>\n",
              "      <td>Birmingham</td>\n",
              "      <td>42.7</td>\n",
              "      <td>44.1</td>\n",
              "      <td>6.6</td>\n",
              "      <td>29.924462</td>\n",
              "    </tr>\n",
              "    <tr>\n",
              "      <th>1</th>\n",
              "      <td>Hoover</td>\n",
              "      <td>28.3</td>\n",
              "      <td>29.7</td>\n",
              "      <td>3.9</td>\n",
              "      <td>5.988246</td>\n",
              "    </tr>\n",
              "    <tr>\n",
              "      <th>2</th>\n",
              "      <td>Huntsville</td>\n",
              "      <td>34.4</td>\n",
              "      <td>36.3</td>\n",
              "      <td>5.2</td>\n",
              "      <td>17.463927</td>\n",
              "    </tr>\n",
              "    <tr>\n",
              "      <th>3</th>\n",
              "      <td>Mobile</td>\n",
              "      <td>35.3</td>\n",
              "      <td>41.0</td>\n",
              "      <td>6.8</td>\n",
              "      <td>22.329184</td>\n",
              "    </tr>\n",
              "    <tr>\n",
              "      <th>4</th>\n",
              "      <td>Montgomery</td>\n",
              "      <td>39.4</td>\n",
              "      <td>40.8</td>\n",
              "      <td>5.8</td>\n",
              "      <td>23.339262</td>\n",
              "    </tr>\n",
              "  </tbody>\n",
              "</table>\n",
              "</div>"
            ],
            "text/plain": [
              "     CityName  Obesity  HighBp  Unemployment  PovertyRate\n",
              "0  Birmingham     42.7    44.1           6.6    29.924462\n",
              "1      Hoover     28.3    29.7           3.9     5.988246\n",
              "2  Huntsville     34.4    36.3           5.2    17.463927\n",
              "3      Mobile     35.3    41.0           6.8    22.329184\n",
              "4  Montgomery     39.4    40.8           5.8    23.339262"
            ]
          },
          "metadata": {
            "tags": []
          },
          "execution_count": 6
        }
      ]
    },
    {
      "cell_type": "markdown",
      "metadata": {
        "id": "-ZGRFaJKdHIO",
        "colab_type": "text"
      },
      "source": [
        "### Exploring the Data\n",
        "\n",
        "Now's a good time to explore how each variable (high blood pressure prevalence, unemployment rate, and poverty rate) correlate with obesity prevalence. As stated before, previous research has shown that each of these variables tend to correlate positively with the prevalence of Obesity. Does our data show this?"
      ]
    },
    {
      "cell_type": "code",
      "metadata": {
        "id": "Y_g3fDt-dasl",
        "colab_type": "code",
        "colab": {
          "base_uri": "https://localhost:8080/",
          "height": 314
        },
        "outputId": "49683c0c-0487-4e68-d94a-316573146a08"
      },
      "source": [
        "# Plot Bphigh vs. Obesity\n",
        "plt.figure(figsize=(6,4))\n",
        "cleaned.plot.scatter(x='HighBp', y='Obesity')\n",
        "plt.title('High Blood Pressure Prevalence v. Obesity Prevalence')\n",
        "\n",
        "# Show the plot\n",
        "plt.show()"
      ],
      "execution_count": 7,
      "outputs": [
        {
          "output_type": "display_data",
          "data": {
            "text/plain": [
              "<Figure size 432x288 with 0 Axes>"
            ]
          },
          "metadata": {
            "tags": []
          }
        },
        {
          "output_type": "display_data",
          "data": {
            "image/png": "[encoded data removed]",
            "text/plain": [
              "<Figure size 432x288 with 1 Axes>"
            ]
          },
          "metadata": {
            "tags": [],
            "needs_background": "light"
          }
        }
      ]
    },
    {
      "cell_type": "code",
      "metadata": {
        "id": "Rf2yQkHBcuEk",
        "colab_type": "code",
        "colab": {
          "base_uri": "https://localhost:8080/",
          "height": 314
        },
        "outputId": "28307b57-daaa-4af6-f842-a722d25a3d99"
      },
      "source": [
        "# Plot Unemployment with Obesity\n",
        "plt.figure(figsize=(6,4))\n",
        "cleaned.plot.scatter(x='Unemployment', y='Obesity')\n",
        "plt.title('Unemployment Rate v. Obesity Prevalence')\n",
        "\n",
        "# Show the plot\n",
        "plt.show()"
      ],
      "execution_count": 8,
      "outputs": [
        {
          "output_type": "display_data",
          "data": {
            "text/plain": [
              "<Figure size 432x288 with 0 Axes>"
            ]
          },
          "metadata": {
            "tags": []
          }
        },
        {
          "output_type": "display_data",
          "data": {
            "image/png": "[encoded data removed]",
            "text/plain": [
              "<Figure size 432x288 with 1 Axes>"
            ]
          },
          "metadata": {
            "tags": [],
            "needs_background": "light"
          }
        }
      ]
    },
    {
      "cell_type": "code",
      "metadata": {
        "id": "A6bczTzEcuOS",
        "colab_type": "code",
        "colab": {
          "base_uri": "https://localhost:8080/",
          "height": 314
        },
        "outputId": "0931a22b-e5c0-43f5-d985-489419de602b"
      },
      "source": [
        "# Plot PovertyRate with Obesity\n",
        "plt.figure(figsize=(6,4))\n",
        "cleaned.plot.scatter(x='PovertyRate', y='Obesity')\n",
        "plt.title('Poverty Rate v. Obesity Prevalence')\n",
        "\n",
        "# Show the plot\n",
        "plt.show()"
      ],
      "execution_count": 9,
      "outputs": [
        {
          "output_type": "display_data",
          "data": {
            "text/plain": [
              "<Figure size 432x288 with 0 Axes>"
            ]
          },
          "metadata": {
            "tags": []
          }
        },
        {
          "output_type": "display_data",
          "data": {
            "image/png": "[encoded data removed]",
            "text/plain": [
              "<Figure size 432x288 with 1 Axes>"
            ]
          },
          "metadata": {
            "tags": [],
            "needs_background": "light"
          }
        }
      ]
    },
    {
      "cell_type": "markdown",
      "metadata": {
        "id": "wNABZa_idvzD",
        "colab_type": "text"
      },
      "source": [
        "Looks like each of variable does correlate positively with obesity prevalence."
      ]
    },
    {
      "cell_type": "markdown",
      "metadata": {
        "id": "Bp52dWJNfYSa",
        "colab_type": "text"
      },
      "source": [
        "### Modeling the Data\n",
        "\n",
        "We'll be predicting the prevalence of obesity with the following linear model.\n",
        "\n",
        "<br>\n",
        "$$f_\\theta(x) = \\theta_0 + \\theta_1 (\\text{high blood pressure}) + \\theta_2 (\\text{unemployment}) + \\theta_3(\\text{poverty rate})$$\n",
        "<br>\n",
        "\n",
        "Let's start by creating our training and test sets. We'll then train a linear regression model using Scikit learn's [LinearRegression](https://scikit-learn.org/stable/modules/generated/sklearn.linear_model.LinearRegression.html)"
      ]
    },
    {
      "cell_type": "code",
      "metadata": {
        "id": "CppTvF2tYz4U",
        "colab_type": "code",
        "colab": {
          "base_uri": "https://localhost:8080/",
          "height": 55
        },
        "outputId": "69a7f7cc-071d-487e-8102-de4f8a306782"
      },
      "source": [
        "X = cleaned[['HighBp', 'Unemployment', 'PovertyRate']]\n",
        "Y = cleaned[['Obesity']]\n",
        "x_train, x_test, y_train, y_test = train_test_split(X, Y, test_size=0.2)\n",
        "\n",
        "model = LinearRegression(fit_intercept=True)\n",
        "model.fit(x_train, y_train)\n",
        "\n",
        "print('Model Intercept: {}'.format(model.intercept_))\n",
        "print('Model Coefficients: {}'.format(model.coef_))"
      ],
      "execution_count": 10,
      "outputs": [
        {
          "output_type": "stream",
          "text": [
            "Model Intercept: [-1.6457338]\n",
            "Model Coefficients: [[ 0.94324417 -0.09959618  0.16723319]]\n"
          ],
          "name": "stdout"
        }
      ]
    },
    {
      "cell_type": "markdown",
      "metadata": {
        "id": "dBmThySxaXKp",
        "colab_type": "text"
      },
      "source": [
        "### Analyzing the Model\n",
        "\n",
        "We now have a trained model, but how well does it perform?"
      ]
    },
    {
      "cell_type": "code",
      "metadata": {
        "id": "UvQhIin3awbU",
        "colab_type": "code",
        "colab": {
          "base_uri": "https://localhost:8080/",
          "height": 55
        },
        "outputId": "d68c28b0-eeac-4378-e383-7dbdf73aab5a"
      },
      "source": [
        "def mse(y_pred, y_true):\n",
        "    \"\"\" Compute the mean squared error of 'y_pred' and 'y_true'. \"\"\"\n",
        "    return float(np.sum((y_pred - y_true) ** 2)) / len(y_pred)\n",
        "\n",
        "train_pred = model.predict(x_train)\n",
        "test_pred = model.predict(x_test)\n",
        "\n",
        "print('Training Error: {}'.format(mse(train_pred, y_train)))\n",
        "print('Test Error: {}'.format(mse(test_pred, y_test)))"
      ],
      "execution_count": 11,
      "outputs": [
        {
          "output_type": "stream",
          "text": [
            "Training Error: 8.273633502795935\n",
            "Test Error: 7.873530949332282\n"
          ],
          "name": "stdout"
        }
      ]
    },
    {
      "cell_type": "markdown",
      "metadata": {
        "id": "VsGLliuzawPE",
        "colab_type": "text"
      },
      "source": [
        "We can also display a plot of the residuals"
      ]
    },
    {
      "cell_type": "code",
      "metadata": {
        "id": "MLwX-CH3bDKg",
        "colab_type": "code",
        "colab": {
          "base_uri": "https://localhost:8080/",
          "height": 295
        },
        "outputId": "f1555ebf-304c-4a53-eea5-8a9f54e6358a"
      },
      "source": [
        "y_res = (test_pred - y_test) / y_test\n",
        "\n",
        "# Plot the results\n",
        "plt.title(\"Residual Proportions Plot\")\n",
        "plt.xlabel(\"Test Data Row Index\")\n",
        "plt.ylabel(\"resid. / actual obesity prevalence\")\n",
        "plt.scatter(y_res.index, y_res['Obesity'])\n",
        "plt.show()"
      ],
      "execution_count": 12,
      "outputs": [
        {
          "output_type": "display_data",
          "data": {
            "image/png": "[encoded data removed]",
            "text/plain": [
              "<Figure size 432x288 with 1 Axes>"
            ]
          },
          "metadata": {
            "tags": [],
            "needs_background": "light"
          }
        }
      ]
    },
    {
      "cell_type": "markdown",
      "metadata": {
        "id": "8VE-arrmbLNL",
        "colab_type": "text"
      },
      "source": [
        "How well does your model perform? We were able to achieve an MSE for the test set of approximately 10% points from the observed obesity prevalence. Our model was also able to fit the data with the residuals clustered between -20% and 30%, which for a simple model considering only three explanatory variables isn't so bad."
      ]
    },
    {
      "cell_type": "markdown",
      "metadata": {
        "id": "qapl33x8fy_A",
        "colab_type": "text"
      },
      "source": [
        "## Conclusion\n",
        "\n",
        "Congratulations! Rather than spending a couple of hours just searching for and joining datasets from the CDC, Bureau of Labor Statistics, and US Census Bureau, you've spent one lab session querying Data Commons for the same data and, on top of that, used it to build a basic model to predict the prevalence of obesity in approximately 500 cities using intuition from a long line of research. Hopefully Data Commons has made the time-to-analysis much shorter!\n",
        "\n",
        "The model you've created only uses three explanatory variables, so even though it's not the most accurate at predicting obesity prevalence, it's possible that it can be improved by adding more variables. Obesity is also known to correlate with factors such as [high cholesterol](https://browser.datacommons.org/kg?dcid=dc/p/ybn085073e7z6) and [diabetes](https://browser.datacommons.org/kg?dcid=dc%2Fp%2Fkk03bc7vvm3s3), but with the accessibility of Data Commons, we can even consider asking if obesity correlates with less obvious factors such as\n",
        "\n",
        "- How many [universities recognized](https://browser.datacommons.org/kg?dcid=ipedsId/148487) by [College Scorecard](https://collegescorecard.ed.gov/data/) dataset are contained in a given city\n",
        "- The [incidence rate of arsony](https://browser.datacommons.org/kg?dcid=dc/p/m3m7t6w2snwgh)\n",
        "- The average snowfall in inches\n",
        "\n",
        "Does adding these variables into your model improve accuracy? Can you think of other variables that correlate with obesity? "
      ]
    }
  ]
}