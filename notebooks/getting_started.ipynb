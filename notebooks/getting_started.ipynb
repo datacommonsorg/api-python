{
  "nbformat": 4,
  "nbformat_minor": 0,
  "metadata": {
    "colab": {
      "name": "Getting Started with the Python Client API",
      "version": "0.3.2",
      "provenance": [],
      "collapsed_sections": []
    },
    "kernelspec": {
      "name": "python3",
      "display_name": "Python 3"
    }
  },
  "cells": [
    {
      "cell_type": "markdown",
      "metadata": {
        "id": "6GgKJdAsbgfh",
        "colab_type": "text"
      },
      "source": [
        "Copyright 2019 Google LLC.\n",
        "SPDX-License-Identifier: Apache-2.0\n",
        "\n",
        "**Notebook Version** - 1.0.0"
      ]
    },
    {
      "cell_type": "markdown",
      "metadata": {
        "id": "Ei8n4aHhaGfi",
        "colab_type": "text"
      },
      "source": [
        "**FEEDBACK REQUEST** thanks for checking out this notebook demoing our experimental API. After using this, we would greatly appreciate your feedback. You can send us feedback by:\n",
        "\n",
        "- Sending an issue request to the [datacommons issues page](https://github.com/google/datacommons/issues). When creating an issue please mark the issue using the **api feedback** label!\n",
        "\n",
        "**DISCLAIMER** this notebook uses an experimental version of the Data Commons Python Client API. The semantics and availability of this API may be subject to change without prior notice! "
      ]
    },
    {
      "cell_type": "markdown",
      "metadata": {
        "id": "Tzo0igZgo4Y1",
        "colab_type": "text"
      },
      "source": [
        "# Getting Started with the Python Client API\n",
        "\n",
        "This tutorial introduces the Data Commons open knowledge graph and discusses how to programmtically access its data through the Python Client API. We will use the task of plotting employment data provided by the Bureau of Labor Statistics as an example to demonstrate various functionalities supported by the Python Client API.\n",
        "\n",
        "Before proceeding, we will need to install the Python Client API package."
      ]
    },
    {
      "cell_type": "code",
      "metadata": {
        "id": "c1NiQ1mNqtLG",
        "colab_type": "code",
        "outputId": "23efaedb-276c-4d85-df0b-95e7714f7816",
        "colab": {
          "base_uri": "https://localhost:8080/",
          "height": 34
        }
      },
      "source": [
        "# Install datacommons\n",
        "!pip install --upgrade --quiet git+https://github.com/datacommonsorg/api-python.git@stable-1.x"
      ],
      "execution_count": 9,
      "outputs": [
        {
          "output_type": "stream",
          "text": [
            "  Building wheel for datacommons (setup.py) ... \u001b[?25l\u001b[?25hdone\n"
          ],
          "name": "stdout"
        }
      ]
    },
    {
      "cell_type": "markdown",
      "metadata": {
        "id": "wXuTFCkiqtS8",
        "colab_type": "text"
      },
      "source": [
        "## What is Data Commons?\n",
        "\n",
        "Data Commons is an open knowledge graph of structured data. It contains statements about real world objects such as\n",
        "\n",
        "* [Santa Clara County](https://browser.datacommons.org/kg?dcid=geoId/06085) is contained in the [State of California](https://browser.datacommons.org/kg?dcid=geoId/06)\n",
        "* The latitude of [Berkeley, CA](https://browser.datacommons.org/kg?dcid=geoId/0606000) is 37.8703\n",
        "* The [population of all persons in Maryland ](https://browser.datacommons.org/kg?dcid=dc/o/6w1c9qk7hxjch)has a total count of 5,996,080.\n",
        "\n",
        "In the graph, [*entities*](https://en.wikipedia.org/wiki/Entity) like [Santa Clara County](https://browser.datacommons.org/kg?dcid=geoId/06085) are represented by nodes. Every node is uniquely identified by its **`dcid`** (Data Commons Identifier) and has a **`type`** corresponding to what the node represents. For example, [California](https://browser.datacommons.org/kg?dcid=geoId/06) is identified by the dcid `geoId/06` and is of type [State](https://browser.datacommons.org/kg?dcid=State). *Relations* between entities are represented by directed edges between these nodes. For example, the statement \"Santa Clara County is contained in the State of California\" is represented in the graph as two nodes: \"Santa Clara County\" and \"California\" with an edge labeled \"[containedInPlace](https://schema.org/containedInPlace)\" pointing from Santa Clara to California. This can be visualized by the following diagram.\n",
        "\n",
        "![A portion of the Data Commons graph](https://storage.googleapis.com/notebook-resources/image-1.png)\n",
        "\n",
        "Here, we call the edge label, \"containedInPlace\", the *property label* (or *property* for short) associated with the above relation. We may also refer to \"California\" as the *property value* associated with Santa Clara County along property \"containedInPlace\". \n",
        "\n",
        "Notice that the direction is important! One can say that \"Santa Clara County\" is containedInPlace of \"California\", but \"California\" is certainly not contained in \"Santa Clara County\"! In general, how Data Commons models data is similar to the [Schema.org](https://schema.org) Data Model as  Data Commons leverages schema.org to provide a common set of types and properties. For a broader discussion on how data is modeled in Data Commons, one can refer to documentation on the [Schema.org data model](https://schema.org/docs/datamodel.html).\n",
        "\n",
        "### The Data Commons Browser\n",
        "\n",
        "Throughout this tutorial, we will be using the [Data Commons browser](https://browser.datacommons.org). The browser provides a human readable way of navigating nodes within the knowledge graph. This is particularly useful for discovering what parameters to pass into the Python Client API in order to correctly query for nodes in the graph. "
      ]
    },
    {
      "cell_type": "markdown",
      "metadata": {
        "id": "q5loKewQUZ6o",
        "colab_type": "text"
      },
      "source": [
        "## The Python Client API\n",
        "\n",
        "The Python Client API provides functions for users to programmatically access nodes in the Data Commons open knowledge graph. In this tutorial, we will be demonstrating how to use the API access nodes in the Data Commons graph and store their information in a [Pandas](https://pandas.pydata.org) Data Frame. For a discussion on how to use the API generally, please refer to the [API Documentation](https://datacommons.readthedocs.io/en/dev2/).\n",
        "\n",
        "Let's begin by importing the Python Client and other helpful libraries.\n",
        "\n"
      ]
    },
    {
      "cell_type": "code",
      "metadata": {
        "id": "q03NX9WDfMiI",
        "colab_type": "code",
        "colab": {}
      },
      "source": [
        "import datacommons as dc\n",
        "import pandas as pd\n",
        "import matplotlib.pyplot as plt\n",
        "\n",
        "from google.colab import drive\n",
        "\n",
        "import json\n",
        "\n",
        "# Pandas display options\n",
        "pd.options.display.max_rows = 10\n",
        "pd.options.display.max_colwidth = 30"
      ],
      "execution_count": 0,
      "outputs": []
    },
    {
      "cell_type": "markdown",
      "metadata": {
        "id": "ijxoBhFHjo3Z",
        "colab_type": "text"
      },
      "source": [
        "We will also need to provide an API key to the library. Please refer to [Getting Started](https://datacommons.readthedocs.io/en/latest/started.html) for more details about how to get an API key. Once you have a key, we can provided it to the library by calling [**`set_api_key`**](https://datacommons.readthedocs.io/en/latest/_autosummary/datacommons_utils/datacommons.utils.set_api_key.html#datacommons.utils.set_api_key). "
      ]
    },
    {
      "cell_type": "code",
      "metadata": {
        "id": "dQDNQeiakQ0M",
        "colab_type": "code",
        "colab": {
          "base_uri": "https://localhost:8080/",
          "height": 34
        },
        "outputId": "2ad9b8d6-fdbc-4266-9421-6e6734d453cb"
      },
      "source": [
        "# Mount the Drive\n",
        "drive.mount('/content/drive', force_remount=True)\n",
        "\n",
        "# REPLACE THIS with the path to your key if copying this notebook.\n",
        "key_path = '/content/drive/My Drive/DataCommons/secret.json'\n",
        "\n",
        "# Read the key in and provide it to the Data Commons API\n",
        "with open(key_path, 'r') as f:\n",
        "  secrets = json.load(f)\n",
        "  dc.set_api_key(secrets['dc_api_key'])"
      ],
      "execution_count": 11,
      "outputs": [
        {
          "output_type": "stream",
          "text": [
            "Mounted at /content/drive\n"
          ],
          "name": "stdout"
        }
      ]
    },
    {
      "cell_type": "markdown",
      "metadata": {
        "id": "kquXuMOPkRpO",
        "colab_type": "text"
      },
      "source": [
        "To keep the API key a secret, we store it in a JSON file in Google Drive. The file is pointed to by `key_path` and takes the form\n",
        "\n",
        "```json\n",
        "{\n",
        "  \"dc_api_key\": \"YOUR-API-KEY\"\n",
        "}\n",
        "```\n",
        "\n",
        "The above cell reads the JSON file, and loads the key into the library. If you want to make a copy of this notebook, be sure to create your own `secret.json` file and provide its path to `key_path`."
      ]
    },
    {
      "cell_type": "markdown",
      "metadata": {
        "id": "nmDgEPZZQcEo",
        "colab_type": "text"
      },
      "source": [
        "## Using the API To Plot Unemployment Data\n",
        "\n",
        "The [Bureau of Labor Statistics](https://www.bls.gov) provides a monthly count for number of individuals who are employed at the State, County, and City level. This data is surfaced in the Data Commons; for example, one can find employment statistics associated with Santa Clara County [here](https://browser.datacommons.org/kg?dcid=dc/p/y6xm2mny8mck1&db=). Our task for this tutorial will be to extract employment data associated with counties in California from Data Commons using the Python Client API and view it in a Pandas DataFrame. We will focus on how functions such as\n",
        "\n",
        "- `get_property_values`\n",
        "- `get_places_in`\n",
        "- `get_populations`\n",
        "- `get_observations`\n",
        "\n",
        "operate when using a Pandas DataFrame, as well as how statistical observations are modeled within the Data Commons graph. To begin, we will initialize a Pandas Data Frame with the dcid associated with California: [geoId/06](https://browser.datacommons.org/kg?dcid=geoId/06).\n",
        "\n",
        "\n",
        "\n"
      ]
    },
    {
      "cell_type": "code",
      "metadata": {
        "id": "GQBTHg3TTo3i",
        "colab_type": "code",
        "colab": {
          "base_uri": "https://localhost:8080/",
          "height": 51
        },
        "outputId": "d1b860c4-05f1-4441-eaa2-e4e0882be646"
      },
      "source": [
        "# Initialize the Data Frame\n",
        "data = pd.DataFrame({'state': ['geoId/06']})\n",
        "\n",
        "# View the frame\n",
        "print(data)"
      ],
      "execution_count": 12,
      "outputs": [
        {
          "output_type": "stream",
          "text": [
            "      state\n",
            "0  geoId/06\n"
          ],
          "name": "stdout"
        }
      ]
    },
    {
      "cell_type": "markdown",
      "metadata": {
        "id": "46BngQexT8ev",
        "colab_type": "text"
      },
      "source": [
        "### Accessing Properties of a Node\n",
        "\n",
        "For all properties, one can use **`get_property_value`** to get the associated values. We would like to know that the dcid we have in our data frame belongs to California by getting the name of the node identified by \"geoId/06\". `get_property_value` accepts the following parameters.\n",
        "\n",
        "- **`dcids`** - A list or Pandas Series of dcids to get property values for.\n",
        "- **`prop`** - The property to get property values for.\n",
        "- **`out`**`[=True]` - An optional flag that indicates the property is oriented away from the given nodes if true.\n",
        "- **`value_type`**`[=None]` - An optional parameter which filters property values by the given type. \n",
        "- **`limit`**`[=100]` - An optional parameter which limits the total number of property values returned *aggregated over all given nodes*.\n",
        "\n",
        "When the dcids are given as a [Pandas Series](https://pandas.pydata.org/pandas-docs/stable/reference/api/pandas.Series.html), the returned list of property values is a Pandas Series where the i-th entry corresponds to property values associated with the i-th given dcid. Some properties, like [containedInPlace](https://browser.datacommons.org/kg?dcid=containedInPlace), may have many property values. Consequently, the cells of the returned series will always contain a list of property values. Let's take a look:"
      ]
    },
    {
      "cell_type": "code",
      "metadata": {
        "id": "-Bl3XbsrZbXe",
        "colab_type": "code",
        "colab": {
          "base_uri": "https://localhost:8080/",
          "height": 51
        },
        "outputId": "448cabf4-5523-4f5f-bb97-5a82cb571cec"
      },
      "source": [
        "# Call get_property_values. Because the return value is a Pandas Series, we can \n",
        "# assign it directly to a column in our frame.\n",
        "data['state_name'] = dc.get_property_values(data['state'], 'name')\n",
        "\n",
        "# Display the frame\n",
        "print(data)"
      ],
      "execution_count": 13,
      "outputs": [
        {
          "output_type": "stream",
          "text": [
            "      state    state_name\n",
            "0  geoId/06  [California]\n"
          ],
          "name": "stdout"
        }
      ]
    },
    {
      "cell_type": "markdown",
      "metadata": {
        "id": "ouHuygjHZbnY",
        "colab_type": "text"
      },
      "source": [
        "For each list in the returned column, we may need to expand each element of the list into its own row. If one uses Pandas version >= 0.25, then this can easily be achieved by calling [`series.explode`](https://pandas.pydata.org/pandas-docs/stable/reference/api/pandas.Series.explode.html). Otherwise, we can call a convenience function `flatten_frame`."
      ]
    },
    {
      "cell_type": "code",
      "metadata": {
        "id": "gDvgV9SYaAmt",
        "colab_type": "code",
        "colab": {
          "base_uri": "https://localhost:8080/",
          "height": 51
        },
        "outputId": "11eeed62-8bba-4615-9e57-b33a1f41c513"
      },
      "source": [
        "# Call flatten_frame, but don't store the results.\n",
        "print(dc.flatten_frame(data))"
      ],
      "execution_count": 14,
      "outputs": [
        {
          "output_type": "stream",
          "text": [
            "      state  state_name\n",
            "0  geoId/06  California\n"
          ],
          "name": "stdout"
        }
      ]
    },
    {
      "cell_type": "markdown",
      "metadata": {
        "id": "aDAy-6hmbreK",
        "colab_type": "text"
      },
      "source": [
        "We won't store the results of calling this for now in order to show case a feature in the next section!"
      ]
    },
    {
      "cell_type": "markdown",
      "metadata": {
        "id": "OT4U672tabwg",
        "colab_type": "text"
      },
      "source": [
        "### Working with Places in Data Commons\n",
        "\n",
        "We would now like to get all Counties contained in California. This can be achieved by calling `get_property_value`, but because a large fraction of use cases will involve accessing geographical locations, the API also implements a function, **`get_places_in`**, to get places contained within a list of given places. `get_places_in` accepts the following parameters.\n",
        "\n",
        "- **`dcids`** - A list or Pandas Series of dcids to get contained in places.\n",
        "- **`place_type`** - The type of places contained in the given dcids to query for.\n",
        "\n",
        "When dcids is specified as a Pandas Series, the return value is a Series with the same format as that returned by `get_property_values`. Let's call `get_places_in` to get all counties within California."
      ]
    },
    {
      "cell_type": "code",
      "metadata": {
        "id": "xCUFCurnb4iO",
        "colab_type": "code",
        "colab": {
          "base_uri": "https://localhost:8080/",
          "height": 51
        },
        "outputId": "cdfcdcc3-ab3c-4efe-a8f9-88d23b0a9c2a"
      },
      "source": [
        "# Call get_places_in to get all counties in California. Here the type we use is \n",
        "# \"County\". See https://browser.datacommons.org/kg?dcid=County for examples of \n",
        "# other nodes in the graph with type \"County\".\n",
        "data['county'] = dc.get_places_in(data['state'], 'County')\n",
        "\n",
        "# Display the frame\n",
        "print(data)"
      ],
      "execution_count": 15,
      "outputs": [
        {
          "output_type": "stream",
          "text": [
            "      state    state_name                         county\n",
            "0  geoId/06  [California]  [geoId/06001, geoId/06003,...\n"
          ],
          "name": "stdout"
        }
      ]
    },
    {
      "cell_type": "markdown",
      "metadata": {
        "id": "vbiMQFoBcf1w",
        "colab_type": "text"
      },
      "source": [
        "Notice that both `state_name` and `county` columns are columns with list. `flatten_frame` will automaticall flatten all columns that have lists in their cells. Optionally, one can provide the argument `cols` to specify which columns to flatten."
      ]
    },
    {
      "cell_type": "code",
      "metadata": {
        "id": "Sw8vJNPjctRO",
        "colab_type": "code",
        "colab": {
          "base_uri": "https://localhost:8080/",
          "height": 255
        },
        "outputId": "6c1d8250-e098-43f0-c0e6-a0d82a1a8f80"
      },
      "source": [
        "# Call flatten frame\n",
        "data = dc.flatten_frame(data)\n",
        "\n",
        "# Display the frame\n",
        "print(data)"
      ],
      "execution_count": 16,
      "outputs": [
        {
          "output_type": "stream",
          "text": [
            "       state  state_name       county\n",
            "0   geoId/06  California  geoId/06001\n",
            "1   geoId/06  California  geoId/06003\n",
            "2   geoId/06  California  geoId/06005\n",
            "3   geoId/06  California  geoId/06007\n",
            "4   geoId/06  California  geoId/06009\n",
            "..       ...         ...          ...\n",
            "53  geoId/06  California  geoId/06107\n",
            "54  geoId/06  California  geoId/06109\n",
            "55  geoId/06  California  geoId/06111\n",
            "56  geoId/06  California  geoId/06113\n",
            "57  geoId/06  California  geoId/06115\n",
            "\n",
            "[58 rows x 3 columns]\n"
          ],
          "name": "stdout"
        }
      ]
    },
    {
      "cell_type": "markdown",
      "metadata": {
        "id": "4FWliWoAc7vU",
        "colab_type": "text"
      },
      "source": [
        "Let's now get the names for each column like above. Notice we need to unroll the `county` column, as the input to `get_property_values` is a Series of dcids and not a Series of lists of dcids."
      ]
    },
    {
      "cell_type": "code",
      "metadata": {
        "id": "XsiItkWIdHS0",
        "colab_type": "code",
        "colab": {
          "base_uri": "https://localhost:8080/",
          "height": 419
        },
        "outputId": "9ee4b34f-af22-4041-99bb-623d04d169d2"
      },
      "source": [
        "# Get the names of all counties in California.\n",
        "data['county_name'] = dc.get_property_values(data['county'], 'name')\n",
        "data = dc.flatten_frame(data)\n",
        "\n",
        "# Display the frame\n",
        "data"
      ],
      "execution_count": 17,
      "outputs": [
        {
          "output_type": "execute_result",
          "data": {
            "text/html": [
              "<div>\n",
              "<style scoped>\n",
              "    .dataframe tbody tr th:only-of-type {\n",
              "        vertical-align: middle;\n",
              "    }\n",
              "\n",
              "    .dataframe tbody tr th {\n",
              "        vertical-align: top;\n",
              "    }\n",
              "\n",
              "    .dataframe thead th {\n",
              "        text-align: right;\n",
              "    }\n",
              "</style>\n",
              "<table border=\"1\" class=\"dataframe\">\n",
              "  <thead>\n",
              "    <tr style=\"text-align: right;\">\n",
              "      <th></th>\n",
              "      <th>state</th>\n",
              "      <th>state_name</th>\n",
              "      <th>county</th>\n",
              "      <th>county_name</th>\n",
              "    </tr>\n",
              "  </thead>\n",
              "  <tbody>\n",
              "    <tr>\n",
              "      <th>0</th>\n",
              "      <td>geoId/06</td>\n",
              "      <td>California</td>\n",
              "      <td>geoId/06001</td>\n",
              "      <td>Alameda County</td>\n",
              "    </tr>\n",
              "    <tr>\n",
              "      <th>1</th>\n",
              "      <td>geoId/06</td>\n",
              "      <td>California</td>\n",
              "      <td>geoId/06003</td>\n",
              "      <td>Alpine County</td>\n",
              "    </tr>\n",
              "    <tr>\n",
              "      <th>2</th>\n",
              "      <td>geoId/06</td>\n",
              "      <td>California</td>\n",
              "      <td>geoId/06005</td>\n",
              "      <td>Amador County</td>\n",
              "    </tr>\n",
              "    <tr>\n",
              "      <th>3</th>\n",
              "      <td>geoId/06</td>\n",
              "      <td>California</td>\n",
              "      <td>geoId/06007</td>\n",
              "      <td>Butte County</td>\n",
              "    </tr>\n",
              "    <tr>\n",
              "      <th>4</th>\n",
              "      <td>geoId/06</td>\n",
              "      <td>California</td>\n",
              "      <td>geoId/06009</td>\n",
              "      <td>Calaveras County</td>\n",
              "    </tr>\n",
              "    <tr>\n",
              "      <th>...</th>\n",
              "      <td>...</td>\n",
              "      <td>...</td>\n",
              "      <td>...</td>\n",
              "      <td>...</td>\n",
              "    </tr>\n",
              "    <tr>\n",
              "      <th>53</th>\n",
              "      <td>geoId/06</td>\n",
              "      <td>California</td>\n",
              "      <td>geoId/06107</td>\n",
              "      <td>Tulare County</td>\n",
              "    </tr>\n",
              "    <tr>\n",
              "      <th>54</th>\n",
              "      <td>geoId/06</td>\n",
              "      <td>California</td>\n",
              "      <td>geoId/06109</td>\n",
              "      <td>Tuolumne County</td>\n",
              "    </tr>\n",
              "    <tr>\n",
              "      <th>55</th>\n",
              "      <td>geoId/06</td>\n",
              "      <td>California</td>\n",
              "      <td>geoId/06111</td>\n",
              "      <td>Ventura County</td>\n",
              "    </tr>\n",
              "    <tr>\n",
              "      <th>56</th>\n",
              "      <td>geoId/06</td>\n",
              "      <td>California</td>\n",
              "      <td>geoId/06113</td>\n",
              "      <td>Yolo County</td>\n",
              "    </tr>\n",
              "    <tr>\n",
              "      <th>57</th>\n",
              "      <td>geoId/06</td>\n",
              "      <td>California</td>\n",
              "      <td>geoId/06115</td>\n",
              "      <td>Yuba County</td>\n",
              "    </tr>\n",
              "  </tbody>\n",
              "</table>\n",
              "<p>58 rows × 4 columns</p>\n",
              "</div>"
            ],
            "text/plain": [
              "       state  state_name       county       county_name\n",
              "0   geoId/06  California  geoId/06001    Alameda County\n",
              "1   geoId/06  California  geoId/06003     Alpine County\n",
              "2   geoId/06  California  geoId/06005     Amador County\n",
              "3   geoId/06  California  geoId/06007      Butte County\n",
              "4   geoId/06  California  geoId/06009  Calaveras County\n",
              "..       ...         ...          ...               ...\n",
              "53  geoId/06  California  geoId/06107     Tulare County\n",
              "54  geoId/06  California  geoId/06109   Tuolumne County\n",
              "55  geoId/06  California  geoId/06111    Ventura County\n",
              "56  geoId/06  California  geoId/06113       Yolo County\n",
              "57  geoId/06  California  geoId/06115       Yuba County\n",
              "\n",
              "[58 rows x 4 columns]"
            ]
          },
          "metadata": {
            "tags": []
          },
          "execution_count": 17
        }
      ]
    },
    {
      "cell_type": "code",
      "metadata": {
        "id": "zKXwC0yKZIKk",
        "colab_type": "code",
        "colab": {
          "base_uri": "https://localhost:8080/",
          "height": 1000
        },
        "outputId": "254d4b4e-a6be-45d3-bde8-2b928c7e6de5"
      },
      "source": [
        "dc.get_places_in(['geoId/06'], 'County')"
      ],
      "execution_count": 18,
      "outputs": [
        {
          "output_type": "execute_result",
          "data": {
            "text/plain": [
              "{'geoId/06': ['geoId/06001',\n",
              "  'geoId/06003',\n",
              "  'geoId/06005',\n",
              "  'geoId/06007',\n",
              "  'geoId/06009',\n",
              "  'geoId/06011',\n",
              "  'geoId/06013',\n",
              "  'geoId/06015',\n",
              "  'geoId/06017',\n",
              "  'geoId/06019',\n",
              "  'geoId/06021',\n",
              "  'geoId/06023',\n",
              "  'geoId/06025',\n",
              "  'geoId/06027',\n",
              "  'geoId/06029',\n",
              "  'geoId/06031',\n",
              "  'geoId/06033',\n",
              "  'geoId/06035',\n",
              "  'geoId/06037',\n",
              "  'geoId/06039',\n",
              "  'geoId/06041',\n",
              "  'geoId/06043',\n",
              "  'geoId/06045',\n",
              "  'geoId/06047',\n",
              "  'geoId/06049',\n",
              "  'geoId/06051',\n",
              "  'geoId/06053',\n",
              "  'geoId/06055',\n",
              "  'geoId/06057',\n",
              "  'geoId/06059',\n",
              "  'geoId/06061',\n",
              "  'geoId/06063',\n",
              "  'geoId/06065',\n",
              "  'geoId/06067',\n",
              "  'geoId/06069',\n",
              "  'geoId/06071',\n",
              "  'geoId/06073',\n",
              "  'geoId/06075',\n",
              "  'geoId/06077',\n",
              "  'geoId/06079',\n",
              "  'geoId/06081',\n",
              "  'geoId/06083',\n",
              "  'geoId/06085',\n",
              "  'geoId/06087',\n",
              "  'geoId/06089',\n",
              "  'geoId/06091',\n",
              "  'geoId/06093',\n",
              "  'geoId/06095',\n",
              "  'geoId/06097',\n",
              "  'geoId/06099',\n",
              "  'geoId/06101',\n",
              "  'geoId/06103',\n",
              "  'geoId/06105',\n",
              "  'geoId/06107',\n",
              "  'geoId/06109',\n",
              "  'geoId/06111',\n",
              "  'geoId/06113',\n",
              "  'geoId/06115']}"
            ]
          },
          "metadata": {
            "tags": []
          },
          "execution_count": 18
        }
      ]
    },
    {
      "cell_type": "markdown",
      "metadata": {
        "id": "s5MED9Mndb93",
        "colab_type": "text"
      },
      "source": [
        "### Working with Statistical Observations\n",
        "\n",
        "Finally, we are ready to query for Employment statistics in Data Commons. Before proceeding, we discuss briefly about how Data Commons models statistics. \n",
        "\n",
        "Statistical observations can be separated into two types of entities: the *statistical population* that the observation is describing, and the *observation* itself. A statistic such as\n",
        "\n",
        "> The number of employed individuals living in Santa Clara in January 2018 was 1,015,129\n",
        "\n",
        "can thus be represented by two entities: one capturing the population of *all persons who are unemployed* and another capturing the observation 1,015,129 made in January 2018. Data Commons represents these two entity types as `StatisticalPopulation` and `Observation`. Let's now focus on each separate one."
      ]
    },
    {
      "cell_type": "markdown",
      "metadata": {
        "id": "QM8k7O4qfhdC",
        "colab_type": "text"
      },
      "source": [
        "#### StatisticalPopulations\n",
        "\n",
        "Consider the [node's browser page](https://browser.datacommons.org/kg?dcid=dc/p/y6xm2mny8mck1&db=) representing the `StatisticalPopulation` of all employed persons living in Santa Clara County. \n",
        "\n",
        "![The population of employed individuals in Santa Clara County](https://storage.googleapis.com/notebook-resources/image-2.png)\n",
        "\n",
        "At the top of the browser page, we are presented a few properties of this node to consider:\n",
        "\n",
        "- The **`typeOf`** this node is `StatisticalPopulation` as expected.\n",
        "- The **`populationType`** is `Person` telling us that this is a statistical population describing persons.\n",
        "- The **`location`** of this node is [Santa Clara County](https://browser.datacommons.org/kg?dcid=geoId/06085) telling us that the persons in this statistical population live in Santa Clara County.\n",
        "- The **`dcid`** property tells us the dcid of this node\n",
        "- The **`localCuratorLevelId`** tells us information about how this node was uploaded to the graph. For the purposes of this tutorial, we can ignore this field.\n",
        "\n",
        "There are two other properties defined: `numConstraints` and `employment`. These two properties help us describe entities contained in this statistical population. Properties used to describe the entities captured by a StatisticalPopulation are called *constraining properties*. In the example above, `employment=BLS_Employed` is a constraining property that tells us the Statistical Population captures employed persons. `numConstraints` denotes how many constraining properties there are, and in the example above, `numConstraints=1` tells us that `employment` is the only constraining property.\n",
        "\n",
        "To query for `StatisticalPopulation`s using the Data Commons Python Client API, we call **`get_populations`**. The function accepts the following parameters.\n",
        "\n",
        "- **`dcids`** - A list or Pandas Series of dcids denoting the locations of populations to query for.\n",
        "- **`population_type`** - The `populationType` of the `StatisticalPopulation`\n",
        "- **`constraining_properties`**`[={}]` - An optional map from constraining property to the value that the `StatisticalPopulation` should be constrained by.\n",
        "\n",
        "When a Pandas Series is provided to `dcids`, the return value is a Series with each cell populated by a single dcid and not a list. This is because the combination of `dcids`, `population_type`, and optionally `constraining_properties` always map to a unique statistical population `dcid` if it exists.\n",
        "\n",
        "Let's call `get_populations` to get the populations of all employed individuals living in counties specified by the `county` column of our DataFrame."
      ]
    },
    {
      "cell_type": "code",
      "metadata": {
        "id": "zvo3HDqVdbF3",
        "colab_type": "code",
        "colab": {
          "base_uri": "https://localhost:8080/",
          "height": 419
        },
        "outputId": "1cf50200-bfd1-423a-84d5-b977d9a2563a"
      },
      "source": [
        "# First we create the constraining_properties map\n",
        "props = {'employment': 'BLS_Employed'}\n",
        "\n",
        "# We now call get_populations.\n",
        "data['employed_pop'] = dc.get_populations(\n",
        "    data['county'], 'Person', constraining_properties=props)\n",
        "\n",
        "\n",
        "# Display the DataFrame. Notice that we don't need to flatten the frame.\n",
        "data"
      ],
      "execution_count": 19,
      "outputs": [
        {
          "output_type": "execute_result",
          "data": {
            "text/html": [
              "<div>\n",
              "<style scoped>\n",
              "    .dataframe tbody tr th:only-of-type {\n",
              "        vertical-align: middle;\n",
              "    }\n",
              "\n",
              "    .dataframe tbody tr th {\n",
              "        vertical-align: top;\n",
              "    }\n",
              "\n",
              "    .dataframe thead th {\n",
              "        text-align: right;\n",
              "    }\n",
              "</style>\n",
              "<table border=\"1\" class=\"dataframe\">\n",
              "  <thead>\n",
              "    <tr style=\"text-align: right;\">\n",
              "      <th></th>\n",
              "      <th>state</th>\n",
              "      <th>state_name</th>\n",
              "      <th>county</th>\n",
              "      <th>county_name</th>\n",
              "      <th>employed_pop</th>\n",
              "    </tr>\n",
              "  </thead>\n",
              "  <tbody>\n",
              "    <tr>\n",
              "      <th>0</th>\n",
              "      <td>geoId/06</td>\n",
              "      <td>California</td>\n",
              "      <td>geoId/06001</td>\n",
              "      <td>Alameda County</td>\n",
              "      <td>dc/p/69mjbvx3c6m38</td>\n",
              "    </tr>\n",
              "    <tr>\n",
              "      <th>1</th>\n",
              "      <td>geoId/06</td>\n",
              "      <td>California</td>\n",
              "      <td>geoId/06003</td>\n",
              "      <td>Alpine County</td>\n",
              "      <td>dc/p/38cz2egkw07rb</td>\n",
              "    </tr>\n",
              "    <tr>\n",
              "      <th>2</th>\n",
              "      <td>geoId/06</td>\n",
              "      <td>California</td>\n",
              "      <td>geoId/06005</td>\n",
              "      <td>Amador County</td>\n",
              "      <td>dc/p/d0tgg3hcqwevh</td>\n",
              "    </tr>\n",
              "    <tr>\n",
              "      <th>3</th>\n",
              "      <td>geoId/06</td>\n",
              "      <td>California</td>\n",
              "      <td>geoId/06007</td>\n",
              "      <td>Butte County</td>\n",
              "      <td>dc/p/fn9p8qqppptdf</td>\n",
              "    </tr>\n",
              "    <tr>\n",
              "      <th>4</th>\n",
              "      <td>geoId/06</td>\n",
              "      <td>California</td>\n",
              "      <td>geoId/06009</td>\n",
              "      <td>Calaveras County</td>\n",
              "      <td>dc/p/cgf7kpwczz56b</td>\n",
              "    </tr>\n",
              "    <tr>\n",
              "      <th>...</th>\n",
              "      <td>...</td>\n",
              "      <td>...</td>\n",
              "      <td>...</td>\n",
              "      <td>...</td>\n",
              "      <td>...</td>\n",
              "    </tr>\n",
              "    <tr>\n",
              "      <th>53</th>\n",
              "      <td>geoId/06</td>\n",
              "      <td>California</td>\n",
              "      <td>geoId/06107</td>\n",
              "      <td>Tulare County</td>\n",
              "      <td>dc/p/n9lmf27e81yw4</td>\n",
              "    </tr>\n",
              "    <tr>\n",
              "      <th>54</th>\n",
              "      <td>geoId/06</td>\n",
              "      <td>California</td>\n",
              "      <td>geoId/06109</td>\n",
              "      <td>Tuolumne County</td>\n",
              "      <td>dc/p/swbr0672k4mx7</td>\n",
              "    </tr>\n",
              "    <tr>\n",
              "      <th>55</th>\n",
              "      <td>geoId/06</td>\n",
              "      <td>California</td>\n",
              "      <td>geoId/06111</td>\n",
              "      <td>Ventura County</td>\n",
              "      <td>dc/p/5gb9yt799qby6</td>\n",
              "    </tr>\n",
              "    <tr>\n",
              "      <th>56</th>\n",
              "      <td>geoId/06</td>\n",
              "      <td>California</td>\n",
              "      <td>geoId/06113</td>\n",
              "      <td>Yolo County</td>\n",
              "      <td>dc/p/098b22j7102m2</td>\n",
              "    </tr>\n",
              "    <tr>\n",
              "      <th>57</th>\n",
              "      <td>geoId/06</td>\n",
              "      <td>California</td>\n",
              "      <td>geoId/06115</td>\n",
              "      <td>Yuba County</td>\n",
              "      <td>dc/p/0sj9h3l3dgslb</td>\n",
              "    </tr>\n",
              "  </tbody>\n",
              "</table>\n",
              "<p>58 rows × 5 columns</p>\n",
              "</div>"
            ],
            "text/plain": [
              "       state  state_name       county       county_name        employed_pop\n",
              "0   geoId/06  California  geoId/06001    Alameda County  dc/p/69mjbvx3c6m38\n",
              "1   geoId/06  California  geoId/06003     Alpine County  dc/p/38cz2egkw07rb\n",
              "2   geoId/06  California  geoId/06005     Amador County  dc/p/d0tgg3hcqwevh\n",
              "3   geoId/06  California  geoId/06007      Butte County  dc/p/fn9p8qqppptdf\n",
              "4   geoId/06  California  geoId/06009  Calaveras County  dc/p/cgf7kpwczz56b\n",
              "..       ...         ...          ...               ...                 ...\n",
              "53  geoId/06  California  geoId/06107     Tulare County  dc/p/n9lmf27e81yw4\n",
              "54  geoId/06  California  geoId/06109   Tuolumne County  dc/p/swbr0672k4mx7\n",
              "55  geoId/06  California  geoId/06111    Ventura County  dc/p/5gb9yt799qby6\n",
              "56  geoId/06  California  geoId/06113       Yolo County  dc/p/098b22j7102m2\n",
              "57  geoId/06  California  geoId/06115       Yuba County  dc/p/0sj9h3l3dgslb\n",
              "\n",
              "[58 rows x 5 columns]"
            ]
          },
          "metadata": {
            "tags": []
          },
          "execution_count": 19
        }
      ]
    },
    {
      "cell_type": "markdown",
      "metadata": {
        "id": "PIYZGWrWfkZ_",
        "colab_type": "text"
      },
      "source": [
        "#### Observations\n",
        "\n",
        "At the bottom of the page describing the `StatisticalPopulation` of all employed persons living in Santa Clara County is a list of observations made of that population. This is the [browser page](https://browser.datacommons.org/kg?dcid=dc/o/b5ylgwwh1d5s1) for the node representing the observed count of this population for January 2018.\n",
        "\n",
        "![The number of employed individuals in Santa Clara County](https://storage.googleapis.com/notebook-resources/image-3.png)\n",
        "\n",
        "In this page, there are a few properties to consider:\n",
        "\n",
        "- The **`typeOf`** this node is `Observation` as expected.\n",
        "- The **`measuredProperty`** is `count` telling us that this observation measures the number of persons in this statistical population.\n",
        "- The **`measurementMethod`** is `BLSSeasonallyUnadjusted` to indicate how the observation was adjusted. We can click on that link to see what `BLSSeasonallyUnadjusted` means.\n",
        "- The **`observationDate`** is `2018-01`. This date is formatted by [ISO8601](https://en.wikipedia.org/wiki/ISO_8601) standards.\n",
        "- The **`observedPeriod`** is `P1M` to denote that this observation was carried over a period of 1 month.\n",
        "- The **`observedNode`** which tells us what the node is being observed by the observation. Here its value is `dc/p/y6xm2mny8mck1` which is the dcid of the population of employed persons living in Santa Clara.\n",
        "\n",
        "The final property of interest is **`measuredValue`**. This property tells us that the raw value observed by the observation (whose value is 1,015,129) in this case. The `measuredValue` is also a *statistic type* associated with the observation. For a single observation, there could be many statistics that describe it. One would be the raw value represented by `measuredValue`, while others include `meanValue`, `medianValue`, `marginOfError`, and more.\n",
        "\n",
        "These parameters are useful for deciding what values to provide to the API. To query for `Observation`s using the Python Client API we call **`get_observations`** which accepts the following parameters.\n",
        "\n",
        "- **`dcids`** - A list or Pandas Series of dcids of nodes that are observed by observations being queried for.\n",
        "- **`measured_property`** - The `measuredProperty` of the observation.\n",
        "- **`stats_type`** - The statistical type of the observation.\n",
        "- **`observation_date`** - The `observationDate` of the observation.\n",
        "- **`observation_period`**`[=None]` - An optional parameter specifying the `observationPeriod` of the observation.\n",
        "- **`measurement_method`**`[=None]` - An optional parameter specifying the `measurementMethod` of the observation.\n",
        "\n",
        "One thing to note is that not all `Observation`s will have a property value for `observationPeriod` and `measurementMethod`. For example, [the number of housing units with 3 bedrooms in Michigan](https://browser.datacommons.org/kg?dcid=dc/o/6x1emqkzvvjq2&db=) does not have `observationPeriod` while [number of Other Textile Mills](https://browser.datacommons.org/kg?dcid=dc/o/mc6yc1v1004y5&db=) does not have `measurementMethod`. These parameters are thus optional arguments to the `get_observations` API function.\n",
        "\n",
        "When a Pandas Series is provided to `dcids`, the return value is again a Series with each cell populated by the statistic and not a list. The combination of the above parameters always map to a unique observation if it exists. If the statistic does not exist for the given parameters, then the cell will contain `NaN`.\n",
        "\n",
        "Let's get the `measuredValue` of observations of the column of populations we just queried for."
      ]
    },
    {
      "cell_type": "code",
      "metadata": {
        "id": "Xrojptpfu0xG",
        "colab_type": "code",
        "colab": {
          "base_uri": "https://localhost:8080/",
          "height": 419
        },
        "outputId": "873591ce-4e23-4418-9990-5c7ed9121319"
      },
      "source": [
        "# Call get_observations. We are passing into the parameters the values that we\n",
        "# saw in the link above.\n",
        "data['employed_count'] = dc.get_observations(\n",
        "    data['employed_pop'], \n",
        "    'count', \n",
        "    'measuredValue', \n",
        "    '2018-12', \n",
        "    observation_period='P1M',\n",
        "    measurement_method='BLSSeasonallyUnadjusted')\n",
        "\n",
        "# Display the DataFrame\n",
        "data"
      ],
      "execution_count": 20,
      "outputs": [
        {
          "output_type": "execute_result",
          "data": {
            "text/html": [
              "<div>\n",
              "<style scoped>\n",
              "    .dataframe tbody tr th:only-of-type {\n",
              "        vertical-align: middle;\n",
              "    }\n",
              "\n",
              "    .dataframe tbody tr th {\n",
              "        vertical-align: top;\n",
              "    }\n",
              "\n",
              "    .dataframe thead th {\n",
              "        text-align: right;\n",
              "    }\n",
              "</style>\n",
              "<table border=\"1\" class=\"dataframe\">\n",
              "  <thead>\n",
              "    <tr style=\"text-align: right;\">\n",
              "      <th></th>\n",
              "      <th>state</th>\n",
              "      <th>state_name</th>\n",
              "      <th>county</th>\n",
              "      <th>county_name</th>\n",
              "      <th>employed_pop</th>\n",
              "      <th>employed_count</th>\n",
              "    </tr>\n",
              "  </thead>\n",
              "  <tbody>\n",
              "    <tr>\n",
              "      <th>0</th>\n",
              "      <td>geoId/06</td>\n",
              "      <td>California</td>\n",
              "      <td>geoId/06001</td>\n",
              "      <td>Alameda County</td>\n",
              "      <td>dc/p/69mjbvx3c6m38</td>\n",
              "      <td>846267.0</td>\n",
              "    </tr>\n",
              "    <tr>\n",
              "      <th>1</th>\n",
              "      <td>geoId/06</td>\n",
              "      <td>California</td>\n",
              "      <td>geoId/06003</td>\n",
              "      <td>Alpine County</td>\n",
              "      <td>dc/p/38cz2egkw07rb</td>\n",
              "      <td>654.0</td>\n",
              "    </tr>\n",
              "    <tr>\n",
              "      <th>2</th>\n",
              "      <td>geoId/06</td>\n",
              "      <td>California</td>\n",
              "      <td>geoId/06005</td>\n",
              "      <td>Amador County</td>\n",
              "      <td>dc/p/d0tgg3hcqwevh</td>\n",
              "      <td>14210.0</td>\n",
              "    </tr>\n",
              "    <tr>\n",
              "      <th>3</th>\n",
              "      <td>geoId/06</td>\n",
              "      <td>California</td>\n",
              "      <td>geoId/06007</td>\n",
              "      <td>Butte County</td>\n",
              "      <td>dc/p/fn9p8qqppptdf</td>\n",
              "      <td>101082.0</td>\n",
              "    </tr>\n",
              "    <tr>\n",
              "      <th>4</th>\n",
              "      <td>geoId/06</td>\n",
              "      <td>California</td>\n",
              "      <td>geoId/06009</td>\n",
              "      <td>Calaveras County</td>\n",
              "      <td>dc/p/cgf7kpwczz56b</td>\n",
              "      <td>20977.0</td>\n",
              "    </tr>\n",
              "    <tr>\n",
              "      <th>...</th>\n",
              "      <td>...</td>\n",
              "      <td>...</td>\n",
              "      <td>...</td>\n",
              "      <td>...</td>\n",
              "      <td>...</td>\n",
              "      <td>...</td>\n",
              "    </tr>\n",
              "    <tr>\n",
              "      <th>53</th>\n",
              "      <td>geoId/06</td>\n",
              "      <td>California</td>\n",
              "      <td>geoId/06107</td>\n",
              "      <td>Tulare County</td>\n",
              "      <td>dc/p/n9lmf27e81yw4</td>\n",
              "      <td>186633.0</td>\n",
              "    </tr>\n",
              "    <tr>\n",
              "      <th>54</th>\n",
              "      <td>geoId/06</td>\n",
              "      <td>California</td>\n",
              "      <td>geoId/06109</td>\n",
              "      <td>Tuolumne County</td>\n",
              "      <td>dc/p/swbr0672k4mx7</td>\n",
              "      <td>20857.0</td>\n",
              "    </tr>\n",
              "    <tr>\n",
              "      <th>55</th>\n",
              "      <td>geoId/06</td>\n",
              "      <td>California</td>\n",
              "      <td>geoId/06111</td>\n",
              "      <td>Ventura County</td>\n",
              "      <td>dc/p/5gb9yt799qby6</td>\n",
              "      <td>418137.0</td>\n",
              "    </tr>\n",
              "    <tr>\n",
              "      <th>56</th>\n",
              "      <td>geoId/06</td>\n",
              "      <td>California</td>\n",
              "      <td>geoId/06113</td>\n",
              "      <td>Yolo County</td>\n",
              "      <td>dc/p/098b22j7102m2</td>\n",
              "      <td>104493.0</td>\n",
              "    </tr>\n",
              "    <tr>\n",
              "      <th>57</th>\n",
              "      <td>geoId/06</td>\n",
              "      <td>California</td>\n",
              "      <td>geoId/06115</td>\n",
              "      <td>Yuba County</td>\n",
              "      <td>dc/p/0sj9h3l3dgslb</td>\n",
              "      <td>26963.0</td>\n",
              "    </tr>\n",
              "  </tbody>\n",
              "</table>\n",
              "<p>58 rows × 6 columns</p>\n",
              "</div>"
            ],
            "text/plain": [
              "       state  state_name  ...        employed_pop employed_count\n",
              "0   geoId/06  California  ...  dc/p/69mjbvx3c6m38       846267.0\n",
              "1   geoId/06  California  ...  dc/p/38cz2egkw07rb          654.0\n",
              "2   geoId/06  California  ...  dc/p/d0tgg3hcqwevh        14210.0\n",
              "3   geoId/06  California  ...  dc/p/fn9p8qqppptdf       101082.0\n",
              "4   geoId/06  California  ...  dc/p/cgf7kpwczz56b        20977.0\n",
              "..       ...         ...  ...                 ...            ...\n",
              "53  geoId/06  California  ...  dc/p/n9lmf27e81yw4       186633.0\n",
              "54  geoId/06  California  ...  dc/p/swbr0672k4mx7        20857.0\n",
              "55  geoId/06  California  ...  dc/p/5gb9yt799qby6       418137.0\n",
              "56  geoId/06  California  ...  dc/p/098b22j7102m2       104493.0\n",
              "57  geoId/06  California  ...  dc/p/0sj9h3l3dgslb        26963.0\n",
              "\n",
              "[58 rows x 6 columns]"
            ]
          },
          "metadata": {
            "tags": []
          },
          "execution_count": 20
        }
      ]
    },
    {
      "cell_type": "markdown",
      "metadata": {
        "id": "Wl11AJ5cfn6_",
        "colab_type": "text"
      },
      "source": [
        "## Wrapping Things Up\n",
        "\n",
        "Now that we have our DataFrame populated, we can use the Pandas library to analyze the data. Let's plot the counts in a bar chart to see what we find."
      ]
    },
    {
      "cell_type": "code",
      "metadata": {
        "id": "7GK4-VIVwFCW",
        "colab_type": "code",
        "colab": {
          "base_uri": "https://localhost:8080/",
          "height": 609
        },
        "outputId": "b63dae9a-3f9e-4fe1-efce-0a1616c4836c"
      },
      "source": [
        "# Sort by employment count\n",
        "final_data = data.copy()\n",
        "final_data = final_data.sort_values('employed_count', ascending=False)\n",
        "\n",
        "# Plot the bar chart\n",
        "final_data.plot.bar(x='county_name', y='employed_count', rot=90, figsize=(12, 8))\n",
        "plt.show()"
      ],
      "execution_count": 21,
      "outputs": [
        {
          "output_type": "display_data",
          "data": {
            "image/png": "[encoded data removed]",
            "text/plain": [
              "<Figure size 864x576 with 1 Axes>"
            ]
          },
          "metadata": {
            "tags": []
          }
        }
      ]
    },
    {
      "cell_type": "markdown",
      "metadata": {
        "id": "uSw8BTK6wFKp",
        "colab_type": "text"
      },
      "source": [
        "This wraps up our tutorial on how to use the Data Commons Python Client API to access statistics in the knowledge graph and view it in a Pandas Data Frame. From this tutorial we should now know\n",
        "\n",
        "- How statistics are modeled in the graph\n",
        "- What API methods are available for accessing these statistics\n",
        "- How to use API methods to access these statistics\n",
        "\n",
        "Of course, one may wish to perform a more nuanced analysis of employment. For example, to really understand employment rates in a given county, we may wish to normalize the counts we queried for by the counts of various populations such as\n",
        "\n",
        "- All persons in a county.\n",
        "- All persons of working age in a county.\n",
        "- All persons with or without a disability in a county.\n",
        "\n",
        "We hope that with the tools provided in this notebook, such analysis will be easier and quicker to perform. Happy hunting!"
      ]
    }
  ]
}