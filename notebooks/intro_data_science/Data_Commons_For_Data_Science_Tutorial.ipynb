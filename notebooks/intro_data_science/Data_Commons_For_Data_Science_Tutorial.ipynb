{
  "nbformat": 4,
  "nbformat_minor": 0,
  "metadata": {
    "colab": {
      "provenance": [],
      "toc_visible": true,
      "authorship_tag": "ABX9TyNM5hubN9QGZdeXZpDzNIQB",
      "include_colab_link": true
    },
    "kernelspec": {
      "name": "python3",
      "display_name": "Python 3"
    },
    "language_info": {
      "name": "python"
    }
  },
  "cells": [
    {
      "cell_type": "markdown",
      "metadata": {
        "id": "view-in-github",
        "colab_type": "text"
      },
      "source": [
        "<a href=\"https://colab.research.google.com/github/datacommonsorg/api-python/blob/master/notebooks/intro_data_science/Data_Commons_For_Data_Science_Tutorial.ipynb\" target=\"_parent\"><img src=\"https://colab.research.google.com/assets/colab-badge.svg\" alt=\"Open In Colab\"/></a>"
      ]
    },
    {
      "cell_type": "markdown",
      "source": [
        "Copyright 2022 Google LLC.\n",
        "SPDX-License-Identifier: Apache-2.0"
      ],
      "metadata": {
        "id": "zINqyQ-9HymG"
      }
    },
    {
      "cell_type": "markdown",
      "metadata": {
        "id": "xHtx1UaU5anm"
      },
      "source": [
        "# Tutorial: Data Science with the Data Commons API\n",
        "\n",
        "Welcome! This tutorial will introduce the core ideas and workflow you need to get started using Data Commons for data science applications. In particular, we will focus on introducing the Python and Pandas Data Commons APIs.\n",
        "\n",
        "This tutorial will cover:\n",
        "* The power of Data Commons\n",
        "* Key terminology\n",
        "* The standard workflow\n",
        "* Some examples to get you started"
      ]
    },
    {
      "cell_type": "markdown",
      "metadata": {
        "id": "HCqxWaPr5lI_"
      },
      "source": [
        "# Why Use Data Commons?\n",
        "\n",
        "There is a substantial amount of publically available data, but this data can be difficult to use. Although the data is open, using it to answer specific questions often involves tedious ‘foraging’ — finding the data, cleaning the data, reconciling different formats and schemas, figuring out how to merge data about the same entity from different sources, etc. This error prone and tedious process is repeated, once (or more) by each organization.\n",
        "\n",
        "Data Commons is an attempt to ameliorate some of this tedium by doing this once, on a large scale and providing cloud accessible APIs to the cleaned, normalized and joined data. Using the API, we can easily explore and analyze data across different datasets without the need for data cleaning or joining.\n",
        "\n",
        "**The Knowledge Graph**\n",
        "\n",
        "Data Commons provides an open knowledge repository that combines data from public datasets into one large knowledge-graph. For example, here are some statements contained in the graph:\n",
        "\n",
        "* [Santa Clara County](https://browser.datacommons.org/kg?dcid=geoId/06085) is contained in the [State of California](https://browser.datacommons.org/kg?dcid=geoId/06)\n",
        "* The latitude of [Berkeley, CA](https://browser.datacommons.org/kg?dcid=geoId/0606000) is 37.8703\n",
        "* [The population of Maryland](https://browser.datacommons.org/kg?dcid=dc/p/psjx4xy30nws1) was [6,003,435 in 2018](https://browser.datacommons.org/kg?dcid=dc%2Fo%2Fx1tlfg4ll9yr9).\n",
        "\n",
        "In the graph, [*entities*](https://en.wikipedia.org/wiki/Entity) like [Santa Clara County](https://browser.datacommons.org/kg?dcid=geoId/06085) are represented by nodes. Every node has a type corresponding to what the node represents. For example, [California](https://browser.datacommons.org/kg?dcid=geoId/06) is a [State](https://schema.org/State). *Relations* between entities are represented by edges between these nodes. For example, the statement \"Santa Clara County is contained in the State of California\" is represented in the graph as two nodes: \"Santa Clara County\" and \"California\" with an edge labeled \"[containedInPlace](https://schema.org/containedInPlace)\" pointing from Santa Clara to California. Data Commons closely follows the [Schema.org data model](https://schema.org/docs/datamodel.html) and leverages Schema.org schema to provide a common set of types and properties.\n",
        "\n",
        "\n",
        "\n",
        "\n",
        "\n"
      ]
    },
    {
      "cell_type": "markdown",
      "metadata": {
        "id": "XFFrbKYjCaUJ"
      },
      "source": [
        "# Useful Links\n",
        "\n",
        "Some useful references for Data Commons:\n",
        "\n",
        "* [Main API Documentation](https://docs.datacommons.org/api/)\n",
        "\n",
        "* [API Tutorials](https://docs.datacommons.org/tutorials/)\n",
        "\n",
        "* [Graph Browswer](https://datacommons.org/browser/) Tool for manually stepping through the knowledge graph\n",
        "\n",
        "And some nice visualization tools:\n",
        "\n",
        "* [Places Explorer](https://datacommons.org/place) Lots of plots and charts summarizing data available for particular places.\n",
        "\n",
        "* [Timelines Explorer](https://datacommons.org/tools/timeline) Explore how statistical variables change across time.\n",
        "\n",
        "* [Scatter Plot Explorer](https://datacommons.org/tools/scatter) Plot any two statistical variables against each other.\n",
        "\n",
        "* [Map Explorer](https://datacommons.org/tools/map) Explore how statistics vary across geographic regions (e.g. states or counties)"
      ]
    },
    {
      "cell_type": "markdown",
      "metadata": {
        "id": "X9udZsx36QBv"
      },
      "source": [
        "# Installing the Data Commons API\n",
        "The Data Commons API does not ship natively with most Python installations. Thus, we need to install the APIs manually. Install the Data Commons Python and Pandas APIs using [`pip`](https://pip.pypa.io/en/stable/). In this colab, you can do this by running the following lines of code:"
      ]
    },
    {
      "cell_type": "code",
      "metadata": {
        "colab": {
          "base_uri": "https://localhost:8080/"
        },
        "id": "dThSMUJ96vK2",
        "outputId": "66f1aedb-7e1c-440b-f557-018220f7c132"
      },
      "source": [
        "!pip install datacommons --upgrade --quiet\n",
        "!pip install datacommons_pandas --upgrade --quiet"
      ],
      "execution_count": 1,
      "outputs": [
        {
          "output_type": "stream",
          "name": "stdout",
          "text": [
            "\u001b[2K     \u001b[90m━━━━━━━━━━━━━━━━━━━━━━━━━━━━━━━━━━━━━━━━\u001b[0m \u001b[32m46.5/46.5 kB\u001b[0m \u001b[31m829.3 kB/s\u001b[0m eta \u001b[36m0:00:00\u001b[0m\n",
            "\u001b[2K     \u001b[90m━━━━━━━━━━━━━━━━━━━━━━━━━━━━━━━━━━━━━━━━\u001b[0m \u001b[32m45.8/45.8 kB\u001b[0m \u001b[31m1.1 MB/s\u001b[0m eta \u001b[36m0:00:00\u001b[0m\n",
            "\u001b[?25h"
          ]
        }
      ]
    },
    {
      "cell_type": "markdown",
      "metadata": {
        "id": "Fpv4QKvV6xiw"
      },
      "source": [
        "If you want to run the Data Commons API locally on your own machine, first [make sure you have Python installed](https://wiki.python.org/moin/BeginnersGuide/Download). Then, copy/paste and run the following lines in your terminal or command-line.\n",
        "\n",
        "```\n",
        "pip install datacommons --upgrade\n",
        "pip install datacommons_pandas --upgrade\n",
        "```"
      ]
    },
    {
      "cell_type": "markdown",
      "metadata": {
        "id": "grdHeoqRerXN"
      },
      "source": [
        "# Importing the Data Commons API\n",
        "\n",
        "After installation, the Data Commons API can be imported using the lines of code below:"
      ]
    },
    {
      "cell_type": "code",
      "metadata": {
        "id": "hQdpQ9Xcey72"
      },
      "source": [
        "import datacommons\n",
        "import datacommons_pandas"
      ],
      "execution_count": 2,
      "outputs": []
    },
    {
      "cell_type": "markdown",
      "metadata": {
        "id": "anVcVbI56PPy"
      },
      "source": [
        "# Terms You Should Know\n",
        "\n",
        "### DCIDs\n",
        "The **`dcid`** (Data Commons identifier) is a unique identifier assigned to each entity in the knowledge graph. With this identifier, you will be able to search for and query information on the given entity in ways that we will discuss later.\n",
        "\n",
        "\n",
        "### Statistical Variables (StatVars)\n",
        "A **statistical variable** is any type of metric, statistic, or measure that can be measured at a place and time. Examples include median income of persons older than 16, number of female high school graduates aged 18 to 24, unemployment rate, or percentage of persons with diabetes. Statistial variables are also represented as nodes in the knowledge graph, and have their own entries in the graph browser.\n"
      ]
    },
    {
      "cell_type": "markdown",
      "metadata": {
        "id": "Eqyi2wHO-0PZ"
      },
      "source": [
        "# General Workflow for Data Science Applications"
      ]
    },
    {
      "cell_type": "markdown",
      "metadata": {
        "id": "L_3FV74h-6sp"
      },
      "source": [
        "## 1) Get DCIDs of Interest\n",
        "The first thing we need is to set the scope of our analysis, by combining a list of DCIDs of all the entities we wish to analyze. There are a number of ways to do this.\n",
        "\n",
        "**Method A: Look for the DCIDs in the Graph Browser**\n",
        "\n",
        "The first method is just to look up the entities you are interested in using the [graph browser](https://datacommons.org/browser/), and manually compile a list of DCIDs. For example, if I were interested in looking at data available for the cities of [San Francisco](https://datacommons.org/browser/geoId/0667000), [Oakland](https://datacommons.org/browser/geoId/0653000), and [Los Angeles](https://datacommons.org/browser/geoId/0644000), I would look up their pages in the graph browser to find their dcids, end up with a list that looks something like this:"
      ]
    },
    {
      "cell_type": "code",
      "metadata": {
        "id": "xAqxWxzK5Ss8"
      },
      "source": [
        "dcids = [\"geoId/0667000\",  # San Francisco\n",
        "         \"geoId/065300\",   # Oakland\n",
        "         \"geoId/0644000\"]  # Los Angeles"
      ],
      "execution_count": 3,
      "outputs": []
    },
    {
      "cell_type": "markdown",
      "metadata": {
        "id": "BOyYQa-7L9It"
      },
      "source": [
        "**Method B: Use `get_places_in()`**\n",
        "\n",
        "Oftentimes, we want to analyze a large cohort of places (e.g. \"all cities in California\", or \"all states in the US\"). Instead of finding the dcid for each location manually, we can use the `get_places_in()` method to query for dcids all at once.\n",
        "\n",
        "For more details on how the method works, take a look at [the documentation page for `get_places_in()`](https://docs.datacommons.org/api/python/place_in.html)\n",
        "\n",
        "For example, if I wanted the dcids for all counties in California, I would use the following lines of code:"
      ]
    },
    {
      "cell_type": "code",
      "metadata": {
        "id": "wSHXif8XOXuh"
      },
      "source": [
        "dcid_of_california = \"geoId/06\"\n",
        "dcids = datacommons.get_places_in([dcid_of_california], \"County\")[dcid_of_california]"
      ],
      "execution_count": 4,
      "outputs": []
    },
    {
      "cell_type": "markdown",
      "metadata": {
        "id": "KJxC03jGPMfj"
      },
      "source": [
        "**Method C: Use a CohortSet**\n",
        "\n",
        "Data Commons also provides sets of pregrouped entities for convenience, which you can use. For example, the [CDC500](https://datacommons.org/browser/CDC500_City) CohortSet includes the CDC's list of the United States' 500 largest cities.\n",
        "\n",
        "For a full list of available CohortSets, take a look at the [Graph Browser page for CohortSet](https://datacommons.org/browser/CohortSet). Available CohortSets are listed under \"In Arcs\"\n",
        "\n",
        "To use the CDC500 CohortSet, we can use the code below:"
      ]
    },
    {
      "cell_type": "code",
      "metadata": {
        "id": "ORe_NiQQO37N"
      },
      "source": [
        "dcids = datacommons.get_property_values([\"CDC500_City\"],\n",
        "                                             \"member\",\n",
        "                                             limit=500)[\"CDC500_City\"]"
      ],
      "execution_count": 5,
      "outputs": []
    },
    {
      "cell_type": "markdown",
      "metadata": {
        "id": "lwS4I5kZ_AgU"
      },
      "source": [
        "## 2) Get StatVars of Interest\n",
        "Similar to collecting a list of dcids, we also need a list of all the statistical variables we are interested in.\n",
        "\n",
        "A complete list of Statistical Variables can be found [here](https://docs.datacommons.org/statistical_variables.html).\n",
        "\n",
        "However, note that data for statistical variables may not be available for all places/entities. To check if a statistical variable is available for an entity, look at the bottom of the graph browser page for that entity for a list of the statistical variables available for that entity.\n",
        "\n",
        "Examples of some statistical variables are shown below:"
      ]
    },
    {
      "cell_type": "code",
      "metadata": {
        "id": "1b-Z3IEY_DpE"
      },
      "source": [
        "stat_vars_to_query = [\"CumulativeCount_MedicalTest_ConditionCOVID_19_Positive\",\n",
        "                      \"Count_Person\",\n",
        "                      \"Median_Income_Person\",\n",
        "                      \"Percent_Person_Obesity\",\n",
        "                      \"Amount_Emissions_CarbonDioxide_PerCapita\"\n",
        "                      ]"
      ],
      "execution_count": 6,
      "outputs": []
    },
    {
      "cell_type": "markdown",
      "metadata": {
        "id": "bA9bMtel_D1f"
      },
      "source": [
        "## 3) Build Data Frame"
      ]
    },
    {
      "cell_type": "markdown",
      "metadata": {
        "id": "Q9VsI0veBNuQ"
      },
      "source": [
        "### Use Data Commons API\n",
        "\n",
        "Data Commons provides a `build_multivariate_dataframe()` method that returns data as a Pandas data frame.\n",
        "\n",
        "For more on how the method works, take a look at the [`build_multivariate_dataframe()` documentation page]()\n",
        "\n",
        "_Note:_ If data is not availabe for a particular StatVar and entity, the method will return NaN for that entry. If a StatVar is not available for any of the dcids, that column will be omitted."
      ]
    },
    {
      "cell_type": "code",
      "metadata": {
        "colab": {
          "base_uri": "https://localhost:8080/",
          "height": 455
        },
        "id": "Qvmu77TI_Kia",
        "outputId": "39568e48-e88d-418f-fb20-54d6f2e8b763"
      },
      "source": [
        "df = datacommons_pandas.build_multivariate_dataframe(dcids,stat_vars_to_query)\n",
        "display(df)"
      ],
      "execution_count": 7,
      "outputs": [
        {
          "output_type": "display_data",
          "data": {
            "text/plain": [
              "               Percent_Person_Obesity  Count_Person  Median_Income_Person\n",
              "place                                                                    \n",
              "geoId/0107000                    44.9        200431                 25660\n",
              "geoId/0135896                    32.5         91995                 51216\n",
              "geoId/0137000                    43.7        215025                 36000\n",
              "geoId/0150000                    41.3        186316                 29293\n",
              "geoId/0151000                    37.9        199819                 29468\n",
              "...                               ...           ...                   ...\n",
              "geoId/5548000                    27.2        268516                 42068\n",
              "geoId/5553000                    40.4        573299                 30151\n",
              "geoId/5566000                    39.7         77453                 33079\n",
              "geoId/5584250                    36.0         70945                 41905\n",
              "geoId/5613900                    32.3         64795                 42019\n",
              "\n",
              "[500 rows x 3 columns]"
            ],
            "text/html": [
              "\n",
              "  <div id=\"df-431eb8b5-32d6-4896-8adb-08fbef81f29c\" class=\"colab-df-container\">\n",
              "    <div>\n",
              "<style scoped>\n",
              "    .dataframe tbody tr th:only-of-type {\n",
              "        vertical-align: middle;\n",
              "    }\n",
              "\n",
              "    .dataframe tbody tr th {\n",
              "        vertical-align: top;\n",
              "    }\n",
              "\n",
              "    .dataframe thead th {\n",
              "        text-align: right;\n",
              "    }\n",
              "</style>\n",
              "<table border=\"1\" class=\"dataframe\">\n",
              "  <thead>\n",
              "    <tr style=\"text-align: right;\">\n",
              "      <th></th>\n",
              "      <th>Percent_Person_Obesity</th>\n",
              "      <th>Count_Person</th>\n",
              "      <th>Median_Income_Person</th>\n",
              "    </tr>\n",
              "    <tr>\n",
              "      <th>place</th>\n",
              "      <th></th>\n",
              "      <th></th>\n",
              "      <th></th>\n",
              "    </tr>\n",
              "  </thead>\n",
              "  <tbody>\n",
              "    <tr>\n",
              "      <th>geoId/0107000</th>\n",
              "      <td>44.9</td>\n",
              "      <td>200431</td>\n",
              "      <td>25660</td>\n",
              "    </tr>\n",
              "    <tr>\n",
              "      <th>geoId/0135896</th>\n",
              "      <td>32.5</td>\n",
              "      <td>91995</td>\n",
              "      <td>51216</td>\n",
              "    </tr>\n",
              "    <tr>\n",
              "      <th>geoId/0137000</th>\n",
              "      <td>43.7</td>\n",
              "      <td>215025</td>\n",
              "      <td>36000</td>\n",
              "    </tr>\n",
              "    <tr>\n",
              "      <th>geoId/0150000</th>\n",
              "      <td>41.3</td>\n",
              "      <td>186316</td>\n",
              "      <td>29293</td>\n",
              "    </tr>\n",
              "    <tr>\n",
              "      <th>geoId/0151000</th>\n",
              "      <td>37.9</td>\n",
              "      <td>199819</td>\n",
              "      <td>29468</td>\n",
              "    </tr>\n",
              "    <tr>\n",
              "      <th>...</th>\n",
              "      <td>...</td>\n",
              "      <td>...</td>\n",
              "      <td>...</td>\n",
              "    </tr>\n",
              "    <tr>\n",
              "      <th>geoId/5548000</th>\n",
              "      <td>27.2</td>\n",
              "      <td>268516</td>\n",
              "      <td>42068</td>\n",
              "    </tr>\n",
              "    <tr>\n",
              "      <th>geoId/5553000</th>\n",
              "      <td>40.4</td>\n",
              "      <td>573299</td>\n",
              "      <td>30151</td>\n",
              "    </tr>\n",
              "    <tr>\n",
              "      <th>geoId/5566000</th>\n",
              "      <td>39.7</td>\n",
              "      <td>77453</td>\n",
              "      <td>33079</td>\n",
              "    </tr>\n",
              "    <tr>\n",
              "      <th>geoId/5584250</th>\n",
              "      <td>36.0</td>\n",
              "      <td>70945</td>\n",
              "      <td>41905</td>\n",
              "    </tr>\n",
              "    <tr>\n",
              "      <th>geoId/5613900</th>\n",
              "      <td>32.3</td>\n",
              "      <td>64795</td>\n",
              "      <td>42019</td>\n",
              "    </tr>\n",
              "  </tbody>\n",
              "</table>\n",
              "<p>500 rows × 3 columns</p>\n",
              "</div>\n",
              "    <div class=\"colab-df-buttons\">\n",
              "\n",
              "  <div class=\"colab-df-container\">\n",
              "    <button class=\"colab-df-convert\" onclick=\"convertToInteractive('df-431eb8b5-32d6-4896-8adb-08fbef81f29c')\"\n",
              "            title=\"Convert this dataframe to an interactive table.\"\n",
              "            style=\"display:none;\">\n",
              "\n",
              "  <svg xmlns=\"http://www.w3.org/2000/svg\" height=\"24px\" viewBox=\"0 -960 960 960\">\n",
              "    <path d=\"M120-120v-720h720v720H120Zm60-500h600v-160H180v160Zm220 220h160v-160H400v160Zm0 220h160v-160H400v160ZM180-400h160v-160H180v160Zm440 0h160v-160H620v160ZM180-180h160v-160H180v160Zm440 0h160v-160H620v160Z\"/>\n",
              "  </svg>\n",
              "    </button>\n",
              "\n",
              "  <style>\n",
              "    .colab-df-container {\n",
              "      display:flex;\n",
              "      gap: 12px;\n",
              "    }\n",
              "\n",
              "    .colab-df-convert {\n",
              "      background-color: #E8F0FE;\n",
              "      border: none;\n",
              "      border-radius: 50%;\n",
              "      cursor: pointer;\n",
              "      display: none;\n",
              "      fill: #1967D2;\n",
              "      height: 32px;\n",
              "      padding: 0 0 0 0;\n",
              "      width: 32px;\n",
              "    }\n",
              "\n",
              "    .colab-df-convert:hover {\n",
              "      background-color: #E2EBFA;\n",
              "      box-shadow: 0px 1px 2px rgba(60, 64, 67, 0.3), 0px 1px 3px 1px rgba(60, 64, 67, 0.15);\n",
              "      fill: #174EA6;\n",
              "    }\n",
              "\n",
              "    .colab-df-buttons div {\n",
              "      margin-bottom: 4px;\n",
              "    }\n",
              "\n",
              "    [theme=dark] .colab-df-convert {\n",
              "      background-color: #3B4455;\n",
              "      fill: #D2E3FC;\n",
              "    }\n",
              "\n",
              "    [theme=dark] .colab-df-convert:hover {\n",
              "      background-color: #434B5C;\n",
              "      box-shadow: 0px 1px 3px 1px rgba(0, 0, 0, 0.15);\n",
              "      filter: drop-shadow(0px 1px 2px rgba(0, 0, 0, 0.3));\n",
              "      fill: #FFFFFF;\n",
              "    }\n",
              "  </style>\n",
              "\n",
              "    <script>\n",
              "      const buttonEl =\n",
              "        document.querySelector('#df-431eb8b5-32d6-4896-8adb-08fbef81f29c button.colab-df-convert');\n",
              "      buttonEl.style.display =\n",
              "        google.colab.kernel.accessAllowed ? 'block' : 'none';\n",
              "\n",
              "      async function convertToInteractive(key) {\n",
              "        const element = document.querySelector('#df-431eb8b5-32d6-4896-8adb-08fbef81f29c');\n",
              "        const dataTable =\n",
              "          await google.colab.kernel.invokeFunction('convertToInteractive',\n",
              "                                                    [key], {});\n",
              "        if (!dataTable) return;\n",
              "\n",
              "        const docLinkHtml = 'Like what you see? Visit the ' +\n",
              "          '<a target=\"_blank\" href=https://colab.research.google.com/notebooks/data_table.ipynb>data table notebook</a>'\n",
              "          + ' to learn more about interactive tables.';\n",
              "        element.innerHTML = '';\n",
              "        dataTable['output_type'] = 'display_data';\n",
              "        await google.colab.output.renderOutput(dataTable, element);\n",
              "        const docLink = document.createElement('div');\n",
              "        docLink.innerHTML = docLinkHtml;\n",
              "        element.appendChild(docLink);\n",
              "      }\n",
              "    </script>\n",
              "  </div>\n",
              "\n",
              "\n",
              "<div id=\"df-0425de20-32b5-472d-8db7-fa5c741a5cac\">\n",
              "  <button class=\"colab-df-quickchart\" onclick=\"quickchart('df-0425de20-32b5-472d-8db7-fa5c741a5cac')\"\n",
              "            title=\"Suggest charts\"\n",
              "            style=\"display:none;\">\n",
              "\n",
              "<svg xmlns=\"http://www.w3.org/2000/svg\" height=\"24px\"viewBox=\"0 0 24 24\"\n",
              "     width=\"24px\">\n",
              "    <g>\n",
              "        <path d=\"M19 3H5c-1.1 0-2 .9-2 2v14c0 1.1.9 2 2 2h14c1.1 0 2-.9 2-2V5c0-1.1-.9-2-2-2zM9 17H7v-7h2v7zm4 0h-2V7h2v10zm4 0h-2v-4h2v4z\"/>\n",
              "    </g>\n",
              "</svg>\n",
              "  </button>\n",
              "\n",
              "<style>\n",
              "  .colab-df-quickchart {\n",
              "      --bg-color: #E8F0FE;\n",
              "      --fill-color: #1967D2;\n",
              "      --hover-bg-color: #E2EBFA;\n",
              "      --hover-fill-color: #174EA6;\n",
              "      --disabled-fill-color: #AAA;\n",
              "      --disabled-bg-color: #DDD;\n",
              "  }\n",
              "\n",
              "  [theme=dark] .colab-df-quickchart {\n",
              "      --bg-color: #3B4455;\n",
              "      --fill-color: #D2E3FC;\n",
              "      --hover-bg-color: #434B5C;\n",
              "      --hover-fill-color: #FFFFFF;\n",
              "      --disabled-bg-color: #3B4455;\n",
              "      --disabled-fill-color: #666;\n",
              "  }\n",
              "\n",
              "  .colab-df-quickchart {\n",
              "    background-color: var(--bg-color);\n",
              "    border: none;\n",
              "    border-radius: 50%;\n",
              "    cursor: pointer;\n",
              "    display: none;\n",
              "    fill: var(--fill-color);\n",
              "    height: 32px;\n",
              "    padding: 0;\n",
              "    width: 32px;\n",
              "  }\n",
              "\n",
              "  .colab-df-quickchart:hover {\n",
              "    background-color: var(--hover-bg-color);\n",
              "    box-shadow: 0 1px 2px rgba(60, 64, 67, 0.3), 0 1px 3px 1px rgba(60, 64, 67, 0.15);\n",
              "    fill: var(--button-hover-fill-color);\n",
              "  }\n",
              "\n",
              "  .colab-df-quickchart-complete:disabled,\n",
              "  .colab-df-quickchart-complete:disabled:hover {\n",
              "    background-color: var(--disabled-bg-color);\n",
              "    fill: var(--disabled-fill-color);\n",
              "    box-shadow: none;\n",
              "  }\n",
              "\n",
              "  .colab-df-spinner {\n",
              "    border: 2px solid var(--fill-color);\n",
              "    border-color: transparent;\n",
              "    border-bottom-color: var(--fill-color);\n",
              "    animation:\n",
              "      spin 1s steps(1) infinite;\n",
              "  }\n",
              "\n",
              "  @keyframes spin {\n",
              "    0% {\n",
              "      border-color: transparent;\n",
              "      border-bottom-color: var(--fill-color);\n",
              "      border-left-color: var(--fill-color);\n",
              "    }\n",
              "    20% {\n",
              "      border-color: transparent;\n",
              "      border-left-color: var(--fill-color);\n",
              "      border-top-color: var(--fill-color);\n",
              "    }\n",
              "    30% {\n",
              "      border-color: transparent;\n",
              "      border-left-color: var(--fill-color);\n",
              "      border-top-color: var(--fill-color);\n",
              "      border-right-color: var(--fill-color);\n",
              "    }\n",
              "    40% {\n",
              "      border-color: transparent;\n",
              "      border-right-color: var(--fill-color);\n",
              "      border-top-color: var(--fill-color);\n",
              "    }\n",
              "    60% {\n",
              "      border-color: transparent;\n",
              "      border-right-color: var(--fill-color);\n",
              "    }\n",
              "    80% {\n",
              "      border-color: transparent;\n",
              "      border-right-color: var(--fill-color);\n",
              "      border-bottom-color: var(--fill-color);\n",
              "    }\n",
              "    90% {\n",
              "      border-color: transparent;\n",
              "      border-bottom-color: var(--fill-color);\n",
              "    }\n",
              "  }\n",
              "</style>\n",
              "\n",
              "  <script>\n",
              "    async function quickchart(key) {\n",
              "      const quickchartButtonEl =\n",
              "        document.querySelector('#' + key + ' button');\n",
              "      quickchartButtonEl.disabled = true;  // To prevent multiple clicks.\n",
              "      quickchartButtonEl.classList.add('colab-df-spinner');\n",
              "      try {\n",
              "        const charts = await google.colab.kernel.invokeFunction(\n",
              "            'suggestCharts', [key], {});\n",
              "      } catch (error) {\n",
              "        console.error('Error during call to suggestCharts:', error);\n",
              "      }\n",
              "      quickchartButtonEl.classList.remove('colab-df-spinner');\n",
              "      quickchartButtonEl.classList.add('colab-df-quickchart-complete');\n",
              "    }\n",
              "    (() => {\n",
              "      let quickchartButtonEl =\n",
              "        document.querySelector('#df-0425de20-32b5-472d-8db7-fa5c741a5cac button');\n",
              "      quickchartButtonEl.style.display =\n",
              "        google.colab.kernel.accessAllowed ? 'block' : 'none';\n",
              "    })();\n",
              "  </script>\n",
              "</div>\n",
              "\n",
              "  <div id=\"id_37ef4652-abe0-4bdb-ac2e-fb759ba885f0\">\n",
              "    <style>\n",
              "      .colab-df-generate {\n",
              "        background-color: #E8F0FE;\n",
              "        border: none;\n",
              "        border-radius: 50%;\n",
              "        cursor: pointer;\n",
              "        display: none;\n",
              "        fill: #1967D2;\n",
              "        height: 32px;\n",
              "        padding: 0 0 0 0;\n",
              "        width: 32px;\n",
              "      }\n",
              "\n",
              "      .colab-df-generate:hover {\n",
              "        background-color: #E2EBFA;\n",
              "        box-shadow: 0px 1px 2px rgba(60, 64, 67, 0.3), 0px 1px 3px 1px rgba(60, 64, 67, 0.15);\n",
              "        fill: #174EA6;\n",
              "      }\n",
              "\n",
              "      [theme=dark] .colab-df-generate {\n",
              "        background-color: #3B4455;\n",
              "        fill: #D2E3FC;\n",
              "      }\n",
              "\n",
              "      [theme=dark] .colab-df-generate:hover {\n",
              "        background-color: #434B5C;\n",
              "        box-shadow: 0px 1px 3px 1px rgba(0, 0, 0, 0.15);\n",
              "        filter: drop-shadow(0px 1px 2px rgba(0, 0, 0, 0.3));\n",
              "        fill: #FFFFFF;\n",
              "      }\n",
              "    </style>\n",
              "    <button class=\"colab-df-generate\" onclick=\"generateWithVariable('df')\"\n",
              "            title=\"Generate code using this dataframe.\"\n",
              "            style=\"display:none;\">\n",
              "\n",
              "  <svg xmlns=\"http://www.w3.org/2000/svg\" height=\"24px\"viewBox=\"0 0 24 24\"\n",
              "       width=\"24px\">\n",
              "    <path d=\"M7,19H8.4L18.45,9,17,7.55,7,17.6ZM5,21V16.75L18.45,3.32a2,2,0,0,1,2.83,0l1.4,1.43a1.91,1.91,0,0,1,.58,1.4,1.91,1.91,0,0,1-.58,1.4L9.25,21ZM18.45,9,17,7.55Zm-12,3A5.31,5.31,0,0,0,4.9,8.1,5.31,5.31,0,0,0,1,6.5,5.31,5.31,0,0,0,4.9,4.9,5.31,5.31,0,0,0,6.5,1,5.31,5.31,0,0,0,8.1,4.9,5.31,5.31,0,0,0,12,6.5,5.46,5.46,0,0,0,6.5,12Z\"/>\n",
              "  </svg>\n",
              "    </button>\n",
              "    <script>\n",
              "      (() => {\n",
              "      const buttonEl =\n",
              "        document.querySelector('#id_37ef4652-abe0-4bdb-ac2e-fb759ba885f0 button.colab-df-generate');\n",
              "      buttonEl.style.display =\n",
              "        google.colab.kernel.accessAllowed ? 'block' : 'none';\n",
              "\n",
              "      buttonEl.onclick = () => {\n",
              "        google.colab.notebook.generateWithVariable('df');\n",
              "      }\n",
              "      })();\n",
              "    </script>\n",
              "  </div>\n",
              "\n",
              "    </div>\n",
              "  </div>\n"
            ],
            "application/vnd.google.colaboratory.intrinsic+json": {
              "type": "dataframe",
              "variable_name": "df",
              "summary": "{\n  \"name\": \"df\",\n  \"rows\": 500,\n  \"fields\": [\n    {\n      \"column\": \"place\",\n      \"properties\": {\n        \"dtype\": \"string\",\n        \"num_unique_values\": 500,\n        \"samples\": [\n          \"geoId/3825700\",\n          \"geoId/0643000\",\n          \"geoId/4052500\"\n        ],\n        \"semantic_type\": \"\",\n        \"description\": \"\"\n      }\n    },\n    {\n      \"column\": \"Percent_Person_Obesity\",\n      \"properties\": {\n        \"dtype\": \"number\",\n        \"std\": 6.044195997028968,\n        \"min\": 15.9,\n        \"max\": 52.3,\n        \"num_unique_values\": 213,\n        \"samples\": [\n          28.0,\n          35.6,\n          30.6\n        ],\n        \"semantic_type\": \"\",\n        \"description\": \"\"\n      }\n    },\n    {\n      \"column\": \"Count_Person\",\n      \"properties\": {\n        \"dtype\": \"number\",\n        \"std\": 482440,\n        \"min\": 44646,\n        \"max\": 8622467,\n        \"num_unique_values\": 500,\n        \"samples\": [\n          127319,\n          462293,\n          127701\n        ],\n        \"semantic_type\": \"\",\n        \"description\": \"\"\n      }\n    },\n    {\n      \"column\": \"Median_Income_Person\",\n      \"properties\": {\n        \"dtype\": \"number\",\n        \"std\": 11146,\n        \"min\": 16408,\n        \"max\": 96386,\n        \"num_unique_values\": 497,\n        \"samples\": [\n          63167,\n          36963,\n          29428\n        ],\n        \"semantic_type\": \"\",\n        \"description\": \"\"\n      }\n    }\n  ]\n}"
            }
          },
          "metadata": {}
        }
      ]
    },
    {
      "cell_type": "markdown",
      "metadata": {
        "id": "xza-1c15RZ-R"
      },
      "source": [
        "Further data cleaning or joining is usually not necessary, but you may choose to further process your data frame for better readability or to better suit your particular data science task.\n",
        "\n",
        "Because the Data Commons API returns a Pandas Dataframe, you are free to use any functions found in [Pandas' Documentation](https://pandas.pydata.org/docs/reference/frame.html) to edit your dataframe."
      ]
    },
    {
      "cell_type": "markdown",
      "metadata": {
        "id": "ALSTltgy_mzM"
      },
      "source": [
        "### (Optional) Make Row Names More Readable\n",
        "The dataframe returned indexes rows using DCIDs, but you can add a column of human readable names for better readability. The code below adds a column containing the human readable names corresponding to each dcid."
      ]
    },
    {
      "cell_type": "code",
      "metadata": {
        "colab": {
          "base_uri": "https://localhost:8080/",
          "height": 455
        },
        "id": "SioY7DRTAxi6",
        "outputId": "7757d0c7-e8e8-4974-daf4-284ccf1c6e06"
      },
      "source": [
        "df.insert(0, 'name', df.index.map(datacommons.get_property_values(df.index, 'name')).str[0])\n",
        "display(df)"
      ],
      "execution_count": 8,
      "outputs": [
        {
          "output_type": "display_data",
          "data": {
            "text/plain": [
              "                     name  Percent_Person_Obesity  Count_Person  \\\n",
              "place                                                             \n",
              "geoId/0107000  Birmingham                    44.9        200431   \n",
              "geoId/0135896      Hoover                    32.5         91995   \n",
              "geoId/0137000  Huntsville                    43.7        215025   \n",
              "geoId/0150000      Mobile                    41.3        186316   \n",
              "geoId/0151000  Montgomery                    37.9        199819   \n",
              "...                   ...                     ...           ...   \n",
              "geoId/5548000     Madison                    27.2        268516   \n",
              "geoId/5553000   Milwaukee                    40.4        573299   \n",
              "geoId/5566000      Racine                    39.7         77453   \n",
              "geoId/5584250    Waukesha                    36.0         70945   \n",
              "geoId/5613900    Cheyenne                    32.3         64795   \n",
              "\n",
              "               Median_Income_Person  \n",
              "place                                \n",
              "geoId/0107000                 25660  \n",
              "geoId/0135896                 51216  \n",
              "geoId/0137000                 36000  \n",
              "geoId/0150000                 29293  \n",
              "geoId/0151000                 29468  \n",
              "...                             ...  \n",
              "geoId/5548000                 42068  \n",
              "geoId/5553000                 30151  \n",
              "geoId/5566000                 33079  \n",
              "geoId/5584250                 41905  \n",
              "geoId/5613900                 42019  \n",
              "\n",
              "[500 rows x 4 columns]"
            ],
            "text/html": [
              "\n",
              "  <div id=\"df-94dd97f7-b567-460b-90e3-df04cb1ebb1e\" class=\"colab-df-container\">\n",
              "    <div>\n",
              "<style scoped>\n",
              "    .dataframe tbody tr th:only-of-type {\n",
              "        vertical-align: middle;\n",
              "    }\n",
              "\n",
              "    .dataframe tbody tr th {\n",
              "        vertical-align: top;\n",
              "    }\n",
              "\n",
              "    .dataframe thead th {\n",
              "        text-align: right;\n",
              "    }\n",
              "</style>\n",
              "<table border=\"1\" class=\"dataframe\">\n",
              "  <thead>\n",
              "    <tr style=\"text-align: right;\">\n",
              "      <th></th>\n",
              "      <th>name</th>\n",
              "      <th>Percent_Person_Obesity</th>\n",
              "      <th>Count_Person</th>\n",
              "      <th>Median_Income_Person</th>\n",
              "    </tr>\n",
              "    <tr>\n",
              "      <th>place</th>\n",
              "      <th></th>\n",
              "      <th></th>\n",
              "      <th></th>\n",
              "      <th></th>\n",
              "    </tr>\n",
              "  </thead>\n",
              "  <tbody>\n",
              "    <tr>\n",
              "      <th>geoId/0107000</th>\n",
              "      <td>Birmingham</td>\n",
              "      <td>44.9</td>\n",
              "      <td>200431</td>\n",
              "      <td>25660</td>\n",
              "    </tr>\n",
              "    <tr>\n",
              "      <th>geoId/0135896</th>\n",
              "      <td>Hoover</td>\n",
              "      <td>32.5</td>\n",
              "      <td>91995</td>\n",
              "      <td>51216</td>\n",
              "    </tr>\n",
              "    <tr>\n",
              "      <th>geoId/0137000</th>\n",
              "      <td>Huntsville</td>\n",
              "      <td>43.7</td>\n",
              "      <td>215025</td>\n",
              "      <td>36000</td>\n",
              "    </tr>\n",
              "    <tr>\n",
              "      <th>geoId/0150000</th>\n",
              "      <td>Mobile</td>\n",
              "      <td>41.3</td>\n",
              "      <td>186316</td>\n",
              "      <td>29293</td>\n",
              "    </tr>\n",
              "    <tr>\n",
              "      <th>geoId/0151000</th>\n",
              "      <td>Montgomery</td>\n",
              "      <td>37.9</td>\n",
              "      <td>199819</td>\n",
              "      <td>29468</td>\n",
              "    </tr>\n",
              "    <tr>\n",
              "      <th>...</th>\n",
              "      <td>...</td>\n",
              "      <td>...</td>\n",
              "      <td>...</td>\n",
              "      <td>...</td>\n",
              "    </tr>\n",
              "    <tr>\n",
              "      <th>geoId/5548000</th>\n",
              "      <td>Madison</td>\n",
              "      <td>27.2</td>\n",
              "      <td>268516</td>\n",
              "      <td>42068</td>\n",
              "    </tr>\n",
              "    <tr>\n",
              "      <th>geoId/5553000</th>\n",
              "      <td>Milwaukee</td>\n",
              "      <td>40.4</td>\n",
              "      <td>573299</td>\n",
              "      <td>30151</td>\n",
              "    </tr>\n",
              "    <tr>\n",
              "      <th>geoId/5566000</th>\n",
              "      <td>Racine</td>\n",
              "      <td>39.7</td>\n",
              "      <td>77453</td>\n",
              "      <td>33079</td>\n",
              "    </tr>\n",
              "    <tr>\n",
              "      <th>geoId/5584250</th>\n",
              "      <td>Waukesha</td>\n",
              "      <td>36.0</td>\n",
              "      <td>70945</td>\n",
              "      <td>41905</td>\n",
              "    </tr>\n",
              "    <tr>\n",
              "      <th>geoId/5613900</th>\n",
              "      <td>Cheyenne</td>\n",
              "      <td>32.3</td>\n",
              "      <td>64795</td>\n",
              "      <td>42019</td>\n",
              "    </tr>\n",
              "  </tbody>\n",
              "</table>\n",
              "<p>500 rows × 4 columns</p>\n",
              "</div>\n",
              "    <div class=\"colab-df-buttons\">\n",
              "\n",
              "  <div class=\"colab-df-container\">\n",
              "    <button class=\"colab-df-convert\" onclick=\"convertToInteractive('df-94dd97f7-b567-460b-90e3-df04cb1ebb1e')\"\n",
              "            title=\"Convert this dataframe to an interactive table.\"\n",
              "            style=\"display:none;\">\n",
              "\n",
              "  <svg xmlns=\"http://www.w3.org/2000/svg\" height=\"24px\" viewBox=\"0 -960 960 960\">\n",
              "    <path d=\"M120-120v-720h720v720H120Zm60-500h600v-160H180v160Zm220 220h160v-160H400v160Zm0 220h160v-160H400v160ZM180-400h160v-160H180v160Zm440 0h160v-160H620v160ZM180-180h160v-160H180v160Zm440 0h160v-160H620v160Z\"/>\n",
              "  </svg>\n",
              "    </button>\n",
              "\n",
              "  <style>\n",
              "    .colab-df-container {\n",
              "      display:flex;\n",
              "      gap: 12px;\n",
              "    }\n",
              "\n",
              "    .colab-df-convert {\n",
              "      background-color: #E8F0FE;\n",
              "      border: none;\n",
              "      border-radius: 50%;\n",
              "      cursor: pointer;\n",
              "      display: none;\n",
              "      fill: #1967D2;\n",
              "      height: 32px;\n",
              "      padding: 0 0 0 0;\n",
              "      width: 32px;\n",
              "    }\n",
              "\n",
              "    .colab-df-convert:hover {\n",
              "      background-color: #E2EBFA;\n",
              "      box-shadow: 0px 1px 2px rgba(60, 64, 67, 0.3), 0px 1px 3px 1px rgba(60, 64, 67, 0.15);\n",
              "      fill: #174EA6;\n",
              "    }\n",
              "\n",
              "    .colab-df-buttons div {\n",
              "      margin-bottom: 4px;\n",
              "    }\n",
              "\n",
              "    [theme=dark] .colab-df-convert {\n",
              "      background-color: #3B4455;\n",
              "      fill: #D2E3FC;\n",
              "    }\n",
              "\n",
              "    [theme=dark] .colab-df-convert:hover {\n",
              "      background-color: #434B5C;\n",
              "      box-shadow: 0px 1px 3px 1px rgba(0, 0, 0, 0.15);\n",
              "      filter: drop-shadow(0px 1px 2px rgba(0, 0, 0, 0.3));\n",
              "      fill: #FFFFFF;\n",
              "    }\n",
              "  </style>\n",
              "\n",
              "    <script>\n",
              "      const buttonEl =\n",
              "        document.querySelector('#df-94dd97f7-b567-460b-90e3-df04cb1ebb1e button.colab-df-convert');\n",
              "      buttonEl.style.display =\n",
              "        google.colab.kernel.accessAllowed ? 'block' : 'none';\n",
              "\n",
              "      async function convertToInteractive(key) {\n",
              "        const element = document.querySelector('#df-94dd97f7-b567-460b-90e3-df04cb1ebb1e');\n",
              "        const dataTable =\n",
              "          await google.colab.kernel.invokeFunction('convertToInteractive',\n",
              "                                                    [key], {});\n",
              "        if (!dataTable) return;\n",
              "\n",
              "        const docLinkHtml = 'Like what you see? Visit the ' +\n",
              "          '<a target=\"_blank\" href=https://colab.research.google.com/notebooks/data_table.ipynb>data table notebook</a>'\n",
              "          + ' to learn more about interactive tables.';\n",
              "        element.innerHTML = '';\n",
              "        dataTable['output_type'] = 'display_data';\n",
              "        await google.colab.output.renderOutput(dataTable, element);\n",
              "        const docLink = document.createElement('div');\n",
              "        docLink.innerHTML = docLinkHtml;\n",
              "        element.appendChild(docLink);\n",
              "      }\n",
              "    </script>\n",
              "  </div>\n",
              "\n",
              "\n",
              "<div id=\"df-f305ce48-b28d-48d7-8cf2-e5279a5b80b7\">\n",
              "  <button class=\"colab-df-quickchart\" onclick=\"quickchart('df-f305ce48-b28d-48d7-8cf2-e5279a5b80b7')\"\n",
              "            title=\"Suggest charts\"\n",
              "            style=\"display:none;\">\n",
              "\n",
              "<svg xmlns=\"http://www.w3.org/2000/svg\" height=\"24px\"viewBox=\"0 0 24 24\"\n",
              "     width=\"24px\">\n",
              "    <g>\n",
              "        <path d=\"M19 3H5c-1.1 0-2 .9-2 2v14c0 1.1.9 2 2 2h14c1.1 0 2-.9 2-2V5c0-1.1-.9-2-2-2zM9 17H7v-7h2v7zm4 0h-2V7h2v10zm4 0h-2v-4h2v4z\"/>\n",
              "    </g>\n",
              "</svg>\n",
              "  </button>\n",
              "\n",
              "<style>\n",
              "  .colab-df-quickchart {\n",
              "      --bg-color: #E8F0FE;\n",
              "      --fill-color: #1967D2;\n",
              "      --hover-bg-color: #E2EBFA;\n",
              "      --hover-fill-color: #174EA6;\n",
              "      --disabled-fill-color: #AAA;\n",
              "      --disabled-bg-color: #DDD;\n",
              "  }\n",
              "\n",
              "  [theme=dark] .colab-df-quickchart {\n",
              "      --bg-color: #3B4455;\n",
              "      --fill-color: #D2E3FC;\n",
              "      --hover-bg-color: #434B5C;\n",
              "      --hover-fill-color: #FFFFFF;\n",
              "      --disabled-bg-color: #3B4455;\n",
              "      --disabled-fill-color: #666;\n",
              "  }\n",
              "\n",
              "  .colab-df-quickchart {\n",
              "    background-color: var(--bg-color);\n",
              "    border: none;\n",
              "    border-radius: 50%;\n",
              "    cursor: pointer;\n",
              "    display: none;\n",
              "    fill: var(--fill-color);\n",
              "    height: 32px;\n",
              "    padding: 0;\n",
              "    width: 32px;\n",
              "  }\n",
              "\n",
              "  .colab-df-quickchart:hover {\n",
              "    background-color: var(--hover-bg-color);\n",
              "    box-shadow: 0 1px 2px rgba(60, 64, 67, 0.3), 0 1px 3px 1px rgba(60, 64, 67, 0.15);\n",
              "    fill: var(--button-hover-fill-color);\n",
              "  }\n",
              "\n",
              "  .colab-df-quickchart-complete:disabled,\n",
              "  .colab-df-quickchart-complete:disabled:hover {\n",
              "    background-color: var(--disabled-bg-color);\n",
              "    fill: var(--disabled-fill-color);\n",
              "    box-shadow: none;\n",
              "  }\n",
              "\n",
              "  .colab-df-spinner {\n",
              "    border: 2px solid var(--fill-color);\n",
              "    border-color: transparent;\n",
              "    border-bottom-color: var(--fill-color);\n",
              "    animation:\n",
              "      spin 1s steps(1) infinite;\n",
              "  }\n",
              "\n",
              "  @keyframes spin {\n",
              "    0% {\n",
              "      border-color: transparent;\n",
              "      border-bottom-color: var(--fill-color);\n",
              "      border-left-color: var(--fill-color);\n",
              "    }\n",
              "    20% {\n",
              "      border-color: transparent;\n",
              "      border-left-color: var(--fill-color);\n",
              "      border-top-color: var(--fill-color);\n",
              "    }\n",
              "    30% {\n",
              "      border-color: transparent;\n",
              "      border-left-color: var(--fill-color);\n",
              "      border-top-color: var(--fill-color);\n",
              "      border-right-color: var(--fill-color);\n",
              "    }\n",
              "    40% {\n",
              "      border-color: transparent;\n",
              "      border-right-color: var(--fill-color);\n",
              "      border-top-color: var(--fill-color);\n",
              "    }\n",
              "    60% {\n",
              "      border-color: transparent;\n",
              "      border-right-color: var(--fill-color);\n",
              "    }\n",
              "    80% {\n",
              "      border-color: transparent;\n",
              "      border-right-color: var(--fill-color);\n",
              "      border-bottom-color: var(--fill-color);\n",
              "    }\n",
              "    90% {\n",
              "      border-color: transparent;\n",
              "      border-bottom-color: var(--fill-color);\n",
              "    }\n",
              "  }\n",
              "</style>\n",
              "\n",
              "  <script>\n",
              "    async function quickchart(key) {\n",
              "      const quickchartButtonEl =\n",
              "        document.querySelector('#' + key + ' button');\n",
              "      quickchartButtonEl.disabled = true;  // To prevent multiple clicks.\n",
              "      quickchartButtonEl.classList.add('colab-df-spinner');\n",
              "      try {\n",
              "        const charts = await google.colab.kernel.invokeFunction(\n",
              "            'suggestCharts', [key], {});\n",
              "      } catch (error) {\n",
              "        console.error('Error during call to suggestCharts:', error);\n",
              "      }\n",
              "      quickchartButtonEl.classList.remove('colab-df-spinner');\n",
              "      quickchartButtonEl.classList.add('colab-df-quickchart-complete');\n",
              "    }\n",
              "    (() => {\n",
              "      let quickchartButtonEl =\n",
              "        document.querySelector('#df-f305ce48-b28d-48d7-8cf2-e5279a5b80b7 button');\n",
              "      quickchartButtonEl.style.display =\n",
              "        google.colab.kernel.accessAllowed ? 'block' : 'none';\n",
              "    })();\n",
              "  </script>\n",
              "</div>\n",
              "\n",
              "  <div id=\"id_635c991b-2875-42ba-b10b-3681ee38abe1\">\n",
              "    <style>\n",
              "      .colab-df-generate {\n",
              "        background-color: #E8F0FE;\n",
              "        border: none;\n",
              "        border-radius: 50%;\n",
              "        cursor: pointer;\n",
              "        display: none;\n",
              "        fill: #1967D2;\n",
              "        height: 32px;\n",
              "        padding: 0 0 0 0;\n",
              "        width: 32px;\n",
              "      }\n",
              "\n",
              "      .colab-df-generate:hover {\n",
              "        background-color: #E2EBFA;\n",
              "        box-shadow: 0px 1px 2px rgba(60, 64, 67, 0.3), 0px 1px 3px 1px rgba(60, 64, 67, 0.15);\n",
              "        fill: #174EA6;\n",
              "      }\n",
              "\n",
              "      [theme=dark] .colab-df-generate {\n",
              "        background-color: #3B4455;\n",
              "        fill: #D2E3FC;\n",
              "      }\n",
              "\n",
              "      [theme=dark] .colab-df-generate:hover {\n",
              "        background-color: #434B5C;\n",
              "        box-shadow: 0px 1px 3px 1px rgba(0, 0, 0, 0.15);\n",
              "        filter: drop-shadow(0px 1px 2px rgba(0, 0, 0, 0.3));\n",
              "        fill: #FFFFFF;\n",
              "      }\n",
              "    </style>\n",
              "    <button class=\"colab-df-generate\" onclick=\"generateWithVariable('df')\"\n",
              "            title=\"Generate code using this dataframe.\"\n",
              "            style=\"display:none;\">\n",
              "\n",
              "  <svg xmlns=\"http://www.w3.org/2000/svg\" height=\"24px\"viewBox=\"0 0 24 24\"\n",
              "       width=\"24px\">\n",
              "    <path d=\"M7,19H8.4L18.45,9,17,7.55,7,17.6ZM5,21V16.75L18.45,3.32a2,2,0,0,1,2.83,0l1.4,1.43a1.91,1.91,0,0,1,.58,1.4,1.91,1.91,0,0,1-.58,1.4L9.25,21ZM18.45,9,17,7.55Zm-12,3A5.31,5.31,0,0,0,4.9,8.1,5.31,5.31,0,0,0,1,6.5,5.31,5.31,0,0,0,4.9,4.9,5.31,5.31,0,0,0,6.5,1,5.31,5.31,0,0,0,8.1,4.9,5.31,5.31,0,0,0,12,6.5,5.46,5.46,0,0,0,6.5,12Z\"/>\n",
              "  </svg>\n",
              "    </button>\n",
              "    <script>\n",
              "      (() => {\n",
              "      const buttonEl =\n",
              "        document.querySelector('#id_635c991b-2875-42ba-b10b-3681ee38abe1 button.colab-df-generate');\n",
              "      buttonEl.style.display =\n",
              "        google.colab.kernel.accessAllowed ? 'block' : 'none';\n",
              "\n",
              "      buttonEl.onclick = () => {\n",
              "        google.colab.notebook.generateWithVariable('df');\n",
              "      }\n",
              "      })();\n",
              "    </script>\n",
              "  </div>\n",
              "\n",
              "    </div>\n",
              "  </div>\n"
            ],
            "application/vnd.google.colaboratory.intrinsic+json": {
              "type": "dataframe",
              "variable_name": "df",
              "summary": "{\n  \"name\": \"df\",\n  \"rows\": 500,\n  \"fields\": [\n    {\n      \"column\": \"place\",\n      \"properties\": {\n        \"dtype\": \"string\",\n        \"num_unique_values\": 500,\n        \"samples\": [\n          \"geoId/3825700\",\n          \"geoId/0643000\",\n          \"geoId/4052500\"\n        ],\n        \"semantic_type\": \"\",\n        \"description\": \"\"\n      }\n    },\n    {\n      \"column\": \"name\",\n      \"properties\": {\n        \"dtype\": \"string\",\n        \"num_unique_values\": 474,\n        \"samples\": [\n          \"Sugar Land\",\n          \"West Valley City\",\n          \"Gilbert\"\n        ],\n        \"semantic_type\": \"\",\n        \"description\": \"\"\n      }\n    },\n    {\n      \"column\": \"Percent_Person_Obesity\",\n      \"properties\": {\n        \"dtype\": \"number\",\n        \"std\": 6.044195997028968,\n        \"min\": 15.9,\n        \"max\": 52.3,\n        \"num_unique_values\": 213,\n        \"samples\": [\n          28.0,\n          35.6,\n          30.6\n        ],\n        \"semantic_type\": \"\",\n        \"description\": \"\"\n      }\n    },\n    {\n      \"column\": \"Count_Person\",\n      \"properties\": {\n        \"dtype\": \"number\",\n        \"std\": 482440,\n        \"min\": 44646,\n        \"max\": 8622467,\n        \"num_unique_values\": 500,\n        \"samples\": [\n          127319,\n          462293,\n          127701\n        ],\n        \"semantic_type\": \"\",\n        \"description\": \"\"\n      }\n    },\n    {\n      \"column\": \"Median_Income_Person\",\n      \"properties\": {\n        \"dtype\": \"number\",\n        \"std\": 11146,\n        \"min\": 16408,\n        \"max\": 96386,\n        \"num_unique_values\": 497,\n        \"samples\": [\n          63167,\n          36963,\n          29428\n        ],\n        \"semantic_type\": \"\",\n        \"description\": \"\"\n      }\n    }\n  ]\n}"
            }
          },
          "metadata": {}
        }
      ]
    },
    {
      "cell_type": "markdown",
      "metadata": {
        "id": "DT-o7kBc_Zvg"
      },
      "source": [
        "### (Optional) Saving Dataframes to CSVs\n",
        "If you'd like, you can save your generated Dataframe to a CSV to save and reload later.\n",
        "\n",
        "To do this, use [Pandas' `DataFrame.to_csv()` method](https://pandas.pydata.org/pandas-docs/stable/reference/api/pandas.DataFrame.to_csv.html).\n",
        "\n"
      ]
    },
    {
      "cell_type": "code",
      "metadata": {
        "id": "ZD79ZSap_ZDk"
      },
      "source": [
        "df.to_csv(\"path/to/save/location.csv\")"
      ],
      "execution_count": null,
      "outputs": []
    },
    {
      "cell_type": "markdown",
      "metadata": {
        "id": "zhG59DwqFr5R"
      },
      "source": [
        "There are also premade CSVs available for full download from the Data Commons website, which can be found on the [CSV Bulk Download page](https://docs.datacommons.org/csv_download.html.)"
      ]
    },
    {
      "cell_type": "markdown",
      "metadata": {
        "id": "K59a7Knm_LGx"
      },
      "source": [
        "## 4) Analayze Data Frame\n",
        "\n",
        "Now that you have a data frame, you are free to use your preferred data science libraries for analysis. The sky is the limit!\n",
        "\n",
        "To give you some ideas, we've provided some examples below of some analyses using data from Data Commons."
      ]
    },
    {
      "cell_type": "markdown",
      "metadata": {
        "id": "usXzzWkaCCaf"
      },
      "source": [
        "### Example 1: Correlation Plots\n",
        "Let's analyze how different statistical variables correlate with one another.\n",
        "\n",
        "In particular, using the CDC500 cohort set, let's look at the relationship between median income, physical inactivity, sleep, blood pressure, mental health, cholesterol, and obesity."
      ]
    },
    {
      "cell_type": "code",
      "metadata": {
        "id": "ppPamf-KZrXx"
      },
      "source": [
        "# libraries we'll use for the visualizations\n",
        "import matplotlib.pyplot as plt\n",
        "\n",
        "!pip install heatmapz --upgrade --quiet\n",
        "from heatmap import heatmap, corrplot"
      ],
      "execution_count": 10,
      "outputs": []
    },
    {
      "cell_type": "code",
      "metadata": {
        "colab": {
          "base_uri": "https://localhost:8080/",
          "height": 883
        },
        "id": "U0u-9rvdCFe_",
        "outputId": "d895eab8-40fc-4f74-80b1-8ad14909e449"
      },
      "source": [
        "# List of DCIDs\n",
        "# This is using the CDC500 CohortSet\n",
        "dcids = datacommons.get_property_values([\"CDC500_City\"], \"member\", limit=500)[\"CDC500_City\"]\n",
        "\n",
        "# List of StatVars\n",
        "stat_vars_to_query = [\n",
        "                      \"Median_Income_Person\",\n",
        "                      \"Percent_Person_PhysicalInactivity\",\n",
        "                      \"Percent_Person_SleepLessThan7Hours\",\n",
        "                      \"Percent_Person_WithHighBloodPressure\",\n",
        "                      \"Percent_Person_WithMentalHealthNotGood\",\n",
        "                      \"Percent_Person_WithHighCholesterol\",\n",
        "                      \"Percent_Person_Obesity\"\n",
        "\n",
        "]\n",
        "\n",
        "# Build Data Frame\n",
        "df = datacommons_pandas.build_multivariate_dataframe(dcids, stat_vars_to_query)\n",
        "\n",
        "# Generate a correlation matrix plot\n",
        "# We'll use the heatmapz package to draw a nice one.\n",
        "plt.figure(figsize=(8, 8))\n",
        "corrplot(df.corr(), size_scale=300);"
      ],
      "execution_count": 11,
      "outputs": [
        {
          "output_type": "display_data",
          "data": {
            "text/plain": [
              "<Figure size 800x800 with 2 Axes>"
            ],
            "image/png": "[encoded data removed]"
          },
          "metadata": {}
        }
      ]
    },
    {
      "cell_type": "markdown",
      "metadata": {
        "id": "prnF7AHpCGCz"
      },
      "source": [
        "### Example 2: Regression Analysis\n",
        "\n",
        "This time, we'll keep the scope of our analysis to counties in California. Let's analyze the relationship between population and Covid-19 case numbers."
      ]
    },
    {
      "cell_type": "code",
      "metadata": {
        "id": "xvpeIPjAbLxV"
      },
      "source": [
        "# libraries we'll use for models and the visualizations\n",
        "import matplotlib.pyplot as plt\n",
        "import seaborn as sns"
      ],
      "execution_count": 12,
      "outputs": []
    },
    {
      "cell_type": "code",
      "metadata": {
        "colab": {
          "base_uri": "https://localhost:8080/",
          "height": 523
        },
        "id": "rTD7eN7zCIl_",
        "outputId": "004ae6a8-ba04-4ead-840a-30769b356348"
      },
      "source": [
        "# List of DCIDs\n",
        "# This is all counties in California\n",
        "dcids = datacommons.get_places_in([\"geoId/06\"], \"County\")[\"geoId/06\"]\n",
        "\n",
        "# List of StatVars\n",
        "stat_vars_to_query = [\n",
        "                      \"Count_MortalityEvent_COVID19\",\n",
        "                      \"Count_Person\",\n",
        "\n",
        "]\n",
        "\n",
        "# Build Data Frame\n",
        "df = datacommons_pandas.build_multivariate_dataframe(dcids, stat_vars_to_query)\n",
        "\n",
        "sns.lmplot(x=\"Count_Person\",\n",
        "            y=\"Count_MortalityEvent_COVID19\",\n",
        "            data=df)"
      ],
      "execution_count": 13,
      "outputs": [
        {
          "output_type": "execute_result",
          "data": {
            "text/plain": [
              "<seaborn.axisgrid.FacetGrid at 0x7e4142f3f520>"
            ]
          },
          "metadata": {},
          "execution_count": 13
        },
        {
          "output_type": "display_data",
          "data": {
            "text/plain": [
              "<Figure size 500x500 with 1 Axes>"
            ],
            "image/png": "[encoded data removed]"
          },
          "metadata": {}
        }
      ]
    },
    {
      "cell_type": "markdown",
      "metadata": {
        "id": "_BfCeN5EHyKm"
      },
      "source": [
        "For more examples of using the Data Commons Python API, take a look at [the case studies page](https://docs.datacommons.org/tutorials/)\n"
      ]
    }
  ]
}
