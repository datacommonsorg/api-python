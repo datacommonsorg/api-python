{
  "nbformat": 4,
  "nbformat_minor": 0,
  "metadata": {
    "colab": {
      "name": "Data Commons For Data Science Tutorial.ipynb",
      "provenance": [],
      "collapsed_sections": [],
      "toc_visible": true,
      "include_colab_link": true
    },
    "kernelspec": {
      "name": "python3",
      "display_name": "Python 3"
    },
    "language_info": {
      "name": "python"
    }
  },
  "cells": [
    {
      "cell_type": "markdown",
      "metadata": {
        "id": "view-in-github",
        "colab_type": "text"
      },
      "source": [
        "<a href=\"https://colab.research.google.com/github/datacommonsorg/api-python/blob/master/notebooks/intro_data_science/Data_Commons_For_Data_Science_Tutorial.ipynb\" target=\"_parent\"><img src=\"https://colab.research.google.com/assets/colab-badge.svg\" alt=\"Open In Colab\"/></a>"
      ]
    },
    {
      "cell_type": "markdown",
      "source": [
        "Copyright 2022 Google LLC.\n",
        "SPDX-License-Identifier: Apache-2.0"
      ],
      "metadata": {
        "id": "zINqyQ-9HymG"
      }
    },
    {
      "cell_type": "markdown",
      "metadata": {
        "id": "xHtx1UaU5anm"
      },
      "source": [
        "# Tutorial: Data Science with the Data Commons API\n",
        "\n",
        "Welcome! This tutorial will introduce the core ideas and workflow you need to get started using Data Commons for data science applications. In particular, we will focus on introducing the Python and Pandas Data Commons APIs.\n",
        "\n",
        "This tutorial will cover:\n",
        "* The power of Data Commons\n",
        "* Key terminology\n",
        "* The standard workflow\n",
        "* Some examples to get you started"
      ]
    },
    {
      "cell_type": "markdown",
      "metadata": {
        "id": "HCqxWaPr5lI_"
      },
      "source": [
        "# Why Use Data Commons?\n",
        "\n",
        "There is a substantial amount of publically available data, but this data can be difficult to use. Although the data is open, using it to answer specific questions often involves tedious ‘foraging’ — finding the data, cleaning the data, reconciling different formats and schemas, figuring out how to merge data about the same entity from different sources, etc. This error prone and tedious process is repeated, once (or more) by each organization.\n",
        "\n",
        "Data Commons is an attempt to ameliorate some of this tedium by doing this once, on a large scale and providing cloud accessible APIs to the cleaned, normalized and joined data. Using the API, we can easily explore and analyze data across different datasets without the need for data cleaning or joining.\n",
        "\n",
        "**The Knowledge Graph**\n",
        "\n",
        "Data Commons provides an open knowledge repository that combines data from public datasets into one large knowledge-graph. For example, here are some statements contained in the graph:\n",
        "\n",
        "* [Santa Clara County](https://browser.datacommons.org/kg?dcid=geoId/06085) is contained in the [State of California](https://browser.datacommons.org/kg?dcid=geoId/06)\n",
        "* The latitude of [Berkeley, CA](https://browser.datacommons.org/kg?dcid=geoId/0606000) is 37.8703\n",
        "* [The population of Maryland](https://browser.datacommons.org/kg?dcid=dc/p/psjx4xy30nws1) was [6,003,435 in 2018](https://browser.datacommons.org/kg?dcid=dc%2Fo%2Fx1tlfg4ll9yr9).\n",
        "\n",
        "In the graph, [*entities*](https://en.wikipedia.org/wiki/Entity) like [Santa Clara County](https://browser.datacommons.org/kg?dcid=geoId/06085) are represented by nodes. Every node has a type corresponding to what the node represents. For example, [California](https://browser.datacommons.org/kg?dcid=geoId/06) is a [State](https://schema.org/State). *Relations* between entities are represented by edges between these nodes. For example, the statement \"Santa Clara County is contained in the State of California\" is represented in the graph as two nodes: \"Santa Clara County\" and \"California\" with an edge labeled \"[containedInPlace](https://schema.org/containedInPlace)\" pointing from Santa Clara to California. Data Commons closely follows the [Schema.org data model](https://schema.org/docs/datamodel.html) and leverages Schema.org schema to provide a common set of types and properties.\n",
        "\n",
        " \n",
        "\n",
        "\n",
        "\n"
      ]
    },
    {
      "cell_type": "markdown",
      "metadata": {
        "id": "XFFrbKYjCaUJ"
      },
      "source": [
        "# Useful Links\n",
        "\n",
        "Some useful references for Data Commons:\n",
        "\n",
        "* [Main API Documentation](https://docs.datacommons.org/api/)\n",
        "\n",
        "* [API Tutorials](https://docs.datacommons.org/tutorials/)\n",
        "\n",
        "* [Graph Browswer](https://datacommons.org/browser/) Tool for manually stepping through the knowledge graph\n",
        "\n",
        "And some nice visualization tools:\n",
        "\n",
        "* [Places Explorer](https://datacommons.org/place) Lots of plots and charts summarizing data available for particular places.\n",
        "\n",
        "* [Timelines Explorer](https://datacommons.org/tools/timeline) Explore how statistical variables change across time.\n",
        "\n",
        "* [Scatter Plot Explorer](https://datacommons.org/tools/scatter) Plot any two statistical variables against each other.\n",
        "\n",
        "* [Map Explorer](https://datacommons.org/tools/map) Explore how statistics vary across geographic regions (e.g. states or counties)"
      ]
    },
    {
      "cell_type": "markdown",
      "metadata": {
        "id": "X9udZsx36QBv"
      },
      "source": [
        "# Installing the Data Commons API\n",
        "The Data Commons API does not ship natively with most Python installations. Thus, we need to install the APIs manually. Install the Data Commons Python and Pandas APIs using [`pip`](https://pip.pypa.io/en/stable/). In this colab, you can do this by running the following lines of code:"
      ]
    },
    {
      "cell_type": "code",
      "metadata": {
        "colab": {
          "base_uri": "https://localhost:8080/"
        },
        "id": "dThSMUJ96vK2",
        "outputId": "d4b7109e-1c12-4c59-af45-5f03448fdc70"
      },
      "source": [
        "!pip install datacommons --upgrade --quiet\n",
        "!pip install datacommons_pandas --upgrade --quiet"
      ],
      "execution_count": null,
      "outputs": [
        {
          "output_type": "stream",
          "name": "stdout",
          "text": [
            "\u001b[K     |████████████████████████████████| 46 kB 2.3 MB/s \n",
            "\u001b[K     |████████████████████████████████| 45 kB 2.7 MB/s \n",
            "\u001b[?25h"
          ]
        }
      ]
    },
    {
      "cell_type": "markdown",
      "metadata": {
        "id": "Fpv4QKvV6xiw"
      },
      "source": [
        "If you want to run the Data Commons API locally on your own machine, first [make sure you have Python installed](https://wiki.python.org/moin/BeginnersGuide/Download). Then, copy/paste and run the following lines in your terminal or command-line.\n",
        "\n",
        "```\n",
        "pip install datacommons --upgrade\n",
        "pip install datacommons_pandas --upgrade\n",
        "```"
      ]
    },
    {
      "cell_type": "markdown",
      "metadata": {
        "id": "grdHeoqRerXN"
      },
      "source": [
        "# Importing the Data Commons API\n",
        "\n",
        "After installation, the Data Commons API can be imported using the lines of code below:"
      ]
    },
    {
      "cell_type": "code",
      "metadata": {
        "id": "hQdpQ9Xcey72"
      },
      "source": [
        "import datacommons\n",
        "import datacommons_pandas"
      ],
      "execution_count": null,
      "outputs": []
    },
    {
      "cell_type": "markdown",
      "metadata": {
        "id": "anVcVbI56PPy"
      },
      "source": [
        "# Terms You Should Know\n",
        "\n",
        "### DCIDs\n",
        "The **`dcid`** (Data Commons identifier) is a unique identifier assigned to each entity in the knowledge graph. With this identifier, you will be able to search for and query information on the given entity in ways that we will discuss later. \n",
        "\n",
        "\n",
        "### Statistical Variables (StatVars)\n",
        "A **statistical variable** is any type of metric, statistic, or measure that can be measured at a place and time. Examples include median income of persons older than 16, number of female high school graduates aged 18 to 24, unemployment rate, or percentage of persons with diabetes. Statistial variables are also represented as nodes in the knowledge graph, and have their own entries in the graph browser.\n"
      ]
    },
    {
      "cell_type": "markdown",
      "metadata": {
        "id": "Eqyi2wHO-0PZ"
      },
      "source": [
        "# General Workflow for Data Science Applications"
      ]
    },
    {
      "cell_type": "markdown",
      "metadata": {
        "id": "L_3FV74h-6sp"
      },
      "source": [
        "## 1) Get DCIDs of Interest\n",
        "The first thing we need is to set the scope of our analysis, by combining a list of DCIDs of all the entities we wish to analyze. There are a number of ways to do this.\n",
        "\n",
        "**Method A: Look for the DCIDs in the Graph Browser**\n",
        "\n",
        "The first method is just to look up the entities you are interested in using the [graph browser](https://datacommons.org/browser/), and manually compile a list of DCIDs. For example, if I were interested in looking at data available for the cities of [San Francisco](https://datacommons.org/browser/geoId/0667000), [Oakland](https://datacommons.org/browser/geoId/0653000), and [Los Angeles](https://datacommons.org/browser/geoId/0644000), I would look up their pages in the graph browser to find their dcids, end up with a list that looks something like this:"
      ]
    },
    {
      "cell_type": "code",
      "metadata": {
        "id": "xAqxWxzK5Ss8"
      },
      "source": [
        "dcids = [\"geoId/0667000\",  # San Francisco\n",
        "         \"geoId/065300\",   # Oakland\n",
        "         \"geoId/0644000\"]  # Los Angeles"
      ],
      "execution_count": null,
      "outputs": []
    },
    {
      "cell_type": "markdown",
      "metadata": {
        "id": "BOyYQa-7L9It"
      },
      "source": [
        "**Method B: Use `get_places_in()`**\n",
        "\n",
        "Oftentimes, we want to analyze a large cohort of places (e.g. \"all cities in California\", or \"all states in the US\"). Instead of finding the dcid for each location manually, we can use the `get_places_in()` method to query for dcids all at once.\n",
        "\n",
        "For more details on how the method works, take a look at [the documentation page for `get_places_in()`](https://docs.datacommons.org/api/python/place_in.html)\n",
        "\n",
        "For example, if I wanted the dcids for all counties in California, I would use the following lines of code:"
      ]
    },
    {
      "cell_type": "code",
      "metadata": {
        "id": "wSHXif8XOXuh"
      },
      "source": [
        "dcid_of_california = \"geoId/06\"\n",
        "dcids = datacommons.get_places_in([dcid_of_california], \"County\")[dcid_of_california]"
      ],
      "execution_count": null,
      "outputs": []
    },
    {
      "cell_type": "markdown",
      "metadata": {
        "id": "KJxC03jGPMfj"
      },
      "source": [
        "**Method C: Use a CohortSet**\n",
        "\n",
        "Data Commons also provides sets of pregrouped entities for convenience, which you can use. For example, the [CDC500](https://datacommons.org/browser/CDC500_City) CohortSet includes the CDC's list of the United States' 500 largest cities.\n",
        "\n",
        "For a full list of available CohortSets, take a look at the [Graph Browser page for CohortSet](https://datacommons.org/browser/CohortSet). Available CohortSets are listed under \"In Arcs\"\n",
        "\n",
        "To use the CDC500 CohortSet, we can use the code below:"
      ]
    },
    {
      "cell_type": "code",
      "metadata": {
        "id": "ORe_NiQQO37N"
      },
      "source": [
        "dcids = datacommons.get_property_values([\"CDC500_City\"],\n",
        "                                             \"member\",\n",
        "                                             limit=500)[\"CDC500_City\"]"
      ],
      "execution_count": null,
      "outputs": []
    },
    {
      "cell_type": "markdown",
      "metadata": {
        "id": "lwS4I5kZ_AgU"
      },
      "source": [
        "## 2) Get StatVars of Interest\n",
        "Similar to collecting a list of dcids, we also need a list of all the statistical variables we are interested in.\n",
        "\n",
        "A complete list of Statistical Variables can be found [here](https://docs.datacommons.org/statistical_variables.html). \n",
        "\n",
        "However, note that data for statistical variables may not be available for all places/entities. To check if a statistical variable is available for an entity, look at the bottom of the graph browser page for that entity for a list of the statistical variables available for that entity.\n",
        "\n",
        "Examples of some statistical variables are shown below:"
      ]
    },
    {
      "cell_type": "code",
      "metadata": {
        "id": "1b-Z3IEY_DpE"
      },
      "source": [
        "stat_vars_to_query = [\"CumulativeCount_MedicalTest_ConditionCOVID_19_Positive\",\n",
        "                      \"Count_Person\",\n",
        "                      \"Median_Income_Person\",\n",
        "                      \"Percent_Person_Obesity\",\n",
        "                      \"Amount_Emissions_CarbonDioxide_PerCapita\"\n",
        "                      ]"
      ],
      "execution_count": null,
      "outputs": []
    },
    {
      "cell_type": "markdown",
      "metadata": {
        "id": "bA9bMtel_D1f"
      },
      "source": [
        "## 3) Build Data Frame"
      ]
    },
    {
      "cell_type": "markdown",
      "metadata": {
        "id": "Q9VsI0veBNuQ"
      },
      "source": [
        "### Use Data Commons API\n",
        "\n",
        "Data Commons provides a `build_multivariate_dataframe()` method that returns data as a Pandas data frame.\n",
        "\n",
        "For more on how the method works, take a look at the [`build_multivariate_dataframe()` documentation page]()\n",
        "\n",
        "_Note:_ If data is not availabe for a particular StatVar and entity, the method will return NaN for that entry. If a StatVar is not available for any of the dcids, that column will be omitted."
      ]
    },
    {
      "cell_type": "code",
      "metadata": {
        "colab": {
          "base_uri": "https://localhost:8080/",
          "height": 450
        },
        "id": "Qvmu77TI_Kia",
        "outputId": "ded73938-4e73-484c-bfba-6fa93ec2d8da"
      },
      "source": [
        "df = datacommons_pandas.build_multivariate_dataframe(dcids,stat_vars_to_query)\n",
        "display(df)"
      ],
      "execution_count": null,
      "outputs": [
        {
          "output_type": "display_data",
          "data": {
            "text/html": [
              "<div>\n",
              "<style scoped>\n",
              "    .dataframe tbody tr th:only-of-type {\n",
              "        vertical-align: middle;\n",
              "    }\n",
              "\n",
              "    .dataframe tbody tr th {\n",
              "        vertical-align: top;\n",
              "    }\n",
              "\n",
              "    .dataframe thead th {\n",
              "        text-align: right;\n",
              "    }\n",
              "</style>\n",
              "<table border=\"1\" class=\"dataframe\">\n",
              "  <thead>\n",
              "    <tr style=\"text-align: right;\">\n",
              "      <th></th>\n",
              "      <th>Count_Person</th>\n",
              "      <th>Median_Income_Person</th>\n",
              "      <th>Percent_Person_Obesity</th>\n",
              "      <th>CumulativeCount_MedicalTest_ConditionCOVID_19_Positive</th>\n",
              "    </tr>\n",
              "    <tr>\n",
              "      <th>place</th>\n",
              "      <th></th>\n",
              "      <th></th>\n",
              "      <th></th>\n",
              "      <th></th>\n",
              "    </tr>\n",
              "  </thead>\n",
              "  <tbody>\n",
              "    <tr>\n",
              "      <th>geoId/0107000</th>\n",
              "      <td>200733</td>\n",
              "      <td>22646</td>\n",
              "      <td>42.0</td>\n",
              "      <td>NaN</td>\n",
              "    </tr>\n",
              "    <tr>\n",
              "      <th>geoId/0135896</th>\n",
              "      <td>92606</td>\n",
              "      <td>44843</td>\n",
              "      <td>28.4</td>\n",
              "      <td>NaN</td>\n",
              "    </tr>\n",
              "    <tr>\n",
              "      <th>geoId/0137000</th>\n",
              "      <td>215006</td>\n",
              "      <td>30079</td>\n",
              "      <td>36.2</td>\n",
              "      <td>NaN</td>\n",
              "    </tr>\n",
              "    <tr>\n",
              "      <th>geoId/0150000</th>\n",
              "      <td>187041</td>\n",
              "      <td>25083</td>\n",
              "      <td>38.2</td>\n",
              "      <td>NaN</td>\n",
              "    </tr>\n",
              "    <tr>\n",
              "      <th>geoId/0151000</th>\n",
              "      <td>200603</td>\n",
              "      <td>25725</td>\n",
              "      <td>39.0</td>\n",
              "      <td>NaN</td>\n",
              "    </tr>\n",
              "    <tr>\n",
              "      <th>...</th>\n",
              "      <td>...</td>\n",
              "      <td>...</td>\n",
              "      <td>...</td>\n",
              "      <td>...</td>\n",
              "    </tr>\n",
              "    <tr>\n",
              "      <th>geoId/5548000</th>\n",
              "      <td>269840</td>\n",
              "      <td>32949</td>\n",
              "      <td>27.5</td>\n",
              "      <td>NaN</td>\n",
              "    </tr>\n",
              "    <tr>\n",
              "      <th>geoId/5553000</th>\n",
              "      <td>577222</td>\n",
              "      <td>25266</td>\n",
              "      <td>36.2</td>\n",
              "      <td>NaN</td>\n",
              "    </tr>\n",
              "    <tr>\n",
              "      <th>geoId/5566000</th>\n",
              "      <td>77816</td>\n",
              "      <td>25366</td>\n",
              "      <td>40.2</td>\n",
              "      <td>NaN</td>\n",
              "    </tr>\n",
              "    <tr>\n",
              "      <th>geoId/5584250</th>\n",
              "      <td>71158</td>\n",
              "      <td>33972</td>\n",
              "      <td>31.5</td>\n",
              "      <td>NaN</td>\n",
              "    </tr>\n",
              "    <tr>\n",
              "      <th>geoId/5613900</th>\n",
              "      <td>65132</td>\n",
              "      <td>35481</td>\n",
              "      <td>29.4</td>\n",
              "      <td>NaN</td>\n",
              "    </tr>\n",
              "  </tbody>\n",
              "</table>\n",
              "<p>499 rows × 4 columns</p>\n",
              "</div>"
            ],
            "text/plain": [
              "               Count_Person  ...  CumulativeCount_MedicalTest_ConditionCOVID_19_Positive\n",
              "place                        ...                                                        \n",
              "geoId/0107000        200733  ...                                                NaN     \n",
              "geoId/0135896         92606  ...                                                NaN     \n",
              "geoId/0137000        215006  ...                                                NaN     \n",
              "geoId/0150000        187041  ...                                                NaN     \n",
              "geoId/0151000        200603  ...                                                NaN     \n",
              "...                     ...  ...                                                ...     \n",
              "geoId/5548000        269840  ...                                                NaN     \n",
              "geoId/5553000        577222  ...                                                NaN     \n",
              "geoId/5566000         77816  ...                                                NaN     \n",
              "geoId/5584250         71158  ...                                                NaN     \n",
              "geoId/5613900         65132  ...                                                NaN     \n",
              "\n",
              "[499 rows x 4 columns]"
            ]
          },
          "metadata": {}
        }
      ]
    },
    {
      "cell_type": "markdown",
      "metadata": {
        "id": "xza-1c15RZ-R"
      },
      "source": [
        "Further data cleaning or joining is usually not necessary, but you may choose to further process your data frame for better readability or to better suit your particular data science task. \n",
        "\n",
        "Because the Data Commons API returns a Pandas Dataframe, you are free to use any functions found in [Pandas' Documentation](https://pandas.pydata.org/docs/reference/frame.html) to edit your dataframe."
      ]
    },
    {
      "cell_type": "markdown",
      "metadata": {
        "id": "ALSTltgy_mzM"
      },
      "source": [
        "### (Optional) Make Row Names More Readable\n",
        "The dataframe returned indexes rows using DCIDs, but you can add a column of human readable names for better readability. The code below adds a column containing the human readable names corresponding to each dcid."
      ]
    },
    {
      "cell_type": "code",
      "metadata": {
        "colab": {
          "base_uri": "https://localhost:8080/",
          "height": 450
        },
        "id": "SioY7DRTAxi6",
        "outputId": "4cf347d4-f959-47d7-b88d-42bfb9d4be90"
      },
      "source": [
        "df.insert(0, 'name', df.index.map(datacommons.get_property_values(df.index, 'name')).str[0])\n",
        "display(df)"
      ],
      "execution_count": null,
      "outputs": [
        {
          "output_type": "display_data",
          "data": {
            "text/html": [
              "<div>\n",
              "<style scoped>\n",
              "    .dataframe tbody tr th:only-of-type {\n",
              "        vertical-align: middle;\n",
              "    }\n",
              "\n",
              "    .dataframe tbody tr th {\n",
              "        vertical-align: top;\n",
              "    }\n",
              "\n",
              "    .dataframe thead th {\n",
              "        text-align: right;\n",
              "    }\n",
              "</style>\n",
              "<table border=\"1\" class=\"dataframe\">\n",
              "  <thead>\n",
              "    <tr style=\"text-align: right;\">\n",
              "      <th></th>\n",
              "      <th>name</th>\n",
              "      <th>Count_Person</th>\n",
              "      <th>Median_Income_Person</th>\n",
              "      <th>Percent_Person_Obesity</th>\n",
              "      <th>CumulativeCount_MedicalTest_ConditionCOVID_19_Positive</th>\n",
              "    </tr>\n",
              "    <tr>\n",
              "      <th>place</th>\n",
              "      <th></th>\n",
              "      <th></th>\n",
              "      <th></th>\n",
              "      <th></th>\n",
              "      <th></th>\n",
              "    </tr>\n",
              "  </thead>\n",
              "  <tbody>\n",
              "    <tr>\n",
              "      <th>geoId/0107000</th>\n",
              "      <td>Birmingham</td>\n",
              "      <td>200733</td>\n",
              "      <td>22646</td>\n",
              "      <td>42.0</td>\n",
              "      <td>NaN</td>\n",
              "    </tr>\n",
              "    <tr>\n",
              "      <th>geoId/0135896</th>\n",
              "      <td>Hoover</td>\n",
              "      <td>92606</td>\n",
              "      <td>44843</td>\n",
              "      <td>28.4</td>\n",
              "      <td>NaN</td>\n",
              "    </tr>\n",
              "    <tr>\n",
              "      <th>geoId/0137000</th>\n",
              "      <td>Huntsville</td>\n",
              "      <td>215006</td>\n",
              "      <td>30079</td>\n",
              "      <td>36.2</td>\n",
              "      <td>NaN</td>\n",
              "    </tr>\n",
              "    <tr>\n",
              "      <th>geoId/0150000</th>\n",
              "      <td>Mobile</td>\n",
              "      <td>187041</td>\n",
              "      <td>25083</td>\n",
              "      <td>38.2</td>\n",
              "      <td>NaN</td>\n",
              "    </tr>\n",
              "    <tr>\n",
              "      <th>geoId/0151000</th>\n",
              "      <td>Montgomery</td>\n",
              "      <td>200603</td>\n",
              "      <td>25725</td>\n",
              "      <td>39.0</td>\n",
              "      <td>NaN</td>\n",
              "    </tr>\n",
              "    <tr>\n",
              "      <th>...</th>\n",
              "      <td>...</td>\n",
              "      <td>...</td>\n",
              "      <td>...</td>\n",
              "      <td>...</td>\n",
              "      <td>...</td>\n",
              "    </tr>\n",
              "    <tr>\n",
              "      <th>geoId/5548000</th>\n",
              "      <td>Madison</td>\n",
              "      <td>269840</td>\n",
              "      <td>32949</td>\n",
              "      <td>27.5</td>\n",
              "      <td>NaN</td>\n",
              "    </tr>\n",
              "    <tr>\n",
              "      <th>geoId/5553000</th>\n",
              "      <td>Milwaukee</td>\n",
              "      <td>577222</td>\n",
              "      <td>25266</td>\n",
              "      <td>36.2</td>\n",
              "      <td>NaN</td>\n",
              "    </tr>\n",
              "    <tr>\n",
              "      <th>geoId/5566000</th>\n",
              "      <td>Racine</td>\n",
              "      <td>77816</td>\n",
              "      <td>25366</td>\n",
              "      <td>40.2</td>\n",
              "      <td>NaN</td>\n",
              "    </tr>\n",
              "    <tr>\n",
              "      <th>geoId/5584250</th>\n",
              "      <td>Waukesha</td>\n",
              "      <td>71158</td>\n",
              "      <td>33972</td>\n",
              "      <td>31.5</td>\n",
              "      <td>NaN</td>\n",
              "    </tr>\n",
              "    <tr>\n",
              "      <th>geoId/5613900</th>\n",
              "      <td>Cheyenne</td>\n",
              "      <td>65132</td>\n",
              "      <td>35481</td>\n",
              "      <td>29.4</td>\n",
              "      <td>NaN</td>\n",
              "    </tr>\n",
              "  </tbody>\n",
              "</table>\n",
              "<p>499 rows × 5 columns</p>\n",
              "</div>"
            ],
            "text/plain": [
              "                     name  ...  CumulativeCount_MedicalTest_ConditionCOVID_19_Positive\n",
              "place                      ...                                                        \n",
              "geoId/0107000  Birmingham  ...                                                NaN     \n",
              "geoId/0135896      Hoover  ...                                                NaN     \n",
              "geoId/0137000  Huntsville  ...                                                NaN     \n",
              "geoId/0150000      Mobile  ...                                                NaN     \n",
              "geoId/0151000  Montgomery  ...                                                NaN     \n",
              "...                   ...  ...                                                ...     \n",
              "geoId/5548000     Madison  ...                                                NaN     \n",
              "geoId/5553000   Milwaukee  ...                                                NaN     \n",
              "geoId/5566000      Racine  ...                                                NaN     \n",
              "geoId/5584250    Waukesha  ...                                                NaN     \n",
              "geoId/5613900    Cheyenne  ...                                                NaN     \n",
              "\n",
              "[499 rows x 5 columns]"
            ]
          },
          "metadata": {}
        }
      ]
    },
    {
      "cell_type": "markdown",
      "metadata": {
        "id": "DT-o7kBc_Zvg"
      },
      "source": [
        "### (Optional) Saving Dataframes to CSVs\n",
        "If you'd like, you can save your generated Dataframe to a CSV to save and reload later.\n",
        "\n",
        "To do this, use [Pandas' `DataFrame.to_csv()` method](https://pandas.pydata.org/pandas-docs/stable/reference/api/pandas.DataFrame.to_csv.html).\n",
        "\n"
      ]
    },
    {
      "cell_type": "code",
      "metadata": {
        "id": "ZD79ZSap_ZDk"
      },
      "source": [
        "df.to_csv(\"path/to/save/location.csv\")"
      ],
      "execution_count": null,
      "outputs": []
    },
    {
      "cell_type": "markdown",
      "metadata": {
        "id": "zhG59DwqFr5R"
      },
      "source": [
        "There are also premade CSVs available for full download from the Data Commons website, which can be found on the [CSV Bulk Download page](https://docs.datacommons.org/csv_download.html.)"
      ]
    },
    {
      "cell_type": "markdown",
      "metadata": {
        "id": "K59a7Knm_LGx"
      },
      "source": [
        "## 4) Analayze Data Frame\n",
        "\n",
        "Now that you have a data frame, you are free to use your preferred data science libraries for analysis. The sky is the limit!\n",
        "\n",
        "To give you some ideas, we've provided some examples below of some analyses using data from Data Commons."
      ]
    },
    {
      "cell_type": "markdown",
      "metadata": {
        "id": "usXzzWkaCCaf"
      },
      "source": [
        "### Example 1: Correlation Plots\n",
        "Let's analyze how different statistical variables correlate with one another.\n",
        "\n",
        "In particular, using the CDC500 cohort set, let's look at the relationship between median income, physical inactivity, sleep, blood pressure, mental health, cholesterol, and obesity."
      ]
    },
    {
      "cell_type": "code",
      "metadata": {
        "id": "ppPamf-KZrXx"
      },
      "source": [
        "# libraries we'll use for the visualizations\n",
        "import matplotlib.pyplot as plt\n",
        "\n",
        "!pip install heatmapz\n",
        "from heatmap import heatmap, corrplot"
      ],
      "execution_count": null,
      "outputs": []
    },
    {
      "cell_type": "code",
      "metadata": {
        "colab": {
          "base_uri": "https://localhost:8080/",
          "height": 632
        },
        "id": "U0u-9rvdCFe_",
        "outputId": "b9eeb94c-bf1f-4869-bc64-7765c331dbc8"
      },
      "source": [
        "# List of DCIDs\n",
        "# This is using the CDC500 CohortSet\n",
        "dcids = datacommons.get_property_values([\"CDC500_City\"], \"member\", limit=500)[\"CDC500_City\"]\n",
        "\n",
        "# List of StatVars\n",
        "stat_vars_to_query = [\n",
        "                      \"Median_Income_Person\",\n",
        "                      \"Percent_Person_PhysicalInactivity\",\n",
        "                      \"Percent_Person_SleepLessThan7Hours\",\n",
        "                      \"Percent_Person_WithHighBloodPressure\",\n",
        "                      \"Percent_Person_WithMentalHealthNotGood\",\n",
        "                      \"Percent_Person_WithHighCholesterol\",\n",
        "                      \"Percent_Person_Obesity\"\n",
        "                      \n",
        "]\n",
        "\n",
        "# Build Data Frame\n",
        "df = datacommons_pandas.build_multivariate_dataframe(dcids, stat_vars_to_query)\n",
        "\n",
        "# Generate a correlation matrix plot\n",
        "# We'll use the heatmapz package to draw a nice one.\n",
        "plt.figure(figsize=(8, 8))\n",
        "corrplot(df.corr(), size_scale=300);"
      ],
      "execution_count": null,
      "outputs": [
        {
          "output_type": "display_data",
          "data": {
            "image/png": "[encoded data removed]",
            "text/plain": [
              "<Figure size 576x576 with 2 Axes>"
            ]
          },
          "metadata": {
            "needs_background": "light"
          }
        }
      ]
    },
    {
      "cell_type": "markdown",
      "metadata": {
        "id": "prnF7AHpCGCz"
      },
      "source": [
        "### Example 2: Regression Analysis\n",
        "\n",
        "This time, we'll keep the scope of our analysis to counties in California. Let's analyze the relationship between population and Covid-19 case numbers."
      ]
    },
    {
      "cell_type": "code",
      "metadata": {
        "id": "xvpeIPjAbLxV"
      },
      "source": [
        "# libraries we'll use for models and the visualizations\n",
        "import matplotlib.pyplot as plt\n",
        "import seaborn as sns"
      ],
      "execution_count": null,
      "outputs": []
    },
    {
      "cell_type": "code",
      "metadata": {
        "colab": {
          "base_uri": "https://localhost:8080/",
          "height": 386
        },
        "id": "rTD7eN7zCIl_",
        "outputId": "7e91290a-dd2a-48b7-d57b-a7d16ab09f52"
      },
      "source": [
        "# List of DCIDs\n",
        "# This is all counties in California\n",
        "dcids = datacommons.get_places_in([\"geoId/06\"], \"County\")[\"geoId/06\"]\n",
        "\n",
        "# List of StatVars\n",
        "stat_vars_to_query = [\n",
        "                      \"CumulativeCount_MedicalTest_ConditionCOVID_19_Positive\",\n",
        "                      \"Count_Person\",\n",
        "                      \n",
        "]\n",
        "\n",
        "# Build Data Frame\n",
        "df = datacommons_pandas.build_multivariate_dataframe(dcids, stat_vars_to_query)\n",
        "\n",
        "sns.lmplot(x=\"Count_Person\",\n",
        "            y=\"CumulativeCount_MedicalTest_ConditionCOVID_19_Positive\",\n",
        "            data=df)"
      ],
      "execution_count": null,
      "outputs": [
        {
          "output_type": "execute_result",
          "data": {
            "text/plain": [
              "<seaborn.axisgrid.FacetGrid at 0x7f6a10f55590>"
            ]
          },
          "metadata": {},
          "execution_count": 24
        },
        {
          "output_type": "display_data",
          "data": {
            "image/png": "[encoded data removed]",
            "text/plain": [
              "<Figure size 360x360 with 1 Axes>"
            ]
          },
          "metadata": {
            "needs_background": "light"
          }
        }
      ]
    },
    {
      "cell_type": "markdown",
      "metadata": {
        "id": "_BfCeN5EHyKm"
      },
      "source": [
        "For more examples of using the Data Commons Python API, take a look at [the case studies page](https://docs.datacommons.org/tutorials/)\n"
      ]
    }
  ]
}